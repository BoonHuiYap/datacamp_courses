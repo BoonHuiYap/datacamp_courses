{
 "cells": [
  {
   "cell_type": "markdown",
   "metadata": {},
   "source": [
    "# Interavtive Data Visualization with Bokeh\n",
    "- William Surles\n",
    "- 2017-11-14\n",
    "- Datacamp class\n",
    "- [https://www.datacamp.com/courses/interactive-data-visualization-with-bokeh](https://www.datacamp.com/courses/interactive-data-visualization-with-bokeh)"
   ]
  },
  {
   "cell_type": "markdown",
   "metadata": {},
   "source": [
    "## Whats Covered"
   ]
  },
  {
   "cell_type": "markdown",
   "metadata": {},
   "source": [
    "- Basic Plotting with Bokeh\n",
    " - Plotting with glyphs\n",
    " - Additional glyphs\n",
    " - Data formats\n",
    " - Customizing glyphs\n",
    "- Layouts, Interactions, and Annotations\n",
    " - Introduction to layouts\n",
    " - Advanced layouts\n",
    " - Linking plots together\n",
    " - Annotations and guides\n",
    "- Building interactive apps with Bokeh\n",
    " - Introducing the Bokeh Server\n",
    " - Connecting sliders to plots\n",
    " - Updating plots from dropdowns\n",
    " - Buttons\n",
    " - Hosting applications for wider audiences\n",
    "- Putting it all together! A case study\n",
    " - Time to put it all together!\n",
    " - Starting the app\n",
    " - Adding more interactivity to the app\n",
    " - Congratulations!"
   ]
  },
  {
   "cell_type": "markdown",
   "metadata": {},
   "source": [
    "## Additonal Resources"
   ]
  },
  {
   "cell_type": "markdown",
   "metadata": {},
   "source": [
    "- General Documentation\n",
    " - [bokeh.io reference guide](https://bokeh.pydata.org/en/latest/docs/reference/io.html)\n",
    "- Markers and glyphs\n",
    " - [bokeh markers](http://bokeh.pydata.org/en/latest/docs/gallery/markers.html)\n",
    " - [Plotting with basic glyphs](https://bokeh.pydata.org/en/latest/docs/user_guide/plotting.html#)\n",
    " - [full list of glyphs](https://bokeh.pydata.org/en/latest/docs/reference/models/glyphs.html)"
   ]
  },
  {
   "cell_type": "markdown",
   "metadata": {},
   "source": [
    "## Libraries and Data"
   ]
  },
  {
   "cell_type": "code",
   "execution_count": 56,
   "metadata": {
    "collapsed": true
   },
   "outputs": [],
   "source": [
    "import pandas as pd\n",
    "import numpy as np\n",
    "from bokeh.io import output_notebook\n",
    "from bokeh.plotting import figure, show\n",
    "from bokeh.models import HoverTool"
   ]
  },
  {
   "cell_type": "markdown",
   "metadata": {},
   "source": [
    "# Basic Plotting with Bokeh"
   ]
  },
  {
   "cell_type": "markdown",
   "metadata": {},
   "source": [
    "## Plotting with glyphs"
   ]
  },
  {
   "cell_type": "markdown",
   "metadata": {},
   "source": [
    "#### What are Glyphs\n",
    "- Visual shapes\n",
    " - circles, squares, triangles\n",
    " - rectangles, lines, wedges\n",
    "- With properties attached to data\n",
    " - coordinates (x,y)\n",
    " - size, color, transparency"
   ]
  },
  {
   "cell_type": "markdown",
   "metadata": {},
   "source": [
    "#### Typical usage\n",
    " - Its common to use output_file to print out these charts as html files tobe viewed in a browser\n",
    " - or to use output_notebook to put them inline in a notebook"
   ]
  },
  {
   "cell_type": "code",
   "execution_count": 2,
   "metadata": {},
   "outputs": [
    {
     "data": {
      "text/html": [
       "\n",
       "    <div class=\"bk-root\">\n",
       "        <a href=\"https://bokeh.pydata.org\" target=\"_blank\" class=\"bk-logo bk-logo-small bk-logo-notebook\"></a>\n",
       "        <span id=\"7009f73f-70b2-42f4-9921-8cc150c1ba81\">Loading BokehJS ...</span>\n",
       "    </div>"
      ]
     },
     "metadata": {},
     "output_type": "display_data"
    },
    {
     "data": {
      "application/javascript": [
       "\n",
       "(function(root) {\n",
       "  function now() {\n",
       "    return new Date();\n",
       "  }\n",
       "\n",
       "  var force = true;\n",
       "\n",
       "  if (typeof (root._bokeh_onload_callbacks) === \"undefined\" || force === true) {\n",
       "    root._bokeh_onload_callbacks = [];\n",
       "    root._bokeh_is_loading = undefined;\n",
       "  }\n",
       "\n",
       "  var JS_MIME_TYPE = 'application/javascript';\n",
       "  var HTML_MIME_TYPE = 'text/html';\n",
       "  var EXEC_MIME_TYPE = 'application/vnd.bokehjs_exec.v0+json';\n",
       "  var CLASS_NAME = 'output_bokeh rendered_html';\n",
       "\n",
       "  /**\n",
       "   * Render data to the DOM node\n",
       "   */\n",
       "  function render(props, node) {\n",
       "    var script = document.createElement(\"script\");\n",
       "    node.appendChild(script);\n",
       "  }\n",
       "\n",
       "  /**\n",
       "   * Handle when an output is cleared or removed\n",
       "   */\n",
       "  function handleClearOutput(event, handle) {\n",
       "    var cell = handle.cell;\n",
       "\n",
       "    var id = cell.output_area._bokeh_element_id;\n",
       "    var server_id = cell.output_area._bokeh_server_id;\n",
       "    // Clean up Bokeh references\n",
       "    if (id !== undefined) {\n",
       "      Bokeh.index[id].model.document.clear();\n",
       "      delete Bokeh.index[id];\n",
       "    }\n",
       "\n",
       "    if (server_id !== undefined) {\n",
       "      // Clean up Bokeh references\n",
       "      var cmd = \"from bokeh.io.state import curstate; print(curstate().uuid_to_server['\" + server_id + \"'].get_sessions()[0].document.roots[0]._id)\";\n",
       "      cell.notebook.kernel.execute(cmd, {\n",
       "        iopub: {\n",
       "          output: function(msg) {\n",
       "            var element_id = msg.content.text.trim();\n",
       "            Bokeh.index[element_id].model.document.clear();\n",
       "            delete Bokeh.index[element_id];\n",
       "          }\n",
       "        }\n",
       "      });\n",
       "      // Destroy server and session\n",
       "      var cmd = \"import bokeh.io.notebook as ion; ion.destroy_server('\" + server_id + \"')\";\n",
       "      cell.notebook.kernel.execute(cmd);\n",
       "    }\n",
       "  }\n",
       "\n",
       "  /**\n",
       "   * Handle when a new output is added\n",
       "   */\n",
       "  function handleAddOutput(event, handle) {\n",
       "    var output_area = handle.output_area;\n",
       "    var output = handle.output;\n",
       "\n",
       "    // limit handleAddOutput to display_data with EXEC_MIME_TYPE content only\n",
       "    if ((output.output_type != \"display_data\") || (!output.data.hasOwnProperty(EXEC_MIME_TYPE))) {\n",
       "      return\n",
       "    }\n",
       "\n",
       "    var toinsert = output_area.element.find(`.${CLASS_NAME.split(' ')[0]}`);\n",
       "\n",
       "    if (output.metadata[EXEC_MIME_TYPE][\"id\"] !== undefined) {\n",
       "      toinsert[0].firstChild.textContent = output.data[JS_MIME_TYPE];\n",
       "      // store reference to embed id on output_area\n",
       "      output_area._bokeh_element_id = output.metadata[EXEC_MIME_TYPE][\"id\"];\n",
       "    }\n",
       "    if (output.metadata[EXEC_MIME_TYPE][\"server_id\"] !== undefined) {\n",
       "      var bk_div = document.createElement(\"div\");\n",
       "      bk_div.innerHTML = output.data[HTML_MIME_TYPE];\n",
       "      var script_attrs = bk_div.children[0].attributes;\n",
       "      for (var i = 0; i < script_attrs.length; i++) {\n",
       "        toinsert[0].firstChild.setAttribute(script_attrs[i].name, script_attrs[i].value);\n",
       "      }\n",
       "      // store reference to server id on output_area\n",
       "      output_area._bokeh_server_id = output.metadata[EXEC_MIME_TYPE][\"server_id\"];\n",
       "    }\n",
       "  }\n",
       "\n",
       "  function register_renderer(events, OutputArea) {\n",
       "\n",
       "    function append_mime(data, metadata, element) {\n",
       "      // create a DOM node to render to\n",
       "      var toinsert = this.create_output_subarea(\n",
       "        metadata,\n",
       "        CLASS_NAME,\n",
       "        EXEC_MIME_TYPE\n",
       "      );\n",
       "      this.keyboard_manager.register_events(toinsert);\n",
       "      // Render to node\n",
       "      var props = {data: data, metadata: metadata[EXEC_MIME_TYPE]};\n",
       "      render(props, toinsert[0]);\n",
       "      element.append(toinsert);\n",
       "      return toinsert\n",
       "    }\n",
       "\n",
       "    /* Handle when an output is cleared or removed */\n",
       "    events.on('clear_output.CodeCell', handleClearOutput);\n",
       "    events.on('delete.Cell', handleClearOutput);\n",
       "\n",
       "    /* Handle when a new output is added */\n",
       "    events.on('output_added.OutputArea', handleAddOutput);\n",
       "\n",
       "    /**\n",
       "     * Register the mime type and append_mime function with output_area\n",
       "     */\n",
       "    OutputArea.prototype.register_mime_type(EXEC_MIME_TYPE, append_mime, {\n",
       "      /* Is output safe? */\n",
       "      safe: true,\n",
       "      /* Index of renderer in `output_area.display_order` */\n",
       "      index: 0\n",
       "    });\n",
       "  }\n",
       "\n",
       "  // register the mime type if in Jupyter Notebook environment and previously unregistered\n",
       "  if (root.Jupyter !== undefined) {\n",
       "    var events = require('base/js/events');\n",
       "    var OutputArea = require('notebook/js/outputarea').OutputArea;\n",
       "\n",
       "    if (OutputArea.prototype.mime_types().indexOf(EXEC_MIME_TYPE) == -1) {\n",
       "      register_renderer(events, OutputArea);\n",
       "    }\n",
       "  }\n",
       "\n",
       "  \n",
       "  if (typeof (root._bokeh_timeout) === \"undefined\" || force === true) {\n",
       "    root._bokeh_timeout = Date.now() + 5000;\n",
       "    root._bokeh_failed_load = false;\n",
       "  }\n",
       "\n",
       "  var NB_LOAD_WARNING = {'data': {'text/html':\n",
       "     \"<div style='background-color: #fdd'>\\n\"+\n",
       "     \"<p>\\n\"+\n",
       "     \"BokehJS does not appear to have successfully loaded. If loading BokehJS from CDN, this \\n\"+\n",
       "     \"may be due to a slow or bad network connection. Possible fixes:\\n\"+\n",
       "     \"</p>\\n\"+\n",
       "     \"<ul>\\n\"+\n",
       "     \"<li>re-rerun `output_notebook()` to attempt to load from CDN again, or</li>\\n\"+\n",
       "     \"<li>use INLINE resources instead, as so:</li>\\n\"+\n",
       "     \"</ul>\\n\"+\n",
       "     \"<code>\\n\"+\n",
       "     \"from bokeh.resources import INLINE\\n\"+\n",
       "     \"output_notebook(resources=INLINE)\\n\"+\n",
       "     \"</code>\\n\"+\n",
       "     \"</div>\"}};\n",
       "\n",
       "  function display_loaded() {\n",
       "    var el = document.getElementById(\"7009f73f-70b2-42f4-9921-8cc150c1ba81\");\n",
       "    if (el != null) {\n",
       "      el.textContent = \"BokehJS is loading...\";\n",
       "    }\n",
       "    if (root.Bokeh !== undefined) {\n",
       "      if (el != null) {\n",
       "        el.textContent = \"BokehJS \" + root.Bokeh.version + \" successfully loaded.\";\n",
       "      }\n",
       "    } else if (Date.now() < root._bokeh_timeout) {\n",
       "      setTimeout(display_loaded, 100)\n",
       "    }\n",
       "  }\n",
       "\n",
       "\n",
       "  function run_callbacks() {\n",
       "    try {\n",
       "      root._bokeh_onload_callbacks.forEach(function(callback) { callback() });\n",
       "    }\n",
       "    finally {\n",
       "      delete root._bokeh_onload_callbacks\n",
       "    }\n",
       "    console.info(\"Bokeh: all callbacks have finished\");\n",
       "  }\n",
       "\n",
       "  function load_libs(js_urls, callback) {\n",
       "    root._bokeh_onload_callbacks.push(callback);\n",
       "    if (root._bokeh_is_loading > 0) {\n",
       "      console.log(\"Bokeh: BokehJS is being loaded, scheduling callback at\", now());\n",
       "      return null;\n",
       "    }\n",
       "    if (js_urls == null || js_urls.length === 0) {\n",
       "      run_callbacks();\n",
       "      return null;\n",
       "    }\n",
       "    console.log(\"Bokeh: BokehJS not loaded, scheduling load and callback at\", now());\n",
       "    root._bokeh_is_loading = js_urls.length;\n",
       "    for (var i = 0; i < js_urls.length; i++) {\n",
       "      var url = js_urls[i];\n",
       "      var s = document.createElement('script');\n",
       "      s.src = url;\n",
       "      s.async = false;\n",
       "      s.onreadystatechange = s.onload = function() {\n",
       "        root._bokeh_is_loading--;\n",
       "        if (root._bokeh_is_loading === 0) {\n",
       "          console.log(\"Bokeh: all BokehJS libraries loaded\");\n",
       "          run_callbacks()\n",
       "        }\n",
       "      };\n",
       "      s.onerror = function() {\n",
       "        console.warn(\"failed to load library \" + url);\n",
       "      };\n",
       "      console.log(\"Bokeh: injecting script tag for BokehJS library: \", url);\n",
       "      document.getElementsByTagName(\"head\")[0].appendChild(s);\n",
       "    }\n",
       "  };var element = document.getElementById(\"7009f73f-70b2-42f4-9921-8cc150c1ba81\");\n",
       "  if (element == null) {\n",
       "    console.log(\"Bokeh: ERROR: autoload.js configured with elementid '7009f73f-70b2-42f4-9921-8cc150c1ba81' but no matching script tag was found. \")\n",
       "    return false;\n",
       "  }\n",
       "\n",
       "  var js_urls = [\"https://cdn.pydata.org/bokeh/release/bokeh-0.12.10.min.js\", \"https://cdn.pydata.org/bokeh/release/bokeh-widgets-0.12.10.min.js\", \"https://cdn.pydata.org/bokeh/release/bokeh-tables-0.12.10.min.js\", \"https://cdn.pydata.org/bokeh/release/bokeh-gl-0.12.10.min.js\"];\n",
       "\n",
       "  var inline_js = [\n",
       "    function(Bokeh) {\n",
       "      Bokeh.set_log_level(\"info\");\n",
       "    },\n",
       "    \n",
       "    function(Bokeh) {\n",
       "      \n",
       "    },\n",
       "    function(Bokeh) {\n",
       "      console.log(\"Bokeh: injecting CSS: https://cdn.pydata.org/bokeh/release/bokeh-0.12.10.min.css\");\n",
       "      Bokeh.embed.inject_css(\"https://cdn.pydata.org/bokeh/release/bokeh-0.12.10.min.css\");\n",
       "      console.log(\"Bokeh: injecting CSS: https://cdn.pydata.org/bokeh/release/bokeh-widgets-0.12.10.min.css\");\n",
       "      Bokeh.embed.inject_css(\"https://cdn.pydata.org/bokeh/release/bokeh-widgets-0.12.10.min.css\");\n",
       "      console.log(\"Bokeh: injecting CSS: https://cdn.pydata.org/bokeh/release/bokeh-tables-0.12.10.min.css\");\n",
       "      Bokeh.embed.inject_css(\"https://cdn.pydata.org/bokeh/release/bokeh-tables-0.12.10.min.css\");\n",
       "    }\n",
       "  ];\n",
       "\n",
       "  function run_inline_js() {\n",
       "    \n",
       "    if ((root.Bokeh !== undefined) || (force === true)) {\n",
       "      for (var i = 0; i < inline_js.length; i++) {\n",
       "        inline_js[i].call(root, root.Bokeh);\n",
       "      }if (force === true) {\n",
       "        display_loaded();\n",
       "      }} else if (Date.now() < root._bokeh_timeout) {\n",
       "      setTimeout(run_inline_js, 100);\n",
       "    } else if (!root._bokeh_failed_load) {\n",
       "      console.log(\"Bokeh: BokehJS failed to load within specified timeout.\");\n",
       "      root._bokeh_failed_load = true;\n",
       "    } else if (force !== true) {\n",
       "      var cell = $(document.getElementById(\"7009f73f-70b2-42f4-9921-8cc150c1ba81\")).parents('.cell').data().cell;\n",
       "      cell.output_area.append_execute_result(NB_LOAD_WARNING)\n",
       "    }\n",
       "\n",
       "  }\n",
       "\n",
       "  if (root._bokeh_is_loading === 0) {\n",
       "    console.log(\"Bokeh: BokehJS loaded, going straight to plotting\");\n",
       "    run_inline_js();\n",
       "  } else {\n",
       "    load_libs(js_urls, function() {\n",
       "      console.log(\"Bokeh: BokehJS plotting callback run at\", now());\n",
       "      run_inline_js();\n",
       "    });\n",
       "  }\n",
       "}(window));"
      ],
      "application/vnd.bokehjs_load.v0+json": "\n(function(root) {\n  function now() {\n    return new Date();\n  }\n\n  var force = true;\n\n  if (typeof (root._bokeh_onload_callbacks) === \"undefined\" || force === true) {\n    root._bokeh_onload_callbacks = [];\n    root._bokeh_is_loading = undefined;\n  }\n\n  \n\n  \n  if (typeof (root._bokeh_timeout) === \"undefined\" || force === true) {\n    root._bokeh_timeout = Date.now() + 5000;\n    root._bokeh_failed_load = false;\n  }\n\n  var NB_LOAD_WARNING = {'data': {'text/html':\n     \"<div style='background-color: #fdd'>\\n\"+\n     \"<p>\\n\"+\n     \"BokehJS does not appear to have successfully loaded. If loading BokehJS from CDN, this \\n\"+\n     \"may be due to a slow or bad network connection. Possible fixes:\\n\"+\n     \"</p>\\n\"+\n     \"<ul>\\n\"+\n     \"<li>re-rerun `output_notebook()` to attempt to load from CDN again, or</li>\\n\"+\n     \"<li>use INLINE resources instead, as so:</li>\\n\"+\n     \"</ul>\\n\"+\n     \"<code>\\n\"+\n     \"from bokeh.resources import INLINE\\n\"+\n     \"output_notebook(resources=INLINE)\\n\"+\n     \"</code>\\n\"+\n     \"</div>\"}};\n\n  function display_loaded() {\n    var el = document.getElementById(\"7009f73f-70b2-42f4-9921-8cc150c1ba81\");\n    if (el != null) {\n      el.textContent = \"BokehJS is loading...\";\n    }\n    if (root.Bokeh !== undefined) {\n      if (el != null) {\n        el.textContent = \"BokehJS \" + root.Bokeh.version + \" successfully loaded.\";\n      }\n    } else if (Date.now() < root._bokeh_timeout) {\n      setTimeout(display_loaded, 100)\n    }\n  }\n\n\n  function run_callbacks() {\n    try {\n      root._bokeh_onload_callbacks.forEach(function(callback) { callback() });\n    }\n    finally {\n      delete root._bokeh_onload_callbacks\n    }\n    console.info(\"Bokeh: all callbacks have finished\");\n  }\n\n  function load_libs(js_urls, callback) {\n    root._bokeh_onload_callbacks.push(callback);\n    if (root._bokeh_is_loading > 0) {\n      console.log(\"Bokeh: BokehJS is being loaded, scheduling callback at\", now());\n      return null;\n    }\n    if (js_urls == null || js_urls.length === 0) {\n      run_callbacks();\n      return null;\n    }\n    console.log(\"Bokeh: BokehJS not loaded, scheduling load and callback at\", now());\n    root._bokeh_is_loading = js_urls.length;\n    for (var i = 0; i < js_urls.length; i++) {\n      var url = js_urls[i];\n      var s = document.createElement('script');\n      s.src = url;\n      s.async = false;\n      s.onreadystatechange = s.onload = function() {\n        root._bokeh_is_loading--;\n        if (root._bokeh_is_loading === 0) {\n          console.log(\"Bokeh: all BokehJS libraries loaded\");\n          run_callbacks()\n        }\n      };\n      s.onerror = function() {\n        console.warn(\"failed to load library \" + url);\n      };\n      console.log(\"Bokeh: injecting script tag for BokehJS library: \", url);\n      document.getElementsByTagName(\"head\")[0].appendChild(s);\n    }\n  };var element = document.getElementById(\"7009f73f-70b2-42f4-9921-8cc150c1ba81\");\n  if (element == null) {\n    console.log(\"Bokeh: ERROR: autoload.js configured with elementid '7009f73f-70b2-42f4-9921-8cc150c1ba81' but no matching script tag was found. \")\n    return false;\n  }\n\n  var js_urls = [\"https://cdn.pydata.org/bokeh/release/bokeh-0.12.10.min.js\", \"https://cdn.pydata.org/bokeh/release/bokeh-widgets-0.12.10.min.js\", \"https://cdn.pydata.org/bokeh/release/bokeh-tables-0.12.10.min.js\", \"https://cdn.pydata.org/bokeh/release/bokeh-gl-0.12.10.min.js\"];\n\n  var inline_js = [\n    function(Bokeh) {\n      Bokeh.set_log_level(\"info\");\n    },\n    \n    function(Bokeh) {\n      \n    },\n    function(Bokeh) {\n      console.log(\"Bokeh: injecting CSS: https://cdn.pydata.org/bokeh/release/bokeh-0.12.10.min.css\");\n      Bokeh.embed.inject_css(\"https://cdn.pydata.org/bokeh/release/bokeh-0.12.10.min.css\");\n      console.log(\"Bokeh: injecting CSS: https://cdn.pydata.org/bokeh/release/bokeh-widgets-0.12.10.min.css\");\n      Bokeh.embed.inject_css(\"https://cdn.pydata.org/bokeh/release/bokeh-widgets-0.12.10.min.css\");\n      console.log(\"Bokeh: injecting CSS: https://cdn.pydata.org/bokeh/release/bokeh-tables-0.12.10.min.css\");\n      Bokeh.embed.inject_css(\"https://cdn.pydata.org/bokeh/release/bokeh-tables-0.12.10.min.css\");\n    }\n  ];\n\n  function run_inline_js() {\n    \n    if ((root.Bokeh !== undefined) || (force === true)) {\n      for (var i = 0; i < inline_js.length; i++) {\n        inline_js[i].call(root, root.Bokeh);\n      }if (force === true) {\n        display_loaded();\n      }} else if (Date.now() < root._bokeh_timeout) {\n      setTimeout(run_inline_js, 100);\n    } else if (!root._bokeh_failed_load) {\n      console.log(\"Bokeh: BokehJS failed to load within specified timeout.\");\n      root._bokeh_failed_load = true;\n    } else if (force !== true) {\n      var cell = $(document.getElementById(\"7009f73f-70b2-42f4-9921-8cc150c1ba81\")).parents('.cell').data().cell;\n      cell.output_area.append_execute_result(NB_LOAD_WARNING)\n    }\n\n  }\n\n  if (root._bokeh_is_loading === 0) {\n    console.log(\"Bokeh: BokehJS loaded, going straight to plotting\");\n    run_inline_js();\n  } else {\n    load_libs(js_urls, function() {\n      console.log(\"Bokeh: BokehJS plotting callback run at\", now());\n      run_inline_js();\n    });\n  }\n}(window));"
     },
     "metadata": {},
     "output_type": "display_data"
    }
   ],
   "source": [
    "output_notebook()"
   ]
  },
  {
   "cell_type": "code",
   "execution_count": 4,
   "metadata": {},
   "outputs": [
    {
     "data": {
      "text/html": [
       "\n",
       "<div class=\"bk-root\">\n",
       "    <div class=\"bk-plotdiv\" id=\"5598b23d-5bdc-4925-af84-dd6a6a4ff617\"></div>\n",
       "</div>"
      ]
     },
     "metadata": {},
     "output_type": "display_data"
    },
    {
     "data": {
      "application/javascript": [
       "(function(root) {\n",
       "  function embed_document(root) {\n",
       "    var docs_json = {\"7fc0a076-3911-46c5-b2d9-fb4f4d00d766\":{\"roots\":{\"references\":[{\"attributes\":{\"bottom_units\":\"screen\",\"fill_alpha\":{\"value\":0.5},\"fill_color\":{\"value\":\"lightgrey\"},\"left_units\":\"screen\",\"level\":\"overlay\",\"line_alpha\":{\"value\":1.0},\"line_color\":{\"value\":\"black\"},\"line_dash\":[4,4],\"line_width\":{\"value\":2},\"plot\":null,\"render_mode\":\"css\",\"right_units\":\"screen\",\"top_units\":\"screen\"},\"id\":\"0b9331ef-54a6-4a70-b05f-f7ec5e35ae32\",\"type\":\"BoxAnnotation\"},{\"attributes\":{\"plot\":{\"id\":\"89e84064-81ad-4dab-bbc4-dbe377a55d34\",\"subtype\":\"Figure\",\"type\":\"Plot\"},\"ticker\":{\"id\":\"ee467c8e-c379-4f36-abb1-01716110f1ff\",\"type\":\"BasicTicker\"}},\"id\":\"ba1bf5bd-462d-4a42-b45c-d0044ae51010\",\"type\":\"Grid\"},{\"attributes\":{},\"id\":\"c38423e0-d2e9-482f-8ade-273756c5db67\",\"type\":\"BasicTickFormatter\"},{\"attributes\":{\"formatter\":{\"id\":\"c38423e0-d2e9-482f-8ade-273756c5db67\",\"type\":\"BasicTickFormatter\"},\"plot\":{\"id\":\"89e84064-81ad-4dab-bbc4-dbe377a55d34\",\"subtype\":\"Figure\",\"type\":\"Plot\"},\"ticker\":{\"id\":\"93782fc3-084d-4592-ae0b-e435eb5718ea\",\"type\":\"BasicTicker\"}},\"id\":\"665faae2-6e91-450f-98f5-366cfed63521\",\"type\":\"LinearAxis\"},{\"attributes\":{},\"id\":\"93782fc3-084d-4592-ae0b-e435eb5718ea\",\"type\":\"BasicTicker\"},{\"attributes\":{\"dimension\":1,\"plot\":{\"id\":\"89e84064-81ad-4dab-bbc4-dbe377a55d34\",\"subtype\":\"Figure\",\"type\":\"Plot\"},\"ticker\":{\"id\":\"93782fc3-084d-4592-ae0b-e435eb5718ea\",\"type\":\"BasicTicker\"}},\"id\":\"d9775ac5-d1ee-4790-aeb3-9736d5860cdd\",\"type\":\"Grid\"},{\"attributes\":{\"fill_color\":{\"value\":\"#1f77b4\"},\"line_color\":{\"value\":\"#1f77b4\"},\"x\":{\"field\":\"x\"},\"y\":{\"field\":\"y\"}},\"id\":\"e8f1bc2c-ace3-4362-8428-9bc72134f6b6\",\"type\":\"Circle\"},{\"attributes\":{\"below\":[{\"id\":\"e618ab2a-1e7e-44a8-910c-1fe0bf299c92\",\"type\":\"LinearAxis\"}],\"left\":[{\"id\":\"665faae2-6e91-450f-98f5-366cfed63521\",\"type\":\"LinearAxis\"}],\"plot_width\":400,\"renderers\":[{\"id\":\"e618ab2a-1e7e-44a8-910c-1fe0bf299c92\",\"type\":\"LinearAxis\"},{\"id\":\"ba1bf5bd-462d-4a42-b45c-d0044ae51010\",\"type\":\"Grid\"},{\"id\":\"665faae2-6e91-450f-98f5-366cfed63521\",\"type\":\"LinearAxis\"},{\"id\":\"d9775ac5-d1ee-4790-aeb3-9736d5860cdd\",\"type\":\"Grid\"},{\"id\":\"0b9331ef-54a6-4a70-b05f-f7ec5e35ae32\",\"type\":\"BoxAnnotation\"},{\"id\":\"b8e451c9-0026-4780-a241-2010735ae864\",\"type\":\"GlyphRenderer\"}],\"title\":{\"id\":\"d476bb97-c726-4c33-9f25-745f8b0b3711\",\"type\":\"Title\"},\"toolbar\":{\"id\":\"41c5f84e-fa4a-468d-bede-5ee0be79c049\",\"type\":\"Toolbar\"},\"x_range\":{\"id\":\"353724d0-36f7-42d7-855a-4bb9dadd16d8\",\"type\":\"DataRange1d\"},\"x_scale\":{\"id\":\"b563151d-7afe-4c3d-9858-fc1cb39da6e4\",\"type\":\"LinearScale\"},\"y_range\":{\"id\":\"a7cfe06f-f023-495e-a560-02b264b0258a\",\"type\":\"DataRange1d\"},\"y_scale\":{\"id\":\"c89f36a2-55ed-456d-bfe7-b2294a37549f\",\"type\":\"LinearScale\"}},\"id\":\"89e84064-81ad-4dab-bbc4-dbe377a55d34\",\"subtype\":\"Figure\",\"type\":\"Plot\"},{\"attributes\":{},\"id\":\"3d79a8ca-b10b-4f8e-947f-e86e2df8d369\",\"type\":\"BasicTickFormatter\"},{\"attributes\":{\"callback\":null,\"column_names\":[\"x\",\"y\"],\"data\":{\"x\":[1,2,3,4,5],\"y\":[8,6,5,2,3]}},\"id\":\"b9c6ed2e-8007-41c9-81b6-b83f2821e54c\",\"type\":\"ColumnDataSource\"},{\"attributes\":{},\"id\":\"c89f36a2-55ed-456d-bfe7-b2294a37549f\",\"type\":\"LinearScale\"},{\"attributes\":{},\"id\":\"d12c0baa-87a0-4773-9ec0-49aca897adbf\",\"type\":\"PanTool\"},{\"attributes\":{\"active_drag\":\"auto\",\"active_inspect\":\"auto\",\"active_scroll\":\"auto\",\"active_tap\":\"auto\",\"tools\":[{\"id\":\"d12c0baa-87a0-4773-9ec0-49aca897adbf\",\"type\":\"PanTool\"},{\"id\":\"6d9bfd87-dcee-4005-b6b2-62614451c8cc\",\"type\":\"BoxZoomTool\"}]},\"id\":\"41c5f84e-fa4a-468d-bede-5ee0be79c049\",\"type\":\"Toolbar\"},{\"attributes\":{\"fill_alpha\":{\"value\":0.1},\"fill_color\":{\"value\":\"#1f77b4\"},\"line_alpha\":{\"value\":0.1},\"line_color\":{\"value\":\"#1f77b4\"},\"x\":{\"field\":\"x\"},\"y\":{\"field\":\"y\"}},\"id\":\"76daec1c-41ed-45a3-b310-d393d6037dff\",\"type\":\"Circle\"},{\"attributes\":{\"callback\":null},\"id\":\"353724d0-36f7-42d7-855a-4bb9dadd16d8\",\"type\":\"DataRange1d\"},{\"attributes\":{\"overlay\":{\"id\":\"0b9331ef-54a6-4a70-b05f-f7ec5e35ae32\",\"type\":\"BoxAnnotation\"}},\"id\":\"6d9bfd87-dcee-4005-b6b2-62614451c8cc\",\"type\":\"BoxZoomTool\"},{\"attributes\":{},\"id\":\"ee467c8e-c379-4f36-abb1-01716110f1ff\",\"type\":\"BasicTicker\"},{\"attributes\":{\"callback\":null},\"id\":\"a7cfe06f-f023-495e-a560-02b264b0258a\",\"type\":\"DataRange1d\"},{\"attributes\":{\"source\":{\"id\":\"b9c6ed2e-8007-41c9-81b6-b83f2821e54c\",\"type\":\"ColumnDataSource\"}},\"id\":\"3e1cb3d4-4cc1-4c83-826c-ce05a694cc4b\",\"type\":\"CDSView\"},{\"attributes\":{},\"id\":\"b563151d-7afe-4c3d-9858-fc1cb39da6e4\",\"type\":\"LinearScale\"},{\"attributes\":{\"data_source\":{\"id\":\"b9c6ed2e-8007-41c9-81b6-b83f2821e54c\",\"type\":\"ColumnDataSource\"},\"glyph\":{\"id\":\"e8f1bc2c-ace3-4362-8428-9bc72134f6b6\",\"type\":\"Circle\"},\"hover_glyph\":null,\"muted_glyph\":null,\"nonselection_glyph\":{\"id\":\"76daec1c-41ed-45a3-b310-d393d6037dff\",\"type\":\"Circle\"},\"selection_glyph\":null,\"view\":{\"id\":\"3e1cb3d4-4cc1-4c83-826c-ce05a694cc4b\",\"type\":\"CDSView\"}},\"id\":\"b8e451c9-0026-4780-a241-2010735ae864\",\"type\":\"GlyphRenderer\"},{\"attributes\":{\"plot\":null,\"text\":\"\"},\"id\":\"d476bb97-c726-4c33-9f25-745f8b0b3711\",\"type\":\"Title\"},{\"attributes\":{\"formatter\":{\"id\":\"3d79a8ca-b10b-4f8e-947f-e86e2df8d369\",\"type\":\"BasicTickFormatter\"},\"plot\":{\"id\":\"89e84064-81ad-4dab-bbc4-dbe377a55d34\",\"subtype\":\"Figure\",\"type\":\"Plot\"},\"ticker\":{\"id\":\"ee467c8e-c379-4f36-abb1-01716110f1ff\",\"type\":\"BasicTicker\"}},\"id\":\"e618ab2a-1e7e-44a8-910c-1fe0bf299c92\",\"type\":\"LinearAxis\"}],\"root_ids\":[\"89e84064-81ad-4dab-bbc4-dbe377a55d34\"]},\"title\":\"Bokeh Application\",\"version\":\"0.12.10\"}};\n",
       "    var render_items = [{\"docid\":\"7fc0a076-3911-46c5-b2d9-fb4f4d00d766\",\"elementid\":\"5598b23d-5bdc-4925-af84-dd6a6a4ff617\",\"modelid\":\"89e84064-81ad-4dab-bbc4-dbe377a55d34\"}];\n",
       "\n",
       "    root.Bokeh.embed.embed_items(docs_json, render_items);\n",
       "  }\n",
       "\n",
       "  if (root.Bokeh !== undefined) {\n",
       "    embed_document(root);\n",
       "  } else {\n",
       "    var attempts = 0;\n",
       "    var timer = setInterval(function(root) {\n",
       "      if (root.Bokeh !== undefined) {\n",
       "        embed_document(root);\n",
       "        clearInterval(timer);\n",
       "      }\n",
       "      attempts++;\n",
       "      if (attempts > 100) {\n",
       "        console.log(\"Bokeh: ERROR: Unable to embed document because BokehJS library is missing\")\n",
       "        clearInterval(timer);\n",
       "      }\n",
       "    }, 10, root)\n",
       "  }\n",
       "})(window);"
      ],
      "application/vnd.bokehjs_exec.v0+json": ""
     },
     "metadata": {
      "application/vnd.bokehjs_exec.v0+json": {
       "id": "89e84064-81ad-4dab-bbc4-dbe377a55d34"
      }
     },
     "output_type": "display_data"
    }
   ],
   "source": [
    "plot = figure(plot_width=400, tools = 'pan, box_zoom')\n",
    "plot.circle([1,2,3,4,5], [8,6,5,2,3])\n",
    "show(plot)"
   ]
  },
  {
   "cell_type": "markdown",
   "metadata": {},
   "source": [
    "#### Glyph properties\n",
    "- List, arrays, sequences of values will all work\n",
    "- Single fixed values can work (e.g things like color)\n"
   ]
  },
  {
   "cell_type": "code",
   "execution_count": 11,
   "metadata": {},
   "outputs": [
    {
     "data": {
      "text/html": [
       "\n",
       "<div class=\"bk-root\">\n",
       "    <div class=\"bk-plotdiv\" id=\"2d7192b1-7ebb-42e2-a964-12e79a8d323c\"></div>\n",
       "</div>"
      ]
     },
     "metadata": {},
     "output_type": "display_data"
    },
    {
     "data": {
      "application/javascript": [
       "(function(root) {\n",
       "  function embed_document(root) {\n",
       "    var docs_json = {\"3040cb1d-32e4-43b0-ab6e-bd4c5a70f5f4\":{\"roots\":{\"references\":[{\"attributes\":{\"source\":{\"id\":\"491b31c2-f3bc-4bd5-bd9e-e16cc48f9c46\",\"type\":\"ColumnDataSource\"}},\"id\":\"664cf6f2-2763-4b9e-bc63-1d6882abc5e2\",\"type\":\"CDSView\"},{\"attributes\":{\"dimension\":1,\"plot\":{\"id\":\"09ac32e4-3e29-4eb9-8f09-3e02a511c174\",\"subtype\":\"Figure\",\"type\":\"Plot\"},\"ticker\":{\"id\":\"1feee75c-6904-4b1a-ad47-f7ad49b781dc\",\"type\":\"BasicTicker\"}},\"id\":\"eb8fd1f5-4d56-4ffe-901d-12be6ddf5c77\",\"type\":\"Grid\"},{\"attributes\":{},\"id\":\"3e50edb1-2531-4d26-9314-5f2624718158\",\"type\":\"SaveTool\"},{\"attributes\":{},\"id\":\"5979b44c-0db0-4013-9c75-04f32dd26a70\",\"type\":\"BasicTickFormatter\"},{\"attributes\":{\"data_source\":{\"id\":\"491b31c2-f3bc-4bd5-bd9e-e16cc48f9c46\",\"type\":\"ColumnDataSource\"},\"glyph\":{\"id\":\"4b8b5478-4be3-4b54-8de3-43b21b50efe2\",\"type\":\"Circle\"},\"hover_glyph\":null,\"muted_glyph\":null,\"nonselection_glyph\":{\"id\":\"d586a3cf-9d39-4de8-9c7c-b16a975dc94b\",\"type\":\"Circle\"},\"selection_glyph\":null,\"view\":{\"id\":\"664cf6f2-2763-4b9e-bc63-1d6882abc5e2\",\"type\":\"CDSView\"}},\"id\":\"638a63cf-c116-4df9-abd4-d751d0051fe6\",\"type\":\"GlyphRenderer\"},{\"attributes\":{\"active_drag\":\"auto\",\"active_inspect\":\"auto\",\"active_scroll\":\"auto\",\"active_tap\":\"auto\",\"tools\":[{\"id\":\"08b00e0c-dc60-4bcb-8ec2-79fa501b81e7\",\"type\":\"PanTool\"},{\"id\":\"f7081736-8750-48cf-b5df-44a256f41ae5\",\"type\":\"WheelZoomTool\"},{\"id\":\"e84ef875-0fb1-43b0-87aa-f48658a430ec\",\"type\":\"BoxZoomTool\"},{\"id\":\"3e50edb1-2531-4d26-9314-5f2624718158\",\"type\":\"SaveTool\"},{\"id\":\"87f23719-e37c-440f-9693-1286df805c48\",\"type\":\"ResetTool\"},{\"id\":\"3ab8649e-2557-4c0d-9077-cf088aad9e75\",\"type\":\"HelpTool\"}]},\"id\":\"518453ea-38db-4ed7-824e-9e81f8830dae\",\"type\":\"Toolbar\"},{\"attributes\":{},\"id\":\"f7081736-8750-48cf-b5df-44a256f41ae5\",\"type\":\"WheelZoomTool\"},{\"attributes\":{},\"id\":\"08b00e0c-dc60-4bcb-8ec2-79fa501b81e7\",\"type\":\"PanTool\"},{\"attributes\":{},\"id\":\"8fe319ff-484b-4cc3-b092-e559f41ca287\",\"type\":\"BasicTickFormatter\"},{\"attributes\":{},\"id\":\"3ab8649e-2557-4c0d-9077-cf088aad9e75\",\"type\":\"HelpTool\"},{\"attributes\":{\"plot\":{\"id\":\"09ac32e4-3e29-4eb9-8f09-3e02a511c174\",\"subtype\":\"Figure\",\"type\":\"Plot\"},\"ticker\":{\"id\":\"8bceba2b-f6ec-4745-8954-cecf551dca18\",\"type\":\"BasicTicker\"}},\"id\":\"56c821eb-172a-469e-aef6-186b1c8fc33e\",\"type\":\"Grid\"},{\"attributes\":{\"fill_alpha\":{\"value\":0.1},\"fill_color\":{\"value\":\"#1f77b4\"},\"line_alpha\":{\"value\":0.1},\"line_color\":{\"value\":\"#1f77b4\"},\"size\":{\"field\":\"size\",\"units\":\"screen\"},\"x\":{\"value\":10},\"y\":{\"field\":\"y\"}},\"id\":\"d586a3cf-9d39-4de8-9c7c-b16a975dc94b\",\"type\":\"Circle\"},{\"attributes\":{\"callback\":null},\"id\":\"1f196eb8-a224-43e0-878a-b82591588198\",\"type\":\"DataRange1d\"},{\"attributes\":{},\"id\":\"8bceba2b-f6ec-4745-8954-cecf551dca18\",\"type\":\"BasicTicker\"},{\"attributes\":{\"callback\":null,\"column_names\":[\"size\",\"y\"],\"data\":{\"size\":[10,20,30,40],\"y\":[2,5,8,12]}},\"id\":\"491b31c2-f3bc-4bd5-bd9e-e16cc48f9c46\",\"type\":\"ColumnDataSource\"},{\"attributes\":{},\"id\":\"1feee75c-6904-4b1a-ad47-f7ad49b781dc\",\"type\":\"BasicTicker\"},{\"attributes\":{\"fill_color\":{\"value\":\"green\"},\"line_color\":{\"value\":\"green\"},\"size\":{\"field\":\"size\",\"units\":\"screen\"},\"x\":{\"value\":10},\"y\":{\"field\":\"y\"}},\"id\":\"4b8b5478-4be3-4b54-8de3-43b21b50efe2\",\"type\":\"Circle\"},{\"attributes\":{},\"id\":\"5d997652-fdcd-437c-b82e-91850e031f60\",\"type\":\"LinearScale\"},{\"attributes\":{\"below\":[{\"id\":\"79c03f78-a998-4838-8d89-f37e1c2e70fb\",\"type\":\"LinearAxis\"}],\"left\":[{\"id\":\"41117416-085a-4f73-bd25-d4a20b782a84\",\"type\":\"LinearAxis\"}],\"renderers\":[{\"id\":\"79c03f78-a998-4838-8d89-f37e1c2e70fb\",\"type\":\"LinearAxis\"},{\"id\":\"56c821eb-172a-469e-aef6-186b1c8fc33e\",\"type\":\"Grid\"},{\"id\":\"41117416-085a-4f73-bd25-d4a20b782a84\",\"type\":\"LinearAxis\"},{\"id\":\"eb8fd1f5-4d56-4ffe-901d-12be6ddf5c77\",\"type\":\"Grid\"},{\"id\":\"b9f72def-c4f3-4d37-b706-ab4695327a6b\",\"type\":\"BoxAnnotation\"},{\"id\":\"638a63cf-c116-4df9-abd4-d751d0051fe6\",\"type\":\"GlyphRenderer\"}],\"title\":{\"id\":\"72036420-d63c-4d64-b2d2-3e21f3c803e0\",\"type\":\"Title\"},\"toolbar\":{\"id\":\"518453ea-38db-4ed7-824e-9e81f8830dae\",\"type\":\"Toolbar\"},\"x_range\":{\"id\":\"1f196eb8-a224-43e0-878a-b82591588198\",\"type\":\"DataRange1d\"},\"x_scale\":{\"id\":\"5d997652-fdcd-437c-b82e-91850e031f60\",\"type\":\"LinearScale\"},\"y_range\":{\"id\":\"155ae8ce-2cc6-4d05-91ea-d252daccc68a\",\"type\":\"DataRange1d\"},\"y_scale\":{\"id\":\"81ca411a-3904-47fb-8934-b2a6e82726e0\",\"type\":\"LinearScale\"}},\"id\":\"09ac32e4-3e29-4eb9-8f09-3e02a511c174\",\"subtype\":\"Figure\",\"type\":\"Plot\"},{\"attributes\":{\"callback\":null},\"id\":\"155ae8ce-2cc6-4d05-91ea-d252daccc68a\",\"type\":\"DataRange1d\"},{\"attributes\":{},\"id\":\"81ca411a-3904-47fb-8934-b2a6e82726e0\",\"type\":\"LinearScale\"},{\"attributes\":{\"bottom_units\":\"screen\",\"fill_alpha\":{\"value\":0.5},\"fill_color\":{\"value\":\"lightgrey\"},\"left_units\":\"screen\",\"level\":\"overlay\",\"line_alpha\":{\"value\":1.0},\"line_color\":{\"value\":\"black\"},\"line_dash\":[4,4],\"line_width\":{\"value\":2},\"plot\":null,\"render_mode\":\"css\",\"right_units\":\"screen\",\"top_units\":\"screen\"},\"id\":\"b9f72def-c4f3-4d37-b706-ab4695327a6b\",\"type\":\"BoxAnnotation\"},{\"attributes\":{\"plot\":null,\"text\":\"\"},\"id\":\"72036420-d63c-4d64-b2d2-3e21f3c803e0\",\"type\":\"Title\"},{\"attributes\":{},\"id\":\"87f23719-e37c-440f-9693-1286df805c48\",\"type\":\"ResetTool\"},{\"attributes\":{\"overlay\":{\"id\":\"b9f72def-c4f3-4d37-b706-ab4695327a6b\",\"type\":\"BoxAnnotation\"}},\"id\":\"e84ef875-0fb1-43b0-87aa-f48658a430ec\",\"type\":\"BoxZoomTool\"},{\"attributes\":{\"formatter\":{\"id\":\"5979b44c-0db0-4013-9c75-04f32dd26a70\",\"type\":\"BasicTickFormatter\"},\"plot\":{\"id\":\"09ac32e4-3e29-4eb9-8f09-3e02a511c174\",\"subtype\":\"Figure\",\"type\":\"Plot\"},\"ticker\":{\"id\":\"8bceba2b-f6ec-4745-8954-cecf551dca18\",\"type\":\"BasicTicker\"}},\"id\":\"79c03f78-a998-4838-8d89-f37e1c2e70fb\",\"type\":\"LinearAxis\"},{\"attributes\":{\"formatter\":{\"id\":\"8fe319ff-484b-4cc3-b092-e559f41ca287\",\"type\":\"BasicTickFormatter\"},\"plot\":{\"id\":\"09ac32e4-3e29-4eb9-8f09-3e02a511c174\",\"subtype\":\"Figure\",\"type\":\"Plot\"},\"ticker\":{\"id\":\"1feee75c-6904-4b1a-ad47-f7ad49b781dc\",\"type\":\"BasicTicker\"}},\"id\":\"41117416-085a-4f73-bd25-d4a20b782a84\",\"type\":\"LinearAxis\"}],\"root_ids\":[\"09ac32e4-3e29-4eb9-8f09-3e02a511c174\"]},\"title\":\"Bokeh Application\",\"version\":\"0.12.10\"}};\n",
       "    var render_items = [{\"docid\":\"3040cb1d-32e4-43b0-ab6e-bd4c5a70f5f4\",\"elementid\":\"2d7192b1-7ebb-42e2-a964-12e79a8d323c\",\"modelid\":\"09ac32e4-3e29-4eb9-8f09-3e02a511c174\"}];\n",
       "\n",
       "    root.Bokeh.embed.embed_items(docs_json, render_items);\n",
       "  }\n",
       "\n",
       "  if (root.Bokeh !== undefined) {\n",
       "    embed_document(root);\n",
       "  } else {\n",
       "    var attempts = 0;\n",
       "    var timer = setInterval(function(root) {\n",
       "      if (root.Bokeh !== undefined) {\n",
       "        embed_document(root);\n",
       "        clearInterval(timer);\n",
       "      }\n",
       "      attempts++;\n",
       "      if (attempts > 100) {\n",
       "        console.log(\"Bokeh: ERROR: Unable to embed document because BokehJS library is missing\")\n",
       "        clearInterval(timer);\n",
       "      }\n",
       "    }, 10, root)\n",
       "  }\n",
       "})(window);"
      ],
      "application/vnd.bokehjs_exec.v0+json": ""
     },
     "metadata": {
      "application/vnd.bokehjs_exec.v0+json": {
       "id": "09ac32e4-3e29-4eb9-8f09-3e02a511c174"
      }
     },
     "output_type": "display_data"
    }
   ],
   "source": [
    "plot = figure()\n",
    "plot.circle(x=10, y=[2,5,8,12], size=[10,20,30,40], color = 'green')\n",
    "show(plot)"
   ]
  },
  {
   "cell_type": "markdown",
   "metadata": {},
   "source": [
    "#### Markers\n",
    "- We will just use circles here but there are many marker types\n",
    "- [bokeh markers](http://bokeh.pydata.org/en/latest/docs/gallery/markers.html)"
   ]
  },
  {
   "cell_type": "markdown",
   "metadata": {},
   "source": [
    "#### Another example I found on the web\n",
    "- Oooooo, pretty"
   ]
  },
  {
   "cell_type": "code",
   "execution_count": 54,
   "metadata": {
    "scrolled": false
   },
   "outputs": [
    {
     "data": {
      "text/html": [
       "\n",
       "<div class=\"bk-root\">\n",
       "    <div class=\"bk-plotdiv\" id=\"539b7c4e-2e34-4056-8dc4-9dc9d662e13b\"></div>\n",
       "</div>"
      ]
     },
     "metadata": {},
     "output_type": "display_data"
    },
    {
     "data": {
      "application/javascript": [
       "(function(root) {\n",
       "  function embed_document(root) {\n",
       "    var docs_json = {\"85034d01-89aa-471c-bf74-6193537d45ce\":{\"roots\":{\"references\":[{\"attributes\":{},\"id\":\"ed8b364e-e169-40c8-a12e-46c3d0c41194\",\"type\":\"LinearScale\"},{\"attributes\":{\"callback\":null,\"column_names\":[\"radius\",\"x\",\"y\",\"fill_color\"],\"data\":{\"fill_color\":[\"#bb1e96\",\"#6a2c96\",\"#97a396\",\"#c89996\",\"#534396\",\"#9a5296\",\"#d73996\",\"#89b696\",\"#675f96\",\"#908e96\",\"#f84d96\",\"#c69096\",\"#9b4b96\",\"#b15796\",\"#3ad596\",\"#d86096\",\"#ac7896\",\"#768596\",\"#3aca96\",\"#8b5396\",\"#c82496\",\"#aa9c96\",\"#b68b96\",\"#dd7f96\",\"#394096\",\"#7c2496\",\"#533496\",\"#55dd96\",\"#8fb596\",\"#4a3c96\",\"#e35496\",\"#5bc896\",\"#cdc096\",\"#65b896\",\"#717596\",\"#e56f96\",\"#9be196\",\"#e5d596\",\"#8e4f96\",\"#d67996\",\"#b5d096\",\"#f7c996\",\"#de8b96\",\"#c98796\",\"#e7c496\",\"#4bb996\",\"#963296\",\"#d8b596\",\"#c63b96\",\"#843096\",\"#75cc96\",\"#b1ae96\",\"#609396\",\"#533896\",\"#d58a96\",\"#48c496\",\"#ee7596\",\"#997296\",\"#cd6f96\",\"#c26996\",\"#9d8096\",\"#ba6996\",\"#a44b96\",\"#74db96\",\"#4f8996\",\"#a68296\",\"#be6b96\",\"#d62096\",\"#4d5996\",\"#d7bf96\",\"#6ccf96\",\"#ab9996\",\"#d76396\",\"#e33096\",\"#bed996\",\"#8a7596\",\"#cc6c96\",\"#c67496\",\"#424896\",\"#af4b96\",\"#7d3296\",\"#d0c096\",\"#695696\",\"#b14e96\",\"#78ca96\",\"#443196\",\"#424996\",\"#9cdc96\",\"#ac5396\",\"#5e7996\",\"#6bb496\",\"#4ed996\",\"#931f96\",\"#56d396\",\"#989e96\",\"#79bd96\",\"#56b496\",\"#98c196\",\"#95d196\",\"#59ce96\",\"#5bb796\",\"#d53896\",\"#4d5096\",\"#d35596\",\"#843c96\",\"#5a5c96\",\"#f7b596\",\"#a6d696\",\"#998396\",\"#a96d96\",\"#dd7c96\",\"#4c4096\",\"#d32096\",\"#eba796\",\"#ccc096\",\"#9b3d96\",\"#a23a96\",\"#602196\",\"#a89896\",\"#e14896\",\"#e14d96\",\"#82d396\",\"#47c196\",\"#41ca96\",\"#669b96\",\"#99ca96\",\"#7dbb96\",\"#e9d696\",\"#a8e496\",\"#8e4a96\",\"#bc9c96\",\"#953396\",\"#a98496\",\"#f04696\",\"#dd6596\",\"#4c6696\",\"#9abd96\",\"#d83096\",\"#54ab96\",\"#82df96\",\"#9ed696\",\"#d61e96\",\"#606196\",\"#a14596\",\"#4d4a96\",\"#bf2196\",\"#c9e496\",\"#6a7796\",\"#a0ba96\",\"#766c96\",\"#47ca96\",\"#c63896\",\"#a37896\",\"#906996\",\"#d52396\",\"#3bb796\",\"#6bbe96\",\"#82af96\",\"#904596\",\"#e6a696\",\"#bfc696\",\"#957996\",\"#d39596\",\"#9fe296\",\"#9eac96\",\"#f05f96\",\"#c66696\",\"#984c96\",\"#f39796\",\"#a76f96\",\"#c77f96\",\"#5f2a96\",\"#d5dd96\",\"#a0ae96\",\"#8ed596\",\"#3a5c96\",\"#4a6896\",\"#4fa996\",\"#415596\",\"#592696\",\"#8e3b96\",\"#785d96\",\"#c2b496\",\"#402496\",\"#645e96\",\"#e8c196\",\"#bf4696\",\"#f02696\",\"#77d096\",\"#ba9d96\",\"#9f5696\",\"#bfe496\",\"#609a96\",\"#e47696\",\"#a85596\",\"#513d96\",\"#8b6096\",\"#b45d96\",\"#7da696\",\"#489996\",\"#403396\",\"#35c996\",\"#c1a296\",\"#945a96\",\"#902396\",\"#9d4a96\",\"#416496\",\"#7a3096\",\"#dc9596\",\"#868296\",\"#c8c296\",\"#975c96\",\"#eba596\",\"#95a596\",\"#609b96\",\"#812696\",\"#58e596\",\"#f59696\",\"#bc9696\",\"#419196\",\"#5d7196\",\"#aa2396\",\"#ca2b96\",\"#e53b96\",\"#5a6496\",\"#cba496\",\"#be6e96\",\"#b96796\",\"#5d8296\",\"#cbbc96\",\"#98a596\",\"#4dab96\",\"#ee4496\",\"#4a4796\",\"#f98296\",\"#a2c296\",\"#89aa96\",\"#54b396\",\"#7c7d96\",\"#a34296\",\"#582596\",\"#d46696\",\"#4d8a96\",\"#625a96\",\"#bba196\",\"#acd496\",\"#86ae96\",\"#41c796\",\"#452d96\",\"#b22396\",\"#f86796\",\"#b75796\",\"#dcb296\",\"#de9f96\",\"#6cd596\",\"#e3df96\",\"#bd4896\",\"#388196\",\"#cb5196\",\"#797496\",\"#68e596\",\"#b78996\",\"#519896\",\"#f79396\",\"#7b4496\",\"#f5a996\",\"#495b96\",\"#423f96\",\"#abad96\",\"#684796\",\"#edcd96\",\"#e14096\",\"#f85996\",\"#955996\",\"#516b96\",\"#c39296\",\"#dd9496\",\"#cf8d96\",\"#9d2396\",\"#35a096\",\"#ae4396\",\"#429996\",\"#a37296\",\"#58d096\",\"#cb8e96\",\"#e9b396\",\"#dee396\",\"#385396\",\"#855496\",\"#a04296\",\"#898b96\",\"#b14d96\",\"#4ad496\",\"#74d896\",\"#dc2496\",\"#dfe596\",\"#c39d96\",\"#565796\",\"#bb5196\",\"#5ac796\",\"#9f7096\",\"#579f96\",\"#74dd96\",\"#7cde96\",\"#783696\",\"#ee6796\",\"#83bf96\",\"#53b196\",\"#467c96\",\"#f82f96\",\"#ad6a96\",\"#5ba196\",\"#996b96\",\"#f42596\",\"#dea996\",\"#4bcb96\",\"#622a96\",\"#9de396\",\"#61ca96\",\"#3b7696\",\"#388596\",\"#602196\",\"#659a96\",\"#54c096\",\"#8c5c96\",\"#3bba96\",\"#793296\",\"#d88c96\",\"#889696\",\"#cbc396\",\"#a43296\",\"#804096\",\"#5ec396\",\"#a98196\",\"#e84096\",\"#d33296\",\"#98e096\",\"#bad496\",\"#774e96\",\"#395996\",\"#82e096\",\"#bb6896\",\"#f16996\",\"#bbb196\",\"#79d796\",\"#517396\",\"#7aa796\",\"#c06f96\",\"#32cb96\",\"#cf2f96\",\"#aae096\",\"#d59096\",\"#773896\",\"#6c3996\",\"#bc2d96\",\"#c6dc96\",\"#eba496\",\"#ce3c96\",\"#a89b96\",\"#a82196\",\"#4ead96\",\"#ab6496\",\"#4b9f96\",\"#f9d796\",\"#a72896\",\"#a14596\",\"#d79b96\",\"#e73d96\",\"#d7d396\",\"#44bb96\",\"#ee9296\",\"#963596\",\"#ab5596\",\"#babd96\",\"#9e4696\",\"#99a996\",\"#5baa96\",\"#3a9296\",\"#48c196\",\"#71cd96\",\"#ea7b96\",\"#de7d96\",\"#f33896\",\"#68c196\",\"#743696\",\"#c9b796\",\"#718a96\",\"#b15096\",\"#43b596\",\"#626b96\",\"#f07096\",\"#bb4f96\",\"#528996\",\"#a44696\",\"#962496\",\"#46b496\",\"#77cf96\",\"#c8b196\",\"#3dc696\",\"#57b496\",\"#686596\",\"#f34c96\",\"#9b2896\",\"#576a96\",\"#d69596\",\"#b23e96\",\"#d37a96\",\"#e35b96\",\"#cc3096\",\"#56b296\",\"#f9cd96\",\"#8c3b96\",\"#dd4896\",\"#c73396\",\"#933496\",\"#b4a496\",\"#dc9596\",\"#9c3d96\",\"#f92d96\",\"#c5a196\",\"#5bd296\",\"#d6bd96\",\"#873f96\",\"#cacb96\",\"#bcaa96\",\"#7e6196\",\"#60da96\",\"#c86196\",\"#4b8596\",\"#40ae96\",\"#78d796\",\"#7a9a96\",\"#7adc96\",\"#468196\",\"#3c2296\",\"#861e96\",\"#4b8d96\",\"#d77696\",\"#417e96\",\"#617396\",\"#619d96\",\"#592f96\",\"#bf8296\",\"#605196\",\"#ebd096\",\"#643b96\",\"#f18496\",\"#a42a96\",\"#f53a96\",\"#b5c096\",\"#875496\",\"#689396\",\"#4dc896\",\"#787396\",\"#cf9f96\",\"#807996\",\"#917496\",\"#b7c896\",\"#553a96\",\"#b67096\",\"#90bf96\",\"#a53296\",\"#525696\",\"#836f96\",\"#7ca296\",\"#e46896\",\"#a7d296\",\"#7f8496\",\"#576096\",\"#646196\",\"#716796\",\"#c14e96\",\"#a45596\",\"#e02296\",\"#c8b696\",\"#751e96\",\"#c09f96\",\"#404796\",\"#36a296\",\"#7ee296\",\"#e23696\",\"#46aa96\",\"#5b5996\",\"#c1b396\",\"#ede196\",\"#9aa296\",\"#e65696\",\"#9d7596\",\"#674796\",\"#ebc896\",\"#d4b596\",\"#3a6896\",\"#c45a96\",\"#516c96\",\"#c69296\",\"#de7f96\",\"#4a6296\",\"#764b96\",\"#42b396\",\"#38be96\",\"#6d6796\",\"#625596\",\"#ad6796\",\"#af4596\",\"#c93a96\",\"#389396\",\"#4e6e96\",\"#6b8196\",\"#449c96\",\"#36b896\",\"#a2c196\",\"#3f7996\",\"#f94696\",\"#b6a796\",\"#537d96\",\"#472c96\",\"#ed2496\",\"#6ed796\",\"#648096\",\"#7c3396\",\"#4c8296\",\"#ae2f96\",\"#dcab96\",\"#db5e96\",\"#cc3396\",\"#59ae96\",\"#419396\",\"#703b96\",\"#85d796\",\"#72d796\",\"#bfc496\",\"#df8396\",\"#492c96\",\"#b77896\",\"#bb8996\",\"#598396\",\"#53a296\",\"#784596\",\"#558796\",\"#566b96\",\"#38dd96\",\"#db7c96\",\"#e74e96\",\"#7c9d96\",\"#8b7396\",\"#d76796\",\"#b3db96\",\"#577096\",\"#3b2c96\",\"#773f96\",\"#b16496\",\"#5d2a96\",\"#3f7a96\",\"#5a7196\",\"#b17196\",\"#c58e96\",\"#b4e196\",\"#79de96\",\"#648196\",\"#7bc796\",\"#b26896\",\"#735296\",\"#6c6f96\",\"#997396\",\"#95c496\",\"#73ca96\",\"#676496\",\"#3bcc96\",\"#703796\",\"#676e96\",\"#334696\",\"#674496\",\"#6c7e96\",\"#d9b496\",\"#90c796\",\"#a7b396\",\"#d6c296\",\"#937d96\",\"#785296\",\"#96c596\",\"#e36696\",\"#d5cf96\",\"#717b96\",\"#7d4f96\",\"#4e8796\",\"#5b8c96\",\"#f87f96\",\"#69d996\",\"#9fd896\",\"#558796\",\"#333c96\",\"#c94c96\",\"#de9396\",\"#656196\",\"#a88f96\",\"#a0c596\",\"#5f7396\",\"#798796\",\"#548096\",\"#e25596\",\"#76d696\",\"#967796\",\"#a5c596\",\"#6bc396\",\"#7f6296\",\"#e8be96\",\"#35a696\",\"#78d496\",\"#c3e096\",\"#5b2d96\",\"#909b96\",\"#cdb296\",\"#3d6e96\",\"#5e3596\",\"#5f8096\",\"#bc5d96\",\"#5b6496\",\"#b2be96\",\"#431e96\",\"#47e396\",\"#469396\",\"#caa296\",\"#776796\",\"#ec9b96\",\"#947796\",\"#82e096\",\"#4fb396\",\"#468396\",\"#815996\",\"#acd396\",\"#95de96\",\"#e79496\",\"#813b96\",\"#555b96\",\"#ea5396\",\"#873b96\",\"#c79996\",\"#949b96\",\"#773a96\",\"#d1cf96\",\"#ecd596\",\"#d33796\",\"#cfd996\",\"#3a2896\",\"#c49196\",\"#f27696\",\"#ef5896\",\"#b4ce96\",\"#528d96\",\"#592296\",\"#a43496\",\"#eb9e96\",\"#cc5196\",\"#76c596\",\"#326396\",\"#774596\",\"#6d6f96\",\"#a0db96\",\"#53a696\",\"#607996\",\"#71bb96\",\"#7d8996\",\"#624696\",\"#60a596\",\"#ed9596\",\"#daa296\",\"#7c2796\",\"#913e96\",\"#eccf96\",\"#c8c396\",\"#b34296\",\"#b76b96\",\"#ebe496\",\"#9c4a96\",\"#e12c96\",\"#c92c96\",\"#99e496\",\"#bac696\",\"#4f9f96\",\"#326896\",\"#89d396\",\"#98c696\",\"#666c96\",\"#744896\",\"#8ac196\",\"#378c96\",\"#a58b96\",\"#69e296\",\"#a17496\",\"#efa196\",\"#c32296\",\"#ab3496\",\"#586696\",\"#55b496\",\"#ed9d96\",\"#415f96\",\"#e02a96\",\"#de9096\",\"#5e2f96\",\"#50e196\",\"#b56296\",\"#cc7096\",\"#5f6c96\",\"#798096\",\"#3f8496\",\"#dfd796\",\"#c98d96\",\"#dea796\",\"#d68b96\",\"#d1a296\",\"#d54a96\",\"#ee5e96\",\"#e5b096\",\"#4bb996\",\"#b93396\",\"#9d8496\",\"#95cd96\",\"#f47b96\",\"#93a996\",\"#efbd96\",\"#c86e96\",\"#f6e496\",\"#492696\",\"#477d96\",\"#5f4296\",\"#45c396\",\"#82a096\",\"#7b8396\",\"#c3be96\",\"#c69496\",\"#863996\",\"#54a296\",\"#f72b96\",\"#ad5b96\",\"#a77f96\",\"#85b796\",\"#a36a96\",\"#ad7796\",\"#b9b196\",\"#55c896\",\"#80cd96\",\"#50a596\",\"#f74296\",\"#723196\",\"#9cde96\",\"#dda596\",\"#f7cc96\",\"#cb8096\",\"#d94f96\",\"#c22896\",\"#8fc296\",\"#6d3a96\",\"#a58a96\",\"#f5bf96\",\"#658a96\",\"#67d096\",\"#6a6a96\",\"#839596\",\"#d98396\",\"#765496\",\"#732196\",\"#f78f96\",\"#aa7a96\",\"#e66a96\",\"#837896\",\"#e2a996\",\"#597a96\",\"#c93796\",\"#659c96\",\"#c6d596\",\"#58dc96\",\"#c8d396\",\"#a24d96\",\"#693d96\",\"#b59196\",\"#403696\",\"#53af96\",\"#c87896\",\"#6b9996\",\"#385696\",\"#c69396\",\"#9fd096\",\"#682496\",\"#5b9b96\",\"#464696\",\"#4e4696\",\"#3a8596\",\"#449796\",\"#b1d796\",\"#8ca196\",\"#e24596\",\"#84db96\",\"#acbd96\",\"#492d96\",\"#61b596\",\"#f9ac96\",\"#ab7496\",\"#788296\",\"#df4a96\",\"#71e396\",\"#ee7a96\",\"#962296\",\"#95c396\",\"#91aa96\",\"#3c9096\",\"#d83096\",\"#8e9496\",\"#ac9496\",\"#932196\",\"#df5396\",\"#3a3c96\",\"#8f2596\",\"#4f4d96\",\"#3c5e96\",\"#542596\",\"#446396\",\"#de9396\",\"#3e2596\",\"#c44c96\",\"#903696\",\"#814c96\",\"#615c96\",\"#542c96\",\"#91a696\",\"#788a96\",\"#6f3896\",\"#765396\",\"#9bde96\",\"#e48e96\",\"#3c4a96\",\"#5c5796\",\"#df4f96\",\"#b98896\",\"#743596\",\"#ebaa96\",\"#e64c96\",\"#728796\",\"#baa296\",\"#366096\",\"#42c496\",\"#e76096\",\"#add896\",\"#55de96\",\"#b87296\",\"#50e296\",\"#b87596\",\"#bec696\",\"#7dde96\",\"#ad1f96\",\"#d9de96\",\"#f95a96\",\"#6ad296\",\"#826396\",\"#f4b296\",\"#5b2e96\",\"#94a696\",\"#844696\",\"#355096\",\"#694e96\",\"#3f2f96\",\"#aaab96\",\"#c3d996\",\"#645496\",\"#5dac96\",\"#8ea096\",\"#3e8296\",\"#7ae496\",\"#d84b96\",\"#85c196\",\"#df2596\",\"#9a1f96\",\"#a25f96\",\"#586b96\",\"#498b96\",\"#4a5596\",\"#d09896\",\"#675996\",\"#5a6296\",\"#b24296\",\"#9ddd96\",\"#cd3196\",\"#78d096\",\"#d83996\",\"#352796\",\"#60d996\",\"#538b96\",\"#c28396\",\"#e05896\",\"#de3796\",\"#b3c496\",\"#a7ca96\",\"#5a3496\",\"#484796\",\"#99e596\",\"#e77996\",\"#37b396\",\"#61ab96\",\"#d15896\",\"#d12696\",\"#d64396\",\"#59d896\",\"#393b96\",\"#6da096\",\"#7f8496\",\"#799e96\",\"#45be96\",\"#717396\",\"#60c096\",\"#7f2696\",\"#774996\",\"#c69196\",\"#d9d596\",\"#ebdd96\",\"#e87f96\",\"#f71e96\",\"#9c2396\",\"#b46f96\",\"#3e9b96\",\"#e2b796\",\"#3c8f96\",\"#4f8796\",\"#479196\",\"#58d496\",\"#86b096\",\"#65e196\",\"#a92c96\",\"#d14996\",\"#df7e96\",\"#eb9196\",\"#592e96\",\"#c65996\",\"#f5d196\",\"#735296\",\"#ecbb96\",\"#664d96\",\"#ea4f96\",\"#5a7c96\",\"#844796\",\"#916096\",\"#36ac96\",\"#7ab396\",\"#a0cd96\",\"#a78696\",\"#79de96\",\"#65b196\",\"#a38796\",\"#6e2a96\",\"#524196\",\"#b64e96\",\"#487496\",\"#32c596\",\"#be4b96\",\"#e7ad96\",\"#cb2996\",\"#b9c996\",\"#58c596\",\"#774096\",\"#c1c196\",\"#bb9296\",\"#ed6396\",\"#947996\",\"#7f7496\",\"#9a8e96\",\"#864c96\",\"#c79396\",\"#cbe396\",\"#8ac696\",\"#ae2c96\",\"#e25c96\",\"#797e96\",\"#95b596\",\"#ae4196\",\"#477496\",\"#acbd96\",\"#d94696\",\"#bc4f96\",\"#c0c296\",\"#798096\",\"#9b4c96\",\"#84bf96\",\"#4c7c96\",\"#acce96\",\"#489496\",\"#9c9896\",\"#8e9096\",\"#e74f96\",\"#e6e496\",\"#ee3296\",\"#a46096\",\"#435e96\",\"#d45196\",\"#a1b196\",\"#515a96\",\"#a76996\",\"#498d96\",\"#b48396\",\"#389896\",\"#c78a96\",\"#ab7096\",\"#aea696\",\"#8cb796\",\"#718296\",\"#6caa96\",\"#d5de96\",\"#dfc596\",\"#cae096\",\"#5a2096\",\"#9c8896\",\"#493996\",\"#923f96\",\"#889396\",\"#73a696\",\"#7f3f96\",\"#5db696\",\"#3aa596\",\"#db4d96\",\"#8f5396\",\"#c86d96\",\"#5e9e96\",\"#a2e096\",\"#78a196\",\"#b58096\",\"#70b496\",\"#f6b696\",\"#c87496\",\"#929e96\",\"#bb6d96\",\"#c74d96\",\"#b78596\",\"#4a5f96\",\"#e7c196\",\"#42bc96\",\"#a7c196\",\"#9fcf96\",\"#357396\",\"#6e2696\",\"#508396\",\"#aaa296\",\"#c09096\",\"#bf8d96\",\"#479d96\",\"#cc5e96\",\"#d9e196\",\"#cb9b96\",\"#525596\",\"#ec2296\",\"#8f8c96\",\"#865296\",\"#d42796\",\"#d4c496\",\"#bb2696\",\"#8e3796\",\"#695d96\",\"#c42096\",\"#f3d396\",\"#334096\",\"#462e96\",\"#772696\",\"#7c7e96\",\"#3d2796\",\"#674496\",\"#725496\",\"#448b96\",\"#cc4396\",\"#f9d896\",\"#9c4896\",\"#93a196\",\"#4e9d96\",\"#be8a96\",\"#c33a96\",\"#448d96\",\"#c77f96\",\"#708796\",\"#6e9896\",\"#6ca796\",\"#b4ba96\",\"#c42a96\",\"#9ade96\",\"#97ad96\",\"#904496\",\"#cb5b96\",\"#5b8896\",\"#92e496\",\"#4fd396\",\"#adc696\",\"#7bae96\",\"#3be396\",\"#e14096\",\"#715c96\",\"#763a96\",\"#5cbd96\",\"#c9de96\",\"#4e4796\",\"#478196\",\"#625796\",\"#e7e396\",\"#cec296\",\"#cf7096\",\"#533696\",\"#7ba496\",\"#63d296\",\"#87aa96\",\"#6ca496\",\"#464796\",\"#80d896\",\"#ba6a96\",\"#dfdc96\",\"#656b96\",\"#e07596\",\"#7a7c96\",\"#5fa996\",\"#951e96\",\"#f53296\",\"#a9b896\",\"#a3bc96\",\"#8ba996\",\"#6e6c96\",\"#4f8096\",\"#a5d396\",\"#e96396\",\"#7d4b96\",\"#824f96\",\"#9bda96\",\"#e2c596\",\"#4edc96\",\"#cbb496\",\"#efdb96\",\"#b08696\",\"#628496\",\"#dd2096\",\"#4f9c96\",\"#f6cb96\",\"#e56796\",\"#e5b796\",\"#b2c396\",\"#bbcc96\",\"#b25b96\",\"#50a596\",\"#5d3096\",\"#537396\",\"#f88d96\",\"#453796\",\"#c44a96\",\"#972a96\",\"#d43b96\",\"#539b96\",\"#6a2d96\",\"#691e96\",\"#a15096\",\"#f4b196\",\"#7eb096\",\"#382b96\",\"#4bae96\",\"#4f9196\",\"#558196\",\"#d2ce96\",\"#e2d496\",\"#702396\",\"#698b96\",\"#528596\",\"#f92b96\",\"#b42e96\",\"#a46b96\",\"#883596\",\"#f8dc96\",\"#529696\",\"#e4b496\",\"#47a696\",\"#b43a96\",\"#4d6096\",\"#d92d96\",\"#357c96\",\"#3e2596\",\"#bc6796\",\"#5fce96\",\"#7b6d96\",\"#f2e496\",\"#974196\",\"#8c8596\",\"#da8696\",\"#f8ac96\",\"#90bd96\",\"#6ccb96\",\"#6f9c96\",\"#e72796\",\"#46ce96\",\"#8f4296\",\"#97d896\",\"#339996\",\"#7cd096\",\"#a07e96\",\"#e9dc96\",\"#3fc496\",\"#ee4196\",\"#4b9a96\",\"#c48a96\",\"#edbe96\",\"#8f7196\",\"#ae2596\",\"#83a296\",\"#753396\",\"#ea8396\",\"#a84296\",\"#3b2996\",\"#d5ba96\",\"#c03f96\",\"#596796\",\"#afb396\",\"#bb7d96\",\"#6bdd96\",\"#4ab596\",\"#bb6396\",\"#6ea796\",\"#a43c96\",\"#e79696\",\"#8d9f96\",\"#d5cd96\",\"#5d9296\",\"#695596\",\"#747596\",\"#e74396\",\"#9b3a96\",\"#8bd896\",\"#8ee596\",\"#c65196\",\"#e4a496\",\"#667c96\",\"#427296\",\"#4b3296\",\"#4fd096\",\"#4b2896\",\"#582d96\",\"#a65696\",\"#cab596\",\"#668696\",\"#e09796\",\"#798696\",\"#584b96\",\"#bfcf96\",\"#a1b196\",\"#d2e396\",\"#d3c996\",\"#9e8d96\",\"#369e96\",\"#a77f96\",\"#7b3396\",\"#e32796\",\"#d06996\",\"#7ad696\",\"#d27796\",\"#5d6a96\",\"#eb3c96\",\"#8c9996\",\"#3eb196\",\"#462e96\",\"#5d7c96\",\"#9f2496\",\"#a97a96\",\"#9c5396\",\"#5cc496\",\"#452a96\",\"#559696\",\"#e86596\",\"#ee8f96\",\"#6d5f96\",\"#f42c96\",\"#a7c796\",\"#c6d396\",\"#df5b96\",\"#c44696\",\"#c8b696\",\"#de5196\",\"#3c8196\",\"#c37396\",\"#3a5996\",\"#e63496\",\"#839596\",\"#c59e96\",\"#8aab96\",\"#512396\",\"#33c296\",\"#c4be96\",\"#c39396\",\"#c05d96\",\"#3d3796\",\"#a52e96\",\"#b86296\",\"#9c8f96\",\"#58e196\",\"#979b96\",\"#56ca96\",\"#f1af96\",\"#c48296\",\"#776e96\",\"#768996\",\"#a55e96\",\"#5fa096\",\"#78e396\",\"#c87b96\",\"#455496\",\"#baa796\",\"#e3b696\",\"#45c296\",\"#349996\",\"#ecaf96\",\"#986496\",\"#506196\",\"#895796\",\"#413c96\",\"#505896\",\"#422196\",\"#7a3696\",\"#c98596\",\"#7faa96\",\"#c48096\",\"#e79996\",\"#563c96\",\"#882396\",\"#6a6696\",\"#c5bc96\",\"#b03e96\",\"#715596\",\"#686896\",\"#8a5996\",\"#b66596\",\"#949c96\",\"#35cd96\",\"#aeb396\",\"#b39596\",\"#a8d196\",\"#529596\",\"#4b3b96\",\"#e83496\",\"#78a996\",\"#5c2996\",\"#76c196\",\"#aec596\",\"#a72896\",\"#8f8496\",\"#df7996\",\"#568996\",\"#f69296\",\"#9dd996\",\"#3dc896\",\"#ea5a96\",\"#805e96\",\"#e7b896\",\"#85aa96\",\"#f06c96\",\"#379496\",\"#b67e96\",\"#b82e96\",\"#6d8596\",\"#436f96\",\"#64d296\",\"#7b4796\",\"#d59c96\",\"#875896\",\"#453f96\",\"#bec496\",\"#94c696\",\"#378796\",\"#abba96\",\"#9eb396\",\"#79cc96\",\"#f1e296\",\"#66a696\",\"#d07d96\",\"#614496\",\"#40b396\",\"#b67496\",\"#d42896\",\"#329496\",\"#6c5896\",\"#778096\",\"#dd2696\",\"#4e4796\",\"#612696\",\"#7e2a96\",\"#dbb296\",\"#d66a96\",\"#a9cc96\",\"#c8de96\",\"#cdd796\",\"#ec9e96\",\"#ef4196\",\"#3b8d96\",\"#cc7396\",\"#ad2996\",\"#ba8396\",\"#59bd96\",\"#e6ad96\",\"#e93696\",\"#6a3d96\",\"#bfbf96\",\"#e6d196\",\"#8a4196\",\"#bf6a96\",\"#798996\",\"#943c96\",\"#a53696\",\"#cf5c96\",\"#5e7a96\",\"#cd2596\",\"#a4a696\",\"#39dd96\",\"#d69096\",\"#559096\",\"#94d996\",\"#67cf96\",\"#9d7696\",\"#d52d96\",\"#478796\",\"#723296\",\"#a43a96\",\"#4dc096\",\"#613196\",\"#516a96\",\"#c16796\",\"#dabb96\",\"#99e396\",\"#cda696\",\"#36b996\",\"#7b4f96\",\"#b7ba96\",\"#392096\",\"#ce4196\",\"#4f4496\",\"#734696\",\"#3d5796\",\"#576296\",\"#f46c96\",\"#58a896\",\"#879196\",\"#a83e96\",\"#5fa996\",\"#a3dc96\",\"#4f5d96\",\"#7e8796\",\"#e59596\",\"#f43996\",\"#a3e296\",\"#3b6396\",\"#9bb796\",\"#e98096\",\"#828296\",\"#b48d96\",\"#db3b96\",\"#6c7796\",\"#529b96\",\"#e05b96\",\"#e98296\",\"#359896\",\"#ea2996\",\"#6ea796\",\"#af8b96\",\"#676996\",\"#3a5896\",\"#859b96\",\"#7c7396\",\"#d3b996\",\"#56e496\",\"#4cb896\",\"#f36896\",\"#424e96\",\"#e77196\",\"#549d96\",\"#41ba96\",\"#552496\",\"#df2196\",\"#372d96\",\"#79a196\",\"#bdc096\",\"#5e4e96\",\"#8cb796\",\"#6f2396\",\"#cb7b96\",\"#d27596\",\"#65b896\",\"#90d996\",\"#734396\",\"#48a396\",\"#88d696\",\"#bab496\",\"#5fe396\",\"#5c5d96\",\"#36c696\",\"#b62f96\",\"#5d4c96\",\"#915296\",\"#f0c196\",\"#7c6596\",\"#b76096\",\"#443196\",\"#95e196\",\"#8ade96\",\"#62a196\",\"#94c096\",\"#7ed496\",\"#9fb696\",\"#864896\",\"#7ec996\",\"#bb4596\",\"#cd6396\",\"#c1c696\",\"#482496\",\"#4cdd96\",\"#87a296\",\"#5a6596\",\"#bb6d96\",\"#838d96\",\"#505196\",\"#3e4f96\",\"#bd8096\",\"#775396\",\"#372596\",\"#372d96\",\"#ed2896\",\"#362496\",\"#ded596\",\"#f72796\",\"#bd7896\",\"#edd396\",\"#dc6c96\",\"#50d396\",\"#825e96\",\"#81d996\",\"#74da96\",\"#959296\",\"#778096\",\"#7d3196\",\"#946c96\",\"#452296\",\"#44a696\",\"#ed2b96\",\"#62d096\",\"#439c96\",\"#376e96\",\"#a07196\",\"#d27c96\",\"#c8ad96\",\"#cea196\",\"#484b96\",\"#f7b796\",\"#f63596\",\"#92e396\",\"#c4a496\",\"#d13396\",\"#9e8796\",\"#b25d96\",\"#4d8396\",\"#47a396\",\"#c05696\",\"#688596\",\"#799a96\",\"#728a96\",\"#d18d96\",\"#d76596\",\"#3ab696\",\"#6b5996\",\"#9e9796\",\"#f9a596\",\"#e93896\",\"#d66196\",\"#7aa596\",\"#953b96\",\"#a65596\",\"#81ca96\",\"#b14596\",\"#9db996\",\"#e29096\",\"#886896\",\"#634196\",\"#8eb296\",\"#596896\",\"#799696\",\"#dc9996\",\"#a1b596\",\"#51b096\",\"#ad2096\",\"#ad9496\",\"#b5ce96\",\"#bacd96\",\"#723c96\",\"#d82496\",\"#756496\",\"#ef4a96\",\"#4a9396\",\"#818496\",\"#444696\",\"#f48096\",\"#4c4396\",\"#3d8796\",\"#3a4296\",\"#64dc96\",\"#a93d96\",\"#6f9e96\",\"#d45596\",\"#558296\",\"#356e96\",\"#3dd496\",\"#8a9a96\",\"#57de96\",\"#a14396\",\"#adb896\",\"#6edd96\",\"#496596\",\"#c88d96\",\"#4b4196\",\"#41de96\",\"#40ae96\",\"#809596\",\"#4b4d96\",\"#8b3496\",\"#71b896\",\"#7d4496\",\"#433596\",\"#7ac296\",\"#e05196\",\"#93b696\",\"#689796\",\"#8c8b96\",\"#d3a696\",\"#5fcf96\",\"#526896\",\"#6b5d96\",\"#e45496\",\"#895296\",\"#705e96\",\"#d9a696\",\"#e69f96\",\"#47e496\",\"#f35396\",\"#86d496\",\"#3ed296\",\"#492f96\",\"#83c596\",\"#5db096\",\"#7fbe96\",\"#dd2b96\",\"#81d996\",\"#58bc96\",\"#724096\",\"#b5bc96\",\"#ce4896\",\"#b0df96\",\"#4cc596\",\"#949696\",\"#b63f96\",\"#8a7096\",\"#8c6596\",\"#d27196\",\"#428e96\",\"#ab8a96\",\"#df3996\",\"#892296\",\"#554b96\",\"#ca6996\",\"#796996\",\"#c67d96\",\"#416396\",\"#4e6b96\",\"#3a7596\",\"#8b4396\",\"#f59796\",\"#f3e096\",\"#ebda96\",\"#887e96\",\"#f3b196\",\"#e0cf96\",\"#b4a296\",\"#a8e196\",\"#a76796\",\"#595696\",\"#66d996\",\"#9d6b96\",\"#c12896\",\"#68cb96\",\"#d5b696\",\"#665c96\",\"#7c2896\",\"#6c3196\",\"#474596\",\"#f38b96\",\"#554396\",\"#c35396\",\"#a66196\",\"#b23696\",\"#8ea896\",\"#e84996\",\"#a24296\",\"#737f96\",\"#f77796\",\"#ca9496\",\"#584896\",\"#4d5796\",\"#54e596\",\"#d4c596\",\"#d18b96\",\"#956b96\",\"#5eb396\",\"#a2bb96\",\"#9f2396\",\"#8bb396\",\"#684596\",\"#86a396\",\"#a35a96\",\"#498696\",\"#966696\",\"#5a5996\",\"#a99096\",\"#c2b096\",\"#7dc296\",\"#e1bd96\",\"#abac96\",\"#67e296\",\"#ccae96\",\"#a6da96\",\"#4a6696\",\"#a1b596\",\"#ca3a96\",\"#513a96\",\"#cc7796\",\"#f15996\",\"#363c96\",\"#f2a896\",\"#c23796\",\"#aa5496\",\"#40e396\",\"#32ba96\",\"#e93396\",\"#d74c96\",\"#349196\",\"#a35596\",\"#8ca696\",\"#48ce96\",\"#4cd396\",\"#b29296\",\"#afa696\",\"#526596\",\"#71ab96\",\"#5c6f96\",\"#9e8696\",\"#ab7f96\",\"#c65096\",\"#e1d596\",\"#c62e96\",\"#d48996\",\"#f3a596\",\"#478896\",\"#c55096\",\"#bf6e96\",\"#c19096\",\"#585f96\",\"#ace596\",\"#5f5d96\",\"#f27296\",\"#a44c96\",\"#9ee496\",\"#408896\",\"#e73596\",\"#b42496\",\"#4a5796\",\"#8e6096\",\"#bedd96\",\"#8c8696\",\"#64ba96\",\"#622796\",\"#396a96\",\"#4ca896\",\"#4e7e96\",\"#f78096\",\"#97c496\",\"#4d2896\",\"#85d396\",\"#d96396\",\"#95ca96\",\"#8bc696\",\"#7adb96\",\"#a35796\",\"#dfa796\",\"#c3c496\",\"#a22c96\",\"#76a696\",\"#c91f96\",\"#e2bd96\",\"#67ca96\",\"#dad096\",\"#593d96\",\"#872496\",\"#463e96\",\"#a55596\",\"#a88996\",\"#5f4e96\",\"#d32d96\",\"#5cc596\",\"#49a896\",\"#7cb496\",\"#a08296\",\"#61c296\",\"#d42c96\",\"#bdbb96\",\"#994e96\",\"#8b3196\",\"#906c96\",\"#c4b296\",\"#325d96\",\"#6cdc96\",\"#f2a296\",\"#e6ab96\",\"#db9296\",\"#b29796\",\"#b4e496\",\"#43db96\",\"#3e5d96\",\"#714f96\",\"#82a096\",\"#503b96\",\"#e77796\",\"#41d096\",\"#84d896\",\"#c75596\",\"#929096\",\"#76ae96\",\"#dabf96\",\"#803196\",\"#40a496\",\"#8e2f96\",\"#946c96\",\"#d06496\",\"#b28b96\",\"#e16696\",\"#9f5596\",\"#4bdb96\",\"#702d96\",\"#819b96\",\"#e08d96\",\"#855e96\",\"#51c696\",\"#c1c396\",\"#753796\",\"#f38b96\",\"#3dbe96\",\"#a43b96\",\"#a73596\",\"#e68296\",\"#bec596\",\"#f05596\",\"#9f5f96\",\"#32a696\",\"#9cd396\",\"#988696\",\"#3a8596\",\"#cfdb96\",\"#a0bf96\",\"#7e9296\",\"#8c3496\",\"#43ba96\",\"#bf7396\",\"#e31e96\",\"#a3b296\",\"#f2d996\",\"#88cc96\",\"#553e96\",\"#a54096\",\"#336796\",\"#583596\",\"#514496\",\"#94bf96\",\"#4c3896\",\"#ee9996\",\"#ddaa96\",\"#be8696\",\"#b9be96\",\"#9c3b96\",\"#b5b396\",\"#9e6d96\",\"#afe096\",\"#349b96\",\"#992196\",\"#8ce296\",\"#736596\",\"#506b96\",\"#708796\",\"#6cd196\",\"#5ab196\",\"#ad6296\",\"#da2296\",\"#c4cc96\",\"#35da96\",\"#c47996\",\"#8d6296\",\"#a98096\",\"#f7bd96\",\"#485896\",\"#3c3996\",\"#f22396\",\"#b12f96\",\"#975c96\",\"#749696\",\"#dab196\",\"#e75896\",\"#d84496\",\"#8a6596\",\"#d38b96\",\"#345196\",\"#50bd96\",\"#ad2396\",\"#66d296\",\"#ef2496\",\"#f04796\",\"#395b96\",\"#758896\",\"#916c96\",\"#ba8996\",\"#d06c96\",\"#a6c896\",\"#a23396\",\"#82bf96\",\"#833496\",\"#d8e196\",\"#4bab96\",\"#a5a196\",\"#59d496\",\"#cdc296\",\"#ab6296\",\"#649f96\",\"#6c7096\",\"#a86496\",\"#835396\",\"#a52796\",\"#f63b96\",\"#7b6996\",\"#bcad96\",\"#a1ad96\",\"#f98196\",\"#7c3f96\",\"#c59296\",\"#ae6596\",\"#8cd696\",\"#8c4796\",\"#5a9a96\",\"#e9d496\",\"#e1c996\",\"#b62396\",\"#f8bf96\",\"#534596\",\"#503c96\",\"#78ab96\",\"#8da196\",\"#483596\",\"#7c9f96\",\"#879996\",\"#5a8396\",\"#5e8f96\",\"#dfcf96\",\"#6b6a96\",\"#a95f96\",\"#c07396\",\"#38cf96\",\"#44ba96\",\"#eccc96\",\"#cd5496\",\"#f27396\",\"#857096\",\"#b13d96\",\"#56d096\",\"#5acd96\",\"#703596\",\"#43b796\",\"#783696\",\"#a48b96\",\"#dc7796\",\"#878896\",\"#8ba496\",\"#a72196\",\"#4acd96\",\"#8ab596\",\"#af9a96\",\"#ee8f96\",\"#757b96\",\"#8c6f96\",\"#efbf96\",\"#bae596\",\"#834196\",\"#60e496\",\"#b6c496\",\"#54e296\",\"#a4b296\",\"#a7a696\",\"#77d196\",\"#a2d496\",\"#f47296\",\"#9d6196\",\"#ca5196\",\"#642996\",\"#cd5996\",\"#57cd96\",\"#bf7596\",\"#8caa96\"],\"radius\":{\"__ndarray__\":\"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\",\"dtype\":\"float64\",\"shape\":[2000]},\"x\":{\"__ndarray__\":\"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\",\"dtype\":\"float64\",\"shape\":[2000]},\"y\":{\"__ndarray__\":\"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\",\"dtype\":\"float64\",\"shape\":[2000]}}},\"id\":\"99c24bbb-89c6-498b-a263-1b692a8aa115\",\"type\":\"ColumnDataSource\"},{\"attributes\":{\"callback\":null,\"tooltips\":[[\"index\",\"$index\"],[\"(x,y)\",\"($x, $y)\"],[\"radius\",\"@radius\"],[\"fill color\",\"$color[hex, swatch]:fill_color\"]]},\"id\":\"48d97e9e-e751-4150-b43c-003eba16f7c8\",\"type\":\"HoverTool\"},{\"attributes\":{\"plot\":{\"id\":\"8cacb43c-84b6-406b-97aa-ceec61263fc2\",\"subtype\":\"Figure\",\"type\":\"Plot\"},\"ticker\":{\"id\":\"a5c59c0c-1ed0-4d6f-a2d5-d23e9bbd709e\",\"type\":\"BasicTicker\"}},\"id\":\"488a565c-5540-447d-8056-fc0ea9477864\",\"type\":\"Grid\"},{\"attributes\":{\"dimension\":1,\"plot\":{\"id\":\"8cacb43c-84b6-406b-97aa-ceec61263fc2\",\"subtype\":\"Figure\",\"type\":\"Plot\"},\"ticker\":{\"id\":\"2fd13fa2-e5b0-4cfa-b099-bf852a2bc476\",\"type\":\"BasicTicker\"}},\"id\":\"77346ad9-5808-4e8f-a5a1-4372c40644ad\",\"type\":\"Grid\"},{\"attributes\":{\"formatter\":{\"id\":\"9c4c1bd9-30d8-48a7-9536-f24ee961a683\",\"type\":\"BasicTickFormatter\"},\"plot\":{\"id\":\"8cacb43c-84b6-406b-97aa-ceec61263fc2\",\"subtype\":\"Figure\",\"type\":\"Plot\"},\"ticker\":{\"id\":\"a5c59c0c-1ed0-4d6f-a2d5-d23e9bbd709e\",\"type\":\"BasicTicker\"}},\"id\":\"b4b65255-4425-4a61-9a7c-b63c1c381927\",\"type\":\"LinearAxis\"},{\"attributes\":{},\"id\":\"a5c59c0c-1ed0-4d6f-a2d5-d23e9bbd709e\",\"type\":\"BasicTicker\"},{\"attributes\":{\"formatter\":{\"id\":\"3de9b193-1914-47ee-ad28-0c141b35db6f\",\"type\":\"BasicTickFormatter\"},\"plot\":{\"id\":\"8cacb43c-84b6-406b-97aa-ceec61263fc2\",\"subtype\":\"Figure\",\"type\":\"Plot\"},\"ticker\":{\"id\":\"2fd13fa2-e5b0-4cfa-b099-bf852a2bc476\",\"type\":\"BasicTicker\"}},\"id\":\"22adc8f2-5c5c-4dac-badc-b460508069a0\",\"type\":\"LinearAxis\"},{\"attributes\":{},\"id\":\"2fd13fa2-e5b0-4cfa-b099-bf852a2bc476\",\"type\":\"BasicTicker\"},{\"attributes\":{\"fill_alpha\":{\"value\":0.6},\"fill_color\":{\"field\":\"fill_color\"},\"line_color\":{\"value\":null},\"radius\":{\"field\":\"radius\",\"units\":\"data\"},\"x\":{\"field\":\"x\"},\"y\":{\"field\":\"y\"}},\"id\":\"c5da4ae6-9ddb-42ac-ad78-9965bb64556f\",\"type\":\"Circle\"},{\"attributes\":{},\"id\":\"f953cc3f-5b61-4de6-9377-60689e653d24\",\"type\":\"WheelZoomTool\"},{\"attributes\":{\"source\":{\"id\":\"99c24bbb-89c6-498b-a263-1b692a8aa115\",\"type\":\"ColumnDataSource\"}},\"id\":\"c3993d57-d875-4400-bf28-cc47ee4f0e18\",\"type\":\"CDSView\"},{\"attributes\":{},\"id\":\"30124e5b-5f9e-486e-a52c-07d109118eb5\",\"type\":\"ResetTool\"},{\"attributes\":{},\"id\":\"3de9b193-1914-47ee-ad28-0c141b35db6f\",\"type\":\"BasicTickFormatter\"},{\"attributes\":{\"fill_alpha\":{\"value\":0.1},\"fill_color\":{\"value\":\"#1f77b4\"},\"line_alpha\":{\"value\":0.1},\"line_color\":{\"value\":\"#1f77b4\"},\"radius\":{\"field\":\"radius\",\"units\":\"data\"},\"x\":{\"field\":\"x\"},\"y\":{\"field\":\"y\"}},\"id\":\"738bce35-9b4b-412f-95dc-0055654b145c\",\"type\":\"Circle\"},{\"attributes\":{\"plot\":null,\"text\":\"Just an example plot\"},\"id\":\"363f945f-fb5d-48c3-94c8-08d8b4270859\",\"type\":\"Title\"},{\"attributes\":{\"below\":[{\"id\":\"b4b65255-4425-4a61-9a7c-b63c1c381927\",\"type\":\"LinearAxis\"}],\"left\":[{\"id\":\"22adc8f2-5c5c-4dac-badc-b460508069a0\",\"type\":\"LinearAxis\"}],\"renderers\":[{\"id\":\"b4b65255-4425-4a61-9a7c-b63c1c381927\",\"type\":\"LinearAxis\"},{\"id\":\"488a565c-5540-447d-8056-fc0ea9477864\",\"type\":\"Grid\"},{\"id\":\"22adc8f2-5c5c-4dac-badc-b460508069a0\",\"type\":\"LinearAxis\"},{\"id\":\"77346ad9-5808-4e8f-a5a1-4372c40644ad\",\"type\":\"Grid\"},{\"id\":\"2e211602-45a5-4371-8125-01ff1521aa3c\",\"type\":\"GlyphRenderer\"}],\"title\":{\"id\":\"363f945f-fb5d-48c3-94c8-08d8b4270859\",\"type\":\"Title\"},\"toolbar\":{\"id\":\"c03621f5-09d0-4658-8963-4bb27b75cd7d\",\"type\":\"Toolbar\"},\"x_range\":{\"id\":\"41fd1f9f-2242-4087-a16d-77fc72d76753\",\"type\":\"DataRange1d\"},\"x_scale\":{\"id\":\"b02c2403-85fa-41bd-a361-4a6009d08dfd\",\"type\":\"LinearScale\"},\"y_range\":{\"id\":\"d9c2a592-cb68-48ea-aab9-31cd17dfcfd0\",\"type\":\"DataRange1d\"},\"y_scale\":{\"id\":\"ed8b364e-e169-40c8-a12e-46c3d0c41194\",\"type\":\"LinearScale\"}},\"id\":\"8cacb43c-84b6-406b-97aa-ceec61263fc2\",\"subtype\":\"Figure\",\"type\":\"Plot\"},{\"attributes\":{\"callback\":null},\"id\":\"41fd1f9f-2242-4087-a16d-77fc72d76753\",\"type\":\"DataRange1d\"},{\"attributes\":{},\"id\":\"9c4c1bd9-30d8-48a7-9536-f24ee961a683\",\"type\":\"BasicTickFormatter\"},{\"attributes\":{\"active_drag\":\"auto\",\"active_inspect\":\"auto\",\"active_scroll\":\"auto\",\"active_tap\":\"auto\",\"tools\":[{\"id\":\"48d97e9e-e751-4150-b43c-003eba16f7c8\",\"type\":\"HoverTool\"},{\"id\":\"f953cc3f-5b61-4de6-9377-60689e653d24\",\"type\":\"WheelZoomTool\"},{\"id\":\"30124e5b-5f9e-486e-a52c-07d109118eb5\",\"type\":\"ResetTool\"}]},\"id\":\"c03621f5-09d0-4658-8963-4bb27b75cd7d\",\"type\":\"Toolbar\"},{\"attributes\":{\"data_source\":{\"id\":\"99c24bbb-89c6-498b-a263-1b692a8aa115\",\"type\":\"ColumnDataSource\"},\"glyph\":{\"id\":\"c5da4ae6-9ddb-42ac-ad78-9965bb64556f\",\"type\":\"Circle\"},\"hover_glyph\":null,\"muted_glyph\":null,\"nonselection_glyph\":{\"id\":\"738bce35-9b4b-412f-95dc-0055654b145c\",\"type\":\"Circle\"},\"selection_glyph\":null,\"view\":{\"id\":\"c3993d57-d875-4400-bf28-cc47ee4f0e18\",\"type\":\"CDSView\"}},\"id\":\"2e211602-45a5-4371-8125-01ff1521aa3c\",\"type\":\"GlyphRenderer\"},{\"attributes\":{\"callback\":null},\"id\":\"d9c2a592-cb68-48ea-aab9-31cd17dfcfd0\",\"type\":\"DataRange1d\"},{\"attributes\":{},\"id\":\"b02c2403-85fa-41bd-a361-4a6009d08dfd\",\"type\":\"LinearScale\"}],\"root_ids\":[\"8cacb43c-84b6-406b-97aa-ceec61263fc2\"]},\"title\":\"Bokeh Application\",\"version\":\"0.12.10\"}};\n",
       "    var render_items = [{\"docid\":\"85034d01-89aa-471c-bf74-6193537d45ce\",\"elementid\":\"539b7c4e-2e34-4056-8dc4-9dc9d662e13b\",\"modelid\":\"8cacb43c-84b6-406b-97aa-ceec61263fc2\"}];\n",
       "\n",
       "    root.Bokeh.embed.embed_items(docs_json, render_items);\n",
       "  }\n",
       "\n",
       "  if (root.Bokeh !== undefined) {\n",
       "    embed_document(root);\n",
       "  } else {\n",
       "    var attempts = 0;\n",
       "    var timer = setInterval(function(root) {\n",
       "      if (root.Bokeh !== undefined) {\n",
       "        embed_document(root);\n",
       "        clearInterval(timer);\n",
       "      }\n",
       "      attempts++;\n",
       "      if (attempts > 100) {\n",
       "        console.log(\"Bokeh: ERROR: Unable to embed document because BokehJS library is missing\")\n",
       "        clearInterval(timer);\n",
       "      }\n",
       "    }, 10, root)\n",
       "  }\n",
       "})(window);"
      ],
      "application/vnd.bokehjs_exec.v0+json": ""
     },
     "metadata": {
      "application/vnd.bokehjs_exec.v0+json": {
       "id": "8cacb43c-84b6-406b-97aa-ceec61263fc2"
      }
     },
     "output_type": "display_data"
    }
   ],
   "source": [
    "N = 2000\n",
    "x = np.random.random(size=N) * 100\n",
    "y = np.random.random(size=N) * 100\n",
    "radii = np.random.random(size=N) * 1.5\n",
    "colors = [\"#%02x%02x%02x\" % (r, g, 150) for r,g in zip(np.floor(50+2*x).astype(int), np.floor(30+2*y).astype(int))]\n",
    "\n",
    "hover = HoverTool(tooltips = [\n",
    "    (\"index\", \"$index\"),\n",
    "    (\"(x,y)\", \"($x, $y)\"),\n",
    "    (\"radius\", \"@radius\"),\n",
    "    (\"fill color\", \"$color[hex, swatch]:fill_color\")\n",
    "])\n",
    "\n",
    "p = figure(title = \"Just an example plot\", tools=[hover, 'wheel_zoom', 'reset'])\n",
    "p.circle(x, y, radius = radii, fill_color = colors, fill_alpha = 0.6, line_color = None)\n",
    "show(p)"
   ]
  },
  {
   "cell_type": "markdown",
   "metadata": {},
   "source": [
    "### A simple scatter plot"
   ]
  },
  {
   "cell_type": "markdown",
   "metadata": {},
   "source": [
    "#### Load the fertility data first\n",
    "- This data has 182 datpoints. but most countries are missing data. Some of the commas in the file are off too. Its quite a mess.\n",
    "- I did not find a clean similar file on the web with a quick search so I am just going to use this for now. \n",
    "- The point is to practice the charting and I can still do that"
   ]
  },
  {
   "cell_type": "code",
   "execution_count": 70,
   "metadata": {},
   "outputs": [
    {
     "name": "stdout",
     "output_type": "stream",
     "text": [
      "(182, 5)\n"
     ]
    },
    {
     "data": {
      "text/html": [
       "<div>\n",
       "<style>\n",
       "    .dataframe thead tr:only-child th {\n",
       "        text-align: right;\n",
       "    }\n",
       "\n",
       "    .dataframe thead th {\n",
       "        text-align: left;\n",
       "    }\n",
       "\n",
       "    .dataframe tbody tr th {\n",
       "        vertical-align: top;\n",
       "    }\n",
       "</style>\n",
       "<table border=\"1\" class=\"dataframe\">\n",
       "  <thead>\n",
       "    <tr style=\"text-align: right;\">\n",
       "      <th></th>\n",
       "      <th>Country</th>\n",
       "      <th>Continent</th>\n",
       "      <th>female literacy</th>\n",
       "      <th>fertility</th>\n",
       "      <th>population</th>\n",
       "    </tr>\n",
       "  </thead>\n",
       "  <tbody>\n",
       "    <tr>\n",
       "      <th>0</th>\n",
       "      <td>Chine</td>\n",
       "      <td>ASI</td>\n",
       "      <td>90.5</td>\n",
       "      <td>1.769</td>\n",
       "      <td>1.324655e+09</td>\n",
       "    </tr>\n",
       "    <tr>\n",
       "      <th>1</th>\n",
       "      <td>Inde</td>\n",
       "      <td>ASI</td>\n",
       "      <td>50.8</td>\n",
       "      <td>2.682</td>\n",
       "      <td>1.139965e+09</td>\n",
       "    </tr>\n",
       "    <tr>\n",
       "      <th>2</th>\n",
       "      <td>USA</td>\n",
       "      <td>NAM</td>\n",
       "      <td>99</td>\n",
       "      <td>2.077</td>\n",
       "      <td>3.040600e+08</td>\n",
       "    </tr>\n",
       "    <tr>\n",
       "      <th>3</th>\n",
       "      <td>Indonésie</td>\n",
       "      <td>ASI</td>\n",
       "      <td>88.8</td>\n",
       "      <td>2.132</td>\n",
       "      <td>2.273451e+08</td>\n",
       "    </tr>\n",
       "    <tr>\n",
       "      <th>4</th>\n",
       "      <td>Brésil</td>\n",
       "      <td>LAT</td>\n",
       "      <td>90.2</td>\n",
       "      <td>1.827</td>\n",
       "      <td>1.919715e+08</td>\n",
       "    </tr>\n",
       "  </tbody>\n",
       "</table>\n",
       "</div>"
      ],
      "text/plain": [
       "    Country  Continent female literacy fertility    population\n",
       "0      Chine       ASI            90.5     1.769  1.324655e+09\n",
       "1       Inde       ASI            50.8     2.682  1.139965e+09\n",
       "2        USA       NAM              99     2.077  3.040600e+08\n",
       "3  Indonésie       ASI            88.8     2.132  2.273451e+08\n",
       "4     Brésil       LAT            90.2     1.827  1.919715e+08"
      ]
     },
     "execution_count": 70,
     "metadata": {},
     "output_type": "execute_result"
    }
   ],
   "source": [
    "file = 'https://assets.datacamp.com/production/course_1392/datasets/literacy_birth_rate.csv'\n",
    "female = pd.read_csv(file)\n",
    "print(female.shape)\n",
    "female.head()"
   ]
  },
  {
   "cell_type": "code",
   "execution_count": 71,
   "metadata": {
    "collapsed": true
   },
   "outputs": [],
   "source": [
    "fertility = female.fertility\n",
    "female_literacy = female['female literacy']"
   ]
  },
  {
   "cell_type": "code",
   "execution_count": 72,
   "metadata": {},
   "outputs": [
    {
     "data": {
      "text/html": [
       "\n",
       "<div class=\"bk-root\">\n",
       "    <div class=\"bk-plotdiv\" id=\"a617feeb-28cb-4c66-9458-7e8f256e9eb9\"></div>\n",
       "</div>"
      ]
     },
     "metadata": {},
     "output_type": "display_data"
    },
    {
     "data": {
      "application/javascript": [
       "(function(root) {\n",
       "  function embed_document(root) {\n",
       "    var docs_json = {\"e7a5cdcc-2a95-42dc-a83b-93a3a28f56a5\":{\"roots\":{\"references\":[{\"attributes\":{},\"id\":\"e4fe65a7-e414-4d97-9014-4844b36f8f5d\",\"type\":\"SaveTool\"},{\"attributes\":{},\"id\":\"ba0c9eec-56c9-48d9-8baf-86d81c484b6c\",\"type\":\"ResetTool\"},{\"attributes\":{},\"id\":\"ee4232e1-818c-4e46-8866-f2b01d4ddc33\",\"type\":\"BasicTicker\"},{\"attributes\":{},\"id\":\"70dd5cb6-f5f6-4586-8d79-6b792457d4c0\",\"type\":\"HelpTool\"},{\"attributes\":{\"dimension\":1,\"plot\":{\"id\":\"56f3786e-5456-4689-a743-16b689bf80c9\",\"subtype\":\"Figure\",\"type\":\"Plot\"},\"ticker\":{\"id\":\"ee4232e1-818c-4e46-8866-f2b01d4ddc33\",\"type\":\"BasicTicker\"}},\"id\":\"6948558e-1623-46e9-a910-c122a00db46c\",\"type\":\"Grid\"},{\"attributes\":{\"axis_label\":\"female_literacy (% population)\",\"formatter\":{\"id\":\"a58d19d6-f636-4503-8f93-c39f0bf3db8a\",\"type\":\"BasicTickFormatter\"},\"plot\":{\"id\":\"56f3786e-5456-4689-a743-16b689bf80c9\",\"subtype\":\"Figure\",\"type\":\"Plot\"},\"ticker\":{\"id\":\"ee4232e1-818c-4e46-8866-f2b01d4ddc33\",\"type\":\"BasicTicker\"}},\"id\":\"2bfea59a-4d9e-4a1b-9fb2-d54d941e7465\",\"type\":\"LinearAxis\"},{\"attributes\":{},\"id\":\"24be5bb5-a5dd-485a-a466-bba8d1067778\",\"type\":\"LinearScale\"},{\"attributes\":{\"plot\":null,\"text\":\"\"},\"id\":\"7f8956c4-8af5-40f4-a97b-daf728a2efb3\",\"type\":\"Title\"},{\"attributes\":{\"fill_alpha\":{\"value\":0.1},\"fill_color\":{\"value\":\"#1f77b4\"},\"line_alpha\":{\"value\":0.1},\"line_color\":{\"value\":\"#1f77b4\"},\"x\":{\"field\":\"x\"},\"y\":{\"field\":\"y\"}},\"id\":\"fdec4cee-674a-4ecc-9d3f-c372ba48f802\",\"type\":\"Circle\"},{\"attributes\":{\"fill_color\":{\"value\":\"#1f77b4\"},\"line_color\":{\"value\":\"#1f77b4\"},\"x\":{\"field\":\"x\"},\"y\":{\"field\":\"y\"}},\"id\":\"ccc0a0c3-0f75-4e43-b830-2b05f54154d4\",\"type\":\"Circle\"},{\"attributes\":{},\"id\":\"cb680f8d-5be8-4530-a439-5320dce60e7d\",\"type\":\"LinearScale\"},{\"attributes\":{\"plot\":{\"id\":\"56f3786e-5456-4689-a743-16b689bf80c9\",\"subtype\":\"Figure\",\"type\":\"Plot\"},\"ticker\":{\"id\":\"83f7e842-7391-401f-891d-31c7ab886bc8\",\"type\":\"BasicTicker\"}},\"id\":\"091bd48b-d728-4c0f-aa17-43dec1af3734\",\"type\":\"Grid\"},{\"attributes\":{\"callback\":null},\"id\":\"fe8503dc-794e-49b5-a944-a7b020a70d4a\",\"type\":\"DataRange1d\"},{\"attributes\":{},\"id\":\"a58d19d6-f636-4503-8f93-c39f0bf3db8a\",\"type\":\"BasicTickFormatter\"},{\"attributes\":{\"axis_label\":\"fertility (children per woman)\",\"formatter\":{\"id\":\"ca803f6b-9874-4c5f-a8cc-bd09041a0805\",\"type\":\"BasicTickFormatter\"},\"plot\":{\"id\":\"56f3786e-5456-4689-a743-16b689bf80c9\",\"subtype\":\"Figure\",\"type\":\"Plot\"},\"ticker\":{\"id\":\"83f7e842-7391-401f-891d-31c7ab886bc8\",\"type\":\"BasicTicker\"}},\"id\":\"58b78ce6-3017-4d2f-a3a7-764ecdec6a90\",\"type\":\"LinearAxis\"},{\"attributes\":{},\"id\":\"83f7e842-7391-401f-891d-31c7ab886bc8\",\"type\":\"BasicTicker\"},{\"attributes\":{},\"id\":\"96bd2d45-11c5-499e-8d93-a7d91cb0b6d8\",\"type\":\"WheelZoomTool\"},{\"attributes\":{\"data_source\":{\"id\":\"6a92bd54-67e6-443d-93a7-ffc09216956c\",\"type\":\"ColumnDataSource\"},\"glyph\":{\"id\":\"ccc0a0c3-0f75-4e43-b830-2b05f54154d4\",\"type\":\"Circle\"},\"hover_glyph\":null,\"muted_glyph\":null,\"nonselection_glyph\":{\"id\":\"fdec4cee-674a-4ecc-9d3f-c372ba48f802\",\"type\":\"Circle\"},\"selection_glyph\":null,\"view\":{\"id\":\"9a1ee746-56c8-4caf-899e-b6eee4b7b728\",\"type\":\"CDSView\"}},\"id\":\"538140ab-435c-4542-a37f-f0be8eaf91a7\",\"type\":\"GlyphRenderer\"},{\"attributes\":{},\"id\":\"ca803f6b-9874-4c5f-a8cc-bd09041a0805\",\"type\":\"BasicTickFormatter\"},{\"attributes\":{\"callback\":null,\"column_names\":[\"x\",\"y\"],\"data\":{\"x\":[\"1.769\",\"2.682\",\"2.077\",\"2.132\",\"1.827\",\"3.872\",\"2.288\",\"5.173\",\"1.393\",\"1.262\",\"2.156\",\"3.026\",\"2.033\",\"1.324\",\"2.816\",\"5.211\",\"2.1\",\"1.781\",\"1.822\",\"5.908\",\"1.881\",\"1.852\",\"1.39\",\"2.281\",\"2.505\",\"1.224\",\"1.361\",\"1.468\",\"2.404\",\"5.52\",\"4.058\",\"2.223\",\"4.859\",\"1.267\",\"2.342\",\"1.579\",\"6.254\",\"2.334\",\"3.961\",\"6.505\",\"2.53\",\"2.823\",\"2.498\",\"2.248\",\"2.508\",\"3.04\",\"1.854\",\"4.22\",\"5.1\",\"4.967\",\"1.325\",\"4.514\",\"3.173\",\"2.308\",\"4.62\",\"4.541\",\"5.637\",\"1.926\",\"1.747\",\"2.294\",\"5.841\",\"5.455\",\"7.069\",\"2.859\",\"4.018\",\"2.513\",\"5.405\",\"5.737\",\"3.363\",\"4.89\",\"1.385\",\"1.505\",\"6.081\",\"1.784\",\"1.378\",\"1.45\",\"1.841\",\"1.37\",\"2.612\",\"5.329\",\"5.33\",\"3.371\",\"1.281\",\"1.871\",\"2.153\",\"5.378\",\"4.45\",\"1.46\",\"1.436\",\"1.612\",\"3.19\",\"2.752\",\"3.35\",\"4.01\",\"4.166\",\"2.642\",\"2.977\",\"3.415\",\"2.295\",\"3.019\",\"2.683\",\"5.165\",\"1.849\",\"1.836\",\"2.518\",\"2.43\",\"4.528\",\"1.263\",\"1.885\",\"1.943\",\"1.899\",\"1.442\",\"1.953\",\"4.697\",\"1.582\",\"2.025\",\"1.841\",\"5.011\",\"1.212\",\"1.502\",\"2.516\",\"1.367\",\"2.089\",\"4.388\",\"1.854\",\"1.748\",\"2.978\",\"2.152\",\"2.362\",\"1.988\",\"1.426\",\"3.29\",\"3.264\",\"1.436\",\"1.393\",\"2.822\",\"4.969\",\"5.659\",\"3.24\",\"1.693\",\"1.647\",\"2.36\",\"1.792\",\"3.45\",\"1.516\",\"2.233\",\"2.563\",\"5.283\",\"3.885\",\"0.966\",\"2.373\",\"2.663\",\"1.251\",\"2.052\",\"3.371\",\"2.093\",\"2\",\"3.883\",\"3.852\",\"3.718\",\"1.732\",\"3.928\",\"NaN\",\"NaN\",\"NaN\",\"NaN\",\"NaN\",\"NaN\",\"NaN\",\"NaN\",\"NaN\",\"NaN\",\"NaN\",\"NaN\",\"NaN\",\"fertility\",\"NaN\",\"NaN\",\"NaN\",\"NaN\",\"NaN\",\"NaN\"],\"y\":[\"90.5\",\"50.8\",\"99\",\"88.8\",\"90.2\",\"40\",\"49.8\",\"48.8\",\"99.4\",\"99\",\"91.5\",\"93.9\",\"90.2\",\"99\",\"57.8\",\"22.8\",\"81.3\",\"77.2\",\"91.5\",\"56.1\",\"99\",\"99\",\"98.5\",\"89.2\",\"88.1\",\"96.6\",\"99.6\",\"96.9\",\"93.4\",\"66.3\",\"59.6\",\"97.7\",\"82.8\",\"99.3\",\"63.9\",\"99\",\"66.8\",\"44.1\",\"69.2\",\"12.6\",\"84.6\",\"45.4\",\"94.9\",\"98.9\",\"89.8\",\"80.2\",\"100\",\"59.3\",\"42.8\",\"40.1\",\"96.9\",\"44.3\",\"77.2\",\"89.1\",\"65.3\",\"67.8\",\"57\",\"98.7\",\"99\",\"99.5\",\"21.6\",\"65.8\",\"15.1\",\"70.9\",\"68.7\",\"81.7\",\"18.2\",\"61\",\"88.8\",\"33\",\"95.9\",\"99.8\",\"21.9\",\"99\",\"92.9\",\"99\",\"71\",\"98.9\",\"88.3\",\"26.4\",\"66.1\",\"86\",\"99.7\",\"99\",\"99.2\",\"28.1\",\"59.9\",\"99\",\"97.9\",\"96.2\",\"83.5\",\"95.9\",\"99.5\",\"55.6\",\"53.7\",\"81.3\",\"93.5\",\"63.2\",\"81.4\",\"88.9\",\"77.9\",\"28.9\",\"99\",\"100\",\"99.1\",\"99.3\",\"54.5\",\"91.6\",\"100\",\"96.2\",\"91.5\",\"98\",\"99\",\"41.1\",\"99.7\",\"99\",\"86\",\"53\",\"95.9\",\"97.8\",\"92.8\",\"99.7\",\"98.5\",\"49.5\",\"98.7\",\"99.4\",\"80.9\",\"93.1\",\"90.8\",\"97.8\",\"99.8\",\"87.7\",\"95.1\",\"95.4\",\"99.7\",\"83.5\",\"34.3\",\"36.5\",\"83.2\",\"99.8\",\"98.2\",\"90.4\",\"84.8\",\"85.6\",\"96.7\",\"89.4\",\"38.7\",\"89.1\",\"67.8\",\"90.7\",\"88.4\",\"79.3\",\"93.5\",\"93.3\",\"96.5\",\"99\",\"98.4\",\"79.5\",\"98.5\",\"83.3\",\"98\",\"99.1\",\"NaN\",\"NaN\",\"NaN\",\"NaN\",\"NaN\",\"NaN\",\"NaN\",\"NaN\",\"NaN\",\"NaN\",\"NaN\",\"NaN\",\"NaN\",\"female literacy\",\"99.4\",\"96.3\",\"99\",\"92.3\",\"90.9\",\"77\"]}},\"id\":\"6a92bd54-67e6-443d-93a7-ffc09216956c\",\"type\":\"ColumnDataSource\"},{\"attributes\":{\"bottom_units\":\"screen\",\"fill_alpha\":{\"value\":0.5},\"fill_color\":{\"value\":\"lightgrey\"},\"left_units\":\"screen\",\"level\":\"overlay\",\"line_alpha\":{\"value\":1.0},\"line_color\":{\"value\":\"black\"},\"line_dash\":[4,4],\"line_width\":{\"value\":2},\"plot\":null,\"render_mode\":\"css\",\"right_units\":\"screen\",\"top_units\":\"screen\"},\"id\":\"17f81dd2-d713-432f-a3ce-1155361f075b\",\"type\":\"BoxAnnotation\"},{\"attributes\":{\"active_drag\":\"auto\",\"active_inspect\":\"auto\",\"active_scroll\":\"auto\",\"active_tap\":\"auto\",\"tools\":[{\"id\":\"889a0a6b-7cf0-4fee-b91b-ca677be05909\",\"type\":\"PanTool\"},{\"id\":\"96bd2d45-11c5-499e-8d93-a7d91cb0b6d8\",\"type\":\"WheelZoomTool\"},{\"id\":\"1890e5c3-e57b-4417-8320-65ea8ded77e5\",\"type\":\"BoxZoomTool\"},{\"id\":\"e4fe65a7-e414-4d97-9014-4844b36f8f5d\",\"type\":\"SaveTool\"},{\"id\":\"ba0c9eec-56c9-48d9-8baf-86d81c484b6c\",\"type\":\"ResetTool\"},{\"id\":\"70dd5cb6-f5f6-4586-8d79-6b792457d4c0\",\"type\":\"HelpTool\"}]},\"id\":\"1d2d67bf-a56e-4472-b6af-5b4bbc5adfda\",\"type\":\"Toolbar\"},{\"attributes\":{},\"id\":\"889a0a6b-7cf0-4fee-b91b-ca677be05909\",\"type\":\"PanTool\"},{\"attributes\":{\"callback\":null},\"id\":\"0d9323c4-ca12-421e-8bef-5cfa2e7d098f\",\"type\":\"DataRange1d\"},{\"attributes\":{\"source\":{\"id\":\"6a92bd54-67e6-443d-93a7-ffc09216956c\",\"type\":\"ColumnDataSource\"}},\"id\":\"9a1ee746-56c8-4caf-899e-b6eee4b7b728\",\"type\":\"CDSView\"},{\"attributes\":{\"overlay\":{\"id\":\"17f81dd2-d713-432f-a3ce-1155361f075b\",\"type\":\"BoxAnnotation\"}},\"id\":\"1890e5c3-e57b-4417-8320-65ea8ded77e5\",\"type\":\"BoxZoomTool\"},{\"attributes\":{\"below\":[{\"id\":\"58b78ce6-3017-4d2f-a3a7-764ecdec6a90\",\"type\":\"LinearAxis\"}],\"left\":[{\"id\":\"2bfea59a-4d9e-4a1b-9fb2-d54d941e7465\",\"type\":\"LinearAxis\"}],\"renderers\":[{\"id\":\"58b78ce6-3017-4d2f-a3a7-764ecdec6a90\",\"type\":\"LinearAxis\"},{\"id\":\"091bd48b-d728-4c0f-aa17-43dec1af3734\",\"type\":\"Grid\"},{\"id\":\"2bfea59a-4d9e-4a1b-9fb2-d54d941e7465\",\"type\":\"LinearAxis\"},{\"id\":\"6948558e-1623-46e9-a910-c122a00db46c\",\"type\":\"Grid\"},{\"id\":\"17f81dd2-d713-432f-a3ce-1155361f075b\",\"type\":\"BoxAnnotation\"},{\"id\":\"538140ab-435c-4542-a37f-f0be8eaf91a7\",\"type\":\"GlyphRenderer\"}],\"title\":{\"id\":\"7f8956c4-8af5-40f4-a97b-daf728a2efb3\",\"type\":\"Title\"},\"toolbar\":{\"id\":\"1d2d67bf-a56e-4472-b6af-5b4bbc5adfda\",\"type\":\"Toolbar\"},\"x_range\":{\"id\":\"0d9323c4-ca12-421e-8bef-5cfa2e7d098f\",\"type\":\"DataRange1d\"},\"x_scale\":{\"id\":\"24be5bb5-a5dd-485a-a466-bba8d1067778\",\"type\":\"LinearScale\"},\"y_range\":{\"id\":\"fe8503dc-794e-49b5-a944-a7b020a70d4a\",\"type\":\"DataRange1d\"},\"y_scale\":{\"id\":\"cb680f8d-5be8-4530-a439-5320dce60e7d\",\"type\":\"LinearScale\"}},\"id\":\"56f3786e-5456-4689-a743-16b689bf80c9\",\"subtype\":\"Figure\",\"type\":\"Plot\"}],\"root_ids\":[\"56f3786e-5456-4689-a743-16b689bf80c9\"]},\"title\":\"Bokeh Application\",\"version\":\"0.12.10\"}};\n",
       "    var render_items = [{\"docid\":\"e7a5cdcc-2a95-42dc-a83b-93a3a28f56a5\",\"elementid\":\"a617feeb-28cb-4c66-9458-7e8f256e9eb9\",\"modelid\":\"56f3786e-5456-4689-a743-16b689bf80c9\"}];\n",
       "\n",
       "    root.Bokeh.embed.embed_items(docs_json, render_items);\n",
       "  }\n",
       "\n",
       "  if (root.Bokeh !== undefined) {\n",
       "    embed_document(root);\n",
       "  } else {\n",
       "    var attempts = 0;\n",
       "    var timer = setInterval(function(root) {\n",
       "      if (root.Bokeh !== undefined) {\n",
       "        embed_document(root);\n",
       "        clearInterval(timer);\n",
       "      }\n",
       "      attempts++;\n",
       "      if (attempts > 100) {\n",
       "        console.log(\"Bokeh: ERROR: Unable to embed document because BokehJS library is missing\")\n",
       "        clearInterval(timer);\n",
       "      }\n",
       "    }, 10, root)\n",
       "  }\n",
       "})(window);"
      ],
      "application/vnd.bokehjs_exec.v0+json": ""
     },
     "metadata": {
      "application/vnd.bokehjs_exec.v0+json": {
       "id": "56f3786e-5456-4689-a743-16b689bf80c9"
      }
     },
     "output_type": "display_data"
    }
   ],
   "source": [
    "# Create the figure: p\n",
    "p = figure(x_axis_label='fertility (children per woman)', y_axis_label='female_literacy (% population)')\n",
    "\n",
    "# Add a circle glyph to the figure p\n",
    "p.circle(fertility, female_literacy)\n",
    "\n",
    "# Display the plot\n",
    "show(p)\n",
    "\n"
   ]
  },
  {
   "cell_type": "markdown",
   "metadata": {},
   "source": [
    "### A scatter plot with different shapes"
   ]
  },
  {
   "cell_type": "code",
   "execution_count": 75,
   "metadata": {},
   "outputs": [
    {
     "name": "stdout",
     "output_type": "stream",
     "text": [
      "Index(['Country ', 'Continent', 'female literacy', 'fertility', 'population'], dtype='object')\n"
     ]
    },
    {
     "data": {
      "text/plain": [
       "array(['ASI', 'NAM', 'LAT', 'AF', 'EUR', 'OCE', nan, 'Continent', 'WORLD'], dtype=object)"
      ]
     },
     "execution_count": 75,
     "metadata": {},
     "output_type": "execute_result"
    }
   ],
   "source": [
    "print(female.columns)\n",
    "female['Continent'].unique()"
   ]
  },
  {
   "cell_type": "code",
   "execution_count": 76,
   "metadata": {},
   "outputs": [
    {
     "name": "stdout",
     "output_type": "stream",
     "text": [
      "(24,)\n",
      "(24,)\n"
     ]
    }
   ],
   "source": [
    "fertility_latinamerica = female['fertility'][female['Continent'] == 'LAT']\n",
    "female_literacy_latinamerica = female['female literacy'][female['Continent'] == 'LAT']\n",
    "print(fertility_latinamerica.shape)\n",
    "print(female_literacy_latinamerica.shape)"
   ]
  },
  {
   "cell_type": "code",
   "execution_count": 78,
   "metadata": {},
   "outputs": [
    {
     "name": "stdout",
     "output_type": "stream",
     "text": [
      "(49,)\n",
      "(49,)\n"
     ]
    }
   ],
   "source": [
    "fertility_africa = female['fertility'][female['Continent'] == 'AF']\n",
    "female_literacy_africa = female['female literacy'][female['Continent'] == 'AF']\n",
    "print(fertility_africa.shape)\n",
    "print(female_literacy_africa.shape)"
   ]
  },
  {
   "cell_type": "code",
   "execution_count": 80,
   "metadata": {},
   "outputs": [
    {
     "data": {
      "text/html": [
       "\n",
       "<div class=\"bk-root\">\n",
       "    <div class=\"bk-plotdiv\" id=\"67598eeb-0515-4fba-b610-99bae0ff11cc\"></div>\n",
       "</div>"
      ]
     },
     "metadata": {},
     "output_type": "display_data"
    },
    {
     "data": {
      "application/javascript": [
       "(function(root) {\n",
       "  function embed_document(root) {\n",
       "    var docs_json = {\"93ce7a36-c235-4227-8840-32d0fbc4aade\":{\"roots\":{\"references\":[{\"attributes\":{\"bottom_units\":\"screen\",\"fill_alpha\":{\"value\":0.5},\"fill_color\":{\"value\":\"lightgrey\"},\"left_units\":\"screen\",\"level\":\"overlay\",\"line_alpha\":{\"value\":1.0},\"line_color\":{\"value\":\"black\"},\"line_dash\":[4,4],\"line_width\":{\"value\":2},\"plot\":null,\"render_mode\":\"css\",\"right_units\":\"screen\",\"top_units\":\"screen\"},\"id\":\"80e63f4e-9328-41d5-81ef-38d1197f08c3\",\"type\":\"BoxAnnotation\"},{\"attributes\":{},\"id\":\"c9fd4539-153a-40e7-868f-bc2aa4ec7a60\",\"type\":\"ResetTool\"},{\"attributes\":{},\"id\":\"ef139c1b-784f-44c7-a195-d68eb70b21df\",\"type\":\"HelpTool\"},{\"attributes\":{},\"id\":\"561d676f-4f8a-4307-862f-1acff52e88c6\",\"type\":\"BasicTickFormatter\"},{\"attributes\":{\"fill_alpha\":{\"value\":0.1},\"fill_color\":{\"value\":\"#1f77b4\"},\"line_alpha\":{\"value\":0.1},\"line_color\":{\"value\":\"#1f77b4\"},\"x\":{\"field\":\"x\"},\"y\":{\"field\":\"y\"}},\"id\":\"d2e1a9e1-a49b-4e69-9b6e-0ff70e2d08c6\",\"type\":\"X\"},{\"attributes\":{},\"id\":\"bad423e7-5fd0-4adc-a710-642fc333dccb\",\"type\":\"BasicTickFormatter\"},{\"attributes\":{\"plot\":null,\"text\":\"\"},\"id\":\"0cf075ff-5f93-4468-ab3d-31333d65c1a7\",\"type\":\"Title\"},{\"attributes\":{\"data_source\":{\"id\":\"01d0bb83-6319-4130-853d-0ec31269f551\",\"type\":\"ColumnDataSource\"},\"glyph\":{\"id\":\"d4c1c6c4-b2b6-4992-b67b-2a2b1d3a2ac7\",\"type\":\"X\"},\"hover_glyph\":null,\"muted_glyph\":null,\"nonselection_glyph\":{\"id\":\"d2e1a9e1-a49b-4e69-9b6e-0ff70e2d08c6\",\"type\":\"X\"},\"selection_glyph\":null,\"view\":{\"id\":\"487101cb-b06a-4141-8a5e-6f9b4f439b90\",\"type\":\"CDSView\"}},\"id\":\"c6215a0d-2378-4bb6-b820-3b39d97508d6\",\"type\":\"GlyphRenderer\"},{\"attributes\":{\"below\":[{\"id\":\"27a7b854-a23e-4a13-8833-dfbdcc924f00\",\"type\":\"LinearAxis\"}],\"left\":[{\"id\":\"c3f7d060-cdbc-4c2c-871d-5d22a77abae4\",\"type\":\"LinearAxis\"}],\"renderers\":[{\"id\":\"27a7b854-a23e-4a13-8833-dfbdcc924f00\",\"type\":\"LinearAxis\"},{\"id\":\"3de5bd55-2d9b-4cbc-9c98-4bb4380a533c\",\"type\":\"Grid\"},{\"id\":\"c3f7d060-cdbc-4c2c-871d-5d22a77abae4\",\"type\":\"LinearAxis\"},{\"id\":\"54399513-84ba-46d9-9b6f-e6dee106e323\",\"type\":\"Grid\"},{\"id\":\"80e63f4e-9328-41d5-81ef-38d1197f08c3\",\"type\":\"BoxAnnotation\"},{\"id\":\"5fd019e9-e054-4ff4-beae-dd875bcc2d97\",\"type\":\"GlyphRenderer\"},{\"id\":\"c6215a0d-2378-4bb6-b820-3b39d97508d6\",\"type\":\"GlyphRenderer\"}],\"title\":{\"id\":\"0cf075ff-5f93-4468-ab3d-31333d65c1a7\",\"type\":\"Title\"},\"toolbar\":{\"id\":\"34c72e95-1d22-4575-981c-82a124243200\",\"type\":\"Toolbar\"},\"x_range\":{\"id\":\"53727fdd-7f91-4027-a703-78cc4cb02d23\",\"type\":\"DataRange1d\"},\"x_scale\":{\"id\":\"8c30cf57-9481-4d2c-9846-45a45f516843\",\"type\":\"LinearScale\"},\"y_range\":{\"id\":\"de797af8-e326-4d44-9431-ec9841ee8187\",\"type\":\"DataRange1d\"},\"y_scale\":{\"id\":\"7b06b7f3-7a4e-42c2-98f9-4ea61416e0ec\",\"type\":\"LinearScale\"}},\"id\":\"ad67aff2-6637-4283-b0fa-4cc1705dfa6c\",\"subtype\":\"Figure\",\"type\":\"Plot\"},{\"attributes\":{\"data_source\":{\"id\":\"2def0a19-1c87-4b10-98da-c708f0fd6566\",\"type\":\"ColumnDataSource\"},\"glyph\":{\"id\":\"91e1b600-f2aa-4c16-98b7-5492d5fe674a\",\"type\":\"Circle\"},\"hover_glyph\":null,\"muted_glyph\":null,\"nonselection_glyph\":{\"id\":\"4973f4db-c697-4864-8f03-dade6e13c4f9\",\"type\":\"Circle\"},\"selection_glyph\":null,\"view\":{\"id\":\"ad835648-ad45-4840-a941-963a0021734e\",\"type\":\"CDSView\"}},\"id\":\"5fd019e9-e054-4ff4-beae-dd875bcc2d97\",\"type\":\"GlyphRenderer\"},{\"attributes\":{\"source\":{\"id\":\"01d0bb83-6319-4130-853d-0ec31269f551\",\"type\":\"ColumnDataSource\"}},\"id\":\"487101cb-b06a-4141-8a5e-6f9b4f439b90\",\"type\":\"CDSView\"},{\"attributes\":{\"callback\":null,\"column_names\":[\"x\",\"y\"],\"data\":{\"x\":[\"1.827\",\"2.156\",\"2.404\",\"2.223\",\"2.53\",\"2.498\",\"1.926\",\"4.018\",\"2.513\",\"1.505\",\"2.612\",\"3.371\",\"3.19\",\"2.977\",\"2.295\",\"2.683\",\"1.943\",\"2.516\",\"2.089\",\"2.362\",\"1.647\",\"2.373\",\"3.371\",\"1.732\"],\"y\":[\"90.2\",\"91.5\",\"93.4\",\"97.7\",\"84.6\",\"94.9\",\"98.7\",\"68.7\",\"81.7\",\"99.8\",\"88.3\",\"86\",\"83.5\",\"93.5\",\"81.4\",\"77.9\",\"96.2\",\"92.8\",\"98.5\",\"90.8\",\"98.2\",\"88.4\",\"96.5\",\"98\"]}},\"id\":\"2def0a19-1c87-4b10-98da-c708f0fd6566\",\"type\":\"ColumnDataSource\"},{\"attributes\":{\"active_drag\":\"auto\",\"active_inspect\":\"auto\",\"active_scroll\":\"auto\",\"active_tap\":\"auto\",\"tools\":[{\"id\":\"af273945-000f-4bfc-bb71-c0148fda0481\",\"type\":\"PanTool\"},{\"id\":\"b66adc70-3238-4571-8434-523696504aec\",\"type\":\"WheelZoomTool\"},{\"id\":\"3e233e18-91b0-41f7-bbcc-1431a8c44fe9\",\"type\":\"BoxZoomTool\"},{\"id\":\"8c825c6b-0bdc-4b14-9bf8-2998760a0ee2\",\"type\":\"SaveTool\"},{\"id\":\"c9fd4539-153a-40e7-868f-bc2aa4ec7a60\",\"type\":\"ResetTool\"},{\"id\":\"ef139c1b-784f-44c7-a195-d68eb70b21df\",\"type\":\"HelpTool\"}]},\"id\":\"34c72e95-1d22-4575-981c-82a124243200\",\"type\":\"Toolbar\"},{\"attributes\":{\"callback\":null},\"id\":\"53727fdd-7f91-4027-a703-78cc4cb02d23\",\"type\":\"DataRange1d\"},{\"attributes\":{\"fill_color\":{\"value\":\"#1f77b4\"},\"line_color\":{\"value\":\"#1f77b4\"},\"x\":{\"field\":\"x\"},\"y\":{\"field\":\"y\"}},\"id\":\"91e1b600-f2aa-4c16-98b7-5492d5fe674a\",\"type\":\"Circle\"},{\"attributes\":{\"callback\":null},\"id\":\"de797af8-e326-4d44-9431-ec9841ee8187\",\"type\":\"DataRange1d\"},{\"attributes\":{},\"id\":\"8c30cf57-9481-4d2c-9846-45a45f516843\",\"type\":\"LinearScale\"},{\"attributes\":{},\"id\":\"7b06b7f3-7a4e-42c2-98f9-4ea61416e0ec\",\"type\":\"LinearScale\"},{\"attributes\":{\"plot\":{\"id\":\"ad67aff2-6637-4283-b0fa-4cc1705dfa6c\",\"subtype\":\"Figure\",\"type\":\"Plot\"},\"ticker\":{\"id\":\"4f0c39b9-c21d-4867-ab50-65a59e5c50db\",\"type\":\"BasicTicker\"}},\"id\":\"3de5bd55-2d9b-4cbc-9c98-4bb4380a533c\",\"type\":\"Grid\"},{\"attributes\":{\"axis_label\":\"fertility\",\"formatter\":{\"id\":\"561d676f-4f8a-4307-862f-1acff52e88c6\",\"type\":\"BasicTickFormatter\"},\"plot\":{\"id\":\"ad67aff2-6637-4283-b0fa-4cc1705dfa6c\",\"subtype\":\"Figure\",\"type\":\"Plot\"},\"ticker\":{\"id\":\"4f0c39b9-c21d-4867-ab50-65a59e5c50db\",\"type\":\"BasicTicker\"}},\"id\":\"27a7b854-a23e-4a13-8833-dfbdcc924f00\",\"type\":\"LinearAxis\"},{\"attributes\":{},\"id\":\"4f0c39b9-c21d-4867-ab50-65a59e5c50db\",\"type\":\"BasicTicker\"},{\"attributes\":{\"axis_label\":\"female_literacy (% population)\",\"formatter\":{\"id\":\"bad423e7-5fd0-4adc-a710-642fc333dccb\",\"type\":\"BasicTickFormatter\"},\"plot\":{\"id\":\"ad67aff2-6637-4283-b0fa-4cc1705dfa6c\",\"subtype\":\"Figure\",\"type\":\"Plot\"},\"ticker\":{\"id\":\"73def371-e628-459b-bf60-d5c988f65fa8\",\"type\":\"BasicTicker\"}},\"id\":\"c3f7d060-cdbc-4c2c-871d-5d22a77abae4\",\"type\":\"LinearAxis\"},{\"attributes\":{},\"id\":\"73def371-e628-459b-bf60-d5c988f65fa8\",\"type\":\"BasicTicker\"},{\"attributes\":{\"dimension\":1,\"plot\":{\"id\":\"ad67aff2-6637-4283-b0fa-4cc1705dfa6c\",\"subtype\":\"Figure\",\"type\":\"Plot\"},\"ticker\":{\"id\":\"73def371-e628-459b-bf60-d5c988f65fa8\",\"type\":\"BasicTicker\"}},\"id\":\"54399513-84ba-46d9-9b6f-e6dee106e323\",\"type\":\"Grid\"},{\"attributes\":{\"fill_alpha\":{\"value\":0.1},\"fill_color\":{\"value\":\"#1f77b4\"},\"line_alpha\":{\"value\":0.1},\"line_color\":{\"value\":\"#1f77b4\"},\"x\":{\"field\":\"x\"},\"y\":{\"field\":\"y\"}},\"id\":\"4973f4db-c697-4864-8f03-dade6e13c4f9\",\"type\":\"Circle\"},{\"attributes\":{\"callback\":null,\"column_names\":[\"x\",\"y\"],\"data\":{\"x\":[\"5.173\",\"2.816\",\"5.211\",\"5.908\",\"2.505\",\"5.52\",\"4.058\",\"4.859\",\"2.342\",\"6.254\",\"2.334\",\"4.22\",\"4.967\",\"4.514\",\"4.62\",\"4.541\",\"5.637\",\"5.841\",\"5.455\",\"7.069\",\"5.405\",\"5.737\",\"3.363\",\"4.89\",\"6.081\",\"1.841\",\"5.329\",\"5.33\",\"5.378\",\"4.45\",\"4.166\",\"2.642\",\"5.165\",\"4.528\",\"4.697\",\"5.011\",\"4.388\",\"3.29\",\"3.264\",\"2.822\",\"4.969\",\"5.659\",\"3.24\",\"1.792\",\"3.45\",\"5.283\",\"3.885\",\"2.663\",\"3.718\"],\"y\":[\"48.8\",\"57.8\",\"22.8\",\"56.1\",\"88.1\",\"66.3\",\"59.6\",\"82.8\",\"63.9\",\"66.8\",\"44.1\",\"59.3\",\"40.1\",\"44.3\",\"65.3\",\"67.8\",\"57\",\"21.6\",\"65.8\",\"15.1\",\"18.2\",\"61\",\"88.8\",\"33\",\"21.9\",\"71\",\"26.4\",\"66.1\",\"28.1\",\"59.9\",\"53.7\",\"81.3\",\"28.9\",\"54.5\",\"41.1\",\"53\",\"49.5\",\"87.7\",\"95.1\",\"83.5\",\"34.3\",\"36.5\",\"83.2\",\"84.8\",\"85.6\",\"89.1\",\"67.8\",\"79.3\",\"83.3\"]}},\"id\":\"01d0bb83-6319-4130-853d-0ec31269f551\",\"type\":\"ColumnDataSource\"},{\"attributes\":{\"fill_color\":{\"value\":\"#1f77b4\"},\"line_color\":{\"value\":\"#1f77b4\"},\"x\":{\"field\":\"x\"},\"y\":{\"field\":\"y\"}},\"id\":\"d4c1c6c4-b2b6-4992-b67b-2a2b1d3a2ac7\",\"type\":\"X\"},{\"attributes\":{\"source\":{\"id\":\"2def0a19-1c87-4b10-98da-c708f0fd6566\",\"type\":\"ColumnDataSource\"}},\"id\":\"ad835648-ad45-4840-a941-963a0021734e\",\"type\":\"CDSView\"},{\"attributes\":{},\"id\":\"af273945-000f-4bfc-bb71-c0148fda0481\",\"type\":\"PanTool\"},{\"attributes\":{},\"id\":\"8c825c6b-0bdc-4b14-9bf8-2998760a0ee2\",\"type\":\"SaveTool\"},{\"attributes\":{},\"id\":\"b66adc70-3238-4571-8434-523696504aec\",\"type\":\"WheelZoomTool\"},{\"attributes\":{\"overlay\":{\"id\":\"80e63f4e-9328-41d5-81ef-38d1197f08c3\",\"type\":\"BoxAnnotation\"}},\"id\":\"3e233e18-91b0-41f7-bbcc-1431a8c44fe9\",\"type\":\"BoxZoomTool\"}],\"root_ids\":[\"ad67aff2-6637-4283-b0fa-4cc1705dfa6c\"]},\"title\":\"Bokeh Application\",\"version\":\"0.12.10\"}};\n",
       "    var render_items = [{\"docid\":\"93ce7a36-c235-4227-8840-32d0fbc4aade\",\"elementid\":\"67598eeb-0515-4fba-b610-99bae0ff11cc\",\"modelid\":\"ad67aff2-6637-4283-b0fa-4cc1705dfa6c\"}];\n",
       "\n",
       "    root.Bokeh.embed.embed_items(docs_json, render_items);\n",
       "  }\n",
       "\n",
       "  if (root.Bokeh !== undefined) {\n",
       "    embed_document(root);\n",
       "  } else {\n",
       "    var attempts = 0;\n",
       "    var timer = setInterval(function(root) {\n",
       "      if (root.Bokeh !== undefined) {\n",
       "        embed_document(root);\n",
       "        clearInterval(timer);\n",
       "      }\n",
       "      attempts++;\n",
       "      if (attempts > 100) {\n",
       "        console.log(\"Bokeh: ERROR: Unable to embed document because BokehJS library is missing\")\n",
       "        clearInterval(timer);\n",
       "      }\n",
       "    }, 10, root)\n",
       "  }\n",
       "})(window);"
      ],
      "application/vnd.bokehjs_exec.v0+json": ""
     },
     "metadata": {
      "application/vnd.bokehjs_exec.v0+json": {
       "id": "ad67aff2-6637-4283-b0fa-4cc1705dfa6c"
      }
     },
     "output_type": "display_data"
    }
   ],
   "source": [
    "# Create the figure: p\n",
    "p = figure(x_axis_label='fertility', \n",
    "    y_axis_label='female_literacy (% population)')\n",
    "\n",
    "# Add a circle glyph to the figure p\n",
    "p.circle(fertility_latinamerica, female_literacy_latinamerica)\n",
    "\n",
    "# Add an x glyph to the figure p\n",
    "p.x(fertility_africa, female_literacy_africa)\n",
    "\n",
    "# Display the plot\n",
    "show(p)\n"
   ]
  },
  {
   "cell_type": "markdown",
   "metadata": {},
   "source": [
    "### Customizing your scatter plots\n",
    "- The three most important arguments to customize scatter glyphs are color, size, and alpha. \n",
    "- Bokeh accepts colors as hexadecimal strings, tuples of RGB values between 0 and 255, and any of the 147 CSS color names. \n",
    "- Size values are supplied in screen space units with 100 meaning the size of the entire figure."
   ]
  },
  {
   "cell_type": "code",
   "execution_count": 81,
   "metadata": {},
   "outputs": [
    {
     "data": {
      "text/html": [
       "\n",
       "<div class=\"bk-root\">\n",
       "    <div class=\"bk-plotdiv\" id=\"18ac490f-92e0-4773-a640-e4a488e75f86\"></div>\n",
       "</div>"
      ]
     },
     "metadata": {},
     "output_type": "display_data"
    },
    {
     "data": {
      "application/javascript": [
       "(function(root) {\n",
       "  function embed_document(root) {\n",
       "    var docs_json = {\"6bfc26d8-7a70-4079-a955-7174c50057c8\":{\"roots\":{\"references\":[{\"attributes\":{\"fill_alpha\":{\"value\":0.1},\"fill_color\":{\"value\":\"#1f77b4\"},\"line_alpha\":{\"value\":0.1},\"line_color\":{\"value\":\"#1f77b4\"},\"size\":{\"units\":\"screen\",\"value\":10},\"x\":{\"field\":\"x\"},\"y\":{\"field\":\"y\"}},\"id\":\"f0043e3c-2f19-45d3-9e1c-a7638b7403a8\",\"type\":\"Circle\"},{\"attributes\":{},\"id\":\"e347ec2e-b05c-4a70-b8c1-0d857d107905\",\"type\":\"WheelZoomTool\"},{\"attributes\":{\"axis_label\":\"fertility (children per woman)\",\"formatter\":{\"id\":\"eeacc9ab-a096-47fc-850f-c7c49f0118dc\",\"type\":\"BasicTickFormatter\"},\"plot\":{\"id\":\"c4ad881f-cb09-4ef9-847b-a9d3006c2f83\",\"subtype\":\"Figure\",\"type\":\"Plot\"},\"ticker\":{\"id\":\"ef40228f-140c-4e34-adbd-2212a4ba2c67\",\"type\":\"BasicTicker\"}},\"id\":\"e205e83a-881b-4115-998c-65bb68cc57ec\",\"type\":\"LinearAxis\"},{\"attributes\":{},\"id\":\"eeacc9ab-a096-47fc-850f-c7c49f0118dc\",\"type\":\"BasicTickFormatter\"},{\"attributes\":{\"dimension\":1,\"plot\":{\"id\":\"c4ad881f-cb09-4ef9-847b-a9d3006c2f83\",\"subtype\":\"Figure\",\"type\":\"Plot\"},\"ticker\":{\"id\":\"07ebdc7f-6c24-49c0-8c45-dcfcad433799\",\"type\":\"BasicTicker\"}},\"id\":\"92875d42-ce51-4259-a24a-74dc7cd91f09\",\"type\":\"Grid\"},{\"attributes\":{},\"id\":\"07ebdc7f-6c24-49c0-8c45-dcfcad433799\",\"type\":\"BasicTicker\"},{\"attributes\":{\"axis_label\":\"female_literacy (% population)\",\"formatter\":{\"id\":\"9056b8f6-b1ad-4d17-ab6f-3ac48c038602\",\"type\":\"BasicTickFormatter\"},\"plot\":{\"id\":\"c4ad881f-cb09-4ef9-847b-a9d3006c2f83\",\"subtype\":\"Figure\",\"type\":\"Plot\"},\"ticker\":{\"id\":\"07ebdc7f-6c24-49c0-8c45-dcfcad433799\",\"type\":\"BasicTicker\"}},\"id\":\"b272f785-8c9a-4709-9097-0733f84f089c\",\"type\":\"LinearAxis\"},{\"attributes\":{},\"id\":\"ef40228f-140c-4e34-adbd-2212a4ba2c67\",\"type\":\"BasicTicker\"},{\"attributes\":{},\"id\":\"c80ca8c8-a469-4f20-ba3f-94c075098bc5\",\"type\":\"LinearScale\"},{\"attributes\":{\"plot\":{\"id\":\"c4ad881f-cb09-4ef9-847b-a9d3006c2f83\",\"subtype\":\"Figure\",\"type\":\"Plot\"},\"ticker\":{\"id\":\"ef40228f-140c-4e34-adbd-2212a4ba2c67\",\"type\":\"BasicTicker\"}},\"id\":\"d674dc07-15c1-4635-af74-8afeb4bfbf67\",\"type\":\"Grid\"},{\"attributes\":{},\"id\":\"6570ddbc-096a-408f-be65-5d5129a7a2a6\",\"type\":\"LinearScale\"},{\"attributes\":{\"source\":{\"id\":\"5decbbdb-ba94-4431-a9fc-73d154ac6220\",\"type\":\"ColumnDataSource\"}},\"id\":\"008e4793-71bd-4c02-aa27-2f899730caa6\",\"type\":\"CDSView\"},{\"attributes\":{\"callback\":null},\"id\":\"064dd8de-07e7-4334-ba37-b43e9617d674\",\"type\":\"DataRange1d\"},{\"attributes\":{},\"id\":\"670f1c59-835f-4d5e-aa64-def429ef0eaa\",\"type\":\"PanTool\"},{\"attributes\":{},\"id\":\"3169e6cd-2159-4152-aa52-56aeaef8ccad\",\"type\":\"SaveTool\"},{\"attributes\":{\"overlay\":{\"id\":\"f7c181fe-7a75-4a8b-99bd-d42000ec2ee8\",\"type\":\"BoxAnnotation\"}},\"id\":\"0546e6ef-65b0-4268-8de8-1c56b73511a4\",\"type\":\"BoxZoomTool\"},{\"attributes\":{\"fill_alpha\":{\"value\":0.8},\"fill_color\":{\"value\":\"red\"},\"line_alpha\":{\"value\":0.8},\"line_color\":{\"value\":\"red\"},\"size\":{\"units\":\"screen\",\"value\":10},\"x\":{\"field\":\"x\"},\"y\":{\"field\":\"y\"}},\"id\":\"b35bb6c7-4c0a-4abf-a4aa-8096dc0c396e\",\"type\":\"Circle\"},{\"attributes\":{\"callback\":null,\"column_names\":[\"x\",\"y\"],\"data\":{\"x\":[\"1.827\",\"2.156\",\"2.404\",\"2.223\",\"2.53\",\"2.498\",\"1.926\",\"4.018\",\"2.513\",\"1.505\",\"2.612\",\"3.371\",\"3.19\",\"2.977\",\"2.295\",\"2.683\",\"1.943\",\"2.516\",\"2.089\",\"2.362\",\"1.647\",\"2.373\",\"3.371\",\"1.732\"],\"y\":[\"90.2\",\"91.5\",\"93.4\",\"97.7\",\"84.6\",\"94.9\",\"98.7\",\"68.7\",\"81.7\",\"99.8\",\"88.3\",\"86\",\"83.5\",\"93.5\",\"81.4\",\"77.9\",\"96.2\",\"92.8\",\"98.5\",\"90.8\",\"98.2\",\"88.4\",\"96.5\",\"98\"]}},\"id\":\"5decbbdb-ba94-4431-a9fc-73d154ac6220\",\"type\":\"ColumnDataSource\"},{\"attributes\":{},\"id\":\"d0bb2030-3e6c-49b1-848b-dad232302e86\",\"type\":\"ResetTool\"},{\"attributes\":{\"callback\":null},\"id\":\"b966089f-3a46-49a3-8768-93db3e1b99c4\",\"type\":\"DataRange1d\"},{\"attributes\":{},\"id\":\"852fbd80-45ba-40be-b0a2-87d59b127c50\",\"type\":\"HelpTool\"},{\"attributes\":{\"plot\":null,\"text\":\"\"},\"id\":\"c3e1e432-3de3-4d3f-8bc2-cbbca863175e\",\"type\":\"Title\"},{\"attributes\":{},\"id\":\"9056b8f6-b1ad-4d17-ab6f-3ac48c038602\",\"type\":\"BasicTickFormatter\"},{\"attributes\":{\"callback\":null,\"column_names\":[\"x\",\"y\"],\"data\":{\"x\":[\"5.173\",\"2.816\",\"5.211\",\"5.908\",\"2.505\",\"5.52\",\"4.058\",\"4.859\",\"2.342\",\"6.254\",\"2.334\",\"4.22\",\"4.967\",\"4.514\",\"4.62\",\"4.541\",\"5.637\",\"5.841\",\"5.455\",\"7.069\",\"5.405\",\"5.737\",\"3.363\",\"4.89\",\"6.081\",\"1.841\",\"5.329\",\"5.33\",\"5.378\",\"4.45\",\"4.166\",\"2.642\",\"5.165\",\"4.528\",\"4.697\",\"5.011\",\"4.388\",\"3.29\",\"3.264\",\"2.822\",\"4.969\",\"5.659\",\"3.24\",\"1.792\",\"3.45\",\"5.283\",\"3.885\",\"2.663\",\"3.718\"],\"y\":[\"48.8\",\"57.8\",\"22.8\",\"56.1\",\"88.1\",\"66.3\",\"59.6\",\"82.8\",\"63.9\",\"66.8\",\"44.1\",\"59.3\",\"40.1\",\"44.3\",\"65.3\",\"67.8\",\"57\",\"21.6\",\"65.8\",\"15.1\",\"18.2\",\"61\",\"88.8\",\"33\",\"21.9\",\"71\",\"26.4\",\"66.1\",\"28.1\",\"59.9\",\"53.7\",\"81.3\",\"28.9\",\"54.5\",\"41.1\",\"53\",\"49.5\",\"87.7\",\"95.1\",\"83.5\",\"34.3\",\"36.5\",\"83.2\",\"84.8\",\"85.6\",\"89.1\",\"67.8\",\"79.3\",\"83.3\"]}},\"id\":\"6c4ea9d8-cf75-4096-b950-0977d33b3347\",\"type\":\"ColumnDataSource\"},{\"attributes\":{\"fill_alpha\":{\"value\":0.1},\"fill_color\":{\"value\":\"#1f77b4\"},\"line_alpha\":{\"value\":0.1},\"line_color\":{\"value\":\"#1f77b4\"},\"size\":{\"units\":\"screen\",\"value\":10},\"x\":{\"field\":\"x\"},\"y\":{\"field\":\"y\"}},\"id\":\"faa15c07-22da-4eba-9f75-bb95605e42c2\",\"type\":\"Circle\"},{\"attributes\":{\"below\":[{\"id\":\"e205e83a-881b-4115-998c-65bb68cc57ec\",\"type\":\"LinearAxis\"}],\"left\":[{\"id\":\"b272f785-8c9a-4709-9097-0733f84f089c\",\"type\":\"LinearAxis\"}],\"renderers\":[{\"id\":\"e205e83a-881b-4115-998c-65bb68cc57ec\",\"type\":\"LinearAxis\"},{\"id\":\"d674dc07-15c1-4635-af74-8afeb4bfbf67\",\"type\":\"Grid\"},{\"id\":\"b272f785-8c9a-4709-9097-0733f84f089c\",\"type\":\"LinearAxis\"},{\"id\":\"92875d42-ce51-4259-a24a-74dc7cd91f09\",\"type\":\"Grid\"},{\"id\":\"f7c181fe-7a75-4a8b-99bd-d42000ec2ee8\",\"type\":\"BoxAnnotation\"},{\"id\":\"680a16c8-1156-456f-8d40-f250f7c68854\",\"type\":\"GlyphRenderer\"},{\"id\":\"77e16886-03ff-4ae9-881b-94ea1afb9c2c\",\"type\":\"GlyphRenderer\"}],\"title\":{\"id\":\"c3e1e432-3de3-4d3f-8bc2-cbbca863175e\",\"type\":\"Title\"},\"toolbar\":{\"id\":\"2acb050c-344e-4aa8-8e07-757a094e7041\",\"type\":\"Toolbar\"},\"x_range\":{\"id\":\"b966089f-3a46-49a3-8768-93db3e1b99c4\",\"type\":\"DataRange1d\"},\"x_scale\":{\"id\":\"c80ca8c8-a469-4f20-ba3f-94c075098bc5\",\"type\":\"LinearScale\"},\"y_range\":{\"id\":\"064dd8de-07e7-4334-ba37-b43e9617d674\",\"type\":\"DataRange1d\"},\"y_scale\":{\"id\":\"6570ddbc-096a-408f-be65-5d5129a7a2a6\",\"type\":\"LinearScale\"}},\"id\":\"c4ad881f-cb09-4ef9-847b-a9d3006c2f83\",\"subtype\":\"Figure\",\"type\":\"Plot\"},{\"attributes\":{\"data_source\":{\"id\":\"5decbbdb-ba94-4431-a9fc-73d154ac6220\",\"type\":\"ColumnDataSource\"},\"glyph\":{\"id\":\"7b606def-a4d0-4ae0-bc72-5bfa76eeb75c\",\"type\":\"Circle\"},\"hover_glyph\":null,\"muted_glyph\":null,\"nonselection_glyph\":{\"id\":\"f0043e3c-2f19-45d3-9e1c-a7638b7403a8\",\"type\":\"Circle\"},\"selection_glyph\":null,\"view\":{\"id\":\"008e4793-71bd-4c02-aa27-2f899730caa6\",\"type\":\"CDSView\"}},\"id\":\"680a16c8-1156-456f-8d40-f250f7c68854\",\"type\":\"GlyphRenderer\"},{\"attributes\":{\"data_source\":{\"id\":\"6c4ea9d8-cf75-4096-b950-0977d33b3347\",\"type\":\"ColumnDataSource\"},\"glyph\":{\"id\":\"b35bb6c7-4c0a-4abf-a4aa-8096dc0c396e\",\"type\":\"Circle\"},\"hover_glyph\":null,\"muted_glyph\":null,\"nonselection_glyph\":{\"id\":\"faa15c07-22da-4eba-9f75-bb95605e42c2\",\"type\":\"Circle\"},\"selection_glyph\":null,\"view\":{\"id\":\"ff7f384f-8b5c-4156-b7ce-8220e1f185b7\",\"type\":\"CDSView\"}},\"id\":\"77e16886-03ff-4ae9-881b-94ea1afb9c2c\",\"type\":\"GlyphRenderer\"},{\"attributes\":{\"fill_alpha\":{\"value\":0.8},\"fill_color\":{\"value\":\"blue\"},\"line_alpha\":{\"value\":0.8},\"line_color\":{\"value\":\"blue\"},\"size\":{\"units\":\"screen\",\"value\":10},\"x\":{\"field\":\"x\"},\"y\":{\"field\":\"y\"}},\"id\":\"7b606def-a4d0-4ae0-bc72-5bfa76eeb75c\",\"type\":\"Circle\"},{\"attributes\":{\"source\":{\"id\":\"6c4ea9d8-cf75-4096-b950-0977d33b3347\",\"type\":\"ColumnDataSource\"}},\"id\":\"ff7f384f-8b5c-4156-b7ce-8220e1f185b7\",\"type\":\"CDSView\"},{\"attributes\":{\"active_drag\":\"auto\",\"active_inspect\":\"auto\",\"active_scroll\":\"auto\",\"active_tap\":\"auto\",\"tools\":[{\"id\":\"670f1c59-835f-4d5e-aa64-def429ef0eaa\",\"type\":\"PanTool\"},{\"id\":\"e347ec2e-b05c-4a70-b8c1-0d857d107905\",\"type\":\"WheelZoomTool\"},{\"id\":\"0546e6ef-65b0-4268-8de8-1c56b73511a4\",\"type\":\"BoxZoomTool\"},{\"id\":\"3169e6cd-2159-4152-aa52-56aeaef8ccad\",\"type\":\"SaveTool\"},{\"id\":\"d0bb2030-3e6c-49b1-848b-dad232302e86\",\"type\":\"ResetTool\"},{\"id\":\"852fbd80-45ba-40be-b0a2-87d59b127c50\",\"type\":\"HelpTool\"}]},\"id\":\"2acb050c-344e-4aa8-8e07-757a094e7041\",\"type\":\"Toolbar\"},{\"attributes\":{\"bottom_units\":\"screen\",\"fill_alpha\":{\"value\":0.5},\"fill_color\":{\"value\":\"lightgrey\"},\"left_units\":\"screen\",\"level\":\"overlay\",\"line_alpha\":{\"value\":1.0},\"line_color\":{\"value\":\"black\"},\"line_dash\":[4,4],\"line_width\":{\"value\":2},\"plot\":null,\"render_mode\":\"css\",\"right_units\":\"screen\",\"top_units\":\"screen\"},\"id\":\"f7c181fe-7a75-4a8b-99bd-d42000ec2ee8\",\"type\":\"BoxAnnotation\"}],\"root_ids\":[\"c4ad881f-cb09-4ef9-847b-a9d3006c2f83\"]},\"title\":\"Bokeh Application\",\"version\":\"0.12.10\"}};\n",
       "    var render_items = [{\"docid\":\"6bfc26d8-7a70-4079-a955-7174c50057c8\",\"elementid\":\"18ac490f-92e0-4773-a640-e4a488e75f86\",\"modelid\":\"c4ad881f-cb09-4ef9-847b-a9d3006c2f83\"}];\n",
       "\n",
       "    root.Bokeh.embed.embed_items(docs_json, render_items);\n",
       "  }\n",
       "\n",
       "  if (root.Bokeh !== undefined) {\n",
       "    embed_document(root);\n",
       "  } else {\n",
       "    var attempts = 0;\n",
       "    var timer = setInterval(function(root) {\n",
       "      if (root.Bokeh !== undefined) {\n",
       "        embed_document(root);\n",
       "        clearInterval(timer);\n",
       "      }\n",
       "      attempts++;\n",
       "      if (attempts > 100) {\n",
       "        console.log(\"Bokeh: ERROR: Unable to embed document because BokehJS library is missing\")\n",
       "        clearInterval(timer);\n",
       "      }\n",
       "    }, 10, root)\n",
       "  }\n",
       "})(window);"
      ],
      "application/vnd.bokehjs_exec.v0+json": ""
     },
     "metadata": {
      "application/vnd.bokehjs_exec.v0+json": {
       "id": "c4ad881f-cb09-4ef9-847b-a9d3006c2f83"
      }
     },
     "output_type": "display_data"
    }
   ],
   "source": [
    "# Create the figure: p\n",
    "p = figure(\n",
    "    x_axis_label='fertility (children per woman)', \n",
    "    y_axis_label='female_literacy (% population)')\n",
    "\n",
    "# Add a blue circle glyph to the figure p\n",
    "p.circle(\n",
    "    fertility_latinamerica, \n",
    "    female_literacy_latinamerica, \n",
    "    color = 'blue', \n",
    "    size=10, \n",
    "    alpha = 0.8)\n",
    "\n",
    "# Add a red circle glyph to the figure p\n",
    "p.circle(\n",
    "    fertility_africa, \n",
    "    female_literacy_africa, \n",
    "    color = 'red', \n",
    "    size=10, \n",
    "    alpha = 0.8)\n",
    "\n",
    "# Display the plot\n",
    "show(p)\n"
   ]
  },
  {
   "cell_type": "markdown",
   "metadata": {},
   "source": [
    "## Additional glyphs"
   ]
  },
  {
   "cell_type": "markdown",
   "metadata": {},
   "source": [
    "#### Lines"
   ]
  },
  {
   "cell_type": "code",
   "execution_count": 83,
   "metadata": {},
   "outputs": [
    {
     "data": {
      "text/html": [
       "\n",
       "<div class=\"bk-root\">\n",
       "    <div class=\"bk-plotdiv\" id=\"8bd9bec4-4600-42e4-a33f-23973c995198\"></div>\n",
       "</div>"
      ]
     },
     "metadata": {},
     "output_type": "display_data"
    },
    {
     "data": {
      "application/javascript": [
       "(function(root) {\n",
       "  function embed_document(root) {\n",
       "    var docs_json = {\"9c6701ac-e888-4dc6-88b7-caf99ab08f8c\":{\"roots\":{\"references\":[{\"attributes\":{\"line_alpha\":{\"value\":0.1},\"line_color\":{\"value\":\"#1f77b4\"},\"line_width\":{\"value\":3},\"x\":{\"field\":\"x\"},\"y\":{\"field\":\"y\"}},\"id\":\"0d272cc8-97be-4dcc-9e80-c8bd9f614e85\",\"type\":\"Line\"},{\"attributes\":{\"bottom_units\":\"screen\",\"fill_alpha\":{\"value\":0.5},\"fill_color\":{\"value\":\"lightgrey\"},\"left_units\":\"screen\",\"level\":\"overlay\",\"line_alpha\":{\"value\":1.0},\"line_color\":{\"value\":\"black\"},\"line_dash\":[4,4],\"line_width\":{\"value\":2},\"plot\":null,\"render_mode\":\"css\",\"right_units\":\"screen\",\"top_units\":\"screen\"},\"id\":\"38db7db4-bda1-40b8-89a4-ef4162f5f085\",\"type\":\"BoxAnnotation\"},{\"attributes\":{\"callback\":null,\"column_names\":[\"x\",\"y\"],\"data\":{\"x\":[1,2,3,4,5],\"y\":[8,6,5,2,3]}},\"id\":\"fd452ca5-6175-4cc5-92df-2e5fc015e3a6\",\"type\":\"ColumnDataSource\"},{\"attributes\":{},\"id\":\"b644d8bd-6627-4c36-93c3-18465e4953df\",\"type\":\"PanTool\"},{\"attributes\":{\"below\":[{\"id\":\"afd2d506-42d0-467d-9673-ba05682c5f93\",\"type\":\"LinearAxis\"}],\"left\":[{\"id\":\"d7ae13f6-a0e5-4783-a24e-a45187e1a5e1\",\"type\":\"LinearAxis\"}],\"renderers\":[{\"id\":\"afd2d506-42d0-467d-9673-ba05682c5f93\",\"type\":\"LinearAxis\"},{\"id\":\"90aa3dbb-b674-4af5-980b-d27864867718\",\"type\":\"Grid\"},{\"id\":\"d7ae13f6-a0e5-4783-a24e-a45187e1a5e1\",\"type\":\"LinearAxis\"},{\"id\":\"2942e97e-f30d-4408-8e26-a5e85ea8e43a\",\"type\":\"Grid\"},{\"id\":\"38db7db4-bda1-40b8-89a4-ef4162f5f085\",\"type\":\"BoxAnnotation\"},{\"id\":\"05e4504e-c387-4a03-b7c1-36b21f58e24b\",\"type\":\"GlyphRenderer\"}],\"title\":{\"id\":\"7d45c4b3-246f-4e33-a218-94c33465fd29\",\"type\":\"Title\"},\"toolbar\":{\"id\":\"246c641f-be9c-45ef-9dd9-57837b184069\",\"type\":\"Toolbar\"},\"x_range\":{\"id\":\"f26484c6-89e9-423e-bf20-ebc2fd8f990d\",\"type\":\"DataRange1d\"},\"x_scale\":{\"id\":\"b2ca2f41-7e7b-4f31-924b-a680fb0942a0\",\"type\":\"LinearScale\"},\"y_range\":{\"id\":\"cdd61819-820b-4675-ad15-ea361ff32fd9\",\"type\":\"DataRange1d\"},\"y_scale\":{\"id\":\"1be6ed23-eb75-4e15-95ea-1c244ae19abe\",\"type\":\"LinearScale\"}},\"id\":\"d844b200-78ef-4982-99ad-1f1e5270f33e\",\"subtype\":\"Figure\",\"type\":\"Plot\"},{\"attributes\":{},\"id\":\"c5773272-a0c0-4019-85fc-8bc4b27b4f57\",\"type\":\"BasicTickFormatter\"},{\"attributes\":{\"callback\":null},\"id\":\"f26484c6-89e9-423e-bf20-ebc2fd8f990d\",\"type\":\"DataRange1d\"},{\"attributes\":{},\"id\":\"ab6167a5-54d1-4390-84fd-86c3a731b86e\",\"type\":\"WheelZoomTool\"},{\"attributes\":{\"data_source\":{\"id\":\"fd452ca5-6175-4cc5-92df-2e5fc015e3a6\",\"type\":\"ColumnDataSource\"},\"glyph\":{\"id\":\"f9ef9ff1-4a4c-42ea-a35f-3c33a025b725\",\"type\":\"Line\"},\"hover_glyph\":null,\"muted_glyph\":null,\"nonselection_glyph\":{\"id\":\"0d272cc8-97be-4dcc-9e80-c8bd9f614e85\",\"type\":\"Line\"},\"selection_glyph\":null,\"view\":{\"id\":\"5a0b8c13-488e-4465-bca5-36bcf713340c\",\"type\":\"CDSView\"}},\"id\":\"05e4504e-c387-4a03-b7c1-36b21f58e24b\",\"type\":\"GlyphRenderer\"},{\"attributes\":{\"overlay\":{\"id\":\"38db7db4-bda1-40b8-89a4-ef4162f5f085\",\"type\":\"BoxAnnotation\"}},\"id\":\"e05de174-9cf3-4f77-b0c0-f168ecf64c7d\",\"type\":\"BoxZoomTool\"},{\"attributes\":{\"callback\":null},\"id\":\"cdd61819-820b-4675-ad15-ea361ff32fd9\",\"type\":\"DataRange1d\"},{\"attributes\":{},\"id\":\"7d6a3d1c-595f-4bf1-aded-705e52ed27ae\",\"type\":\"SaveTool\"},{\"attributes\":{},\"id\":\"b2ca2f41-7e7b-4f31-924b-a680fb0942a0\",\"type\":\"LinearScale\"},{\"attributes\":{},\"id\":\"d6682f42-778c-49f5-a779-d6f368b943bf\",\"type\":\"ResetTool\"},{\"attributes\":{},\"id\":\"1be6ed23-eb75-4e15-95ea-1c244ae19abe\",\"type\":\"LinearScale\"},{\"attributes\":{},\"id\":\"6e702f8c-94d7-4553-86ee-b128340a0b32\",\"type\":\"HelpTool\"},{\"attributes\":{\"plot\":{\"id\":\"d844b200-78ef-4982-99ad-1f1e5270f33e\",\"subtype\":\"Figure\",\"type\":\"Plot\"},\"ticker\":{\"id\":\"ec14dcc3-9b6e-42b9-b8aa-549603ade0ab\",\"type\":\"BasicTicker\"}},\"id\":\"90aa3dbb-b674-4af5-980b-d27864867718\",\"type\":\"Grid\"},{\"attributes\":{\"plot\":null,\"text\":\"\"},\"id\":\"7d45c4b3-246f-4e33-a218-94c33465fd29\",\"type\":\"Title\"},{\"attributes\":{\"formatter\":{\"id\":\"c5773272-a0c0-4019-85fc-8bc4b27b4f57\",\"type\":\"BasicTickFormatter\"},\"plot\":{\"id\":\"d844b200-78ef-4982-99ad-1f1e5270f33e\",\"subtype\":\"Figure\",\"type\":\"Plot\"},\"ticker\":{\"id\":\"ec14dcc3-9b6e-42b9-b8aa-549603ade0ab\",\"type\":\"BasicTicker\"}},\"id\":\"afd2d506-42d0-467d-9673-ba05682c5f93\",\"type\":\"LinearAxis\"},{\"attributes\":{\"source\":{\"id\":\"fd452ca5-6175-4cc5-92df-2e5fc015e3a6\",\"type\":\"ColumnDataSource\"}},\"id\":\"5a0b8c13-488e-4465-bca5-36bcf713340c\",\"type\":\"CDSView\"},{\"attributes\":{},\"id\":\"ec14dcc3-9b6e-42b9-b8aa-549603ade0ab\",\"type\":\"BasicTicker\"},{\"attributes\":{\"formatter\":{\"id\":\"95e59cb5-bf82-4b1d-8c31-1c0c8a4bacf1\",\"type\":\"BasicTickFormatter\"},\"plot\":{\"id\":\"d844b200-78ef-4982-99ad-1f1e5270f33e\",\"subtype\":\"Figure\",\"type\":\"Plot\"},\"ticker\":{\"id\":\"d4d8d37e-1873-4e4e-ac62-4acd6ffd3a5f\",\"type\":\"BasicTicker\"}},\"id\":\"d7ae13f6-a0e5-4783-a24e-a45187e1a5e1\",\"type\":\"LinearAxis\"},{\"attributes\":{},\"id\":\"d4d8d37e-1873-4e4e-ac62-4acd6ffd3a5f\",\"type\":\"BasicTicker\"},{\"attributes\":{\"dimension\":1,\"plot\":{\"id\":\"d844b200-78ef-4982-99ad-1f1e5270f33e\",\"subtype\":\"Figure\",\"type\":\"Plot\"},\"ticker\":{\"id\":\"d4d8d37e-1873-4e4e-ac62-4acd6ffd3a5f\",\"type\":\"BasicTicker\"}},\"id\":\"2942e97e-f30d-4408-8e26-a5e85ea8e43a\",\"type\":\"Grid\"},{\"attributes\":{\"line_color\":{\"value\":\"#1f77b4\"},\"line_width\":{\"value\":3},\"x\":{\"field\":\"x\"},\"y\":{\"field\":\"y\"}},\"id\":\"f9ef9ff1-4a4c-42ea-a35f-3c33a025b725\",\"type\":\"Line\"},{\"attributes\":{},\"id\":\"95e59cb5-bf82-4b1d-8c31-1c0c8a4bacf1\",\"type\":\"BasicTickFormatter\"},{\"attributes\":{\"active_drag\":\"auto\",\"active_inspect\":\"auto\",\"active_scroll\":\"auto\",\"active_tap\":\"auto\",\"tools\":[{\"id\":\"b644d8bd-6627-4c36-93c3-18465e4953df\",\"type\":\"PanTool\"},{\"id\":\"ab6167a5-54d1-4390-84fd-86c3a731b86e\",\"type\":\"WheelZoomTool\"},{\"id\":\"e05de174-9cf3-4f77-b0c0-f168ecf64c7d\",\"type\":\"BoxZoomTool\"},{\"id\":\"7d6a3d1c-595f-4bf1-aded-705e52ed27ae\",\"type\":\"SaveTool\"},{\"id\":\"d6682f42-778c-49f5-a779-d6f368b943bf\",\"type\":\"ResetTool\"},{\"id\":\"6e702f8c-94d7-4553-86ee-b128340a0b32\",\"type\":\"HelpTool\"}]},\"id\":\"246c641f-be9c-45ef-9dd9-57837b184069\",\"type\":\"Toolbar\"}],\"root_ids\":[\"d844b200-78ef-4982-99ad-1f1e5270f33e\"]},\"title\":\"Bokeh Application\",\"version\":\"0.12.10\"}};\n",
       "    var render_items = [{\"docid\":\"9c6701ac-e888-4dc6-88b7-caf99ab08f8c\",\"elementid\":\"8bd9bec4-4600-42e4-a33f-23973c995198\",\"modelid\":\"d844b200-78ef-4982-99ad-1f1e5270f33e\"}];\n",
       "\n",
       "    root.Bokeh.embed.embed_items(docs_json, render_items);\n",
       "  }\n",
       "\n",
       "  if (root.Bokeh !== undefined) {\n",
       "    embed_document(root);\n",
       "  } else {\n",
       "    var attempts = 0;\n",
       "    var timer = setInterval(function(root) {\n",
       "      if (root.Bokeh !== undefined) {\n",
       "        embed_document(root);\n",
       "        clearInterval(timer);\n",
       "      }\n",
       "      attempts++;\n",
       "      if (attempts > 100) {\n",
       "        console.log(\"Bokeh: ERROR: Unable to embed document because BokehJS library is missing\")\n",
       "        clearInterval(timer);\n",
       "      }\n",
       "    }, 10, root)\n",
       "  }\n",
       "})(window);"
      ],
      "application/vnd.bokehjs_exec.v0+json": ""
     },
     "metadata": {
      "application/vnd.bokehjs_exec.v0+json": {
       "id": "d844b200-78ef-4982-99ad-1f1e5270f33e"
      }
     },
     "output_type": "display_data"
    }
   ],
   "source": [
    "x = [1,2,3,4,5]\n",
    "y = [8,6,5,2,3]\n",
    "plot = figure()\n",
    "plot.line(x,y, line_width=3)\n",
    "show(plot)"
   ]
  },
  {
   "cell_type": "markdown",
   "metadata": {},
   "source": [
    "#### Lines and Markers together"
   ]
  },
  {
   "cell_type": "code",
   "execution_count": 85,
   "metadata": {},
   "outputs": [
    {
     "data": {
      "text/html": [
       "\n",
       "<div class=\"bk-root\">\n",
       "    <div class=\"bk-plotdiv\" id=\"755b2347-1837-4e3d-9311-c4216fed6fff\"></div>\n",
       "</div>"
      ]
     },
     "metadata": {},
     "output_type": "display_data"
    },
    {
     "data": {
      "application/javascript": [
       "(function(root) {\n",
       "  function embed_document(root) {\n",
       "    var docs_json = {\"e4ed43bf-186a-4d30-907c-803c2f532667\":{\"roots\":{\"references\":[{\"attributes\":{\"source\":{\"id\":\"b6112f67-d798-4a60-ae59-36e4dc9720ab\",\"type\":\"ColumnDataSource\"}},\"id\":\"d2d3f1c5-e06d-448e-b0b9-574d197162ce\",\"type\":\"CDSView\"},{\"attributes\":{\"data_source\":{\"id\":\"56c97d69-d332-43fe-a1b3-e8d565807247\",\"type\":\"ColumnDataSource\"},\"glyph\":{\"id\":\"52c28013-0255-409e-b965-d3a62f298fea\",\"type\":\"Circle\"},\"hover_glyph\":null,\"muted_glyph\":null,\"nonselection_glyph\":{\"id\":\"9e86bd9f-7ee0-43e8-9e70-157b75179cf0\",\"type\":\"Circle\"},\"selection_glyph\":null,\"view\":{\"id\":\"81079b35-d87a-46de-8efa-3d9461cc8115\",\"type\":\"CDSView\"}},\"id\":\"f3f95cb5-76a5-43a4-9474-5937a38380b0\",\"type\":\"GlyphRenderer\"},{\"attributes\":{\"fill_color\":{\"value\":\"white\"},\"line_color\":{\"value\":\"#1f77b4\"},\"size\":{\"units\":\"screen\",\"value\":10},\"x\":{\"field\":\"x\"},\"y\":{\"field\":\"y\"}},\"id\":\"52c28013-0255-409e-b965-d3a62f298fea\",\"type\":\"Circle\"},{\"attributes\":{\"callback\":null,\"column_names\":[\"x\",\"y\"],\"data\":{\"x\":[1,2,3,4,5],\"y\":[8,6,5,2,3]}},\"id\":\"b6112f67-d798-4a60-ae59-36e4dc9720ab\",\"type\":\"ColumnDataSource\"},{\"attributes\":{},\"id\":\"f823f739-861e-4d5f-ac01-1a66837bac65\",\"type\":\"BasicTickFormatter\"},{\"attributes\":{\"below\":[{\"id\":\"9358e2c3-814a-4eff-9449-43b0a6d2a657\",\"type\":\"LinearAxis\"}],\"left\":[{\"id\":\"0bb3d068-61ea-4e7d-87fd-cace2fc8fdf2\",\"type\":\"LinearAxis\"}],\"renderers\":[{\"id\":\"9358e2c3-814a-4eff-9449-43b0a6d2a657\",\"type\":\"LinearAxis\"},{\"id\":\"89ba5b41-fd6c-47bc-8e37-47613e36adb3\",\"type\":\"Grid\"},{\"id\":\"0bb3d068-61ea-4e7d-87fd-cace2fc8fdf2\",\"type\":\"LinearAxis\"},{\"id\":\"bc535048-dd5e-4886-ac67-c309ce1029ab\",\"type\":\"Grid\"},{\"id\":\"f7b166ca-5e04-4666-9cc4-5722e0a08939\",\"type\":\"BoxAnnotation\"},{\"id\":\"30fb9085-732d-4f65-a108-a3763b5f290a\",\"type\":\"GlyphRenderer\"},{\"id\":\"f3f95cb5-76a5-43a4-9474-5937a38380b0\",\"type\":\"GlyphRenderer\"}],\"title\":{\"id\":\"4a7a2a4c-6ec4-49da-aa16-2453448de0f3\",\"type\":\"Title\"},\"toolbar\":{\"id\":\"2e17b45b-1829-4cb3-a9de-1ee419cbedcd\",\"type\":\"Toolbar\"},\"x_range\":{\"id\":\"49801c4b-cff3-4f0a-bcd5-26bdc4972d3c\",\"type\":\"DataRange1d\"},\"x_scale\":{\"id\":\"aefec2bd-ccbe-4421-851d-93e381eeca00\",\"type\":\"LinearScale\"},\"y_range\":{\"id\":\"9451b5b2-ee30-42a9-8fa6-22f646ed59fd\",\"type\":\"DataRange1d\"},\"y_scale\":{\"id\":\"ab1c76b2-372c-4b83-a75c-4e29f7bad59a\",\"type\":\"LinearScale\"}},\"id\":\"dbee938b-2ca7-4f51-93b5-4d3f54ae9aa0\",\"subtype\":\"Figure\",\"type\":\"Plot\"},{\"attributes\":{\"fill_alpha\":{\"value\":0.1},\"fill_color\":{\"value\":\"#1f77b4\"},\"line_alpha\":{\"value\":0.1},\"line_color\":{\"value\":\"#1f77b4\"},\"size\":{\"units\":\"screen\",\"value\":10},\"x\":{\"field\":\"x\"},\"y\":{\"field\":\"y\"}},\"id\":\"9e86bd9f-7ee0-43e8-9e70-157b75179cf0\",\"type\":\"Circle\"},{\"attributes\":{\"line_alpha\":{\"value\":0.1},\"line_color\":{\"value\":\"#1f77b4\"},\"line_width\":{\"value\":2},\"x\":{\"field\":\"x\"},\"y\":{\"field\":\"y\"}},\"id\":\"1247f8aa-11e5-4831-a841-74fb15b532db\",\"type\":\"Line\"},{\"attributes\":{\"source\":{\"id\":\"56c97d69-d332-43fe-a1b3-e8d565807247\",\"type\":\"ColumnDataSource\"}},\"id\":\"81079b35-d87a-46de-8efa-3d9461cc8115\",\"type\":\"CDSView\"},{\"attributes\":{\"active_drag\":\"auto\",\"active_inspect\":\"auto\",\"active_scroll\":\"auto\",\"active_tap\":\"auto\",\"tools\":[{\"id\":\"5f7031c0-12c0-45fa-93cf-e0f028c97b58\",\"type\":\"PanTool\"},{\"id\":\"fafdd524-c04f-4b94-801f-bf20bfdc2c3a\",\"type\":\"WheelZoomTool\"},{\"id\":\"511c6ec6-ca43-4cd6-96f7-647b820e0b51\",\"type\":\"BoxZoomTool\"},{\"id\":\"efb1dc64-284b-41e9-8132-4333060e396a\",\"type\":\"SaveTool\"},{\"id\":\"ab41d098-651d-4566-b55d-79deaefcfe4d\",\"type\":\"ResetTool\"},{\"id\":\"71e0ae86-d851-42f4-941a-65350902043d\",\"type\":\"HelpTool\"}]},\"id\":\"2e17b45b-1829-4cb3-a9de-1ee419cbedcd\",\"type\":\"Toolbar\"},{\"attributes\":{\"callback\":null},\"id\":\"49801c4b-cff3-4f0a-bcd5-26bdc4972d3c\",\"type\":\"DataRange1d\"},{\"attributes\":{\"callback\":null},\"id\":\"9451b5b2-ee30-42a9-8fa6-22f646ed59fd\",\"type\":\"DataRange1d\"},{\"attributes\":{},\"id\":\"aefec2bd-ccbe-4421-851d-93e381eeca00\",\"type\":\"LinearScale\"},{\"attributes\":{},\"id\":\"ab1c76b2-372c-4b83-a75c-4e29f7bad59a\",\"type\":\"LinearScale\"},{\"attributes\":{},\"id\":\"1be7262a-1051-4011-adb3-107dcf434408\",\"type\":\"BasicTickFormatter\"},{\"attributes\":{\"formatter\":{\"id\":\"f823f739-861e-4d5f-ac01-1a66837bac65\",\"type\":\"BasicTickFormatter\"},\"plot\":{\"id\":\"dbee938b-2ca7-4f51-93b5-4d3f54ae9aa0\",\"subtype\":\"Figure\",\"type\":\"Plot\"},\"ticker\":{\"id\":\"b4fcbde8-6836-44b9-a9c7-f8cf47636549\",\"type\":\"BasicTicker\"}},\"id\":\"0bb3d068-61ea-4e7d-87fd-cace2fc8fdf2\",\"type\":\"LinearAxis\"},{\"attributes\":{},\"id\":\"b4fcbde8-6836-44b9-a9c7-f8cf47636549\",\"type\":\"BasicTicker\"},{\"attributes\":{\"formatter\":{\"id\":\"1be7262a-1051-4011-adb3-107dcf434408\",\"type\":\"BasicTickFormatter\"},\"plot\":{\"id\":\"dbee938b-2ca7-4f51-93b5-4d3f54ae9aa0\",\"subtype\":\"Figure\",\"type\":\"Plot\"},\"ticker\":{\"id\":\"9a048e7a-9e8e-42c7-a64d-19434b71f937\",\"type\":\"BasicTicker\"}},\"id\":\"9358e2c3-814a-4eff-9449-43b0a6d2a657\",\"type\":\"LinearAxis\"},{\"attributes\":{\"dimension\":1,\"plot\":{\"id\":\"dbee938b-2ca7-4f51-93b5-4d3f54ae9aa0\",\"subtype\":\"Figure\",\"type\":\"Plot\"},\"ticker\":{\"id\":\"b4fcbde8-6836-44b9-a9c7-f8cf47636549\",\"type\":\"BasicTicker\"}},\"id\":\"bc535048-dd5e-4886-ac67-c309ce1029ab\",\"type\":\"Grid\"},{\"attributes\":{},\"id\":\"9a048e7a-9e8e-42c7-a64d-19434b71f937\",\"type\":\"BasicTicker\"},{\"attributes\":{\"line_color\":{\"value\":\"#1f77b4\"},\"line_width\":{\"value\":2},\"x\":{\"field\":\"x\"},\"y\":{\"field\":\"y\"}},\"id\":\"ca929cfd-3952-4ece-8d77-f23a99aa1f1d\",\"type\":\"Line\"},{\"attributes\":{\"callback\":null,\"column_names\":[\"x\",\"y\"],\"data\":{\"x\":[1,2,3,4,5],\"y\":[8,6,5,2,3]}},\"id\":\"56c97d69-d332-43fe-a1b3-e8d565807247\",\"type\":\"ColumnDataSource\"},{\"attributes\":{\"bottom_units\":\"screen\",\"fill_alpha\":{\"value\":0.5},\"fill_color\":{\"value\":\"lightgrey\"},\"left_units\":\"screen\",\"level\":\"overlay\",\"line_alpha\":{\"value\":1.0},\"line_color\":{\"value\":\"black\"},\"line_dash\":[4,4],\"line_width\":{\"value\":2},\"plot\":null,\"render_mode\":\"css\",\"right_units\":\"screen\",\"top_units\":\"screen\"},\"id\":\"f7b166ca-5e04-4666-9cc4-5722e0a08939\",\"type\":\"BoxAnnotation\"},{\"attributes\":{},\"id\":\"5f7031c0-12c0-45fa-93cf-e0f028c97b58\",\"type\":\"PanTool\"},{\"attributes\":{\"data_source\":{\"id\":\"b6112f67-d798-4a60-ae59-36e4dc9720ab\",\"type\":\"ColumnDataSource\"},\"glyph\":{\"id\":\"ca929cfd-3952-4ece-8d77-f23a99aa1f1d\",\"type\":\"Line\"},\"hover_glyph\":null,\"muted_glyph\":null,\"nonselection_glyph\":{\"id\":\"1247f8aa-11e5-4831-a841-74fb15b532db\",\"type\":\"Line\"},\"selection_glyph\":null,\"view\":{\"id\":\"d2d3f1c5-e06d-448e-b0b9-574d197162ce\",\"type\":\"CDSView\"}},\"id\":\"30fb9085-732d-4f65-a108-a3763b5f290a\",\"type\":\"GlyphRenderer\"},{\"attributes\":{},\"id\":\"fafdd524-c04f-4b94-801f-bf20bfdc2c3a\",\"type\":\"WheelZoomTool\"},{\"attributes\":{\"plot\":{\"id\":\"dbee938b-2ca7-4f51-93b5-4d3f54ae9aa0\",\"subtype\":\"Figure\",\"type\":\"Plot\"},\"ticker\":{\"id\":\"9a048e7a-9e8e-42c7-a64d-19434b71f937\",\"type\":\"BasicTicker\"}},\"id\":\"89ba5b41-fd6c-47bc-8e37-47613e36adb3\",\"type\":\"Grid\"},{\"attributes\":{\"overlay\":{\"id\":\"f7b166ca-5e04-4666-9cc4-5722e0a08939\",\"type\":\"BoxAnnotation\"}},\"id\":\"511c6ec6-ca43-4cd6-96f7-647b820e0b51\",\"type\":\"BoxZoomTool\"},{\"attributes\":{},\"id\":\"efb1dc64-284b-41e9-8132-4333060e396a\",\"type\":\"SaveTool\"},{\"attributes\":{},\"id\":\"ab41d098-651d-4566-b55d-79deaefcfe4d\",\"type\":\"ResetTool\"},{\"attributes\":{},\"id\":\"71e0ae86-d851-42f4-941a-65350902043d\",\"type\":\"HelpTool\"},{\"attributes\":{\"plot\":null,\"text\":\"\"},\"id\":\"4a7a2a4c-6ec4-49da-aa16-2453448de0f3\",\"type\":\"Title\"}],\"root_ids\":[\"dbee938b-2ca7-4f51-93b5-4d3f54ae9aa0\"]},\"title\":\"Bokeh Application\",\"version\":\"0.12.10\"}};\n",
       "    var render_items = [{\"docid\":\"e4ed43bf-186a-4d30-907c-803c2f532667\",\"elementid\":\"755b2347-1837-4e3d-9311-c4216fed6fff\",\"modelid\":\"dbee938b-2ca7-4f51-93b5-4d3f54ae9aa0\"}];\n",
       "\n",
       "    root.Bokeh.embed.embed_items(docs_json, render_items);\n",
       "  }\n",
       "\n",
       "  if (root.Bokeh !== undefined) {\n",
       "    embed_document(root);\n",
       "  } else {\n",
       "    var attempts = 0;\n",
       "    var timer = setInterval(function(root) {\n",
       "      if (root.Bokeh !== undefined) {\n",
       "        embed_document(root);\n",
       "        clearInterval(timer);\n",
       "      }\n",
       "      attempts++;\n",
       "      if (attempts > 100) {\n",
       "        console.log(\"Bokeh: ERROR: Unable to embed document because BokehJS library is missing\")\n",
       "        clearInterval(timer);\n",
       "      }\n",
       "    }, 10, root)\n",
       "  }\n",
       "})(window);"
      ],
      "application/vnd.bokehjs_exec.v0+json": ""
     },
     "metadata": {
      "application/vnd.bokehjs_exec.v0+json": {
       "id": "dbee938b-2ca7-4f51-93b5-4d3f54ae9aa0"
      }
     },
     "output_type": "display_data"
    }
   ],
   "source": [
    "plot = figure()\n",
    "plot.line(x, y, line_width=2)\n",
    "plot.circle(x, y, fill_color = 'white', size = 10)\n",
    "show(plot)"
   ]
  },
  {
   "cell_type": "markdown",
   "metadata": {},
   "source": [
    "#### Patches\n",
    "- Useful for showing geographic regions\n",
    "- Data given as list of lists\n",
    " - one list for x and one for y"
   ]
  },
  {
   "cell_type": "code",
   "execution_count": 87,
   "metadata": {},
   "outputs": [
    {
     "data": {
      "text/html": [
       "\n",
       "<div class=\"bk-root\">\n",
       "    <div class=\"bk-plotdiv\" id=\"0ad4bac9-cd0f-4341-abcf-29a7ef62b5cf\"></div>\n",
       "</div>"
      ]
     },
     "metadata": {},
     "output_type": "display_data"
    },
    {
     "data": {
      "application/javascript": [
       "(function(root) {\n",
       "  function embed_document(root) {\n",
       "    var docs_json = {\"7a216ffe-9e66-440e-a6d1-c1e67ebc6eae\":{\"roots\":{\"references\":[{\"attributes\":{\"dimension\":1,\"plot\":{\"id\":\"d393d097-23f3-442a-9ef9-e63cdf66c855\",\"subtype\":\"Figure\",\"type\":\"Plot\"},\"ticker\":{\"id\":\"5e59a8d1-5cf3-4098-bd31-2aa121a23c3b\",\"type\":\"BasicTicker\"}},\"id\":\"fb11c8ca-44ed-4f6a-b8e6-7a8e92c328d3\",\"type\":\"Grid\"},{\"attributes\":{},\"id\":\"480eb731-d91d-4ad6-8437-567fd194db1e\",\"type\":\"BasicTickFormatter\"},{\"attributes\":{\"plot\":null,\"text\":\"\"},\"id\":\"d1daf8ca-6186-4cfb-bf2e-7fac400b823d\",\"type\":\"Title\"},{\"attributes\":{\"callback\":null,\"column_names\":[\"xs\",\"ys\",\"fill_color\"],\"data\":{\"fill_color\":[\"red\",\"blue\",\"green\"],\"xs\":[[1,1,2,2],[2,2,4],[2,2,3,3]],\"ys\":[[2,5,5,2],[3,5,5],[2,3,4,2]]}},\"id\":\"bd7ede59-fdfd-4db5-9f89-1e62c4585845\",\"type\":\"ColumnDataSource\"},{\"attributes\":{\"below\":[{\"id\":\"e57a4285-4ce4-41ff-ab21-880999a87598\",\"type\":\"LinearAxis\"}],\"left\":[{\"id\":\"0286bdf4-1b8d-4920-8200-e9218705a0a7\",\"type\":\"LinearAxis\"}],\"renderers\":[{\"id\":\"e57a4285-4ce4-41ff-ab21-880999a87598\",\"type\":\"LinearAxis\"},{\"id\":\"cbe1d1ce-d987-46aa-8ca6-7c45865554a9\",\"type\":\"Grid\"},{\"id\":\"0286bdf4-1b8d-4920-8200-e9218705a0a7\",\"type\":\"LinearAxis\"},{\"id\":\"fb11c8ca-44ed-4f6a-b8e6-7a8e92c328d3\",\"type\":\"Grid\"},{\"id\":\"4e7a7765-e099-44ac-af32-d90a388e7cfd\",\"type\":\"BoxAnnotation\"},{\"id\":\"77d55886-02c4-4a23-b3ab-a8360762f800\",\"type\":\"GlyphRenderer\"}],\"title\":{\"id\":\"d1daf8ca-6186-4cfb-bf2e-7fac400b823d\",\"type\":\"Title\"},\"toolbar\":{\"id\":\"3db44d6a-630b-46b8-89af-73789f72d7f9\",\"type\":\"Toolbar\"},\"x_range\":{\"id\":\"b033c93f-0e24-40a5-8f55-74471fb3b733\",\"type\":\"DataRange1d\"},\"x_scale\":{\"id\":\"f107c6f0-7440-451c-93c0-32fb5c81daff\",\"type\":\"LinearScale\"},\"y_range\":{\"id\":\"b46ded7f-7917-47df-9d64-4c64fbf6d666\",\"type\":\"DataRange1d\"},\"y_scale\":{\"id\":\"bcaf0ca3-b5fd-482a-9794-c756823077f9\",\"type\":\"LinearScale\"}},\"id\":\"d393d097-23f3-442a-9ef9-e63cdf66c855\",\"subtype\":\"Figure\",\"type\":\"Plot\"},{\"attributes\":{},\"id\":\"8456b38b-16ae-4193-beb5-908588a16b34\",\"type\":\"BasicTickFormatter\"},{\"attributes\":{\"data_source\":{\"id\":\"bd7ede59-fdfd-4db5-9f89-1e62c4585845\",\"type\":\"ColumnDataSource\"},\"glyph\":{\"id\":\"d63e9592-55d9-4fb9-aa03-a8186b7267c4\",\"type\":\"Patches\"},\"hover_glyph\":null,\"muted_glyph\":null,\"nonselection_glyph\":{\"id\":\"2afdf3f6-81dc-4d3a-b4b9-c6cc7cac2e96\",\"type\":\"Patches\"},\"selection_glyph\":null,\"view\":{\"id\":\"0a0fc745-2699-4c7f-8f18-deb19e32f798\",\"type\":\"CDSView\"}},\"id\":\"77d55886-02c4-4a23-b3ab-a8360762f800\",\"type\":\"GlyphRenderer\"},{\"attributes\":{\"fill_alpha\":{\"value\":0.1},\"fill_color\":{\"value\":\"#1f77b4\"},\"line_alpha\":{\"value\":0.1},\"line_color\":{\"value\":\"#1f77b4\"},\"xs\":{\"field\":\"xs\"},\"ys\":{\"field\":\"ys\"}},\"id\":\"2afdf3f6-81dc-4d3a-b4b9-c6cc7cac2e96\",\"type\":\"Patches\"},{\"attributes\":{\"active_drag\":\"auto\",\"active_inspect\":\"auto\",\"active_scroll\":\"auto\",\"active_tap\":\"auto\",\"tools\":[{\"id\":\"41444c39-89b9-4b1a-b7ec-84881c179309\",\"type\":\"PanTool\"},{\"id\":\"7511255d-fc28-4141-8ed6-779bdeb43d3f\",\"type\":\"WheelZoomTool\"},{\"id\":\"5f9eaf60-d460-4612-9654-3ea3d4b9f5ed\",\"type\":\"BoxZoomTool\"},{\"id\":\"b484315b-e082-41a6-ad48-91f95d7fe862\",\"type\":\"SaveTool\"},{\"id\":\"1dd80bfc-a5b7-4c7a-9269-b4cd505dc7e0\",\"type\":\"ResetTool\"},{\"id\":\"de1338e8-35da-4d4a-9499-11a97bfb9d63\",\"type\":\"HelpTool\"}]},\"id\":\"3db44d6a-630b-46b8-89af-73789f72d7f9\",\"type\":\"Toolbar\"},{\"attributes\":{\"fill_color\":{\"field\":\"fill_color\"},\"line_color\":{\"value\":\"white\"},\"xs\":{\"field\":\"xs\"},\"ys\":{\"field\":\"ys\"}},\"id\":\"d63e9592-55d9-4fb9-aa03-a8186b7267c4\",\"type\":\"Patches\"},{\"attributes\":{\"callback\":null},\"id\":\"b033c93f-0e24-40a5-8f55-74471fb3b733\",\"type\":\"DataRange1d\"},{\"attributes\":{\"callback\":null},\"id\":\"b46ded7f-7917-47df-9d64-4c64fbf6d666\",\"type\":\"DataRange1d\"},{\"attributes\":{\"bottom_units\":\"screen\",\"fill_alpha\":{\"value\":0.5},\"fill_color\":{\"value\":\"lightgrey\"},\"left_units\":\"screen\",\"level\":\"overlay\",\"line_alpha\":{\"value\":1.0},\"line_color\":{\"value\":\"black\"},\"line_dash\":[4,4],\"line_width\":{\"value\":2},\"plot\":null,\"render_mode\":\"css\",\"right_units\":\"screen\",\"top_units\":\"screen\"},\"id\":\"4e7a7765-e099-44ac-af32-d90a388e7cfd\",\"type\":\"BoxAnnotation\"},{\"attributes\":{},\"id\":\"f107c6f0-7440-451c-93c0-32fb5c81daff\",\"type\":\"LinearScale\"},{\"attributes\":{},\"id\":\"41444c39-89b9-4b1a-b7ec-84881c179309\",\"type\":\"PanTool\"},{\"attributes\":{},\"id\":\"bcaf0ca3-b5fd-482a-9794-c756823077f9\",\"type\":\"LinearScale\"},{\"attributes\":{\"source\":{\"id\":\"bd7ede59-fdfd-4db5-9f89-1e62c4585845\",\"type\":\"ColumnDataSource\"}},\"id\":\"0a0fc745-2699-4c7f-8f18-deb19e32f798\",\"type\":\"CDSView\"},{\"attributes\":{\"plot\":{\"id\":\"d393d097-23f3-442a-9ef9-e63cdf66c855\",\"subtype\":\"Figure\",\"type\":\"Plot\"},\"ticker\":{\"id\":\"11ba636b-c241-4af9-9662-fb1a2d7d82a3\",\"type\":\"BasicTicker\"}},\"id\":\"cbe1d1ce-d987-46aa-8ca6-7c45865554a9\",\"type\":\"Grid\"},{\"attributes\":{},\"id\":\"7511255d-fc28-4141-8ed6-779bdeb43d3f\",\"type\":\"WheelZoomTool\"},{\"attributes\":{\"formatter\":{\"id\":\"8456b38b-16ae-4193-beb5-908588a16b34\",\"type\":\"BasicTickFormatter\"},\"plot\":{\"id\":\"d393d097-23f3-442a-9ef9-e63cdf66c855\",\"subtype\":\"Figure\",\"type\":\"Plot\"},\"ticker\":{\"id\":\"11ba636b-c241-4af9-9662-fb1a2d7d82a3\",\"type\":\"BasicTicker\"}},\"id\":\"e57a4285-4ce4-41ff-ab21-880999a87598\",\"type\":\"LinearAxis\"},{\"attributes\":{\"overlay\":{\"id\":\"4e7a7765-e099-44ac-af32-d90a388e7cfd\",\"type\":\"BoxAnnotation\"}},\"id\":\"5f9eaf60-d460-4612-9654-3ea3d4b9f5ed\",\"type\":\"BoxZoomTool\"},{\"attributes\":{},\"id\":\"11ba636b-c241-4af9-9662-fb1a2d7d82a3\",\"type\":\"BasicTicker\"},{\"attributes\":{},\"id\":\"b484315b-e082-41a6-ad48-91f95d7fe862\",\"type\":\"SaveTool\"},{\"attributes\":{\"formatter\":{\"id\":\"480eb731-d91d-4ad6-8437-567fd194db1e\",\"type\":\"BasicTickFormatter\"},\"plot\":{\"id\":\"d393d097-23f3-442a-9ef9-e63cdf66c855\",\"subtype\":\"Figure\",\"type\":\"Plot\"},\"ticker\":{\"id\":\"5e59a8d1-5cf3-4098-bd31-2aa121a23c3b\",\"type\":\"BasicTicker\"}},\"id\":\"0286bdf4-1b8d-4920-8200-e9218705a0a7\",\"type\":\"LinearAxis\"},{\"attributes\":{},\"id\":\"1dd80bfc-a5b7-4c7a-9269-b4cd505dc7e0\",\"type\":\"ResetTool\"},{\"attributes\":{},\"id\":\"5e59a8d1-5cf3-4098-bd31-2aa121a23c3b\",\"type\":\"BasicTicker\"},{\"attributes\":{},\"id\":\"de1338e8-35da-4d4a-9499-11a97bfb9d63\",\"type\":\"HelpTool\"}],\"root_ids\":[\"d393d097-23f3-442a-9ef9-e63cdf66c855\"]},\"title\":\"Bokeh Application\",\"version\":\"0.12.10\"}};\n",
       "    var render_items = [{\"docid\":\"7a216ffe-9e66-440e-a6d1-c1e67ebc6eae\",\"elementid\":\"0ad4bac9-cd0f-4341-abcf-29a7ef62b5cf\",\"modelid\":\"d393d097-23f3-442a-9ef9-e63cdf66c855\"}];\n",
       "\n",
       "    root.Bokeh.embed.embed_items(docs_json, render_items);\n",
       "  }\n",
       "\n",
       "  if (root.Bokeh !== undefined) {\n",
       "    embed_document(root);\n",
       "  } else {\n",
       "    var attempts = 0;\n",
       "    var timer = setInterval(function(root) {\n",
       "      if (root.Bokeh !== undefined) {\n",
       "        embed_document(root);\n",
       "        clearInterval(timer);\n",
       "      }\n",
       "      attempts++;\n",
       "      if (attempts > 100) {\n",
       "        console.log(\"Bokeh: ERROR: Unable to embed document because BokehJS library is missing\")\n",
       "        clearInterval(timer);\n",
       "      }\n",
       "    }, 10, root)\n",
       "  }\n",
       "})(window);"
      ],
      "application/vnd.bokehjs_exec.v0+json": ""
     },
     "metadata": {
      "application/vnd.bokehjs_exec.v0+json": {
       "id": "d393d097-23f3-442a-9ef9-e63cdf66c855"
      }
     },
     "output_type": "display_data"
    }
   ],
   "source": [
    "xs = [[1,1,2,2],[2,2,4],[2,2,3,3]]\n",
    "ys = [[2,5,5,2],[3,5,5],[2,3,4,2]]\n",
    "plot = figure()\n",
    "plot.patches(xs, ys, \n",
    "            fill_color = ['red','blue','green'],\n",
    "            line_color = 'white')\n",
    "\n",
    "show(plot)"
   ]
  },
  {
   "cell_type": "markdown",
   "metadata": {},
   "source": [
    "#### Other glyphs\n",
    "- annulus(), wedge(), rect(), hbar(), etc, etc\n",
    "- [Plotting with basic glyphs](https://bokeh.pydata.org/en/latest/docs/user_guide/plotting.html#)\n",
    "- [full list of glyphs](https://bokeh.pydata.org/en/latest/docs/reference/models/glyphs.html)"
   ]
  },
  {
   "cell_type": "markdown",
   "metadata": {},
   "source": [
    "### Lines"
   ]
  },
  {
   "cell_type": "code",
   "execution_count": 98,
   "metadata": {},
   "outputs": [
    {
     "data": {
      "text/html": [
       "<div>\n",
       "<style>\n",
       "    .dataframe thead tr:only-child th {\n",
       "        text-align: right;\n",
       "    }\n",
       "\n",
       "    .dataframe thead th {\n",
       "        text-align: left;\n",
       "    }\n",
       "\n",
       "    .dataframe tbody tr th {\n",
       "        vertical-align: top;\n",
       "    }\n",
       "</style>\n",
       "<table border=\"1\" class=\"dataframe\">\n",
       "  <thead>\n",
       "    <tr style=\"text-align: right;\">\n",
       "      <th></th>\n",
       "      <th>adj_close</th>\n",
       "      <th>close</th>\n",
       "      <th>date</th>\n",
       "      <th>high</th>\n",
       "      <th>low</th>\n",
       "      <th>open</th>\n",
       "      <th>volume</th>\n",
       "    </tr>\n",
       "  </thead>\n",
       "  <tbody>\n",
       "    <tr>\n",
       "      <th>0</th>\n",
       "      <td>31.68</td>\n",
       "      <td>130.31</td>\n",
       "      <td>2000-03-01</td>\n",
       "      <td>132.06</td>\n",
       "      <td>118.50</td>\n",
       "      <td>118.56</td>\n",
       "      <td>38478000</td>\n",
       "    </tr>\n",
       "    <tr>\n",
       "      <th>1</th>\n",
       "      <td>29.66</td>\n",
       "      <td>122.00</td>\n",
       "      <td>2000-03-02</td>\n",
       "      <td>127.94</td>\n",
       "      <td>120.69</td>\n",
       "      <td>127.00</td>\n",
       "      <td>11136800</td>\n",
       "    </tr>\n",
       "    <tr>\n",
       "      <th>2</th>\n",
       "      <td>31.12</td>\n",
       "      <td>128.00</td>\n",
       "      <td>2000-03-03</td>\n",
       "      <td>128.23</td>\n",
       "      <td>120.00</td>\n",
       "      <td>124.87</td>\n",
       "      <td>11565200</td>\n",
       "    </tr>\n",
       "    <tr>\n",
       "      <th>3</th>\n",
       "      <td>30.56</td>\n",
       "      <td>125.69</td>\n",
       "      <td>2000-03-06</td>\n",
       "      <td>129.13</td>\n",
       "      <td>125.00</td>\n",
       "      <td>126.00</td>\n",
       "      <td>7520000</td>\n",
       "    </tr>\n",
       "    <tr>\n",
       "      <th>4</th>\n",
       "      <td>29.87</td>\n",
       "      <td>122.87</td>\n",
       "      <td>2000-03-07</td>\n",
       "      <td>127.44</td>\n",
       "      <td>121.12</td>\n",
       "      <td>126.44</td>\n",
       "      <td>9767600</td>\n",
       "    </tr>\n",
       "  </tbody>\n",
       "</table>\n",
       "</div>"
      ],
      "text/plain": [
       "   adj_close   close       date    high     low    open    volume\n",
       "0      31.68  130.31 2000-03-01  132.06  118.50  118.56  38478000\n",
       "1      29.66  122.00 2000-03-02  127.94  120.69  127.00  11136800\n",
       "2      31.12  128.00 2000-03-03  128.23  120.00  124.87  11565200\n",
       "3      30.56  125.69 2000-03-06  129.13  125.00  126.00   7520000\n",
       "4      29.87  122.87 2000-03-07  127.44  121.12  126.44   9767600"
      ]
     },
     "execution_count": 98,
     "metadata": {},
     "output_type": "execute_result"
    }
   ],
   "source": [
    "file = 'https://assets.datacamp.com/production/course_1392/datasets/aapl.csv'\n",
    "stock = pd.read_csv(file, parse_dates = ['date'], index_col = 0)\n",
    "stock.head()"
   ]
  },
  {
   "cell_type": "code",
   "execution_count": 99,
   "metadata": {},
   "outputs": [
    {
     "data": {
      "text/html": [
       "\n",
       "<div class=\"bk-root\">\n",
       "    <div class=\"bk-plotdiv\" id=\"4d078c6a-8c98-4f57-840a-3a0dda4083d2\"></div>\n",
       "</div>"
      ]
     },
     "metadata": {},
     "output_type": "display_data"
    },
    {
     "data": {
      "application/javascript": [
       "(function(root) {\n",
       "  function embed_document(root) {\n",
       "    var docs_json = {\"9649c5d9-cbf4-43be-8745-4daeae55fff6\":{\"roots\":{\"references\":[{\"attributes\":{\"days\":[1,2,3,4,5,6,7,8,9,10,11,12,13,14,15,16,17,18,19,20,21,22,23,24,25,26,27,28,29,30,31]},\"id\":\"40033b12-f0fe-4050-aa6d-fa5e8c8be934\",\"type\":\"DaysTicker\"},{\"attributes\":{\"months\":[0,6]},\"id\":\"4c06c0ce-5610-49ec-adef-1b3765aac3da\",\"type\":\"MonthsTicker\"},{\"attributes\":{},\"id\":\"492768e6-0641-4eba-8930-2681bede25ed\",\"type\":\"BasicTicker\"},{\"attributes\":{\"callback\":null},\"id\":\"93d9994f-71e9-4df8-ba47-40d9ba4f4c43\",\"type\":\"DataRange1d\"},{\"attributes\":{\"source\":{\"id\":\"e696193f-3dba-468e-8f88-8f724925b482\",\"type\":\"ColumnDataSource\"}},\"id\":\"2b5d9190-ba84-4a52-af7f-deb5d7e1a903\",\"type\":\"CDSView\"},{\"attributes\":{\"days\":[1,4,7,10,13,16,19,22,25,28]},\"id\":\"bf2f3c14-509e-43fc-b297-37106d4d3205\",\"type\":\"DaysTicker\"},{\"attributes\":{\"num_minor_ticks\":5,\"tickers\":[{\"id\":\"1e04c585-ede5-46d5-928b-0c1df93d39b8\",\"type\":\"AdaptiveTicker\"},{\"id\":\"cd170c28-92cf-466e-bae3-74f0c071df9f\",\"type\":\"AdaptiveTicker\"},{\"id\":\"61334c89-6774-4360-8d79-e2f4582d40bd\",\"type\":\"AdaptiveTicker\"},{\"id\":\"40033b12-f0fe-4050-aa6d-fa5e8c8be934\",\"type\":\"DaysTicker\"},{\"id\":\"bf2f3c14-509e-43fc-b297-37106d4d3205\",\"type\":\"DaysTicker\"},{\"id\":\"868d3ab8-0e90-453e-9c48-ab53ae44739f\",\"type\":\"DaysTicker\"},{\"id\":\"48ef0c6b-cc51-4acd-b00d-46e4337544b3\",\"type\":\"DaysTicker\"},{\"id\":\"068b4e7b-f1ed-40a2-9db0-5b0b16e370e2\",\"type\":\"MonthsTicker\"},{\"id\":\"0af07919-21de-4552-bd73-bab38c959cb1\",\"type\":\"MonthsTicker\"},{\"id\":\"36455870-3fe8-4ddc-8907-754dc9a7de00\",\"type\":\"MonthsTicker\"},{\"id\":\"4c06c0ce-5610-49ec-adef-1b3765aac3da\",\"type\":\"MonthsTicker\"},{\"id\":\"77244af7-a119-4bc9-83a8-fc4f31852c12\",\"type\":\"YearsTicker\"}]},\"id\":\"2f494ed0-dd8a-443b-83d3-0fa737d9d1d0\",\"type\":\"DatetimeTicker\"},{\"attributes\":{\"overlay\":{\"id\":\"bee727a2-55f7-4ca7-aa3e-4fc61d808e63\",\"type\":\"BoxAnnotation\"}},\"id\":\"e57bc2d8-2eec-4fe5-9e78-08930674b545\",\"type\":\"BoxZoomTool\"},{\"attributes\":{\"months\":[0,2,4,6,8,10]},\"id\":\"0af07919-21de-4552-bd73-bab38c959cb1\",\"type\":\"MonthsTicker\"},{\"attributes\":{\"mantissas\":[1,2,5],\"max_interval\":500.0,\"num_minor_ticks\":0},\"id\":\"1e04c585-ede5-46d5-928b-0c1df93d39b8\",\"type\":\"AdaptiveTicker\"},{\"attributes\":{},\"id\":\"9acd69e8-4a87-4fe7-8931-8a02bd61dec7\",\"type\":\"DatetimeTickFormatter\"},{\"attributes\":{\"callback\":null},\"id\":\"4d206d32-518b-4c26-af16-7f6008ca05e3\",\"type\":\"DataRange1d\"},{\"attributes\":{\"axis_label\":\"US Dollars\",\"formatter\":{\"id\":\"b7478dc9-3ace-4bb9-b634-e6611d069267\",\"type\":\"BasicTickFormatter\"},\"plot\":{\"id\":\"e8645519-970b-4132-aefe-62ebe0fb8ef3\",\"subtype\":\"Figure\",\"type\":\"Plot\"},\"ticker\":{\"id\":\"492768e6-0641-4eba-8930-2681bede25ed\",\"type\":\"BasicTicker\"}},\"id\":\"7762f29a-3911-4969-b599-56e0e209f5b0\",\"type\":\"LinearAxis\"},{\"attributes\":{\"plot\":{\"id\":\"e8645519-970b-4132-aefe-62ebe0fb8ef3\",\"subtype\":\"Figure\",\"type\":\"Plot\"},\"ticker\":{\"id\":\"2f494ed0-dd8a-443b-83d3-0fa737d9d1d0\",\"type\":\"DatetimeTicker\"}},\"id\":\"e942cef1-8e0d-4c0e-996f-41943e34acc9\",\"type\":\"Grid\"},{\"attributes\":{\"axis_label\":\"Date\",\"formatter\":{\"id\":\"9acd69e8-4a87-4fe7-8931-8a02bd61dec7\",\"type\":\"DatetimeTickFormatter\"},\"plot\":{\"id\":\"e8645519-970b-4132-aefe-62ebe0fb8ef3\",\"subtype\":\"Figure\",\"type\":\"Plot\"},\"ticker\":{\"id\":\"2f494ed0-dd8a-443b-83d3-0fa737d9d1d0\",\"type\":\"DatetimeTicker\"}},\"id\":\"dffd15cf-4b89-425e-bf5d-5126ceea4cbf\",\"type\":\"DatetimeAxis\"},{\"attributes\":{\"base\":24,\"mantissas\":[1,2,4,6,8,12],\"max_interval\":43200000.0,\"min_interval\":3600000.0,\"num_minor_ticks\":0},\"id\":\"61334c89-6774-4360-8d79-e2f4582d40bd\",\"type\":\"AdaptiveTicker\"},{\"attributes\":{\"line_alpha\":{\"value\":0.1},\"line_color\":{\"value\":\"#1f77b4\"},\"x\":{\"field\":\"x\"},\"y\":{\"field\":\"y\"}},\"id\":\"5beebd93-e460-4ccf-97f1-573b4b38a47e\",\"type\":\"Line\"},{\"attributes\":{\"months\":[0,1,2,3,4,5,6,7,8,9,10,11]},\"id\":\"068b4e7b-f1ed-40a2-9db0-5b0b16e370e2\",\"type\":\"MonthsTicker\"},{\"attributes\":{},\"id\":\"bcf1ce68-25d5-49f0-bc3f-89d1ab51291c\",\"type\":\"PanTool\"},{\"attributes\":{},\"id\":\"d2e13fde-84e9-4a4c-b4d3-531af5712488\",\"type\":\"HelpTool\"},{\"attributes\":{},\"id\":\"dbc5abbe-2370-4a80-a4ae-778c86ff2f51\",\"type\":\"LinearScale\"},{\"attributes\":{\"bottom_units\":\"screen\",\"fill_alpha\":{\"value\":0.5},\"fill_color\":{\"value\":\"lightgrey\"},\"left_units\":\"screen\",\"level\":\"overlay\",\"line_alpha\":{\"value\":1.0},\"line_color\":{\"value\":\"black\"},\"line_dash\":[4,4],\"line_width\":{\"value\":2},\"plot\":null,\"render_mode\":\"css\",\"right_units\":\"screen\",\"top_units\":\"screen\"},\"id\":\"bee727a2-55f7-4ca7-aa3e-4fc61d808e63\",\"type\":\"BoxAnnotation\"},{\"attributes\":{\"days\":[1,8,15,22]},\"id\":\"868d3ab8-0e90-453e-9c48-ab53ae44739f\",\"type\":\"DaysTicker\"},{\"attributes\":{},\"id\":\"b7478dc9-3ace-4bb9-b634-e6611d069267\",\"type\":\"BasicTickFormatter\"},{\"attributes\":{\"plot\":null,\"text\":\"\"},\"id\":\"cd607945-381f-41f9-833f-66464b3c899a\",\"type\":\"Title\"},{\"attributes\":{},\"id\":\"4575959e-70c2-494a-9a3c-6b30f6a78556\",\"type\":\"ResetTool\"},{\"attributes\":{\"callback\":null,\"column_names\":[\"x\",\"y\"],\"data\":{\"x\":{\"__ndarray__\":\"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\",\"dtype\":\"float64\",\"shape\":[3270]},\"y\":{\"__ndarray__\":\"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\",\"dtype\":\"float64\",\"shape\":[3270]}}},\"id\":\"e696193f-3dba-468e-8f88-8f724925b482\",\"type\":\"ColumnDataSource\"},{\"attributes\":{},\"id\":\"5e730bbd-76c6-47cc-a1a6-8a41a4932e19\",\"type\":\"SaveTool\"},{\"attributes\":{\"below\":[{\"id\":\"dffd15cf-4b89-425e-bf5d-5126ceea4cbf\",\"type\":\"DatetimeAxis\"}],\"left\":[{\"id\":\"7762f29a-3911-4969-b599-56e0e209f5b0\",\"type\":\"LinearAxis\"}],\"renderers\":[{\"id\":\"dffd15cf-4b89-425e-bf5d-5126ceea4cbf\",\"type\":\"DatetimeAxis\"},{\"id\":\"e942cef1-8e0d-4c0e-996f-41943e34acc9\",\"type\":\"Grid\"},{\"id\":\"7762f29a-3911-4969-b599-56e0e209f5b0\",\"type\":\"LinearAxis\"},{\"id\":\"fbaed054-076c-4d62-af46-3fd9d95300e8\",\"type\":\"Grid\"},{\"id\":\"bee727a2-55f7-4ca7-aa3e-4fc61d808e63\",\"type\":\"BoxAnnotation\"},{\"id\":\"c657bc54-89d9-4dae-a7ac-a0df666626ac\",\"type\":\"GlyphRenderer\"}],\"title\":{\"id\":\"cd607945-381f-41f9-833f-66464b3c899a\",\"type\":\"Title\"},\"toolbar\":{\"id\":\"35fc58fa-79eb-4879-8b5b-43eaf331eb56\",\"type\":\"Toolbar\"},\"x_range\":{\"id\":\"4d206d32-518b-4c26-af16-7f6008ca05e3\",\"type\":\"DataRange1d\"},\"x_scale\":{\"id\":\"dbc5abbe-2370-4a80-a4ae-778c86ff2f51\",\"type\":\"LinearScale\"},\"y_range\":{\"id\":\"93d9994f-71e9-4df8-ba47-40d9ba4f4c43\",\"type\":\"DataRange1d\"},\"y_scale\":{\"id\":\"464e70f9-05af-4af5-9b17-88044d568b5a\",\"type\":\"LinearScale\"}},\"id\":\"e8645519-970b-4132-aefe-62ebe0fb8ef3\",\"subtype\":\"Figure\",\"type\":\"Plot\"},{\"attributes\":{},\"id\":\"af10d984-95f0-4180-8741-c5c54234da5c\",\"type\":\"WheelZoomTool\"},{\"attributes\":{\"data_source\":{\"id\":\"e696193f-3dba-468e-8f88-8f724925b482\",\"type\":\"ColumnDataSource\"},\"glyph\":{\"id\":\"2411b5e5-1e5a-41e4-9a8f-9a4ed04e4c4a\",\"type\":\"Line\"},\"hover_glyph\":null,\"muted_glyph\":null,\"nonselection_glyph\":{\"id\":\"5beebd93-e460-4ccf-97f1-573b4b38a47e\",\"type\":\"Line\"},\"selection_glyph\":null,\"view\":{\"id\":\"2b5d9190-ba84-4a52-af7f-deb5d7e1a903\",\"type\":\"CDSView\"}},\"id\":\"c657bc54-89d9-4dae-a7ac-a0df666626ac\",\"type\":\"GlyphRenderer\"},{\"attributes\":{\"base\":60,\"mantissas\":[1,2,5,10,15,20,30],\"max_interval\":1800000.0,\"min_interval\":1000.0,\"num_minor_ticks\":0},\"id\":\"cd170c28-92cf-466e-bae3-74f0c071df9f\",\"type\":\"AdaptiveTicker\"},{\"attributes\":{\"active_drag\":\"auto\",\"active_inspect\":\"auto\",\"active_scroll\":\"auto\",\"active_tap\":\"auto\",\"tools\":[{\"id\":\"bcf1ce68-25d5-49f0-bc3f-89d1ab51291c\",\"type\":\"PanTool\"},{\"id\":\"af10d984-95f0-4180-8741-c5c54234da5c\",\"type\":\"WheelZoomTool\"},{\"id\":\"e57bc2d8-2eec-4fe5-9e78-08930674b545\",\"type\":\"BoxZoomTool\"},{\"id\":\"5e730bbd-76c6-47cc-a1a6-8a41a4932e19\",\"type\":\"SaveTool\"},{\"id\":\"4575959e-70c2-494a-9a3c-6b30f6a78556\",\"type\":\"ResetTool\"},{\"id\":\"d2e13fde-84e9-4a4c-b4d3-531af5712488\",\"type\":\"HelpTool\"}]},\"id\":\"35fc58fa-79eb-4879-8b5b-43eaf331eb56\",\"type\":\"Toolbar\"},{\"attributes\":{},\"id\":\"464e70f9-05af-4af5-9b17-88044d568b5a\",\"type\":\"LinearScale\"},{\"attributes\":{\"days\":[1,15]},\"id\":\"48ef0c6b-cc51-4acd-b00d-46e4337544b3\",\"type\":\"DaysTicker\"},{\"attributes\":{\"line_color\":{\"value\":\"#1f77b4\"},\"x\":{\"field\":\"x\"},\"y\":{\"field\":\"y\"}},\"id\":\"2411b5e5-1e5a-41e4-9a8f-9a4ed04e4c4a\",\"type\":\"Line\"},{\"attributes\":{\"months\":[0,4,8]},\"id\":\"36455870-3fe8-4ddc-8907-754dc9a7de00\",\"type\":\"MonthsTicker\"},{\"attributes\":{},\"id\":\"77244af7-a119-4bc9-83a8-fc4f31852c12\",\"type\":\"YearsTicker\"},{\"attributes\":{\"dimension\":1,\"plot\":{\"id\":\"e8645519-970b-4132-aefe-62ebe0fb8ef3\",\"subtype\":\"Figure\",\"type\":\"Plot\"},\"ticker\":{\"id\":\"492768e6-0641-4eba-8930-2681bede25ed\",\"type\":\"BasicTicker\"}},\"id\":\"fbaed054-076c-4d62-af46-3fd9d95300e8\",\"type\":\"Grid\"}],\"root_ids\":[\"e8645519-970b-4132-aefe-62ebe0fb8ef3\"]},\"title\":\"Bokeh Application\",\"version\":\"0.12.10\"}};\n",
       "    var render_items = [{\"docid\":\"9649c5d9-cbf4-43be-8745-4daeae55fff6\",\"elementid\":\"4d078c6a-8c98-4f57-840a-3a0dda4083d2\",\"modelid\":\"e8645519-970b-4132-aefe-62ebe0fb8ef3\"}];\n",
       "\n",
       "    root.Bokeh.embed.embed_items(docs_json, render_items);\n",
       "  }\n",
       "\n",
       "  if (root.Bokeh !== undefined) {\n",
       "    embed_document(root);\n",
       "  } else {\n",
       "    var attempts = 0;\n",
       "    var timer = setInterval(function(root) {\n",
       "      if (root.Bokeh !== undefined) {\n",
       "        embed_document(root);\n",
       "        clearInterval(timer);\n",
       "      }\n",
       "      attempts++;\n",
       "      if (attempts > 100) {\n",
       "        console.log(\"Bokeh: ERROR: Unable to embed document because BokehJS library is missing\")\n",
       "        clearInterval(timer);\n",
       "      }\n",
       "    }, 10, root)\n",
       "  }\n",
       "})(window);"
      ],
      "application/vnd.bokehjs_exec.v0+json": ""
     },
     "metadata": {
      "application/vnd.bokehjs_exec.v0+json": {
       "id": "e8645519-970b-4132-aefe-62ebe0fb8ef3"
      }
     },
     "output_type": "display_data"
    }
   ],
   "source": [
    "# Create a figure with x_axis_type=\"datetime\": p\n",
    "p = figure(\n",
    "    x_axis_type = 'datetime', \n",
    "    x_axis_label='Date', \n",
    "    y_axis_label='US Dollars')\n",
    "\n",
    "# Plot date along the x axis and price along the y axis\n",
    "p.line(stock.date, stock.close)\n",
    "\n",
    "# show the result\n",
    "show(p)\n"
   ]
  },
  {
   "cell_type": "markdown",
   "metadata": {},
   "source": [
    "### Lines and markers"
   ]
  },
  {
   "cell_type": "code",
   "execution_count": 102,
   "metadata": {},
   "outputs": [
    {
     "data": {
      "text/plain": [
       "(365, 7)"
      ]
     },
     "execution_count": 102,
     "metadata": {},
     "output_type": "execute_result"
    }
   ],
   "source": [
    "stock2 = stock[:365]\n",
    "stock2.shape"
   ]
  },
  {
   "cell_type": "code",
   "execution_count": 103,
   "metadata": {},
   "outputs": [
    {
     "data": {
      "text/html": [
       "\n",
       "<div class=\"bk-root\">\n",
       "    <div class=\"bk-plotdiv\" id=\"d9d9f9e8-3961-4d90-91da-fdc0ea9d1a6b\"></div>\n",
       "</div>"
      ]
     },
     "metadata": {},
     "output_type": "display_data"
    },
    {
     "data": {
      "application/javascript": [
       "(function(root) {\n",
       "  function embed_document(root) {\n",
       "    var docs_json = {\"a97e508a-c2c1-4ed5-8171-3adf8204d3c8\":{\"roots\":{\"references\":[{\"attributes\":{\"callback\":null,\"column_names\":[\"x\",\"y\"],\"data\":{\"x\":{\"__ndarray__\":\"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\",\"dtype\":\"float64\",\"shape\":[365]},\"y\":{\"__ndarray__\":\"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\",\"dtype\":\"float64\",\"shape\":[365]}}},\"id\":\"cb6a5f9a-84bb-4b59-ba1c-33dd2f72a88e\",\"type\":\"ColumnDataSource\"},{\"attributes\":{\"callback\":null},\"id\":\"9b4284d3-2740-4c12-bdb4-3d1eeebe5434\",\"type\":\"DataRange1d\"},{\"attributes\":{},\"id\":\"ae596818-aaf6-4db3-a8ce-4d11ad5c9a9b\",\"type\":\"BasicTickFormatter\"},{\"attributes\":{\"callback\":null},\"id\":\"09845546-e65d-4e29-9d89-7729d3e14c1f\",\"type\":\"DataRange1d\"},{\"attributes\":{\"line_color\":{\"value\":\"#1f77b4\"},\"x\":{\"field\":\"x\"},\"y\":{\"field\":\"y\"}},\"id\":\"473596eb-0ea1-44f9-97da-5f225642b61e\",\"type\":\"Line\"},{\"attributes\":{},\"id\":\"9b56a3d2-80a1-4b4e-bb42-98932d859204\",\"type\":\"PanTool\"},{\"attributes\":{},\"id\":\"1bacf251-362f-46f3-87e1-d8215677b332\",\"type\":\"LinearScale\"},{\"attributes\":{\"source\":{\"id\":\"87af89eb-86ca-4161-88d6-350047195d2b\",\"type\":\"ColumnDataSource\"}},\"id\":\"489734b5-8f8a-415d-9aa2-96ce367b8f0f\",\"type\":\"CDSView\"},{\"attributes\":{\"num_minor_ticks\":5,\"tickers\":[{\"id\":\"c31f6f23-9a7b-4b87-99af-daa01e252353\",\"type\":\"AdaptiveTicker\"},{\"id\":\"db5b1bdc-31fc-484a-bce0-5431d2c9055d\",\"type\":\"AdaptiveTicker\"},{\"id\":\"ce8390a5-872f-4529-881d-8124d3be4296\",\"type\":\"AdaptiveTicker\"},{\"id\":\"6b691bb3-8bd4-471f-92f0-df44cdd24be5\",\"type\":\"DaysTicker\"},{\"id\":\"bad3a7c4-66a5-43fb-ae6f-75ef6183e833\",\"type\":\"DaysTicker\"},{\"id\":\"687b98f6-379e-46d2-8bf0-5e83681a140b\",\"type\":\"DaysTicker\"},{\"id\":\"6714a59d-34f5-4ea9-990c-c3968206dd2a\",\"type\":\"DaysTicker\"},{\"id\":\"69505531-85d5-4cfc-9007-3eb4049f7296\",\"type\":\"MonthsTicker\"},{\"id\":\"44b6a8cb-1053-4048-8795-2d22c917c0ee\",\"type\":\"MonthsTicker\"},{\"id\":\"9e9bfdaa-4914-4058-bef9-a083d9f86fe8\",\"type\":\"MonthsTicker\"},{\"id\":\"ca9de63e-c194-4354-8140-4a295c1f9f1b\",\"type\":\"MonthsTicker\"},{\"id\":\"810ec770-0d6d-4019-932f-38cfd823dcde\",\"type\":\"YearsTicker\"}]},\"id\":\"9560a8ac-2eaa-426f-87cd-42a9d3a30505\",\"type\":\"DatetimeTicker\"},{\"attributes\":{\"data_source\":{\"id\":\"87af89eb-86ca-4161-88d6-350047195d2b\",\"type\":\"ColumnDataSource\"},\"glyph\":{\"id\":\"f1e097d9-265b-421d-9595-cbc4f7067191\",\"type\":\"Circle\"},\"hover_glyph\":null,\"muted_glyph\":null,\"nonselection_glyph\":{\"id\":\"bfc6a88e-6de7-4fe1-aa26-ba327e20842a\",\"type\":\"Circle\"},\"selection_glyph\":null,\"view\":{\"id\":\"489734b5-8f8a-415d-9aa2-96ce367b8f0f\",\"type\":\"CDSView\"}},\"id\":\"168505b2-26af-474d-884f-faf0541031b8\",\"type\":\"GlyphRenderer\"},{\"attributes\":{},\"id\":\"e21dd995-ff47-4008-be91-ebc90ac1df3d\",\"type\":\"ResetTool\"},{\"attributes\":{},\"id\":\"e2b511b6-8e5f-4ccc-9456-d22a31852595\",\"type\":\"HelpTool\"},{\"attributes\":{\"plot\":{\"id\":\"536c2d9a-b769-4777-846e-7993e3a79df4\",\"subtype\":\"Figure\",\"type\":\"Plot\"},\"ticker\":{\"id\":\"9560a8ac-2eaa-426f-87cd-42a9d3a30505\",\"type\":\"DatetimeTicker\"}},\"id\":\"446ad40d-1069-445b-9b7d-9e4310d7c2bc\",\"type\":\"Grid\"},{\"attributes\":{\"overlay\":{\"id\":\"7052d41d-52ea-450b-ba65-a2a18177e108\",\"type\":\"BoxAnnotation\"}},\"id\":\"bcb90e89-8779-442f-8cbf-920b0bcfa4c4\",\"type\":\"BoxZoomTool\"},{\"attributes\":{},\"id\":\"606af899-a166-4e7d-8ad9-b06ca4628665\",\"type\":\"SaveTool\"},{\"attributes\":{\"plot\":null,\"text\":\"\"},\"id\":\"ebd38515-16bd-4c89-8417-e73c22a7e06d\",\"type\":\"Title\"},{\"attributes\":{\"fill_color\":{\"value\":\"white\"},\"line_color\":{\"value\":\"#1f77b4\"},\"x\":{\"field\":\"x\"},\"y\":{\"field\":\"y\"}},\"id\":\"f1e097d9-265b-421d-9595-cbc4f7067191\",\"type\":\"Circle\"},{\"attributes\":{},\"id\":\"810ec770-0d6d-4019-932f-38cfd823dcde\",\"type\":\"YearsTicker\"},{\"attributes\":{\"days\":[1,8,15,22]},\"id\":\"687b98f6-379e-46d2-8bf0-5e83681a140b\",\"type\":\"DaysTicker\"},{\"attributes\":{\"dimension\":1,\"plot\":{\"id\":\"536c2d9a-b769-4777-846e-7993e3a79df4\",\"subtype\":\"Figure\",\"type\":\"Plot\"},\"ticker\":{\"id\":\"773164c0-eee9-47a2-a8a9-4052c3e35d64\",\"type\":\"BasicTicker\"}},\"id\":\"4b080463-640e-478a-b8cf-728748a54043\",\"type\":\"Grid\"},{\"attributes\":{\"months\":[0,6]},\"id\":\"ca9de63e-c194-4354-8140-4a295c1f9f1b\",\"type\":\"MonthsTicker\"},{\"attributes\":{},\"id\":\"67a0d500-ffa0-4a07-985e-458878b610cd\",\"type\":\"DatetimeTickFormatter\"},{\"attributes\":{\"below\":[{\"id\":\"74dde42a-d2ce-49f8-bcd9-8d6a2974bc34\",\"type\":\"DatetimeAxis\"}],\"left\":[{\"id\":\"c5d0905d-61b6-40a2-a5b6-dd76121858cc\",\"type\":\"LinearAxis\"}],\"renderers\":[{\"id\":\"74dde42a-d2ce-49f8-bcd9-8d6a2974bc34\",\"type\":\"DatetimeAxis\"},{\"id\":\"446ad40d-1069-445b-9b7d-9e4310d7c2bc\",\"type\":\"Grid\"},{\"id\":\"c5d0905d-61b6-40a2-a5b6-dd76121858cc\",\"type\":\"LinearAxis\"},{\"id\":\"4b080463-640e-478a-b8cf-728748a54043\",\"type\":\"Grid\"},{\"id\":\"7052d41d-52ea-450b-ba65-a2a18177e108\",\"type\":\"BoxAnnotation\"},{\"id\":\"26ba70bd-687d-45f3-9c03-9e40425ac677\",\"type\":\"GlyphRenderer\"},{\"id\":\"168505b2-26af-474d-884f-faf0541031b8\",\"type\":\"GlyphRenderer\"}],\"title\":{\"id\":\"ebd38515-16bd-4c89-8417-e73c22a7e06d\",\"type\":\"Title\"},\"toolbar\":{\"id\":\"1b332bd3-2304-472d-9518-bef010bf2c5c\",\"type\":\"Toolbar\"},\"x_range\":{\"id\":\"9b4284d3-2740-4c12-bdb4-3d1eeebe5434\",\"type\":\"DataRange1d\"},\"x_scale\":{\"id\":\"1bacf251-362f-46f3-87e1-d8215677b332\",\"type\":\"LinearScale\"},\"y_range\":{\"id\":\"09845546-e65d-4e29-9d89-7729d3e14c1f\",\"type\":\"DataRange1d\"},\"y_scale\":{\"id\":\"dd7915dc-702d-4ac5-b856-0378c8dd0c5c\",\"type\":\"LinearScale\"}},\"id\":\"536c2d9a-b769-4777-846e-7993e3a79df4\",\"subtype\":\"Figure\",\"type\":\"Plot\"},{\"attributes\":{\"months\":[0,4,8]},\"id\":\"9e9bfdaa-4914-4058-bef9-a083d9f86fe8\",\"type\":\"MonthsTicker\"},{\"attributes\":{\"months\":[0,1,2,3,4,5,6,7,8,9,10,11]},\"id\":\"69505531-85d5-4cfc-9007-3eb4049f7296\",\"type\":\"MonthsTicker\"},{\"attributes\":{\"callback\":null,\"column_names\":[\"x\",\"y\"],\"data\":{\"x\":{\"__ndarray__\":\"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\",\"dtype\":\"float64\",\"shape\":[365]},\"y\":{\"__ndarray__\":\"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\",\"dtype\":\"float64\",\"shape\":[365]}}},\"id\":\"87af89eb-86ca-4161-88d6-350047195d2b\",\"type\":\"ColumnDataSource\"},{\"attributes\":{\"axis_label\":\"US Dollars\",\"formatter\":{\"id\":\"ae596818-aaf6-4db3-a8ce-4d11ad5c9a9b\",\"type\":\"BasicTickFormatter\"},\"plot\":{\"id\":\"536c2d9a-b769-4777-846e-7993e3a79df4\",\"subtype\":\"Figure\",\"type\":\"Plot\"},\"ticker\":{\"id\":\"773164c0-eee9-47a2-a8a9-4052c3e35d64\",\"type\":\"BasicTicker\"}},\"id\":\"c5d0905d-61b6-40a2-a5b6-dd76121858cc\",\"type\":\"LinearAxis\"},{\"attributes\":{},\"id\":\"773164c0-eee9-47a2-a8a9-4052c3e35d64\",\"type\":\"BasicTicker\"},{\"attributes\":{\"source\":{\"id\":\"cb6a5f9a-84bb-4b59-ba1c-33dd2f72a88e\",\"type\":\"ColumnDataSource\"}},\"id\":\"d1b265c3-b7a6-4a8b-aae6-cb2b1c84fd99\",\"type\":\"CDSView\"},{\"attributes\":{\"axis_label\":\"Date\",\"formatter\":{\"id\":\"67a0d500-ffa0-4a07-985e-458878b610cd\",\"type\":\"DatetimeTickFormatter\"},\"plot\":{\"id\":\"536c2d9a-b769-4777-846e-7993e3a79df4\",\"subtype\":\"Figure\",\"type\":\"Plot\"},\"ticker\":{\"id\":\"9560a8ac-2eaa-426f-87cd-42a9d3a30505\",\"type\":\"DatetimeTicker\"}},\"id\":\"74dde42a-d2ce-49f8-bcd9-8d6a2974bc34\",\"type\":\"DatetimeAxis\"},{\"attributes\":{\"fill_alpha\":{\"value\":0.1},\"fill_color\":{\"value\":\"#1f77b4\"},\"line_alpha\":{\"value\":0.1},\"line_color\":{\"value\":\"#1f77b4\"},\"x\":{\"field\":\"x\"},\"y\":{\"field\":\"y\"}},\"id\":\"bfc6a88e-6de7-4fe1-aa26-ba327e20842a\",\"type\":\"Circle\"},{\"attributes\":{\"data_source\":{\"id\":\"cb6a5f9a-84bb-4b59-ba1c-33dd2f72a88e\",\"type\":\"ColumnDataSource\"},\"glyph\":{\"id\":\"473596eb-0ea1-44f9-97da-5f225642b61e\",\"type\":\"Line\"},\"hover_glyph\":null,\"muted_glyph\":null,\"nonselection_glyph\":{\"id\":\"313bf886-5cea-4d6e-bc1a-c16becf560dc\",\"type\":\"Line\"},\"selection_glyph\":null,\"view\":{\"id\":\"d1b265c3-b7a6-4a8b-aae6-cb2b1c84fd99\",\"type\":\"CDSView\"}},\"id\":\"26ba70bd-687d-45f3-9c03-9e40425ac677\",\"type\":\"GlyphRenderer\"},{\"attributes\":{\"days\":[1,15]},\"id\":\"6714a59d-34f5-4ea9-990c-c3968206dd2a\",\"type\":\"DaysTicker\"},{\"attributes\":{\"line_alpha\":{\"value\":0.1},\"line_color\":{\"value\":\"#1f77b4\"},\"x\":{\"field\":\"x\"},\"y\":{\"field\":\"y\"}},\"id\":\"313bf886-5cea-4d6e-bc1a-c16becf560dc\",\"type\":\"Line\"},{\"attributes\":{\"base\":24,\"mantissas\":[1,2,4,6,8,12],\"max_interval\":43200000.0,\"min_interval\":3600000.0,\"num_minor_ticks\":0},\"id\":\"ce8390a5-872f-4529-881d-8124d3be4296\",\"type\":\"AdaptiveTicker\"},{\"attributes\":{\"days\":[1,2,3,4,5,6,7,8,9,10,11,12,13,14,15,16,17,18,19,20,21,22,23,24,25,26,27,28,29,30,31]},\"id\":\"6b691bb3-8bd4-471f-92f0-df44cdd24be5\",\"type\":\"DaysTicker\"},{\"attributes\":{},\"id\":\"dd7915dc-702d-4ac5-b856-0378c8dd0c5c\",\"type\":\"LinearScale\"},{\"attributes\":{\"base\":60,\"mantissas\":[1,2,5,10,15,20,30],\"max_interval\":1800000.0,\"min_interval\":1000.0,\"num_minor_ticks\":0},\"id\":\"db5b1bdc-31fc-484a-bce0-5431d2c9055d\",\"type\":\"AdaptiveTicker\"},{\"attributes\":{},\"id\":\"fee0d192-5550-4e18-a1c7-f5ff8f19472e\",\"type\":\"WheelZoomTool\"},{\"attributes\":{\"mantissas\":[1,2,5],\"max_interval\":500.0,\"num_minor_ticks\":0},\"id\":\"c31f6f23-9a7b-4b87-99af-daa01e252353\",\"type\":\"AdaptiveTicker\"},{\"attributes\":{\"days\":[1,4,7,10,13,16,19,22,25,28]},\"id\":\"bad3a7c4-66a5-43fb-ae6f-75ef6183e833\",\"type\":\"DaysTicker\"},{\"attributes\":{\"bottom_units\":\"screen\",\"fill_alpha\":{\"value\":0.5},\"fill_color\":{\"value\":\"lightgrey\"},\"left_units\":\"screen\",\"level\":\"overlay\",\"line_alpha\":{\"value\":1.0},\"line_color\":{\"value\":\"black\"},\"line_dash\":[4,4],\"line_width\":{\"value\":2},\"plot\":null,\"render_mode\":\"css\",\"right_units\":\"screen\",\"top_units\":\"screen\"},\"id\":\"7052d41d-52ea-450b-ba65-a2a18177e108\",\"type\":\"BoxAnnotation\"},{\"attributes\":{\"active_drag\":\"auto\",\"active_inspect\":\"auto\",\"active_scroll\":\"auto\",\"active_tap\":\"auto\",\"tools\":[{\"id\":\"9b56a3d2-80a1-4b4e-bb42-98932d859204\",\"type\":\"PanTool\"},{\"id\":\"fee0d192-5550-4e18-a1c7-f5ff8f19472e\",\"type\":\"WheelZoomTool\"},{\"id\":\"bcb90e89-8779-442f-8cbf-920b0bcfa4c4\",\"type\":\"BoxZoomTool\"},{\"id\":\"606af899-a166-4e7d-8ad9-b06ca4628665\",\"type\":\"SaveTool\"},{\"id\":\"e21dd995-ff47-4008-be91-ebc90ac1df3d\",\"type\":\"ResetTool\"},{\"id\":\"e2b511b6-8e5f-4ccc-9456-d22a31852595\",\"type\":\"HelpTool\"}]},\"id\":\"1b332bd3-2304-472d-9518-bef010bf2c5c\",\"type\":\"Toolbar\"},{\"attributes\":{\"months\":[0,2,4,6,8,10]},\"id\":\"44b6a8cb-1053-4048-8795-2d22c917c0ee\",\"type\":\"MonthsTicker\"}],\"root_ids\":[\"536c2d9a-b769-4777-846e-7993e3a79df4\"]},\"title\":\"Bokeh Application\",\"version\":\"0.12.10\"}};\n",
       "    var render_items = [{\"docid\":\"a97e508a-c2c1-4ed5-8171-3adf8204d3c8\",\"elementid\":\"d9d9f9e8-3961-4d90-91da-fdc0ea9d1a6b\",\"modelid\":\"536c2d9a-b769-4777-846e-7993e3a79df4\"}];\n",
       "\n",
       "    root.Bokeh.embed.embed_items(docs_json, render_items);\n",
       "  }\n",
       "\n",
       "  if (root.Bokeh !== undefined) {\n",
       "    embed_document(root);\n",
       "  } else {\n",
       "    var attempts = 0;\n",
       "    var timer = setInterval(function(root) {\n",
       "      if (root.Bokeh !== undefined) {\n",
       "        embed_document(root);\n",
       "        clearInterval(timer);\n",
       "      }\n",
       "      attempts++;\n",
       "      if (attempts > 100) {\n",
       "        console.log(\"Bokeh: ERROR: Unable to embed document because BokehJS library is missing\")\n",
       "        clearInterval(timer);\n",
       "      }\n",
       "    }, 10, root)\n",
       "  }\n",
       "})(window);"
      ],
      "application/vnd.bokehjs_exec.v0+json": ""
     },
     "metadata": {
      "application/vnd.bokehjs_exec.v0+json": {
       "id": "536c2d9a-b769-4777-846e-7993e3a79df4"
      }
     },
     "output_type": "display_data"
    }
   ],
   "source": [
    "# Create a figure with x_axis_type='datetime': p\n",
    "p = figure(x_axis_type='datetime', x_axis_label='Date', y_axis_label='US Dollars')\n",
    "\n",
    "# Plot date along the x-axis and price along the y-axis\n",
    "p.line(stock2.date, stock2.close)\n",
    "\n",
    "# With date on the x-axis and price on the y-axis, add a white circle glyph of size 4\n",
    "p.circle(stock2.date, stock2.close, fill_color='white', size=4)\n",
    "\n",
    "# Show the result\n",
    "show(p)"
   ]
  },
  {
   "cell_type": "markdown",
   "metadata": {},
   "source": [
    "### Patches"
   ]
  },
  {
   "cell_type": "code",
   "execution_count": 104,
   "metadata": {},
   "outputs": [
    {
     "data": {
      "text/plain": [
       "[38.215, 38.40118, 38.60929, 38.81393, 38.95788, 39.11656]"
      ]
     },
     "execution_count": 104,
     "metadata": {},
     "output_type": "execute_result"
    }
   ],
   "source": [
    "%run state_geometry.py\n",
    "co_lats[:6]"
   ]
  },
  {
   "cell_type": "code",
   "execution_count": 125,
   "metadata": {
    "collapsed": true
   },
   "outputs": [],
   "source": [
    "p = figure()\n",
    "\n",
    "# Create a list of az_lons, co_lons, nm_lons and ut_lons: x\n",
    "x = [az_lons, co_lons, nm_lons, ut_lons]\n",
    "\n",
    "# Create a list of az_lats, co_lats, nm_lats and ut_lats: y\n",
    "y = [az_lats, co_lats, nm_lats, ut_lats]"
   ]
  },
  {
   "cell_type": "code",
   "execution_count": 126,
   "metadata": {},
   "outputs": [
    {
     "data": {
      "text/html": [
       "\n",
       "<div class=\"bk-root\">\n",
       "    <div class=\"bk-plotdiv\" id=\"3d48b462-5f49-4d9d-9921-4c87b90386ed\"></div>\n",
       "</div>"
      ]
     },
     "metadata": {},
     "output_type": "display_data"
    },
    {
     "data": {
      "application/javascript": [
       "(function(root) {\n",
       "  function embed_document(root) {\n",
       "    var docs_json = {\"c906f9f6-aafa-412c-8b40-de4543c78447\":{\"roots\":{\"references\":[{\"attributes\":{\"plot\":null,\"text\":\"\"},\"id\":\"c8c3ce1e-dbf0-434e-b1f4-e28d76581215\",\"type\":\"Title\"},{\"attributes\":{},\"id\":\"46a7a27f-50d9-48af-ba60-d10bac7ce733\",\"type\":\"BasicTicker\"},{\"attributes\":{},\"id\":\"5248cf12-7ea7-4b64-9f9b-435f1b560eb8\",\"type\":\"LinearScale\"},{\"attributes\":{\"bottom_units\":\"screen\",\"fill_alpha\":{\"value\":0.5},\"fill_color\":{\"value\":\"lightgrey\"},\"left_units\":\"screen\",\"level\":\"overlay\",\"line_alpha\":{\"value\":1.0},\"line_color\":{\"value\":\"black\"},\"line_dash\":[4,4],\"line_width\":{\"value\":2},\"plot\":null,\"render_mode\":\"css\",\"right_units\":\"screen\",\"top_units\":\"screen\"},\"id\":\"9a3f5871-0d95-4ca4-aa18-d2eb32c403a9\",\"type\":\"BoxAnnotation\"},{\"attributes\":{\"dimension\":1,\"plot\":{\"id\":\"a1a6b406-9973-4b54-bd02-85faf627180e\",\"subtype\":\"Figure\",\"type\":\"Plot\"},\"ticker\":{\"id\":\"ca1e930a-71ae-46fc-855c-43132ac8ad1e\",\"type\":\"BasicTicker\"}},\"id\":\"034e2b68-b94a-425d-991c-b28d3b334eee\",\"type\":\"Grid\"},{\"attributes\":{\"callback\":null,\"column_names\":[\"xs\",\"ys\"],\"data\":{\"xs\":[[-114.63332,-114.63349,-114.63423,-114.60899,-114.63064,-114.57354,-114.58031,-114.61121,-114.6768,-114.66076,-114.65449,-114.68702,-114.69704,-114.70415,-114.67489,-114.70883,-114.74365,-114.73513,-114.6729,-114.51122,-114.32346,-114.22646,-114.1139,-114.04404,-114.04338,-114.04736,-114.05014,-114.0506,-114.0506,-114.05052,-113.94557,-113.86852,-113.62465,-113.4727,-113.32097,-113.17698,-113.02079,-112.99281,-112.96895,-112.75086,-112.48455,-112.32985,-111.99142,-111.58602,-111.39598,-111.2523,-111.03957,-110.73783,-110.54945,-110.272,-110.13851,-109.83491,-109.43568,-109.26993,-109.04538,-109.04522,-109.04522,-109.04531,-109.04544,-109.04547,-109.04579,-109.04575,-109.04601,-109.04578,-109.04606,-109.04621,-109.04636,-109.04662,-109.04644,-109.04598,-109.04603,-109.04633,-109.04692,-109.047,-109.04691,-109.0474,-109.04762,-109.04764,-109.04811,-109.04905,-109.04911,-109.05004,-109.0587,-109.25062,-109.30069,-109.33682,-109.38186,-109.45105,-109.5287,-109.62562,-109.79302,-109.97582,-110.20503,-110.49327,-110.56918,-110.65415,-110.77828,-110.87564,-110.93778,-110.94286,-110.97553,-111.12565,-111.24082,-111.29191,-111.32558,-111.3574,-111.38483,-111.44337,-111.47861,-111.49725,-111.53479,-111.56975,-111.62412,-111.66,-111.73365,-111.79498,-111.9182,-111.97172,-111.99115,-112.02937,-112.09379,-112.13972,-112.15906,-112.21295,-112.32605,-112.39932,-112.43603,-112.52208,-112.57141,-112.63294,-112.67695,-112.72356,-112.75567,-112.8055,-112.83423,-112.8711,-112.90863,-113.20884,-113.2279,-113.30314,-113.61086,-113.78489,-113.90756,-113.97121,-114.11135,-114.20719,-114.25559,-114.28755,-114.38472,-114.61337,-114.77804,-114.81394,-114.81518,-114.80524,-114.81037,-114.81335,-114.80551,-114.80529,-114.79282,-114.79206,-114.79555,-114.81362,-114.80894,-114.80404,-114.80093,-114.80804,-114.80891,-114.80192,-114.79518,-114.7819,-114.77309,-114.76427,-114.74805,-114.74638,-114.74505,-114.74456,-114.74203,-114.74,-114.73874,-114.73062,-114.72924,-114.72377,-114.71994,-114.71919,-114.69096,-114.63501,-114.58576,-114.46563,-114.48131,-114.62973,-114.68157,-114.72123,-114.61185,-114.5402,-114.49649,-114.52801,-114.51318,-114.49813,-114.4355,-114.35765,-114.26017,-114.14737,-114.29195,-114.38169,-114.44166,-114.48236,-114.56953,-114.63305],[-109.04984,-109.06017,-109.06015,-109.05655,-109.05305,-109.05158,-109.05119,-109.05077,-109.05132,-109.05077,-109.05087,-109.05088,-109.05093,-109.05088,-109.05051,-109.04899,-109.04907,-109.05008,-109.03134,-108.83854,-108.6996,-108.59802,-108.46524,-108.25764,-108.10567,-107.91411,-107.75063,-107.55479,-107.35937,-107.27483,-107.12561,-106.9166,-106.59389,-106.32621,-106.06118,-105.82273,-105.60473,-105.46928,-105.2756,-105.07514,-104.86787,-104.58704,-104.24506,-104.0535,-104.05325,-104.05153,-103.90732,-103.61529,-103.46471,-103.30624,-103.00202,-102.88728,-102.76668,-102.55879,-102.38345,-102.23951,-102.12861,-102.05156,-102.05154,-102.05152,-102.05145,-102.05143,-102.05144,-102.05144,-102.0515,-102.0515,-102.05152,-102.05131,-102.05145,-102.05176,-102.05176,-102.05174,-102.05174,-102.05139,-102.0506,-102.04955,-102.04907,-102.04875,-102.04802,-102.04541,-102.04514,-102.04524,-102.04494,-102.04501,-102.04479,-102.04452,-102.04447,-102.04431,-102.04456,-102.04402,-102.04286,-102.04166,-102.04179,-102.04178,-102.04192,-102.04196,-102.04199,-102.0421,-102.04209,-102.04538,-102.05418,-102.07425,-102.09059,-102.17511,-102.19751,-102.24848,-102.26493,-102.29933,-102.34378,-102.35537,-102.40232,-102.49444,-102.52468,-102.57091,-102.62547,-102.68337,-102.7059,-102.77324,-102.81507,-102.86545,-102.89315,-102.9279,-102.97961,-102.98698,-103.00214,-103.0022,-103.01356,-103.26061,-103.53892,-103.92627,-104.17265,-104.49245,-104.76311,-105.15658,-105.50752,-105.6576,-105.93761,-106.15386,-106.4654,-106.61906,-106.73137,-106.89142,-107.00562,-107.25094,-107.4121,-107.49519,-107.8669,-108.20233,-108.52833,-108.7496,-108.8978,-109.04518,-109.04522,-109.04531,-109.04519,-109.04583,-109.04582,-109.04191,-109.04159,-109.04304,-109.04232,-109.0498],[-103.55583,-104.00265,-104.64165,-105.14679,-105.90075,-106.55721,-106.63119,-106.62216,-106.63325,-106.61103,-106.54568,-106.52834,-106.52861,-106.53181,-106.55963,-106.56993,-106.60042,-106.61408,-106.62967,-106.67613,-106.68194,-106.7505,-106.75874,-106.77057,-106.82052,-106.87555,-106.89949,-106.93928,-106.96546,-106.98754,-106.99317,-106.99823,-106.99882,-107.00056,-107.12556,-107.2773,-107.29766,-107.3093,-107.32402,-107.35469,-107.37629,-107.39716,-107.42244,-107.47074,-107.50261,-107.53069,-107.5835,-107.62497,-107.6266,-107.62774,-107.62988,-107.63241,-107.63786,-107.64356,-107.65173,-107.66987,-107.70084,-107.70821,-107.75058,-107.7889,-107.84105,-107.86238,-107.8711,-107.88551,-107.90473,-107.964,-108.00059,-108.044,-108.05664,-108.07876,-108.08267,-108.1052,-108.15227,-108.17096,-108.1986,-108.20839,-108.20844,-108.20841,-108.2084,-108.20838,-108.20837,-108.2083,-108.20814,-108.20819,-108.20835,-108.20869,-108.20855,-108.20852,-108.20849,-108.20839,-108.20848,-108.20854,-108.20857,-108.36757,-108.38904,-108.44606,-108.47535,-108.53011,-108.61731,-108.65709,-108.70766,-108.71907,-108.72702,-108.73503,-108.73904,-108.7506,-108.75906,-108.82206,-108.86103,-108.88692,-109.00061,-109.05004,-109.05004,-109.04911,-109.04905,-109.04811,-109.04764,-109.04762,-109.0474,-109.04691,-109.047,-109.04692,-109.04633,-109.04603,-109.04598,-109.04644,-109.04662,-109.04636,-109.04621,-109.04606,-109.04578,-109.04601,-109.04575,-109.04579,-109.04547,-109.04544,-109.04531,-109.04522,-109.04522,-109.04518,-108.8978,-108.7496,-108.52833,-108.20233,-107.8669,-107.49519,-107.4121,-107.25094,-107.00562,-106.89142,-106.73137,-106.61906,-106.4654,-106.15386,-105.93761,-105.6576,-105.50752,-105.15658,-104.76311,-104.49245,-104.17265,-103.92627,-103.53892,-103.26061,-103.01356,-103.0022,-103.0022,-103.00232,-103.00232,-103.00228,-103.00227,-103.00224,-103.00223,-103.00218,-103.00206,-103.00213,-103.00215,-103.0021,-103.00214,-103.00218,-103.00237,-103.00218,-103.0023,-103.00226,-103.00223,-103.00226,-103.0023,-103.00233,-103.00233,-103.00228,-103.00228,-103.00245,-103.00243,-103.02394,-103.04133,-103.04249,-103.04239,-103.04283,-103.04312,-103.04338,-103.04362,-103.04374,-103.04376,-103.04993,-103.05727,-103.06464,-103.06478,-103.53275],[-114.04392,-114.04391,-114.04375,-114.04195,-114.04061,-114.04055,-114.0398,-114.04172,-114.0391,-113.80254,-113.64886,-113.49562,-113.36362,-113.20505,-113.10627,-112.96233,-112.83266,-112.78175,-112.68558,-112.58229,-112.45023,-112.26534,-112.1985,-112.10309,-111.98965,-111.9304,-111.88098,-111.82932,-111.73177,-111.51913,-111.4087,-111.26009,-111.14884,-111.04934,-111.04669,-111.04682,-111.04631,-111.04601,-111.0458,-111.04611,-111.04648,-111.04667,-111.04688,-111.04686,-110.94406,-110.86384,-110.70521,-110.55878,-110.43401,-110.34177,-110.25071,-110.14713,-110.0004,-109.90645,-109.75044,-109.67348,-109.63381,-109.51776,-109.43099,-109.30329,-109.05847,-109.05008,-109.04907,-109.04899,-109.05051,-109.05088,-109.05093,-109.05088,-109.05087,-109.05077,-109.05132,-109.05077,-109.05119,-109.05158,-109.05305,-109.05655,-109.06015,-109.06017,-109.04984,-109.0498,-109.04232,-109.04304,-109.04159,-109.04191,-109.04582,-109.04583,-109.04519,-109.04531,-109.04522,-109.04538,-109.26993,-109.43568,-109.83491,-110.13851,-110.272,-110.54945,-110.73783,-111.03957,-111.2523,-111.39598,-111.58602,-111.99142,-112.32985,-112.48455,-112.75086,-112.96895,-112.99281,-113.02079,-113.17698,-113.32097,-113.4727,-113.62465,-113.86852,-113.94557,-114.05052,-114.0506,-114.05187,-114.05264,-114.05198,-114.04939,-114.05013,-114.04997,-114.04992,-114.04916,-114.04833,-114.04885,-114.04841,-114.04779,-114.0473,-114.04757,-114.04727,-114.04658,-114.04644,-114.04619,-114.04558]],\"ys\":[[34.87057,35.00186,35.00332,35.07971,35.11791,35.14231,35.21811,35.37012,35.49125,35.5417,35.60517,35.66942,35.73579,35.81412,35.86436,35.9167,35.98542,36.05493,36.11546,36.15058,36.10119,36.01461,36.09833,36.21464,36.37619,36.60322,36.817,36.99997,37.0004,37.0004,36.99998,36.99998,36.99998,36.99998,36.99998,36.99998,37.00022,37.00017,37.00012,37.00048,37.00094,37.00105,37.00097,37.00166,37.00147,37.00102,37.00247,37.00325,37.00383,36.99828,36.99845,36.99831,36.9991,36.99926,36.99908,36.99908,36.99897,36.8531,36.70384,36.54513,36.41637,36.29154,36.18724,36.03128,35.93088,35.81044,35.65092,35.45859,35.30697,34.91388,34.71264,34.44558,34.08446,33.71335,33.3477,33.07165,32.70386,32.40743,32.1771,31.87069,31.63698,31.3325,31.33252,31.3338,31.33396,31.334,31.33394,31.33406,31.33393,31.33408,31.33399,31.33341,31.33363,31.33296,31.33299,31.33305,31.33363,31.33328,31.33281,31.33283,31.33257,31.34898,31.38586,31.40231,31.41305,31.42333,31.43196,31.45068,31.46195,31.4678,31.47995,31.49099,31.50825,31.51945,31.54305,31.56227,31.6012,31.61823,31.62425,31.63623,31.65645,31.67094,31.67701,31.69377,31.72891,31.75165,31.76301,31.78954,31.80473,31.82357,31.83702,31.8513,31.86132,31.87666,31.88514,31.89671,31.90787,31.99917,32.0054,32.02905,32.12566,32.17992,32.21797,32.2376,32.28088,32.31044,32.32538,32.33509,32.36468,32.43408,32.48373,32.49526,32.50602,32.50999,32.51839,32.52419,32.53277,32.54351,32.55396,32.56772,32.56625,32.56133,32.57093,32.58137,32.5955,32.60317,32.61295,32.6238,32.62325,32.6247,32.63705,32.65006,32.66489,32.66985,32.67414,32.6785,32.68221,32.68517,32.68732,32.6986,32.70545,32.71192,32.71829,32.71943,32.73946,32.73137,32.73487,32.87408,32.97206,33.03255,33.23376,33.39691,33.47131,33.58709,33.6969,33.84446,33.91285,33.96372,34.04257,34.12866,34.17212,34.31087,34.41527,34.47903,34.64288,34.71453,34.79181,34.86997],[38.215,38.40118,38.60929,38.81393,38.95788,39.11656,39.22605,39.36423,39.56752,39.79876,40.03782,40.18844,40.2929,40.41493,40.50615,40.68445,40.87296,41.00066,41.00051,41.00013,41.0001,40.99996,41.00008,41.00011,41.00139,41.00205,41.00197,41.00228,41.00305,41.00283,41.00305,41.00315,41.00213,40.99927,40.997,40.99701,40.99722,40.99766,40.99818,40.9983,40.99826,41.00153,41.00162,41.00139,41.00141,41.00153,41.00166,41.0017,41.00185,41.00191,41.00239,41.00231,41.00234,41.00243,41.00245,41.00235,41.00247,40.97899,40.9255,40.87501,40.82214,40.75901,40.71742,40.69984,40.65115,40.61334,40.55651,40.48846,40.31022,40.1605,40.01399,40.00308,40.00061,39.87098,39.67645,39.53889,39.40853,39.33572,39.24305,38.84279,38.66387,38.59586,38.52933,38.47219,38.41997,38.30634,38.26504,38.17556,38.05734,37.94303,37.80941,37.68749,37.49347,37.45597,37.3385,37.22191,37.10676,36.99352,36.99302,36.99306,36.99305,36.99311,36.99325,36.99357,36.99367,36.9942,36.99439,36.99425,36.99441,36.99457,36.99479,36.99494,36.99487,36.99513,36.99504,36.9952,36.99557,36.99885,36.99977,36.99959,36.99944,36.99908,36.99855,36.99852,37.0001,37.0001,37.00021,36.99956,36.99892,36.99669,36.99511,36.99367,36.9935,36.99527,36.99589,36.99578,36.99556,36.99469,36.99378,36.99303,36.99263,37.00014,37.00001,37.00001,37.0,37.00001,37.0,36.99924,36.99927,36.99887,36.99885,36.99908,36.99908,37.01706,37.09597,37.20443,37.35363,37.5667,37.7899,37.97469,38.10272,38.21472],[32.00032,32.00001,32.00041,32.0005,32.00198,32.00076,31.98981,31.93601,31.90997,31.84661,31.8054,31.78318,31.78328,31.78391,31.78394,31.78395,31.78399,31.784,31.78409,31.78395,31.78393,31.78371,31.78394,31.78404,31.78385,31.78384,31.78379,31.78378,31.78381,31.7837,31.78369,31.78367,31.78367,31.78355,31.78354,31.78377,31.78367,31.78366,31.78367,31.78365,31.78367,31.78365,31.7836,31.78365,31.78366,31.78365,31.78369,31.78365,31.78374,31.78374,31.78374,31.78374,31.7837,31.78371,31.78371,31.78368,31.78368,31.78368,31.78361,31.78363,31.78365,31.7836,31.78359,31.78359,31.7836,31.78363,31.78365,31.78361,31.78357,31.78351,31.7835,31.78353,31.78357,31.78358,31.78359,31.7836,31.74465,31.72969,31.72323,31.7194,31.71733,31.68878,31.62561,31.58935,31.5608,31.52581,31.50105,31.4998,31.47883,31.42917,31.37656,31.3561,31.3334,31.3334,31.33341,31.33347,31.33344,31.33336,31.33329,31.33323,31.33319,31.33307,31.33298,31.3329,31.33285,31.33273,31.33261,31.33226,31.33232,31.33231,31.33217,31.33224,31.3325,31.63698,31.87069,32.1771,32.40743,32.70386,33.07165,33.3477,33.71335,34.08446,34.44558,34.71264,34.91388,35.30697,35.45859,35.65092,35.81044,35.93088,36.03128,36.18724,36.29154,36.41637,36.54513,36.70384,36.8531,36.99897,36.99908,36.99908,36.99885,36.99887,36.99927,36.99924,37.0,37.00001,37.0,37.00001,37.00001,37.00014,36.99263,36.99303,36.99378,36.99469,36.99556,36.99578,36.99589,36.99527,36.9935,36.99367,36.99511,36.99669,36.99892,36.99956,37.00021,37.0001,37.00006,36.9686,36.95031,36.91582,36.91402,36.90243,36.89755,36.86996,36.81735,36.76898,36.74295,36.7193,36.7013,36.68525,36.67653,36.65329,36.6278,36.60265,36.5919,36.56927,36.56386,36.54875,36.52963,36.51475,36.50609,36.50046,36.5004,36.50042,35.76515,35.21202,35.1362,34.88888,34.67259,34.53564,34.40999,34.27181,34.03983,33.71754,33.35051,33.00011,32.59516,32.00034],[40.68928,40.68985,40.76026,41.05548,41.36,41.59062,41.89425,41.99372,41.99367,41.98895,41.99102,41.99331,41.99384,41.99645,41.99735,41.99841,41.99938,41.99973,42.00021,42.00054,42.00099,42.00111,42.00116,41.99763,41.99834,41.99861,41.99856,41.99875,41.99926,41.99951,42.00063,42.00132,42.00154,42.00159,42.00157,42.00034,41.83664,41.64119,41.52149,41.41513,41.36572,41.20441,41.10318,41.00917,40.9976,40.99725,40.99635,40.99635,40.99485,40.99533,40.99609,40.99634,40.99734,40.99766,40.99797,40.99841,40.9983,40.99871,40.99964,41.00064,41.00069,41.00066,40.87296,40.68445,40.50615,40.41493,40.2929,40.18844,40.03782,39.79876,39.56752,39.36423,39.22605,39.11656,38.95788,38.81393,38.60929,38.40118,38.215,38.21472,38.10272,37.97469,37.7899,37.5667,37.35363,37.20443,37.09597,37.01706,36.99908,36.99908,36.99926,36.9991,36.99831,36.99845,36.99828,37.00383,37.00325,37.00247,37.00102,37.00147,37.00166,37.00097,37.00105,37.00094,37.00048,37.00012,37.00017,37.00022,36.99998,36.99998,36.99998,36.99998,36.99998,36.99998,37.0004,37.0004,37.13439,37.47222,37.70735,37.77873,37.95499,38.20495,38.55049,38.75165,38.90545,39.08777,39.23851,39.36296,39.45715,39.61018,39.75817,39.99994,40.09896,40.30302,40.4958]]}},\"id\":\"c43a5ef3-62d0-4181-bc8c-1a9e7eb6af3e\",\"type\":\"ColumnDataSource\"},{\"attributes\":{\"fill_alpha\":{\"value\":0.1},\"fill_color\":{\"value\":\"#1f77b4\"},\"line_alpha\":{\"value\":0.1},\"line_color\":{\"value\":\"#1f77b4\"},\"xs\":{\"field\":\"xs\"},\"ys\":{\"field\":\"ys\"}},\"id\":\"4521bb1b-0c69-49ff-8b44-eacb481ba258\",\"type\":\"Patches\"},{\"attributes\":{},\"id\":\"69910008-0781-4ebe-ba78-b1452437ffce\",\"type\":\"WheelZoomTool\"},{\"attributes\":{\"plot\":{\"id\":\"a1a6b406-9973-4b54-bd02-85faf627180e\",\"subtype\":\"Figure\",\"type\":\"Plot\"},\"ticker\":{\"id\":\"46a7a27f-50d9-48af-ba60-d10bac7ce733\",\"type\":\"BasicTicker\"}},\"id\":\"97f3b982-c3cf-4470-9569-06beaab2e45e\",\"type\":\"Grid\"},{\"attributes\":{\"overlay\":{\"id\":\"9a3f5871-0d95-4ca4-aa18-d2eb32c403a9\",\"type\":\"BoxAnnotation\"}},\"id\":\"fefa5322-a8bc-4d76-9262-67c85f9617c3\",\"type\":\"BoxZoomTool\"},{\"attributes\":{\"below\":[{\"id\":\"1296d466-ae2e-4d93-aa11-666b4944fc7a\",\"type\":\"LinearAxis\"}],\"left\":[{\"id\":\"6103cf10-6a4d-4b33-bd17-f7c250276508\",\"type\":\"LinearAxis\"}],\"renderers\":[{\"id\":\"1296d466-ae2e-4d93-aa11-666b4944fc7a\",\"type\":\"LinearAxis\"},{\"id\":\"97f3b982-c3cf-4470-9569-06beaab2e45e\",\"type\":\"Grid\"},{\"id\":\"6103cf10-6a4d-4b33-bd17-f7c250276508\",\"type\":\"LinearAxis\"},{\"id\":\"034e2b68-b94a-425d-991c-b28d3b334eee\",\"type\":\"Grid\"},{\"id\":\"9a3f5871-0d95-4ca4-aa18-d2eb32c403a9\",\"type\":\"BoxAnnotation\"},{\"id\":\"f6be9d79-4d1f-4214-b61d-a8375098d92f\",\"type\":\"GlyphRenderer\"}],\"title\":{\"id\":\"c8c3ce1e-dbf0-434e-b1f4-e28d76581215\",\"type\":\"Title\"},\"toolbar\":{\"id\":\"79bcff34-5089-42f8-bece-67e040fce2ed\",\"type\":\"Toolbar\"},\"x_range\":{\"id\":\"d739c8fe-ea3e-43fd-952c-9dd4c62b0e10\",\"type\":\"DataRange1d\"},\"x_scale\":{\"id\":\"5248cf12-7ea7-4b64-9f9b-435f1b560eb8\",\"type\":\"LinearScale\"},\"y_range\":{\"id\":\"5918bba3-7dd5-4fc1-abc5-3f6e2e30c228\",\"type\":\"DataRange1d\"},\"y_scale\":{\"id\":\"79af8491-0aef-4f16-a43e-392047ae9e23\",\"type\":\"LinearScale\"}},\"id\":\"a1a6b406-9973-4b54-bd02-85faf627180e\",\"subtype\":\"Figure\",\"type\":\"Plot\"},{\"attributes\":{},\"id\":\"6c05089a-a0f2-41f4-a975-dea5a6ff7ec6\",\"type\":\"ResetTool\"},{\"attributes\":{},\"id\":\"f8d12be3-7508-48da-bfc2-1e793b41a534\",\"type\":\"SaveTool\"},{\"attributes\":{\"callback\":null},\"id\":\"5918bba3-7dd5-4fc1-abc5-3f6e2e30c228\",\"type\":\"DataRange1d\"},{\"attributes\":{},\"id\":\"79af8491-0aef-4f16-a43e-392047ae9e23\",\"type\":\"LinearScale\"},{\"attributes\":{},\"id\":\"b4687b76-6ada-45a6-814e-07b8d08b7de6\",\"type\":\"PanTool\"},{\"attributes\":{\"active_drag\":\"auto\",\"active_inspect\":\"auto\",\"active_scroll\":\"auto\",\"active_tap\":\"auto\",\"tools\":[{\"id\":\"b4687b76-6ada-45a6-814e-07b8d08b7de6\",\"type\":\"PanTool\"},{\"id\":\"69910008-0781-4ebe-ba78-b1452437ffce\",\"type\":\"WheelZoomTool\"},{\"id\":\"fefa5322-a8bc-4d76-9262-67c85f9617c3\",\"type\":\"BoxZoomTool\"},{\"id\":\"f8d12be3-7508-48da-bfc2-1e793b41a534\",\"type\":\"SaveTool\"},{\"id\":\"6c05089a-a0f2-41f4-a975-dea5a6ff7ec6\",\"type\":\"ResetTool\"},{\"id\":\"32ec8481-7ce1-4382-8ef3-17edf27ebb78\",\"type\":\"HelpTool\"}]},\"id\":\"79bcff34-5089-42f8-bece-67e040fce2ed\",\"type\":\"Toolbar\"},{\"attributes\":{\"fill_color\":{\"value\":\"#1f77b4\"},\"xs\":{\"field\":\"xs\"},\"ys\":{\"field\":\"ys\"}},\"id\":\"1953b6ec-c068-4151-843e-3d5c76c9292d\",\"type\":\"Patches\"},{\"attributes\":{},\"id\":\"ca1e930a-71ae-46fc-855c-43132ac8ad1e\",\"type\":\"BasicTicker\"},{\"attributes\":{\"data_source\":{\"id\":\"c43a5ef3-62d0-4181-bc8c-1a9e7eb6af3e\",\"type\":\"ColumnDataSource\"},\"glyph\":{\"id\":\"1953b6ec-c068-4151-843e-3d5c76c9292d\",\"type\":\"Patches\"},\"hover_glyph\":null,\"muted_glyph\":null,\"nonselection_glyph\":{\"id\":\"4521bb1b-0c69-49ff-8b44-eacb481ba258\",\"type\":\"Patches\"},\"selection_glyph\":null,\"view\":{\"id\":\"242a37ac-584c-45ce-971b-1cab7fec232d\",\"type\":\"CDSView\"}},\"id\":\"f6be9d79-4d1f-4214-b61d-a8375098d92f\",\"type\":\"GlyphRenderer\"},{\"attributes\":{\"formatter\":{\"id\":\"79d4338a-bcdd-47d9-8003-8fee5c354d3e\",\"type\":\"BasicTickFormatter\"},\"plot\":{\"id\":\"a1a6b406-9973-4b54-bd02-85faf627180e\",\"subtype\":\"Figure\",\"type\":\"Plot\"},\"ticker\":{\"id\":\"46a7a27f-50d9-48af-ba60-d10bac7ce733\",\"type\":\"BasicTicker\"}},\"id\":\"1296d466-ae2e-4d93-aa11-666b4944fc7a\",\"type\":\"LinearAxis\"},{\"attributes\":{},\"id\":\"79d4338a-bcdd-47d9-8003-8fee5c354d3e\",\"type\":\"BasicTickFormatter\"},{\"attributes\":{},\"id\":\"fcf9828b-3739-48a5-93de-8fa6a614fbe9\",\"type\":\"BasicTickFormatter\"},{\"attributes\":{\"source\":{\"id\":\"c43a5ef3-62d0-4181-bc8c-1a9e7eb6af3e\",\"type\":\"ColumnDataSource\"}},\"id\":\"242a37ac-584c-45ce-971b-1cab7fec232d\",\"type\":\"CDSView\"},{\"attributes\":{},\"id\":\"32ec8481-7ce1-4382-8ef3-17edf27ebb78\",\"type\":\"HelpTool\"},{\"attributes\":{\"formatter\":{\"id\":\"fcf9828b-3739-48a5-93de-8fa6a614fbe9\",\"type\":\"BasicTickFormatter\"},\"plot\":{\"id\":\"a1a6b406-9973-4b54-bd02-85faf627180e\",\"subtype\":\"Figure\",\"type\":\"Plot\"},\"ticker\":{\"id\":\"ca1e930a-71ae-46fc-855c-43132ac8ad1e\",\"type\":\"BasicTicker\"}},\"id\":\"6103cf10-6a4d-4b33-bd17-f7c250276508\",\"type\":\"LinearAxis\"},{\"attributes\":{\"callback\":null},\"id\":\"d739c8fe-ea3e-43fd-952c-9dd4c62b0e10\",\"type\":\"DataRange1d\"}],\"root_ids\":[\"a1a6b406-9973-4b54-bd02-85faf627180e\"]},\"title\":\"Bokeh Application\",\"version\":\"0.12.10\"}};\n",
       "    var render_items = [{\"docid\":\"c906f9f6-aafa-412c-8b40-de4543c78447\",\"elementid\":\"3d48b462-5f49-4d9d-9921-4c87b90386ed\",\"modelid\":\"a1a6b406-9973-4b54-bd02-85faf627180e\"}];\n",
       "\n",
       "    root.Bokeh.embed.embed_items(docs_json, render_items);\n",
       "  }\n",
       "\n",
       "  if (root.Bokeh !== undefined) {\n",
       "    embed_document(root);\n",
       "  } else {\n",
       "    var attempts = 0;\n",
       "    var timer = setInterval(function(root) {\n",
       "      if (root.Bokeh !== undefined) {\n",
       "        embed_document(root);\n",
       "        clearInterval(timer);\n",
       "      }\n",
       "      attempts++;\n",
       "      if (attempts > 100) {\n",
       "        console.log(\"Bokeh: ERROR: Unable to embed document because BokehJS library is missing\")\n",
       "        clearInterval(timer);\n",
       "      }\n",
       "    }, 10, root)\n",
       "  }\n",
       "})(window);"
      ],
      "application/vnd.bokehjs_exec.v0+json": ""
     },
     "metadata": {
      "application/vnd.bokehjs_exec.v0+json": {
       "id": "a1a6b406-9973-4b54-bd02-85faf627180e"
      }
     },
     "output_type": "display_data"
    }
   ],
   "source": [
    "# Add patches to figure p with line_color=white for x and y\n",
    "p.patches(x, y, line_color = 'black')\n",
    "\n",
    "# Show the result\n",
    "show(p)"
   ]
  },
  {
   "cell_type": "markdown",
   "metadata": {},
   "source": [
    "#### I'm flattening the x and y lists and plotting as circles just to see how its drawing the shapes"
   ]
  },
  {
   "cell_type": "code",
   "execution_count": 130,
   "metadata": {},
   "outputs": [
    {
     "name": "stdout",
     "output_type": "stream",
     "text": [
      "[-114.63332, -114.63349, -114.63423, -114.60899, -114.63064, -114.57354]\n",
      "[34.87057, 35.00186, 35.00332, 35.07971, 35.11791, 35.14231]\n"
     ]
    },
    {
     "data": {
      "text/html": [
       "\n",
       "<div class=\"bk-root\">\n",
       "    <div class=\"bk-plotdiv\" id=\"a90c2f22-08cc-4078-ab16-53d046d33ac0\"></div>\n",
       "</div>"
      ]
     },
     "metadata": {},
     "output_type": "display_data"
    },
    {
     "data": {
      "application/javascript": [
       "(function(root) {\n",
       "  function embed_document(root) {\n",
       "    var docs_json = {\"8c12eff6-a9c4-4751-9f60-f114dd6889f6\":{\"roots\":{\"references\":[{\"attributes\":{},\"id\":\"46a7a27f-50d9-48af-ba60-d10bac7ce733\",\"type\":\"BasicTicker\"},{\"attributes\":{},\"id\":\"5248cf12-7ea7-4b64-9f9b-435f1b560eb8\",\"type\":\"LinearScale\"},{\"attributes\":{\"fill_color\":{\"value\":\"white\"},\"size\":{\"units\":\"screen\",\"value\":5},\"x\":{\"field\":\"x\"},\"y\":{\"field\":\"y\"}},\"id\":\"28a655f3-4219-4b0f-8ac5-afcea997081f\",\"type\":\"Circle\"},{\"attributes\":{\"dimension\":1,\"plot\":{\"id\":\"a1a6b406-9973-4b54-bd02-85faf627180e\",\"subtype\":\"Figure\",\"type\":\"Plot\"},\"ticker\":{\"id\":\"ca1e930a-71ae-46fc-855c-43132ac8ad1e\",\"type\":\"BasicTicker\"}},\"id\":\"034e2b68-b94a-425d-991c-b28d3b334eee\",\"type\":\"Grid\"},{\"attributes\":{\"callback\":null,\"column_names\":[\"xs\",\"ys\"],\"data\":{\"xs\":[[-114.63332,-114.63349,-114.63423,-114.60899,-114.63064,-114.57354,-114.58031,-114.61121,-114.6768,-114.66076,-114.65449,-114.68702,-114.69704,-114.70415,-114.67489,-114.70883,-114.74365,-114.73513,-114.6729,-114.51122,-114.32346,-114.22646,-114.1139,-114.04404,-114.04338,-114.04736,-114.05014,-114.0506,-114.0506,-114.05052,-113.94557,-113.86852,-113.62465,-113.4727,-113.32097,-113.17698,-113.02079,-112.99281,-112.96895,-112.75086,-112.48455,-112.32985,-111.99142,-111.58602,-111.39598,-111.2523,-111.03957,-110.73783,-110.54945,-110.272,-110.13851,-109.83491,-109.43568,-109.26993,-109.04538,-109.04522,-109.04522,-109.04531,-109.04544,-109.04547,-109.04579,-109.04575,-109.04601,-109.04578,-109.04606,-109.04621,-109.04636,-109.04662,-109.04644,-109.04598,-109.04603,-109.04633,-109.04692,-109.047,-109.04691,-109.0474,-109.04762,-109.04764,-109.04811,-109.04905,-109.04911,-109.05004,-109.0587,-109.25062,-109.30069,-109.33682,-109.38186,-109.45105,-109.5287,-109.62562,-109.79302,-109.97582,-110.20503,-110.49327,-110.56918,-110.65415,-110.77828,-110.87564,-110.93778,-110.94286,-110.97553,-111.12565,-111.24082,-111.29191,-111.32558,-111.3574,-111.38483,-111.44337,-111.47861,-111.49725,-111.53479,-111.56975,-111.62412,-111.66,-111.73365,-111.79498,-111.9182,-111.97172,-111.99115,-112.02937,-112.09379,-112.13972,-112.15906,-112.21295,-112.32605,-112.39932,-112.43603,-112.52208,-112.57141,-112.63294,-112.67695,-112.72356,-112.75567,-112.8055,-112.83423,-112.8711,-112.90863,-113.20884,-113.2279,-113.30314,-113.61086,-113.78489,-113.90756,-113.97121,-114.11135,-114.20719,-114.25559,-114.28755,-114.38472,-114.61337,-114.77804,-114.81394,-114.81518,-114.80524,-114.81037,-114.81335,-114.80551,-114.80529,-114.79282,-114.79206,-114.79555,-114.81362,-114.80894,-114.80404,-114.80093,-114.80804,-114.80891,-114.80192,-114.79518,-114.7819,-114.77309,-114.76427,-114.74805,-114.74638,-114.74505,-114.74456,-114.74203,-114.74,-114.73874,-114.73062,-114.72924,-114.72377,-114.71994,-114.71919,-114.69096,-114.63501,-114.58576,-114.46563,-114.48131,-114.62973,-114.68157,-114.72123,-114.61185,-114.5402,-114.49649,-114.52801,-114.51318,-114.49813,-114.4355,-114.35765,-114.26017,-114.14737,-114.29195,-114.38169,-114.44166,-114.48236,-114.56953,-114.63305],[-109.04984,-109.06017,-109.06015,-109.05655,-109.05305,-109.05158,-109.05119,-109.05077,-109.05132,-109.05077,-109.05087,-109.05088,-109.05093,-109.05088,-109.05051,-109.04899,-109.04907,-109.05008,-109.03134,-108.83854,-108.6996,-108.59802,-108.46524,-108.25764,-108.10567,-107.91411,-107.75063,-107.55479,-107.35937,-107.27483,-107.12561,-106.9166,-106.59389,-106.32621,-106.06118,-105.82273,-105.60473,-105.46928,-105.2756,-105.07514,-104.86787,-104.58704,-104.24506,-104.0535,-104.05325,-104.05153,-103.90732,-103.61529,-103.46471,-103.30624,-103.00202,-102.88728,-102.76668,-102.55879,-102.38345,-102.23951,-102.12861,-102.05156,-102.05154,-102.05152,-102.05145,-102.05143,-102.05144,-102.05144,-102.0515,-102.0515,-102.05152,-102.05131,-102.05145,-102.05176,-102.05176,-102.05174,-102.05174,-102.05139,-102.0506,-102.04955,-102.04907,-102.04875,-102.04802,-102.04541,-102.04514,-102.04524,-102.04494,-102.04501,-102.04479,-102.04452,-102.04447,-102.04431,-102.04456,-102.04402,-102.04286,-102.04166,-102.04179,-102.04178,-102.04192,-102.04196,-102.04199,-102.0421,-102.04209,-102.04538,-102.05418,-102.07425,-102.09059,-102.17511,-102.19751,-102.24848,-102.26493,-102.29933,-102.34378,-102.35537,-102.40232,-102.49444,-102.52468,-102.57091,-102.62547,-102.68337,-102.7059,-102.77324,-102.81507,-102.86545,-102.89315,-102.9279,-102.97961,-102.98698,-103.00214,-103.0022,-103.01356,-103.26061,-103.53892,-103.92627,-104.17265,-104.49245,-104.76311,-105.15658,-105.50752,-105.6576,-105.93761,-106.15386,-106.4654,-106.61906,-106.73137,-106.89142,-107.00562,-107.25094,-107.4121,-107.49519,-107.8669,-108.20233,-108.52833,-108.7496,-108.8978,-109.04518,-109.04522,-109.04531,-109.04519,-109.04583,-109.04582,-109.04191,-109.04159,-109.04304,-109.04232,-109.0498],[-103.55583,-104.00265,-104.64165,-105.14679,-105.90075,-106.55721,-106.63119,-106.62216,-106.63325,-106.61103,-106.54568,-106.52834,-106.52861,-106.53181,-106.55963,-106.56993,-106.60042,-106.61408,-106.62967,-106.67613,-106.68194,-106.7505,-106.75874,-106.77057,-106.82052,-106.87555,-106.89949,-106.93928,-106.96546,-106.98754,-106.99317,-106.99823,-106.99882,-107.00056,-107.12556,-107.2773,-107.29766,-107.3093,-107.32402,-107.35469,-107.37629,-107.39716,-107.42244,-107.47074,-107.50261,-107.53069,-107.5835,-107.62497,-107.6266,-107.62774,-107.62988,-107.63241,-107.63786,-107.64356,-107.65173,-107.66987,-107.70084,-107.70821,-107.75058,-107.7889,-107.84105,-107.86238,-107.8711,-107.88551,-107.90473,-107.964,-108.00059,-108.044,-108.05664,-108.07876,-108.08267,-108.1052,-108.15227,-108.17096,-108.1986,-108.20839,-108.20844,-108.20841,-108.2084,-108.20838,-108.20837,-108.2083,-108.20814,-108.20819,-108.20835,-108.20869,-108.20855,-108.20852,-108.20849,-108.20839,-108.20848,-108.20854,-108.20857,-108.36757,-108.38904,-108.44606,-108.47535,-108.53011,-108.61731,-108.65709,-108.70766,-108.71907,-108.72702,-108.73503,-108.73904,-108.7506,-108.75906,-108.82206,-108.86103,-108.88692,-109.00061,-109.05004,-109.05004,-109.04911,-109.04905,-109.04811,-109.04764,-109.04762,-109.0474,-109.04691,-109.047,-109.04692,-109.04633,-109.04603,-109.04598,-109.04644,-109.04662,-109.04636,-109.04621,-109.04606,-109.04578,-109.04601,-109.04575,-109.04579,-109.04547,-109.04544,-109.04531,-109.04522,-109.04522,-109.04518,-108.8978,-108.7496,-108.52833,-108.20233,-107.8669,-107.49519,-107.4121,-107.25094,-107.00562,-106.89142,-106.73137,-106.61906,-106.4654,-106.15386,-105.93761,-105.6576,-105.50752,-105.15658,-104.76311,-104.49245,-104.17265,-103.92627,-103.53892,-103.26061,-103.01356,-103.0022,-103.0022,-103.00232,-103.00232,-103.00228,-103.00227,-103.00224,-103.00223,-103.00218,-103.00206,-103.00213,-103.00215,-103.0021,-103.00214,-103.00218,-103.00237,-103.00218,-103.0023,-103.00226,-103.00223,-103.00226,-103.0023,-103.00233,-103.00233,-103.00228,-103.00228,-103.00245,-103.00243,-103.02394,-103.04133,-103.04249,-103.04239,-103.04283,-103.04312,-103.04338,-103.04362,-103.04374,-103.04376,-103.04993,-103.05727,-103.06464,-103.06478,-103.53275],[-114.04392,-114.04391,-114.04375,-114.04195,-114.04061,-114.04055,-114.0398,-114.04172,-114.0391,-113.80254,-113.64886,-113.49562,-113.36362,-113.20505,-113.10627,-112.96233,-112.83266,-112.78175,-112.68558,-112.58229,-112.45023,-112.26534,-112.1985,-112.10309,-111.98965,-111.9304,-111.88098,-111.82932,-111.73177,-111.51913,-111.4087,-111.26009,-111.14884,-111.04934,-111.04669,-111.04682,-111.04631,-111.04601,-111.0458,-111.04611,-111.04648,-111.04667,-111.04688,-111.04686,-110.94406,-110.86384,-110.70521,-110.55878,-110.43401,-110.34177,-110.25071,-110.14713,-110.0004,-109.90645,-109.75044,-109.67348,-109.63381,-109.51776,-109.43099,-109.30329,-109.05847,-109.05008,-109.04907,-109.04899,-109.05051,-109.05088,-109.05093,-109.05088,-109.05087,-109.05077,-109.05132,-109.05077,-109.05119,-109.05158,-109.05305,-109.05655,-109.06015,-109.06017,-109.04984,-109.0498,-109.04232,-109.04304,-109.04159,-109.04191,-109.04582,-109.04583,-109.04519,-109.04531,-109.04522,-109.04538,-109.26993,-109.43568,-109.83491,-110.13851,-110.272,-110.54945,-110.73783,-111.03957,-111.2523,-111.39598,-111.58602,-111.99142,-112.32985,-112.48455,-112.75086,-112.96895,-112.99281,-113.02079,-113.17698,-113.32097,-113.4727,-113.62465,-113.86852,-113.94557,-114.05052,-114.0506,-114.05187,-114.05264,-114.05198,-114.04939,-114.05013,-114.04997,-114.04992,-114.04916,-114.04833,-114.04885,-114.04841,-114.04779,-114.0473,-114.04757,-114.04727,-114.04658,-114.04644,-114.04619,-114.04558]],\"ys\":[[34.87057,35.00186,35.00332,35.07971,35.11791,35.14231,35.21811,35.37012,35.49125,35.5417,35.60517,35.66942,35.73579,35.81412,35.86436,35.9167,35.98542,36.05493,36.11546,36.15058,36.10119,36.01461,36.09833,36.21464,36.37619,36.60322,36.817,36.99997,37.0004,37.0004,36.99998,36.99998,36.99998,36.99998,36.99998,36.99998,37.00022,37.00017,37.00012,37.00048,37.00094,37.00105,37.00097,37.00166,37.00147,37.00102,37.00247,37.00325,37.00383,36.99828,36.99845,36.99831,36.9991,36.99926,36.99908,36.99908,36.99897,36.8531,36.70384,36.54513,36.41637,36.29154,36.18724,36.03128,35.93088,35.81044,35.65092,35.45859,35.30697,34.91388,34.71264,34.44558,34.08446,33.71335,33.3477,33.07165,32.70386,32.40743,32.1771,31.87069,31.63698,31.3325,31.33252,31.3338,31.33396,31.334,31.33394,31.33406,31.33393,31.33408,31.33399,31.33341,31.33363,31.33296,31.33299,31.33305,31.33363,31.33328,31.33281,31.33283,31.33257,31.34898,31.38586,31.40231,31.41305,31.42333,31.43196,31.45068,31.46195,31.4678,31.47995,31.49099,31.50825,31.51945,31.54305,31.56227,31.6012,31.61823,31.62425,31.63623,31.65645,31.67094,31.67701,31.69377,31.72891,31.75165,31.76301,31.78954,31.80473,31.82357,31.83702,31.8513,31.86132,31.87666,31.88514,31.89671,31.90787,31.99917,32.0054,32.02905,32.12566,32.17992,32.21797,32.2376,32.28088,32.31044,32.32538,32.33509,32.36468,32.43408,32.48373,32.49526,32.50602,32.50999,32.51839,32.52419,32.53277,32.54351,32.55396,32.56772,32.56625,32.56133,32.57093,32.58137,32.5955,32.60317,32.61295,32.6238,32.62325,32.6247,32.63705,32.65006,32.66489,32.66985,32.67414,32.6785,32.68221,32.68517,32.68732,32.6986,32.70545,32.71192,32.71829,32.71943,32.73946,32.73137,32.73487,32.87408,32.97206,33.03255,33.23376,33.39691,33.47131,33.58709,33.6969,33.84446,33.91285,33.96372,34.04257,34.12866,34.17212,34.31087,34.41527,34.47903,34.64288,34.71453,34.79181,34.86997],[38.215,38.40118,38.60929,38.81393,38.95788,39.11656,39.22605,39.36423,39.56752,39.79876,40.03782,40.18844,40.2929,40.41493,40.50615,40.68445,40.87296,41.00066,41.00051,41.00013,41.0001,40.99996,41.00008,41.00011,41.00139,41.00205,41.00197,41.00228,41.00305,41.00283,41.00305,41.00315,41.00213,40.99927,40.997,40.99701,40.99722,40.99766,40.99818,40.9983,40.99826,41.00153,41.00162,41.00139,41.00141,41.00153,41.00166,41.0017,41.00185,41.00191,41.00239,41.00231,41.00234,41.00243,41.00245,41.00235,41.00247,40.97899,40.9255,40.87501,40.82214,40.75901,40.71742,40.69984,40.65115,40.61334,40.55651,40.48846,40.31022,40.1605,40.01399,40.00308,40.00061,39.87098,39.67645,39.53889,39.40853,39.33572,39.24305,38.84279,38.66387,38.59586,38.52933,38.47219,38.41997,38.30634,38.26504,38.17556,38.05734,37.94303,37.80941,37.68749,37.49347,37.45597,37.3385,37.22191,37.10676,36.99352,36.99302,36.99306,36.99305,36.99311,36.99325,36.99357,36.99367,36.9942,36.99439,36.99425,36.99441,36.99457,36.99479,36.99494,36.99487,36.99513,36.99504,36.9952,36.99557,36.99885,36.99977,36.99959,36.99944,36.99908,36.99855,36.99852,37.0001,37.0001,37.00021,36.99956,36.99892,36.99669,36.99511,36.99367,36.9935,36.99527,36.99589,36.99578,36.99556,36.99469,36.99378,36.99303,36.99263,37.00014,37.00001,37.00001,37.0,37.00001,37.0,36.99924,36.99927,36.99887,36.99885,36.99908,36.99908,37.01706,37.09597,37.20443,37.35363,37.5667,37.7899,37.97469,38.10272,38.21472],[32.00032,32.00001,32.00041,32.0005,32.00198,32.00076,31.98981,31.93601,31.90997,31.84661,31.8054,31.78318,31.78328,31.78391,31.78394,31.78395,31.78399,31.784,31.78409,31.78395,31.78393,31.78371,31.78394,31.78404,31.78385,31.78384,31.78379,31.78378,31.78381,31.7837,31.78369,31.78367,31.78367,31.78355,31.78354,31.78377,31.78367,31.78366,31.78367,31.78365,31.78367,31.78365,31.7836,31.78365,31.78366,31.78365,31.78369,31.78365,31.78374,31.78374,31.78374,31.78374,31.7837,31.78371,31.78371,31.78368,31.78368,31.78368,31.78361,31.78363,31.78365,31.7836,31.78359,31.78359,31.7836,31.78363,31.78365,31.78361,31.78357,31.78351,31.7835,31.78353,31.78357,31.78358,31.78359,31.7836,31.74465,31.72969,31.72323,31.7194,31.71733,31.68878,31.62561,31.58935,31.5608,31.52581,31.50105,31.4998,31.47883,31.42917,31.37656,31.3561,31.3334,31.3334,31.33341,31.33347,31.33344,31.33336,31.33329,31.33323,31.33319,31.33307,31.33298,31.3329,31.33285,31.33273,31.33261,31.33226,31.33232,31.33231,31.33217,31.33224,31.3325,31.63698,31.87069,32.1771,32.40743,32.70386,33.07165,33.3477,33.71335,34.08446,34.44558,34.71264,34.91388,35.30697,35.45859,35.65092,35.81044,35.93088,36.03128,36.18724,36.29154,36.41637,36.54513,36.70384,36.8531,36.99897,36.99908,36.99908,36.99885,36.99887,36.99927,36.99924,37.0,37.00001,37.0,37.00001,37.00001,37.00014,36.99263,36.99303,36.99378,36.99469,36.99556,36.99578,36.99589,36.99527,36.9935,36.99367,36.99511,36.99669,36.99892,36.99956,37.00021,37.0001,37.00006,36.9686,36.95031,36.91582,36.91402,36.90243,36.89755,36.86996,36.81735,36.76898,36.74295,36.7193,36.7013,36.68525,36.67653,36.65329,36.6278,36.60265,36.5919,36.56927,36.56386,36.54875,36.52963,36.51475,36.50609,36.50046,36.5004,36.50042,35.76515,35.21202,35.1362,34.88888,34.67259,34.53564,34.40999,34.27181,34.03983,33.71754,33.35051,33.00011,32.59516,32.00034],[40.68928,40.68985,40.76026,41.05548,41.36,41.59062,41.89425,41.99372,41.99367,41.98895,41.99102,41.99331,41.99384,41.99645,41.99735,41.99841,41.99938,41.99973,42.00021,42.00054,42.00099,42.00111,42.00116,41.99763,41.99834,41.99861,41.99856,41.99875,41.99926,41.99951,42.00063,42.00132,42.00154,42.00159,42.00157,42.00034,41.83664,41.64119,41.52149,41.41513,41.36572,41.20441,41.10318,41.00917,40.9976,40.99725,40.99635,40.99635,40.99485,40.99533,40.99609,40.99634,40.99734,40.99766,40.99797,40.99841,40.9983,40.99871,40.99964,41.00064,41.00069,41.00066,40.87296,40.68445,40.50615,40.41493,40.2929,40.18844,40.03782,39.79876,39.56752,39.36423,39.22605,39.11656,38.95788,38.81393,38.60929,38.40118,38.215,38.21472,38.10272,37.97469,37.7899,37.5667,37.35363,37.20443,37.09597,37.01706,36.99908,36.99908,36.99926,36.9991,36.99831,36.99845,36.99828,37.00383,37.00325,37.00247,37.00102,37.00147,37.00166,37.00097,37.00105,37.00094,37.00048,37.00012,37.00017,37.00022,36.99998,36.99998,36.99998,36.99998,36.99998,36.99998,37.0004,37.0004,37.13439,37.47222,37.70735,37.77873,37.95499,38.20495,38.55049,38.75165,38.90545,39.08777,39.23851,39.36296,39.45715,39.61018,39.75817,39.99994,40.09896,40.30302,40.4958]]}},\"id\":\"c43a5ef3-62d0-4181-bc8c-1a9e7eb6af3e\",\"type\":\"ColumnDataSource\"},{\"attributes\":{\"fill_alpha\":{\"value\":0.1},\"fill_color\":{\"value\":\"#1f77b4\"},\"line_alpha\":{\"value\":0.1},\"line_color\":{\"value\":\"#1f77b4\"},\"xs\":{\"field\":\"xs\"},\"ys\":{\"field\":\"ys\"}},\"id\":\"4521bb1b-0c69-49ff-8b44-eacb481ba258\",\"type\":\"Patches\"},{\"attributes\":{\"below\":[{\"id\":\"1296d466-ae2e-4d93-aa11-666b4944fc7a\",\"type\":\"LinearAxis\"}],\"left\":[{\"id\":\"6103cf10-6a4d-4b33-bd17-f7c250276508\",\"type\":\"LinearAxis\"}],\"renderers\":[{\"id\":\"1296d466-ae2e-4d93-aa11-666b4944fc7a\",\"type\":\"LinearAxis\"},{\"id\":\"97f3b982-c3cf-4470-9569-06beaab2e45e\",\"type\":\"Grid\"},{\"id\":\"6103cf10-6a4d-4b33-bd17-f7c250276508\",\"type\":\"LinearAxis\"},{\"id\":\"034e2b68-b94a-425d-991c-b28d3b334eee\",\"type\":\"Grid\"},{\"id\":\"9a3f5871-0d95-4ca4-aa18-d2eb32c403a9\",\"type\":\"BoxAnnotation\"},{\"id\":\"f6be9d79-4d1f-4214-b61d-a8375098d92f\",\"type\":\"GlyphRenderer\"},{\"id\":\"75d4d2a7-d3f8-4b30-822b-439dd0a25d9b\",\"type\":\"GlyphRenderer\"},{\"id\":\"1ac85858-edc1-491f-8d6b-26ff3a6aaf4d\",\"type\":\"GlyphRenderer\"},{\"id\":\"cf029f07-70a7-480c-a6b6-e738fd4038d5\",\"type\":\"GlyphRenderer\"},{\"id\":\"f0069c4d-1ff0-438f-ac57-aa782ea9ff04\",\"type\":\"GlyphRenderer\"}],\"title\":{\"id\":\"c8c3ce1e-dbf0-434e-b1f4-e28d76581215\",\"type\":\"Title\"},\"toolbar\":{\"id\":\"79bcff34-5089-42f8-bece-67e040fce2ed\",\"type\":\"Toolbar\"},\"x_range\":{\"id\":\"d739c8fe-ea3e-43fd-952c-9dd4c62b0e10\",\"type\":\"DataRange1d\"},\"x_scale\":{\"id\":\"5248cf12-7ea7-4b64-9f9b-435f1b560eb8\",\"type\":\"LinearScale\"},\"y_range\":{\"id\":\"5918bba3-7dd5-4fc1-abc5-3f6e2e30c228\",\"type\":\"DataRange1d\"},\"y_scale\":{\"id\":\"79af8491-0aef-4f16-a43e-392047ae9e23\",\"type\":\"LinearScale\"}},\"id\":\"a1a6b406-9973-4b54-bd02-85faf627180e\",\"subtype\":\"Figure\",\"type\":\"Plot\"},{\"attributes\":{\"fill_color\":{\"value\":\"white\"},\"size\":{\"units\":\"screen\",\"value\":5},\"x\":{\"field\":\"x\"},\"y\":{\"field\":\"y\"}},\"id\":\"480f952a-f95b-49be-8d27-a82c46cab86d\",\"type\":\"Circle\"},{\"attributes\":{\"source\":{\"id\":\"4cab8616-6d13-4167-a619-d615d98151d4\",\"type\":\"ColumnDataSource\"}},\"id\":\"2cc8c63d-ff84-42a4-9bf2-f7a272a95108\",\"type\":\"CDSView\"},{\"attributes\":{},\"id\":\"6c05089a-a0f2-41f4-a975-dea5a6ff7ec6\",\"type\":\"ResetTool\"},{\"attributes\":{\"fill_alpha\":{\"value\":0.1},\"fill_color\":{\"value\":\"#1f77b4\"},\"line_alpha\":{\"value\":0.1},\"line_color\":{\"value\":\"#1f77b4\"},\"size\":{\"units\":\"screen\",\"value\":5},\"x\":{\"field\":\"x\"},\"y\":{\"field\":\"y\"}},\"id\":\"b7f007c6-624e-41a1-b708-54ebdb469cf2\",\"type\":\"Circle\"},{\"attributes\":{\"callback\":null},\"id\":\"5918bba3-7dd5-4fc1-abc5-3f6e2e30c228\",\"type\":\"DataRange1d\"},{\"attributes\":{},\"id\":\"79af8491-0aef-4f16-a43e-392047ae9e23\",\"type\":\"LinearScale\"},{\"attributes\":{\"data_source\":{\"id\":\"8fbd2cb8-d164-4c9a-a399-4bf47361d730\",\"type\":\"ColumnDataSource\"},\"glyph\":{\"id\":\"480f952a-f95b-49be-8d27-a82c46cab86d\",\"type\":\"Circle\"},\"hover_glyph\":null,\"muted_glyph\":null,\"nonselection_glyph\":{\"id\":\"b7f007c6-624e-41a1-b708-54ebdb469cf2\",\"type\":\"Circle\"},\"selection_glyph\":null,\"view\":{\"id\":\"6e5be657-3bc8-4ea7-aa3d-23eeafbb648c\",\"type\":\"CDSView\"}},\"id\":\"75d4d2a7-d3f8-4b30-822b-439dd0a25d9b\",\"type\":\"GlyphRenderer\"},{\"attributes\":{\"active_drag\":\"auto\",\"active_inspect\":\"auto\",\"active_scroll\":\"auto\",\"active_tap\":\"auto\",\"tools\":[{\"id\":\"b4687b76-6ada-45a6-814e-07b8d08b7de6\",\"type\":\"PanTool\"},{\"id\":\"69910008-0781-4ebe-ba78-b1452437ffce\",\"type\":\"WheelZoomTool\"},{\"id\":\"fefa5322-a8bc-4d76-9262-67c85f9617c3\",\"type\":\"BoxZoomTool\"},{\"id\":\"f8d12be3-7508-48da-bfc2-1e793b41a534\",\"type\":\"SaveTool\"},{\"id\":\"6c05089a-a0f2-41f4-a975-dea5a6ff7ec6\",\"type\":\"ResetTool\"},{\"id\":\"32ec8481-7ce1-4382-8ef3-17edf27ebb78\",\"type\":\"HelpTool\"}]},\"id\":\"79bcff34-5089-42f8-bece-67e040fce2ed\",\"type\":\"Toolbar\"},{\"attributes\":{\"data_source\":{\"id\":\"4cab8616-6d13-4167-a619-d615d98151d4\",\"type\":\"ColumnDataSource\"},\"glyph\":{\"id\":\"28a655f3-4219-4b0f-8ac5-afcea997081f\",\"type\":\"Circle\"},\"hover_glyph\":null,\"muted_glyph\":null,\"nonselection_glyph\":{\"id\":\"219bddc1-1c59-4504-9157-6cf68a048dc9\",\"type\":\"Circle\"},\"selection_glyph\":null,\"view\":{\"id\":\"2cc8c63d-ff84-42a4-9bf2-f7a272a95108\",\"type\":\"CDSView\"}},\"id\":\"f0069c4d-1ff0-438f-ac57-aa782ea9ff04\",\"type\":\"GlyphRenderer\"},{\"attributes\":{\"source\":{\"id\":\"8fbd2cb8-d164-4c9a-a399-4bf47361d730\",\"type\":\"ColumnDataSource\"}},\"id\":\"6e5be657-3bc8-4ea7-aa3d-23eeafbb648c\",\"type\":\"CDSView\"},{\"attributes\":{\"fill_color\":{\"value\":\"#1f77b4\"},\"xs\":{\"field\":\"xs\"},\"ys\":{\"field\":\"ys\"}},\"id\":\"1953b6ec-c068-4151-843e-3d5c76c9292d\",\"type\":\"Patches\"},{\"attributes\":{\"fill_alpha\":{\"value\":0.1},\"fill_color\":{\"value\":\"#1f77b4\"},\"line_alpha\":{\"value\":0.1},\"line_color\":{\"value\":\"#1f77b4\"},\"size\":{\"units\":\"screen\",\"value\":5},\"x\":{\"field\":\"x\"},\"y\":{\"field\":\"y\"}},\"id\":\"219bddc1-1c59-4504-9157-6cf68a048dc9\",\"type\":\"Circle\"},{\"attributes\":{\"data_source\":{\"id\":\"c43a5ef3-62d0-4181-bc8c-1a9e7eb6af3e\",\"type\":\"ColumnDataSource\"},\"glyph\":{\"id\":\"1953b6ec-c068-4151-843e-3d5c76c9292d\",\"type\":\"Patches\"},\"hover_glyph\":null,\"muted_glyph\":null,\"nonselection_glyph\":{\"id\":\"4521bb1b-0c69-49ff-8b44-eacb481ba258\",\"type\":\"Patches\"},\"selection_glyph\":null,\"view\":{\"id\":\"242a37ac-584c-45ce-971b-1cab7fec232d\",\"type\":\"CDSView\"}},\"id\":\"f6be9d79-4d1f-4214-b61d-a8375098d92f\",\"type\":\"GlyphRenderer\"},{\"attributes\":{},\"id\":\"79d4338a-bcdd-47d9-8003-8fee5c354d3e\",\"type\":\"BasicTickFormatter\"},{\"attributes\":{},\"id\":\"fcf9828b-3739-48a5-93de-8fa6a614fbe9\",\"type\":\"BasicTickFormatter\"},{\"attributes\":{\"callback\":null,\"column_names\":[\"x\",\"y\"],\"data\":{\"x\":[-114.63332,-114.63349,-114.63423,-114.60899,-114.63064,-114.57354,-114.58031,-114.61121,-114.6768,-114.66076,-114.65449,-114.68702,-114.69704,-114.70415,-114.67489,-114.70883,-114.74365,-114.73513,-114.6729,-114.51122,-114.32346,-114.22646,-114.1139,-114.04404,-114.04338,-114.04736,-114.05014,-114.0506,-114.0506,-114.05052,-113.94557,-113.86852,-113.62465,-113.4727,-113.32097,-113.17698,-113.02079,-112.99281,-112.96895,-112.75086,-112.48455,-112.32985,-111.99142,-111.58602,-111.39598,-111.2523,-111.03957,-110.73783,-110.54945,-110.272,-110.13851,-109.83491,-109.43568,-109.26993,-109.04538,-109.04522,-109.04522,-109.04531,-109.04544,-109.04547,-109.04579,-109.04575,-109.04601,-109.04578,-109.04606,-109.04621,-109.04636,-109.04662,-109.04644,-109.04598,-109.04603,-109.04633,-109.04692,-109.047,-109.04691,-109.0474,-109.04762,-109.04764,-109.04811,-109.04905,-109.04911,-109.05004,-109.0587,-109.25062,-109.30069,-109.33682,-109.38186,-109.45105,-109.5287,-109.62562,-109.79302,-109.97582,-110.20503,-110.49327,-110.56918,-110.65415,-110.77828,-110.87564,-110.93778,-110.94286,-110.97553,-111.12565,-111.24082,-111.29191,-111.32558,-111.3574,-111.38483,-111.44337,-111.47861,-111.49725,-111.53479,-111.56975,-111.62412,-111.66,-111.73365,-111.79498,-111.9182,-111.97172,-111.99115,-112.02937,-112.09379,-112.13972,-112.15906,-112.21295,-112.32605,-112.39932,-112.43603,-112.52208,-112.57141,-112.63294,-112.67695,-112.72356,-112.75567,-112.8055,-112.83423,-112.8711,-112.90863,-113.20884,-113.2279,-113.30314,-113.61086,-113.78489,-113.90756,-113.97121,-114.11135,-114.20719,-114.25559,-114.28755,-114.38472,-114.61337,-114.77804,-114.81394,-114.81518,-114.80524,-114.81037,-114.81335,-114.80551,-114.80529,-114.79282,-114.79206,-114.79555,-114.81362,-114.80894,-114.80404,-114.80093,-114.80804,-114.80891,-114.80192,-114.79518,-114.7819,-114.77309,-114.76427,-114.74805,-114.74638,-114.74505,-114.74456,-114.74203,-114.74,-114.73874,-114.73062,-114.72924,-114.72377,-114.71994,-114.71919,-114.69096,-114.63501,-114.58576,-114.46563,-114.48131,-114.62973,-114.68157,-114.72123,-114.61185,-114.5402,-114.49649,-114.52801,-114.51318,-114.49813,-114.4355,-114.35765,-114.26017,-114.14737,-114.29195,-114.38169,-114.44166,-114.48236,-114.56953,-114.63305,-109.04984,-109.06017,-109.06015,-109.05655,-109.05305,-109.05158,-109.05119,-109.05077,-109.05132,-109.05077,-109.05087,-109.05088,-109.05093,-109.05088,-109.05051,-109.04899,-109.04907,-109.05008,-109.03134,-108.83854,-108.6996,-108.59802,-108.46524,-108.25764,-108.10567,-107.91411,-107.75063,-107.55479,-107.35937,-107.27483,-107.12561,-106.9166,-106.59389,-106.32621,-106.06118,-105.82273,-105.60473,-105.46928,-105.2756,-105.07514,-104.86787,-104.58704,-104.24506,-104.0535,-104.05325,-104.05153,-103.90732,-103.61529,-103.46471,-103.30624,-103.00202,-102.88728,-102.76668,-102.55879,-102.38345,-102.23951,-102.12861,-102.05156,-102.05154,-102.05152,-102.05145,-102.05143,-102.05144,-102.05144,-102.0515,-102.0515,-102.05152,-102.05131,-102.05145,-102.05176,-102.05176,-102.05174,-102.05174,-102.05139,-102.0506,-102.04955,-102.04907,-102.04875,-102.04802,-102.04541,-102.04514,-102.04524,-102.04494,-102.04501,-102.04479,-102.04452,-102.04447,-102.04431,-102.04456,-102.04402,-102.04286,-102.04166,-102.04179,-102.04178,-102.04192,-102.04196,-102.04199,-102.0421,-102.04209,-102.04538,-102.05418,-102.07425,-102.09059,-102.17511,-102.19751,-102.24848,-102.26493,-102.29933,-102.34378,-102.35537,-102.40232,-102.49444,-102.52468,-102.57091,-102.62547,-102.68337,-102.7059,-102.77324,-102.81507,-102.86545,-102.89315,-102.9279,-102.97961,-102.98698,-103.00214,-103.0022,-103.01356,-103.26061,-103.53892,-103.92627,-104.17265,-104.49245,-104.76311,-105.15658,-105.50752,-105.6576,-105.93761,-106.15386,-106.4654,-106.61906,-106.73137,-106.89142,-107.00562,-107.25094,-107.4121,-107.49519,-107.8669,-108.20233,-108.52833,-108.7496,-108.8978,-109.04518,-109.04522,-109.04531,-109.04519,-109.04583,-109.04582,-109.04191,-109.04159,-109.04304,-109.04232,-109.0498,-103.55583,-104.00265,-104.64165,-105.14679,-105.90075,-106.55721,-106.63119,-106.62216,-106.63325,-106.61103,-106.54568,-106.52834,-106.52861,-106.53181,-106.55963,-106.56993,-106.60042,-106.61408,-106.62967,-106.67613,-106.68194,-106.7505,-106.75874,-106.77057,-106.82052,-106.87555,-106.89949,-106.93928,-106.96546,-106.98754,-106.99317,-106.99823,-106.99882,-107.00056,-107.12556,-107.2773,-107.29766,-107.3093,-107.32402,-107.35469,-107.37629,-107.39716,-107.42244,-107.47074,-107.50261,-107.53069,-107.5835,-107.62497,-107.6266,-107.62774,-107.62988,-107.63241,-107.63786,-107.64356,-107.65173,-107.66987,-107.70084,-107.70821,-107.75058,-107.7889,-107.84105,-107.86238,-107.8711,-107.88551,-107.90473,-107.964,-108.00059,-108.044,-108.05664,-108.07876,-108.08267,-108.1052,-108.15227,-108.17096,-108.1986,-108.20839,-108.20844,-108.20841,-108.2084,-108.20838,-108.20837,-108.2083,-108.20814,-108.20819,-108.20835,-108.20869,-108.20855,-108.20852,-108.20849,-108.20839,-108.20848,-108.20854,-108.20857,-108.36757,-108.38904,-108.44606,-108.47535,-108.53011,-108.61731,-108.65709,-108.70766,-108.71907,-108.72702,-108.73503,-108.73904,-108.7506,-108.75906,-108.82206,-108.86103,-108.88692,-109.00061,-109.05004,-109.05004,-109.04911,-109.04905,-109.04811,-109.04764,-109.04762,-109.0474,-109.04691,-109.047,-109.04692,-109.04633,-109.04603,-109.04598,-109.04644,-109.04662,-109.04636,-109.04621,-109.04606,-109.04578,-109.04601,-109.04575,-109.04579,-109.04547,-109.04544,-109.04531,-109.04522,-109.04522,-109.04518,-108.8978,-108.7496,-108.52833,-108.20233,-107.8669,-107.49519,-107.4121,-107.25094,-107.00562,-106.89142,-106.73137,-106.61906,-106.4654,-106.15386,-105.93761,-105.6576,-105.50752,-105.15658,-104.76311,-104.49245,-104.17265,-103.92627,-103.53892,-103.26061,-103.01356,-103.0022,-103.0022,-103.00232,-103.00232,-103.00228,-103.00227,-103.00224,-103.00223,-103.00218,-103.00206,-103.00213,-103.00215,-103.0021,-103.00214,-103.00218,-103.00237,-103.00218,-103.0023,-103.00226,-103.00223,-103.00226,-103.0023,-103.00233,-103.00233,-103.00228,-103.00228,-103.00245,-103.00243,-103.02394,-103.04133,-103.04249,-103.04239,-103.04283,-103.04312,-103.04338,-103.04362,-103.04374,-103.04376,-103.04993,-103.05727,-103.06464,-103.06478,-103.53275,-114.04392,-114.04391,-114.04375,-114.04195,-114.04061,-114.04055,-114.0398,-114.04172,-114.0391,-113.80254,-113.64886,-113.49562,-113.36362,-113.20505,-113.10627,-112.96233,-112.83266,-112.78175,-112.68558,-112.58229,-112.45023,-112.26534,-112.1985,-112.10309,-111.98965,-111.9304,-111.88098,-111.82932,-111.73177,-111.51913,-111.4087,-111.26009,-111.14884,-111.04934,-111.04669,-111.04682,-111.04631,-111.04601,-111.0458,-111.04611,-111.04648,-111.04667,-111.04688,-111.04686,-110.94406,-110.86384,-110.70521,-110.55878,-110.43401,-110.34177,-110.25071,-110.14713,-110.0004,-109.90645,-109.75044,-109.67348,-109.63381,-109.51776,-109.43099,-109.30329,-109.05847,-109.05008,-109.04907,-109.04899,-109.05051,-109.05088,-109.05093,-109.05088,-109.05087,-109.05077,-109.05132,-109.05077,-109.05119,-109.05158,-109.05305,-109.05655,-109.06015,-109.06017,-109.04984,-109.0498,-109.04232,-109.04304,-109.04159,-109.04191,-109.04582,-109.04583,-109.04519,-109.04531,-109.04522,-109.04538,-109.26993,-109.43568,-109.83491,-110.13851,-110.272,-110.54945,-110.73783,-111.03957,-111.2523,-111.39598,-111.58602,-111.99142,-112.32985,-112.48455,-112.75086,-112.96895,-112.99281,-113.02079,-113.17698,-113.32097,-113.4727,-113.62465,-113.86852,-113.94557,-114.05052,-114.0506,-114.05187,-114.05264,-114.05198,-114.04939,-114.05013,-114.04997,-114.04992,-114.04916,-114.04833,-114.04885,-114.04841,-114.04779,-114.0473,-114.04757,-114.04727,-114.04658,-114.04644,-114.04619,-114.04558],\"y\":[34.87057,35.00186,35.00332,35.07971,35.11791,35.14231,35.21811,35.37012,35.49125,35.5417,35.60517,35.66942,35.73579,35.81412,35.86436,35.9167,35.98542,36.05493,36.11546,36.15058,36.10119,36.01461,36.09833,36.21464,36.37619,36.60322,36.817,36.99997,37.0004,37.0004,36.99998,36.99998,36.99998,36.99998,36.99998,36.99998,37.00022,37.00017,37.00012,37.00048,37.00094,37.00105,37.00097,37.00166,37.00147,37.00102,37.00247,37.00325,37.00383,36.99828,36.99845,36.99831,36.9991,36.99926,36.99908,36.99908,36.99897,36.8531,36.70384,36.54513,36.41637,36.29154,36.18724,36.03128,35.93088,35.81044,35.65092,35.45859,35.30697,34.91388,34.71264,34.44558,34.08446,33.71335,33.3477,33.07165,32.70386,32.40743,32.1771,31.87069,31.63698,31.3325,31.33252,31.3338,31.33396,31.334,31.33394,31.33406,31.33393,31.33408,31.33399,31.33341,31.33363,31.33296,31.33299,31.33305,31.33363,31.33328,31.33281,31.33283,31.33257,31.34898,31.38586,31.40231,31.41305,31.42333,31.43196,31.45068,31.46195,31.4678,31.47995,31.49099,31.50825,31.51945,31.54305,31.56227,31.6012,31.61823,31.62425,31.63623,31.65645,31.67094,31.67701,31.69377,31.72891,31.75165,31.76301,31.78954,31.80473,31.82357,31.83702,31.8513,31.86132,31.87666,31.88514,31.89671,31.90787,31.99917,32.0054,32.02905,32.12566,32.17992,32.21797,32.2376,32.28088,32.31044,32.32538,32.33509,32.36468,32.43408,32.48373,32.49526,32.50602,32.50999,32.51839,32.52419,32.53277,32.54351,32.55396,32.56772,32.56625,32.56133,32.57093,32.58137,32.5955,32.60317,32.61295,32.6238,32.62325,32.6247,32.63705,32.65006,32.66489,32.66985,32.67414,32.6785,32.68221,32.68517,32.68732,32.6986,32.70545,32.71192,32.71829,32.71943,32.73946,32.73137,32.73487,32.87408,32.97206,33.03255,33.23376,33.39691,33.47131,33.58709,33.6969,33.84446,33.91285,33.96372,34.04257,34.12866,34.17212,34.31087,34.41527,34.47903,34.64288,34.71453,34.79181,34.86997,38.215,38.40118,38.60929,38.81393,38.95788,39.11656,39.22605,39.36423,39.56752,39.79876,40.03782,40.18844,40.2929,40.41493,40.50615,40.68445,40.87296,41.00066,41.00051,41.00013,41.0001,40.99996,41.00008,41.00011,41.00139,41.00205,41.00197,41.00228,41.00305,41.00283,41.00305,41.00315,41.00213,40.99927,40.997,40.99701,40.99722,40.99766,40.99818,40.9983,40.99826,41.00153,41.00162,41.00139,41.00141,41.00153,41.00166,41.0017,41.00185,41.00191,41.00239,41.00231,41.00234,41.00243,41.00245,41.00235,41.00247,40.97899,40.9255,40.87501,40.82214,40.75901,40.71742,40.69984,40.65115,40.61334,40.55651,40.48846,40.31022,40.1605,40.01399,40.00308,40.00061,39.87098,39.67645,39.53889,39.40853,39.33572,39.24305,38.84279,38.66387,38.59586,38.52933,38.47219,38.41997,38.30634,38.26504,38.17556,38.05734,37.94303,37.80941,37.68749,37.49347,37.45597,37.3385,37.22191,37.10676,36.99352,36.99302,36.99306,36.99305,36.99311,36.99325,36.99357,36.99367,36.9942,36.99439,36.99425,36.99441,36.99457,36.99479,36.99494,36.99487,36.99513,36.99504,36.9952,36.99557,36.99885,36.99977,36.99959,36.99944,36.99908,36.99855,36.99852,37.0001,37.0001,37.00021,36.99956,36.99892,36.99669,36.99511,36.99367,36.9935,36.99527,36.99589,36.99578,36.99556,36.99469,36.99378,36.99303,36.99263,37.00014,37.00001,37.00001,37.0,37.00001,37.0,36.99924,36.99927,36.99887,36.99885,36.99908,36.99908,37.01706,37.09597,37.20443,37.35363,37.5667,37.7899,37.97469,38.10272,38.21472,32.00032,32.00001,32.00041,32.0005,32.00198,32.00076,31.98981,31.93601,31.90997,31.84661,31.8054,31.78318,31.78328,31.78391,31.78394,31.78395,31.78399,31.784,31.78409,31.78395,31.78393,31.78371,31.78394,31.78404,31.78385,31.78384,31.78379,31.78378,31.78381,31.7837,31.78369,31.78367,31.78367,31.78355,31.78354,31.78377,31.78367,31.78366,31.78367,31.78365,31.78367,31.78365,31.7836,31.78365,31.78366,31.78365,31.78369,31.78365,31.78374,31.78374,31.78374,31.78374,31.7837,31.78371,31.78371,31.78368,31.78368,31.78368,31.78361,31.78363,31.78365,31.7836,31.78359,31.78359,31.7836,31.78363,31.78365,31.78361,31.78357,31.78351,31.7835,31.78353,31.78357,31.78358,31.78359,31.7836,31.74465,31.72969,31.72323,31.7194,31.71733,31.68878,31.62561,31.58935,31.5608,31.52581,31.50105,31.4998,31.47883,31.42917,31.37656,31.3561,31.3334,31.3334,31.33341,31.33347,31.33344,31.33336,31.33329,31.33323,31.33319,31.33307,31.33298,31.3329,31.33285,31.33273,31.33261,31.33226,31.33232,31.33231,31.33217,31.33224,31.3325,31.63698,31.87069,32.1771,32.40743,32.70386,33.07165,33.3477,33.71335,34.08446,34.44558,34.71264,34.91388,35.30697,35.45859,35.65092,35.81044,35.93088,36.03128,36.18724,36.29154,36.41637,36.54513,36.70384,36.8531,36.99897,36.99908,36.99908,36.99885,36.99887,36.99927,36.99924,37.0,37.00001,37.0,37.00001,37.00001,37.00014,36.99263,36.99303,36.99378,36.99469,36.99556,36.99578,36.99589,36.99527,36.9935,36.99367,36.99511,36.99669,36.99892,36.99956,37.00021,37.0001,37.00006,36.9686,36.95031,36.91582,36.91402,36.90243,36.89755,36.86996,36.81735,36.76898,36.74295,36.7193,36.7013,36.68525,36.67653,36.65329,36.6278,36.60265,36.5919,36.56927,36.56386,36.54875,36.52963,36.51475,36.50609,36.50046,36.5004,36.50042,35.76515,35.21202,35.1362,34.88888,34.67259,34.53564,34.40999,34.27181,34.03983,33.71754,33.35051,33.00011,32.59516,32.00034,40.68928,40.68985,40.76026,41.05548,41.36,41.59062,41.89425,41.99372,41.99367,41.98895,41.99102,41.99331,41.99384,41.99645,41.99735,41.99841,41.99938,41.99973,42.00021,42.00054,42.00099,42.00111,42.00116,41.99763,41.99834,41.99861,41.99856,41.99875,41.99926,41.99951,42.00063,42.00132,42.00154,42.00159,42.00157,42.00034,41.83664,41.64119,41.52149,41.41513,41.36572,41.20441,41.10318,41.00917,40.9976,40.99725,40.99635,40.99635,40.99485,40.99533,40.99609,40.99634,40.99734,40.99766,40.99797,40.99841,40.9983,40.99871,40.99964,41.00064,41.00069,41.00066,40.87296,40.68445,40.50615,40.41493,40.2929,40.18844,40.03782,39.79876,39.56752,39.36423,39.22605,39.11656,38.95788,38.81393,38.60929,38.40118,38.215,38.21472,38.10272,37.97469,37.7899,37.5667,37.35363,37.20443,37.09597,37.01706,36.99908,36.99908,36.99926,36.9991,36.99831,36.99845,36.99828,37.00383,37.00325,37.00247,37.00102,37.00147,37.00166,37.00097,37.00105,37.00094,37.00048,37.00012,37.00017,37.00022,36.99998,36.99998,36.99998,36.99998,36.99998,36.99998,37.0004,37.0004,37.13439,37.47222,37.70735,37.77873,37.95499,38.20495,38.55049,38.75165,38.90545,39.08777,39.23851,39.36296,39.45715,39.61018,39.75817,39.99994,40.09896,40.30302,40.4958]}},\"id\":\"6ce120e2-cf0d-4d97-af38-b16528cd3976\",\"type\":\"ColumnDataSource\"},{\"attributes\":{\"source\":{\"id\":\"c43a5ef3-62d0-4181-bc8c-1a9e7eb6af3e\",\"type\":\"ColumnDataSource\"}},\"id\":\"242a37ac-584c-45ce-971b-1cab7fec232d\",\"type\":\"CDSView\"},{\"attributes\":{},\"id\":\"32ec8481-7ce1-4382-8ef3-17edf27ebb78\",\"type\":\"HelpTool\"},{\"attributes\":{\"callback\":null,\"column_names\":[\"x\",\"y\"],\"data\":{\"x\":[-114.63332,-114.63349,-114.63423,-114.60899,-114.63064,-114.57354,-114.58031,-114.61121,-114.6768,-114.66076,-114.65449,-114.68702,-114.69704,-114.70415,-114.67489,-114.70883,-114.74365,-114.73513,-114.6729,-114.51122,-114.32346,-114.22646,-114.1139,-114.04404,-114.04338,-114.04736,-114.05014,-114.0506,-114.0506,-114.05052,-113.94557,-113.86852,-113.62465,-113.4727,-113.32097,-113.17698,-113.02079,-112.99281,-112.96895,-112.75086,-112.48455,-112.32985,-111.99142,-111.58602,-111.39598,-111.2523,-111.03957,-110.73783,-110.54945,-110.272,-110.13851,-109.83491,-109.43568,-109.26993,-109.04538,-109.04522,-109.04522,-109.04531,-109.04544,-109.04547,-109.04579,-109.04575,-109.04601,-109.04578,-109.04606,-109.04621,-109.04636,-109.04662,-109.04644,-109.04598,-109.04603,-109.04633,-109.04692,-109.047,-109.04691,-109.0474,-109.04762,-109.04764,-109.04811,-109.04905,-109.04911,-109.05004,-109.0587,-109.25062,-109.30069,-109.33682,-109.38186,-109.45105,-109.5287,-109.62562,-109.79302,-109.97582,-110.20503,-110.49327,-110.56918,-110.65415,-110.77828,-110.87564,-110.93778,-110.94286,-110.97553,-111.12565,-111.24082,-111.29191,-111.32558,-111.3574,-111.38483,-111.44337,-111.47861,-111.49725,-111.53479,-111.56975,-111.62412,-111.66,-111.73365,-111.79498,-111.9182,-111.97172,-111.99115,-112.02937,-112.09379,-112.13972,-112.15906,-112.21295,-112.32605,-112.39932,-112.43603,-112.52208,-112.57141,-112.63294,-112.67695,-112.72356,-112.75567,-112.8055,-112.83423,-112.8711,-112.90863,-113.20884,-113.2279,-113.30314,-113.61086,-113.78489,-113.90756,-113.97121,-114.11135,-114.20719,-114.25559,-114.28755,-114.38472,-114.61337,-114.77804,-114.81394,-114.81518,-114.80524,-114.81037,-114.81335,-114.80551,-114.80529,-114.79282,-114.79206,-114.79555,-114.81362,-114.80894,-114.80404,-114.80093,-114.80804,-114.80891,-114.80192,-114.79518,-114.7819,-114.77309,-114.76427,-114.74805,-114.74638,-114.74505,-114.74456,-114.74203,-114.74,-114.73874,-114.73062,-114.72924,-114.72377,-114.71994,-114.71919,-114.69096,-114.63501,-114.58576,-114.46563,-114.48131,-114.62973,-114.68157,-114.72123,-114.61185,-114.5402,-114.49649,-114.52801,-114.51318,-114.49813,-114.4355,-114.35765,-114.26017,-114.14737,-114.29195,-114.38169,-114.44166,-114.48236,-114.56953,-114.63305,-109.04984,-109.06017,-109.06015,-109.05655,-109.05305,-109.05158,-109.05119,-109.05077,-109.05132,-109.05077,-109.05087,-109.05088,-109.05093,-109.05088,-109.05051,-109.04899,-109.04907,-109.05008,-109.03134,-108.83854,-108.6996,-108.59802,-108.46524,-108.25764,-108.10567,-107.91411,-107.75063,-107.55479,-107.35937,-107.27483,-107.12561,-106.9166,-106.59389,-106.32621,-106.06118,-105.82273,-105.60473,-105.46928,-105.2756,-105.07514,-104.86787,-104.58704,-104.24506,-104.0535,-104.05325,-104.05153,-103.90732,-103.61529,-103.46471,-103.30624,-103.00202,-102.88728,-102.76668,-102.55879,-102.38345,-102.23951,-102.12861,-102.05156,-102.05154,-102.05152,-102.05145,-102.05143,-102.05144,-102.05144,-102.0515,-102.0515,-102.05152,-102.05131,-102.05145,-102.05176,-102.05176,-102.05174,-102.05174,-102.05139,-102.0506,-102.04955,-102.04907,-102.04875,-102.04802,-102.04541,-102.04514,-102.04524,-102.04494,-102.04501,-102.04479,-102.04452,-102.04447,-102.04431,-102.04456,-102.04402,-102.04286,-102.04166,-102.04179,-102.04178,-102.04192,-102.04196,-102.04199,-102.0421,-102.04209,-102.04538,-102.05418,-102.07425,-102.09059,-102.17511,-102.19751,-102.24848,-102.26493,-102.29933,-102.34378,-102.35537,-102.40232,-102.49444,-102.52468,-102.57091,-102.62547,-102.68337,-102.7059,-102.77324,-102.81507,-102.86545,-102.89315,-102.9279,-102.97961,-102.98698,-103.00214,-103.0022,-103.01356,-103.26061,-103.53892,-103.92627,-104.17265,-104.49245,-104.76311,-105.15658,-105.50752,-105.6576,-105.93761,-106.15386,-106.4654,-106.61906,-106.73137,-106.89142,-107.00562,-107.25094,-107.4121,-107.49519,-107.8669,-108.20233,-108.52833,-108.7496,-108.8978,-109.04518,-109.04522,-109.04531,-109.04519,-109.04583,-109.04582,-109.04191,-109.04159,-109.04304,-109.04232,-109.0498,-103.55583,-104.00265,-104.64165,-105.14679,-105.90075,-106.55721,-106.63119,-106.62216,-106.63325,-106.61103,-106.54568,-106.52834,-106.52861,-106.53181,-106.55963,-106.56993,-106.60042,-106.61408,-106.62967,-106.67613,-106.68194,-106.7505,-106.75874,-106.77057,-106.82052,-106.87555,-106.89949,-106.93928,-106.96546,-106.98754,-106.99317,-106.99823,-106.99882,-107.00056,-107.12556,-107.2773,-107.29766,-107.3093,-107.32402,-107.35469,-107.37629,-107.39716,-107.42244,-107.47074,-107.50261,-107.53069,-107.5835,-107.62497,-107.6266,-107.62774,-107.62988,-107.63241,-107.63786,-107.64356,-107.65173,-107.66987,-107.70084,-107.70821,-107.75058,-107.7889,-107.84105,-107.86238,-107.8711,-107.88551,-107.90473,-107.964,-108.00059,-108.044,-108.05664,-108.07876,-108.08267,-108.1052,-108.15227,-108.17096,-108.1986,-108.20839,-108.20844,-108.20841,-108.2084,-108.20838,-108.20837,-108.2083,-108.20814,-108.20819,-108.20835,-108.20869,-108.20855,-108.20852,-108.20849,-108.20839,-108.20848,-108.20854,-108.20857,-108.36757,-108.38904,-108.44606,-108.47535,-108.53011,-108.61731,-108.65709,-108.70766,-108.71907,-108.72702,-108.73503,-108.73904,-108.7506,-108.75906,-108.82206,-108.86103,-108.88692,-109.00061,-109.05004,-109.05004,-109.04911,-109.04905,-109.04811,-109.04764,-109.04762,-109.0474,-109.04691,-109.047,-109.04692,-109.04633,-109.04603,-109.04598,-109.04644,-109.04662,-109.04636,-109.04621,-109.04606,-109.04578,-109.04601,-109.04575,-109.04579,-109.04547,-109.04544,-109.04531,-109.04522,-109.04522,-109.04518,-108.8978,-108.7496,-108.52833,-108.20233,-107.8669,-107.49519,-107.4121,-107.25094,-107.00562,-106.89142,-106.73137,-106.61906,-106.4654,-106.15386,-105.93761,-105.6576,-105.50752,-105.15658,-104.76311,-104.49245,-104.17265,-103.92627,-103.53892,-103.26061,-103.01356,-103.0022,-103.0022,-103.00232,-103.00232,-103.00228,-103.00227,-103.00224,-103.00223,-103.00218,-103.00206,-103.00213,-103.00215,-103.0021,-103.00214,-103.00218,-103.00237,-103.00218,-103.0023,-103.00226,-103.00223,-103.00226,-103.0023,-103.00233,-103.00233,-103.00228,-103.00228,-103.00245,-103.00243,-103.02394,-103.04133,-103.04249,-103.04239,-103.04283,-103.04312,-103.04338,-103.04362,-103.04374,-103.04376,-103.04993,-103.05727,-103.06464,-103.06478,-103.53275,-114.04392,-114.04391,-114.04375,-114.04195,-114.04061,-114.04055,-114.0398,-114.04172,-114.0391,-113.80254,-113.64886,-113.49562,-113.36362,-113.20505,-113.10627,-112.96233,-112.83266,-112.78175,-112.68558,-112.58229,-112.45023,-112.26534,-112.1985,-112.10309,-111.98965,-111.9304,-111.88098,-111.82932,-111.73177,-111.51913,-111.4087,-111.26009,-111.14884,-111.04934,-111.04669,-111.04682,-111.04631,-111.04601,-111.0458,-111.04611,-111.04648,-111.04667,-111.04688,-111.04686,-110.94406,-110.86384,-110.70521,-110.55878,-110.43401,-110.34177,-110.25071,-110.14713,-110.0004,-109.90645,-109.75044,-109.67348,-109.63381,-109.51776,-109.43099,-109.30329,-109.05847,-109.05008,-109.04907,-109.04899,-109.05051,-109.05088,-109.05093,-109.05088,-109.05087,-109.05077,-109.05132,-109.05077,-109.05119,-109.05158,-109.05305,-109.05655,-109.06015,-109.06017,-109.04984,-109.0498,-109.04232,-109.04304,-109.04159,-109.04191,-109.04582,-109.04583,-109.04519,-109.04531,-109.04522,-109.04538,-109.26993,-109.43568,-109.83491,-110.13851,-110.272,-110.54945,-110.73783,-111.03957,-111.2523,-111.39598,-111.58602,-111.99142,-112.32985,-112.48455,-112.75086,-112.96895,-112.99281,-113.02079,-113.17698,-113.32097,-113.4727,-113.62465,-113.86852,-113.94557,-114.05052,-114.0506,-114.05187,-114.05264,-114.05198,-114.04939,-114.05013,-114.04997,-114.04992,-114.04916,-114.04833,-114.04885,-114.04841,-114.04779,-114.0473,-114.04757,-114.04727,-114.04658,-114.04644,-114.04619,-114.04558],\"y\":[34.87057,35.00186,35.00332,35.07971,35.11791,35.14231,35.21811,35.37012,35.49125,35.5417,35.60517,35.66942,35.73579,35.81412,35.86436,35.9167,35.98542,36.05493,36.11546,36.15058,36.10119,36.01461,36.09833,36.21464,36.37619,36.60322,36.817,36.99997,37.0004,37.0004,36.99998,36.99998,36.99998,36.99998,36.99998,36.99998,37.00022,37.00017,37.00012,37.00048,37.00094,37.00105,37.00097,37.00166,37.00147,37.00102,37.00247,37.00325,37.00383,36.99828,36.99845,36.99831,36.9991,36.99926,36.99908,36.99908,36.99897,36.8531,36.70384,36.54513,36.41637,36.29154,36.18724,36.03128,35.93088,35.81044,35.65092,35.45859,35.30697,34.91388,34.71264,34.44558,34.08446,33.71335,33.3477,33.07165,32.70386,32.40743,32.1771,31.87069,31.63698,31.3325,31.33252,31.3338,31.33396,31.334,31.33394,31.33406,31.33393,31.33408,31.33399,31.33341,31.33363,31.33296,31.33299,31.33305,31.33363,31.33328,31.33281,31.33283,31.33257,31.34898,31.38586,31.40231,31.41305,31.42333,31.43196,31.45068,31.46195,31.4678,31.47995,31.49099,31.50825,31.51945,31.54305,31.56227,31.6012,31.61823,31.62425,31.63623,31.65645,31.67094,31.67701,31.69377,31.72891,31.75165,31.76301,31.78954,31.80473,31.82357,31.83702,31.8513,31.86132,31.87666,31.88514,31.89671,31.90787,31.99917,32.0054,32.02905,32.12566,32.17992,32.21797,32.2376,32.28088,32.31044,32.32538,32.33509,32.36468,32.43408,32.48373,32.49526,32.50602,32.50999,32.51839,32.52419,32.53277,32.54351,32.55396,32.56772,32.56625,32.56133,32.57093,32.58137,32.5955,32.60317,32.61295,32.6238,32.62325,32.6247,32.63705,32.65006,32.66489,32.66985,32.67414,32.6785,32.68221,32.68517,32.68732,32.6986,32.70545,32.71192,32.71829,32.71943,32.73946,32.73137,32.73487,32.87408,32.97206,33.03255,33.23376,33.39691,33.47131,33.58709,33.6969,33.84446,33.91285,33.96372,34.04257,34.12866,34.17212,34.31087,34.41527,34.47903,34.64288,34.71453,34.79181,34.86997,38.215,38.40118,38.60929,38.81393,38.95788,39.11656,39.22605,39.36423,39.56752,39.79876,40.03782,40.18844,40.2929,40.41493,40.50615,40.68445,40.87296,41.00066,41.00051,41.00013,41.0001,40.99996,41.00008,41.00011,41.00139,41.00205,41.00197,41.00228,41.00305,41.00283,41.00305,41.00315,41.00213,40.99927,40.997,40.99701,40.99722,40.99766,40.99818,40.9983,40.99826,41.00153,41.00162,41.00139,41.00141,41.00153,41.00166,41.0017,41.00185,41.00191,41.00239,41.00231,41.00234,41.00243,41.00245,41.00235,41.00247,40.97899,40.9255,40.87501,40.82214,40.75901,40.71742,40.69984,40.65115,40.61334,40.55651,40.48846,40.31022,40.1605,40.01399,40.00308,40.00061,39.87098,39.67645,39.53889,39.40853,39.33572,39.24305,38.84279,38.66387,38.59586,38.52933,38.47219,38.41997,38.30634,38.26504,38.17556,38.05734,37.94303,37.80941,37.68749,37.49347,37.45597,37.3385,37.22191,37.10676,36.99352,36.99302,36.99306,36.99305,36.99311,36.99325,36.99357,36.99367,36.9942,36.99439,36.99425,36.99441,36.99457,36.99479,36.99494,36.99487,36.99513,36.99504,36.9952,36.99557,36.99885,36.99977,36.99959,36.99944,36.99908,36.99855,36.99852,37.0001,37.0001,37.00021,36.99956,36.99892,36.99669,36.99511,36.99367,36.9935,36.99527,36.99589,36.99578,36.99556,36.99469,36.99378,36.99303,36.99263,37.00014,37.00001,37.00001,37.0,37.00001,37.0,36.99924,36.99927,36.99887,36.99885,36.99908,36.99908,37.01706,37.09597,37.20443,37.35363,37.5667,37.7899,37.97469,38.10272,38.21472,32.00032,32.00001,32.00041,32.0005,32.00198,32.00076,31.98981,31.93601,31.90997,31.84661,31.8054,31.78318,31.78328,31.78391,31.78394,31.78395,31.78399,31.784,31.78409,31.78395,31.78393,31.78371,31.78394,31.78404,31.78385,31.78384,31.78379,31.78378,31.78381,31.7837,31.78369,31.78367,31.78367,31.78355,31.78354,31.78377,31.78367,31.78366,31.78367,31.78365,31.78367,31.78365,31.7836,31.78365,31.78366,31.78365,31.78369,31.78365,31.78374,31.78374,31.78374,31.78374,31.7837,31.78371,31.78371,31.78368,31.78368,31.78368,31.78361,31.78363,31.78365,31.7836,31.78359,31.78359,31.7836,31.78363,31.78365,31.78361,31.78357,31.78351,31.7835,31.78353,31.78357,31.78358,31.78359,31.7836,31.74465,31.72969,31.72323,31.7194,31.71733,31.68878,31.62561,31.58935,31.5608,31.52581,31.50105,31.4998,31.47883,31.42917,31.37656,31.3561,31.3334,31.3334,31.33341,31.33347,31.33344,31.33336,31.33329,31.33323,31.33319,31.33307,31.33298,31.3329,31.33285,31.33273,31.33261,31.33226,31.33232,31.33231,31.33217,31.33224,31.3325,31.63698,31.87069,32.1771,32.40743,32.70386,33.07165,33.3477,33.71335,34.08446,34.44558,34.71264,34.91388,35.30697,35.45859,35.65092,35.81044,35.93088,36.03128,36.18724,36.29154,36.41637,36.54513,36.70384,36.8531,36.99897,36.99908,36.99908,36.99885,36.99887,36.99927,36.99924,37.0,37.00001,37.0,37.00001,37.00001,37.00014,36.99263,36.99303,36.99378,36.99469,36.99556,36.99578,36.99589,36.99527,36.9935,36.99367,36.99511,36.99669,36.99892,36.99956,37.00021,37.0001,37.00006,36.9686,36.95031,36.91582,36.91402,36.90243,36.89755,36.86996,36.81735,36.76898,36.74295,36.7193,36.7013,36.68525,36.67653,36.65329,36.6278,36.60265,36.5919,36.56927,36.56386,36.54875,36.52963,36.51475,36.50609,36.50046,36.5004,36.50042,35.76515,35.21202,35.1362,34.88888,34.67259,34.53564,34.40999,34.27181,34.03983,33.71754,33.35051,33.00011,32.59516,32.00034,40.68928,40.68985,40.76026,41.05548,41.36,41.59062,41.89425,41.99372,41.99367,41.98895,41.99102,41.99331,41.99384,41.99645,41.99735,41.99841,41.99938,41.99973,42.00021,42.00054,42.00099,42.00111,42.00116,41.99763,41.99834,41.99861,41.99856,41.99875,41.99926,41.99951,42.00063,42.00132,42.00154,42.00159,42.00157,42.00034,41.83664,41.64119,41.52149,41.41513,41.36572,41.20441,41.10318,41.00917,40.9976,40.99725,40.99635,40.99635,40.99485,40.99533,40.99609,40.99634,40.99734,40.99766,40.99797,40.99841,40.9983,40.99871,40.99964,41.00064,41.00069,41.00066,40.87296,40.68445,40.50615,40.41493,40.2929,40.18844,40.03782,39.79876,39.56752,39.36423,39.22605,39.11656,38.95788,38.81393,38.60929,38.40118,38.215,38.21472,38.10272,37.97469,37.7899,37.5667,37.35363,37.20443,37.09597,37.01706,36.99908,36.99908,36.99926,36.9991,36.99831,36.99845,36.99828,37.00383,37.00325,37.00247,37.00102,37.00147,37.00166,37.00097,37.00105,37.00094,37.00048,37.00012,37.00017,37.00022,36.99998,36.99998,36.99998,36.99998,36.99998,36.99998,37.0004,37.0004,37.13439,37.47222,37.70735,37.77873,37.95499,38.20495,38.55049,38.75165,38.90545,39.08777,39.23851,39.36296,39.45715,39.61018,39.75817,39.99994,40.09896,40.30302,40.4958]}},\"id\":\"d541bbc2-4f25-414d-b917-aef55911c8ac\",\"type\":\"ColumnDataSource\"},{\"attributes\":{\"plot\":null,\"text\":\"\"},\"id\":\"c8c3ce1e-dbf0-434e-b1f4-e28d76581215\",\"type\":\"Title\"},{\"attributes\":{\"fill_color\":{\"value\":\"white\"},\"size\":{\"units\":\"screen\",\"value\":5},\"x\":{\"field\":\"x\"},\"y\":{\"field\":\"y\"}},\"id\":\"eac56e5b-441d-4542-9b30-9b6fe050b724\",\"type\":\"Circle\"},{\"attributes\":{\"callback\":null,\"column_names\":[\"x\",\"y\"],\"data\":{\"x\":[-114.63332,-114.63349,-114.63423,-114.60899,-114.63064,-114.57354,-114.58031,-114.61121,-114.6768,-114.66076,-114.65449,-114.68702,-114.69704,-114.70415,-114.67489,-114.70883,-114.74365,-114.73513,-114.6729,-114.51122,-114.32346,-114.22646,-114.1139,-114.04404,-114.04338,-114.04736,-114.05014,-114.0506,-114.0506,-114.05052,-113.94557,-113.86852,-113.62465,-113.4727,-113.32097,-113.17698,-113.02079,-112.99281,-112.96895,-112.75086,-112.48455,-112.32985,-111.99142,-111.58602,-111.39598,-111.2523,-111.03957,-110.73783,-110.54945,-110.272,-110.13851,-109.83491,-109.43568,-109.26993,-109.04538,-109.04522,-109.04522,-109.04531,-109.04544,-109.04547,-109.04579,-109.04575,-109.04601,-109.04578,-109.04606,-109.04621,-109.04636,-109.04662,-109.04644,-109.04598,-109.04603,-109.04633,-109.04692,-109.047,-109.04691,-109.0474,-109.04762,-109.04764,-109.04811,-109.04905,-109.04911,-109.05004,-109.0587,-109.25062,-109.30069,-109.33682,-109.38186,-109.45105,-109.5287,-109.62562,-109.79302,-109.97582,-110.20503,-110.49327,-110.56918,-110.65415,-110.77828,-110.87564,-110.93778,-110.94286,-110.97553,-111.12565,-111.24082,-111.29191,-111.32558,-111.3574,-111.38483,-111.44337,-111.47861,-111.49725,-111.53479,-111.56975,-111.62412,-111.66,-111.73365,-111.79498,-111.9182,-111.97172,-111.99115,-112.02937,-112.09379,-112.13972,-112.15906,-112.21295,-112.32605,-112.39932,-112.43603,-112.52208,-112.57141,-112.63294,-112.67695,-112.72356,-112.75567,-112.8055,-112.83423,-112.8711,-112.90863,-113.20884,-113.2279,-113.30314,-113.61086,-113.78489,-113.90756,-113.97121,-114.11135,-114.20719,-114.25559,-114.28755,-114.38472,-114.61337,-114.77804,-114.81394,-114.81518,-114.80524,-114.81037,-114.81335,-114.80551,-114.80529,-114.79282,-114.79206,-114.79555,-114.81362,-114.80894,-114.80404,-114.80093,-114.80804,-114.80891,-114.80192,-114.79518,-114.7819,-114.77309,-114.76427,-114.74805,-114.74638,-114.74505,-114.74456,-114.74203,-114.74,-114.73874,-114.73062,-114.72924,-114.72377,-114.71994,-114.71919,-114.69096,-114.63501,-114.58576,-114.46563,-114.48131,-114.62973,-114.68157,-114.72123,-114.61185,-114.5402,-114.49649,-114.52801,-114.51318,-114.49813,-114.4355,-114.35765,-114.26017,-114.14737,-114.29195,-114.38169,-114.44166,-114.48236,-114.56953,-114.63305,-109.04984,-109.06017,-109.06015,-109.05655,-109.05305,-109.05158,-109.05119,-109.05077,-109.05132,-109.05077,-109.05087,-109.05088,-109.05093,-109.05088,-109.05051,-109.04899,-109.04907,-109.05008,-109.03134,-108.83854,-108.6996,-108.59802,-108.46524,-108.25764,-108.10567,-107.91411,-107.75063,-107.55479,-107.35937,-107.27483,-107.12561,-106.9166,-106.59389,-106.32621,-106.06118,-105.82273,-105.60473,-105.46928,-105.2756,-105.07514,-104.86787,-104.58704,-104.24506,-104.0535,-104.05325,-104.05153,-103.90732,-103.61529,-103.46471,-103.30624,-103.00202,-102.88728,-102.76668,-102.55879,-102.38345,-102.23951,-102.12861,-102.05156,-102.05154,-102.05152,-102.05145,-102.05143,-102.05144,-102.05144,-102.0515,-102.0515,-102.05152,-102.05131,-102.05145,-102.05176,-102.05176,-102.05174,-102.05174,-102.05139,-102.0506,-102.04955,-102.04907,-102.04875,-102.04802,-102.04541,-102.04514,-102.04524,-102.04494,-102.04501,-102.04479,-102.04452,-102.04447,-102.04431,-102.04456,-102.04402,-102.04286,-102.04166,-102.04179,-102.04178,-102.04192,-102.04196,-102.04199,-102.0421,-102.04209,-102.04538,-102.05418,-102.07425,-102.09059,-102.17511,-102.19751,-102.24848,-102.26493,-102.29933,-102.34378,-102.35537,-102.40232,-102.49444,-102.52468,-102.57091,-102.62547,-102.68337,-102.7059,-102.77324,-102.81507,-102.86545,-102.89315,-102.9279,-102.97961,-102.98698,-103.00214,-103.0022,-103.01356,-103.26061,-103.53892,-103.92627,-104.17265,-104.49245,-104.76311,-105.15658,-105.50752,-105.6576,-105.93761,-106.15386,-106.4654,-106.61906,-106.73137,-106.89142,-107.00562,-107.25094,-107.4121,-107.49519,-107.8669,-108.20233,-108.52833,-108.7496,-108.8978,-109.04518,-109.04522,-109.04531,-109.04519,-109.04583,-109.04582,-109.04191,-109.04159,-109.04304,-109.04232,-109.0498,-103.55583,-104.00265,-104.64165,-105.14679,-105.90075,-106.55721,-106.63119,-106.62216,-106.63325,-106.61103,-106.54568,-106.52834,-106.52861,-106.53181,-106.55963,-106.56993,-106.60042,-106.61408,-106.62967,-106.67613,-106.68194,-106.7505,-106.75874,-106.77057,-106.82052,-106.87555,-106.89949,-106.93928,-106.96546,-106.98754,-106.99317,-106.99823,-106.99882,-107.00056,-107.12556,-107.2773,-107.29766,-107.3093,-107.32402,-107.35469,-107.37629,-107.39716,-107.42244,-107.47074,-107.50261,-107.53069,-107.5835,-107.62497,-107.6266,-107.62774,-107.62988,-107.63241,-107.63786,-107.64356,-107.65173,-107.66987,-107.70084,-107.70821,-107.75058,-107.7889,-107.84105,-107.86238,-107.8711,-107.88551,-107.90473,-107.964,-108.00059,-108.044,-108.05664,-108.07876,-108.08267,-108.1052,-108.15227,-108.17096,-108.1986,-108.20839,-108.20844,-108.20841,-108.2084,-108.20838,-108.20837,-108.2083,-108.20814,-108.20819,-108.20835,-108.20869,-108.20855,-108.20852,-108.20849,-108.20839,-108.20848,-108.20854,-108.20857,-108.36757,-108.38904,-108.44606,-108.47535,-108.53011,-108.61731,-108.65709,-108.70766,-108.71907,-108.72702,-108.73503,-108.73904,-108.7506,-108.75906,-108.82206,-108.86103,-108.88692,-109.00061,-109.05004,-109.05004,-109.04911,-109.04905,-109.04811,-109.04764,-109.04762,-109.0474,-109.04691,-109.047,-109.04692,-109.04633,-109.04603,-109.04598,-109.04644,-109.04662,-109.04636,-109.04621,-109.04606,-109.04578,-109.04601,-109.04575,-109.04579,-109.04547,-109.04544,-109.04531,-109.04522,-109.04522,-109.04518,-108.8978,-108.7496,-108.52833,-108.20233,-107.8669,-107.49519,-107.4121,-107.25094,-107.00562,-106.89142,-106.73137,-106.61906,-106.4654,-106.15386,-105.93761,-105.6576,-105.50752,-105.15658,-104.76311,-104.49245,-104.17265,-103.92627,-103.53892,-103.26061,-103.01356,-103.0022,-103.0022,-103.00232,-103.00232,-103.00228,-103.00227,-103.00224,-103.00223,-103.00218,-103.00206,-103.00213,-103.00215,-103.0021,-103.00214,-103.00218,-103.00237,-103.00218,-103.0023,-103.00226,-103.00223,-103.00226,-103.0023,-103.00233,-103.00233,-103.00228,-103.00228,-103.00245,-103.00243,-103.02394,-103.04133,-103.04249,-103.04239,-103.04283,-103.04312,-103.04338,-103.04362,-103.04374,-103.04376,-103.04993,-103.05727,-103.06464,-103.06478,-103.53275,-114.04392,-114.04391,-114.04375,-114.04195,-114.04061,-114.04055,-114.0398,-114.04172,-114.0391,-113.80254,-113.64886,-113.49562,-113.36362,-113.20505,-113.10627,-112.96233,-112.83266,-112.78175,-112.68558,-112.58229,-112.45023,-112.26534,-112.1985,-112.10309,-111.98965,-111.9304,-111.88098,-111.82932,-111.73177,-111.51913,-111.4087,-111.26009,-111.14884,-111.04934,-111.04669,-111.04682,-111.04631,-111.04601,-111.0458,-111.04611,-111.04648,-111.04667,-111.04688,-111.04686,-110.94406,-110.86384,-110.70521,-110.55878,-110.43401,-110.34177,-110.25071,-110.14713,-110.0004,-109.90645,-109.75044,-109.67348,-109.63381,-109.51776,-109.43099,-109.30329,-109.05847,-109.05008,-109.04907,-109.04899,-109.05051,-109.05088,-109.05093,-109.05088,-109.05087,-109.05077,-109.05132,-109.05077,-109.05119,-109.05158,-109.05305,-109.05655,-109.06015,-109.06017,-109.04984,-109.0498,-109.04232,-109.04304,-109.04159,-109.04191,-109.04582,-109.04583,-109.04519,-109.04531,-109.04522,-109.04538,-109.26993,-109.43568,-109.83491,-110.13851,-110.272,-110.54945,-110.73783,-111.03957,-111.2523,-111.39598,-111.58602,-111.99142,-112.32985,-112.48455,-112.75086,-112.96895,-112.99281,-113.02079,-113.17698,-113.32097,-113.4727,-113.62465,-113.86852,-113.94557,-114.05052,-114.0506,-114.05187,-114.05264,-114.05198,-114.04939,-114.05013,-114.04997,-114.04992,-114.04916,-114.04833,-114.04885,-114.04841,-114.04779,-114.0473,-114.04757,-114.04727,-114.04658,-114.04644,-114.04619,-114.04558],\"y\":[34.87057,35.00186,35.00332,35.07971,35.11791,35.14231,35.21811,35.37012,35.49125,35.5417,35.60517,35.66942,35.73579,35.81412,35.86436,35.9167,35.98542,36.05493,36.11546,36.15058,36.10119,36.01461,36.09833,36.21464,36.37619,36.60322,36.817,36.99997,37.0004,37.0004,36.99998,36.99998,36.99998,36.99998,36.99998,36.99998,37.00022,37.00017,37.00012,37.00048,37.00094,37.00105,37.00097,37.00166,37.00147,37.00102,37.00247,37.00325,37.00383,36.99828,36.99845,36.99831,36.9991,36.99926,36.99908,36.99908,36.99897,36.8531,36.70384,36.54513,36.41637,36.29154,36.18724,36.03128,35.93088,35.81044,35.65092,35.45859,35.30697,34.91388,34.71264,34.44558,34.08446,33.71335,33.3477,33.07165,32.70386,32.40743,32.1771,31.87069,31.63698,31.3325,31.33252,31.3338,31.33396,31.334,31.33394,31.33406,31.33393,31.33408,31.33399,31.33341,31.33363,31.33296,31.33299,31.33305,31.33363,31.33328,31.33281,31.33283,31.33257,31.34898,31.38586,31.40231,31.41305,31.42333,31.43196,31.45068,31.46195,31.4678,31.47995,31.49099,31.50825,31.51945,31.54305,31.56227,31.6012,31.61823,31.62425,31.63623,31.65645,31.67094,31.67701,31.69377,31.72891,31.75165,31.76301,31.78954,31.80473,31.82357,31.83702,31.8513,31.86132,31.87666,31.88514,31.89671,31.90787,31.99917,32.0054,32.02905,32.12566,32.17992,32.21797,32.2376,32.28088,32.31044,32.32538,32.33509,32.36468,32.43408,32.48373,32.49526,32.50602,32.50999,32.51839,32.52419,32.53277,32.54351,32.55396,32.56772,32.56625,32.56133,32.57093,32.58137,32.5955,32.60317,32.61295,32.6238,32.62325,32.6247,32.63705,32.65006,32.66489,32.66985,32.67414,32.6785,32.68221,32.68517,32.68732,32.6986,32.70545,32.71192,32.71829,32.71943,32.73946,32.73137,32.73487,32.87408,32.97206,33.03255,33.23376,33.39691,33.47131,33.58709,33.6969,33.84446,33.91285,33.96372,34.04257,34.12866,34.17212,34.31087,34.41527,34.47903,34.64288,34.71453,34.79181,34.86997,38.215,38.40118,38.60929,38.81393,38.95788,39.11656,39.22605,39.36423,39.56752,39.79876,40.03782,40.18844,40.2929,40.41493,40.50615,40.68445,40.87296,41.00066,41.00051,41.00013,41.0001,40.99996,41.00008,41.00011,41.00139,41.00205,41.00197,41.00228,41.00305,41.00283,41.00305,41.00315,41.00213,40.99927,40.997,40.99701,40.99722,40.99766,40.99818,40.9983,40.99826,41.00153,41.00162,41.00139,41.00141,41.00153,41.00166,41.0017,41.00185,41.00191,41.00239,41.00231,41.00234,41.00243,41.00245,41.00235,41.00247,40.97899,40.9255,40.87501,40.82214,40.75901,40.71742,40.69984,40.65115,40.61334,40.55651,40.48846,40.31022,40.1605,40.01399,40.00308,40.00061,39.87098,39.67645,39.53889,39.40853,39.33572,39.24305,38.84279,38.66387,38.59586,38.52933,38.47219,38.41997,38.30634,38.26504,38.17556,38.05734,37.94303,37.80941,37.68749,37.49347,37.45597,37.3385,37.22191,37.10676,36.99352,36.99302,36.99306,36.99305,36.99311,36.99325,36.99357,36.99367,36.9942,36.99439,36.99425,36.99441,36.99457,36.99479,36.99494,36.99487,36.99513,36.99504,36.9952,36.99557,36.99885,36.99977,36.99959,36.99944,36.99908,36.99855,36.99852,37.0001,37.0001,37.00021,36.99956,36.99892,36.99669,36.99511,36.99367,36.9935,36.99527,36.99589,36.99578,36.99556,36.99469,36.99378,36.99303,36.99263,37.00014,37.00001,37.00001,37.0,37.00001,37.0,36.99924,36.99927,36.99887,36.99885,36.99908,36.99908,37.01706,37.09597,37.20443,37.35363,37.5667,37.7899,37.97469,38.10272,38.21472,32.00032,32.00001,32.00041,32.0005,32.00198,32.00076,31.98981,31.93601,31.90997,31.84661,31.8054,31.78318,31.78328,31.78391,31.78394,31.78395,31.78399,31.784,31.78409,31.78395,31.78393,31.78371,31.78394,31.78404,31.78385,31.78384,31.78379,31.78378,31.78381,31.7837,31.78369,31.78367,31.78367,31.78355,31.78354,31.78377,31.78367,31.78366,31.78367,31.78365,31.78367,31.78365,31.7836,31.78365,31.78366,31.78365,31.78369,31.78365,31.78374,31.78374,31.78374,31.78374,31.7837,31.78371,31.78371,31.78368,31.78368,31.78368,31.78361,31.78363,31.78365,31.7836,31.78359,31.78359,31.7836,31.78363,31.78365,31.78361,31.78357,31.78351,31.7835,31.78353,31.78357,31.78358,31.78359,31.7836,31.74465,31.72969,31.72323,31.7194,31.71733,31.68878,31.62561,31.58935,31.5608,31.52581,31.50105,31.4998,31.47883,31.42917,31.37656,31.3561,31.3334,31.3334,31.33341,31.33347,31.33344,31.33336,31.33329,31.33323,31.33319,31.33307,31.33298,31.3329,31.33285,31.33273,31.33261,31.33226,31.33232,31.33231,31.33217,31.33224,31.3325,31.63698,31.87069,32.1771,32.40743,32.70386,33.07165,33.3477,33.71335,34.08446,34.44558,34.71264,34.91388,35.30697,35.45859,35.65092,35.81044,35.93088,36.03128,36.18724,36.29154,36.41637,36.54513,36.70384,36.8531,36.99897,36.99908,36.99908,36.99885,36.99887,36.99927,36.99924,37.0,37.00001,37.0,37.00001,37.00001,37.00014,36.99263,36.99303,36.99378,36.99469,36.99556,36.99578,36.99589,36.99527,36.9935,36.99367,36.99511,36.99669,36.99892,36.99956,37.00021,37.0001,37.00006,36.9686,36.95031,36.91582,36.91402,36.90243,36.89755,36.86996,36.81735,36.76898,36.74295,36.7193,36.7013,36.68525,36.67653,36.65329,36.6278,36.60265,36.5919,36.56927,36.56386,36.54875,36.52963,36.51475,36.50609,36.50046,36.5004,36.50042,35.76515,35.21202,35.1362,34.88888,34.67259,34.53564,34.40999,34.27181,34.03983,33.71754,33.35051,33.00011,32.59516,32.00034,40.68928,40.68985,40.76026,41.05548,41.36,41.59062,41.89425,41.99372,41.99367,41.98895,41.99102,41.99331,41.99384,41.99645,41.99735,41.99841,41.99938,41.99973,42.00021,42.00054,42.00099,42.00111,42.00116,41.99763,41.99834,41.99861,41.99856,41.99875,41.99926,41.99951,42.00063,42.00132,42.00154,42.00159,42.00157,42.00034,41.83664,41.64119,41.52149,41.41513,41.36572,41.20441,41.10318,41.00917,40.9976,40.99725,40.99635,40.99635,40.99485,40.99533,40.99609,40.99634,40.99734,40.99766,40.99797,40.99841,40.9983,40.99871,40.99964,41.00064,41.00069,41.00066,40.87296,40.68445,40.50615,40.41493,40.2929,40.18844,40.03782,39.79876,39.56752,39.36423,39.22605,39.11656,38.95788,38.81393,38.60929,38.40118,38.215,38.21472,38.10272,37.97469,37.7899,37.5667,37.35363,37.20443,37.09597,37.01706,36.99908,36.99908,36.99926,36.9991,36.99831,36.99845,36.99828,37.00383,37.00325,37.00247,37.00102,37.00147,37.00166,37.00097,37.00105,37.00094,37.00048,37.00012,37.00017,37.00022,36.99998,36.99998,36.99998,36.99998,36.99998,36.99998,37.0004,37.0004,37.13439,37.47222,37.70735,37.77873,37.95499,38.20495,38.55049,38.75165,38.90545,39.08777,39.23851,39.36296,39.45715,39.61018,39.75817,39.99994,40.09896,40.30302,40.4958]}},\"id\":\"4cab8616-6d13-4167-a619-d615d98151d4\",\"type\":\"ColumnDataSource\"},{\"attributes\":{\"fill_alpha\":{\"value\":0.1},\"fill_color\":{\"value\":\"#1f77b4\"},\"line_alpha\":{\"value\":0.1},\"line_color\":{\"value\":\"#1f77b4\"},\"size\":{\"units\":\"screen\",\"value\":5},\"x\":{\"field\":\"x\"},\"y\":{\"field\":\"y\"}},\"id\":\"6f7b8276-5ec5-4e22-940f-77dc79db16e6\",\"type\":\"Circle\"},{\"attributes\":{\"bottom_units\":\"screen\",\"fill_alpha\":{\"value\":0.5},\"fill_color\":{\"value\":\"lightgrey\"},\"left_units\":\"screen\",\"level\":\"overlay\",\"line_alpha\":{\"value\":1.0},\"line_color\":{\"value\":\"black\"},\"line_dash\":[4,4],\"line_width\":{\"value\":2},\"plot\":null,\"render_mode\":\"css\",\"right_units\":\"screen\",\"top_units\":\"screen\"},\"id\":\"9a3f5871-0d95-4ca4-aa18-d2eb32c403a9\",\"type\":\"BoxAnnotation\"},{\"attributes\":{\"data_source\":{\"id\":\"d541bbc2-4f25-414d-b917-aef55911c8ac\",\"type\":\"ColumnDataSource\"},\"glyph\":{\"id\":\"eac56e5b-441d-4542-9b30-9b6fe050b724\",\"type\":\"Circle\"},\"hover_glyph\":null,\"muted_glyph\":null,\"nonselection_glyph\":{\"id\":\"6f7b8276-5ec5-4e22-940f-77dc79db16e6\",\"type\":\"Circle\"},\"selection_glyph\":null,\"view\":{\"id\":\"76c51f13-f890-4931-b673-bf54d7c57c30\",\"type\":\"CDSView\"}},\"id\":\"1ac85858-edc1-491f-8d6b-26ff3a6aaf4d\",\"type\":\"GlyphRenderer\"},{\"attributes\":{\"source\":{\"id\":\"d541bbc2-4f25-414d-b917-aef55911c8ac\",\"type\":\"ColumnDataSource\"}},\"id\":\"76c51f13-f890-4931-b673-bf54d7c57c30\",\"type\":\"CDSView\"},{\"attributes\":{},\"id\":\"69910008-0781-4ebe-ba78-b1452437ffce\",\"type\":\"WheelZoomTool\"},{\"attributes\":{\"plot\":{\"id\":\"a1a6b406-9973-4b54-bd02-85faf627180e\",\"subtype\":\"Figure\",\"type\":\"Plot\"},\"ticker\":{\"id\":\"46a7a27f-50d9-48af-ba60-d10bac7ce733\",\"type\":\"BasicTicker\"}},\"id\":\"97f3b982-c3cf-4470-9569-06beaab2e45e\",\"type\":\"Grid\"},{\"attributes\":{\"fill_color\":{\"value\":\"white\"},\"size\":{\"units\":\"screen\",\"value\":5},\"x\":{\"field\":\"x\"},\"y\":{\"field\":\"y\"}},\"id\":\"3e397872-59c6-415f-a9ca-0d0194c065ba\",\"type\":\"Circle\"},{\"attributes\":{\"overlay\":{\"id\":\"9a3f5871-0d95-4ca4-aa18-d2eb32c403a9\",\"type\":\"BoxAnnotation\"}},\"id\":\"fefa5322-a8bc-4d76-9262-67c85f9617c3\",\"type\":\"BoxZoomTool\"},{\"attributes\":{\"fill_alpha\":{\"value\":0.1},\"fill_color\":{\"value\":\"#1f77b4\"},\"line_alpha\":{\"value\":0.1},\"line_color\":{\"value\":\"#1f77b4\"},\"size\":{\"units\":\"screen\",\"value\":5},\"x\":{\"field\":\"x\"},\"y\":{\"field\":\"y\"}},\"id\":\"26870728-93c8-4e09-928a-0734b7193a3d\",\"type\":\"Circle\"},{\"attributes\":{\"data_source\":{\"id\":\"6ce120e2-cf0d-4d97-af38-b16528cd3976\",\"type\":\"ColumnDataSource\"},\"glyph\":{\"id\":\"3e397872-59c6-415f-a9ca-0d0194c065ba\",\"type\":\"Circle\"},\"hover_glyph\":null,\"muted_glyph\":null,\"nonselection_glyph\":{\"id\":\"26870728-93c8-4e09-928a-0734b7193a3d\",\"type\":\"Circle\"},\"selection_glyph\":null,\"view\":{\"id\":\"f25a688e-8ed5-48cc-a999-2ac4a8255d0e\",\"type\":\"CDSView\"}},\"id\":\"cf029f07-70a7-480c-a6b6-e738fd4038d5\",\"type\":\"GlyphRenderer\"},{\"attributes\":{},\"id\":\"f8d12be3-7508-48da-bfc2-1e793b41a534\",\"type\":\"SaveTool\"},{\"attributes\":{\"source\":{\"id\":\"6ce120e2-cf0d-4d97-af38-b16528cd3976\",\"type\":\"ColumnDataSource\"}},\"id\":\"f25a688e-8ed5-48cc-a999-2ac4a8255d0e\",\"type\":\"CDSView\"},{\"attributes\":{},\"id\":\"b4687b76-6ada-45a6-814e-07b8d08b7de6\",\"type\":\"PanTool\"},{\"attributes\":{},\"id\":\"ca1e930a-71ae-46fc-855c-43132ac8ad1e\",\"type\":\"BasicTicker\"},{\"attributes\":{\"callback\":null,\"column_names\":[\"x\",\"y\"],\"data\":{\"x\":[-114.63332,-114.63349,-114.63423,-114.60899,-114.63064,-114.57354,-114.58031,-114.61121,-114.6768,-114.66076,-114.65449,-114.68702,-114.69704,-114.70415,-114.67489,-114.70883,-114.74365,-114.73513,-114.6729,-114.51122,-114.32346,-114.22646,-114.1139,-114.04404,-114.04338,-114.04736,-114.05014,-114.0506,-114.0506,-114.05052,-113.94557,-113.86852,-113.62465,-113.4727,-113.32097,-113.17698,-113.02079,-112.99281,-112.96895,-112.75086,-112.48455,-112.32985,-111.99142,-111.58602,-111.39598,-111.2523,-111.03957,-110.73783,-110.54945,-110.272,-110.13851,-109.83491,-109.43568,-109.26993,-109.04538,-109.04522,-109.04522,-109.04531,-109.04544,-109.04547,-109.04579,-109.04575,-109.04601,-109.04578,-109.04606,-109.04621,-109.04636,-109.04662,-109.04644,-109.04598,-109.04603,-109.04633,-109.04692,-109.047,-109.04691,-109.0474,-109.04762,-109.04764,-109.04811,-109.04905,-109.04911,-109.05004,-109.0587,-109.25062,-109.30069,-109.33682,-109.38186,-109.45105,-109.5287,-109.62562,-109.79302,-109.97582,-110.20503,-110.49327,-110.56918,-110.65415,-110.77828,-110.87564,-110.93778,-110.94286,-110.97553,-111.12565,-111.24082,-111.29191,-111.32558,-111.3574,-111.38483,-111.44337,-111.47861,-111.49725,-111.53479,-111.56975,-111.62412,-111.66,-111.73365,-111.79498,-111.9182,-111.97172,-111.99115,-112.02937,-112.09379,-112.13972,-112.15906,-112.21295,-112.32605,-112.39932,-112.43603,-112.52208,-112.57141,-112.63294,-112.67695,-112.72356,-112.75567,-112.8055,-112.83423,-112.8711,-112.90863,-113.20884,-113.2279,-113.30314,-113.61086,-113.78489,-113.90756,-113.97121,-114.11135,-114.20719,-114.25559,-114.28755,-114.38472,-114.61337,-114.77804,-114.81394,-114.81518,-114.80524,-114.81037,-114.81335,-114.80551,-114.80529,-114.79282,-114.79206,-114.79555,-114.81362,-114.80894,-114.80404,-114.80093,-114.80804,-114.80891,-114.80192,-114.79518,-114.7819,-114.77309,-114.76427,-114.74805,-114.74638,-114.74505,-114.74456,-114.74203,-114.74,-114.73874,-114.73062,-114.72924,-114.72377,-114.71994,-114.71919,-114.69096,-114.63501,-114.58576,-114.46563,-114.48131,-114.62973,-114.68157,-114.72123,-114.61185,-114.5402,-114.49649,-114.52801,-114.51318,-114.49813,-114.4355,-114.35765,-114.26017,-114.14737,-114.29195,-114.38169,-114.44166,-114.48236,-114.56953,-114.63305,-109.04984,-109.06017,-109.06015,-109.05655,-109.05305,-109.05158,-109.05119,-109.05077,-109.05132,-109.05077,-109.05087,-109.05088,-109.05093,-109.05088,-109.05051,-109.04899,-109.04907,-109.05008,-109.03134,-108.83854,-108.6996,-108.59802,-108.46524,-108.25764,-108.10567,-107.91411,-107.75063,-107.55479,-107.35937,-107.27483,-107.12561,-106.9166,-106.59389,-106.32621,-106.06118,-105.82273,-105.60473,-105.46928,-105.2756,-105.07514,-104.86787,-104.58704,-104.24506,-104.0535,-104.05325,-104.05153,-103.90732,-103.61529,-103.46471,-103.30624,-103.00202,-102.88728,-102.76668,-102.55879,-102.38345,-102.23951,-102.12861,-102.05156,-102.05154,-102.05152,-102.05145,-102.05143,-102.05144,-102.05144,-102.0515,-102.0515,-102.05152,-102.05131,-102.05145,-102.05176,-102.05176,-102.05174,-102.05174,-102.05139,-102.0506,-102.04955,-102.04907,-102.04875,-102.04802,-102.04541,-102.04514,-102.04524,-102.04494,-102.04501,-102.04479,-102.04452,-102.04447,-102.04431,-102.04456,-102.04402,-102.04286,-102.04166,-102.04179,-102.04178,-102.04192,-102.04196,-102.04199,-102.0421,-102.04209,-102.04538,-102.05418,-102.07425,-102.09059,-102.17511,-102.19751,-102.24848,-102.26493,-102.29933,-102.34378,-102.35537,-102.40232,-102.49444,-102.52468,-102.57091,-102.62547,-102.68337,-102.7059,-102.77324,-102.81507,-102.86545,-102.89315,-102.9279,-102.97961,-102.98698,-103.00214,-103.0022,-103.01356,-103.26061,-103.53892,-103.92627,-104.17265,-104.49245,-104.76311,-105.15658,-105.50752,-105.6576,-105.93761,-106.15386,-106.4654,-106.61906,-106.73137,-106.89142,-107.00562,-107.25094,-107.4121,-107.49519,-107.8669,-108.20233,-108.52833,-108.7496,-108.8978,-109.04518,-109.04522,-109.04531,-109.04519,-109.04583,-109.04582,-109.04191,-109.04159,-109.04304,-109.04232,-109.0498,-103.55583,-104.00265,-104.64165,-105.14679,-105.90075,-106.55721,-106.63119,-106.62216,-106.63325,-106.61103,-106.54568,-106.52834,-106.52861,-106.53181,-106.55963,-106.56993,-106.60042,-106.61408,-106.62967,-106.67613,-106.68194,-106.7505,-106.75874,-106.77057,-106.82052,-106.87555,-106.89949,-106.93928,-106.96546,-106.98754,-106.99317,-106.99823,-106.99882,-107.00056,-107.12556,-107.2773,-107.29766,-107.3093,-107.32402,-107.35469,-107.37629,-107.39716,-107.42244,-107.47074,-107.50261,-107.53069,-107.5835,-107.62497,-107.6266,-107.62774,-107.62988,-107.63241,-107.63786,-107.64356,-107.65173,-107.66987,-107.70084,-107.70821,-107.75058,-107.7889,-107.84105,-107.86238,-107.8711,-107.88551,-107.90473,-107.964,-108.00059,-108.044,-108.05664,-108.07876,-108.08267,-108.1052,-108.15227,-108.17096,-108.1986,-108.20839,-108.20844,-108.20841,-108.2084,-108.20838,-108.20837,-108.2083,-108.20814,-108.20819,-108.20835,-108.20869,-108.20855,-108.20852,-108.20849,-108.20839,-108.20848,-108.20854,-108.20857,-108.36757,-108.38904,-108.44606,-108.47535,-108.53011,-108.61731,-108.65709,-108.70766,-108.71907,-108.72702,-108.73503,-108.73904,-108.7506,-108.75906,-108.82206,-108.86103,-108.88692,-109.00061,-109.05004,-109.05004,-109.04911,-109.04905,-109.04811,-109.04764,-109.04762,-109.0474,-109.04691,-109.047,-109.04692,-109.04633,-109.04603,-109.04598,-109.04644,-109.04662,-109.04636,-109.04621,-109.04606,-109.04578,-109.04601,-109.04575,-109.04579,-109.04547,-109.04544,-109.04531,-109.04522,-109.04522,-109.04518,-108.8978,-108.7496,-108.52833,-108.20233,-107.8669,-107.49519,-107.4121,-107.25094,-107.00562,-106.89142,-106.73137,-106.61906,-106.4654,-106.15386,-105.93761,-105.6576,-105.50752,-105.15658,-104.76311,-104.49245,-104.17265,-103.92627,-103.53892,-103.26061,-103.01356,-103.0022,-103.0022,-103.00232,-103.00232,-103.00228,-103.00227,-103.00224,-103.00223,-103.00218,-103.00206,-103.00213,-103.00215,-103.0021,-103.00214,-103.00218,-103.00237,-103.00218,-103.0023,-103.00226,-103.00223,-103.00226,-103.0023,-103.00233,-103.00233,-103.00228,-103.00228,-103.00245,-103.00243,-103.02394,-103.04133,-103.04249,-103.04239,-103.04283,-103.04312,-103.04338,-103.04362,-103.04374,-103.04376,-103.04993,-103.05727,-103.06464,-103.06478,-103.53275,-114.04392,-114.04391,-114.04375,-114.04195,-114.04061,-114.04055,-114.0398,-114.04172,-114.0391,-113.80254,-113.64886,-113.49562,-113.36362,-113.20505,-113.10627,-112.96233,-112.83266,-112.78175,-112.68558,-112.58229,-112.45023,-112.26534,-112.1985,-112.10309,-111.98965,-111.9304,-111.88098,-111.82932,-111.73177,-111.51913,-111.4087,-111.26009,-111.14884,-111.04934,-111.04669,-111.04682,-111.04631,-111.04601,-111.0458,-111.04611,-111.04648,-111.04667,-111.04688,-111.04686,-110.94406,-110.86384,-110.70521,-110.55878,-110.43401,-110.34177,-110.25071,-110.14713,-110.0004,-109.90645,-109.75044,-109.67348,-109.63381,-109.51776,-109.43099,-109.30329,-109.05847,-109.05008,-109.04907,-109.04899,-109.05051,-109.05088,-109.05093,-109.05088,-109.05087,-109.05077,-109.05132,-109.05077,-109.05119,-109.05158,-109.05305,-109.05655,-109.06015,-109.06017,-109.04984,-109.0498,-109.04232,-109.04304,-109.04159,-109.04191,-109.04582,-109.04583,-109.04519,-109.04531,-109.04522,-109.04538,-109.26993,-109.43568,-109.83491,-110.13851,-110.272,-110.54945,-110.73783,-111.03957,-111.2523,-111.39598,-111.58602,-111.99142,-112.32985,-112.48455,-112.75086,-112.96895,-112.99281,-113.02079,-113.17698,-113.32097,-113.4727,-113.62465,-113.86852,-113.94557,-114.05052,-114.0506,-114.05187,-114.05264,-114.05198,-114.04939,-114.05013,-114.04997,-114.04992,-114.04916,-114.04833,-114.04885,-114.04841,-114.04779,-114.0473,-114.04757,-114.04727,-114.04658,-114.04644,-114.04619,-114.04558],\"y\":[34.87057,35.00186,35.00332,35.07971,35.11791,35.14231,35.21811,35.37012,35.49125,35.5417,35.60517,35.66942,35.73579,35.81412,35.86436,35.9167,35.98542,36.05493,36.11546,36.15058,36.10119,36.01461,36.09833,36.21464,36.37619,36.60322,36.817,36.99997,37.0004,37.0004,36.99998,36.99998,36.99998,36.99998,36.99998,36.99998,37.00022,37.00017,37.00012,37.00048,37.00094,37.00105,37.00097,37.00166,37.00147,37.00102,37.00247,37.00325,37.00383,36.99828,36.99845,36.99831,36.9991,36.99926,36.99908,36.99908,36.99897,36.8531,36.70384,36.54513,36.41637,36.29154,36.18724,36.03128,35.93088,35.81044,35.65092,35.45859,35.30697,34.91388,34.71264,34.44558,34.08446,33.71335,33.3477,33.07165,32.70386,32.40743,32.1771,31.87069,31.63698,31.3325,31.33252,31.3338,31.33396,31.334,31.33394,31.33406,31.33393,31.33408,31.33399,31.33341,31.33363,31.33296,31.33299,31.33305,31.33363,31.33328,31.33281,31.33283,31.33257,31.34898,31.38586,31.40231,31.41305,31.42333,31.43196,31.45068,31.46195,31.4678,31.47995,31.49099,31.50825,31.51945,31.54305,31.56227,31.6012,31.61823,31.62425,31.63623,31.65645,31.67094,31.67701,31.69377,31.72891,31.75165,31.76301,31.78954,31.80473,31.82357,31.83702,31.8513,31.86132,31.87666,31.88514,31.89671,31.90787,31.99917,32.0054,32.02905,32.12566,32.17992,32.21797,32.2376,32.28088,32.31044,32.32538,32.33509,32.36468,32.43408,32.48373,32.49526,32.50602,32.50999,32.51839,32.52419,32.53277,32.54351,32.55396,32.56772,32.56625,32.56133,32.57093,32.58137,32.5955,32.60317,32.61295,32.6238,32.62325,32.6247,32.63705,32.65006,32.66489,32.66985,32.67414,32.6785,32.68221,32.68517,32.68732,32.6986,32.70545,32.71192,32.71829,32.71943,32.73946,32.73137,32.73487,32.87408,32.97206,33.03255,33.23376,33.39691,33.47131,33.58709,33.6969,33.84446,33.91285,33.96372,34.04257,34.12866,34.17212,34.31087,34.41527,34.47903,34.64288,34.71453,34.79181,34.86997,38.215,38.40118,38.60929,38.81393,38.95788,39.11656,39.22605,39.36423,39.56752,39.79876,40.03782,40.18844,40.2929,40.41493,40.50615,40.68445,40.87296,41.00066,41.00051,41.00013,41.0001,40.99996,41.00008,41.00011,41.00139,41.00205,41.00197,41.00228,41.00305,41.00283,41.00305,41.00315,41.00213,40.99927,40.997,40.99701,40.99722,40.99766,40.99818,40.9983,40.99826,41.00153,41.00162,41.00139,41.00141,41.00153,41.00166,41.0017,41.00185,41.00191,41.00239,41.00231,41.00234,41.00243,41.00245,41.00235,41.00247,40.97899,40.9255,40.87501,40.82214,40.75901,40.71742,40.69984,40.65115,40.61334,40.55651,40.48846,40.31022,40.1605,40.01399,40.00308,40.00061,39.87098,39.67645,39.53889,39.40853,39.33572,39.24305,38.84279,38.66387,38.59586,38.52933,38.47219,38.41997,38.30634,38.26504,38.17556,38.05734,37.94303,37.80941,37.68749,37.49347,37.45597,37.3385,37.22191,37.10676,36.99352,36.99302,36.99306,36.99305,36.99311,36.99325,36.99357,36.99367,36.9942,36.99439,36.99425,36.99441,36.99457,36.99479,36.99494,36.99487,36.99513,36.99504,36.9952,36.99557,36.99885,36.99977,36.99959,36.99944,36.99908,36.99855,36.99852,37.0001,37.0001,37.00021,36.99956,36.99892,36.99669,36.99511,36.99367,36.9935,36.99527,36.99589,36.99578,36.99556,36.99469,36.99378,36.99303,36.99263,37.00014,37.00001,37.00001,37.0,37.00001,37.0,36.99924,36.99927,36.99887,36.99885,36.99908,36.99908,37.01706,37.09597,37.20443,37.35363,37.5667,37.7899,37.97469,38.10272,38.21472,32.00032,32.00001,32.00041,32.0005,32.00198,32.00076,31.98981,31.93601,31.90997,31.84661,31.8054,31.78318,31.78328,31.78391,31.78394,31.78395,31.78399,31.784,31.78409,31.78395,31.78393,31.78371,31.78394,31.78404,31.78385,31.78384,31.78379,31.78378,31.78381,31.7837,31.78369,31.78367,31.78367,31.78355,31.78354,31.78377,31.78367,31.78366,31.78367,31.78365,31.78367,31.78365,31.7836,31.78365,31.78366,31.78365,31.78369,31.78365,31.78374,31.78374,31.78374,31.78374,31.7837,31.78371,31.78371,31.78368,31.78368,31.78368,31.78361,31.78363,31.78365,31.7836,31.78359,31.78359,31.7836,31.78363,31.78365,31.78361,31.78357,31.78351,31.7835,31.78353,31.78357,31.78358,31.78359,31.7836,31.74465,31.72969,31.72323,31.7194,31.71733,31.68878,31.62561,31.58935,31.5608,31.52581,31.50105,31.4998,31.47883,31.42917,31.37656,31.3561,31.3334,31.3334,31.33341,31.33347,31.33344,31.33336,31.33329,31.33323,31.33319,31.33307,31.33298,31.3329,31.33285,31.33273,31.33261,31.33226,31.33232,31.33231,31.33217,31.33224,31.3325,31.63698,31.87069,32.1771,32.40743,32.70386,33.07165,33.3477,33.71335,34.08446,34.44558,34.71264,34.91388,35.30697,35.45859,35.65092,35.81044,35.93088,36.03128,36.18724,36.29154,36.41637,36.54513,36.70384,36.8531,36.99897,36.99908,36.99908,36.99885,36.99887,36.99927,36.99924,37.0,37.00001,37.0,37.00001,37.00001,37.00014,36.99263,36.99303,36.99378,36.99469,36.99556,36.99578,36.99589,36.99527,36.9935,36.99367,36.99511,36.99669,36.99892,36.99956,37.00021,37.0001,37.00006,36.9686,36.95031,36.91582,36.91402,36.90243,36.89755,36.86996,36.81735,36.76898,36.74295,36.7193,36.7013,36.68525,36.67653,36.65329,36.6278,36.60265,36.5919,36.56927,36.56386,36.54875,36.52963,36.51475,36.50609,36.50046,36.5004,36.50042,35.76515,35.21202,35.1362,34.88888,34.67259,34.53564,34.40999,34.27181,34.03983,33.71754,33.35051,33.00011,32.59516,32.00034,40.68928,40.68985,40.76026,41.05548,41.36,41.59062,41.89425,41.99372,41.99367,41.98895,41.99102,41.99331,41.99384,41.99645,41.99735,41.99841,41.99938,41.99973,42.00021,42.00054,42.00099,42.00111,42.00116,41.99763,41.99834,41.99861,41.99856,41.99875,41.99926,41.99951,42.00063,42.00132,42.00154,42.00159,42.00157,42.00034,41.83664,41.64119,41.52149,41.41513,41.36572,41.20441,41.10318,41.00917,40.9976,40.99725,40.99635,40.99635,40.99485,40.99533,40.99609,40.99634,40.99734,40.99766,40.99797,40.99841,40.9983,40.99871,40.99964,41.00064,41.00069,41.00066,40.87296,40.68445,40.50615,40.41493,40.2929,40.18844,40.03782,39.79876,39.56752,39.36423,39.22605,39.11656,38.95788,38.81393,38.60929,38.40118,38.215,38.21472,38.10272,37.97469,37.7899,37.5667,37.35363,37.20443,37.09597,37.01706,36.99908,36.99908,36.99926,36.9991,36.99831,36.99845,36.99828,37.00383,37.00325,37.00247,37.00102,37.00147,37.00166,37.00097,37.00105,37.00094,37.00048,37.00012,37.00017,37.00022,36.99998,36.99998,36.99998,36.99998,36.99998,36.99998,37.0004,37.0004,37.13439,37.47222,37.70735,37.77873,37.95499,38.20495,38.55049,38.75165,38.90545,39.08777,39.23851,39.36296,39.45715,39.61018,39.75817,39.99994,40.09896,40.30302,40.4958]}},\"id\":\"8fbd2cb8-d164-4c9a-a399-4bf47361d730\",\"type\":\"ColumnDataSource\"},{\"attributes\":{\"formatter\":{\"id\":\"79d4338a-bcdd-47d9-8003-8fee5c354d3e\",\"type\":\"BasicTickFormatter\"},\"plot\":{\"id\":\"a1a6b406-9973-4b54-bd02-85faf627180e\",\"subtype\":\"Figure\",\"type\":\"Plot\"},\"ticker\":{\"id\":\"46a7a27f-50d9-48af-ba60-d10bac7ce733\",\"type\":\"BasicTicker\"}},\"id\":\"1296d466-ae2e-4d93-aa11-666b4944fc7a\",\"type\":\"LinearAxis\"},{\"attributes\":{\"formatter\":{\"id\":\"fcf9828b-3739-48a5-93de-8fa6a614fbe9\",\"type\":\"BasicTickFormatter\"},\"plot\":{\"id\":\"a1a6b406-9973-4b54-bd02-85faf627180e\",\"subtype\":\"Figure\",\"type\":\"Plot\"},\"ticker\":{\"id\":\"ca1e930a-71ae-46fc-855c-43132ac8ad1e\",\"type\":\"BasicTicker\"}},\"id\":\"6103cf10-6a4d-4b33-bd17-f7c250276508\",\"type\":\"LinearAxis\"},{\"attributes\":{\"callback\":null},\"id\":\"d739c8fe-ea3e-43fd-952c-9dd4c62b0e10\",\"type\":\"DataRange1d\"}],\"root_ids\":[\"a1a6b406-9973-4b54-bd02-85faf627180e\"]},\"title\":\"Bokeh Application\",\"version\":\"0.12.10\"}};\n",
       "    var render_items = [{\"docid\":\"8c12eff6-a9c4-4751-9f60-f114dd6889f6\",\"elementid\":\"a90c2f22-08cc-4078-ab16-53d046d33ac0\",\"modelid\":\"a1a6b406-9973-4b54-bd02-85faf627180e\"}];\n",
       "\n",
       "    root.Bokeh.embed.embed_items(docs_json, render_items);\n",
       "  }\n",
       "\n",
       "  if (root.Bokeh !== undefined) {\n",
       "    embed_document(root);\n",
       "  } else {\n",
       "    var attempts = 0;\n",
       "    var timer = setInterval(function(root) {\n",
       "      if (root.Bokeh !== undefined) {\n",
       "        embed_document(root);\n",
       "        clearInterval(timer);\n",
       "      }\n",
       "      attempts++;\n",
       "      if (attempts > 100) {\n",
       "        console.log(\"Bokeh: ERROR: Unable to embed document because BokehJS library is missing\")\n",
       "        clearInterval(timer);\n",
       "      }\n",
       "    }, 10, root)\n",
       "  }\n",
       "})(window);"
      ],
      "application/vnd.bokehjs_exec.v0+json": ""
     },
     "metadata": {
      "application/vnd.bokehjs_exec.v0+json": {
       "id": "a1a6b406-9973-4b54-bd02-85faf627180e"
      }
     },
     "output_type": "display_data"
    }
   ],
   "source": [
    "flatten = lambda l: [item for sublist in l for item in sublist]\n",
    "\n",
    "x_flat = flatten(x)\n",
    "print(x_flat[:6])\n",
    "\n",
    "y_flat = flatten(y)\n",
    "print(y_flat[:6])\n",
    "\n",
    "# I'm adding this just to see how its drawing the points\n",
    "p.circle(x_flat, y_flat, fill_color = 'white', color = 'black', size = 5)\n",
    "show(p)"
   ]
  },
  {
   "cell_type": "markdown",
   "metadata": {},
   "source": [
    "## Data formats"
   ]
  },
  {
   "cell_type": "markdown",
   "metadata": {},
   "source": [
    "#### Lists\n",
    "- We used this above"
   ]
  },
  {
   "cell_type": "code",
   "execution_count": 137,
   "metadata": {},
   "outputs": [
    {
     "data": {
      "text/html": [
       "\n",
       "<div class=\"bk-root\">\n",
       "    <div class=\"bk-plotdiv\" id=\"cf97a6a5-655c-478f-ae9e-f16ffebb2545\"></div>\n",
       "</div>"
      ]
     },
     "metadata": {},
     "output_type": "display_data"
    },
    {
     "data": {
      "application/javascript": [
       "(function(root) {\n",
       "  function embed_document(root) {\n",
       "    var docs_json = {\"d1e70c00-034b-476a-a18c-a347c7b44781\":{\"roots\":{\"references\":[{\"attributes\":{\"formatter\":{\"id\":\"8727c13b-b090-46fa-a2e8-32d2d9152732\",\"type\":\"BasicTickFormatter\"},\"plot\":{\"id\":\"88b1dbde-fb14-4998-b450-93cbfefef7f1\",\"subtype\":\"Figure\",\"type\":\"Plot\"},\"ticker\":{\"id\":\"a3d8cd03-d713-47e6-93b2-53fc2fe0ce10\",\"type\":\"BasicTicker\"}},\"id\":\"902581f8-a264-4f6e-8075-87d71e5ae777\",\"type\":\"LinearAxis\"},{\"attributes\":{\"line_alpha\":{\"value\":0.1},\"line_color\":{\"value\":\"#1f77b4\"},\"line_width\":{\"value\":3},\"x\":{\"field\":\"x\"},\"y\":{\"field\":\"y\"}},\"id\":\"74c71e2a-95a4-45cc-a9b4-5d97256f051c\",\"type\":\"Line\"},{\"attributes\":{\"dimension\":1,\"plot\":{\"id\":\"88b1dbde-fb14-4998-b450-93cbfefef7f1\",\"subtype\":\"Figure\",\"type\":\"Plot\"},\"ticker\":{\"id\":\"a3d8cd03-d713-47e6-93b2-53fc2fe0ce10\",\"type\":\"BasicTicker\"}},\"id\":\"2eb40e23-5894-48db-8299-0e198cc54dea\",\"type\":\"Grid\"},{\"attributes\":{},\"id\":\"3813ef9c-2261-4543-9c5f-c84503d7e239\",\"type\":\"HelpTool\"},{\"attributes\":{\"below\":[{\"id\":\"e9114e76-abfb-49ff-9ca9-48334e6a44ce\",\"type\":\"LinearAxis\"}],\"left\":[{\"id\":\"902581f8-a264-4f6e-8075-87d71e5ae777\",\"type\":\"LinearAxis\"}],\"renderers\":[{\"id\":\"e9114e76-abfb-49ff-9ca9-48334e6a44ce\",\"type\":\"LinearAxis\"},{\"id\":\"aa4e75bc-701a-4e20-962b-69a9be21a8da\",\"type\":\"Grid\"},{\"id\":\"902581f8-a264-4f6e-8075-87d71e5ae777\",\"type\":\"LinearAxis\"},{\"id\":\"2eb40e23-5894-48db-8299-0e198cc54dea\",\"type\":\"Grid\"},{\"id\":\"c69948d2-3aed-40c0-8720-c7f48addb730\",\"type\":\"BoxAnnotation\"},{\"id\":\"e72537a3-f815-4f8a-8a93-dcd68b40a65a\",\"type\":\"GlyphRenderer\"},{\"id\":\"65d58c9d-2379-4341-b89a-60b3e285394a\",\"type\":\"GlyphRenderer\"}],\"title\":{\"id\":\"2a00a913-dfc3-4d00-b3e4-67da012d4fd3\",\"type\":\"Title\"},\"toolbar\":{\"id\":\"b52ee3d0-6e0d-472e-86a3-f553eec11e4e\",\"type\":\"Toolbar\"},\"x_range\":{\"id\":\"14f4bfb4-7aad-4022-b3eb-801ea8b660c1\",\"type\":\"DataRange1d\"},\"x_scale\":{\"id\":\"1070c78c-5397-4da4-bd45-53a3b0732a05\",\"type\":\"LinearScale\"},\"y_range\":{\"id\":\"f24b26c9-2028-4322-a84f-389745079afa\",\"type\":\"DataRange1d\"},\"y_scale\":{\"id\":\"deb0e5a1-88fc-40d6-ba09-31d322070f2b\",\"type\":\"LinearScale\"}},\"id\":\"88b1dbde-fb14-4998-b450-93cbfefef7f1\",\"subtype\":\"Figure\",\"type\":\"Plot\"},{\"attributes\":{\"plot\":null,\"text\":\"\"},\"id\":\"2a00a913-dfc3-4d00-b3e4-67da012d4fd3\",\"type\":\"Title\"},{\"attributes\":{},\"id\":\"a3d8cd03-d713-47e6-93b2-53fc2fe0ce10\",\"type\":\"BasicTicker\"},{\"attributes\":{\"callback\":null,\"column_names\":[\"x\",\"y\"],\"data\":{\"x\":[1,2,3,4,5],\"y\":[8,6,5,2,3]}},\"id\":\"c9386303-35ac-4b55-9c38-9da3d2e8e0da\",\"type\":\"ColumnDataSource\"},{\"attributes\":{},\"id\":\"fd5a5bab-3538-4fc1-af7b-372e41a6ab05\",\"type\":\"BasicTickFormatter\"},{\"attributes\":{\"callback\":null},\"id\":\"14f4bfb4-7aad-4022-b3eb-801ea8b660c1\",\"type\":\"DataRange1d\"},{\"attributes\":{\"source\":{\"id\":\"c9386303-35ac-4b55-9c38-9da3d2e8e0da\",\"type\":\"ColumnDataSource\"}},\"id\":\"53cd3dd2-5b06-44c6-9254-293d1ad3e427\",\"type\":\"CDSView\"},{\"attributes\":{\"callback\":null,\"column_names\":[\"x\",\"y\"],\"data\":{\"x\":[1,2,3,4,5],\"y\":[8,6,5,2,3]}},\"id\":\"f2a81904-e9c7-4376-882b-7ea5b44a3eaf\",\"type\":\"ColumnDataSource\"},{\"attributes\":{},\"id\":\"1070c78c-5397-4da4-bd45-53a3b0732a05\",\"type\":\"LinearScale\"},{\"attributes\":{\"fill_alpha\":{\"value\":0.1},\"fill_color\":{\"value\":\"#1f77b4\"},\"line_alpha\":{\"value\":0.1},\"line_color\":{\"value\":\"#1f77b4\"},\"size\":{\"units\":\"screen\",\"value\":10},\"x\":{\"field\":\"x\"},\"y\":{\"field\":\"y\"}},\"id\":\"97922582-a7ba-48b4-a632-478eb79b4ed5\",\"type\":\"Circle\"},{\"attributes\":{\"active_drag\":\"auto\",\"active_inspect\":\"auto\",\"active_scroll\":\"auto\",\"active_tap\":\"auto\",\"tools\":[{\"id\":\"a2602d5d-9c7b-42bd-8aff-d7c23a2153ee\",\"type\":\"PanTool\"},{\"id\":\"a8929947-d2b4-465b-a28a-7f9681471450\",\"type\":\"WheelZoomTool\"},{\"id\":\"11f772fc-a4fc-43f7-91ce-9a658efa8b91\",\"type\":\"BoxZoomTool\"},{\"id\":\"92fb28c6-348b-41d2-b53c-e070bc7880ba\",\"type\":\"SaveTool\"},{\"id\":\"e39cb69b-029f-4afc-b0d2-2b0f81101596\",\"type\":\"ResetTool\"},{\"id\":\"3813ef9c-2261-4543-9c5f-c84503d7e239\",\"type\":\"HelpTool\"}]},\"id\":\"b52ee3d0-6e0d-472e-86a3-f553eec11e4e\",\"type\":\"Toolbar\"},{\"attributes\":{\"plot\":{\"id\":\"88b1dbde-fb14-4998-b450-93cbfefef7f1\",\"subtype\":\"Figure\",\"type\":\"Plot\"},\"ticker\":{\"id\":\"c9ca5d23-8310-414c-9e3b-7bcccbfb2bda\",\"type\":\"BasicTicker\"}},\"id\":\"aa4e75bc-701a-4e20-962b-69a9be21a8da\",\"type\":\"Grid\"},{\"attributes\":{\"data_source\":{\"id\":\"c9386303-35ac-4b55-9c38-9da3d2e8e0da\",\"type\":\"ColumnDataSource\"},\"glyph\":{\"id\":\"cc834957-c12d-4a26-b2d6-2265580c7c12\",\"type\":\"Line\"},\"hover_glyph\":null,\"muted_glyph\":null,\"nonselection_glyph\":{\"id\":\"74c71e2a-95a4-45cc-a9b4-5d97256f051c\",\"type\":\"Line\"},\"selection_glyph\":null,\"view\":{\"id\":\"53cd3dd2-5b06-44c6-9254-293d1ad3e427\",\"type\":\"CDSView\"}},\"id\":\"e72537a3-f815-4f8a-8a93-dcd68b40a65a\",\"type\":\"GlyphRenderer\"},{\"attributes\":{},\"id\":\"deb0e5a1-88fc-40d6-ba09-31d322070f2b\",\"type\":\"LinearScale\"},{\"attributes\":{},\"id\":\"8727c13b-b090-46fa-a2e8-32d2d9152732\",\"type\":\"BasicTickFormatter\"},{\"attributes\":{},\"id\":\"c9ca5d23-8310-414c-9e3b-7bcccbfb2bda\",\"type\":\"BasicTicker\"},{\"attributes\":{\"data_source\":{\"id\":\"f2a81904-e9c7-4376-882b-7ea5b44a3eaf\",\"type\":\"ColumnDataSource\"},\"glyph\":{\"id\":\"69e2fc36-5cc3-4efa-b725-b842319cd48d\",\"type\":\"Circle\"},\"hover_glyph\":null,\"muted_glyph\":null,\"nonselection_glyph\":{\"id\":\"97922582-a7ba-48b4-a632-478eb79b4ed5\",\"type\":\"Circle\"},\"selection_glyph\":null,\"view\":{\"id\":\"962c283b-3d21-41a2-bb0e-b9f871f91aab\",\"type\":\"CDSView\"}},\"id\":\"65d58c9d-2379-4341-b89a-60b3e285394a\",\"type\":\"GlyphRenderer\"},{\"attributes\":{\"callback\":null},\"id\":\"f24b26c9-2028-4322-a84f-389745079afa\",\"type\":\"DataRange1d\"},{\"attributes\":{\"overlay\":{\"id\":\"c69948d2-3aed-40c0-8720-c7f48addb730\",\"type\":\"BoxAnnotation\"}},\"id\":\"11f772fc-a4fc-43f7-91ce-9a658efa8b91\",\"type\":\"BoxZoomTool\"},{\"attributes\":{\"formatter\":{\"id\":\"fd5a5bab-3538-4fc1-af7b-372e41a6ab05\",\"type\":\"BasicTickFormatter\"},\"plot\":{\"id\":\"88b1dbde-fb14-4998-b450-93cbfefef7f1\",\"subtype\":\"Figure\",\"type\":\"Plot\"},\"ticker\":{\"id\":\"c9ca5d23-8310-414c-9e3b-7bcccbfb2bda\",\"type\":\"BasicTicker\"}},\"id\":\"e9114e76-abfb-49ff-9ca9-48334e6a44ce\",\"type\":\"LinearAxis\"},{\"attributes\":{\"source\":{\"id\":\"f2a81904-e9c7-4376-882b-7ea5b44a3eaf\",\"type\":\"ColumnDataSource\"}},\"id\":\"962c283b-3d21-41a2-bb0e-b9f871f91aab\",\"type\":\"CDSView\"},{\"attributes\":{},\"id\":\"a8929947-d2b4-465b-a28a-7f9681471450\",\"type\":\"WheelZoomTool\"},{\"attributes\":{\"fill_color\":{\"value\":\"white\"},\"line_color\":{\"value\":\"#1f77b4\"},\"size\":{\"units\":\"screen\",\"value\":10},\"x\":{\"field\":\"x\"},\"y\":{\"field\":\"y\"}},\"id\":\"69e2fc36-5cc3-4efa-b725-b842319cd48d\",\"type\":\"Circle\"},{\"attributes\":{\"bottom_units\":\"screen\",\"fill_alpha\":{\"value\":0.5},\"fill_color\":{\"value\":\"lightgrey\"},\"left_units\":\"screen\",\"level\":\"overlay\",\"line_alpha\":{\"value\":1.0},\"line_color\":{\"value\":\"black\"},\"line_dash\":[4,4],\"line_width\":{\"value\":2},\"plot\":null,\"render_mode\":\"css\",\"right_units\":\"screen\",\"top_units\":\"screen\"},\"id\":\"c69948d2-3aed-40c0-8720-c7f48addb730\",\"type\":\"BoxAnnotation\"},{\"attributes\":{},\"id\":\"e39cb69b-029f-4afc-b0d2-2b0f81101596\",\"type\":\"ResetTool\"},{\"attributes\":{},\"id\":\"a2602d5d-9c7b-42bd-8aff-d7c23a2153ee\",\"type\":\"PanTool\"},{\"attributes\":{\"line_color\":{\"value\":\"#1f77b4\"},\"line_width\":{\"value\":3},\"x\":{\"field\":\"x\"},\"y\":{\"field\":\"y\"}},\"id\":\"cc834957-c12d-4a26-b2d6-2265580c7c12\",\"type\":\"Line\"},{\"attributes\":{},\"id\":\"92fb28c6-348b-41d2-b53c-e070bc7880ba\",\"type\":\"SaveTool\"}],\"root_ids\":[\"88b1dbde-fb14-4998-b450-93cbfefef7f1\"]},\"title\":\"Bokeh Application\",\"version\":\"0.12.10\"}};\n",
       "    var render_items = [{\"docid\":\"d1e70c00-034b-476a-a18c-a347c7b44781\",\"elementid\":\"cf97a6a5-655c-478f-ae9e-f16ffebb2545\",\"modelid\":\"88b1dbde-fb14-4998-b450-93cbfefef7f1\"}];\n",
       "\n",
       "    root.Bokeh.embed.embed_items(docs_json, render_items);\n",
       "  }\n",
       "\n",
       "  if (root.Bokeh !== undefined) {\n",
       "    embed_document(root);\n",
       "  } else {\n",
       "    var attempts = 0;\n",
       "    var timer = setInterval(function(root) {\n",
       "      if (root.Bokeh !== undefined) {\n",
       "        embed_document(root);\n",
       "        clearInterval(timer);\n",
       "      }\n",
       "      attempts++;\n",
       "      if (attempts > 100) {\n",
       "        console.log(\"Bokeh: ERROR: Unable to embed document because BokehJS library is missing\")\n",
       "        clearInterval(timer);\n",
       "      }\n",
       "    }, 10, root)\n",
       "  }\n",
       "})(window);"
      ],
      "application/vnd.bokehjs_exec.v0+json": ""
     },
     "metadata": {
      "application/vnd.bokehjs_exec.v0+json": {
       "id": "88b1dbde-fb14-4998-b450-93cbfefef7f1"
      }
     },
     "output_type": "display_data"
    }
   ],
   "source": [
    "x = [1,2,3,4,5]\n",
    "y = [8,6,5,2,3]\n",
    "\n",
    "plot = figure()\n",
    "plot.line(x,y, line_width = 3)\n",
    "plot.circle(x, y, fill_color='white', size = 10)\n",
    "show(plot)"
   ]
  },
  {
   "cell_type": "markdown",
   "metadata": {},
   "source": [
    "#### Numpy Arrays\n",
    "- the foundation of the python science stack... yada yada\n",
    "- enter standard random random array [stage left]"
   ]
  },
  {
   "cell_type": "code",
   "execution_count": 136,
   "metadata": {},
   "outputs": [
    {
     "data": {
      "text/html": [
       "\n",
       "<div class=\"bk-root\">\n",
       "    <div class=\"bk-plotdiv\" id=\"453a935d-326f-455f-93a4-919c2a81ab35\"></div>\n",
       "</div>"
      ]
     },
     "metadata": {},
     "output_type": "display_data"
    },
    {
     "data": {
      "application/javascript": [
       "(function(root) {\n",
       "  function embed_document(root) {\n",
       "    var docs_json = {\"baafa822-1897-4298-a3d2-ec14c4603f62\":{\"roots\":{\"references\":[{\"attributes\":{\"line_alpha\":{\"value\":0.1},\"line_color\":{\"value\":\"#1f77b4\"},\"x\":{\"field\":\"x\"},\"y\":{\"field\":\"y\"}},\"id\":\"2ad17921-72e0-434c-970a-df2adfab53e7\",\"type\":\"Line\"},{\"attributes\":{},\"id\":\"35a713aa-b7de-42a4-9917-3196a3d38900\",\"type\":\"PanTool\"},{\"attributes\":{\"callback\":null},\"id\":\"3d602efc-ac89-48ca-a2ed-214cca697696\",\"type\":\"DataRange1d\"},{\"attributes\":{},\"id\":\"b7d584dc-5cac-4099-ac35-cac77ff6b7e9\",\"type\":\"ResetTool\"},{\"attributes\":{\"below\":[{\"id\":\"dd3d476a-b8c0-4345-b44c-88d9ddc82fc7\",\"type\":\"LinearAxis\"}],\"left\":[{\"id\":\"4fd41d37-8176-4209-b177-8a2413ebe72c\",\"type\":\"LinearAxis\"}],\"renderers\":[{\"id\":\"dd3d476a-b8c0-4345-b44c-88d9ddc82fc7\",\"type\":\"LinearAxis\"},{\"id\":\"c969f4e0-abfa-40c0-88c7-74a4ebb1dd5c\",\"type\":\"Grid\"},{\"id\":\"4fd41d37-8176-4209-b177-8a2413ebe72c\",\"type\":\"LinearAxis\"},{\"id\":\"7fddb49f-2035-4c92-bf0e-21cb1352ae9f\",\"type\":\"Grid\"},{\"id\":\"5c6bc0f0-cff8-4aac-96b0-55660e345d87\",\"type\":\"BoxAnnotation\"},{\"id\":\"fca97cf6-0dce-46cd-8d3f-7c6ec4764166\",\"type\":\"GlyphRenderer\"}],\"title\":{\"id\":\"87b23e45-df16-4964-8f18-e123bc8ec55a\",\"type\":\"Title\"},\"toolbar\":{\"id\":\"1f6077f6-3cb2-4bb8-add6-9c9a6f42c16c\",\"type\":\"Toolbar\"},\"x_range\":{\"id\":\"e91a5940-c65b-4bac-8d20-abbf4e08a206\",\"type\":\"DataRange1d\"},\"x_scale\":{\"id\":\"5d8f823b-8883-4abc-91a5-63a92e1d72ee\",\"type\":\"LinearScale\"},\"y_range\":{\"id\":\"3d602efc-ac89-48ca-a2ed-214cca697696\",\"type\":\"DataRange1d\"},\"y_scale\":{\"id\":\"aed44ec4-cfe4-4b09-99d2-d55e29f5ab41\",\"type\":\"LinearScale\"}},\"id\":\"41f10cdb-d18d-4dd7-a3f6-1901f1649c28\",\"subtype\":\"Figure\",\"type\":\"Plot\"},{\"attributes\":{\"active_drag\":\"auto\",\"active_inspect\":\"auto\",\"active_scroll\":\"auto\",\"active_tap\":\"auto\",\"tools\":[{\"id\":\"35a713aa-b7de-42a4-9917-3196a3d38900\",\"type\":\"PanTool\"},{\"id\":\"28b9c66e-8798-4d2c-8705-36315e6bd9f6\",\"type\":\"WheelZoomTool\"},{\"id\":\"f6aeb324-b9a5-40f4-b076-2d95f0829005\",\"type\":\"BoxZoomTool\"},{\"id\":\"05d9b3b8-fc87-48c4-97c6-7aaca5002e9c\",\"type\":\"SaveTool\"},{\"id\":\"b7d584dc-5cac-4099-ac35-cac77ff6b7e9\",\"type\":\"ResetTool\"},{\"id\":\"50ef7e25-14d6-4379-b229-169447f9ffd9\",\"type\":\"HelpTool\"}]},\"id\":\"1f6077f6-3cb2-4bb8-add6-9c9a6f42c16c\",\"type\":\"Toolbar\"},{\"attributes\":{\"overlay\":{\"id\":\"5c6bc0f0-cff8-4aac-96b0-55660e345d87\",\"type\":\"BoxAnnotation\"}},\"id\":\"f6aeb324-b9a5-40f4-b076-2d95f0829005\",\"type\":\"BoxZoomTool\"},{\"attributes\":{\"callback\":null},\"id\":\"e91a5940-c65b-4bac-8d20-abbf4e08a206\",\"type\":\"DataRange1d\"},{\"attributes\":{},\"id\":\"57279091-8d8b-44a9-9a33-3a0211840d57\",\"type\":\"BasicTickFormatter\"},{\"attributes\":{\"line_color\":{\"value\":\"#1f77b4\"},\"x\":{\"field\":\"x\"},\"y\":{\"field\":\"y\"}},\"id\":\"97539d59-f5db-48cf-92b2-ab8610a1cd29\",\"type\":\"Line\"},{\"attributes\":{\"bottom_units\":\"screen\",\"fill_alpha\":{\"value\":0.5},\"fill_color\":{\"value\":\"lightgrey\"},\"left_units\":\"screen\",\"level\":\"overlay\",\"line_alpha\":{\"value\":1.0},\"line_color\":{\"value\":\"black\"},\"line_dash\":[4,4],\"line_width\":{\"value\":2},\"plot\":null,\"render_mode\":\"css\",\"right_units\":\"screen\",\"top_units\":\"screen\"},\"id\":\"5c6bc0f0-cff8-4aac-96b0-55660e345d87\",\"type\":\"BoxAnnotation\"},{\"attributes\":{\"plot\":{\"id\":\"41f10cdb-d18d-4dd7-a3f6-1901f1649c28\",\"subtype\":\"Figure\",\"type\":\"Plot\"},\"ticker\":{\"id\":\"312f5dd7-92a8-4ce9-9b2d-c34a8526844e\",\"type\":\"BasicTicker\"}},\"id\":\"c969f4e0-abfa-40c0-88c7-74a4ebb1dd5c\",\"type\":\"Grid\"},{\"attributes\":{},\"id\":\"28b9c66e-8798-4d2c-8705-36315e6bd9f6\",\"type\":\"WheelZoomTool\"},{\"attributes\":{\"formatter\":{\"id\":\"9b187f72-f5f0-499e-8ba7-69175dc68777\",\"type\":\"BasicTickFormatter\"},\"plot\":{\"id\":\"41f10cdb-d18d-4dd7-a3f6-1901f1649c28\",\"subtype\":\"Figure\",\"type\":\"Plot\"},\"ticker\":{\"id\":\"4577229e-a464-4b06-ae1e-e93c7ea560b3\",\"type\":\"BasicTicker\"}},\"id\":\"4fd41d37-8176-4209-b177-8a2413ebe72c\",\"type\":\"LinearAxis\"},{\"attributes\":{\"formatter\":{\"id\":\"57279091-8d8b-44a9-9a33-3a0211840d57\",\"type\":\"BasicTickFormatter\"},\"plot\":{\"id\":\"41f10cdb-d18d-4dd7-a3f6-1901f1649c28\",\"subtype\":\"Figure\",\"type\":\"Plot\"},\"ticker\":{\"id\":\"312f5dd7-92a8-4ce9-9b2d-c34a8526844e\",\"type\":\"BasicTicker\"}},\"id\":\"dd3d476a-b8c0-4345-b44c-88d9ddc82fc7\",\"type\":\"LinearAxis\"},{\"attributes\":{},\"id\":\"aed44ec4-cfe4-4b09-99d2-d55e29f5ab41\",\"type\":\"LinearScale\"},{\"attributes\":{\"source\":{\"id\":\"200d3dd9-f1e5-4a4f-aedc-8ab80cb362d4\",\"type\":\"ColumnDataSource\"}},\"id\":\"42ad5678-c4c2-4eb9-a2dc-549f660b0d9a\",\"type\":\"CDSView\"},{\"attributes\":{},\"id\":\"05d9b3b8-fc87-48c4-97c6-7aaca5002e9c\",\"type\":\"SaveTool\"},{\"attributes\":{\"plot\":null,\"text\":\"\"},\"id\":\"87b23e45-df16-4964-8f18-e123bc8ec55a\",\"type\":\"Title\"},{\"attributes\":{},\"id\":\"5d8f823b-8883-4abc-91a5-63a92e1d72ee\",\"type\":\"LinearScale\"},{\"attributes\":{\"data_source\":{\"id\":\"200d3dd9-f1e5-4a4f-aedc-8ab80cb362d4\",\"type\":\"ColumnDataSource\"},\"glyph\":{\"id\":\"97539d59-f5db-48cf-92b2-ab8610a1cd29\",\"type\":\"Line\"},\"hover_glyph\":null,\"muted_glyph\":null,\"nonselection_glyph\":{\"id\":\"2ad17921-72e0-434c-970a-df2adfab53e7\",\"type\":\"Line\"},\"selection_glyph\":null,\"view\":{\"id\":\"42ad5678-c4c2-4eb9-a2dc-549f660b0d9a\",\"type\":\"CDSView\"}},\"id\":\"fca97cf6-0dce-46cd-8d3f-7c6ec4764166\",\"type\":\"GlyphRenderer\"},{\"attributes\":{},\"id\":\"312f5dd7-92a8-4ce9-9b2d-c34a8526844e\",\"type\":\"BasicTicker\"},{\"attributes\":{},\"id\":\"4577229e-a464-4b06-ae1e-e93c7ea560b3\",\"type\":\"BasicTicker\"},{\"attributes\":{},\"id\":\"9b187f72-f5f0-499e-8ba7-69175dc68777\",\"type\":\"BasicTickFormatter\"},{\"attributes\":{},\"id\":\"50ef7e25-14d6-4379-b229-169447f9ffd9\",\"type\":\"HelpTool\"},{\"attributes\":{\"dimension\":1,\"plot\":{\"id\":\"41f10cdb-d18d-4dd7-a3f6-1901f1649c28\",\"subtype\":\"Figure\",\"type\":\"Plot\"},\"ticker\":{\"id\":\"4577229e-a464-4b06-ae1e-e93c7ea560b3\",\"type\":\"BasicTicker\"}},\"id\":\"7fddb49f-2035-4c92-bf0e-21cb1352ae9f\",\"type\":\"Grid\"},{\"attributes\":{\"callback\":null,\"column_names\":[\"x\",\"y\"],\"data\":{\"x\":{\"__ndarray__\":\"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\",\"dtype\":\"float64\",\"shape\":[1000]},\"y\":{\"__ndarray__\":\"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\",\"dtype\":\"float64\",\"shape\":[1000]}}},\"id\":\"200d3dd9-f1e5-4a4f-aedc-8ab80cb362d4\",\"type\":\"ColumnDataSource\"}],\"root_ids\":[\"41f10cdb-d18d-4dd7-a3f6-1901f1649c28\"]},\"title\":\"Bokeh Application\",\"version\":\"0.12.10\"}};\n",
       "    var render_items = [{\"docid\":\"baafa822-1897-4298-a3d2-ec14c4603f62\",\"elementid\":\"453a935d-326f-455f-93a4-919c2a81ab35\",\"modelid\":\"41f10cdb-d18d-4dd7-a3f6-1901f1649c28\"}];\n",
       "\n",
       "    root.Bokeh.embed.embed_items(docs_json, render_items);\n",
       "  }\n",
       "\n",
       "  if (root.Bokeh !== undefined) {\n",
       "    embed_document(root);\n",
       "  } else {\n",
       "    var attempts = 0;\n",
       "    var timer = setInterval(function(root) {\n",
       "      if (root.Bokeh !== undefined) {\n",
       "        embed_document(root);\n",
       "        clearInterval(timer);\n",
       "      }\n",
       "      attempts++;\n",
       "      if (attempts > 100) {\n",
       "        console.log(\"Bokeh: ERROR: Unable to embed document because BokehJS library is missing\")\n",
       "        clearInterval(timer);\n",
       "      }\n",
       "    }, 10, root)\n",
       "  }\n",
       "})(window);"
      ],
      "application/vnd.bokehjs_exec.v0+json": ""
     },
     "metadata": {
      "application/vnd.bokehjs_exec.v0+json": {
       "id": "41f10cdb-d18d-4dd7-a3f6-1901f1649c28"
      }
     },
     "output_type": "display_data"
    }
   ],
   "source": [
    "x = np.linspace(0,10,1000)\n",
    "y = np.sin(x) + np.random.random(1000) * 0.2\n",
    "\n",
    "plot = figure()\n",
    "plot.line(x, y)\n",
    "show(plot)"
   ]
  },
  {
   "cell_type": "markdown",
   "metadata": {},
   "source": [
    "#### Pandas\n",
    "- The R dataframe copied into python"
   ]
  },
  {
   "cell_type": "code",
   "execution_count": 139,
   "metadata": {},
   "outputs": [
    {
     "data": {
      "text/html": [
       "<div>\n",
       "<style>\n",
       "    .dataframe thead tr:only-child th {\n",
       "        text-align: right;\n",
       "    }\n",
       "\n",
       "    .dataframe thead th {\n",
       "        text-align: left;\n",
       "    }\n",
       "\n",
       "    .dataframe tbody tr th {\n",
       "        vertical-align: top;\n",
       "    }\n",
       "</style>\n",
       "<table border=\"1\" class=\"dataframe\">\n",
       "  <thead>\n",
       "    <tr style=\"text-align: right;\">\n",
       "      <th></th>\n",
       "      <th>sepal_length</th>\n",
       "      <th>sepal_width</th>\n",
       "      <th>petal_length</th>\n",
       "      <th>petal_width</th>\n",
       "      <th>species</th>\n",
       "    </tr>\n",
       "  </thead>\n",
       "  <tbody>\n",
       "    <tr>\n",
       "      <th>0</th>\n",
       "      <td>5.1</td>\n",
       "      <td>3.5</td>\n",
       "      <td>1.4</td>\n",
       "      <td>0.2</td>\n",
       "      <td>setosa</td>\n",
       "    </tr>\n",
       "    <tr>\n",
       "      <th>1</th>\n",
       "      <td>4.9</td>\n",
       "      <td>3.0</td>\n",
       "      <td>1.4</td>\n",
       "      <td>0.2</td>\n",
       "      <td>setosa</td>\n",
       "    </tr>\n",
       "    <tr>\n",
       "      <th>2</th>\n",
       "      <td>4.7</td>\n",
       "      <td>3.2</td>\n",
       "      <td>1.3</td>\n",
       "      <td>0.2</td>\n",
       "      <td>setosa</td>\n",
       "    </tr>\n",
       "    <tr>\n",
       "      <th>3</th>\n",
       "      <td>4.6</td>\n",
       "      <td>3.1</td>\n",
       "      <td>1.5</td>\n",
       "      <td>0.2</td>\n",
       "      <td>setosa</td>\n",
       "    </tr>\n",
       "    <tr>\n",
       "      <th>4</th>\n",
       "      <td>5.0</td>\n",
       "      <td>3.6</td>\n",
       "      <td>1.4</td>\n",
       "      <td>0.2</td>\n",
       "      <td>setosa</td>\n",
       "    </tr>\n",
       "  </tbody>\n",
       "</table>\n",
       "</div>"
      ],
      "text/plain": [
       "   sepal_length  sepal_width  petal_length  petal_width species\n",
       "0           5.1          3.5           1.4          0.2  setosa\n",
       "1           4.9          3.0           1.4          0.2  setosa\n",
       "2           4.7          3.2           1.3          0.2  setosa\n",
       "3           4.6          3.1           1.5          0.2  setosa\n",
       "4           5.0          3.6           1.4          0.2  setosa"
      ]
     },
     "execution_count": 139,
     "metadata": {},
     "output_type": "execute_result"
    }
   ],
   "source": [
    "from bokeh.sampledata.iris import flowers\n",
    "flowers.head()"
   ]
  },
  {
   "cell_type": "code",
   "execution_count": 140,
   "metadata": {},
   "outputs": [
    {
     "data": {
      "text/html": [
       "\n",
       "<div class=\"bk-root\">\n",
       "    <div class=\"bk-plotdiv\" id=\"f57a3b09-45c3-49bc-9f8a-65f0022d7881\"></div>\n",
       "</div>"
      ]
     },
     "metadata": {},
     "output_type": "display_data"
    },
    {
     "data": {
      "application/javascript": [
       "(function(root) {\n",
       "  function embed_document(root) {\n",
       "    var docs_json = {\"7b111eac-1656-4be4-a538-4b70226228d0\":{\"roots\":{\"references\":[{\"attributes\":{},\"id\":\"b8437836-9e55-4924-b4e5-d650cb28b0c7\",\"type\":\"LinearScale\"},{\"attributes\":{\"source\":{\"id\":\"1e42e382-7cce-43b8-a5f0-ca69c4817e89\",\"type\":\"ColumnDataSource\"}},\"id\":\"7f81de66-7788-40fa-8ea5-46f50aa4dc9c\",\"type\":\"CDSView\"},{\"attributes\":{},\"id\":\"3ad179e9-5f73-4d83-893c-a08a8a6dcde7\",\"type\":\"PanTool\"},{\"attributes\":{\"dimension\":1,\"plot\":{\"id\":\"d2919031-25fa-43c4-821e-9a0073c70e84\",\"subtype\":\"Figure\",\"type\":\"Plot\"},\"ticker\":{\"id\":\"b6189016-ced8-4da2-9aa7-84dd0a753a1b\",\"type\":\"BasicTicker\"}},\"id\":\"f15bb929-eb1b-446f-b969-e747252b4f9b\",\"type\":\"Grid\"},{\"attributes\":{\"formatter\":{\"id\":\"1d1668b8-122d-40c9-913b-fc0f259348c4\",\"type\":\"BasicTickFormatter\"},\"plot\":{\"id\":\"d2919031-25fa-43c4-821e-9a0073c70e84\",\"subtype\":\"Figure\",\"type\":\"Plot\"},\"ticker\":{\"id\":\"c0166660-f0e8-4efa-992c-932121fc3d6e\",\"type\":\"BasicTicker\"}},\"id\":\"8e459b7f-900b-4ff8-848d-d24c988b6b2a\",\"type\":\"LinearAxis\"},{\"attributes\":{\"callback\":null},\"id\":\"3b5901c7-dc94-4ceb-add2-841522f86b98\",\"type\":\"DataRange1d\"},{\"attributes\":{},\"id\":\"b6189016-ced8-4da2-9aa7-84dd0a753a1b\",\"type\":\"BasicTicker\"},{\"attributes\":{\"fill_color\":{\"value\":\"#1f77b4\"},\"line_color\":{\"value\":\"#1f77b4\"},\"size\":{\"units\":\"screen\",\"value\":10},\"x\":{\"field\":\"x\"},\"y\":{\"field\":\"y\"}},\"id\":\"3719bc2a-cf22-4f1b-86cf-cb1c7313b58e\",\"type\":\"Circle\"},{\"attributes\":{\"callback\":null},\"id\":\"0caa6fb1-a0a9-4937-af28-60d5c2e1d1c0\",\"type\":\"DataRange1d\"},{\"attributes\":{},\"id\":\"eb216e97-dcc0-45d5-9ae5-218c85ddf66b\",\"type\":\"ResetTool\"},{\"attributes\":{\"plot\":{\"id\":\"d2919031-25fa-43c4-821e-9a0073c70e84\",\"subtype\":\"Figure\",\"type\":\"Plot\"},\"ticker\":{\"id\":\"c0166660-f0e8-4efa-992c-932121fc3d6e\",\"type\":\"BasicTicker\"}},\"id\":\"d350d983-1343-433e-9471-e1ac4cd749c9\",\"type\":\"Grid\"},{\"attributes\":{},\"id\":\"57a225e8-e502-47ec-9758-07e6b7151757\",\"type\":\"LinearScale\"},{\"attributes\":{},\"id\":\"1d1668b8-122d-40c9-913b-fc0f259348c4\",\"type\":\"BasicTickFormatter\"},{\"attributes\":{\"active_drag\":\"auto\",\"active_inspect\":\"auto\",\"active_scroll\":\"auto\",\"active_tap\":\"auto\",\"tools\":[{\"id\":\"3ad179e9-5f73-4d83-893c-a08a8a6dcde7\",\"type\":\"PanTool\"},{\"id\":\"06f01899-b326-4b34-842c-c514c4b140b9\",\"type\":\"WheelZoomTool\"},{\"id\":\"4f7447af-a052-4a1c-afe0-b019697bbd8e\",\"type\":\"BoxZoomTool\"},{\"id\":\"6349b9ba-9153-45e7-9e5f-f4c31f54a0c0\",\"type\":\"SaveTool\"},{\"id\":\"eb216e97-dcc0-45d5-9ae5-218c85ddf66b\",\"type\":\"ResetTool\"},{\"id\":\"3cd20949-a9aa-4f75-881f-5a718778815f\",\"type\":\"HelpTool\"}]},\"id\":\"8ce17e0a-5ab2-4a54-b69f-ccb7e43fd4b3\",\"type\":\"Toolbar\"},{\"attributes\":{\"below\":[{\"id\":\"8e459b7f-900b-4ff8-848d-d24c988b6b2a\",\"type\":\"LinearAxis\"}],\"left\":[{\"id\":\"3f3c2e45-5c18-4c86-9ca1-68e9b0b6fe6e\",\"type\":\"LinearAxis\"}],\"renderers\":[{\"id\":\"8e459b7f-900b-4ff8-848d-d24c988b6b2a\",\"type\":\"LinearAxis\"},{\"id\":\"d350d983-1343-433e-9471-e1ac4cd749c9\",\"type\":\"Grid\"},{\"id\":\"3f3c2e45-5c18-4c86-9ca1-68e9b0b6fe6e\",\"type\":\"LinearAxis\"},{\"id\":\"f15bb929-eb1b-446f-b969-e747252b4f9b\",\"type\":\"Grid\"},{\"id\":\"ab92c7f5-ffb5-4001-8d7d-f26d671f2da2\",\"type\":\"BoxAnnotation\"},{\"id\":\"7c0200ad-32e0-4213-b1ea-ec0ca6b4c897\",\"type\":\"GlyphRenderer\"}],\"title\":{\"id\":\"6b52cb40-7426-4c00-a1d8-08567c7d0c66\",\"type\":\"Title\"},\"toolbar\":{\"id\":\"8ce17e0a-5ab2-4a54-b69f-ccb7e43fd4b3\",\"type\":\"Toolbar\"},\"x_range\":{\"id\":\"0caa6fb1-a0a9-4937-af28-60d5c2e1d1c0\",\"type\":\"DataRange1d\"},\"x_scale\":{\"id\":\"57a225e8-e502-47ec-9758-07e6b7151757\",\"type\":\"LinearScale\"},\"y_range\":{\"id\":\"3b5901c7-dc94-4ceb-add2-841522f86b98\",\"type\":\"DataRange1d\"},\"y_scale\":{\"id\":\"b8437836-9e55-4924-b4e5-d650cb28b0c7\",\"type\":\"LinearScale\"}},\"id\":\"d2919031-25fa-43c4-821e-9a0073c70e84\",\"subtype\":\"Figure\",\"type\":\"Plot\"},{\"attributes\":{\"data_source\":{\"id\":\"1e42e382-7cce-43b8-a5f0-ca69c4817e89\",\"type\":\"ColumnDataSource\"},\"glyph\":{\"id\":\"3719bc2a-cf22-4f1b-86cf-cb1c7313b58e\",\"type\":\"Circle\"},\"hover_glyph\":null,\"muted_glyph\":null,\"nonselection_glyph\":{\"id\":\"63bd3ed8-dd3d-4480-a448-53d0e53384ba\",\"type\":\"Circle\"},\"selection_glyph\":null,\"view\":{\"id\":\"7f81de66-7788-40fa-8ea5-46f50aa4dc9c\",\"type\":\"CDSView\"}},\"id\":\"7c0200ad-32e0-4213-b1ea-ec0ca6b4c897\",\"type\":\"GlyphRenderer\"},{\"attributes\":{\"bottom_units\":\"screen\",\"fill_alpha\":{\"value\":0.5},\"fill_color\":{\"value\":\"lightgrey\"},\"left_units\":\"screen\",\"level\":\"overlay\",\"line_alpha\":{\"value\":1.0},\"line_color\":{\"value\":\"black\"},\"line_dash\":[4,4],\"line_width\":{\"value\":2},\"plot\":null,\"render_mode\":\"css\",\"right_units\":\"screen\",\"top_units\":\"screen\"},\"id\":\"ab92c7f5-ffb5-4001-8d7d-f26d671f2da2\",\"type\":\"BoxAnnotation\"},{\"attributes\":{\"overlay\":{\"id\":\"ab92c7f5-ffb5-4001-8d7d-f26d671f2da2\",\"type\":\"BoxAnnotation\"}},\"id\":\"4f7447af-a052-4a1c-afe0-b019697bbd8e\",\"type\":\"BoxZoomTool\"},{\"attributes\":{},\"id\":\"cc610721-493a-44f1-a519-b4adc692a5bd\",\"type\":\"BasicTickFormatter\"},{\"attributes\":{},\"id\":\"6349b9ba-9153-45e7-9e5f-f4c31f54a0c0\",\"type\":\"SaveTool\"},{\"attributes\":{\"fill_alpha\":{\"value\":0.1},\"fill_color\":{\"value\":\"#1f77b4\"},\"line_alpha\":{\"value\":0.1},\"line_color\":{\"value\":\"#1f77b4\"},\"size\":{\"units\":\"screen\",\"value\":10},\"x\":{\"field\":\"x\"},\"y\":{\"field\":\"y\"}},\"id\":\"63bd3ed8-dd3d-4480-a448-53d0e53384ba\",\"type\":\"Circle\"},{\"attributes\":{\"callback\":null,\"column_names\":[\"x\",\"y\"],\"data\":{\"x\":{\"__ndarray__\":\"ZmZmZmZm9j9mZmZmZmb2P83MzMzMzPQ/AAAAAAAA+D9mZmZmZmb2PzMzMzMzM/s/ZmZmZmZm9j8AAAAAAAD4P2ZmZmZmZvY/AAAAAAAA+D8AAAAAAAD4P5qZmZmZmfk/ZmZmZmZm9j+amZmZmZnxPzMzMzMzM/M/AAAAAAAA+D/NzMzMzMz0P2ZmZmZmZvY/MzMzMzMz+z8AAAAAAAD4PzMzMzMzM/s/AAAAAAAA+D8AAAAAAADwPzMzMzMzM/s/ZmZmZmZm/j+amZmZmZn5P5qZmZmZmfk/AAAAAAAA+D9mZmZmZmb2P5qZmZmZmfk/mpmZmZmZ+T8AAAAAAAD4PwAAAAAAAPg/ZmZmZmZm9j8AAAAAAAD4PzMzMzMzM/M/zczMzMzM9D9mZmZmZmb2P83MzMzMzPQ/AAAAAAAA+D/NzMzMzMz0P83MzMzMzPQ/zczMzMzM9D+amZmZmZn5P2ZmZmZmZv4/ZmZmZmZm9j+amZmZmZn5P2ZmZmZmZvY/AAAAAAAA+D9mZmZmZmb2P83MzMzMzBJAAAAAAAAAEkCamZmZmZkTQAAAAAAAABBAZmZmZmZmEkAAAAAAAAASQM3MzMzMzBJAZmZmZmZmCkBmZmZmZmYSQDMzMzMzMw9AAAAAAAAADEDNzMzMzMwQQAAAAAAAABBAzczMzMzMEkDNzMzMzMwMQJqZmZmZmRFAAAAAAAAAEkBmZmZmZmYQQAAAAAAAABJAMzMzMzMzD0AzMzMzMzMTQAAAAAAAABBAmpmZmZmZE0DNzMzMzMwSQDMzMzMzMxFAmpmZmZmZEUAzMzMzMzMTQAAAAAAAABRAAAAAAAAAEkAAAAAAAAAMQGZmZmZmZg5AmpmZmZmZDUAzMzMzMzMPQGZmZmZmZhRAAAAAAAAAEkAAAAAAAAASQM3MzMzMzBJAmpmZmZmZEUBmZmZmZmYQQAAAAAAAABBAmpmZmZmZEUBmZmZmZmYSQAAAAAAAABBAZmZmZmZmCkDNzMzMzMwQQM3MzMzMzBBAzczMzMzMEEAzMzMzMzMRQAAAAAAAAAhAZmZmZmZmEEAAAAAAAAAYQGZmZmZmZhRAmpmZmZmZF0BmZmZmZmYWQDMzMzMzMxdAZmZmZmZmGkAAAAAAAAASQDMzMzMzMxlAMzMzMzMzF0BmZmZmZmYYQGZmZmZmZhRAMzMzMzMzFUAAAAAAAAAWQAAAAAAAABRAZmZmZmZmFEAzMzMzMzMVQAAAAAAAABZAzczMzMzMGkCamZmZmZkbQAAAAAAAABRAzczMzMzMFkCamZmZmZkTQM3MzMzMzBpAmpmZmZmZE0DNzMzMzMwWQAAAAAAAABhAMzMzMzMzE0CamZmZmZkTQGZmZmZmZhZAMzMzMzMzF0BmZmZmZmYYQJqZmZmZmRlAZmZmZmZmFkBmZmZmZmYUQGZmZmZmZhZAZmZmZmZmGEBmZmZmZmYWQAAAAAAAABZAMzMzMzMzE0CamZmZmZkVQGZmZmZmZhZAZmZmZmZmFEBmZmZmZmYUQJqZmZmZmRdAzczMzMzMFkDNzMzMzMwUQAAAAAAAABRAzczMzMzMFECamZmZmZkVQGZmZmZmZhRA\",\"dtype\":\"float64\",\"shape\":[150]},\"y\":{\"__ndarray__\":\"ZmZmZmZmFECamZmZmZkTQM3MzMzMzBJAZmZmZmZmEkAAAAAAAAAUQJqZmZmZmRVAZmZmZmZmEkAAAAAAAAAUQJqZmZmZmRFAmpmZmZmZE0CamZmZmZkVQDMzMzMzMxNAMzMzMzMzE0AzMzMzMzMRQDMzMzMzMxdAzczMzMzMFkCamZmZmZkVQGZmZmZmZhRAzczMzMzMFkBmZmZmZmYUQJqZmZmZmRVAZmZmZmZmFEBmZmZmZmYSQGZmZmZmZhRAMzMzMzMzE0AAAAAAAAAUQAAAAAAAABRAzczMzMzMFEDNzMzMzMwUQM3MzMzMzBJAMzMzMzMzE0CamZmZmZkVQM3MzMzMzBRAAAAAAAAAFkCamZmZmZkTQAAAAAAAABRAAAAAAAAAFkCamZmZmZkTQJqZmZmZmRFAZmZmZmZmFEAAAAAAAAAUQAAAAAAAABJAmpmZmZmZEUAAAAAAAAAUQGZmZmZmZhRAMzMzMzMzE0BmZmZmZmYUQGZmZmZmZhJAMzMzMzMzFUAAAAAAAAAUQAAAAAAAABxAmpmZmZmZGUCamZmZmZkbQAAAAAAAABZAAAAAAAAAGkDNzMzMzMwWQDMzMzMzMxlAmpmZmZmZE0BmZmZmZmYaQM3MzMzMzBRAAAAAAAAAFECamZmZmZkXQAAAAAAAABhAZmZmZmZmGEBmZmZmZmYWQM3MzMzMzBpAZmZmZmZmFkAzMzMzMzMXQM3MzMzMzBhAZmZmZmZmFkCamZmZmZkXQGZmZmZmZhhAMzMzMzMzGUBmZmZmZmYYQJqZmZmZmRlAZmZmZmZmGkAzMzMzMzMbQM3MzMzMzBpAAAAAAAAAGEDNzMzMzMwWQAAAAAAAABZAAAAAAAAAFkAzMzMzMzMXQAAAAAAAABhAmpmZmZmZFUAAAAAAAAAYQM3MzMzMzBpAMzMzMzMzGUBmZmZmZmYWQAAAAAAAABZAAAAAAAAAFkBmZmZmZmYYQDMzMzMzMxdAAAAAAAAAFEBmZmZmZmYWQM3MzMzMzBZAzczMzMzMFkDNzMzMzMwYQGZmZmZmZhRAzczMzMzMFkAzMzMzMzMZQDMzMzMzMxdAZmZmZmZmHEAzMzMzMzMZQAAAAAAAABpAZmZmZmZmHkCamZmZmZkTQDMzMzMzMx1AzczMzMzMGkDNzMzMzMwcQAAAAAAAABpAmpmZmZmZGUAzMzMzMzMbQM3MzMzMzBZAMzMzMzMzF0CamZmZmZkZQAAAAAAAABpAzczMzMzMHkDNzMzMzMweQAAAAAAAABhAmpmZmZmZG0BmZmZmZmYWQM3MzMzMzB5AMzMzMzMzGUDNzMzMzMwaQM3MzMzMzBxAzczMzMzMGEBmZmZmZmYYQJqZmZmZmRlAzczMzMzMHECamZmZmZkdQJqZmZmZmR9AmpmZmZmZGUAzMzMzMzMZQGZmZmZmZhhAzczMzMzMHkAzMzMzMzMZQJqZmZmZmRlAAAAAAAAAGECamZmZmZkbQM3MzMzMzBpAmpmZmZmZG0AzMzMzMzMXQDMzMzMzMxtAzczMzMzMGkDNzMzMzMwaQDMzMzMzMxlAAAAAAAAAGkDNzMzMzMwYQJqZmZmZmRdA\",\"dtype\":\"float64\",\"shape\":[150]}}},\"id\":\"1e42e382-7cce-43b8-a5f0-ca69c4817e89\",\"type\":\"ColumnDataSource\"},{\"attributes\":{},\"id\":\"06f01899-b326-4b34-842c-c514c4b140b9\",\"type\":\"WheelZoomTool\"},{\"attributes\":{\"plot\":null,\"text\":\"\"},\"id\":\"6b52cb40-7426-4c00-a1d8-08567c7d0c66\",\"type\":\"Title\"},{\"attributes\":{},\"id\":\"3cd20949-a9aa-4f75-881f-5a718778815f\",\"type\":\"HelpTool\"},{\"attributes\":{},\"id\":\"c0166660-f0e8-4efa-992c-932121fc3d6e\",\"type\":\"BasicTicker\"},{\"attributes\":{\"formatter\":{\"id\":\"cc610721-493a-44f1-a519-b4adc692a5bd\",\"type\":\"BasicTickFormatter\"},\"plot\":{\"id\":\"d2919031-25fa-43c4-821e-9a0073c70e84\",\"subtype\":\"Figure\",\"type\":\"Plot\"},\"ticker\":{\"id\":\"b6189016-ced8-4da2-9aa7-84dd0a753a1b\",\"type\":\"BasicTicker\"}},\"id\":\"3f3c2e45-5c18-4c86-9ca1-68e9b0b6fe6e\",\"type\":\"LinearAxis\"}],\"root_ids\":[\"d2919031-25fa-43c4-821e-9a0073c70e84\"]},\"title\":\"Bokeh Application\",\"version\":\"0.12.10\"}};\n",
       "    var render_items = [{\"docid\":\"7b111eac-1656-4be4-a538-4b70226228d0\",\"elementid\":\"f57a3b09-45c3-49bc-9f8a-65f0022d7881\",\"modelid\":\"d2919031-25fa-43c4-821e-9a0073c70e84\"}];\n",
       "\n",
       "    root.Bokeh.embed.embed_items(docs_json, render_items);\n",
       "  }\n",
       "\n",
       "  if (root.Bokeh !== undefined) {\n",
       "    embed_document(root);\n",
       "  } else {\n",
       "    var attempts = 0;\n",
       "    var timer = setInterval(function(root) {\n",
       "      if (root.Bokeh !== undefined) {\n",
       "        embed_document(root);\n",
       "        clearInterval(timer);\n",
       "      }\n",
       "      attempts++;\n",
       "      if (attempts > 100) {\n",
       "        console.log(\"Bokeh: ERROR: Unable to embed document because BokehJS library is missing\")\n",
       "        clearInterval(timer);\n",
       "      }\n",
       "    }, 10, root)\n",
       "  }\n",
       "})(window);"
      ],
      "application/vnd.bokehjs_exec.v0+json": ""
     },
     "metadata": {
      "application/vnd.bokehjs_exec.v0+json": {
       "id": "d2919031-25fa-43c4-821e-9a0073c70e84"
      }
     },
     "output_type": "display_data"
    }
   ],
   "source": [
    "plot = figure()\n",
    "plot.circle(flowers['petal_length'], flowers['sepal_length'], size = 10)\n",
    "show(plot)"
   ]
  },
  {
   "cell_type": "markdown",
   "metadata": {},
   "source": [
    "#### Column Data Sources\n",
    "- Common fundamental data structure of Bokeh\n",
    "- Maps string column names to sequence of data\n",
    "- Often created automatically for you\n",
    "- Can be shared between glpyhs to link selections\n",
    "- Extra columns can be used with hover tooltips\n",
    "- Other points of note\n",
    " - need to import them from bokeh.modesl\n",
    " - needs string keys and array values\n",
    " - all the columns must be the same length\n",
    " - easy to make from a pandas data frame"
   ]
  },
  {
   "cell_type": "code",
   "execution_count": 141,
   "metadata": {},
   "outputs": [
    {
     "data": {
      "text/plain": [
       "{'x': [1, 2, 3, 4, 5], 'y': [8, 6, 5, 2, 3]}"
      ]
     },
     "execution_count": 141,
     "metadata": {},
     "output_type": "execute_result"
    }
   ],
   "source": [
    "from bokeh.models import ColumnDataSource\n",
    "source = ColumnDataSource(\n",
    "    data = {'x': [1,2,3,4,5],\n",
    "            'y': [8,6,5,2,3]})\n",
    "source.data"
   ]
  },
  {
   "cell_type": "code",
   "execution_count": 150,
   "metadata": {},
   "outputs": [
    {
     "data": {
      "text/html": [
       "<div style=\"display: table;\"><div style=\"display: table-row;\"><div style=\"display: table-cell;\"><b title=\"bokeh.models.sources.ColumnDataSource\">ColumnDataSource</b>(</div><div style=\"display: table-cell;\">id&nbsp;=&nbsp;'dceab0e1-f164-4b37-9a0e-3db6372d4902', <span id=\"678cc378-f2c2-4822-b7bd-085709e93c11\" style=\"cursor: pointer;\">&hellip;)</span></div></div><div class=\"98d8a664-82a0-4f1c-ac45-5fdc2d50d382\" style=\"display: none;\"><div style=\"display: table-cell;\"></div><div style=\"display: table-cell;\">callback&nbsp;=&nbsp;None,</div></div><div class=\"98d8a664-82a0-4f1c-ac45-5fdc2d50d382\" style=\"display: none;\"><div style=\"display: table-cell;\"></div><div style=\"display: table-cell;\">column_names&nbsp;=&nbsp;['sepal_length', 'sepal_width', 'petal_length', 'petal_width', 'species', 'index'],</div></div><div class=\"98d8a664-82a0-4f1c-ac45-5fdc2d50d382\" style=\"display: none;\"><div style=\"display: table-cell;\"></div><div style=\"display: table-cell;\">data&nbsp;=&nbsp;{'sepal_length': {'__ndarray__': 'ZmZmZmZmFECamZmZmZkTQM3MzMzMzBJAZmZmZmZmEkAAAAAAAAAUQJqZmZmZmRVAZmZmZmZmEkAAAAAAAAAUQJqZmZmZmRFAmpmZmZmZE0CamZmZmZkVQDMzMzMzMxNAMzMzMzMzE0AzMzMzMzMRQDMzMzMzMxdAzczMzMzMFkCamZmZmZkVQGZmZmZmZhRAzczMzMzMFkBmZmZmZmYUQJqZmZmZmRVAZmZmZmZmFEBmZmZmZmYSQGZmZmZmZhRAMzMzMzMzE0AAAAAAAAAUQAAAAAAAABRAzczMzMzMFEDNzMzMzMwUQM3MzMzMzBJAMzMzMzMzE0CamZmZmZkVQM3MzMzMzBRAAAAAAAAAFkCamZmZmZkTQAAAAAAAABRAAAAAAAAAFkCamZmZmZkTQJqZmZmZmRFAZmZmZmZmFEAAAAAAAAAUQAAAAAAAABJAmpmZmZmZEUAAAAAAAAAUQGZmZmZmZhRAMzMzMzMzE0BmZmZmZmYUQGZmZmZmZhJAMzMzMzMzFUAAAAAAAAAUQAAAAAAAABxAmpmZmZmZGUCamZmZmZkbQAAAAAAAABZAAAAAAAAAGkDNzMzMzMwWQDMzMzMzMxlAmpmZmZmZE0BmZmZmZmYaQM3MzMzMzBRAAAAAAAAAFECamZmZmZkXQAAAAAAAABhAZmZmZmZmGEBmZmZmZmYWQM3MzMzMzBpAZmZmZmZmFkAzMzMzMzMXQM3MzMzMzBhAZmZmZmZmFkCamZmZmZkXQGZmZmZmZhhAMzMzMzMzGUBmZmZmZmYYQJqZmZmZmRlAZmZmZmZmGkAzMzMzMzMbQM3MzMzMzBpAAAAAAAAAGEDNzMzMzMwWQAAAAAAAABZAAAAAAAAAFkAzMzMzMzMXQAAAAAAAABhAmpmZmZmZFUAAAAAAAAAYQM3MzMzMzBpAMzMzMzMzGUBmZmZmZmYWQAAAAAAAABZAAAAAAAAAFkBmZmZmZmYYQDMzMzMzMxdAAAAAAAAAFEBmZmZmZmYWQM3MzMzMzBZAzczMzMzMFkDNzMzMzMwYQGZmZmZmZhRAzczMzMzMFkAzMzMzMzMZQDMzMzMzMxdAZmZmZmZmHEAzMzMzMzMZQAAAAAAAABpAZmZmZmZmHkCamZmZmZkTQDMzMzMzMx1AzczMzMzMGkDNzMzMzMwcQAAAAAAAABpAmpmZmZmZGUAzMzMzMzMbQM3MzMzMzBZAMzMzMzMzF0CamZmZmZkZQAAAAAAAABpAzczMzMzMHkDNzMzMzMweQAAAAAAAABhAmpmZmZmZG0BmZmZmZmYWQM3MzMzMzB5AMzMzMzMzGUDNzMzMzMwaQM3MzMzMzBxAzczMzMzMGEBmZmZmZmYYQJqZmZmZmRlAzczMzMzMHECamZmZmZkdQJqZmZmZmR9AmpmZmZmZGUAzMzMzMzMZQGZmZmZmZhhAzczMzMzMHkAzMzMzMzMZQJqZmZmZmRlAAAAAAAAAGECamZmZmZkbQM3MzMzMzBpAmpmZmZmZG0AzMzMzMzMXQDMzMzMzMxtAzczMzMzMGkDNzMzMzMwaQDMzMzMzMxlAAAAAAAAAGkDNzMzMzMwYQJqZmZmZmRdA', 'shape': (150,), 'dtype': 'float64'}, 'sepal_width': {'__ndarray__': 'AAAAAAAADEAAAAAAAAAIQJqZmZmZmQlAzczMzMzMCEDNzMzMzMwMQDMzMzMzMw9AMzMzMzMzC0AzMzMzMzMLQDMzMzMzMwdAzczMzMzMCECamZmZmZkNQDMzMzMzMwtAAAAAAAAACEAAAAAAAAAIQAAAAAAAABBAmpmZmZmZEUAzMzMzMzMPQAAAAAAAAAxAZmZmZmZmDkBmZmZmZmYOQDMzMzMzMwtAmpmZmZmZDUDNzMzMzMwMQGZmZmZmZgpAMzMzMzMzC0AAAAAAAAAIQDMzMzMzMwtAAAAAAAAADEAzMzMzMzMLQJqZmZmZmQlAzczMzMzMCEAzMzMzMzMLQGZmZmZmZhBAzczMzMzMEEDNzMzMzMwIQJqZmZmZmQlAAAAAAAAADEDNzMzMzMwMQAAAAAAAAAhAMzMzMzMzC0AAAAAAAAAMQGZmZmZmZgJAmpmZmZmZCUAAAAAAAAAMQGZmZmZmZg5AAAAAAAAACEBmZmZmZmYOQJqZmZmZmQlAmpmZmZmZDUBmZmZmZmYKQJqZmZmZmQlAmpmZmZmZCUDNzMzMzMwIQGZmZmZmZgJAZmZmZmZmBkBmZmZmZmYGQGZmZmZmZgpAMzMzMzMzA0AzMzMzMzMHQJqZmZmZmQVAAAAAAAAAAEAAAAAAAAAIQJqZmZmZmQFAMzMzMzMzB0AzMzMzMzMHQM3MzMzMzAhAAAAAAAAACECamZmZmZkFQJqZmZmZmQFAAAAAAAAABECamZmZmZkJQGZmZmZmZgZAAAAAAAAABEBmZmZmZmYGQDMzMzMzMwdAAAAAAAAACEBmZmZmZmYGQAAAAAAAAAhAMzMzMzMzB0DNzMzMzMwEQDMzMzMzMwNAMzMzMzMzA0CamZmZmZkFQJqZmZmZmQVAAAAAAAAACEAzMzMzMzMLQM3MzMzMzAhAZmZmZmZmAkAAAAAAAAAIQAAAAAAAAARAzczMzMzMBEAAAAAAAAAIQM3MzMzMzARAZmZmZmZmAkCamZmZmZkFQAAAAAAAAAhAMzMzMzMzB0AzMzMzMzMHQAAAAAAAAARAZmZmZmZmBkBmZmZmZmYKQJqZmZmZmQVAAAAAAAAACEAzMzMzMzMHQAAAAAAAAAhAAAAAAAAACEAAAAAAAAAEQDMzMzMzMwdAAAAAAAAABEDNzMzMzMwMQJqZmZmZmQlAmpmZmZmZBUAAAAAAAAAIQAAAAAAAAARAZmZmZmZmBkCamZmZmZkJQAAAAAAAAAhAZmZmZmZmDkDNzMzMzMwEQJqZmZmZmQFAmpmZmZmZCUBmZmZmZmYGQGZmZmZmZgZAmpmZmZmZBUBmZmZmZmYKQJqZmZmZmQlAZmZmZmZmBkAAAAAAAAAIQGZmZmZmZgZAAAAAAAAACEBmZmZmZmYGQGZmZmZmZg5AZmZmZmZmBkBmZmZmZmYGQM3MzMzMzARAAAAAAAAACEAzMzMzMzMLQM3MzMzMzAhAAAAAAAAACEDNzMzMzMwIQM3MzMzMzAhAzczMzMzMCECamZmZmZkFQJqZmZmZmQlAZmZmZmZmCkAAAAAAAAAIQAAAAAAAAARAAAAAAAAACEAzMzMzMzMLQAAAAAAAAAhA', 'shape': (150,), 'dtype': 'float64'}, 'species': ['setosa', 'setosa', 'setosa', 'setosa', 'setosa', 'setosa', 'setosa', 'setosa', 'setosa', 'setosa', 'setosa', 'setosa', 'setosa', 'setosa', 'setosa', 'setosa', 'setosa', 'setosa', 'setosa', 'setosa', 'setosa', 'setosa', 'setosa', 'setosa', 'setosa', 'setosa', 'setosa', 'setosa', 'setosa', 'setosa', 'setosa', 'setosa', 'setosa', 'setosa', 'setosa', 'setosa', 'setosa', 'setosa', 'setosa', 'setosa', 'setosa', 'setosa', 'setosa', 'setosa', 'setosa', 'setosa', 'setosa', 'setosa', 'setosa', 'setosa', 'versicolor', 'versicolor', 'versicolor', 'versicolor', 'versicolor', 'versicolor', 'versicolor', 'versicolor', 'versicolor', 'versicolor', 'versicolor', 'versicolor', 'versicolor', 'versicolor', 'versicolor', 'versicolor', 'versicolor', 'versicolor', 'versicolor', 'versicolor', 'versicolor', 'versicolor', 'versicolor', 'versicolor', 'versicolor', 'versicolor', 'versicolor', 'versicolor', 'versicolor', 'versicolor', 'versicolor', 'versicolor', 'versicolor', 'versicolor', 'versicolor', 'versicolor', 'versicolor', 'versicolor', 'versicolor', 'versicolor', 'versicolor', 'versicolor', 'versicolor', 'versicolor', 'versicolor', 'versicolor', 'versicolor', 'versicolor', 'versicolor', 'versicolor', 'virginica', 'virginica', 'virginica', 'virginica', 'virginica', 'virginica', 'virginica', 'virginica', 'virginica', 'virginica', 'virginica', 'virginica', 'virginica', 'virginica', 'virginica', 'virginica', 'virginica', 'virginica', 'virginica', 'virginica', 'virginica', 'virginica', 'virginica', 'virginica', 'virginica', 'virginica', 'virginica', 'virginica', 'virginica', 'virginica', 'virginica', 'virginica', 'virginica', 'virginica', 'virginica', 'virginica', 'virginica', 'virginica', 'virginica', 'virginica', 'virginica', 'virginica', 'virginica', 'virginica', 'virginica', 'virginica', 'virginica', 'virginica', 'virginica', 'virginica'], 'petal_width': {'__ndarray__': 'mpmZmZmZyT+amZmZmZnJP5qZmZmZmck/mpmZmZmZyT+amZmZmZnJP5qZmZmZmdk/MzMzMzMz0z+amZmZmZnJP5qZmZmZmck/mpmZmZmZuT+amZmZmZnJP5qZmZmZmck/mpmZmZmZuT+amZmZmZm5P5qZmZmZmck/mpmZmZmZ2T+amZmZmZnZPzMzMzMzM9M/MzMzMzMz0z8zMzMzMzPTP5qZmZmZmck/mpmZmZmZ2T+amZmZmZnJPwAAAAAAAOA/mpmZmZmZyT+amZmZmZnJP5qZmZmZmdk/mpmZmZmZyT+amZmZmZnJP5qZmZmZmck/mpmZmZmZyT+amZmZmZnZP5qZmZmZmbk/mpmZmZmZyT+amZmZmZnJP5qZmZmZmck/mpmZmZmZyT+amZmZmZm5P5qZmZmZmck/mpmZmZmZyT8zMzMzMzPTPzMzMzMzM9M/mpmZmZmZyT8zMzMzMzPjP5qZmZmZmdk/MzMzMzMz0z+amZmZmZnJP5qZmZmZmck/mpmZmZmZyT+amZmZmZnJP2ZmZmZmZvY/AAAAAAAA+D8AAAAAAAD4P83MzMzMzPQ/AAAAAAAA+D/NzMzMzMz0P5qZmZmZmfk/AAAAAAAA8D/NzMzMzMz0P2ZmZmZmZvY/AAAAAAAA8D8AAAAAAAD4PwAAAAAAAPA/ZmZmZmZm9j/NzMzMzMz0P2ZmZmZmZvY/AAAAAAAA+D8AAAAAAADwPwAAAAAAAPg/mpmZmZmZ8T/NzMzMzMz8P83MzMzMzPQ/AAAAAAAA+D8zMzMzMzPzP83MzMzMzPQ/ZmZmZmZm9j9mZmZmZmb2PzMzMzMzM/s/AAAAAAAA+D8AAAAAAADwP5qZmZmZmfE/AAAAAAAA8D8zMzMzMzPzP5qZmZmZmfk/AAAAAAAA+D+amZmZmZn5PwAAAAAAAPg/zczMzMzM9D/NzMzMzMz0P83MzMzMzPQ/MzMzMzMz8z9mZmZmZmb2PzMzMzMzM/M/AAAAAAAA8D/NzMzMzMz0PzMzMzMzM/M/zczMzMzM9D/NzMzMzMz0P5qZmZmZmfE/zczMzMzM9D8AAAAAAAAEQGZmZmZmZv4/zczMzMzMAEDNzMzMzMz8P5qZmZmZmQFAzczMzMzMAEAzMzMzMzP7P83MzMzMzPw/zczMzMzM/D8AAAAAAAAEQAAAAAAAAABAZmZmZmZm/j/NzMzMzMwAQAAAAAAAAABAMzMzMzMzA0BmZmZmZmYCQM3MzMzMzPw/mpmZmZmZAUBmZmZmZmYCQAAAAAAAAPg/ZmZmZmZmAkAAAAAAAAAAQAAAAAAAAABAzczMzMzM/D/NzMzMzMwAQM3MzMzMzPw/zczMzMzM/D/NzMzMzMz8P83MzMzMzABAmpmZmZmZ+T9mZmZmZmb+PwAAAAAAAABAmpmZmZmZAUAAAAAAAAD4P2ZmZmZmZvY/ZmZmZmZmAkAzMzMzMzMDQM3MzMzMzPw/zczMzMzM/D/NzMzMzMwAQDMzMzMzMwNAZmZmZmZmAkBmZmZmZmb+P2ZmZmZmZgJAAAAAAAAABEBmZmZmZmYCQGZmZmZmZv4/AAAAAAAAAEBmZmZmZmYCQM3MzMzMzPw/', 'shape': (150,), 'dtype': 'float64'}, 'index': [0, 1, 2, 3, 4, 5, 6, 7, 8, 9, 10, 11, 12, 13, 14, 15, 16, 17, 18, 19, 20, 21, 22, 23, 24, 25, 26, 27, 28, 29, 30, 31, 32, 33, 34, 35, 36, 37, 38, 39, 40, 41, 42, 43, 44, 45, 46, 47, 48, 49, 50, 51, 52, 53, 54, 55, 56, 57, 58, 59, 60, 61, 62, 63, 64, 65, 66, 67, 68, 69, 70, 71, 72, 73, 74, 75, 76, 77, 78, 79, 80, 81, 82, 83, 84, 85, 86, 87, 88, 89, 90, 91, 92, 93, 94, 95, 96, 97, 98, 99, 100, 101, 102, 103, 104, 105, 106, 107, 108, 109, 110, 111, 112, 113, 114, 115, 116, 117, 118, 119, 120, 121, 122, 123, 124, 125, 126, 127, 128, 129, 130, 131, 132, 133, 134, 135, 136, 137, 138, 139, 140, 141, 142, 143, 144, 145, 146, 147, 148, 149], 'petal_length': {'__ndarray__': 'ZmZmZmZm9j9mZmZmZmb2P83MzMzMzPQ/AAAAAAAA+D9mZmZmZmb2PzMzMzMzM/s/ZmZmZmZm9j8AAAAAAAD4P2ZmZmZmZvY/AAAAAAAA+D8AAAAAAAD4P5qZmZmZmfk/ZmZmZmZm9j+amZmZmZnxPzMzMzMzM/M/AAAAAAAA+D/NzMzMzMz0P2ZmZmZmZvY/MzMzMzMz+z8AAAAAAAD4PzMzMzMzM/s/AAAAAAAA+D8AAAAAAADwPzMzMzMzM/s/ZmZmZmZm/j+amZmZmZn5P5qZmZmZmfk/AAAAAAAA+D9mZmZmZmb2P5qZmZmZmfk/mpmZmZmZ+T8AAAAAAAD4PwAAAAAAAPg/ZmZmZmZm9j8AAAAAAAD4PzMzMzMzM/M/zczMzMzM9D9mZmZmZmb2P83MzMzMzPQ/AAAAAAAA+D/NzMzMzMz0P83MzMzMzPQ/zczMzMzM9D+amZmZmZn5P2ZmZmZmZv4/ZmZmZmZm9j+amZmZmZn5P2ZmZmZmZvY/AAAAAAAA+D9mZmZmZmb2P83MzMzMzBJAAAAAAAAAEkCamZmZmZkTQAAAAAAAABBAZmZmZmZmEkAAAAAAAAASQM3MzMzMzBJAZmZmZmZmCkBmZmZmZmYSQDMzMzMzMw9AAAAAAAAADEDNzMzMzMwQQAAAAAAAABBAzczMzMzMEkDNzMzMzMwMQJqZmZmZmRFAAAAAAAAAEkBmZmZmZmYQQAAAAAAAABJAMzMzMzMzD0AzMzMzMzMTQAAAAAAAABBAmpmZmZmZE0DNzMzMzMwSQDMzMzMzMxFAmpmZmZmZEUAzMzMzMzMTQAAAAAAAABRAAAAAAAAAEkAAAAAAAAAMQGZmZmZmZg5AmpmZmZmZDUAzMzMzMzMPQGZmZmZmZhRAAAAAAAAAEkAAAAAAAAASQM3MzMzMzBJAmpmZmZmZEUBmZmZmZmYQQAAAAAAAABBAmpmZmZmZEUBmZmZmZmYSQAAAAAAAABBAZmZmZmZmCkDNzMzMzMwQQM3MzMzMzBBAzczMzMzMEEAzMzMzMzMRQAAAAAAAAAhAZmZmZmZmEEAAAAAAAAAYQGZmZmZmZhRAmpmZmZmZF0BmZmZmZmYWQDMzMzMzMxdAZmZmZmZmGkAAAAAAAAASQDMzMzMzMxlAMzMzMzMzF0BmZmZmZmYYQGZmZmZmZhRAMzMzMzMzFUAAAAAAAAAWQAAAAAAAABRAZmZmZmZmFEAzMzMzMzMVQAAAAAAAABZAzczMzMzMGkCamZmZmZkbQAAAAAAAABRAzczMzMzMFkCamZmZmZkTQM3MzMzMzBpAmpmZmZmZE0DNzMzMzMwWQAAAAAAAABhAMzMzMzMzE0CamZmZmZkTQGZmZmZmZhZAMzMzMzMzF0BmZmZmZmYYQJqZmZmZmRlAZmZmZmZmFkBmZmZmZmYUQGZmZmZmZhZAZmZmZmZmGEBmZmZmZmYWQAAAAAAAABZAMzMzMzMzE0CamZmZmZkVQGZmZmZmZhZAZmZmZmZmFEBmZmZmZmYUQJqZmZmZmRdAzczMzMzMFkDNzMzMzMwUQAAAAAAAABRAzczMzMzMFECamZmZmZkVQGZmZmZmZhRA', 'shape': (150,), 'dtype': 'float64'}},</div></div><div class=\"98d8a664-82a0-4f1c-ac45-5fdc2d50d382\" style=\"display: none;\"><div style=\"display: table-cell;\"></div><div style=\"display: table-cell;\">js_event_callbacks&nbsp;=&nbsp;{},</div></div><div class=\"98d8a664-82a0-4f1c-ac45-5fdc2d50d382\" style=\"display: none;\"><div style=\"display: table-cell;\"></div><div style=\"display: table-cell;\">js_property_callbacks&nbsp;=&nbsp;{},</div></div><div class=\"98d8a664-82a0-4f1c-ac45-5fdc2d50d382\" style=\"display: none;\"><div style=\"display: table-cell;\"></div><div style=\"display: table-cell;\">name&nbsp;=&nbsp;None,</div></div><div class=\"98d8a664-82a0-4f1c-ac45-5fdc2d50d382\" style=\"display: none;\"><div style=\"display: table-cell;\"></div><div style=\"display: table-cell;\">selected&nbsp;=&nbsp;{'0d': {'glyph': None, 'indices': []}, '1d': {'indices': []}, '2d': {'indices': {}}},</div></div><div class=\"98d8a664-82a0-4f1c-ac45-5fdc2d50d382\" style=\"display: none;\"><div style=\"display: table-cell;\"></div><div style=\"display: table-cell;\">subscribed_events&nbsp;=&nbsp;[],</div></div><div class=\"98d8a664-82a0-4f1c-ac45-5fdc2d50d382\" style=\"display: none;\"><div style=\"display: table-cell;\"></div><div style=\"display: table-cell;\">tags&nbsp;=&nbsp;[])</div></div></div>\n",
       "<script>\n",
       "(function() {\n",
       "  var expanded = false;\n",
       "  var ellipsis = document.getElementById(\"678cc378-f2c2-4822-b7bd-085709e93c11\");\n",
       "  ellipsis.addEventListener(\"click\", function() {\n",
       "    var rows = document.getElementsByClassName(\"98d8a664-82a0-4f1c-ac45-5fdc2d50d382\");\n",
       "    for (var i = 0; i < rows.length; i++) {\n",
       "      var el = rows[i];\n",
       "      el.style.display = expanded ? \"none\" : \"table-row\";\n",
       "    }\n",
       "    ellipsis.innerHTML = expanded ? \"&hellip;)\" : \"&lsaquo;&lsaquo;&lsaquo;\";\n",
       "    expanded = !expanded;\n",
       "  });\n",
       "})();\n",
       "</script>\n"
      ],
      "text/plain": [
       "ColumnDataSource(id='dceab0e1-f164-4b37-9a0e-3db6372d4902', ...)"
      ]
     },
     "execution_count": 150,
     "metadata": {},
     "output_type": "execute_result"
    }
   ],
   "source": [
    "source = ColumnDataSource(flowers)\n",
    "source"
   ]
  },
  {
   "cell_type": "markdown",
   "metadata": {},
   "source": [
    "### Plotting data from NumPy arrays"
   ]
  },
  {
   "cell_type": "code",
   "execution_count": 152,
   "metadata": {},
   "outputs": [
    {
     "data": {
      "text/html": [
       "\n",
       "<div class=\"bk-root\">\n",
       "    <div class=\"bk-plotdiv\" id=\"a650793a-72e6-4c40-bc78-35d1ec61b2cf\"></div>\n",
       "</div>"
      ]
     },
     "metadata": {},
     "output_type": "display_data"
    },
    {
     "data": {
      "application/javascript": [
       "(function(root) {\n",
       "  function embed_document(root) {\n",
       "    var docs_json = {\"c62cdac2-04e4-4544-9ce2-e995a8e21dd0\":{\"roots\":{\"references\":[{\"attributes\":{},\"id\":\"d0bd2904-f763-478a-887e-91d4f5dc08ea\",\"type\":\"HelpTool\"},{\"attributes\":{\"plot\":{\"id\":\"52066bf9-d93e-4d9f-a7aa-fe40c5d07105\",\"subtype\":\"Figure\",\"type\":\"Plot\"},\"ticker\":{\"id\":\"2de06aae-d50d-4b83-93e1-eaf349337f8a\",\"type\":\"BasicTicker\"}},\"id\":\"9c2876f8-b258-47d6-afa6-acf297d444d0\",\"type\":\"Grid\"},{\"attributes\":{\"callback\":null},\"id\":\"e36eafb8-4780-4d37-a345-1bad66752725\",\"type\":\"DataRange1d\"},{\"attributes\":{},\"id\":\"c0cf8a4d-0c1b-4c35-8179-ee4e92f24bc4\",\"type\":\"BasicTickFormatter\"},{\"attributes\":{\"fill_alpha\":{\"value\":0.1},\"fill_color\":{\"value\":\"#1f77b4\"},\"line_alpha\":{\"value\":0.1},\"line_color\":{\"value\":\"#1f77b4\"},\"x\":{\"field\":\"x\"},\"y\":{\"field\":\"y\"}},\"id\":\"d79bde97-7dba-4c14-a5d6-3f60b374089d\",\"type\":\"Circle\"},{\"attributes\":{},\"id\":\"2de06aae-d50d-4b83-93e1-eaf349337f8a\",\"type\":\"BasicTicker\"},{\"attributes\":{},\"id\":\"bf74580b-980f-4119-8105-6f2ef14c87fd\",\"type\":\"ResetTool\"},{\"attributes\":{\"fill_color\":{\"value\":\"#1f77b4\"},\"line_color\":{\"value\":\"#1f77b4\"},\"x\":{\"field\":\"x\"},\"y\":{\"field\":\"y\"}},\"id\":\"f1c0dc46-7a09-415b-af68-9e6711940148\",\"type\":\"Circle\"},{\"attributes\":{\"callback\":null,\"column_names\":[\"x\",\"y\"],\"data\":{\"x\":{\"__ndarray__\":\"AAAAAAAAAAAxb2dIzNupPzFvZ0jM27k/ZZNNNtlkwz8xb2dIzNvJP3+lQK1fKdA/ZZNNNtlk0z9LgVq/UqDWPzFvZ0jM29k/F1100UUX3T9/pUCtXyngP3Icx3Ecx+E/ZZNNNtlk4z9YCtT6lQLlP0uBWr9SoOY/Pvjggw8+6D8xb2dIzNvpPyTm7QyJees/F1100UUX7T8K1PqVArXuP3+lQK1fKfA/+OCDDz748D9yHMdxHMfxP+tXCtT6lfI/ZZNNNtlk8z/ezpCYtzP0P1gK1PqVAvU/0UUXXXTR9T9LgVq/UqD2P8S8nSExb/c/Pvjggw8++D+3MyTm7Qz5PzFvZ0jM2/k/q6qqqqqq+j8k5u0MiXn7P54hMW9nSPw/F1100UUX/T+RmLczJOb9PwrU+pUCtf4/hA8++OCD/z9/pUCtXykAQDtDYt7OkABA+OCDDz74AEC1fqVArV8BQHIcx3EcxwFALrrooosuAkDrVwrU+pUCQKj1KwVq/QJAZZNNNtlkA0AiMW9nSMwDQN7OkJi3MwRAm2yyySabBEBYCtT6lQIFQBWo9SsFagVA0UUXXXTRBUCO4ziO4zgGQEuBWr9SoAZACB988MEHB0DEvJ0hMW8HQIFav1Kg1gdAPvjggw8+CED7lQK1fqUIQLczJObtDAlAdNFFF110CUAxb2dIzNsJQO4MiXk7QwpAq6qqqqqqCkBnSMzbGRILQCTm7QyJeQtA4YMPPvjgC0CeITFvZ0gMQFq/UqDWrwxAF1100UUXDUDU+pUCtX4NQJGYtzMk5g1ATTbZZJNNDkAK1PqVArUOQMdxHMdxHA9AhA8++OCDD0BArV8pUOsPQH+lQK1fKRBAXXTRRRddEEA7Q2LezpAQQBoS83aGxBBA+OCDDz74EEDXrxSo9SsRQLV+pUCtXxFAk0022WSTEUByHMdxHMcRQFDrVwrU+hFALrrooosuEkANiXk7Q2ISQOtXCtT6lRJAyiabbLLJEkCo9SsFav0SQIbEvJ0hMRNAZZNNNtlkE0BDYt7OkJgTQCIxb2dIzBNAAAAAAAAAFEA=\",\"dtype\":\"float64\",\"shape\":[100]},\"y\":{\"__ndarray__\":\"AAAAAAAA8D+IOhPnjfXvP2y1GW4+1u8/HBEGBiai7z/0ZpixZlnvP5AIKu8v/O4/yNmrmb6K7j9cg+vAXAXuP3RuOXlhbO0/9xmPojDA7D8251qnOgHsP4HvGzP8L+s/j8z94P1M6j/idqni01jpP3ZzhZ8dVOg/pnqkTIU/5z8miaZ9vxvmP+/m1K6K6eQ/HRvGyK6p4z9M/dqd/FziP8UY6mFNBOE/gcXkOARB3z8LrmMrBmXcP1nJ/31+dtk/P1edLVd31j+BxXERhWnTP7+kCZQGT9A/3nwczMRTyj9osEhXTPjDP4viBJWUH7s/7bevprZ5rD/lJeEMaA11P1iQonMUOKe/wMctpFaBuL9f2la8UavCv7h8xfHHCcm/yTeLfeVXz7/q2GVLxsjSv1v6TmhW2dW/Q+6l4KLb2L8Zq47PtM3bv11nfeifrd6/q4hO3MG84L9cmTxwxhfiv9k8jyL7ZuO/b1n1G4Wp5L9kiiXKkd7lvxooV2lXBee/xHL7hxUd6L+C4GCEFSXpv+aI7gOrHOq/jtapYzQD67+6CL0hG9jrv3SguT/Umuy//JJWneBK7b99A29LzeftvwpVC9czce6/G5hDjLrm7r8Zqc+wFEjvvzrEHrYCle+/xNrVYlLN77/fkpnz3vDvv96JDjOR/++/qi0AiV/5778LSaQATt7vv9wr90Vuru+/bCgymt9p779C7mO/zhDvv4kUONt1o+6/3+cAURwi7r/8QxyTFo3tv6bm0evF5Oy/BTrPPZgp7L8FDmq8B1zrv5IW2ZuafOq/UUSWueKL6b8kKyQ9fYrov0aidDESeee/W5kzF1RY5r8hwj1w/yjlv4cjj0Ta6+O/6+75oLOh4r+m/vkPY0vhv5B8+hmQ09+/urT55JL73L+R8IzGqRDav5G3r168FNe/1oRkab0J1L83wRp5qfHQv3AkUVULncu/pYFip7xExb9nglKxFr29v6fIG9RJ3bC/D7lnLtOTj7/gYJ910fWhP1YiQABv4rU/DwVx2NVdwT/fTHmzHb/HP6i1P8XkEM4/2kprcIUn0j8=\",\"dtype\":\"float64\",\"shape\":[100]}}},\"id\":\"75f78448-e863-4ce5-ba13-b7813d9daed9\",\"type\":\"ColumnDataSource\"},{\"attributes\":{\"plot\":null,\"text\":\"\"},\"id\":\"2c5f684e-c281-434b-824a-598d2169f790\",\"type\":\"Title\"},{\"attributes\":{\"callback\":null},\"id\":\"582e34e6-c0d0-4a7c-a3aa-0f5548a508d2\",\"type\":\"DataRange1d\"},{\"attributes\":{\"dimension\":1,\"plot\":{\"id\":\"52066bf9-d93e-4d9f-a7aa-fe40c5d07105\",\"subtype\":\"Figure\",\"type\":\"Plot\"},\"ticker\":{\"id\":\"a21103a2-9d20-4761-9668-032d9a8ad88e\",\"type\":\"BasicTicker\"}},\"id\":\"568d99c5-e071-4c8e-85b5-e5e48f79f11c\",\"type\":\"Grid\"},{\"attributes\":{\"overlay\":{\"id\":\"967fc6bd-8951-4784-869a-bc9384eff36c\",\"type\":\"BoxAnnotation\"}},\"id\":\"ce5424f6-9558-48bb-8e2c-b141af44b179\",\"type\":\"BoxZoomTool\"},{\"attributes\":{\"source\":{\"id\":\"75f78448-e863-4ce5-ba13-b7813d9daed9\",\"type\":\"ColumnDataSource\"}},\"id\":\"8e14d7ff-8159-4858-9506-941f9810c252\",\"type\":\"CDSView\"},{\"attributes\":{},\"id\":\"20d9c7b1-3789-4136-b658-1fe97f31ca29\",\"type\":\"LinearScale\"},{\"attributes\":{\"data_source\":{\"id\":\"75f78448-e863-4ce5-ba13-b7813d9daed9\",\"type\":\"ColumnDataSource\"},\"glyph\":{\"id\":\"f1c0dc46-7a09-415b-af68-9e6711940148\",\"type\":\"Circle\"},\"hover_glyph\":null,\"muted_glyph\":null,\"nonselection_glyph\":{\"id\":\"d79bde97-7dba-4c14-a5d6-3f60b374089d\",\"type\":\"Circle\"},\"selection_glyph\":null,\"view\":{\"id\":\"8e14d7ff-8159-4858-9506-941f9810c252\",\"type\":\"CDSView\"}},\"id\":\"0e1ed67d-b2b7-4c2a-b681-bca074985f00\",\"type\":\"GlyphRenderer\"},{\"attributes\":{\"active_drag\":\"auto\",\"active_inspect\":\"auto\",\"active_scroll\":\"auto\",\"active_tap\":\"auto\",\"tools\":[{\"id\":\"c69ddbd9-2202-4e54-a79e-84dbecf136a0\",\"type\":\"PanTool\"},{\"id\":\"c76ea739-4a7f-46f4-b79c-fad7fbfdd5a6\",\"type\":\"WheelZoomTool\"},{\"id\":\"ce5424f6-9558-48bb-8e2c-b141af44b179\",\"type\":\"BoxZoomTool\"},{\"id\":\"8c30f091-b44b-448c-9c8c-72751e3fe5d9\",\"type\":\"SaveTool\"},{\"id\":\"bf74580b-980f-4119-8105-6f2ef14c87fd\",\"type\":\"ResetTool\"},{\"id\":\"d0bd2904-f763-478a-887e-91d4f5dc08ea\",\"type\":\"HelpTool\"}]},\"id\":\"91bb5618-e9ee-404e-8345-a62b2fa33034\",\"type\":\"Toolbar\"},{\"attributes\":{\"below\":[{\"id\":\"48ae98d7-3e99-42f3-a0e8-803417ee42d5\",\"type\":\"LinearAxis\"}],\"left\":[{\"id\":\"f30d7cae-73e5-451f-a061-15abd3482e25\",\"type\":\"LinearAxis\"}],\"renderers\":[{\"id\":\"48ae98d7-3e99-42f3-a0e8-803417ee42d5\",\"type\":\"LinearAxis\"},{\"id\":\"9c2876f8-b258-47d6-afa6-acf297d444d0\",\"type\":\"Grid\"},{\"id\":\"f30d7cae-73e5-451f-a061-15abd3482e25\",\"type\":\"LinearAxis\"},{\"id\":\"568d99c5-e071-4c8e-85b5-e5e48f79f11c\",\"type\":\"Grid\"},{\"id\":\"967fc6bd-8951-4784-869a-bc9384eff36c\",\"type\":\"BoxAnnotation\"},{\"id\":\"0e1ed67d-b2b7-4c2a-b681-bca074985f00\",\"type\":\"GlyphRenderer\"}],\"title\":{\"id\":\"2c5f684e-c281-434b-824a-598d2169f790\",\"type\":\"Title\"},\"toolbar\":{\"id\":\"91bb5618-e9ee-404e-8345-a62b2fa33034\",\"type\":\"Toolbar\"},\"x_range\":{\"id\":\"e36eafb8-4780-4d37-a345-1bad66752725\",\"type\":\"DataRange1d\"},\"x_scale\":{\"id\":\"c3ca7ca1-f9c4-435c-95a5-1a40f30fc4ac\",\"type\":\"LinearScale\"},\"y_range\":{\"id\":\"582e34e6-c0d0-4a7c-a3aa-0f5548a508d2\",\"type\":\"DataRange1d\"},\"y_scale\":{\"id\":\"20d9c7b1-3789-4136-b658-1fe97f31ca29\",\"type\":\"LinearScale\"}},\"id\":\"52066bf9-d93e-4d9f-a7aa-fe40c5d07105\",\"subtype\":\"Figure\",\"type\":\"Plot\"},{\"attributes\":{},\"id\":\"bba732c5-5444-4537-9a63-c3f9b10b5bbe\",\"type\":\"BasicTickFormatter\"},{\"attributes\":{\"bottom_units\":\"screen\",\"fill_alpha\":{\"value\":0.5},\"fill_color\":{\"value\":\"lightgrey\"},\"left_units\":\"screen\",\"level\":\"overlay\",\"line_alpha\":{\"value\":1.0},\"line_color\":{\"value\":\"black\"},\"line_dash\":[4,4],\"line_width\":{\"value\":2},\"plot\":null,\"render_mode\":\"css\",\"right_units\":\"screen\",\"top_units\":\"screen\"},\"id\":\"967fc6bd-8951-4784-869a-bc9384eff36c\",\"type\":\"BoxAnnotation\"},{\"attributes\":{},\"id\":\"c3ca7ca1-f9c4-435c-95a5-1a40f30fc4ac\",\"type\":\"LinearScale\"},{\"attributes\":{\"formatter\":{\"id\":\"bba732c5-5444-4537-9a63-c3f9b10b5bbe\",\"type\":\"BasicTickFormatter\"},\"plot\":{\"id\":\"52066bf9-d93e-4d9f-a7aa-fe40c5d07105\",\"subtype\":\"Figure\",\"type\":\"Plot\"},\"ticker\":{\"id\":\"a21103a2-9d20-4761-9668-032d9a8ad88e\",\"type\":\"BasicTicker\"}},\"id\":\"f30d7cae-73e5-451f-a061-15abd3482e25\",\"type\":\"LinearAxis\"},{\"attributes\":{},\"id\":\"8c30f091-b44b-448c-9c8c-72751e3fe5d9\",\"type\":\"SaveTool\"},{\"attributes\":{},\"id\":\"c76ea739-4a7f-46f4-b79c-fad7fbfdd5a6\",\"type\":\"WheelZoomTool\"},{\"attributes\":{},\"id\":\"a21103a2-9d20-4761-9668-032d9a8ad88e\",\"type\":\"BasicTicker\"},{\"attributes\":{},\"id\":\"c69ddbd9-2202-4e54-a79e-84dbecf136a0\",\"type\":\"PanTool\"},{\"attributes\":{\"formatter\":{\"id\":\"c0cf8a4d-0c1b-4c35-8179-ee4e92f24bc4\",\"type\":\"BasicTickFormatter\"},\"plot\":{\"id\":\"52066bf9-d93e-4d9f-a7aa-fe40c5d07105\",\"subtype\":\"Figure\",\"type\":\"Plot\"},\"ticker\":{\"id\":\"2de06aae-d50d-4b83-93e1-eaf349337f8a\",\"type\":\"BasicTicker\"}},\"id\":\"48ae98d7-3e99-42f3-a0e8-803417ee42d5\",\"type\":\"LinearAxis\"}],\"root_ids\":[\"52066bf9-d93e-4d9f-a7aa-fe40c5d07105\"]},\"title\":\"Bokeh Application\",\"version\":\"0.12.10\"}};\n",
       "    var render_items = [{\"docid\":\"c62cdac2-04e4-4544-9ce2-e995a8e21dd0\",\"elementid\":\"a650793a-72e6-4c40-bc78-35d1ec61b2cf\",\"modelid\":\"52066bf9-d93e-4d9f-a7aa-fe40c5d07105\"}];\n",
       "\n",
       "    root.Bokeh.embed.embed_items(docs_json, render_items);\n",
       "  }\n",
       "\n",
       "  if (root.Bokeh !== undefined) {\n",
       "    embed_document(root);\n",
       "  } else {\n",
       "    var attempts = 0;\n",
       "    var timer = setInterval(function(root) {\n",
       "      if (root.Bokeh !== undefined) {\n",
       "        embed_document(root);\n",
       "        clearInterval(timer);\n",
       "      }\n",
       "      attempts++;\n",
       "      if (attempts > 100) {\n",
       "        console.log(\"Bokeh: ERROR: Unable to embed document because BokehJS library is missing\")\n",
       "        clearInterval(timer);\n",
       "      }\n",
       "    }, 10, root)\n",
       "  }\n",
       "})(window);"
      ],
      "application/vnd.bokehjs_exec.v0+json": ""
     },
     "metadata": {
      "application/vnd.bokehjs_exec.v0+json": {
       "id": "52066bf9-d93e-4d9f-a7aa-fe40c5d07105"
      }
     },
     "output_type": "display_data"
    }
   ],
   "source": [
    "# Create array using np.linspace: x\n",
    "x = np.linspace(0,5,100)\n",
    "\n",
    "# Create array using np.cos: y\n",
    "y = np.cos(x)\n",
    "\n",
    "# Add circles at x and y\n",
    "p = figure()\n",
    "p.circle(x, y)\n",
    "show(p)"
   ]
  },
  {
   "cell_type": "markdown",
   "metadata": {},
   "source": [
    "### Plotting data from Pandas DataFrames"
   ]
  },
  {
   "cell_type": "code",
   "execution_count": 153,
   "metadata": {},
   "outputs": [
    {
     "data": {
      "text/html": [
       "<div>\n",
       "<style>\n",
       "    .dataframe thead tr:only-child th {\n",
       "        text-align: right;\n",
       "    }\n",
       "\n",
       "    .dataframe thead th {\n",
       "        text-align: left;\n",
       "    }\n",
       "\n",
       "    .dataframe tbody tr th {\n",
       "        vertical-align: top;\n",
       "    }\n",
       "</style>\n",
       "<table border=\"1\" class=\"dataframe\">\n",
       "  <thead>\n",
       "    <tr style=\"text-align: right;\">\n",
       "      <th></th>\n",
       "      <th>mpg</th>\n",
       "      <th>cyl</th>\n",
       "      <th>displ</th>\n",
       "      <th>hp</th>\n",
       "      <th>weight</th>\n",
       "      <th>accel</th>\n",
       "      <th>yr</th>\n",
       "      <th>origin</th>\n",
       "      <th>name</th>\n",
       "      <th>color</th>\n",
       "      <th>size</th>\n",
       "    </tr>\n",
       "  </thead>\n",
       "  <tbody>\n",
       "    <tr>\n",
       "      <th>0</th>\n",
       "      <td>18.0</td>\n",
       "      <td>6</td>\n",
       "      <td>250.0</td>\n",
       "      <td>88</td>\n",
       "      <td>3139</td>\n",
       "      <td>14.5</td>\n",
       "      <td>71</td>\n",
       "      <td>US</td>\n",
       "      <td>ford mustang</td>\n",
       "      <td>blue</td>\n",
       "      <td>15.0</td>\n",
       "    </tr>\n",
       "    <tr>\n",
       "      <th>1</th>\n",
       "      <td>9.0</td>\n",
       "      <td>8</td>\n",
       "      <td>304.0</td>\n",
       "      <td>193</td>\n",
       "      <td>4732</td>\n",
       "      <td>18.5</td>\n",
       "      <td>70</td>\n",
       "      <td>US</td>\n",
       "      <td>hi 1200d</td>\n",
       "      <td>blue</td>\n",
       "      <td>20.0</td>\n",
       "    </tr>\n",
       "    <tr>\n",
       "      <th>2</th>\n",
       "      <td>36.1</td>\n",
       "      <td>4</td>\n",
       "      <td>91.0</td>\n",
       "      <td>60</td>\n",
       "      <td>1800</td>\n",
       "      <td>16.4</td>\n",
       "      <td>78</td>\n",
       "      <td>Asia</td>\n",
       "      <td>honda civic cvcc</td>\n",
       "      <td>red</td>\n",
       "      <td>10.0</td>\n",
       "    </tr>\n",
       "    <tr>\n",
       "      <th>3</th>\n",
       "      <td>18.5</td>\n",
       "      <td>6</td>\n",
       "      <td>250.0</td>\n",
       "      <td>98</td>\n",
       "      <td>3525</td>\n",
       "      <td>19.0</td>\n",
       "      <td>77</td>\n",
       "      <td>US</td>\n",
       "      <td>ford granada</td>\n",
       "      <td>blue</td>\n",
       "      <td>15.0</td>\n",
       "    </tr>\n",
       "    <tr>\n",
       "      <th>4</th>\n",
       "      <td>34.3</td>\n",
       "      <td>4</td>\n",
       "      <td>97.0</td>\n",
       "      <td>78</td>\n",
       "      <td>2188</td>\n",
       "      <td>15.8</td>\n",
       "      <td>80</td>\n",
       "      <td>Europe</td>\n",
       "      <td>audi 4000</td>\n",
       "      <td>green</td>\n",
       "      <td>10.0</td>\n",
       "    </tr>\n",
       "  </tbody>\n",
       "</table>\n",
       "</div>"
      ],
      "text/plain": [
       "    mpg  cyl  displ   hp  weight  accel  yr  origin              name  color  \\\n",
       "0  18.0    6  250.0   88    3139   14.5  71      US      ford mustang   blue   \n",
       "1   9.0    8  304.0  193    4732   18.5  70      US          hi 1200d   blue   \n",
       "2  36.1    4   91.0   60    1800   16.4  78    Asia  honda civic cvcc    red   \n",
       "3  18.5    6  250.0   98    3525   19.0  77      US      ford granada   blue   \n",
       "4  34.3    4   97.0   78    2188   15.8  80  Europe         audi 4000  green   \n",
       "\n",
       "   size  \n",
       "0  15.0  \n",
       "1  20.0  \n",
       "2  10.0  \n",
       "3  15.0  \n",
       "4  10.0  "
      ]
     },
     "execution_count": 153,
     "metadata": {},
     "output_type": "execute_result"
    }
   ],
   "source": [
    "file = 'https://assets.datacamp.com/production/course_1392/datasets/auto-mpg.csv'\n",
    "df = pd.read_csv(file)\n",
    "df.head()"
   ]
  },
  {
   "cell_type": "code",
   "execution_count": 154,
   "metadata": {},
   "outputs": [
    {
     "data": {
      "text/html": [
       "\n",
       "<div class=\"bk-root\">\n",
       "    <div class=\"bk-plotdiv\" id=\"72764d9f-1b15-4aba-9ad3-24dbfc7fb23b\"></div>\n",
       "</div>"
      ]
     },
     "metadata": {},
     "output_type": "display_data"
    },
    {
     "data": {
      "application/javascript": [
       "(function(root) {\n",
       "  function embed_document(root) {\n",
       "    var docs_json = {\"6a77c351-4b9a-405b-81af-9400025fcef5\":{\"roots\":{\"references\":[{\"attributes\":{},\"id\":\"dcfcee00-7919-4a62-946c-cf417d4271b2\",\"type\":\"SaveTool\"},{\"attributes\":{},\"id\":\"c78e4580-29c9-4de2-814d-0ab2b2416655\",\"type\":\"BasicTickFormatter\"},{\"attributes\":{},\"id\":\"33177839-ba3f-4fb5-a33a-1393d737c8f5\",\"type\":\"BasicTicker\"},{\"attributes\":{\"active_drag\":\"auto\",\"active_inspect\":\"auto\",\"active_scroll\":\"auto\",\"active_tap\":\"auto\",\"tools\":[{\"id\":\"14c5c2c7-0dc2-40c3-8d76-d399ecb4e285\",\"type\":\"PanTool\"},{\"id\":\"de549b2d-311f-46fa-8d06-78b6c8b99892\",\"type\":\"WheelZoomTool\"},{\"id\":\"2c682bd2-abec-437a-af87-1f1491ce0b94\",\"type\":\"BoxZoomTool\"},{\"id\":\"dcfcee00-7919-4a62-946c-cf417d4271b2\",\"type\":\"SaveTool\"},{\"id\":\"e60c3c9c-2f81-40f1-822d-4d2194a9e3d3\",\"type\":\"ResetTool\"},{\"id\":\"3a83b737-a00a-4ea3-8bb2-5b4945df751f\",\"type\":\"HelpTool\"}]},\"id\":\"ae88b1c6-e8dc-429c-a674-e5e13f2566e6\",\"type\":\"Toolbar\"},{\"attributes\":{\"fill_color\":{\"field\":\"fill_color\"},\"line_color\":{\"field\":\"line_color\"},\"size\":{\"units\":\"screen\",\"value\":10},\"x\":{\"field\":\"x\"},\"y\":{\"field\":\"y\"}},\"id\":\"899c2590-4df2-4baf-ab4f-60afb32681e5\",\"type\":\"Circle\"},{\"attributes\":{\"callback\":null,\"column_names\":[\"x\",\"y\",\"fill_color\",\"line_color\"],\"data\":{\"fill_color\":[\"blue\",\"blue\",\"red\",\"blue\",\"green\",\"red\",\"red\",\"green\",\"blue\",\"blue\",\"green\",\"blue\",\"blue\",\"blue\",\"blue\",\"blue\",\"green\",\"blue\",\"red\",\"red\",\"blue\",\"blue\",\"blue\",\"blue\",\"blue\",\"green\",\"red\",\"red\",\"blue\",\"red\",\"red\",\"blue\",\"blue\",\"blue\",\"green\",\"green\",\"blue\",\"blue\",\"blue\",\"blue\",\"red\",\"blue\",\"blue\",\"blue\",\"blue\",\"red\",\"red\",\"blue\",\"blue\",\"blue\",\"blue\",\"blue\",\"red\",\"blue\",\"green\",\"blue\",\"blue\",\"blue\",\"blue\",\"red\",\"red\",\"blue\",\"blue\",\"blue\",\"blue\",\"blue\",\"blue\",\"blue\",\"blue\",\"blue\",\"blue\",\"green\",\"blue\",\"blue\",\"red\",\"blue\",\"blue\",\"blue\",\"blue\",\"green\",\"green\",\"green\",\"green\",\"blue\",\"blue\",\"green\",\"blue\",\"blue\",\"red\",\"blue\",\"blue\",\"blue\",\"blue\",\"red\",\"red\",\"blue\",\"red\",\"blue\",\"blue\",\"blue\",\"green\",\"green\",\"blue\",\"blue\",\"green\",\"green\",\"blue\",\"blue\",\"red\",\"green\",\"green\",\"blue\",\"blue\",\"blue\",\"green\",\"blue\",\"red\",\"blue\",\"blue\",\"blue\",\"green\",\"red\",\"blue\",\"green\",\"blue\",\"green\",\"green\",\"blue\",\"blue\",\"blue\",\"blue\",\"blue\",\"green\",\"blue\",\"blue\",\"red\",\"blue\",\"green\",\"blue\",\"blue\",\"green\",\"blue\",\"blue\",\"blue\",\"blue\",\"red\",\"green\",\"blue\",\"blue\",\"green\",\"blue\",\"blue\",\"green\",\"red\",\"blue\",\"blue\",\"blue\",\"red\",\"red\",\"blue\",\"red\",\"blue\",\"blue\",\"green\",\"green\",\"green\",\"blue\",\"red\",\"blue\",\"red\",\"blue\",\"red\",\"blue\",\"blue\",\"blue\",\"blue\",\"blue\",\"green\",\"blue\",\"blue\",\"blue\",\"green\",\"blue\",\"green\",\"blue\",\"blue\",\"green\",\"blue\",\"red\",\"green\",\"blue\",\"green\",\"blue\",\"blue\",\"blue\",\"blue\",\"blue\",\"blue\",\"red\",\"blue\",\"blue\",\"green\",\"blue\",\"red\",\"red\",\"red\",\"blue\",\"blue\",\"blue\",\"blue\",\"red\",\"red\",\"red\",\"blue\",\"blue\",\"red\",\"red\",\"red\",\"blue\",\"blue\",\"blue\",\"blue\",\"blue\",\"red\",\"blue\",\"blue\",\"blue\",\"red\",\"blue\",\"blue\",\"blue\",\"blue\",\"green\",\"blue\",\"blue\",\"blue\",\"blue\",\"blue\",\"red\",\"green\",\"green\",\"red\",\"blue\",\"red\",\"blue\",\"blue\",\"blue\",\"red\",\"red\",\"blue\",\"blue\",\"red\",\"blue\",\"red\",\"blue\",\"red\",\"blue\",\"green\",\"red\",\"blue\",\"blue\",\"blue\",\"green\",\"blue\",\"blue\",\"green\",\"blue\",\"blue\",\"blue\",\"blue\",\"blue\",\"blue\",\"blue\",\"green\",\"blue\",\"red\",\"blue\",\"red\",\"green\",\"blue\",\"blue\",\"red\",\"red\",\"blue\",\"blue\",\"red\",\"green\",\"green\",\"blue\",\"blue\",\"red\",\"blue\",\"blue\",\"blue\",\"blue\",\"red\",\"blue\",\"green\",\"red\",\"red\",\"green\",\"blue\",\"blue\",\"green\",\"blue\",\"green\",\"blue\",\"blue\",\"green\",\"blue\",\"blue\",\"green\",\"blue\",\"blue\",\"blue\",\"blue\",\"blue\",\"blue\",\"green\",\"blue\",\"blue\",\"red\",\"blue\",\"red\",\"blue\",\"blue\",\"blue\",\"red\",\"blue\",\"red\",\"green\",\"blue\",\"blue\",\"blue\",\"blue\",\"red\",\"blue\",\"blue\",\"blue\",\"blue\",\"blue\",\"blue\",\"blue\",\"blue\",\"blue\",\"blue\",\"blue\",\"blue\",\"blue\",\"blue\",\"blue\",\"blue\",\"green\",\"green\",\"red\",\"green\",\"red\",\"blue\",\"red\",\"blue\",\"blue\",\"green\",\"green\",\"blue\",\"green\",\"blue\",\"red\",\"blue\",\"blue\",\"red\",\"red\",\"blue\",\"blue\",\"blue\",\"blue\",\"blue\",\"green\",\"green\",\"blue\",\"blue\",\"blue\",\"green\",\"blue\",\"red\",\"red\",\"red\",\"red\",\"blue\",\"blue\",\"red\",\"blue\",\"blue\"],\"line_color\":[\"blue\",\"blue\",\"red\",\"blue\",\"green\",\"red\",\"red\",\"green\",\"blue\",\"blue\",\"green\",\"blue\",\"blue\",\"blue\",\"blue\",\"blue\",\"green\",\"blue\",\"red\",\"red\",\"blue\",\"blue\",\"blue\",\"blue\",\"blue\",\"green\",\"red\",\"red\",\"blue\",\"red\",\"red\",\"blue\",\"blue\",\"blue\",\"green\",\"green\",\"blue\",\"blue\",\"blue\",\"blue\",\"red\",\"blue\",\"blue\",\"blue\",\"blue\",\"red\",\"red\",\"blue\",\"blue\",\"blue\",\"blue\",\"blue\",\"red\",\"blue\",\"green\",\"blue\",\"blue\",\"blue\",\"blue\",\"red\",\"red\",\"blue\",\"blue\",\"blue\",\"blue\",\"blue\",\"blue\",\"blue\",\"blue\",\"blue\",\"blue\",\"green\",\"blue\",\"blue\",\"red\",\"blue\",\"blue\",\"blue\",\"blue\",\"green\",\"green\",\"green\",\"green\",\"blue\",\"blue\",\"green\",\"blue\",\"blue\",\"red\",\"blue\",\"blue\",\"blue\",\"blue\",\"red\",\"red\",\"blue\",\"red\",\"blue\",\"blue\",\"blue\",\"green\",\"green\",\"blue\",\"blue\",\"green\",\"green\",\"blue\",\"blue\",\"red\",\"green\",\"green\",\"blue\",\"blue\",\"blue\",\"green\",\"blue\",\"red\",\"blue\",\"blue\",\"blue\",\"green\",\"red\",\"blue\",\"green\",\"blue\",\"green\",\"green\",\"blue\",\"blue\",\"blue\",\"blue\",\"blue\",\"green\",\"blue\",\"blue\",\"red\",\"blue\",\"green\",\"blue\",\"blue\",\"green\",\"blue\",\"blue\",\"blue\",\"blue\",\"red\",\"green\",\"blue\",\"blue\",\"green\",\"blue\",\"blue\",\"green\",\"red\",\"blue\",\"blue\",\"blue\",\"red\",\"red\",\"blue\",\"red\",\"blue\",\"blue\",\"green\",\"green\",\"green\",\"blue\",\"red\",\"blue\",\"red\",\"blue\",\"red\",\"blue\",\"blue\",\"blue\",\"blue\",\"blue\",\"green\",\"blue\",\"blue\",\"blue\",\"green\",\"blue\",\"green\",\"blue\",\"blue\",\"green\",\"blue\",\"red\",\"green\",\"blue\",\"green\",\"blue\",\"blue\",\"blue\",\"blue\",\"blue\",\"blue\",\"red\",\"blue\",\"blue\",\"green\",\"blue\",\"red\",\"red\",\"red\",\"blue\",\"blue\",\"blue\",\"blue\",\"red\",\"red\",\"red\",\"blue\",\"blue\",\"red\",\"red\",\"red\",\"blue\",\"blue\",\"blue\",\"blue\",\"blue\",\"red\",\"blue\",\"blue\",\"blue\",\"red\",\"blue\",\"blue\",\"blue\",\"blue\",\"green\",\"blue\",\"blue\",\"blue\",\"blue\",\"blue\",\"red\",\"green\",\"green\",\"red\",\"blue\",\"red\",\"blue\",\"blue\",\"blue\",\"red\",\"red\",\"blue\",\"blue\",\"red\",\"blue\",\"red\",\"blue\",\"red\",\"blue\",\"green\",\"red\",\"blue\",\"blue\",\"blue\",\"green\",\"blue\",\"blue\",\"green\",\"blue\",\"blue\",\"blue\",\"blue\",\"blue\",\"blue\",\"blue\",\"green\",\"blue\",\"red\",\"blue\",\"red\",\"green\",\"blue\",\"blue\",\"red\",\"red\",\"blue\",\"blue\",\"red\",\"green\",\"green\",\"blue\",\"blue\",\"red\",\"blue\",\"blue\",\"blue\",\"blue\",\"red\",\"blue\",\"green\",\"red\",\"red\",\"green\",\"blue\",\"blue\",\"green\",\"blue\",\"green\",\"blue\",\"blue\",\"green\",\"blue\",\"blue\",\"green\",\"blue\",\"blue\",\"blue\",\"blue\",\"blue\",\"blue\",\"green\",\"blue\",\"blue\",\"red\",\"blue\",\"red\",\"blue\",\"blue\",\"blue\",\"red\",\"blue\",\"red\",\"green\",\"blue\",\"blue\",\"blue\",\"blue\",\"red\",\"blue\",\"blue\",\"blue\",\"blue\",\"blue\",\"blue\",\"blue\",\"blue\",\"blue\",\"blue\",\"blue\",\"blue\",\"blue\",\"blue\",\"blue\",\"blue\",\"green\",\"green\",\"red\",\"green\",\"red\",\"blue\",\"red\",\"blue\",\"blue\",\"green\",\"green\",\"blue\",\"green\",\"blue\",\"red\",\"blue\",\"blue\",\"red\",\"red\",\"blue\",\"blue\",\"blue\",\"blue\",\"blue\",\"green\",\"green\",\"blue\",\"blue\",\"blue\",\"green\",\"blue\",\"red\",\"red\",\"red\",\"red\",\"blue\",\"blue\",\"red\",\"blue\",\"blue\"],\"x\":[88,193,60,98,78,100,75,76,130,140,52,88,84,148,150,130,58,82,65,110,95,110,140,170,78,90,96,95,110,75,132,150,83,85,86,75,140,139,70,52,60,84,138,180,65,67,97,150,70,100,180,129,95,90,83,75,100,85,112,67,65,88,100,75,100,70,145,110,210,80,145,69,150,198,120,92,90,115,95,75,76,67,71,115,84,91,150,215,67,175,60,175,110,95,68,150,67,95,110,105,102,110,89,66,88,75,78,105,70,103,60,150,72,170,90,110,58,152,145,139,83,69,150,67,80,71,46,105,90,110,175,80,74,150,150,65,100,48,105,90,48,105,105,88,100,75,113,190,92,80,165,180,71,97,72,105,90,75,88,155,68,90,84,87,112,87,125,108,142,97,105,75,137,150,88,145,63,95,140,88,85,70,85,115,86,79,120,120,65,110,220,115,170,100,90,225,85,65,97,90,90,49,110,70,92,53,100,190,63,90,67,65,75,100,110,60,93,88,150,100,150,88,225,68,70,208,105,74,90,110,72,97,88,88,129,85,86,150,70,48,77,65,175,90,150,110,130,53,65,158,95,61,215,100,145,68,150,88,67,105,175,160,74,135,100,67,198,180,215,100,225,155,170,81,85,95,80,92,70,149,84,97,52,72,85,52,95,71,140,100,96,150,75,107,110,75,97,133,70,67,112,145,115,98,70,78,230,63,76,105,95,62,165,165,160,190,95,180,78,120,80,75,68,67,95,140,110,72,150,95,54,153,130,170,86,97,90,145,86,79,165,83,64,92,72,140,150,96,150,80,130,100,125,90,94,76,90,150,97,85,81,78,46,84,70,153,116,100,167,88,88,88,200,125,92,110,69,67,90,150,90,71,105,62,88,122,65,88,90,68,110,88],\"y\":{\"__ndarray__\":\"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\",\"dtype\":\"float64\",\"shape\":[392]}}},\"id\":\"c776ec25-0d3f-4b83-9bd5-25ca2b213248\",\"type\":\"ColumnDataSource\"},{\"attributes\":{},\"id\":\"b4ae9d2b-57b4-46d2-8ab0-aaf68ae4a331\",\"type\":\"BasicTicker\"},{\"attributes\":{},\"id\":\"2fc85455-87e6-494d-9088-21ca1156dac6\",\"type\":\"LinearScale\"},{\"attributes\":{\"plot\":null,\"text\":\"\"},\"id\":\"99728aaa-ed47-47fc-9c2b-1b86b894e8bc\",\"type\":\"Title\"},{\"attributes\":{\"axis_label\":\"HP\",\"formatter\":{\"id\":\"27fca48b-35e6-47dd-92ed-15feb4a602ee\",\"type\":\"BasicTickFormatter\"},\"plot\":{\"id\":\"9d4c602b-166b-45ce-a239-0d6d283a7eed\",\"subtype\":\"Figure\",\"type\":\"Plot\"},\"ticker\":{\"id\":\"33177839-ba3f-4fb5-a33a-1393d737c8f5\",\"type\":\"BasicTicker\"}},\"id\":\"383bfee5-cd57-4cb1-8da5-e044a7d91875\",\"type\":\"LinearAxis\"},{\"attributes\":{\"overlay\":{\"id\":\"29563605-c7d5-45af-9f01-7ee851b86ac4\",\"type\":\"BoxAnnotation\"}},\"id\":\"2c682bd2-abec-437a-af87-1f1491ce0b94\",\"type\":\"BoxZoomTool\"},{\"attributes\":{},\"id\":\"27fca48b-35e6-47dd-92ed-15feb4a602ee\",\"type\":\"BasicTickFormatter\"},{\"attributes\":{\"fill_alpha\":{\"value\":0.1},\"fill_color\":{\"value\":\"#1f77b4\"},\"line_alpha\":{\"value\":0.1},\"line_color\":{\"value\":\"#1f77b4\"},\"size\":{\"units\":\"screen\",\"value\":10},\"x\":{\"field\":\"x\"},\"y\":{\"field\":\"y\"}},\"id\":\"cf21e5aa-85d3-438a-bbfa-308f4240900d\",\"type\":\"Circle\"},{\"attributes\":{\"below\":[{\"id\":\"383bfee5-cd57-4cb1-8da5-e044a7d91875\",\"type\":\"LinearAxis\"}],\"left\":[{\"id\":\"0a350c18-97c9-4aa0-8b66-254b9847220c\",\"type\":\"LinearAxis\"}],\"renderers\":[{\"id\":\"383bfee5-cd57-4cb1-8da5-e044a7d91875\",\"type\":\"LinearAxis\"},{\"id\":\"e324d553-f373-4902-8c98-0ffbaaede155\",\"type\":\"Grid\"},{\"id\":\"0a350c18-97c9-4aa0-8b66-254b9847220c\",\"type\":\"LinearAxis\"},{\"id\":\"8a5daa08-475f-4122-a8ae-0ffb95d87e77\",\"type\":\"Grid\"},{\"id\":\"29563605-c7d5-45af-9f01-7ee851b86ac4\",\"type\":\"BoxAnnotation\"},{\"id\":\"bb9336b5-19a0-4c47-b1c2-f7407cf7c55b\",\"type\":\"GlyphRenderer\"}],\"title\":{\"id\":\"99728aaa-ed47-47fc-9c2b-1b86b894e8bc\",\"type\":\"Title\"},\"toolbar\":{\"id\":\"ae88b1c6-e8dc-429c-a674-e5e13f2566e6\",\"type\":\"Toolbar\"},\"x_range\":{\"id\":\"05ef6075-fe92-4bd2-8f5d-6a6e968a8164\",\"type\":\"DataRange1d\"},\"x_scale\":{\"id\":\"2fc85455-87e6-494d-9088-21ca1156dac6\",\"type\":\"LinearScale\"},\"y_range\":{\"id\":\"c6a53450-a8f6-4f0e-95bd-ae50d616c24b\",\"type\":\"DataRange1d\"},\"y_scale\":{\"id\":\"6480519f-97d1-426b-896f-a973b95a024a\",\"type\":\"LinearScale\"}},\"id\":\"9d4c602b-166b-45ce-a239-0d6d283a7eed\",\"subtype\":\"Figure\",\"type\":\"Plot\"},{\"attributes\":{\"callback\":null},\"id\":\"05ef6075-fe92-4bd2-8f5d-6a6e968a8164\",\"type\":\"DataRange1d\"},{\"attributes\":{\"bottom_units\":\"screen\",\"fill_alpha\":{\"value\":0.5},\"fill_color\":{\"value\":\"lightgrey\"},\"left_units\":\"screen\",\"level\":\"overlay\",\"line_alpha\":{\"value\":1.0},\"line_color\":{\"value\":\"black\"},\"line_dash\":[4,4],\"line_width\":{\"value\":2},\"plot\":null,\"render_mode\":\"css\",\"right_units\":\"screen\",\"top_units\":\"screen\"},\"id\":\"29563605-c7d5-45af-9f01-7ee851b86ac4\",\"type\":\"BoxAnnotation\"},{\"attributes\":{\"callback\":null},\"id\":\"c6a53450-a8f6-4f0e-95bd-ae50d616c24b\",\"type\":\"DataRange1d\"},{\"attributes\":{},\"id\":\"6480519f-97d1-426b-896f-a973b95a024a\",\"type\":\"LinearScale\"},{\"attributes\":{\"axis_label\":\"MPG\",\"formatter\":{\"id\":\"c78e4580-29c9-4de2-814d-0ab2b2416655\",\"type\":\"BasicTickFormatter\"},\"plot\":{\"id\":\"9d4c602b-166b-45ce-a239-0d6d283a7eed\",\"subtype\":\"Figure\",\"type\":\"Plot\"},\"ticker\":{\"id\":\"b4ae9d2b-57b4-46d2-8ab0-aaf68ae4a331\",\"type\":\"BasicTicker\"}},\"id\":\"0a350c18-97c9-4aa0-8b66-254b9847220c\",\"type\":\"LinearAxis\"},{\"attributes\":{\"plot\":{\"id\":\"9d4c602b-166b-45ce-a239-0d6d283a7eed\",\"subtype\":\"Figure\",\"type\":\"Plot\"},\"ticker\":{\"id\":\"33177839-ba3f-4fb5-a33a-1393d737c8f5\",\"type\":\"BasicTicker\"}},\"id\":\"e324d553-f373-4902-8c98-0ffbaaede155\",\"type\":\"Grid\"},{\"attributes\":{},\"id\":\"e60c3c9c-2f81-40f1-822d-4d2194a9e3d3\",\"type\":\"ResetTool\"},{\"attributes\":{},\"id\":\"3a83b737-a00a-4ea3-8bb2-5b4945df751f\",\"type\":\"HelpTool\"},{\"attributes\":{\"data_source\":{\"id\":\"c776ec25-0d3f-4b83-9bd5-25ca2b213248\",\"type\":\"ColumnDataSource\"},\"glyph\":{\"id\":\"899c2590-4df2-4baf-ab4f-60afb32681e5\",\"type\":\"Circle\"},\"hover_glyph\":null,\"muted_glyph\":null,\"nonselection_glyph\":{\"id\":\"cf21e5aa-85d3-438a-bbfa-308f4240900d\",\"type\":\"Circle\"},\"selection_glyph\":null,\"view\":{\"id\":\"074d3d79-5a68-49a4-9586-9ca5c16ff995\",\"type\":\"CDSView\"}},\"id\":\"bb9336b5-19a0-4c47-b1c2-f7407cf7c55b\",\"type\":\"GlyphRenderer\"},{\"attributes\":{},\"id\":\"14c5c2c7-0dc2-40c3-8d76-d399ecb4e285\",\"type\":\"PanTool\"},{\"attributes\":{\"dimension\":1,\"plot\":{\"id\":\"9d4c602b-166b-45ce-a239-0d6d283a7eed\",\"subtype\":\"Figure\",\"type\":\"Plot\"},\"ticker\":{\"id\":\"b4ae9d2b-57b4-46d2-8ab0-aaf68ae4a331\",\"type\":\"BasicTicker\"}},\"id\":\"8a5daa08-475f-4122-a8ae-0ffb95d87e77\",\"type\":\"Grid\"},{\"attributes\":{},\"id\":\"de549b2d-311f-46fa-8d06-78b6c8b99892\",\"type\":\"WheelZoomTool\"},{\"attributes\":{\"source\":{\"id\":\"c776ec25-0d3f-4b83-9bd5-25ca2b213248\",\"type\":\"ColumnDataSource\"}},\"id\":\"074d3d79-5a68-49a4-9586-9ca5c16ff995\",\"type\":\"CDSView\"}],\"root_ids\":[\"9d4c602b-166b-45ce-a239-0d6d283a7eed\"]},\"title\":\"Bokeh Application\",\"version\":\"0.12.10\"}};\n",
       "    var render_items = [{\"docid\":\"6a77c351-4b9a-405b-81af-9400025fcef5\",\"elementid\":\"72764d9f-1b15-4aba-9ad3-24dbfc7fb23b\",\"modelid\":\"9d4c602b-166b-45ce-a239-0d6d283a7eed\"}];\n",
       "\n",
       "    root.Bokeh.embed.embed_items(docs_json, render_items);\n",
       "  }\n",
       "\n",
       "  if (root.Bokeh !== undefined) {\n",
       "    embed_document(root);\n",
       "  } else {\n",
       "    var attempts = 0;\n",
       "    var timer = setInterval(function(root) {\n",
       "      if (root.Bokeh !== undefined) {\n",
       "        embed_document(root);\n",
       "        clearInterval(timer);\n",
       "      }\n",
       "      attempts++;\n",
       "      if (attempts > 100) {\n",
       "        console.log(\"Bokeh: ERROR: Unable to embed document because BokehJS library is missing\")\n",
       "        clearInterval(timer);\n",
       "      }\n",
       "    }, 10, root)\n",
       "  }\n",
       "})(window);"
      ],
      "application/vnd.bokehjs_exec.v0+json": ""
     },
     "metadata": {
      "application/vnd.bokehjs_exec.v0+json": {
       "id": "9d4c602b-166b-45ce-a239-0d6d283a7eed"
      }
     },
     "output_type": "display_data"
    }
   ],
   "source": [
    "# Create the figure: p\n",
    "p = figure(x_axis_label='HP', y_axis_label='MPG')\n",
    "\n",
    "# Plot mpg vs hp by color\n",
    "p.circle(df.hp, df.mpg, color = df.color, size = 10)\n",
    "\n",
    "show(p)\n"
   ]
  },
  {
   "cell_type": "markdown",
   "metadata": {},
   "source": [
    "### The Bokeh ColumnDataSource"
   ]
  },
  {
   "cell_type": "code",
   "execution_count": 155,
   "metadata": {},
   "outputs": [
    {
     "data": {
      "text/html": [
       "<div>\n",
       "<style>\n",
       "    .dataframe thead tr:only-child th {\n",
       "        text-align: right;\n",
       "    }\n",
       "\n",
       "    .dataframe thead th {\n",
       "        text-align: left;\n",
       "    }\n",
       "\n",
       "    .dataframe tbody tr th {\n",
       "        vertical-align: top;\n",
       "    }\n",
       "</style>\n",
       "<table border=\"1\" class=\"dataframe\">\n",
       "  <thead>\n",
       "    <tr style=\"text-align: right;\">\n",
       "      <th></th>\n",
       "      <th>Name</th>\n",
       "      <th>Country</th>\n",
       "      <th>Medal</th>\n",
       "      <th>Time</th>\n",
       "      <th>Year</th>\n",
       "      <th>color</th>\n",
       "    </tr>\n",
       "  </thead>\n",
       "  <tbody>\n",
       "    <tr>\n",
       "      <th>0</th>\n",
       "      <td>Usain Bolt</td>\n",
       "      <td>JAM</td>\n",
       "      <td>GOLD</td>\n",
       "      <td>9.63</td>\n",
       "      <td>2012</td>\n",
       "      <td>goldenrod</td>\n",
       "    </tr>\n",
       "    <tr>\n",
       "      <th>1</th>\n",
       "      <td>Yohan Blake</td>\n",
       "      <td>JAM</td>\n",
       "      <td>SILVER</td>\n",
       "      <td>9.75</td>\n",
       "      <td>2012</td>\n",
       "      <td>silver</td>\n",
       "    </tr>\n",
       "    <tr>\n",
       "      <th>2</th>\n",
       "      <td>Justin Gatlin</td>\n",
       "      <td>USA</td>\n",
       "      <td>BRONZE</td>\n",
       "      <td>9.79</td>\n",
       "      <td>2012</td>\n",
       "      <td>saddlebrown</td>\n",
       "    </tr>\n",
       "    <tr>\n",
       "      <th>3</th>\n",
       "      <td>Usain Bolt</td>\n",
       "      <td>JAM</td>\n",
       "      <td>GOLD</td>\n",
       "      <td>9.69</td>\n",
       "      <td>2008</td>\n",
       "      <td>goldenrod</td>\n",
       "    </tr>\n",
       "    <tr>\n",
       "      <th>4</th>\n",
       "      <td>Richard Thompson</td>\n",
       "      <td>TRI</td>\n",
       "      <td>SILVER</td>\n",
       "      <td>9.89</td>\n",
       "      <td>2008</td>\n",
       "      <td>silver</td>\n",
       "    </tr>\n",
       "  </tbody>\n",
       "</table>\n",
       "</div>"
      ],
      "text/plain": [
       "               Name Country   Medal  Time  Year        color\n",
       "0        Usain Bolt     JAM    GOLD  9.63  2012    goldenrod\n",
       "1       Yohan Blake     JAM  SILVER  9.75  2012       silver\n",
       "2     Justin Gatlin     USA  BRONZE  9.79  2012  saddlebrown\n",
       "3        Usain Bolt     JAM    GOLD  9.69  2008    goldenrod\n",
       "4  Richard Thompson     TRI  SILVER  9.89  2008       silver"
      ]
     },
     "execution_count": 155,
     "metadata": {},
     "output_type": "execute_result"
    }
   ],
   "source": [
    "file = 'https://assets.datacamp.com/production/course_1392/datasets/sprint.csv'\n",
    "df = pd.read_csv(file)\n",
    "df.head()"
   ]
  },
  {
   "cell_type": "code",
   "execution_count": 157,
   "metadata": {},
   "outputs": [
    {
     "data": {
      "text/html": [
       "\n",
       "<div class=\"bk-root\">\n",
       "    <div class=\"bk-plotdiv\" id=\"7fb49b9a-6b73-47c0-9040-f23e22974804\"></div>\n",
       "</div>"
      ]
     },
     "metadata": {},
     "output_type": "display_data"
    },
    {
     "data": {
      "application/javascript": [
       "(function(root) {\n",
       "  function embed_document(root) {\n",
       "    var docs_json = {\"ce404aa5-0aaa-4fa4-9272-f8b4dfb45560\":{\"roots\":{\"references\":[{\"attributes\":{},\"id\":\"b0bfc3c9-4b49-4f93-8a30-f1f9b0aebd66\",\"type\":\"BasicTickFormatter\"},{\"attributes\":{\"callback\":null,\"column_names\":[\"Name\",\"Country\",\"Medal\",\"Time\",\"Year\",\"color\",\"index\"],\"data\":{\"Country\":[\"JAM\",\"JAM\",\"USA\",\"JAM\",\"TRI\",\"USA\",\"USA\",\"POR\",\"USA\",\"USA\",\"TRI\",\"BAR\",\"CAN\",\"NAM\",\"TRI\",\"GBR\",\"NAM\",\"USA\",\"USA\",\"GBR\",\"USA\",\"USA\",\"USA\",\"CAN\",\"GBR\",\"CUB\",\"BUL\",\"TRI\",\"JAM\",\"URS\",\"URS\",\"USA\",\"JAM\",\"USA\",\"JAM\",\"USA\",\"USA\",\"CUB\",\"CAN\",\"EUA\",\"USA\",\"GBR\",\"USA\",\"USA\",\"AUS\",\"USA\",\"JAM\",\"GBR\",\"USA\",\"USA\",\"PAN\",\"USA\",\"USA\",\"NED\",\"USA\",\"USA\",\"GER\",\"CAN\",\"GBR\",\"GER\",\"GBR\",\"USA\",\"NZL\",\"USA\",\"USA\",\"GBR\",\"USA\",\"USA\",\"USA\",\"RSA\",\"USA\",\"CAN\",\"USA\",\"USA\",\"AUS\",\"USA\",\"USA\",\"USA\",\"USA\",\"USA\",\"AUS\",\"USA\",\"GER\",\"HUN\",\"USA\"],\"Medal\":[\"GOLD\",\"SILVER\",\"BRONZE\",\"GOLD\",\"SILVER\",\"BRONZE\",\"GOLD\",\"SILVER\",\"BRONZE\",\"GOLD\",\"SILVER\",\"BRONZE\",\"GOLD\",\"SILVER\",\"BRONZE\",\"GOLD\",\"SILVER\",\"BRONZE\",\"GOLD\",\"SILVER\",\"BRONZE\",\"GOLD\",\"SILVER\",\"BRONZE\",\"GOLD\",\"SILVER\",\"BRONZE\",\"GOLD\",\"SILVER\",\"BRONZE\",\"GOLD\",\"SILVER\",\"BRONZE\",\"GOLD\",\"SILVER\",\"BRONZE\",\"GOLD\",\"SILVER\",\"BRONZE\",\"GOLD\",\"SILVER\",\"BRONZE\",\"GOLD\",\"SILVER\",\"BRONZE\",\"GOLD\",\"SILVER\",\"BRONZE\",\"GOLD\",\"SILVER\",\"BRONZE\",\"GOLD\",\"SILVER\",\"BRONZE\",\"GOLD\",\"SILVER\",\"BRONZE\",\"GOLD\",\"SILVER\",\"BRONZE\",\"GOLD\",\"SILVER\",\"BRONZE\",\"GOLD\",\"SILVER\",\"BRONZE\",\"GOLD\",\"SILVER\",\"BRONZE\",\"GOLD\",\"SILVER\",\"BRONZE\",\"GOLD\",\"SILVER\",\"BRONZE\",\"GOLD\",\"SILVER\",\"BRONZE\",\"GOLD\",\"SILVER\",\"BRONZE\",\"GOLD\",\"SILVER\",\"BRONZE\",\"BRONZE\"],\"Name\":[\"Usain Bolt\",\"Yohan Blake\",\"Justin Gatlin\",\"Usain Bolt\",\"Richard Thompson\",\"Walter Dix\",\"Justin Gatlin\",\"Francis Obikwelu\",\"Maurice Greene\",\"Maurice Greene\",\"Ato Boldon\",\"Obadele Thompson\",\"Donovan Bailey\",\"Frankie Fredericks\",\"Ato Boldon\",\"Linford Christie\",\"Frankie Fredericks\",\"Dennis Mitchell\",\"Carl Lewis\",\"Linford Christie\",\"Calvin Smith\",\"Carl Lewis\",\"Sam Graddy\",\"Ben Johnson\",\"Allan Wells\",\"Silvio Leonard Tartabull\",\"Petar Petrov\",\"Hasely Crawford\",\"Donald Quarrie\",\"Valery Borzov\",\"Valery Borzov\",\"Robert Taylor\",\"Lennox Miller\",\"Jim Hines\",\"Lennox Miller\",\"Charles Greene\",\"Bob Hayes\",\"Enrique Figuerola Camue\",\"Harry Jerome\",\"Armin Hary\",\"David Sime\",\"Peter Radford\",\"Bobby Joe Morrow\",\"W. Thane Baker\",\"Hector Hogan\",\"Lindy Remigino\",\"Herbert McKenley\",\"E. McDonald Bailey\",\"W. Harrison Dillard\",\"H. Norwood \\\"Barney\\\" Ewell\",\"Lloyd LaBeach\",\"Jesse Owens\",\"Ralph Metcalfe\",\"Martinus Osendarp\",\"T. \\\"Eddie\\\" Tolan\",\"Ralph Metcalfe\",\"Arthur Jonath\",\"Percy Williams\",\"John \\\"Jack\\\" London\",\"Georg Lammers\",\"Harold Abrahams\",\"Jackson Scholz\",\"Arthur Porritt\",\"Charles Paddock\",\"Morris Kirksey\",\"Harry Edward\",\"Ralph Craig\",\"Alvah Meyer\",\"Donald Lippincott\",\"Reginald Walker\",\"James Rector\",\"Robert Kerr\",\"Charles \\\"Archie\\\" Hahn\",\"Fay Moulton\",\"Nigel Barker\",\"Charles \\\"Archie\\\" Hahn\",\"Nathaniel Cartmell\",\"Bill Hogenson\",\"Frank Jarvis\",\"J. Walter Tewksbury\",\"Stanley Rowley\",\"Thomas Burke\",\"Fritz Hofmann\",\"Alojz Sokol\",\"Francis Lane\"],\"Time\":{\"__ndarray__\":\"w/UoXI9CI0AAAAAAAIAjQBSuR+F6lCNA4XoUrkdhI0BI4XoUrscjQFK4HoXr0SNAMzMzMzOzI0C4HoXrUbgjQD0K16NwvSNAPQrXo3C9I0B7FK5H4fojQBSuR+F6FCRArkfhehSuI0BI4XoUrscjQM3MzMzMzCNA7FG4HoXrI0AK16NwPQokQBSuR+F6FCRA16NwPQrXI0BxPQrXo/AjQHsUrkfh+iNAexSuR+H6I0DhehSuR2EkQHE9CtejcCRAAAAAAACAJEAAAAAAAIAkQEjhehSuxyRAH4XrUbgeJEApXI/C9SgkQEjhehSuRyRASOF6FK5HJEB7FK5H4XokQClcj8L1qCRAZmZmZmbmI0AUrkfhehQkQKRwPQrXIyRAAAAAAAAAJEBmZmZmZmYkQGZmZmZmZiRAZmZmZmZmJEBmZmZmZmYkQJqZmZmZmSRAAAAAAAAAJUAAAAAAAAAlQDMzMzMzMyVAzczMzMzMJEDNzMzMzMwkQM3MzMzMzCRAmpmZmZmZJEDNzMzMzMwkQM3MzMzMzCRAmpmZmZmZJEDNzMzMzMwkQAAAAAAAACVAmpmZmZmZJECamZmZmZkkQM3MzMzMzCRAmpmZmZmZJUDNzMzMzMwlQM3MzMzMzCVAMzMzMzMzJUCamZmZmZklQM3MzMzMzCVAmpmZmZmZJUDNzMzMzMwlQM3MzMzMzCVAmpmZmZmZJUDNzMzMzMwlQM3MzMzMzCVAmpmZmZmZJUAAAAAAAAAmQAAAAAAAACZAZmZmZmZmJkCamZmZmZkmQJqZmZmZmSZAAAAAAAAAJkBmZmZmZmYmQGZmZmZmZiZAAAAAAAAAJkAzMzMzMzMmQGZmZmZmZiZAAAAAAAAAKEBmZmZmZmYoQDMzMzMzMylAMzMzMzMzKUA=\",\"dtype\":\"float64\",\"shape\":[85]},\"Year\":[2012,2012,2012,2008,2008,2008,2004,2004,2004,2000,2000,2000,1996,1996,1996,1992,1992,1992,1988,1988,1988,1984,1984,1984,1980,1980,1980,1976,1976,1976,1972,1972,1972,1968,1968,1968,1964,1964,1964,1960,1960,1960,1956,1956,1956,1952,1952,1952,1948,1948,1948,1936,1936,1936,1932,1932,1932,1928,1928,1928,1924,1924,1924,1920,1920,1920,1912,1912,1912,1908,1908,1908,1906,1906,1906,1904,1904,1904,1900,1900,1900,1896,1896,1896,1896],\"color\":[\"goldenrod\",\"silver\",\"saddlebrown\",\"goldenrod\",\"silver\",\"saddlebrown\",\"goldenrod\",\"silver\",\"saddlebrown\",\"goldenrod\",\"silver\",\"saddlebrown\",\"goldenrod\",\"silver\",\"saddlebrown\",\"goldenrod\",\"silver\",\"saddlebrown\",\"goldenrod\",\"silver\",\"saddlebrown\",\"goldenrod\",\"silver\",\"saddlebrown\",\"goldenrod\",\"silver\",\"saddlebrown\",\"goldenrod\",\"silver\",\"saddlebrown\",\"goldenrod\",\"silver\",\"saddlebrown\",\"goldenrod\",\"silver\",\"saddlebrown\",\"goldenrod\",\"silver\",\"saddlebrown\",\"goldenrod\",\"silver\",\"saddlebrown\",\"goldenrod\",\"silver\",\"saddlebrown\",\"goldenrod\",\"silver\",\"saddlebrown\",\"goldenrod\",\"silver\",\"saddlebrown\",\"goldenrod\",\"silver\",\"saddlebrown\",\"goldenrod\",\"silver\",\"saddlebrown\",\"goldenrod\",\"silver\",\"saddlebrown\",\"goldenrod\",\"silver\",\"saddlebrown\",\"goldenrod\",\"silver\",\"saddlebrown\",\"goldenrod\",\"silver\",\"saddlebrown\",\"goldenrod\",\"silver\",\"saddlebrown\",\"goldenrod\",\"silver\",\"saddlebrown\",\"goldenrod\",\"silver\",\"saddlebrown\",\"goldenrod\",\"silver\",\"saddlebrown\",\"goldenrod\",\"silver\",\"saddlebrown\",\"saddlebrown\"],\"index\":[0,1,2,3,4,5,6,7,8,9,10,11,12,13,14,15,16,17,18,19,20,21,22,23,24,25,26,27,28,29,30,31,32,33,34,35,36,37,38,39,40,41,42,43,44,45,46,47,48,49,50,51,52,53,54,55,56,57,58,59,60,61,62,63,64,65,66,67,68,69,70,71,72,73,74,75,76,77,78,79,80,81,82,83,84]}},\"id\":\"a6aa49cf-2ba3-41be-809d-e77b970b3aae\",\"type\":\"ColumnDataSource\"},{\"attributes\":{\"bottom_units\":\"screen\",\"fill_alpha\":{\"value\":0.5},\"fill_color\":{\"value\":\"lightgrey\"},\"left_units\":\"screen\",\"level\":\"overlay\",\"line_alpha\":{\"value\":1.0},\"line_color\":{\"value\":\"black\"},\"line_dash\":[4,4],\"line_width\":{\"value\":2},\"plot\":null,\"render_mode\":\"css\",\"right_units\":\"screen\",\"top_units\":\"screen\"},\"id\":\"152186de-2148-4f18-9efe-cb0418db3349\",\"type\":\"BoxAnnotation\"},{\"attributes\":{},\"id\":\"4b5e577a-f52f-4ef8-87e8-69605af68eae\",\"type\":\"PanTool\"},{\"attributes\":{\"below\":[{\"id\":\"8ad1c4c0-9d32-40ef-aec9-5b5aff138a3f\",\"type\":\"LinearAxis\"}],\"left\":[{\"id\":\"3ee8e97a-1b7d-4299-9296-5c714038e86c\",\"type\":\"LinearAxis\"}],\"renderers\":[{\"id\":\"8ad1c4c0-9d32-40ef-aec9-5b5aff138a3f\",\"type\":\"LinearAxis\"},{\"id\":\"103d0f3e-fb9a-47d4-be1c-7ffc4ad6c762\",\"type\":\"Grid\"},{\"id\":\"3ee8e97a-1b7d-4299-9296-5c714038e86c\",\"type\":\"LinearAxis\"},{\"id\":\"99901e68-7e12-4fc5-aff5-a7ab168f7cf0\",\"type\":\"Grid\"},{\"id\":\"152186de-2148-4f18-9efe-cb0418db3349\",\"type\":\"BoxAnnotation\"},{\"id\":\"3defa2d0-b138-48d8-b4e3-0ead49a7aaea\",\"type\":\"GlyphRenderer\"}],\"title\":{\"id\":\"92ef0fb0-4851-4d92-a2dd-9b9e2f9aaac4\",\"type\":\"Title\"},\"toolbar\":{\"id\":\"04984d49-118b-4573-9d1d-dd690bbb2f9d\",\"type\":\"Toolbar\"},\"x_range\":{\"id\":\"7b55d91d-3c01-4709-97c2-1be03e695d17\",\"type\":\"DataRange1d\"},\"x_scale\":{\"id\":\"653ad7ba-4abd-493f-aa11-60cd2fd0048a\",\"type\":\"LinearScale\"},\"y_range\":{\"id\":\"17f79767-7d6a-44a5-8830-0c11720d2ca9\",\"type\":\"DataRange1d\"},\"y_scale\":{\"id\":\"50f2371f-9334-4d60-8014-ff02821d10d2\",\"type\":\"LinearScale\"}},\"id\":\"103d4808-32ae-4ed5-838b-68122c4350da\",\"subtype\":\"Figure\",\"type\":\"Plot\"},{\"attributes\":{},\"id\":\"e48bd9db-30b0-4397-a130-de4c4335bf55\",\"type\":\"WheelZoomTool\"},{\"attributes\":{\"active_drag\":\"auto\",\"active_inspect\":\"auto\",\"active_scroll\":\"auto\",\"active_tap\":\"auto\",\"tools\":[{\"id\":\"4b5e577a-f52f-4ef8-87e8-69605af68eae\",\"type\":\"PanTool\"},{\"id\":\"e48bd9db-30b0-4397-a130-de4c4335bf55\",\"type\":\"WheelZoomTool\"},{\"id\":\"f8e23665-699d-4650-9579-e66925c735dc\",\"type\":\"BoxZoomTool\"},{\"id\":\"949cff2e-d67c-4992-a17b-bfe03a6f5664\",\"type\":\"SaveTool\"},{\"id\":\"88db44c9-9c38-4e89-83bc-22969f941a3b\",\"type\":\"ResetTool\"},{\"id\":\"1a2da610-3ff2-4363-9120-689198a76183\",\"type\":\"HelpTool\"}]},\"id\":\"04984d49-118b-4573-9d1d-dd690bbb2f9d\",\"type\":\"Toolbar\"},{\"attributes\":{\"overlay\":{\"id\":\"152186de-2148-4f18-9efe-cb0418db3349\",\"type\":\"BoxAnnotation\"}},\"id\":\"f8e23665-699d-4650-9579-e66925c735dc\",\"type\":\"BoxZoomTool\"},{\"attributes\":{\"callback\":null},\"id\":\"7b55d91d-3c01-4709-97c2-1be03e695d17\",\"type\":\"DataRange1d\"},{\"attributes\":{},\"id\":\"949cff2e-d67c-4992-a17b-bfe03a6f5664\",\"type\":\"SaveTool\"},{\"attributes\":{},\"id\":\"88db44c9-9c38-4e89-83bc-22969f941a3b\",\"type\":\"ResetTool\"},{\"attributes\":{\"callback\":null},\"id\":\"17f79767-7d6a-44a5-8830-0c11720d2ca9\",\"type\":\"DataRange1d\"},{\"attributes\":{},\"id\":\"1a2da610-3ff2-4363-9120-689198a76183\",\"type\":\"HelpTool\"},{\"attributes\":{},\"id\":\"653ad7ba-4abd-493f-aa11-60cd2fd0048a\",\"type\":\"LinearScale\"},{\"attributes\":{\"source\":{\"id\":\"a6aa49cf-2ba3-41be-809d-e77b970b3aae\",\"type\":\"ColumnDataSource\"}},\"id\":\"e9efa62f-abf2-40fd-b53a-b2a72d0a7afd\",\"type\":\"CDSView\"},{\"attributes\":{},\"id\":\"50f2371f-9334-4d60-8014-ff02821d10d2\",\"type\":\"LinearScale\"},{\"attributes\":{\"plot\":null,\"text\":\"\"},\"id\":\"92ef0fb0-4851-4d92-a2dd-9b9e2f9aaac4\",\"type\":\"Title\"},{\"attributes\":{\"plot\":{\"id\":\"103d4808-32ae-4ed5-838b-68122c4350da\",\"subtype\":\"Figure\",\"type\":\"Plot\"},\"ticker\":{\"id\":\"28d71374-04c3-416f-ba5f-686c6d38573a\",\"type\":\"BasicTicker\"}},\"id\":\"103d0f3e-fb9a-47d4-be1c-7ffc4ad6c762\",\"type\":\"Grid\"},{\"attributes\":{\"formatter\":{\"id\":\"b0bfc3c9-4b49-4f93-8a30-f1f9b0aebd66\",\"type\":\"BasicTickFormatter\"},\"plot\":{\"id\":\"103d4808-32ae-4ed5-838b-68122c4350da\",\"subtype\":\"Figure\",\"type\":\"Plot\"},\"ticker\":{\"id\":\"28d71374-04c3-416f-ba5f-686c6d38573a\",\"type\":\"BasicTicker\"}},\"id\":\"8ad1c4c0-9d32-40ef-aec9-5b5aff138a3f\",\"type\":\"LinearAxis\"},{\"attributes\":{\"data_source\":{\"id\":\"a6aa49cf-2ba3-41be-809d-e77b970b3aae\",\"type\":\"ColumnDataSource\"},\"glyph\":{\"id\":\"843e62ff-6b45-4751-a65d-ba32bc5980aa\",\"type\":\"Circle\"},\"hover_glyph\":null,\"muted_glyph\":null,\"nonselection_glyph\":{\"id\":\"a58ce9dc-0013-4d5b-aa7f-cd13d073ec47\",\"type\":\"Circle\"},\"selection_glyph\":null,\"view\":{\"id\":\"e9efa62f-abf2-40fd-b53a-b2a72d0a7afd\",\"type\":\"CDSView\"}},\"id\":\"3defa2d0-b138-48d8-b4e3-0ead49a7aaea\",\"type\":\"GlyphRenderer\"},{\"attributes\":{},\"id\":\"28d71374-04c3-416f-ba5f-686c6d38573a\",\"type\":\"BasicTicker\"},{\"attributes\":{},\"id\":\"ff94f9d4-df60-408d-8cd0-ac8311f676f4\",\"type\":\"BasicTickFormatter\"},{\"attributes\":{\"formatter\":{\"id\":\"ff94f9d4-df60-408d-8cd0-ac8311f676f4\",\"type\":\"BasicTickFormatter\"},\"plot\":{\"id\":\"103d4808-32ae-4ed5-838b-68122c4350da\",\"subtype\":\"Figure\",\"type\":\"Plot\"},\"ticker\":{\"id\":\"29dce837-1b68-4011-9f88-cf9eea03bc6b\",\"type\":\"BasicTicker\"}},\"id\":\"3ee8e97a-1b7d-4299-9296-5c714038e86c\",\"type\":\"LinearAxis\"},{\"attributes\":{\"fill_color\":{\"field\":\"color\"},\"line_color\":{\"field\":\"color\"},\"size\":{\"units\":\"screen\",\"value\":8},\"x\":{\"field\":\"Year\"},\"y\":{\"field\":\"Time\"}},\"id\":\"843e62ff-6b45-4751-a65d-ba32bc5980aa\",\"type\":\"Circle\"},{\"attributes\":{},\"id\":\"29dce837-1b68-4011-9f88-cf9eea03bc6b\",\"type\":\"BasicTicker\"},{\"attributes\":{\"fill_alpha\":{\"value\":0.1},\"fill_color\":{\"value\":\"#1f77b4\"},\"line_alpha\":{\"value\":0.1},\"line_color\":{\"value\":\"#1f77b4\"},\"size\":{\"units\":\"screen\",\"value\":8},\"x\":{\"field\":\"Year\"},\"y\":{\"field\":\"Time\"}},\"id\":\"a58ce9dc-0013-4d5b-aa7f-cd13d073ec47\",\"type\":\"Circle\"},{\"attributes\":{\"dimension\":1,\"plot\":{\"id\":\"103d4808-32ae-4ed5-838b-68122c4350da\",\"subtype\":\"Figure\",\"type\":\"Plot\"},\"ticker\":{\"id\":\"29dce837-1b68-4011-9f88-cf9eea03bc6b\",\"type\":\"BasicTicker\"}},\"id\":\"99901e68-7e12-4fc5-aff5-a7ab168f7cf0\",\"type\":\"Grid\"}],\"root_ids\":[\"103d4808-32ae-4ed5-838b-68122c4350da\"]},\"title\":\"Bokeh Application\",\"version\":\"0.12.10\"}};\n",
       "    var render_items = [{\"docid\":\"ce404aa5-0aaa-4fa4-9272-f8b4dfb45560\",\"elementid\":\"7fb49b9a-6b73-47c0-9040-f23e22974804\",\"modelid\":\"103d4808-32ae-4ed5-838b-68122c4350da\"}];\n",
       "\n",
       "    root.Bokeh.embed.embed_items(docs_json, render_items);\n",
       "  }\n",
       "\n",
       "  if (root.Bokeh !== undefined) {\n",
       "    embed_document(root);\n",
       "  } else {\n",
       "    var attempts = 0;\n",
       "    var timer = setInterval(function(root) {\n",
       "      if (root.Bokeh !== undefined) {\n",
       "        embed_document(root);\n",
       "        clearInterval(timer);\n",
       "      }\n",
       "      attempts++;\n",
       "      if (attempts > 100) {\n",
       "        console.log(\"Bokeh: ERROR: Unable to embed document because BokehJS library is missing\")\n",
       "        clearInterval(timer);\n",
       "      }\n",
       "    }, 10, root)\n",
       "  }\n",
       "})(window);"
      ],
      "application/vnd.bokehjs_exec.v0+json": ""
     },
     "metadata": {
      "application/vnd.bokehjs_exec.v0+json": {
       "id": "103d4808-32ae-4ed5-838b-68122c4350da"
      }
     },
     "output_type": "display_data"
    }
   ],
   "source": [
    "p = figure()\n",
    "\n",
    "# Create a ColumnDataSource from df: source\n",
    "source = ColumnDataSource(df)\n",
    "\n",
    "# Add circle glyphs to the figure p\n",
    "p.circle('Year', 'Time', source = source, color = 'color', size = 8)\n",
    "\n",
    "# Show plot\n",
    "show(p)\n"
   ]
  },
  {
   "cell_type": "markdown",
   "metadata": {},
   "source": [
    "## Customizing glyphs"
   ]
  },
  {
   "cell_type": "markdown",
   "metadata": {},
   "source": [
    "#### Selection appearance"
   ]
  },
  {
   "cell_type": "code",
   "execution_count": 161,
   "metadata": {},
   "outputs": [
    {
     "data": {
      "text/html": [
       "\n",
       "<div class=\"bk-root\">\n",
       "    <div class=\"bk-plotdiv\" id=\"4771c5da-9e51-488a-b92b-c3a4965197da\"></div>\n",
       "</div>"
      ]
     },
     "metadata": {},
     "output_type": "display_data"
    },
    {
     "data": {
      "application/javascript": [
       "(function(root) {\n",
       "  function embed_document(root) {\n",
       "    var docs_json = {\"2b799e9c-5bc8-4a94-82df-d86a668bcec7\":{\"roots\":{\"references\":[{\"attributes\":{\"callback\":null},\"id\":\"f3c0918d-228a-4ad0-b250-7a6c5822262e\",\"type\":\"DataRange1d\"},{\"attributes\":{\"fill_color\":{\"value\":\"#1f77b4\"},\"line_color\":{\"value\":\"#1f77b4\"},\"x\":{\"field\":\"x\"},\"y\":{\"field\":\"y\"}},\"id\":\"9c3d2065-dbb8-40fe-8862-3acf09971b6b\",\"type\":\"Circle\"},{\"attributes\":{\"formatter\":{\"id\":\"1394af2f-df73-402b-963c-323c4fe211f5\",\"type\":\"BasicTickFormatter\"},\"plot\":{\"id\":\"a4df44e2-8e94-48e2-a2d2-f39035e5da5d\",\"subtype\":\"Figure\",\"type\":\"Plot\"},\"ticker\":{\"id\":\"9917fd01-613c-4018-89c7-e5ca20288657\",\"type\":\"BasicTicker\"}},\"id\":\"583eb5a0-d1ff-474e-b0ba-be231c29dfcc\",\"type\":\"LinearAxis\"},{\"attributes\":{\"formatter\":{\"id\":\"09ae5794-08f3-49fd-88bf-57a5f94038b5\",\"type\":\"BasicTickFormatter\"},\"plot\":{\"id\":\"a4df44e2-8e94-48e2-a2d2-f39035e5da5d\",\"subtype\":\"Figure\",\"type\":\"Plot\"},\"ticker\":{\"id\":\"c810b150-ef5a-4e22-a754-69df64684a0a\",\"type\":\"BasicTicker\"}},\"id\":\"e8312fb2-2220-4c82-b33b-8715bea8b6c5\",\"type\":\"LinearAxis\"},{\"attributes\":{},\"id\":\"9917fd01-613c-4018-89c7-e5ca20288657\",\"type\":\"BasicTicker\"},{\"attributes\":{\"data_source\":{\"id\":\"50d5b154-7262-45f7-a6ec-8f9aa2e58ee5\",\"type\":\"ColumnDataSource\"},\"glyph\":{\"id\":\"9c3d2065-dbb8-40fe-8862-3acf09971b6b\",\"type\":\"Circle\"},\"hover_glyph\":null,\"muted_glyph\":null,\"nonselection_glyph\":{\"id\":\"10581c69-01c9-48d2-a75b-588cb5c055ce\",\"type\":\"Circle\"},\"selection_glyph\":null,\"view\":{\"id\":\"5c67b20d-2c07-41ab-a83d-cdbd7417e98e\",\"type\":\"CDSView\"}},\"id\":\"1a99a25f-feff-46a5-8d64-8e50606f87a4\",\"type\":\"GlyphRenderer\"},{\"attributes\":{\"plot\":{\"id\":\"a4df44e2-8e94-48e2-a2d2-f39035e5da5d\",\"subtype\":\"Figure\",\"type\":\"Plot\"},\"ticker\":{\"id\":\"9917fd01-613c-4018-89c7-e5ca20288657\",\"type\":\"BasicTicker\"}},\"id\":\"56d930f8-524d-40f9-ba35-a56e3ad92ca1\",\"type\":\"Grid\"},{\"attributes\":{\"source\":{\"id\":\"50d5b154-7262-45f7-a6ec-8f9aa2e58ee5\",\"type\":\"ColumnDataSource\"}},\"id\":\"5c67b20d-2c07-41ab-a83d-cdbd7417e98e\",\"type\":\"CDSView\"},{\"attributes\":{\"callback\":null,\"column_names\":[\"x\",\"y\"],\"data\":{\"x\":{\"__ndarray__\":\"ZmZmZmZm9j9mZmZmZmb2P83MzMzMzPQ/AAAAAAAA+D9mZmZmZmb2PzMzMzMzM/s/ZmZmZmZm9j8AAAAAAAD4P2ZmZmZmZvY/AAAAAAAA+D8AAAAAAAD4P5qZmZmZmfk/ZmZmZmZm9j+amZmZmZnxPzMzMzMzM/M/AAAAAAAA+D/NzMzMzMz0P2ZmZmZmZvY/MzMzMzMz+z8AAAAAAAD4PzMzMzMzM/s/AAAAAAAA+D8AAAAAAADwPzMzMzMzM/s/ZmZmZmZm/j+amZmZmZn5P5qZmZmZmfk/AAAAAAAA+D9mZmZmZmb2P5qZmZmZmfk/mpmZmZmZ+T8AAAAAAAD4PwAAAAAAAPg/ZmZmZmZm9j8AAAAAAAD4PzMzMzMzM/M/zczMzMzM9D9mZmZmZmb2P83MzMzMzPQ/AAAAAAAA+D/NzMzMzMz0P83MzMzMzPQ/zczMzMzM9D+amZmZmZn5P2ZmZmZmZv4/ZmZmZmZm9j+amZmZmZn5P2ZmZmZmZvY/AAAAAAAA+D9mZmZmZmb2P83MzMzMzBJAAAAAAAAAEkCamZmZmZkTQAAAAAAAABBAZmZmZmZmEkAAAAAAAAASQM3MzMzMzBJAZmZmZmZmCkBmZmZmZmYSQDMzMzMzMw9AAAAAAAAADEDNzMzMzMwQQAAAAAAAABBAzczMzMzMEkDNzMzMzMwMQJqZmZmZmRFAAAAAAAAAEkBmZmZmZmYQQAAAAAAAABJAMzMzMzMzD0AzMzMzMzMTQAAAAAAAABBAmpmZmZmZE0DNzMzMzMwSQDMzMzMzMxFAmpmZmZmZEUAzMzMzMzMTQAAAAAAAABRAAAAAAAAAEkAAAAAAAAAMQGZmZmZmZg5AmpmZmZmZDUAzMzMzMzMPQGZmZmZmZhRAAAAAAAAAEkAAAAAAAAASQM3MzMzMzBJAmpmZmZmZEUBmZmZmZmYQQAAAAAAAABBAmpmZmZmZEUBmZmZmZmYSQAAAAAAAABBAZmZmZmZmCkDNzMzMzMwQQM3MzMzMzBBAzczMzMzMEEAzMzMzMzMRQAAAAAAAAAhAZmZmZmZmEEAAAAAAAAAYQGZmZmZmZhRAmpmZmZmZF0BmZmZmZmYWQDMzMzMzMxdAZmZmZmZmGkAAAAAAAAASQDMzMzMzMxlAMzMzMzMzF0BmZmZmZmYYQGZmZmZmZhRAMzMzMzMzFUAAAAAAAAAWQAAAAAAAABRAZmZmZmZmFEAzMzMzMzMVQAAAAAAAABZAzczMzMzMGkCamZmZmZkbQAAAAAAAABRAzczMzMzMFkCamZmZmZkTQM3MzMzMzBpAmpmZmZmZE0DNzMzMzMwWQAAAAAAAABhAMzMzMzMzE0CamZmZmZkTQGZmZmZmZhZAMzMzMzMzF0BmZmZmZmYYQJqZmZmZmRlAZmZmZmZmFkBmZmZmZmYUQGZmZmZmZhZAZmZmZmZmGEBmZmZmZmYWQAAAAAAAABZAMzMzMzMzE0CamZmZmZkVQGZmZmZmZhZAZmZmZmZmFEBmZmZmZmYUQJqZmZmZmRdAzczMzMzMFkDNzMzMzMwUQAAAAAAAABRAzczMzMzMFECamZmZmZkVQGZmZmZmZhRA\",\"dtype\":\"float64\",\"shape\":[150]},\"y\":{\"__ndarray__\":\"ZmZmZmZmFECamZmZmZkTQM3MzMzMzBJAZmZmZmZmEkAAAAAAAAAUQJqZmZmZmRVAZmZmZmZmEkAAAAAAAAAUQJqZmZmZmRFAmpmZmZmZE0CamZmZmZkVQDMzMzMzMxNAMzMzMzMzE0AzMzMzMzMRQDMzMzMzMxdAzczMzMzMFkCamZmZmZkVQGZmZmZmZhRAzczMzMzMFkBmZmZmZmYUQJqZmZmZmRVAZmZmZmZmFEBmZmZmZmYSQGZmZmZmZhRAMzMzMzMzE0AAAAAAAAAUQAAAAAAAABRAzczMzMzMFEDNzMzMzMwUQM3MzMzMzBJAMzMzMzMzE0CamZmZmZkVQM3MzMzMzBRAAAAAAAAAFkCamZmZmZkTQAAAAAAAABRAAAAAAAAAFkCamZmZmZkTQJqZmZmZmRFAZmZmZmZmFEAAAAAAAAAUQAAAAAAAABJAmpmZmZmZEUAAAAAAAAAUQGZmZmZmZhRAMzMzMzMzE0BmZmZmZmYUQGZmZmZmZhJAMzMzMzMzFUAAAAAAAAAUQAAAAAAAABxAmpmZmZmZGUCamZmZmZkbQAAAAAAAABZAAAAAAAAAGkDNzMzMzMwWQDMzMzMzMxlAmpmZmZmZE0BmZmZmZmYaQM3MzMzMzBRAAAAAAAAAFECamZmZmZkXQAAAAAAAABhAZmZmZmZmGEBmZmZmZmYWQM3MzMzMzBpAZmZmZmZmFkAzMzMzMzMXQM3MzMzMzBhAZmZmZmZmFkCamZmZmZkXQGZmZmZmZhhAMzMzMzMzGUBmZmZmZmYYQJqZmZmZmRlAZmZmZmZmGkAzMzMzMzMbQM3MzMzMzBpAAAAAAAAAGEDNzMzMzMwWQAAAAAAAABZAAAAAAAAAFkAzMzMzMzMXQAAAAAAAABhAmpmZmZmZFUAAAAAAAAAYQM3MzMzMzBpAMzMzMzMzGUBmZmZmZmYWQAAAAAAAABZAAAAAAAAAFkBmZmZmZmYYQDMzMzMzMxdAAAAAAAAAFEBmZmZmZmYWQM3MzMzMzBZAzczMzMzMFkDNzMzMzMwYQGZmZmZmZhRAzczMzMzMFkAzMzMzMzMZQDMzMzMzMxdAZmZmZmZmHEAzMzMzMzMZQAAAAAAAABpAZmZmZmZmHkCamZmZmZkTQDMzMzMzMx1AzczMzMzMGkDNzMzMzMwcQAAAAAAAABpAmpmZmZmZGUAzMzMzMzMbQM3MzMzMzBZAMzMzMzMzF0CamZmZmZkZQAAAAAAAABpAzczMzMzMHkDNzMzMzMweQAAAAAAAABhAmpmZmZmZG0BmZmZmZmYWQM3MzMzMzB5AMzMzMzMzGUDNzMzMzMwaQM3MzMzMzBxAzczMzMzMGEBmZmZmZmYYQJqZmZmZmRlAzczMzMzMHECamZmZmZkdQJqZmZmZmR9AmpmZmZmZGUAzMzMzMzMZQGZmZmZmZhhAzczMzMzMHkAzMzMzMzMZQJqZmZmZmRlAAAAAAAAAGECamZmZmZkbQM3MzMzMzBpAmpmZmZmZG0AzMzMzMzMXQDMzMzMzMxtAzczMzMzMGkDNzMzMzMwaQDMzMzMzMxlAAAAAAAAAGkDNzMzMzMwYQJqZmZmZmRdA\",\"dtype\":\"float64\",\"shape\":[150]}}},\"id\":\"50d5b154-7262-45f7-a6ec-8f9aa2e58ee5\",\"type\":\"ColumnDataSource\"},{\"attributes\":{\"plot\":null,\"text\":\"\"},\"id\":\"a18c2172-6b8e-40fe-9f56-6d0bbaf97a55\",\"type\":\"Title\"},{\"attributes\":{},\"id\":\"09ae5794-08f3-49fd-88bf-57a5f94038b5\",\"type\":\"BasicTickFormatter\"},{\"attributes\":{},\"id\":\"c810b150-ef5a-4e22-a754-69df64684a0a\",\"type\":\"BasicTicker\"},{\"attributes\":{\"below\":[{\"id\":\"583eb5a0-d1ff-474e-b0ba-be231c29dfcc\",\"type\":\"LinearAxis\"}],\"left\":[{\"id\":\"e8312fb2-2220-4c82-b33b-8715bea8b6c5\",\"type\":\"LinearAxis\"}],\"renderers\":[{\"id\":\"583eb5a0-d1ff-474e-b0ba-be231c29dfcc\",\"type\":\"LinearAxis\"},{\"id\":\"56d930f8-524d-40f9-ba35-a56e3ad92ca1\",\"type\":\"Grid\"},{\"id\":\"e8312fb2-2220-4c82-b33b-8715bea8b6c5\",\"type\":\"LinearAxis\"},{\"id\":\"2cbe994c-d004-494d-beee-14f79eaa067e\",\"type\":\"Grid\"},{\"id\":\"adabad1a-2746-4632-9e2a-4cb3788a02ab\",\"type\":\"BoxAnnotation\"},{\"id\":\"0763ddd0-ff36-40e5-905f-6ed294f6db90\",\"type\":\"PolyAnnotation\"},{\"id\":\"1a99a25f-feff-46a5-8d64-8e50606f87a4\",\"type\":\"GlyphRenderer\"}],\"title\":{\"id\":\"a18c2172-6b8e-40fe-9f56-6d0bbaf97a55\",\"type\":\"Title\"},\"toolbar\":{\"id\":\"6b0a3952-685e-4a87-827c-d67d1341d661\",\"type\":\"Toolbar\"},\"x_range\":{\"id\":\"7deadfa2-78da-4c12-b378-f313f3595607\",\"type\":\"DataRange1d\"},\"x_scale\":{\"id\":\"adbd181b-5163-4ee5-8e5c-03e6072a0146\",\"type\":\"LinearScale\"},\"y_range\":{\"id\":\"f3c0918d-228a-4ad0-b250-7a6c5822262e\",\"type\":\"DataRange1d\"},\"y_scale\":{\"id\":\"021aa17d-edf5-4373-a877-77950f56326c\",\"type\":\"LinearScale\"}},\"id\":\"a4df44e2-8e94-48e2-a2d2-f39035e5da5d\",\"subtype\":\"Figure\",\"type\":\"Plot\"},{\"attributes\":{\"dimension\":1,\"plot\":{\"id\":\"a4df44e2-8e94-48e2-a2d2-f39035e5da5d\",\"subtype\":\"Figure\",\"type\":\"Plot\"},\"ticker\":{\"id\":\"c810b150-ef5a-4e22-a754-69df64684a0a\",\"type\":\"BasicTicker\"}},\"id\":\"2cbe994c-d004-494d-beee-14f79eaa067e\",\"type\":\"Grid\"},{\"attributes\":{\"bottom_units\":\"screen\",\"fill_alpha\":{\"value\":0.5},\"fill_color\":{\"value\":\"lightgrey\"},\"left_units\":\"screen\",\"level\":\"overlay\",\"line_alpha\":{\"value\":1.0},\"line_color\":{\"value\":\"black\"},\"line_dash\":[4,4],\"line_width\":{\"value\":2},\"plot\":null,\"render_mode\":\"css\",\"right_units\":\"screen\",\"top_units\":\"screen\"},\"id\":\"adabad1a-2746-4632-9e2a-4cb3788a02ab\",\"type\":\"BoxAnnotation\"},{\"attributes\":{},\"id\":\"adbd181b-5163-4ee5-8e5c-03e6072a0146\",\"type\":\"LinearScale\"},{\"attributes\":{},\"id\":\"021aa17d-edf5-4373-a877-77950f56326c\",\"type\":\"LinearScale\"},{\"attributes\":{\"callback\":null,\"overlay\":{\"id\":\"0763ddd0-ff36-40e5-905f-6ed294f6db90\",\"type\":\"PolyAnnotation\"}},\"id\":\"f092965a-4023-4939-96c1-89676d4304e0\",\"type\":\"LassoSelectTool\"},{\"attributes\":{\"active_drag\":\"auto\",\"active_inspect\":\"auto\",\"active_scroll\":\"auto\",\"active_tap\":\"auto\",\"tools\":[{\"id\":\"5ae707c9-092b-4dfb-81b5-0ce789d7b239\",\"type\":\"BoxSelectTool\"},{\"id\":\"f092965a-4023-4939-96c1-89676d4304e0\",\"type\":\"LassoSelectTool\"}]},\"id\":\"6b0a3952-685e-4a87-827c-d67d1341d661\",\"type\":\"Toolbar\"},{\"attributes\":{},\"id\":\"1394af2f-df73-402b-963c-323c4fe211f5\",\"type\":\"BasicTickFormatter\"},{\"attributes\":{\"callback\":null},\"id\":\"7deadfa2-78da-4c12-b378-f313f3595607\",\"type\":\"DataRange1d\"},{\"attributes\":{\"fill_alpha\":{\"value\":0.1},\"fill_color\":{\"value\":\"#1f77b4\"},\"line_alpha\":{\"value\":0.1},\"line_color\":{\"value\":\"#1f77b4\"},\"x\":{\"field\":\"x\"},\"y\":{\"field\":\"y\"}},\"id\":\"10581c69-01c9-48d2-a75b-588cb5c055ce\",\"type\":\"Circle\"},{\"attributes\":{\"callback\":null,\"overlay\":{\"id\":\"adabad1a-2746-4632-9e2a-4cb3788a02ab\",\"type\":\"BoxAnnotation\"},\"renderers\":[{\"id\":\"1a99a25f-feff-46a5-8d64-8e50606f87a4\",\"type\":\"GlyphRenderer\"}]},\"id\":\"5ae707c9-092b-4dfb-81b5-0ce789d7b239\",\"type\":\"BoxSelectTool\"},{\"attributes\":{\"fill_alpha\":{\"value\":0.5},\"fill_color\":{\"value\":\"lightgrey\"},\"level\":\"overlay\",\"line_alpha\":{\"value\":1.0},\"line_color\":{\"value\":\"black\"},\"line_dash\":[4,4],\"line_width\":{\"value\":2},\"plot\":null,\"xs_units\":\"screen\",\"ys_units\":\"screen\"},\"id\":\"0763ddd0-ff36-40e5-905f-6ed294f6db90\",\"type\":\"PolyAnnotation\"}],\"root_ids\":[\"a4df44e2-8e94-48e2-a2d2-f39035e5da5d\"]},\"title\":\"Bokeh Application\",\"version\":\"0.12.10\"}};\n",
       "    var render_items = [{\"docid\":\"2b799e9c-5bc8-4a94-82df-d86a668bcec7\",\"elementid\":\"4771c5da-9e51-488a-b92b-c3a4965197da\",\"modelid\":\"a4df44e2-8e94-48e2-a2d2-f39035e5da5d\"}];\n",
       "\n",
       "    root.Bokeh.embed.embed_items(docs_json, render_items);\n",
       "  }\n",
       "\n",
       "  if (root.Bokeh !== undefined) {\n",
       "    embed_document(root);\n",
       "  } else {\n",
       "    var attempts = 0;\n",
       "    var timer = setInterval(function(root) {\n",
       "      if (root.Bokeh !== undefined) {\n",
       "        embed_document(root);\n",
       "        clearInterval(timer);\n",
       "      }\n",
       "      attempts++;\n",
       "      if (attempts > 100) {\n",
       "        console.log(\"Bokeh: ERROR: Unable to embed document because BokehJS library is missing\")\n",
       "        clearInterval(timer);\n",
       "      }\n",
       "    }, 10, root)\n",
       "  }\n",
       "})(window);"
      ],
      "application/vnd.bokehjs_exec.v0+json": ""
     },
     "metadata": {
      "application/vnd.bokehjs_exec.v0+json": {
       "id": "a4df44e2-8e94-48e2-a2d2-f39035e5da5d"
      }
     },
     "output_type": "display_data"
    }
   ],
   "source": [
    "plot = figure(tools='box_select, lasso_select')\n",
    "\n",
    "plot.circle(flowers.petal_length, flowers.sepal_length)\n",
    "\n",
    "show(plot)"
   ]
  },
  {
   "cell_type": "code",
   "execution_count": 164,
   "metadata": {},
   "outputs": [
    {
     "data": {
      "text/html": [
       "\n",
       "<div class=\"bk-root\">\n",
       "    <div class=\"bk-plotdiv\" id=\"ad284698-fc65-4454-8e26-b15768d22f06\"></div>\n",
       "</div>"
      ]
     },
     "metadata": {},
     "output_type": "display_data"
    },
    {
     "data": {
      "application/javascript": [
       "(function(root) {\n",
       "  function embed_document(root) {\n",
       "    var docs_json = {\"ff26eb92-9665-4ede-b008-6662711510fa\":{\"roots\":{\"references\":[{\"attributes\":{\"callback\":null},\"id\":\"98f65537-e3c4-4310-953f-780cd758d32a\",\"type\":\"DataRange1d\"},{\"attributes\":{\"fill_color\":{\"value\":\"#1f77b4\"},\"line_color\":{\"value\":\"#1f77b4\"},\"x\":{\"field\":\"x\"},\"y\":{\"field\":\"y\"}},\"id\":\"26f19bfb-f6c6-4cac-a919-72e0e3b97cab\",\"type\":\"Circle\"},{\"attributes\":{\"fill_alpha\":{\"value\":0.4},\"fill_color\":{\"value\":\"grey\"},\"line_alpha\":{\"value\":0.1},\"line_color\":{\"value\":\"#1f77b4\"},\"x\":{\"field\":\"x\"},\"y\":{\"field\":\"y\"}},\"id\":\"6db41268-b13c-42ed-ba87-1a5c944037ff\",\"type\":\"Circle\"},{\"attributes\":{\"plot\":{\"id\":\"7dd282a2-74ed-4555-9713-cefc22d0e8c1\",\"subtype\":\"Figure\",\"type\":\"Plot\"},\"ticker\":{\"id\":\"d2b62e5c-56b8-4f04-994b-d433f0631f68\",\"type\":\"BasicTicker\"}},\"id\":\"7945ae93-389a-4bfc-bc60-010cea4152f0\",\"type\":\"Grid\"},{\"attributes\":{\"fill_color\":{\"value\":\"red\"},\"line_color\":{\"value\":\"red\"},\"x\":{\"field\":\"x\"},\"y\":{\"field\":\"y\"}},\"id\":\"e86fbb8a-34a1-49e2-a883-0f7aa37541fe\",\"type\":\"Circle\"},{\"attributes\":{},\"id\":\"336fc1fd-0b38-4477-a459-3eecf3b32863\",\"type\":\"LinearScale\"},{\"attributes\":{\"dimension\":1,\"plot\":{\"id\":\"7dd282a2-74ed-4555-9713-cefc22d0e8c1\",\"subtype\":\"Figure\",\"type\":\"Plot\"},\"ticker\":{\"id\":\"ec129857-7601-45b9-b076-547b918f3103\",\"type\":\"BasicTicker\"}},\"id\":\"f5792cae-9389-4a7f-af88-c904c7ddc678\",\"type\":\"Grid\"},{\"attributes\":{},\"id\":\"ec129857-7601-45b9-b076-547b918f3103\",\"type\":\"BasicTicker\"},{\"attributes\":{\"fill_alpha\":{\"value\":0.5},\"fill_color\":{\"value\":\"lightgrey\"},\"level\":\"overlay\",\"line_alpha\":{\"value\":1.0},\"line_color\":{\"value\":\"black\"},\"line_dash\":[4,4],\"line_width\":{\"value\":2},\"plot\":null,\"xs_units\":\"screen\",\"ys_units\":\"screen\"},\"id\":\"ea399194-4411-401e-8da1-e28002a748cd\",\"type\":\"PolyAnnotation\"},{\"attributes\":{},\"id\":\"d2b62e5c-56b8-4f04-994b-d433f0631f68\",\"type\":\"BasicTicker\"},{\"attributes\":{\"callback\":null},\"id\":\"33c8bb5f-e61e-4023-a783-beb45e25f275\",\"type\":\"DataRange1d\"},{\"attributes\":{\"below\":[{\"id\":\"8e88af31-d6ac-4242-ab38-5dd133dc7e9b\",\"type\":\"LinearAxis\"}],\"left\":[{\"id\":\"0c99f517-44e7-4b2b-8061-be28950054af\",\"type\":\"LinearAxis\"}],\"renderers\":[{\"id\":\"8e88af31-d6ac-4242-ab38-5dd133dc7e9b\",\"type\":\"LinearAxis\"},{\"id\":\"7945ae93-389a-4bfc-bc60-010cea4152f0\",\"type\":\"Grid\"},{\"id\":\"0c99f517-44e7-4b2b-8061-be28950054af\",\"type\":\"LinearAxis\"},{\"id\":\"f5792cae-9389-4a7f-af88-c904c7ddc678\",\"type\":\"Grid\"},{\"id\":\"b1b9a9a6-5355-4f62-8900-94eefcbaedb0\",\"type\":\"BoxAnnotation\"},{\"id\":\"ea399194-4411-401e-8da1-e28002a748cd\",\"type\":\"PolyAnnotation\"},{\"id\":\"d38dd75a-e46f-4af9-9362-7174f616eaf7\",\"type\":\"GlyphRenderer\"}],\"title\":{\"id\":\"8abd981a-04be-4a6f-a741-7e7e09197f35\",\"type\":\"Title\"},\"toolbar\":{\"id\":\"c285f959-a737-4a33-9a4e-b54009ddf7d6\",\"type\":\"Toolbar\"},\"x_range\":{\"id\":\"98f65537-e3c4-4310-953f-780cd758d32a\",\"type\":\"DataRange1d\"},\"x_scale\":{\"id\":\"336fc1fd-0b38-4477-a459-3eecf3b32863\",\"type\":\"LinearScale\"},\"y_range\":{\"id\":\"33c8bb5f-e61e-4023-a783-beb45e25f275\",\"type\":\"DataRange1d\"},\"y_scale\":{\"id\":\"bcbe5fb5-d533-4739-b2ae-be34ce31fefc\",\"type\":\"LinearScale\"}},\"id\":\"7dd282a2-74ed-4555-9713-cefc22d0e8c1\",\"subtype\":\"Figure\",\"type\":\"Plot\"},{\"attributes\":{},\"id\":\"8f31004b-9ca7-4e10-b6c0-c20ad9de01a0\",\"type\":\"BasicTickFormatter\"},{\"attributes\":{\"data_source\":{\"id\":\"b3e18e34-657c-4d23-aec4-f7cd3b4df465\",\"type\":\"ColumnDataSource\"},\"glyph\":{\"id\":\"26f19bfb-f6c6-4cac-a919-72e0e3b97cab\",\"type\":\"Circle\"},\"hover_glyph\":null,\"muted_glyph\":null,\"nonselection_glyph\":{\"id\":\"6db41268-b13c-42ed-ba87-1a5c944037ff\",\"type\":\"Circle\"},\"selection_glyph\":{\"id\":\"e86fbb8a-34a1-49e2-a883-0f7aa37541fe\",\"type\":\"Circle\"},\"view\":{\"id\":\"9f2fd1bf-1e9e-42c6-80f7-94ceae3456d8\",\"type\":\"CDSView\"}},\"id\":\"d38dd75a-e46f-4af9-9362-7174f616eaf7\",\"type\":\"GlyphRenderer\"},{\"attributes\":{\"callback\":null,\"overlay\":{\"id\":\"b1b9a9a6-5355-4f62-8900-94eefcbaedb0\",\"type\":\"BoxAnnotation\"},\"renderers\":[{\"id\":\"d38dd75a-e46f-4af9-9362-7174f616eaf7\",\"type\":\"GlyphRenderer\"}]},\"id\":\"072a0c07-521a-4399-a0b5-19580f4b73bb\",\"type\":\"BoxSelectTool\"},{\"attributes\":{\"callback\":null,\"column_names\":[\"x\",\"y\"],\"data\":{\"x\":{\"__ndarray__\":\"ZmZmZmZm9j9mZmZmZmb2P83MzMzMzPQ/AAAAAAAA+D9mZmZmZmb2PzMzMzMzM/s/ZmZmZmZm9j8AAAAAAAD4P2ZmZmZmZvY/AAAAAAAA+D8AAAAAAAD4P5qZmZmZmfk/ZmZmZmZm9j+amZmZmZnxPzMzMzMzM/M/AAAAAAAA+D/NzMzMzMz0P2ZmZmZmZvY/MzMzMzMz+z8AAAAAAAD4PzMzMzMzM/s/AAAAAAAA+D8AAAAAAADwPzMzMzMzM/s/ZmZmZmZm/j+amZmZmZn5P5qZmZmZmfk/AAAAAAAA+D9mZmZmZmb2P5qZmZmZmfk/mpmZmZmZ+T8AAAAAAAD4PwAAAAAAAPg/ZmZmZmZm9j8AAAAAAAD4PzMzMzMzM/M/zczMzMzM9D9mZmZmZmb2P83MzMzMzPQ/AAAAAAAA+D/NzMzMzMz0P83MzMzMzPQ/zczMzMzM9D+amZmZmZn5P2ZmZmZmZv4/ZmZmZmZm9j+amZmZmZn5P2ZmZmZmZvY/AAAAAAAA+D9mZmZmZmb2P83MzMzMzBJAAAAAAAAAEkCamZmZmZkTQAAAAAAAABBAZmZmZmZmEkAAAAAAAAASQM3MzMzMzBJAZmZmZmZmCkBmZmZmZmYSQDMzMzMzMw9AAAAAAAAADEDNzMzMzMwQQAAAAAAAABBAzczMzMzMEkDNzMzMzMwMQJqZmZmZmRFAAAAAAAAAEkBmZmZmZmYQQAAAAAAAABJAMzMzMzMzD0AzMzMzMzMTQAAAAAAAABBAmpmZmZmZE0DNzMzMzMwSQDMzMzMzMxFAmpmZmZmZEUAzMzMzMzMTQAAAAAAAABRAAAAAAAAAEkAAAAAAAAAMQGZmZmZmZg5AmpmZmZmZDUAzMzMzMzMPQGZmZmZmZhRAAAAAAAAAEkAAAAAAAAASQM3MzMzMzBJAmpmZmZmZEUBmZmZmZmYQQAAAAAAAABBAmpmZmZmZEUBmZmZmZmYSQAAAAAAAABBAZmZmZmZmCkDNzMzMzMwQQM3MzMzMzBBAzczMzMzMEEAzMzMzMzMRQAAAAAAAAAhAZmZmZmZmEEAAAAAAAAAYQGZmZmZmZhRAmpmZmZmZF0BmZmZmZmYWQDMzMzMzMxdAZmZmZmZmGkAAAAAAAAASQDMzMzMzMxlAMzMzMzMzF0BmZmZmZmYYQGZmZmZmZhRAMzMzMzMzFUAAAAAAAAAWQAAAAAAAABRAZmZmZmZmFEAzMzMzMzMVQAAAAAAAABZAzczMzMzMGkCamZmZmZkbQAAAAAAAABRAzczMzMzMFkCamZmZmZkTQM3MzMzMzBpAmpmZmZmZE0DNzMzMzMwWQAAAAAAAABhAMzMzMzMzE0CamZmZmZkTQGZmZmZmZhZAMzMzMzMzF0BmZmZmZmYYQJqZmZmZmRlAZmZmZmZmFkBmZmZmZmYUQGZmZmZmZhZAZmZmZmZmGEBmZmZmZmYWQAAAAAAAABZAMzMzMzMzE0CamZmZmZkVQGZmZmZmZhZAZmZmZmZmFEBmZmZmZmYUQJqZmZmZmRdAzczMzMzMFkDNzMzMzMwUQAAAAAAAABRAzczMzMzMFECamZmZmZkVQGZmZmZmZhRA\",\"dtype\":\"float64\",\"shape\":[150]},\"y\":{\"__ndarray__\":\"ZmZmZmZmFECamZmZmZkTQM3MzMzMzBJAZmZmZmZmEkAAAAAAAAAUQJqZmZmZmRVAZmZmZmZmEkAAAAAAAAAUQJqZmZmZmRFAmpmZmZmZE0CamZmZmZkVQDMzMzMzMxNAMzMzMzMzE0AzMzMzMzMRQDMzMzMzMxdAzczMzMzMFkCamZmZmZkVQGZmZmZmZhRAzczMzMzMFkBmZmZmZmYUQJqZmZmZmRVAZmZmZmZmFEBmZmZmZmYSQGZmZmZmZhRAMzMzMzMzE0AAAAAAAAAUQAAAAAAAABRAzczMzMzMFEDNzMzMzMwUQM3MzMzMzBJAMzMzMzMzE0CamZmZmZkVQM3MzMzMzBRAAAAAAAAAFkCamZmZmZkTQAAAAAAAABRAAAAAAAAAFkCamZmZmZkTQJqZmZmZmRFAZmZmZmZmFEAAAAAAAAAUQAAAAAAAABJAmpmZmZmZEUAAAAAAAAAUQGZmZmZmZhRAMzMzMzMzE0BmZmZmZmYUQGZmZmZmZhJAMzMzMzMzFUAAAAAAAAAUQAAAAAAAABxAmpmZmZmZGUCamZmZmZkbQAAAAAAAABZAAAAAAAAAGkDNzMzMzMwWQDMzMzMzMxlAmpmZmZmZE0BmZmZmZmYaQM3MzMzMzBRAAAAAAAAAFECamZmZmZkXQAAAAAAAABhAZmZmZmZmGEBmZmZmZmYWQM3MzMzMzBpAZmZmZmZmFkAzMzMzMzMXQM3MzMzMzBhAZmZmZmZmFkCamZmZmZkXQGZmZmZmZhhAMzMzMzMzGUBmZmZmZmYYQJqZmZmZmRlAZmZmZmZmGkAzMzMzMzMbQM3MzMzMzBpAAAAAAAAAGEDNzMzMzMwWQAAAAAAAABZAAAAAAAAAFkAzMzMzMzMXQAAAAAAAABhAmpmZmZmZFUAAAAAAAAAYQM3MzMzMzBpAMzMzMzMzGUBmZmZmZmYWQAAAAAAAABZAAAAAAAAAFkBmZmZmZmYYQDMzMzMzMxdAAAAAAAAAFEBmZmZmZmYWQM3MzMzMzBZAzczMzMzMFkDNzMzMzMwYQGZmZmZmZhRAzczMzMzMFkAzMzMzMzMZQDMzMzMzMxdAZmZmZmZmHEAzMzMzMzMZQAAAAAAAABpAZmZmZmZmHkCamZmZmZkTQDMzMzMzMx1AzczMzMzMGkDNzMzMzMwcQAAAAAAAABpAmpmZmZmZGUAzMzMzMzMbQM3MzMzMzBZAMzMzMzMzF0CamZmZmZkZQAAAAAAAABpAzczMzMzMHkDNzMzMzMweQAAAAAAAABhAmpmZmZmZG0BmZmZmZmYWQM3MzMzMzB5AMzMzMzMzGUDNzMzMzMwaQM3MzMzMzBxAzczMzMzMGEBmZmZmZmYYQJqZmZmZmRlAzczMzMzMHECamZmZmZkdQJqZmZmZmR9AmpmZmZmZGUAzMzMzMzMZQGZmZmZmZhhAzczMzMzMHkAzMzMzMzMZQJqZmZmZmRlAAAAAAAAAGECamZmZmZkbQM3MzMzMzBpAmpmZmZmZG0AzMzMzMzMXQDMzMzMzMxtAzczMzMzMGkDNzMzMzMwaQDMzMzMzMxlAAAAAAAAAGkDNzMzMzMwYQJqZmZmZmRdA\",\"dtype\":\"float64\",\"shape\":[150]}}},\"id\":\"b3e18e34-657c-4d23-aec4-f7cd3b4df465\",\"type\":\"ColumnDataSource\"},{\"attributes\":{\"callback\":null,\"overlay\":{\"id\":\"ea399194-4411-401e-8da1-e28002a748cd\",\"type\":\"PolyAnnotation\"}},\"id\":\"3718d906-f028-4e33-bf93-003f0ebb9c70\",\"type\":\"LassoSelectTool\"},{\"attributes\":{},\"id\":\"bcbe5fb5-d533-4739-b2ae-be34ce31fefc\",\"type\":\"LinearScale\"},{\"attributes\":{},\"id\":\"dabd2a9e-4ea0-4bad-99a3-aa1c8ba3b109\",\"type\":\"BasicTickFormatter\"},{\"attributes\":{\"source\":{\"id\":\"b3e18e34-657c-4d23-aec4-f7cd3b4df465\",\"type\":\"ColumnDataSource\"}},\"id\":\"9f2fd1bf-1e9e-42c6-80f7-94ceae3456d8\",\"type\":\"CDSView\"},{\"attributes\":{\"formatter\":{\"id\":\"dabd2a9e-4ea0-4bad-99a3-aa1c8ba3b109\",\"type\":\"BasicTickFormatter\"},\"plot\":{\"id\":\"7dd282a2-74ed-4555-9713-cefc22d0e8c1\",\"subtype\":\"Figure\",\"type\":\"Plot\"},\"ticker\":{\"id\":\"d2b62e5c-56b8-4f04-994b-d433f0631f68\",\"type\":\"BasicTicker\"}},\"id\":\"8e88af31-d6ac-4242-ab38-5dd133dc7e9b\",\"type\":\"LinearAxis\"},{\"attributes\":{\"bottom_units\":\"screen\",\"fill_alpha\":{\"value\":0.5},\"fill_color\":{\"value\":\"lightgrey\"},\"left_units\":\"screen\",\"level\":\"overlay\",\"line_alpha\":{\"value\":1.0},\"line_color\":{\"value\":\"black\"},\"line_dash\":[4,4],\"line_width\":{\"value\":2},\"plot\":null,\"render_mode\":\"css\",\"right_units\":\"screen\",\"top_units\":\"screen\"},\"id\":\"b1b9a9a6-5355-4f62-8900-94eefcbaedb0\",\"type\":\"BoxAnnotation\"},{\"attributes\":{\"formatter\":{\"id\":\"8f31004b-9ca7-4e10-b6c0-c20ad9de01a0\",\"type\":\"BasicTickFormatter\"},\"plot\":{\"id\":\"7dd282a2-74ed-4555-9713-cefc22d0e8c1\",\"subtype\":\"Figure\",\"type\":\"Plot\"},\"ticker\":{\"id\":\"ec129857-7601-45b9-b076-547b918f3103\",\"type\":\"BasicTicker\"}},\"id\":\"0c99f517-44e7-4b2b-8061-be28950054af\",\"type\":\"LinearAxis\"},{\"attributes\":{\"plot\":null,\"text\":\"\"},\"id\":\"8abd981a-04be-4a6f-a741-7e7e09197f35\",\"type\":\"Title\"},{\"attributes\":{\"active_drag\":\"auto\",\"active_inspect\":\"auto\",\"active_scroll\":\"auto\",\"active_tap\":\"auto\",\"tools\":[{\"id\":\"072a0c07-521a-4399-a0b5-19580f4b73bb\",\"type\":\"BoxSelectTool\"},{\"id\":\"3718d906-f028-4e33-bf93-003f0ebb9c70\",\"type\":\"LassoSelectTool\"}]},\"id\":\"c285f959-a737-4a33-9a4e-b54009ddf7d6\",\"type\":\"Toolbar\"}],\"root_ids\":[\"7dd282a2-74ed-4555-9713-cefc22d0e8c1\"]},\"title\":\"Bokeh Application\",\"version\":\"0.12.10\"}};\n",
       "    var render_items = [{\"docid\":\"ff26eb92-9665-4ede-b008-6662711510fa\",\"elementid\":\"ad284698-fc65-4454-8e26-b15768d22f06\",\"modelid\":\"7dd282a2-74ed-4555-9713-cefc22d0e8c1\"}];\n",
       "\n",
       "    root.Bokeh.embed.embed_items(docs_json, render_items);\n",
       "  }\n",
       "\n",
       "  if (root.Bokeh !== undefined) {\n",
       "    embed_document(root);\n",
       "  } else {\n",
       "    var attempts = 0;\n",
       "    var timer = setInterval(function(root) {\n",
       "      if (root.Bokeh !== undefined) {\n",
       "        embed_document(root);\n",
       "        clearInterval(timer);\n",
       "      }\n",
       "      attempts++;\n",
       "      if (attempts > 100) {\n",
       "        console.log(\"Bokeh: ERROR: Unable to embed document because BokehJS library is missing\")\n",
       "        clearInterval(timer);\n",
       "      }\n",
       "    }, 10, root)\n",
       "  }\n",
       "})(window);"
      ],
      "application/vnd.bokehjs_exec.v0+json": ""
     },
     "metadata": {
      "application/vnd.bokehjs_exec.v0+json": {
       "id": "7dd282a2-74ed-4555-9713-cefc22d0e8c1"
      }
     },
     "output_type": "display_data"
    }
   ],
   "source": [
    "plot = figure(tools='box_select, lasso_select')\n",
    "\n",
    "plot.circle(flowers.petal_length, flowers.sepal_length,\n",
    "           selection_color = 'red',\n",
    "           nonselection_fill_alpha = 0.4,\n",
    "           nonselection_fill_color = 'grey')\n",
    "\n",
    "show(plot)"
   ]
  },
  {
   "cell_type": "markdown",
   "metadata": {},
   "source": [
    "#### Hover appearance"
   ]
  },
  {
   "cell_type": "code",
   "execution_count": 166,
   "metadata": {},
   "outputs": [
    {
     "data": {
      "text/html": [
       "\n",
       "<div class=\"bk-root\">\n",
       "    <div class=\"bk-plotdiv\" id=\"120c9327-f73c-4702-8543-2ae2af3c919c\"></div>\n",
       "</div>"
      ]
     },
     "metadata": {},
     "output_type": "display_data"
    },
    {
     "data": {
      "application/javascript": [
       "(function(root) {\n",
       "  function embed_document(root) {\n",
       "    var docs_json = {\"da01524f-b440-4cd0-85c4-a0aecabdc55c\":{\"roots\":{\"references\":[{\"attributes\":{\"callback\":null,\"mode\":\"hline\",\"tooltips\":null},\"id\":\"bdde63c1-4a93-4540-8714-1cd14f557693\",\"type\":\"HoverTool\"},{\"attributes\":{},\"id\":\"57bb637e-cc23-4df5-9b81-f9ccae61a2ee\",\"type\":\"CrosshairTool\"},{\"attributes\":{\"below\":[{\"id\":\"4582be52-1752-4935-be5c-49d9760676f3\",\"type\":\"LinearAxis\"}],\"left\":[{\"id\":\"26401a03-9cab-43b5-b82a-2ce449364596\",\"type\":\"LinearAxis\"}],\"renderers\":[{\"id\":\"4582be52-1752-4935-be5c-49d9760676f3\",\"type\":\"LinearAxis\"},{\"id\":\"644bda06-5f9a-4892-bbf6-26c012d31cd8\",\"type\":\"Grid\"},{\"id\":\"26401a03-9cab-43b5-b82a-2ce449364596\",\"type\":\"LinearAxis\"},{\"id\":\"a869ab02-6fb3-4f49-a0f8-71b1eeab57ad\",\"type\":\"Grid\"},{\"id\":\"55e13049-6a21-44f8-ad38-e5ada552d170\",\"type\":\"GlyphRenderer\"}],\"title\":{\"id\":\"bb32005f-65d7-49b7-80cc-b496c6abcf40\",\"type\":\"Title\"},\"toolbar\":{\"id\":\"8a29a284-daa2-4d19-bba3-b0f9e861309c\",\"type\":\"Toolbar\"},\"x_range\":{\"id\":\"13e70cc1-78ab-4200-8360-6746d80288f6\",\"type\":\"DataRange1d\"},\"x_scale\":{\"id\":\"efd5cd70-a9f7-4dc8-810e-697a2d4c29a1\",\"type\":\"LinearScale\"},\"y_range\":{\"id\":\"e148e40c-b3f2-4865-ac4f-9d23be994a22\",\"type\":\"DataRange1d\"},\"y_scale\":{\"id\":\"83447867-2349-469d-99d1-2f46f7370a29\",\"type\":\"LinearScale\"}},\"id\":\"eb003735-fe95-40b5-9dd2-88417092e95f\",\"subtype\":\"Figure\",\"type\":\"Plot\"},{\"attributes\":{},\"id\":\"c25f4b32-918c-4e87-b683-e0cc64287034\",\"type\":\"BasicTickFormatter\"},{\"attributes\":{\"callback\":null},\"id\":\"13e70cc1-78ab-4200-8360-6746d80288f6\",\"type\":\"DataRange1d\"},{\"attributes\":{\"active_drag\":\"auto\",\"active_inspect\":\"auto\",\"active_scroll\":\"auto\",\"active_tap\":\"auto\",\"tools\":[{\"id\":\"bdde63c1-4a93-4540-8714-1cd14f557693\",\"type\":\"HoverTool\"},{\"id\":\"57bb637e-cc23-4df5-9b81-f9ccae61a2ee\",\"type\":\"CrosshairTool\"}]},\"id\":\"8a29a284-daa2-4d19-bba3-b0f9e861309c\",\"type\":\"Toolbar\"},{\"attributes\":{\"fill_alpha\":{\"value\":0.1},\"fill_color\":{\"value\":\"#1f77b4\"},\"line_alpha\":{\"value\":0.1},\"line_color\":{\"value\":\"#1f77b4\"},\"size\":{\"units\":\"screen\",\"value\":15},\"x\":{\"field\":\"x\"},\"y\":{\"field\":\"y\"}},\"id\":\"b474b84d-f706-41f8-9d89-dca8a2a94c78\",\"type\":\"Circle\"},{\"attributes\":{\"dimension\":1,\"plot\":{\"id\":\"eb003735-fe95-40b5-9dd2-88417092e95f\",\"subtype\":\"Figure\",\"type\":\"Plot\"},\"ticker\":{\"id\":\"85828498-4fb7-416b-bdd8-a05046a58577\",\"type\":\"BasicTicker\"}},\"id\":\"a869ab02-6fb3-4f49-a0f8-71b1eeab57ad\",\"type\":\"Grid\"},{\"attributes\":{},\"id\":\"0834ea65-ce08-4272-8c75-bc7e7b208e03\",\"type\":\"BasicTickFormatter\"},{\"attributes\":{\"callback\":null},\"id\":\"e148e40c-b3f2-4865-ac4f-9d23be994a22\",\"type\":\"DataRange1d\"},{\"attributes\":{},\"id\":\"83447867-2349-469d-99d1-2f46f7370a29\",\"type\":\"LinearScale\"},{\"attributes\":{},\"id\":\"efd5cd70-a9f7-4dc8-810e-697a2d4c29a1\",\"type\":\"LinearScale\"},{\"attributes\":{\"plot\":{\"id\":\"eb003735-fe95-40b5-9dd2-88417092e95f\",\"subtype\":\"Figure\",\"type\":\"Plot\"},\"ticker\":{\"id\":\"e897a82c-129f-4f83-8133-796db37ab4be\",\"type\":\"BasicTicker\"}},\"id\":\"644bda06-5f9a-4892-bbf6-26c012d31cd8\",\"type\":\"Grid\"},{\"attributes\":{\"formatter\":{\"id\":\"c25f4b32-918c-4e87-b683-e0cc64287034\",\"type\":\"BasicTickFormatter\"},\"plot\":{\"id\":\"eb003735-fe95-40b5-9dd2-88417092e95f\",\"subtype\":\"Figure\",\"type\":\"Plot\"},\"ticker\":{\"id\":\"e897a82c-129f-4f83-8133-796db37ab4be\",\"type\":\"BasicTicker\"}},\"id\":\"4582be52-1752-4935-be5c-49d9760676f3\",\"type\":\"LinearAxis\"},{\"attributes\":{},\"id\":\"e897a82c-129f-4f83-8133-796db37ab4be\",\"type\":\"BasicTicker\"},{\"attributes\":{\"fill_color\":{\"value\":\"red\"},\"line_color\":{\"value\":\"red\"},\"size\":{\"units\":\"screen\",\"value\":15},\"x\":{\"field\":\"x\"},\"y\":{\"field\":\"y\"}},\"id\":\"5b304364-e992-49b8-85f5-af7fc06b5136\",\"type\":\"Circle\"},{\"attributes\":{\"source\":{\"id\":\"fef26a7b-9bc8-403e-bbbf-e55785aa94b9\",\"type\":\"ColumnDataSource\"}},\"id\":\"ed2a371e-9ec4-4cb6-88d6-bedafcbf188f\",\"type\":\"CDSView\"},{\"attributes\":{\"plot\":null,\"text\":\"\"},\"id\":\"bb32005f-65d7-49b7-80cc-b496c6abcf40\",\"type\":\"Title\"},{\"attributes\":{\"data_source\":{\"id\":\"fef26a7b-9bc8-403e-bbbf-e55785aa94b9\",\"type\":\"ColumnDataSource\"},\"glyph\":{\"id\":\"928f3a87-0dfe-4173-bd96-6e8626f12875\",\"type\":\"Circle\"},\"hover_glyph\":{\"id\":\"5b304364-e992-49b8-85f5-af7fc06b5136\",\"type\":\"Circle\"},\"muted_glyph\":null,\"nonselection_glyph\":{\"id\":\"b474b84d-f706-41f8-9d89-dca8a2a94c78\",\"type\":\"Circle\"},\"selection_glyph\":null,\"view\":{\"id\":\"ed2a371e-9ec4-4cb6-88d6-bedafcbf188f\",\"type\":\"CDSView\"}},\"id\":\"55e13049-6a21-44f8-ad38-e5ada552d170\",\"type\":\"GlyphRenderer\"},{\"attributes\":{},\"id\":\"85828498-4fb7-416b-bdd8-a05046a58577\",\"type\":\"BasicTicker\"},{\"attributes\":{\"formatter\":{\"id\":\"0834ea65-ce08-4272-8c75-bc7e7b208e03\",\"type\":\"BasicTickFormatter\"},\"plot\":{\"id\":\"eb003735-fe95-40b5-9dd2-88417092e95f\",\"subtype\":\"Figure\",\"type\":\"Plot\"},\"ticker\":{\"id\":\"85828498-4fb7-416b-bdd8-a05046a58577\",\"type\":\"BasicTicker\"}},\"id\":\"26401a03-9cab-43b5-b82a-2ce449364596\",\"type\":\"LinearAxis\"},{\"attributes\":{\"callback\":null,\"column_names\":[\"x\",\"y\"],\"data\":{\"x\":{\"__ndarray__\":\"ZmZmZmZm9j9mZmZmZmb2P83MzMzMzPQ/AAAAAAAA+D9mZmZmZmb2PzMzMzMzM/s/ZmZmZmZm9j8AAAAAAAD4P2ZmZmZmZvY/AAAAAAAA+D8AAAAAAAD4P5qZmZmZmfk/ZmZmZmZm9j+amZmZmZnxPzMzMzMzM/M/AAAAAAAA+D/NzMzMzMz0P2ZmZmZmZvY/MzMzMzMz+z8AAAAAAAD4PzMzMzMzM/s/AAAAAAAA+D8AAAAAAADwPzMzMzMzM/s/ZmZmZmZm/j+amZmZmZn5P5qZmZmZmfk/AAAAAAAA+D9mZmZmZmb2P5qZmZmZmfk/mpmZmZmZ+T8AAAAAAAD4PwAAAAAAAPg/ZmZmZmZm9j8AAAAAAAD4PzMzMzMzM/M/zczMzMzM9D9mZmZmZmb2P83MzMzMzPQ/AAAAAAAA+D/NzMzMzMz0P83MzMzMzPQ/zczMzMzM9D+amZmZmZn5P2ZmZmZmZv4/ZmZmZmZm9j+amZmZmZn5P2ZmZmZmZvY/AAAAAAAA+D9mZmZmZmb2P83MzMzMzBJAAAAAAAAAEkCamZmZmZkTQAAAAAAAABBAZmZmZmZmEkAAAAAAAAASQM3MzMzMzBJAZmZmZmZmCkBmZmZmZmYSQDMzMzMzMw9AAAAAAAAADEDNzMzMzMwQQAAAAAAAABBAzczMzMzMEkDNzMzMzMwMQJqZmZmZmRFAAAAAAAAAEkBmZmZmZmYQQAAAAAAAABJAMzMzMzMzD0AzMzMzMzMTQAAAAAAAABBAmpmZmZmZE0DNzMzMzMwSQDMzMzMzMxFAmpmZmZmZEUAzMzMzMzMTQAAAAAAAABRAAAAAAAAAEkAAAAAAAAAMQGZmZmZmZg5AmpmZmZmZDUAzMzMzMzMPQGZmZmZmZhRAAAAAAAAAEkAAAAAAAAASQM3MzMzMzBJAmpmZmZmZEUBmZmZmZmYQQAAAAAAAABBAmpmZmZmZEUBmZmZmZmYSQAAAAAAAABBAZmZmZmZmCkDNzMzMzMwQQM3MzMzMzBBAzczMzMzMEEAzMzMzMzMRQAAAAAAAAAhAZmZmZmZmEEAAAAAAAAAYQGZmZmZmZhRAmpmZmZmZF0BmZmZmZmYWQDMzMzMzMxdAZmZmZmZmGkAAAAAAAAASQDMzMzMzMxlAMzMzMzMzF0BmZmZmZmYYQGZmZmZmZhRAMzMzMzMzFUAAAAAAAAAWQAAAAAAAABRAZmZmZmZmFEAzMzMzMzMVQAAAAAAAABZAzczMzMzMGkCamZmZmZkbQAAAAAAAABRAzczMzMzMFkCamZmZmZkTQM3MzMzMzBpAmpmZmZmZE0DNzMzMzMwWQAAAAAAAABhAMzMzMzMzE0CamZmZmZkTQGZmZmZmZhZAMzMzMzMzF0BmZmZmZmYYQJqZmZmZmRlAZmZmZmZmFkBmZmZmZmYUQGZmZmZmZhZAZmZmZmZmGEBmZmZmZmYWQAAAAAAAABZAMzMzMzMzE0CamZmZmZkVQGZmZmZmZhZAZmZmZmZmFEBmZmZmZmYUQJqZmZmZmRdAzczMzMzMFkDNzMzMzMwUQAAAAAAAABRAzczMzMzMFECamZmZmZkVQGZmZmZmZhRA\",\"dtype\":\"float64\",\"shape\":[150]},\"y\":{\"__ndarray__\":\"ZmZmZmZmFECamZmZmZkTQM3MzMzMzBJAZmZmZmZmEkAAAAAAAAAUQJqZmZmZmRVAZmZmZmZmEkAAAAAAAAAUQJqZmZmZmRFAmpmZmZmZE0CamZmZmZkVQDMzMzMzMxNAMzMzMzMzE0AzMzMzMzMRQDMzMzMzMxdAzczMzMzMFkCamZmZmZkVQGZmZmZmZhRAzczMzMzMFkBmZmZmZmYUQJqZmZmZmRVAZmZmZmZmFEBmZmZmZmYSQGZmZmZmZhRAMzMzMzMzE0AAAAAAAAAUQAAAAAAAABRAzczMzMzMFEDNzMzMzMwUQM3MzMzMzBJAMzMzMzMzE0CamZmZmZkVQM3MzMzMzBRAAAAAAAAAFkCamZmZmZkTQAAAAAAAABRAAAAAAAAAFkCamZmZmZkTQJqZmZmZmRFAZmZmZmZmFEAAAAAAAAAUQAAAAAAAABJAmpmZmZmZEUAAAAAAAAAUQGZmZmZmZhRAMzMzMzMzE0BmZmZmZmYUQGZmZmZmZhJAMzMzMzMzFUAAAAAAAAAUQAAAAAAAABxAmpmZmZmZGUCamZmZmZkbQAAAAAAAABZAAAAAAAAAGkDNzMzMzMwWQDMzMzMzMxlAmpmZmZmZE0BmZmZmZmYaQM3MzMzMzBRAAAAAAAAAFECamZmZmZkXQAAAAAAAABhAZmZmZmZmGEBmZmZmZmYWQM3MzMzMzBpAZmZmZmZmFkAzMzMzMzMXQM3MzMzMzBhAZmZmZmZmFkCamZmZmZkXQGZmZmZmZhhAMzMzMzMzGUBmZmZmZmYYQJqZmZmZmRlAZmZmZmZmGkAzMzMzMzMbQM3MzMzMzBpAAAAAAAAAGEDNzMzMzMwWQAAAAAAAABZAAAAAAAAAFkAzMzMzMzMXQAAAAAAAABhAmpmZmZmZFUAAAAAAAAAYQM3MzMzMzBpAMzMzMzMzGUBmZmZmZmYWQAAAAAAAABZAAAAAAAAAFkBmZmZmZmYYQDMzMzMzMxdAAAAAAAAAFEBmZmZmZmYWQM3MzMzMzBZAzczMzMzMFkDNzMzMzMwYQGZmZmZmZhRAzczMzMzMFkAzMzMzMzMZQDMzMzMzMxdAZmZmZmZmHEAzMzMzMzMZQAAAAAAAABpAZmZmZmZmHkCamZmZmZkTQDMzMzMzMx1AzczMzMzMGkDNzMzMzMwcQAAAAAAAABpAmpmZmZmZGUAzMzMzMzMbQM3MzMzMzBZAMzMzMzMzF0CamZmZmZkZQAAAAAAAABpAzczMzMzMHkDNzMzMzMweQAAAAAAAABhAmpmZmZmZG0BmZmZmZmYWQM3MzMzMzB5AMzMzMzMzGUDNzMzMzMwaQM3MzMzMzBxAzczMzMzMGEBmZmZmZmYYQJqZmZmZmRlAzczMzMzMHECamZmZmZkdQJqZmZmZmR9AmpmZmZmZGUAzMzMzMzMZQGZmZmZmZhhAzczMzMzMHkAzMzMzMzMZQJqZmZmZmRlAAAAAAAAAGECamZmZmZkbQM3MzMzMzBpAmpmZmZmZG0AzMzMzMzMXQDMzMzMzMxtAzczMzMzMGkDNzMzMzMwaQDMzMzMzMxlAAAAAAAAAGkDNzMzMzMwYQJqZmZmZmRdA\",\"dtype\":\"float64\",\"shape\":[150]}}},\"id\":\"fef26a7b-9bc8-403e-bbbf-e55785aa94b9\",\"type\":\"ColumnDataSource\"},{\"attributes\":{\"fill_color\":{\"value\":\"#1f77b4\"},\"line_color\":{\"value\":\"#1f77b4\"},\"size\":{\"units\":\"screen\",\"value\":15},\"x\":{\"field\":\"x\"},\"y\":{\"field\":\"y\"}},\"id\":\"928f3a87-0dfe-4173-bd96-6e8626f12875\",\"type\":\"Circle\"}],\"root_ids\":[\"eb003735-fe95-40b5-9dd2-88417092e95f\"]},\"title\":\"Bokeh Application\",\"version\":\"0.12.10\"}};\n",
       "    var render_items = [{\"docid\":\"da01524f-b440-4cd0-85c4-a0aecabdc55c\",\"elementid\":\"120c9327-f73c-4702-8543-2ae2af3c919c\",\"modelid\":\"eb003735-fe95-40b5-9dd2-88417092e95f\"}];\n",
       "\n",
       "    root.Bokeh.embed.embed_items(docs_json, render_items);\n",
       "  }\n",
       "\n",
       "  if (root.Bokeh !== undefined) {\n",
       "    embed_document(root);\n",
       "  } else {\n",
       "    var attempts = 0;\n",
       "    var timer = setInterval(function(root) {\n",
       "      if (root.Bokeh !== undefined) {\n",
       "        embed_document(root);\n",
       "        clearInterval(timer);\n",
       "      }\n",
       "      attempts++;\n",
       "      if (attempts > 100) {\n",
       "        console.log(\"Bokeh: ERROR: Unable to embed document because BokehJS library is missing\")\n",
       "        clearInterval(timer);\n",
       "      }\n",
       "    }, 10, root)\n",
       "  }\n",
       "})(window);"
      ],
      "application/vnd.bokehjs_exec.v0+json": ""
     },
     "metadata": {
      "application/vnd.bokehjs_exec.v0+json": {
       "id": "eb003735-fe95-40b5-9dd2-88417092e95f"
      }
     },
     "output_type": "display_data"
    }
   ],
   "source": [
    "from bokeh.models import HoverTool\n",
    "hover = HoverTool(tooltips=None, mode='hline')\n",
    "\n",
    "plot = figure(tools= [hover, 'crosshair'])\n",
    "plot.circle(flowers.petal_length, flowers.sepal_length,\n",
    "           size = 5, hover_color = 'red')\n",
    "show(plot)"
   ]
  },
  {
   "cell_type": "markdown",
   "metadata": {},
   "source": [
    "#### Color mapping"
   ]
  },
  {
   "cell_type": "code",
   "execution_count": 172,
   "metadata": {},
   "outputs": [
    {
     "data": {
      "text/html": [
       "<div>\n",
       "<style>\n",
       "    .dataframe thead tr:only-child th {\n",
       "        text-align: right;\n",
       "    }\n",
       "\n",
       "    .dataframe thead th {\n",
       "        text-align: left;\n",
       "    }\n",
       "\n",
       "    .dataframe tbody tr th {\n",
       "        vertical-align: top;\n",
       "    }\n",
       "</style>\n",
       "<table border=\"1\" class=\"dataframe\">\n",
       "  <thead>\n",
       "    <tr style=\"text-align: right;\">\n",
       "      <th></th>\n",
       "      <th>sepal_length</th>\n",
       "      <th>sepal_width</th>\n",
       "      <th>petal_length</th>\n",
       "      <th>petal_width</th>\n",
       "      <th>species</th>\n",
       "    </tr>\n",
       "  </thead>\n",
       "  <tbody>\n",
       "    <tr>\n",
       "      <th>0</th>\n",
       "      <td>5.1</td>\n",
       "      <td>3.5</td>\n",
       "      <td>1.4</td>\n",
       "      <td>0.2</td>\n",
       "      <td>setosa</td>\n",
       "    </tr>\n",
       "    <tr>\n",
       "      <th>1</th>\n",
       "      <td>4.9</td>\n",
       "      <td>3.0</td>\n",
       "      <td>1.4</td>\n",
       "      <td>0.2</td>\n",
       "      <td>setosa</td>\n",
       "    </tr>\n",
       "    <tr>\n",
       "      <th>2</th>\n",
       "      <td>4.7</td>\n",
       "      <td>3.2</td>\n",
       "      <td>1.3</td>\n",
       "      <td>0.2</td>\n",
       "      <td>setosa</td>\n",
       "    </tr>\n",
       "    <tr>\n",
       "      <th>3</th>\n",
       "      <td>4.6</td>\n",
       "      <td>3.1</td>\n",
       "      <td>1.5</td>\n",
       "      <td>0.2</td>\n",
       "      <td>setosa</td>\n",
       "    </tr>\n",
       "    <tr>\n",
       "      <th>4</th>\n",
       "      <td>5.0</td>\n",
       "      <td>3.6</td>\n",
       "      <td>1.4</td>\n",
       "      <td>0.2</td>\n",
       "      <td>setosa</td>\n",
       "    </tr>\n",
       "  </tbody>\n",
       "</table>\n",
       "</div>"
      ],
      "text/plain": [
       "   sepal_length  sepal_width  petal_length  petal_width species\n",
       "0           5.1          3.5           1.4          0.2  setosa\n",
       "1           4.9          3.0           1.4          0.2  setosa\n",
       "2           4.7          3.2           1.3          0.2  setosa\n",
       "3           4.6          3.1           1.5          0.2  setosa\n",
       "4           5.0          3.6           1.4          0.2  setosa"
      ]
     },
     "execution_count": 172,
     "metadata": {},
     "output_type": "execute_result"
    }
   ],
   "source": [
    "source = ColumnDataSource(flowers)\n",
    "flowers.head()"
   ]
  },
  {
   "cell_type": "code",
   "execution_count": 177,
   "metadata": {},
   "outputs": [
    {
     "data": {
      "text/html": [
       "\n",
       "<div class=\"bk-root\">\n",
       "    <div class=\"bk-plotdiv\" id=\"3af84c15-d746-4b8d-a659-189b7c111739\"></div>\n",
       "</div>"
      ]
     },
     "metadata": {},
     "output_type": "display_data"
    },
    {
     "data": {
      "application/javascript": [
       "(function(root) {\n",
       "  function embed_document(root) {\n",
       "    var docs_json = {\"2de49763-b8f3-47c2-a95f-165f75cff8e1\":{\"roots\":{\"references\":[{\"attributes\":{\"plot\":{\"id\":\"0c3fe0c8-6c67-4cae-ba08-a34a4a7b9664\",\"subtype\":\"Figure\",\"type\":\"Plot\"},\"ticker\":{\"id\":\"0476a8c8-450e-47ba-a40c-14e34edf25e5\",\"type\":\"BasicTicker\"}},\"id\":\"ee6a41a1-c192-49a2-b430-3eb3d2b49284\",\"type\":\"Grid\"},{\"attributes\":{\"fill_alpha\":{\"value\":0.1},\"fill_color\":{\"value\":\"#1f77b4\"},\"line_alpha\":{\"value\":0.1},\"line_color\":{\"value\":\"#1f77b4\"},\"size\":{\"units\":\"screen\",\"value\":10},\"x\":{\"field\":\"petal_length\"},\"y\":{\"field\":\"sepal_length\"}},\"id\":\"18dc6a2e-9d51-4a58-b68b-820269ff910d\",\"type\":\"Circle\"},{\"attributes\":{},\"id\":\"4a5f03a3-07b1-4782-b278-03156b336a61\",\"type\":\"LinearScale\"},{\"attributes\":{\"axis_label\":\"sepal_length\",\"formatter\":{\"id\":\"1a114603-94bc-4238-ad72-2e2de2b49f8c\",\"type\":\"BasicTickFormatter\"},\"plot\":{\"id\":\"0c3fe0c8-6c67-4cae-ba08-a34a4a7b9664\",\"subtype\":\"Figure\",\"type\":\"Plot\"},\"ticker\":{\"id\":\"d86cf4b2-32d4-4df9-8d09-cc97a736a9e1\",\"type\":\"BasicTicker\"}},\"id\":\"c842b299-bdae-4e8a-9af6-70e7699542b6\",\"type\":\"LinearAxis\"},{\"attributes\":{\"factors\":[\"setosa\",\"virginica\",\"versicolor\"],\"palette\":[\"orange\",\"lightgreen\",\"skyblue\"]},\"id\":\"3b87ea1d-d47c-40c2-861d-929047e05764\",\"type\":\"CategoricalColorMapper\"},{\"attributes\":{},\"id\":\"1e9b5406-fa52-4365-8364-0399c641b3fb\",\"type\":\"ResetTool\"},{\"attributes\":{},\"id\":\"1a114603-94bc-4238-ad72-2e2de2b49f8c\",\"type\":\"BasicTickFormatter\"},{\"attributes\":{},\"id\":\"3380df74-a526-4ee7-96f7-fdde170d3f83\",\"type\":\"SaveTool\"},{\"attributes\":{\"callback\":null},\"id\":\"f5bc0c13-b7cc-4735-abe4-c95610c7dd2f\",\"type\":\"DataRange1d\"},{\"attributes\":{},\"id\":\"690605be-c69d-4500-a2b8-f942afe39dd1\",\"type\":\"WheelZoomTool\"},{\"attributes\":{},\"id\":\"d86cf4b2-32d4-4df9-8d09-cc97a736a9e1\",\"type\":\"BasicTicker\"},{\"attributes\":{\"overlay\":{\"id\":\"765240d2-a8a1-46d6-a179-ce871e3de8ce\",\"type\":\"BoxAnnotation\"}},\"id\":\"2e2468d8-6278-429d-bf69-593bcf1b2b4c\",\"type\":\"BoxZoomTool\"},{\"attributes\":{},\"id\":\"0476a8c8-450e-47ba-a40c-14e34edf25e5\",\"type\":\"BasicTicker\"},{\"attributes\":{\"below\":[{\"id\":\"002a5d5c-13ea-4576-8c39-1dbfcb7a8a0f\",\"type\":\"LinearAxis\"}],\"left\":[{\"id\":\"c842b299-bdae-4e8a-9af6-70e7699542b6\",\"type\":\"LinearAxis\"}],\"renderers\":[{\"id\":\"002a5d5c-13ea-4576-8c39-1dbfcb7a8a0f\",\"type\":\"LinearAxis\"},{\"id\":\"ee6a41a1-c192-49a2-b430-3eb3d2b49284\",\"type\":\"Grid\"},{\"id\":\"c842b299-bdae-4e8a-9af6-70e7699542b6\",\"type\":\"LinearAxis\"},{\"id\":\"0c1db01b-9008-4b2a-8c6e-faaca183ba0f\",\"type\":\"Grid\"},{\"id\":\"765240d2-a8a1-46d6-a179-ce871e3de8ce\",\"type\":\"BoxAnnotation\"},{\"id\":\"c7ca7a3f-af09-4d07-a2af-720b5242fd45\",\"type\":\"GlyphRenderer\"}],\"title\":{\"id\":\"7e0051fa-59b6-471d-8d0f-dde749ebdc0c\",\"type\":\"Title\"},\"toolbar\":{\"id\":\"88081024-6ce5-4e49-ae70-1d370d09dd3b\",\"type\":\"Toolbar\"},\"x_range\":{\"id\":\"f130dbe1-dfaf-41e2-9074-6bb6979315ef\",\"type\":\"DataRange1d\"},\"x_scale\":{\"id\":\"bd0c31b4-21c4-416e-8be0-a852ea22c44b\",\"type\":\"LinearScale\"},\"y_range\":{\"id\":\"f5bc0c13-b7cc-4735-abe4-c95610c7dd2f\",\"type\":\"DataRange1d\"},\"y_scale\":{\"id\":\"4a5f03a3-07b1-4782-b278-03156b336a61\",\"type\":\"LinearScale\"}},\"id\":\"0c3fe0c8-6c67-4cae-ba08-a34a4a7b9664\",\"subtype\":\"Figure\",\"type\":\"Plot\"},{\"attributes\":{\"callback\":null},\"id\":\"f130dbe1-dfaf-41e2-9074-6bb6979315ef\",\"type\":\"DataRange1d\"},{\"attributes\":{\"source\":{\"id\":\"41587ccf-1119-452d-b149-e3082705b208\",\"type\":\"ColumnDataSource\"}},\"id\":\"2fdf9709-0cf7-4778-91b3-09848574a44a\",\"type\":\"CDSView\"},{\"attributes\":{\"active_drag\":\"auto\",\"active_inspect\":\"auto\",\"active_scroll\":\"auto\",\"active_tap\":\"auto\",\"tools\":[{\"id\":\"8ac0de5b-d074-46ae-97ab-50da9ef4f95f\",\"type\":\"PanTool\"},{\"id\":\"690605be-c69d-4500-a2b8-f942afe39dd1\",\"type\":\"WheelZoomTool\"},{\"id\":\"2e2468d8-6278-429d-bf69-593bcf1b2b4c\",\"type\":\"BoxZoomTool\"},{\"id\":\"3380df74-a526-4ee7-96f7-fdde170d3f83\",\"type\":\"SaveTool\"},{\"id\":\"1e9b5406-fa52-4365-8364-0399c641b3fb\",\"type\":\"ResetTool\"},{\"id\":\"3409e9f0-e67b-42ab-be43-515dc14ac39d\",\"type\":\"HelpTool\"}]},\"id\":\"88081024-6ce5-4e49-ae70-1d370d09dd3b\",\"type\":\"Toolbar\"},{\"attributes\":{},\"id\":\"33770f7b-4ed5-4033-8280-fcfedd9b2586\",\"type\":\"BasicTickFormatter\"},{\"attributes\":{\"fill_color\":{\"field\":\"species\",\"transform\":{\"id\":\"3b87ea1d-d47c-40c2-861d-929047e05764\",\"type\":\"CategoricalColorMapper\"}},\"line_color\":{\"field\":\"species\",\"transform\":{\"id\":\"3b87ea1d-d47c-40c2-861d-929047e05764\",\"type\":\"CategoricalColorMapper\"}},\"size\":{\"units\":\"screen\",\"value\":10},\"x\":{\"field\":\"petal_length\"},\"y\":{\"field\":\"sepal_length\"}},\"id\":\"0d70bbab-b974-4d4b-a1d9-43c50707d6a8\",\"type\":\"Circle\"},{\"attributes\":{},\"id\":\"3409e9f0-e67b-42ab-be43-515dc14ac39d\",\"type\":\"HelpTool\"},{\"attributes\":{\"dimension\":1,\"plot\":{\"id\":\"0c3fe0c8-6c67-4cae-ba08-a34a4a7b9664\",\"subtype\":\"Figure\",\"type\":\"Plot\"},\"ticker\":{\"id\":\"d86cf4b2-32d4-4df9-8d09-cc97a736a9e1\",\"type\":\"BasicTicker\"}},\"id\":\"0c1db01b-9008-4b2a-8c6e-faaca183ba0f\",\"type\":\"Grid\"},{\"attributes\":{\"callback\":null,\"column_names\":[\"sepal_length\",\"sepal_width\",\"petal_length\",\"petal_width\",\"species\",\"index\"],\"data\":{\"index\":[0,1,2,3,4,5,6,7,8,9,10,11,12,13,14,15,16,17,18,19,20,21,22,23,24,25,26,27,28,29,30,31,32,33,34,35,36,37,38,39,40,41,42,43,44,45,46,47,48,49,50,51,52,53,54,55,56,57,58,59,60,61,62,63,64,65,66,67,68,69,70,71,72,73,74,75,76,77,78,79,80,81,82,83,84,85,86,87,88,89,90,91,92,93,94,95,96,97,98,99,100,101,102,103,104,105,106,107,108,109,110,111,112,113,114,115,116,117,118,119,120,121,122,123,124,125,126,127,128,129,130,131,132,133,134,135,136,137,138,139,140,141,142,143,144,145,146,147,148,149],\"petal_length\":{\"__ndarray__\":\"ZmZmZmZm9j9mZmZmZmb2P83MzMzMzPQ/AAAAAAAA+D9mZmZmZmb2PzMzMzMzM/s/ZmZmZmZm9j8AAAAAAAD4P2ZmZmZmZvY/AAAAAAAA+D8AAAAAAAD4P5qZmZmZmfk/ZmZmZmZm9j+amZmZmZnxPzMzMzMzM/M/AAAAAAAA+D/NzMzMzMz0P2ZmZmZmZvY/MzMzMzMz+z8AAAAAAAD4PzMzMzMzM/s/AAAAAAAA+D8AAAAAAADwPzMzMzMzM/s/ZmZmZmZm/j+amZmZmZn5P5qZmZmZmfk/AAAAAAAA+D9mZmZmZmb2P5qZmZmZmfk/mpmZmZmZ+T8AAAAAAAD4PwAAAAAAAPg/ZmZmZmZm9j8AAAAAAAD4PzMzMzMzM/M/zczMzMzM9D9mZmZmZmb2P83MzMzMzPQ/AAAAAAAA+D/NzMzMzMz0P83MzMzMzPQ/zczMzMzM9D+amZmZmZn5P2ZmZmZmZv4/ZmZmZmZm9j+amZmZmZn5P2ZmZmZmZvY/AAAAAAAA+D9mZmZmZmb2P83MzMzMzBJAAAAAAAAAEkCamZmZmZkTQAAAAAAAABBAZmZmZmZmEkAAAAAAAAASQM3MzMzMzBJAZmZmZmZmCkBmZmZmZmYSQDMzMzMzMw9AAAAAAAAADEDNzMzMzMwQQAAAAAAAABBAzczMzMzMEkDNzMzMzMwMQJqZmZmZmRFAAAAAAAAAEkBmZmZmZmYQQAAAAAAAABJAMzMzMzMzD0AzMzMzMzMTQAAAAAAAABBAmpmZmZmZE0DNzMzMzMwSQDMzMzMzMxFAmpmZmZmZEUAzMzMzMzMTQAAAAAAAABRAAAAAAAAAEkAAAAAAAAAMQGZmZmZmZg5AmpmZmZmZDUAzMzMzMzMPQGZmZmZmZhRAAAAAAAAAEkAAAAAAAAASQM3MzMzMzBJAmpmZmZmZEUBmZmZmZmYQQAAAAAAAABBAmpmZmZmZEUBmZmZmZmYSQAAAAAAAABBAZmZmZmZmCkDNzMzMzMwQQM3MzMzMzBBAzczMzMzMEEAzMzMzMzMRQAAAAAAAAAhAZmZmZmZmEEAAAAAAAAAYQGZmZmZmZhRAmpmZmZmZF0BmZmZmZmYWQDMzMzMzMxdAZmZmZmZmGkAAAAAAAAASQDMzMzMzMxlAMzMzMzMzF0BmZmZmZmYYQGZmZmZmZhRAMzMzMzMzFUAAAAAAAAAWQAAAAAAAABRAZmZmZmZmFEAzMzMzMzMVQAAAAAAAABZAzczMzMzMGkCamZmZmZkbQAAAAAAAABRAzczMzMzMFkCamZmZmZkTQM3MzMzMzBpAmpmZmZmZE0DNzMzMzMwWQAAAAAAAABhAMzMzMzMzE0CamZmZmZkTQGZmZmZmZhZAMzMzMzMzF0BmZmZmZmYYQJqZmZmZmRlAZmZmZmZmFkBmZmZmZmYUQGZmZmZmZhZAZmZmZmZmGEBmZmZmZmYWQAAAAAAAABZAMzMzMzMzE0CamZmZmZkVQGZmZmZmZhZAZmZmZmZmFEBmZmZmZmYUQJqZmZmZmRdAzczMzMzMFkDNzMzMzMwUQAAAAAAAABRAzczMzMzMFECamZmZmZkVQGZmZmZmZhRA\",\"dtype\":\"float64\",\"shape\":[150]},\"petal_width\":{\"__ndarray__\":\"mpmZmZmZyT+amZmZmZnJP5qZmZmZmck/mpmZmZmZyT+amZmZmZnJP5qZmZmZmdk/MzMzMzMz0z+amZmZmZnJP5qZmZmZmck/mpmZmZmZuT+amZmZmZnJP5qZmZmZmck/mpmZmZmZuT+amZmZmZm5P5qZmZmZmck/mpmZmZmZ2T+amZmZmZnZPzMzMzMzM9M/MzMzMzMz0z8zMzMzMzPTP5qZmZmZmck/mpmZmZmZ2T+amZmZmZnJPwAAAAAAAOA/mpmZmZmZyT+amZmZmZnJP5qZmZmZmdk/mpmZmZmZyT+amZmZmZnJP5qZmZmZmck/mpmZmZmZyT+amZmZmZnZP5qZmZmZmbk/mpmZmZmZyT+amZmZmZnJP5qZmZmZmck/mpmZmZmZyT+amZmZmZm5P5qZmZmZmck/mpmZmZmZyT8zMzMzMzPTPzMzMzMzM9M/mpmZmZmZyT8zMzMzMzPjP5qZmZmZmdk/MzMzMzMz0z+amZmZmZnJP5qZmZmZmck/mpmZmZmZyT+amZmZmZnJP2ZmZmZmZvY/AAAAAAAA+D8AAAAAAAD4P83MzMzMzPQ/AAAAAAAA+D/NzMzMzMz0P5qZmZmZmfk/AAAAAAAA8D/NzMzMzMz0P2ZmZmZmZvY/AAAAAAAA8D8AAAAAAAD4PwAAAAAAAPA/ZmZmZmZm9j/NzMzMzMz0P2ZmZmZmZvY/AAAAAAAA+D8AAAAAAADwPwAAAAAAAPg/mpmZmZmZ8T/NzMzMzMz8P83MzMzMzPQ/AAAAAAAA+D8zMzMzMzPzP83MzMzMzPQ/ZmZmZmZm9j9mZmZmZmb2PzMzMzMzM/s/AAAAAAAA+D8AAAAAAADwP5qZmZmZmfE/AAAAAAAA8D8zMzMzMzPzP5qZmZmZmfk/AAAAAAAA+D+amZmZmZn5PwAAAAAAAPg/zczMzMzM9D/NzMzMzMz0P83MzMzMzPQ/MzMzMzMz8z9mZmZmZmb2PzMzMzMzM/M/AAAAAAAA8D/NzMzMzMz0PzMzMzMzM/M/zczMzMzM9D/NzMzMzMz0P5qZmZmZmfE/zczMzMzM9D8AAAAAAAAEQGZmZmZmZv4/zczMzMzMAEDNzMzMzMz8P5qZmZmZmQFAzczMzMzMAEAzMzMzMzP7P83MzMzMzPw/zczMzMzM/D8AAAAAAAAEQAAAAAAAAABAZmZmZmZm/j/NzMzMzMwAQAAAAAAAAABAMzMzMzMzA0BmZmZmZmYCQM3MzMzMzPw/mpmZmZmZAUBmZmZmZmYCQAAAAAAAAPg/ZmZmZmZmAkAAAAAAAAAAQAAAAAAAAABAzczMzMzM/D/NzMzMzMwAQM3MzMzMzPw/zczMzMzM/D/NzMzMzMz8P83MzMzMzABAmpmZmZmZ+T9mZmZmZmb+PwAAAAAAAABAmpmZmZmZAUAAAAAAAAD4P2ZmZmZmZvY/ZmZmZmZmAkAzMzMzMzMDQM3MzMzMzPw/zczMzMzM/D/NzMzMzMwAQDMzMzMzMwNAZmZmZmZmAkBmZmZmZmb+P2ZmZmZmZgJAAAAAAAAABEBmZmZmZmYCQGZmZmZmZv4/AAAAAAAAAEBmZmZmZmYCQM3MzMzMzPw/\",\"dtype\":\"float64\",\"shape\":[150]},\"sepal_length\":{\"__ndarray__\":\"ZmZmZmZmFECamZmZmZkTQM3MzMzMzBJAZmZmZmZmEkAAAAAAAAAUQJqZmZmZmRVAZmZmZmZmEkAAAAAAAAAUQJqZmZmZmRFAmpmZmZmZE0CamZmZmZkVQDMzMzMzMxNAMzMzMzMzE0AzMzMzMzMRQDMzMzMzMxdAzczMzMzMFkCamZmZmZkVQGZmZmZmZhRAzczMzMzMFkBmZmZmZmYUQJqZmZmZmRVAZmZmZmZmFEBmZmZmZmYSQGZmZmZmZhRAMzMzMzMzE0AAAAAAAAAUQAAAAAAAABRAzczMzMzMFEDNzMzMzMwUQM3MzMzMzBJAMzMzMzMzE0CamZmZmZkVQM3MzMzMzBRAAAAAAAAAFkCamZmZmZkTQAAAAAAAABRAAAAAAAAAFkCamZmZmZkTQJqZmZmZmRFAZmZmZmZmFEAAAAAAAAAUQAAAAAAAABJAmpmZmZmZEUAAAAAAAAAUQGZmZmZmZhRAMzMzMzMzE0BmZmZmZmYUQGZmZmZmZhJAMzMzMzMzFUAAAAAAAAAUQAAAAAAAABxAmpmZmZmZGUCamZmZmZkbQAAAAAAAABZAAAAAAAAAGkDNzMzMzMwWQDMzMzMzMxlAmpmZmZmZE0BmZmZmZmYaQM3MzMzMzBRAAAAAAAAAFECamZmZmZkXQAAAAAAAABhAZmZmZmZmGEBmZmZmZmYWQM3MzMzMzBpAZmZmZmZmFkAzMzMzMzMXQM3MzMzMzBhAZmZmZmZmFkCamZmZmZkXQGZmZmZmZhhAMzMzMzMzGUBmZmZmZmYYQJqZmZmZmRlAZmZmZmZmGkAzMzMzMzMbQM3MzMzMzBpAAAAAAAAAGEDNzMzMzMwWQAAAAAAAABZAAAAAAAAAFkAzMzMzMzMXQAAAAAAAABhAmpmZmZmZFUAAAAAAAAAYQM3MzMzMzBpAMzMzMzMzGUBmZmZmZmYWQAAAAAAAABZAAAAAAAAAFkBmZmZmZmYYQDMzMzMzMxdAAAAAAAAAFEBmZmZmZmYWQM3MzMzMzBZAzczMzMzMFkDNzMzMzMwYQGZmZmZmZhRAzczMzMzMFkAzMzMzMzMZQDMzMzMzMxdAZmZmZmZmHEAzMzMzMzMZQAAAAAAAABpAZmZmZmZmHkCamZmZmZkTQDMzMzMzMx1AzczMzMzMGkDNzMzMzMwcQAAAAAAAABpAmpmZmZmZGUAzMzMzMzMbQM3MzMzMzBZAMzMzMzMzF0CamZmZmZkZQAAAAAAAABpAzczMzMzMHkDNzMzMzMweQAAAAAAAABhAmpmZmZmZG0BmZmZmZmYWQM3MzMzMzB5AMzMzMzMzGUDNzMzMzMwaQM3MzMzMzBxAzczMzMzMGEBmZmZmZmYYQJqZmZmZmRlAzczMzMzMHECamZmZmZkdQJqZmZmZmR9AmpmZmZmZGUAzMzMzMzMZQGZmZmZmZhhAzczMzMzMHkAzMzMzMzMZQJqZmZmZmRlAAAAAAAAAGECamZmZmZkbQM3MzMzMzBpAmpmZmZmZG0AzMzMzMzMXQDMzMzMzMxtAzczMzMzMGkDNzMzMzMwaQDMzMzMzMxlAAAAAAAAAGkDNzMzMzMwYQJqZmZmZmRdA\",\"dtype\":\"float64\",\"shape\":[150]},\"sepal_width\":{\"__ndarray__\":\"AAAAAAAADEAAAAAAAAAIQJqZmZmZmQlAzczMzMzMCEDNzMzMzMwMQDMzMzMzMw9AMzMzMzMzC0AzMzMzMzMLQDMzMzMzMwdAzczMzMzMCECamZmZmZkNQDMzMzMzMwtAAAAAAAAACEAAAAAAAAAIQAAAAAAAABBAmpmZmZmZEUAzMzMzMzMPQAAAAAAAAAxAZmZmZmZmDkBmZmZmZmYOQDMzMzMzMwtAmpmZmZmZDUDNzMzMzMwMQGZmZmZmZgpAMzMzMzMzC0AAAAAAAAAIQDMzMzMzMwtAAAAAAAAADEAzMzMzMzMLQJqZmZmZmQlAzczMzMzMCEAzMzMzMzMLQGZmZmZmZhBAzczMzMzMEEDNzMzMzMwIQJqZmZmZmQlAAAAAAAAADEDNzMzMzMwMQAAAAAAAAAhAMzMzMzMzC0AAAAAAAAAMQGZmZmZmZgJAmpmZmZmZCUAAAAAAAAAMQGZmZmZmZg5AAAAAAAAACEBmZmZmZmYOQJqZmZmZmQlAmpmZmZmZDUBmZmZmZmYKQJqZmZmZmQlAmpmZmZmZCUDNzMzMzMwIQGZmZmZmZgJAZmZmZmZmBkBmZmZmZmYGQGZmZmZmZgpAMzMzMzMzA0AzMzMzMzMHQJqZmZmZmQVAAAAAAAAAAEAAAAAAAAAIQJqZmZmZmQFAMzMzMzMzB0AzMzMzMzMHQM3MzMzMzAhAAAAAAAAACECamZmZmZkFQJqZmZmZmQFAAAAAAAAABECamZmZmZkJQGZmZmZmZgZAAAAAAAAABEBmZmZmZmYGQDMzMzMzMwdAAAAAAAAACEBmZmZmZmYGQAAAAAAAAAhAMzMzMzMzB0DNzMzMzMwEQDMzMzMzMwNAMzMzMzMzA0CamZmZmZkFQJqZmZmZmQVAAAAAAAAACEAzMzMzMzMLQM3MzMzMzAhAZmZmZmZmAkAAAAAAAAAIQAAAAAAAAARAzczMzMzMBEAAAAAAAAAIQM3MzMzMzARAZmZmZmZmAkCamZmZmZkFQAAAAAAAAAhAMzMzMzMzB0AzMzMzMzMHQAAAAAAAAARAZmZmZmZmBkBmZmZmZmYKQJqZmZmZmQVAAAAAAAAACEAzMzMzMzMHQAAAAAAAAAhAAAAAAAAACEAAAAAAAAAEQDMzMzMzMwdAAAAAAAAABEDNzMzMzMwMQJqZmZmZmQlAmpmZmZmZBUAAAAAAAAAIQAAAAAAAAARAZmZmZmZmBkCamZmZmZkJQAAAAAAAAAhAZmZmZmZmDkDNzMzMzMwEQJqZmZmZmQFAmpmZmZmZCUBmZmZmZmYGQGZmZmZmZgZAmpmZmZmZBUBmZmZmZmYKQJqZmZmZmQlAZmZmZmZmBkAAAAAAAAAIQGZmZmZmZgZAAAAAAAAACEBmZmZmZmYGQGZmZmZmZg5AZmZmZmZmBkBmZmZmZmYGQM3MzMzMzARAAAAAAAAACEAzMzMzMzMLQM3MzMzMzAhAAAAAAAAACEDNzMzMzMwIQM3MzMzMzAhAzczMzMzMCECamZmZmZkFQJqZmZmZmQlAZmZmZmZmCkAAAAAAAAAIQAAAAAAAAARAAAAAAAAACEAzMzMzMzMLQAAAAAAAAAhA\",\"dtype\":\"float64\",\"shape\":[150]},\"species\":[\"setosa\",\"setosa\",\"setosa\",\"setosa\",\"setosa\",\"setosa\",\"setosa\",\"setosa\",\"setosa\",\"setosa\",\"setosa\",\"setosa\",\"setosa\",\"setosa\",\"setosa\",\"setosa\",\"setosa\",\"setosa\",\"setosa\",\"setosa\",\"setosa\",\"setosa\",\"setosa\",\"setosa\",\"setosa\",\"setosa\",\"setosa\",\"setosa\",\"setosa\",\"setosa\",\"setosa\",\"setosa\",\"setosa\",\"setosa\",\"setosa\",\"setosa\",\"setosa\",\"setosa\",\"setosa\",\"setosa\",\"setosa\",\"setosa\",\"setosa\",\"setosa\",\"setosa\",\"setosa\",\"setosa\",\"setosa\",\"setosa\",\"setosa\",\"versicolor\",\"versicolor\",\"versicolor\",\"versicolor\",\"versicolor\",\"versicolor\",\"versicolor\",\"versicolor\",\"versicolor\",\"versicolor\",\"versicolor\",\"versicolor\",\"versicolor\",\"versicolor\",\"versicolor\",\"versicolor\",\"versicolor\",\"versicolor\",\"versicolor\",\"versicolor\",\"versicolor\",\"versicolor\",\"versicolor\",\"versicolor\",\"versicolor\",\"versicolor\",\"versicolor\",\"versicolor\",\"versicolor\",\"versicolor\",\"versicolor\",\"versicolor\",\"versicolor\",\"versicolor\",\"versicolor\",\"versicolor\",\"versicolor\",\"versicolor\",\"versicolor\",\"versicolor\",\"versicolor\",\"versicolor\",\"versicolor\",\"versicolor\",\"versicolor\",\"versicolor\",\"versicolor\",\"versicolor\",\"versicolor\",\"versicolor\",\"virginica\",\"virginica\",\"virginica\",\"virginica\",\"virginica\",\"virginica\",\"virginica\",\"virginica\",\"virginica\",\"virginica\",\"virginica\",\"virginica\",\"virginica\",\"virginica\",\"virginica\",\"virginica\",\"virginica\",\"virginica\",\"virginica\",\"virginica\",\"virginica\",\"virginica\",\"virginica\",\"virginica\",\"virginica\",\"virginica\",\"virginica\",\"virginica\",\"virginica\",\"virginica\",\"virginica\",\"virginica\",\"virginica\",\"virginica\",\"virginica\",\"virginica\",\"virginica\",\"virginica\",\"virginica\",\"virginica\",\"virginica\",\"virginica\",\"virginica\",\"virginica\",\"virginica\",\"virginica\",\"virginica\",\"virginica\",\"virginica\",\"virginica\"]}},\"id\":\"41587ccf-1119-452d-b149-e3082705b208\",\"type\":\"ColumnDataSource\"},{\"attributes\":{\"axis_label\":\"petal_length\",\"formatter\":{\"id\":\"33770f7b-4ed5-4033-8280-fcfedd9b2586\",\"type\":\"BasicTickFormatter\"},\"plot\":{\"id\":\"0c3fe0c8-6c67-4cae-ba08-a34a4a7b9664\",\"subtype\":\"Figure\",\"type\":\"Plot\"},\"ticker\":{\"id\":\"0476a8c8-450e-47ba-a40c-14e34edf25e5\",\"type\":\"BasicTicker\"}},\"id\":\"002a5d5c-13ea-4576-8c39-1dbfcb7a8a0f\",\"type\":\"LinearAxis\"},{\"attributes\":{\"plot\":null,\"text\":\"\"},\"id\":\"7e0051fa-59b6-471d-8d0f-dde749ebdc0c\",\"type\":\"Title\"},{\"attributes\":{\"data_source\":{\"id\":\"41587ccf-1119-452d-b149-e3082705b208\",\"type\":\"ColumnDataSource\"},\"glyph\":{\"id\":\"0d70bbab-b974-4d4b-a1d9-43c50707d6a8\",\"type\":\"Circle\"},\"hover_glyph\":null,\"muted_glyph\":null,\"nonselection_glyph\":{\"id\":\"18dc6a2e-9d51-4a58-b68b-820269ff910d\",\"type\":\"Circle\"},\"selection_glyph\":null,\"view\":{\"id\":\"2fdf9709-0cf7-4778-91b3-09848574a44a\",\"type\":\"CDSView\"}},\"id\":\"c7ca7a3f-af09-4d07-a2af-720b5242fd45\",\"type\":\"GlyphRenderer\"},{\"attributes\":{\"bottom_units\":\"screen\",\"fill_alpha\":{\"value\":0.5},\"fill_color\":{\"value\":\"lightgrey\"},\"left_units\":\"screen\",\"level\":\"overlay\",\"line_alpha\":{\"value\":1.0},\"line_color\":{\"value\":\"black\"},\"line_dash\":[4,4],\"line_width\":{\"value\":2},\"plot\":null,\"render_mode\":\"css\",\"right_units\":\"screen\",\"top_units\":\"screen\"},\"id\":\"765240d2-a8a1-46d6-a179-ce871e3de8ce\",\"type\":\"BoxAnnotation\"},{\"attributes\":{},\"id\":\"8ac0de5b-d074-46ae-97ab-50da9ef4f95f\",\"type\":\"PanTool\"},{\"attributes\":{},\"id\":\"bd0c31b4-21c4-416e-8be0-a852ea22c44b\",\"type\":\"LinearScale\"}],\"root_ids\":[\"0c3fe0c8-6c67-4cae-ba08-a34a4a7b9664\"]},\"title\":\"Bokeh Application\",\"version\":\"0.12.10\"}};\n",
       "    var render_items = [{\"docid\":\"2de49763-b8f3-47c2-a95f-165f75cff8e1\",\"elementid\":\"3af84c15-d746-4b8d-a659-189b7c111739\",\"modelid\":\"0c3fe0c8-6c67-4cae-ba08-a34a4a7b9664\"}];\n",
       "\n",
       "    root.Bokeh.embed.embed_items(docs_json, render_items);\n",
       "  }\n",
       "\n",
       "  if (root.Bokeh !== undefined) {\n",
       "    embed_document(root);\n",
       "  } else {\n",
       "    var attempts = 0;\n",
       "    var timer = setInterval(function(root) {\n",
       "      if (root.Bokeh !== undefined) {\n",
       "        embed_document(root);\n",
       "        clearInterval(timer);\n",
       "      }\n",
       "      attempts++;\n",
       "      if (attempts > 100) {\n",
       "        console.log(\"Bokeh: ERROR: Unable to embed document because BokehJS library is missing\")\n",
       "        clearInterval(timer);\n",
       "      }\n",
       "    }, 10, root)\n",
       "  }\n",
       "})(window);"
      ],
      "application/vnd.bokehjs_exec.v0+json": ""
     },
     "metadata": {
      "application/vnd.bokehjs_exec.v0+json": {
       "id": "0c3fe0c8-6c67-4cae-ba08-a34a4a7b9664"
      }
     },
     "output_type": "display_data"
    }
   ],
   "source": [
    "from bokeh.models import CategoricalColorMapper\n",
    "\n",
    "mapper = CategoricalColorMapper(\n",
    "    factors = ['setosa','virginica','versicolor'],\n",
    "    palette = ['orange','lightgreen','skyblue'])\n",
    "\n",
    "plot = figure(\n",
    "    x_axis_label = 'petal_length',\n",
    "    y_axis_label = 'sepal_length')\n",
    "\n",
    "plot.circle(\n",
    "    x = 'petal_length',\n",
    "    y = 'sepal_length',\n",
    "    size = 10, \n",
    "    source = source,\n",
    "    color = {'field': 'species', 'transform': mapper})\n",
    "\n",
    "show(plot)"
   ]
  },
  {
   "cell_type": "markdown",
   "metadata": {},
   "source": [
    "### Selection and non-selection glyphs"
   ]
  },
  {
   "cell_type": "code",
   "execution_count": null,
   "metadata": {
    "collapsed": true
   },
   "outputs": [],
   "source": []
  },
  {
   "cell_type": "markdown",
   "metadata": {},
   "source": [
    "### Hover glyphs"
   ]
  },
  {
   "cell_type": "code",
   "execution_count": null,
   "metadata": {
    "collapsed": true
   },
   "outputs": [],
   "source": []
  },
  {
   "cell_type": "markdown",
   "metadata": {},
   "source": [
    "### Colormapping"
   ]
  },
  {
   "cell_type": "code",
   "execution_count": null,
   "metadata": {
    "collapsed": true
   },
   "outputs": [],
   "source": []
  },
  {
   "cell_type": "markdown",
   "metadata": {},
   "source": [
    "# Layouts, Interactions, and Annotations"
   ]
  },
  {
   "cell_type": "markdown",
   "metadata": {},
   "source": [
    "## Introduction to layouts"
   ]
  },
  {
   "cell_type": "code",
   "execution_count": null,
   "metadata": {
    "collapsed": true
   },
   "outputs": [],
   "source": []
  },
  {
   "cell_type": "markdown",
   "metadata": {},
   "source": [
    "### Creating rows of plots"
   ]
  },
  {
   "cell_type": "code",
   "execution_count": null,
   "metadata": {
    "collapsed": true
   },
   "outputs": [],
   "source": []
  },
  {
   "cell_type": "markdown",
   "metadata": {},
   "source": [
    "### Creating columns of plots"
   ]
  },
  {
   "cell_type": "code",
   "execution_count": null,
   "metadata": {
    "collapsed": true
   },
   "outputs": [],
   "source": []
  },
  {
   "cell_type": "markdown",
   "metadata": {},
   "source": [
    "### Nesting rows and columns of plots"
   ]
  },
  {
   "cell_type": "code",
   "execution_count": null,
   "metadata": {
    "collapsed": true
   },
   "outputs": [],
   "source": []
  },
  {
   "cell_type": "markdown",
   "metadata": {},
   "source": [
    "## Advanced layouts"
   ]
  },
  {
   "cell_type": "code",
   "execution_count": null,
   "metadata": {
    "collapsed": true
   },
   "outputs": [],
   "source": []
  },
  {
   "cell_type": "markdown",
   "metadata": {},
   "source": [
    "### Investigating the layout API"
   ]
  },
  {
   "cell_type": "code",
   "execution_count": null,
   "metadata": {
    "collapsed": true
   },
   "outputs": [],
   "source": []
  },
  {
   "cell_type": "markdown",
   "metadata": {},
   "source": [
    "### Creating gridded layouts"
   ]
  },
  {
   "cell_type": "code",
   "execution_count": null,
   "metadata": {
    "collapsed": true
   },
   "outputs": [],
   "source": []
  },
  {
   "cell_type": "markdown",
   "metadata": {},
   "source": [
    "### Starting tabbed layouts"
   ]
  },
  {
   "cell_type": "code",
   "execution_count": null,
   "metadata": {
    "collapsed": true
   },
   "outputs": [],
   "source": []
  },
  {
   "cell_type": "markdown",
   "metadata": {},
   "source": [
    "### Displaying tabbed layouts"
   ]
  },
  {
   "cell_type": "code",
   "execution_count": null,
   "metadata": {
    "collapsed": true
   },
   "outputs": [],
   "source": []
  },
  {
   "cell_type": "markdown",
   "metadata": {},
   "source": [
    "## Linking plots together"
   ]
  },
  {
   "cell_type": "code",
   "execution_count": null,
   "metadata": {
    "collapsed": true
   },
   "outputs": [],
   "source": []
  },
  {
   "cell_type": "markdown",
   "metadata": {},
   "source": [
    "### Linked axes"
   ]
  },
  {
   "cell_type": "code",
   "execution_count": null,
   "metadata": {
    "collapsed": true
   },
   "outputs": [],
   "source": []
  },
  {
   "cell_type": "markdown",
   "metadata": {},
   "source": [
    "### Linked brushing"
   ]
  },
  {
   "cell_type": "code",
   "execution_count": null,
   "metadata": {
    "collapsed": true
   },
   "outputs": [],
   "source": []
  },
  {
   "cell_type": "markdown",
   "metadata": {},
   "source": [
    "## Annotations and guides"
   ]
  },
  {
   "cell_type": "code",
   "execution_count": null,
   "metadata": {
    "collapsed": true
   },
   "outputs": [],
   "source": []
  },
  {
   "cell_type": "markdown",
   "metadata": {},
   "source": [
    "### How to create legends"
   ]
  },
  {
   "cell_type": "code",
   "execution_count": null,
   "metadata": {
    "collapsed": true
   },
   "outputs": [],
   "source": []
  },
  {
   "cell_type": "markdown",
   "metadata": {},
   "source": [
    "### Positioning and styling legends"
   ]
  },
  {
   "cell_type": "code",
   "execution_count": null,
   "metadata": {
    "collapsed": true
   },
   "outputs": [],
   "source": []
  },
  {
   "cell_type": "markdown",
   "metadata": {},
   "source": [
    "### Hover tooltips for exposing details"
   ]
  },
  {
   "cell_type": "code",
   "execution_count": null,
   "metadata": {
    "collapsed": true
   },
   "outputs": [],
   "source": []
  },
  {
   "cell_type": "markdown",
   "metadata": {},
   "source": [
    "### Adding a hover tooltip"
   ]
  },
  {
   "cell_type": "code",
   "execution_count": null,
   "metadata": {
    "collapsed": true
   },
   "outputs": [],
   "source": []
  },
  {
   "cell_type": "markdown",
   "metadata": {},
   "source": [
    "# Building interactive apps with Bokeh"
   ]
  },
  {
   "cell_type": "markdown",
   "metadata": {},
   "source": [
    "## Introducing the Bokeh Server"
   ]
  },
  {
   "cell_type": "code",
   "execution_count": null,
   "metadata": {
    "collapsed": true
   },
   "outputs": [],
   "source": []
  },
  {
   "cell_type": "markdown",
   "metadata": {},
   "source": [
    "### Understanding Bokeh apps"
   ]
  },
  {
   "cell_type": "code",
   "execution_count": null,
   "metadata": {
    "collapsed": true
   },
   "outputs": [],
   "source": []
  },
  {
   "cell_type": "markdown",
   "metadata": {},
   "source": [
    "### Using the current document"
   ]
  },
  {
   "cell_type": "code",
   "execution_count": null,
   "metadata": {
    "collapsed": true
   },
   "outputs": [],
   "source": []
  },
  {
   "cell_type": "markdown",
   "metadata": {},
   "source": [
    "### Add a single slider"
   ]
  },
  {
   "cell_type": "code",
   "execution_count": null,
   "metadata": {
    "collapsed": true
   },
   "outputs": [],
   "source": []
  },
  {
   "cell_type": "markdown",
   "metadata": {},
   "source": [
    "### Multiple sliders in one document"
   ]
  },
  {
   "cell_type": "code",
   "execution_count": null,
   "metadata": {
    "collapsed": true
   },
   "outputs": [],
   "source": []
  },
  {
   "cell_type": "markdown",
   "metadata": {},
   "source": [
    "## Connecting sliders to plots"
   ]
  },
  {
   "cell_type": "code",
   "execution_count": null,
   "metadata": {
    "collapsed": true
   },
   "outputs": [],
   "source": []
  },
  {
   "cell_type": "markdown",
   "metadata": {},
   "source": [
    "### Adding callbacks to sliders"
   ]
  },
  {
   "cell_type": "code",
   "execution_count": null,
   "metadata": {
    "collapsed": true
   },
   "outputs": [],
   "source": []
  },
  {
   "cell_type": "markdown",
   "metadata": {},
   "source": [
    "### How to combine Bokeh models into layouts"
   ]
  },
  {
   "cell_type": "code",
   "execution_count": null,
   "metadata": {
    "collapsed": true
   },
   "outputs": [],
   "source": []
  },
  {
   "cell_type": "markdown",
   "metadata": {},
   "source": [
    "### Learn about widget callbacks"
   ]
  },
  {
   "cell_type": "code",
   "execution_count": null,
   "metadata": {
    "collapsed": true
   },
   "outputs": [],
   "source": []
  },
  {
   "cell_type": "markdown",
   "metadata": {},
   "source": [
    "## Updating plots from dropdowns"
   ]
  },
  {
   "cell_type": "code",
   "execution_count": null,
   "metadata": {
    "collapsed": true
   },
   "outputs": [],
   "source": []
  },
  {
   "cell_type": "markdown",
   "metadata": {},
   "source": [
    "### Updating data sources from dropdown callbacks"
   ]
  },
  {
   "cell_type": "code",
   "execution_count": null,
   "metadata": {
    "collapsed": true
   },
   "outputs": [],
   "source": []
  },
  {
   "cell_type": "markdown",
   "metadata": {},
   "source": [
    "### Synchronize two dropdowns"
   ]
  },
  {
   "cell_type": "code",
   "execution_count": null,
   "metadata": {
    "collapsed": true
   },
   "outputs": [],
   "source": []
  },
  {
   "cell_type": "markdown",
   "metadata": {},
   "source": [
    "## Buttons"
   ]
  },
  {
   "cell_type": "code",
   "execution_count": null,
   "metadata": {
    "collapsed": true
   },
   "outputs": [],
   "source": []
  },
  {
   "cell_type": "markdown",
   "metadata": {},
   "source": [
    "### Button widgets"
   ]
  },
  {
   "cell_type": "code",
   "execution_count": null,
   "metadata": {
    "collapsed": true
   },
   "outputs": [],
   "source": []
  },
  {
   "cell_type": "markdown",
   "metadata": {},
   "source": [
    "### Button styles"
   ]
  },
  {
   "cell_type": "code",
   "execution_count": null,
   "metadata": {
    "collapsed": true
   },
   "outputs": [],
   "source": []
  },
  {
   "cell_type": "markdown",
   "metadata": {},
   "source": [
    "## Hosting applications for wider audiences"
   ]
  },
  {
   "cell_type": "code",
   "execution_count": null,
   "metadata": {
    "collapsed": true
   },
   "outputs": [],
   "source": []
  },
  {
   "cell_type": "markdown",
   "metadata": {},
   "source": [
    "# Putting It All Together! A Case Study"
   ]
  },
  {
   "cell_type": "markdown",
   "metadata": {},
   "source": [
    "## Time to put it all together!"
   ]
  },
  {
   "cell_type": "code",
   "execution_count": null,
   "metadata": {
    "collapsed": true
   },
   "outputs": [],
   "source": []
  },
  {
   "cell_type": "markdown",
   "metadata": {},
   "source": [
    "### Introducing the project dataset"
   ]
  },
  {
   "cell_type": "code",
   "execution_count": null,
   "metadata": {
    "collapsed": true
   },
   "outputs": [],
   "source": []
  },
  {
   "cell_type": "markdown",
   "metadata": {},
   "source": [
    "### Some exploratory plots of the data"
   ]
  },
  {
   "cell_type": "code",
   "execution_count": null,
   "metadata": {
    "collapsed": true
   },
   "outputs": [],
   "source": []
  },
  {
   "cell_type": "markdown",
   "metadata": {},
   "source": [
    "## Starting the app"
   ]
  },
  {
   "cell_type": "code",
   "execution_count": null,
   "metadata": {
    "collapsed": true
   },
   "outputs": [],
   "source": []
  },
  {
   "cell_type": "markdown",
   "metadata": {},
   "source": [
    "### Beginning with just a plot"
   ]
  },
  {
   "cell_type": "code",
   "execution_count": null,
   "metadata": {
    "collapsed": true
   },
   "outputs": [],
   "source": []
  },
  {
   "cell_type": "markdown",
   "metadata": {},
   "source": [
    "### Enhancing the plot with some shading"
   ]
  },
  {
   "cell_type": "code",
   "execution_count": null,
   "metadata": {
    "collapsed": true
   },
   "outputs": [],
   "source": []
  },
  {
   "cell_type": "markdown",
   "metadata": {},
   "source": [
    "### Adding a slider to vary the year"
   ]
  },
  {
   "cell_type": "code",
   "execution_count": null,
   "metadata": {
    "collapsed": true
   },
   "outputs": [],
   "source": []
  },
  {
   "cell_type": "markdown",
   "metadata": {},
   "source": [
    "### Customizing based on user input"
   ]
  },
  {
   "cell_type": "code",
   "execution_count": null,
   "metadata": {
    "collapsed": true
   },
   "outputs": [],
   "source": []
  },
  {
   "cell_type": "markdown",
   "metadata": {},
   "source": [
    "## Adding more interactivity to the app"
   ]
  },
  {
   "cell_type": "code",
   "execution_count": null,
   "metadata": {
    "collapsed": true
   },
   "outputs": [],
   "source": []
  },
  {
   "cell_type": "markdown",
   "metadata": {},
   "source": [
    "### Adding a hover tool"
   ]
  },
  {
   "cell_type": "code",
   "execution_count": null,
   "metadata": {
    "collapsed": true
   },
   "outputs": [],
   "source": []
  },
  {
   "cell_type": "markdown",
   "metadata": {},
   "source": [
    "### Adding dropdowns to the app"
   ]
  },
  {
   "cell_type": "code",
   "execution_count": null,
   "metadata": {
    "collapsed": true
   },
   "outputs": [],
   "source": []
  },
  {
   "cell_type": "markdown",
   "metadata": {},
   "source": [
    "## Congratulations!"
   ]
  }
 ],
 "metadata": {
  "kernelspec": {
   "display_name": "Python [conda env:python_datacamp]",
   "language": "python",
   "name": "conda-env-python_datacamp-py"
  },
  "language_info": {
   "codemirror_mode": {
    "name": "ipython",
    "version": 3
   },
   "file_extension": ".py",
   "mimetype": "text/x-python",
   "name": "python",
   "nbconvert_exporter": "python",
   "pygments_lexer": "ipython3",
   "version": "3.6.3"
  }
 },
 "nbformat": 4,
 "nbformat_minor": 2
}
