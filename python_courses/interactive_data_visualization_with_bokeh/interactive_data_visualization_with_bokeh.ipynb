{
 "cells": [
  {
   "cell_type": "markdown",
   "metadata": {},
   "source": [
    "# Interavtive Data Visualization with Bokeh\n",
    "- William Surles\n",
    "- 2017-11-14\n",
    "- Datacamp class\n",
    "- [https://www.datacamp.com/courses/interactive-data-visualization-with-bokeh](https://www.datacamp.com/courses/interactive-data-visualization-with-bokeh)"
   ]
  },
  {
   "cell_type": "markdown",
   "metadata": {},
   "source": [
    "## Whats Covered"
   ]
  },
  {
   "cell_type": "markdown",
   "metadata": {},
   "source": [
    "- Basic Plotting with Bokeh\n",
    " - Plotting with glyphs\n",
    " - Additional glyphs\n",
    " - Data formats\n",
    " - Customizing glyphs\n",
    "- Layouts, Interactions, and Annotations\n",
    " - Introduction to layouts\n",
    " - Advanced layouts\n",
    " - Linking plots together\n",
    " - Annotations and guides\n",
    "- Building interactive apps with Bokeh\n",
    " - Introducing the Bokeh Server\n",
    " - Connecting sliders to plots\n",
    " - Updating plots from dropdowns\n",
    " - Buttons\n",
    " - Hosting applications for wider audiences\n",
    "- Putting it all together! A case study\n",
    " - Time to put it all together!\n",
    " - Starting the app\n",
    " - Adding more interactivity to the app\n",
    " - Congratulations!"
   ]
  },
  {
   "cell_type": "markdown",
   "metadata": {},
   "source": [
    "## Additonal Resources"
   ]
  },
  {
   "cell_type": "code",
   "execution_count": 12,
   "metadata": {},
   "outputs": [
    {
     "ename": "SyntaxError",
     "evalue": "invalid syntax (<ipython-input-12-867b69deebd8>, line 1)",
     "output_type": "error",
     "traceback": [
      "\u001b[0;36m  File \u001b[0;32m\"<ipython-input-12-867b69deebd8>\"\u001b[0;36m, line \u001b[0;32m1\u001b[0m\n\u001b[0;31m    - [bokeh.io reference guide](https://bokeh.pydata.org/en/latest/docs/reference/io.html)\u001b[0m\n\u001b[0m                        ^\u001b[0m\n\u001b[0;31mSyntaxError\u001b[0m\u001b[0;31m:\u001b[0m invalid syntax\n"
     ]
    }
   ],
   "source": [
    "- [bokeh.io reference guide](https://bokeh.pydata.org/en/latest/docs/reference/io.html)\n",
    "- [bokeh markers](http://bokeh.pydata.org/en/latest/docs/gallery/markers.html)"
   ]
  },
  {
   "cell_type": "markdown",
   "metadata": {},
   "source": [
    "## Libraries and Data"
   ]
  },
  {
   "cell_type": "code",
   "execution_count": null,
   "metadata": {
    "collapsed": true
   },
   "outputs": [],
   "source": []
  },
  {
   "cell_type": "markdown",
   "metadata": {},
   "source": [
    "# Basic Plotting with Bokeh"
   ]
  },
  {
   "cell_type": "markdown",
   "metadata": {},
   "source": [
    "## Plotting with glyphs"
   ]
  },
  {
   "cell_type": "markdown",
   "metadata": {},
   "source": [
    "#### What are Glyphs\n",
    "- Visual shapes\n",
    " - circles, squares, triangles\n",
    " - rectangles, lines, wedges\n",
    "- With properties attached to data\n",
    " - coordinates (x,y)\n",
    " - size, color, transparency"
   ]
  },
  {
   "cell_type": "markdown",
   "metadata": {},
   "source": [
    "#### Typical usage\n",
    " - Its common to use output_file to print out these charts as html files tobe viewed in a browser\n",
    " - or to use output_notebook to put them inline in a notebook"
   ]
  },
  {
   "cell_type": "code",
   "execution_count": 40,
   "metadata": {
    "collapsed": true
   },
   "outputs": [],
   "source": [
    "import numpy as np\n",
    "from bokeh.io import output_notebook\n",
    "from bokeh.plotting import figure, show\n",
    "from bokeh.models import HoverTool"
   ]
  },
  {
   "cell_type": "code",
   "execution_count": 2,
   "metadata": {},
   "outputs": [
    {
     "data": {
      "text/html": [
       "\n",
       "    <div class=\"bk-root\">\n",
       "        <a href=\"https://bokeh.pydata.org\" target=\"_blank\" class=\"bk-logo bk-logo-small bk-logo-notebook\"></a>\n",
       "        <span id=\"7009f73f-70b2-42f4-9921-8cc150c1ba81\">Loading BokehJS ...</span>\n",
       "    </div>"
      ]
     },
     "metadata": {},
     "output_type": "display_data"
    },
    {
     "data": {
      "application/javascript": [
       "\n",
       "(function(root) {\n",
       "  function now() {\n",
       "    return new Date();\n",
       "  }\n",
       "\n",
       "  var force = true;\n",
       "\n",
       "  if (typeof (root._bokeh_onload_callbacks) === \"undefined\" || force === true) {\n",
       "    root._bokeh_onload_callbacks = [];\n",
       "    root._bokeh_is_loading = undefined;\n",
       "  }\n",
       "\n",
       "  var JS_MIME_TYPE = 'application/javascript';\n",
       "  var HTML_MIME_TYPE = 'text/html';\n",
       "  var EXEC_MIME_TYPE = 'application/vnd.bokehjs_exec.v0+json';\n",
       "  var CLASS_NAME = 'output_bokeh rendered_html';\n",
       "\n",
       "  /**\n",
       "   * Render data to the DOM node\n",
       "   */\n",
       "  function render(props, node) {\n",
       "    var script = document.createElement(\"script\");\n",
       "    node.appendChild(script);\n",
       "  }\n",
       "\n",
       "  /**\n",
       "   * Handle when an output is cleared or removed\n",
       "   */\n",
       "  function handleClearOutput(event, handle) {\n",
       "    var cell = handle.cell;\n",
       "\n",
       "    var id = cell.output_area._bokeh_element_id;\n",
       "    var server_id = cell.output_area._bokeh_server_id;\n",
       "    // Clean up Bokeh references\n",
       "    if (id !== undefined) {\n",
       "      Bokeh.index[id].model.document.clear();\n",
       "      delete Bokeh.index[id];\n",
       "    }\n",
       "\n",
       "    if (server_id !== undefined) {\n",
       "      // Clean up Bokeh references\n",
       "      var cmd = \"from bokeh.io.state import curstate; print(curstate().uuid_to_server['\" + server_id + \"'].get_sessions()[0].document.roots[0]._id)\";\n",
       "      cell.notebook.kernel.execute(cmd, {\n",
       "        iopub: {\n",
       "          output: function(msg) {\n",
       "            var element_id = msg.content.text.trim();\n",
       "            Bokeh.index[element_id].model.document.clear();\n",
       "            delete Bokeh.index[element_id];\n",
       "          }\n",
       "        }\n",
       "      });\n",
       "      // Destroy server and session\n",
       "      var cmd = \"import bokeh.io.notebook as ion; ion.destroy_server('\" + server_id + \"')\";\n",
       "      cell.notebook.kernel.execute(cmd);\n",
       "    }\n",
       "  }\n",
       "\n",
       "  /**\n",
       "   * Handle when a new output is added\n",
       "   */\n",
       "  function handleAddOutput(event, handle) {\n",
       "    var output_area = handle.output_area;\n",
       "    var output = handle.output;\n",
       "\n",
       "    // limit handleAddOutput to display_data with EXEC_MIME_TYPE content only\n",
       "    if ((output.output_type != \"display_data\") || (!output.data.hasOwnProperty(EXEC_MIME_TYPE))) {\n",
       "      return\n",
       "    }\n",
       "\n",
       "    var toinsert = output_area.element.find(`.${CLASS_NAME.split(' ')[0]}`);\n",
       "\n",
       "    if (output.metadata[EXEC_MIME_TYPE][\"id\"] !== undefined) {\n",
       "      toinsert[0].firstChild.textContent = output.data[JS_MIME_TYPE];\n",
       "      // store reference to embed id on output_area\n",
       "      output_area._bokeh_element_id = output.metadata[EXEC_MIME_TYPE][\"id\"];\n",
       "    }\n",
       "    if (output.metadata[EXEC_MIME_TYPE][\"server_id\"] !== undefined) {\n",
       "      var bk_div = document.createElement(\"div\");\n",
       "      bk_div.innerHTML = output.data[HTML_MIME_TYPE];\n",
       "      var script_attrs = bk_div.children[0].attributes;\n",
       "      for (var i = 0; i < script_attrs.length; i++) {\n",
       "        toinsert[0].firstChild.setAttribute(script_attrs[i].name, script_attrs[i].value);\n",
       "      }\n",
       "      // store reference to server id on output_area\n",
       "      output_area._bokeh_server_id = output.metadata[EXEC_MIME_TYPE][\"server_id\"];\n",
       "    }\n",
       "  }\n",
       "\n",
       "  function register_renderer(events, OutputArea) {\n",
       "\n",
       "    function append_mime(data, metadata, element) {\n",
       "      // create a DOM node to render to\n",
       "      var toinsert = this.create_output_subarea(\n",
       "        metadata,\n",
       "        CLASS_NAME,\n",
       "        EXEC_MIME_TYPE\n",
       "      );\n",
       "      this.keyboard_manager.register_events(toinsert);\n",
       "      // Render to node\n",
       "      var props = {data: data, metadata: metadata[EXEC_MIME_TYPE]};\n",
       "      render(props, toinsert[0]);\n",
       "      element.append(toinsert);\n",
       "      return toinsert\n",
       "    }\n",
       "\n",
       "    /* Handle when an output is cleared or removed */\n",
       "    events.on('clear_output.CodeCell', handleClearOutput);\n",
       "    events.on('delete.Cell', handleClearOutput);\n",
       "\n",
       "    /* Handle when a new output is added */\n",
       "    events.on('output_added.OutputArea', handleAddOutput);\n",
       "\n",
       "    /**\n",
       "     * Register the mime type and append_mime function with output_area\n",
       "     */\n",
       "    OutputArea.prototype.register_mime_type(EXEC_MIME_TYPE, append_mime, {\n",
       "      /* Is output safe? */\n",
       "      safe: true,\n",
       "      /* Index of renderer in `output_area.display_order` */\n",
       "      index: 0\n",
       "    });\n",
       "  }\n",
       "\n",
       "  // register the mime type if in Jupyter Notebook environment and previously unregistered\n",
       "  if (root.Jupyter !== undefined) {\n",
       "    var events = require('base/js/events');\n",
       "    var OutputArea = require('notebook/js/outputarea').OutputArea;\n",
       "\n",
       "    if (OutputArea.prototype.mime_types().indexOf(EXEC_MIME_TYPE) == -1) {\n",
       "      register_renderer(events, OutputArea);\n",
       "    }\n",
       "  }\n",
       "\n",
       "  \n",
       "  if (typeof (root._bokeh_timeout) === \"undefined\" || force === true) {\n",
       "    root._bokeh_timeout = Date.now() + 5000;\n",
       "    root._bokeh_failed_load = false;\n",
       "  }\n",
       "\n",
       "  var NB_LOAD_WARNING = {'data': {'text/html':\n",
       "     \"<div style='background-color: #fdd'>\\n\"+\n",
       "     \"<p>\\n\"+\n",
       "     \"BokehJS does not appear to have successfully loaded. If loading BokehJS from CDN, this \\n\"+\n",
       "     \"may be due to a slow or bad network connection. Possible fixes:\\n\"+\n",
       "     \"</p>\\n\"+\n",
       "     \"<ul>\\n\"+\n",
       "     \"<li>re-rerun `output_notebook()` to attempt to load from CDN again, or</li>\\n\"+\n",
       "     \"<li>use INLINE resources instead, as so:</li>\\n\"+\n",
       "     \"</ul>\\n\"+\n",
       "     \"<code>\\n\"+\n",
       "     \"from bokeh.resources import INLINE\\n\"+\n",
       "     \"output_notebook(resources=INLINE)\\n\"+\n",
       "     \"</code>\\n\"+\n",
       "     \"</div>\"}};\n",
       "\n",
       "  function display_loaded() {\n",
       "    var el = document.getElementById(\"7009f73f-70b2-42f4-9921-8cc150c1ba81\");\n",
       "    if (el != null) {\n",
       "      el.textContent = \"BokehJS is loading...\";\n",
       "    }\n",
       "    if (root.Bokeh !== undefined) {\n",
       "      if (el != null) {\n",
       "        el.textContent = \"BokehJS \" + root.Bokeh.version + \" successfully loaded.\";\n",
       "      }\n",
       "    } else if (Date.now() < root._bokeh_timeout) {\n",
       "      setTimeout(display_loaded, 100)\n",
       "    }\n",
       "  }\n",
       "\n",
       "\n",
       "  function run_callbacks() {\n",
       "    try {\n",
       "      root._bokeh_onload_callbacks.forEach(function(callback) { callback() });\n",
       "    }\n",
       "    finally {\n",
       "      delete root._bokeh_onload_callbacks\n",
       "    }\n",
       "    console.info(\"Bokeh: all callbacks have finished\");\n",
       "  }\n",
       "\n",
       "  function load_libs(js_urls, callback) {\n",
       "    root._bokeh_onload_callbacks.push(callback);\n",
       "    if (root._bokeh_is_loading > 0) {\n",
       "      console.log(\"Bokeh: BokehJS is being loaded, scheduling callback at\", now());\n",
       "      return null;\n",
       "    }\n",
       "    if (js_urls == null || js_urls.length === 0) {\n",
       "      run_callbacks();\n",
       "      return null;\n",
       "    }\n",
       "    console.log(\"Bokeh: BokehJS not loaded, scheduling load and callback at\", now());\n",
       "    root._bokeh_is_loading = js_urls.length;\n",
       "    for (var i = 0; i < js_urls.length; i++) {\n",
       "      var url = js_urls[i];\n",
       "      var s = document.createElement('script');\n",
       "      s.src = url;\n",
       "      s.async = false;\n",
       "      s.onreadystatechange = s.onload = function() {\n",
       "        root._bokeh_is_loading--;\n",
       "        if (root._bokeh_is_loading === 0) {\n",
       "          console.log(\"Bokeh: all BokehJS libraries loaded\");\n",
       "          run_callbacks()\n",
       "        }\n",
       "      };\n",
       "      s.onerror = function() {\n",
       "        console.warn(\"failed to load library \" + url);\n",
       "      };\n",
       "      console.log(\"Bokeh: injecting script tag for BokehJS library: \", url);\n",
       "      document.getElementsByTagName(\"head\")[0].appendChild(s);\n",
       "    }\n",
       "  };var element = document.getElementById(\"7009f73f-70b2-42f4-9921-8cc150c1ba81\");\n",
       "  if (element == null) {\n",
       "    console.log(\"Bokeh: ERROR: autoload.js configured with elementid '7009f73f-70b2-42f4-9921-8cc150c1ba81' but no matching script tag was found. \")\n",
       "    return false;\n",
       "  }\n",
       "\n",
       "  var js_urls = [\"https://cdn.pydata.org/bokeh/release/bokeh-0.12.10.min.js\", \"https://cdn.pydata.org/bokeh/release/bokeh-widgets-0.12.10.min.js\", \"https://cdn.pydata.org/bokeh/release/bokeh-tables-0.12.10.min.js\", \"https://cdn.pydata.org/bokeh/release/bokeh-gl-0.12.10.min.js\"];\n",
       "\n",
       "  var inline_js = [\n",
       "    function(Bokeh) {\n",
       "      Bokeh.set_log_level(\"info\");\n",
       "    },\n",
       "    \n",
       "    function(Bokeh) {\n",
       "      \n",
       "    },\n",
       "    function(Bokeh) {\n",
       "      console.log(\"Bokeh: injecting CSS: https://cdn.pydata.org/bokeh/release/bokeh-0.12.10.min.css\");\n",
       "      Bokeh.embed.inject_css(\"https://cdn.pydata.org/bokeh/release/bokeh-0.12.10.min.css\");\n",
       "      console.log(\"Bokeh: injecting CSS: https://cdn.pydata.org/bokeh/release/bokeh-widgets-0.12.10.min.css\");\n",
       "      Bokeh.embed.inject_css(\"https://cdn.pydata.org/bokeh/release/bokeh-widgets-0.12.10.min.css\");\n",
       "      console.log(\"Bokeh: injecting CSS: https://cdn.pydata.org/bokeh/release/bokeh-tables-0.12.10.min.css\");\n",
       "      Bokeh.embed.inject_css(\"https://cdn.pydata.org/bokeh/release/bokeh-tables-0.12.10.min.css\");\n",
       "    }\n",
       "  ];\n",
       "\n",
       "  function run_inline_js() {\n",
       "    \n",
       "    if ((root.Bokeh !== undefined) || (force === true)) {\n",
       "      for (var i = 0; i < inline_js.length; i++) {\n",
       "        inline_js[i].call(root, root.Bokeh);\n",
       "      }if (force === true) {\n",
       "        display_loaded();\n",
       "      }} else if (Date.now() < root._bokeh_timeout) {\n",
       "      setTimeout(run_inline_js, 100);\n",
       "    } else if (!root._bokeh_failed_load) {\n",
       "      console.log(\"Bokeh: BokehJS failed to load within specified timeout.\");\n",
       "      root._bokeh_failed_load = true;\n",
       "    } else if (force !== true) {\n",
       "      var cell = $(document.getElementById(\"7009f73f-70b2-42f4-9921-8cc150c1ba81\")).parents('.cell').data().cell;\n",
       "      cell.output_area.append_execute_result(NB_LOAD_WARNING)\n",
       "    }\n",
       "\n",
       "  }\n",
       "\n",
       "  if (root._bokeh_is_loading === 0) {\n",
       "    console.log(\"Bokeh: BokehJS loaded, going straight to plotting\");\n",
       "    run_inline_js();\n",
       "  } else {\n",
       "    load_libs(js_urls, function() {\n",
       "      console.log(\"Bokeh: BokehJS plotting callback run at\", now());\n",
       "      run_inline_js();\n",
       "    });\n",
       "  }\n",
       "}(window));"
      ],
      "application/vnd.bokehjs_load.v0+json": "\n(function(root) {\n  function now() {\n    return new Date();\n  }\n\n  var force = true;\n\n  if (typeof (root._bokeh_onload_callbacks) === \"undefined\" || force === true) {\n    root._bokeh_onload_callbacks = [];\n    root._bokeh_is_loading = undefined;\n  }\n\n  \n\n  \n  if (typeof (root._bokeh_timeout) === \"undefined\" || force === true) {\n    root._bokeh_timeout = Date.now() + 5000;\n    root._bokeh_failed_load = false;\n  }\n\n  var NB_LOAD_WARNING = {'data': {'text/html':\n     \"<div style='background-color: #fdd'>\\n\"+\n     \"<p>\\n\"+\n     \"BokehJS does not appear to have successfully loaded. If loading BokehJS from CDN, this \\n\"+\n     \"may be due to a slow or bad network connection. Possible fixes:\\n\"+\n     \"</p>\\n\"+\n     \"<ul>\\n\"+\n     \"<li>re-rerun `output_notebook()` to attempt to load from CDN again, or</li>\\n\"+\n     \"<li>use INLINE resources instead, as so:</li>\\n\"+\n     \"</ul>\\n\"+\n     \"<code>\\n\"+\n     \"from bokeh.resources import INLINE\\n\"+\n     \"output_notebook(resources=INLINE)\\n\"+\n     \"</code>\\n\"+\n     \"</div>\"}};\n\n  function display_loaded() {\n    var el = document.getElementById(\"7009f73f-70b2-42f4-9921-8cc150c1ba81\");\n    if (el != null) {\n      el.textContent = \"BokehJS is loading...\";\n    }\n    if (root.Bokeh !== undefined) {\n      if (el != null) {\n        el.textContent = \"BokehJS \" + root.Bokeh.version + \" successfully loaded.\";\n      }\n    } else if (Date.now() < root._bokeh_timeout) {\n      setTimeout(display_loaded, 100)\n    }\n  }\n\n\n  function run_callbacks() {\n    try {\n      root._bokeh_onload_callbacks.forEach(function(callback) { callback() });\n    }\n    finally {\n      delete root._bokeh_onload_callbacks\n    }\n    console.info(\"Bokeh: all callbacks have finished\");\n  }\n\n  function load_libs(js_urls, callback) {\n    root._bokeh_onload_callbacks.push(callback);\n    if (root._bokeh_is_loading > 0) {\n      console.log(\"Bokeh: BokehJS is being loaded, scheduling callback at\", now());\n      return null;\n    }\n    if (js_urls == null || js_urls.length === 0) {\n      run_callbacks();\n      return null;\n    }\n    console.log(\"Bokeh: BokehJS not loaded, scheduling load and callback at\", now());\n    root._bokeh_is_loading = js_urls.length;\n    for (var i = 0; i < js_urls.length; i++) {\n      var url = js_urls[i];\n      var s = document.createElement('script');\n      s.src = url;\n      s.async = false;\n      s.onreadystatechange = s.onload = function() {\n        root._bokeh_is_loading--;\n        if (root._bokeh_is_loading === 0) {\n          console.log(\"Bokeh: all BokehJS libraries loaded\");\n          run_callbacks()\n        }\n      };\n      s.onerror = function() {\n        console.warn(\"failed to load library \" + url);\n      };\n      console.log(\"Bokeh: injecting script tag for BokehJS library: \", url);\n      document.getElementsByTagName(\"head\")[0].appendChild(s);\n    }\n  };var element = document.getElementById(\"7009f73f-70b2-42f4-9921-8cc150c1ba81\");\n  if (element == null) {\n    console.log(\"Bokeh: ERROR: autoload.js configured with elementid '7009f73f-70b2-42f4-9921-8cc150c1ba81' but no matching script tag was found. \")\n    return false;\n  }\n\n  var js_urls = [\"https://cdn.pydata.org/bokeh/release/bokeh-0.12.10.min.js\", \"https://cdn.pydata.org/bokeh/release/bokeh-widgets-0.12.10.min.js\", \"https://cdn.pydata.org/bokeh/release/bokeh-tables-0.12.10.min.js\", \"https://cdn.pydata.org/bokeh/release/bokeh-gl-0.12.10.min.js\"];\n\n  var inline_js = [\n    function(Bokeh) {\n      Bokeh.set_log_level(\"info\");\n    },\n    \n    function(Bokeh) {\n      \n    },\n    function(Bokeh) {\n      console.log(\"Bokeh: injecting CSS: https://cdn.pydata.org/bokeh/release/bokeh-0.12.10.min.css\");\n      Bokeh.embed.inject_css(\"https://cdn.pydata.org/bokeh/release/bokeh-0.12.10.min.css\");\n      console.log(\"Bokeh: injecting CSS: https://cdn.pydata.org/bokeh/release/bokeh-widgets-0.12.10.min.css\");\n      Bokeh.embed.inject_css(\"https://cdn.pydata.org/bokeh/release/bokeh-widgets-0.12.10.min.css\");\n      console.log(\"Bokeh: injecting CSS: https://cdn.pydata.org/bokeh/release/bokeh-tables-0.12.10.min.css\");\n      Bokeh.embed.inject_css(\"https://cdn.pydata.org/bokeh/release/bokeh-tables-0.12.10.min.css\");\n    }\n  ];\n\n  function run_inline_js() {\n    \n    if ((root.Bokeh !== undefined) || (force === true)) {\n      for (var i = 0; i < inline_js.length; i++) {\n        inline_js[i].call(root, root.Bokeh);\n      }if (force === true) {\n        display_loaded();\n      }} else if (Date.now() < root._bokeh_timeout) {\n      setTimeout(run_inline_js, 100);\n    } else if (!root._bokeh_failed_load) {\n      console.log(\"Bokeh: BokehJS failed to load within specified timeout.\");\n      root._bokeh_failed_load = true;\n    } else if (force !== true) {\n      var cell = $(document.getElementById(\"7009f73f-70b2-42f4-9921-8cc150c1ba81\")).parents('.cell').data().cell;\n      cell.output_area.append_execute_result(NB_LOAD_WARNING)\n    }\n\n  }\n\n  if (root._bokeh_is_loading === 0) {\n    console.log(\"Bokeh: BokehJS loaded, going straight to plotting\");\n    run_inline_js();\n  } else {\n    load_libs(js_urls, function() {\n      console.log(\"Bokeh: BokehJS plotting callback run at\", now());\n      run_inline_js();\n    });\n  }\n}(window));"
     },
     "metadata": {},
     "output_type": "display_data"
    }
   ],
   "source": [
    "output_notebook()"
   ]
  },
  {
   "cell_type": "code",
   "execution_count": 15,
   "metadata": {},
   "outputs": [
    {
     "data": {
      "text/html": [
       "\n",
       "<div class=\"bk-root\">\n",
       "    <div class=\"bk-plotdiv\" id=\"079f98b8-c33c-4dfc-8bde-3ad274609212\"></div>\n",
       "</div>"
      ]
     },
     "metadata": {},
     "output_type": "display_data"
    },
    {
     "data": {
      "application/javascript": [
       "(function(root) {\n",
       "  function embed_document(root) {\n",
       "    var docs_json = {\"3efffb12-9984-4df9-bf7f-e3a753498bb6\":{\"roots\":{\"references\":[{\"attributes\":{\"callback\":null},\"id\":\"702ac048-208d-4438-b7e4-e9e152db7b0f\",\"type\":\"DataRange1d\"},{\"attributes\":{},\"id\":\"12f5f3b5-8932-4a63-a921-3d2e0f6bb898\",\"type\":\"WheelZoomTool\"},{\"attributes\":{\"fill_alpha\":{\"value\":0.1},\"fill_color\":{\"value\":\"#1f77b4\"},\"line_alpha\":{\"value\":0.1},\"line_color\":{\"value\":\"#1f77b4\"},\"radius\":{\"field\":\"radius\",\"units\":\"data\"},\"x\":{\"field\":\"x\"},\"y\":{\"field\":\"y\"}},\"id\":\"23fb4e6d-b456-4327-953e-53375f5c07ac\",\"type\":\"Circle\"},{\"attributes\":{},\"id\":\"3e952c7d-55a5-47f9-b504-bdc6b822a04e\",\"type\":\"PanTool\"},{\"attributes\":{\"callback\":null},\"id\":\"f72b1f5d-939c-40c7-b073-e2c5723b23e8\",\"type\":\"DataRange1d\"},{\"attributes\":{\"bottom_units\":\"screen\",\"fill_alpha\":{\"value\":0.5},\"fill_color\":{\"value\":\"lightgrey\"},\"left_units\":\"screen\",\"level\":\"overlay\",\"line_alpha\":{\"value\":1.0},\"line_color\":{\"value\":\"black\"},\"line_dash\":[4,4],\"line_width\":{\"value\":2},\"plot\":null,\"render_mode\":\"css\",\"right_units\":\"screen\",\"top_units\":\"screen\"},\"id\":\"fbac8a45-5e4c-4b2a-a9cf-e62b04f149e9\",\"type\":\"BoxAnnotation\"},{\"attributes\":{\"callback\":null,\"column_names\":[\"radius\",\"x\",\"y\"],\"data\":{\"radius\":{\"__ndarray__\":\"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\",\"dtype\":\"float64\",\"shape\":[400]},\"x\":{\"__ndarray__\":\"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\",\"dtype\":\"float64\",\"shape\":[400]},\"y\":{\"__ndarray__\":\"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\",\"dtype\":\"float64\",\"shape\":[400]}}},\"id\":\"eecc273a-ef2c-4f1f-a197-6d9dafbfc37e\",\"type\":\"ColumnDataSource\"},{\"attributes\":{\"active_drag\":\"auto\",\"active_inspect\":\"auto\",\"active_scroll\":\"auto\",\"active_tap\":\"auto\",\"tools\":[{\"id\":\"3e952c7d-55a5-47f9-b504-bdc6b822a04e\",\"type\":\"PanTool\"},{\"id\":\"12f5f3b5-8932-4a63-a921-3d2e0f6bb898\",\"type\":\"WheelZoomTool\"},{\"id\":\"7c8ab270-c74a-4c4c-8b5e-7b380f8fe684\",\"type\":\"BoxZoomTool\"},{\"id\":\"813633a8-3db9-4e8a-bee6-ad41b2338f78\",\"type\":\"SaveTool\"},{\"id\":\"263628e9-78b7-4378-8796-47fcbf934cc8\",\"type\":\"ResetTool\"},{\"id\":\"8bb6e823-96ee-4673-b479-8cb9da8aedcb\",\"type\":\"HelpTool\"}]},\"id\":\"d51ab604-590e-4623-b95a-d08df6e51a47\",\"type\":\"Toolbar\"},{\"attributes\":{\"plot\":null,\"text\":\"\"},\"id\":\"59e9f21e-fb63-4973-86ab-e1866081f46f\",\"type\":\"Title\"},{\"attributes\":{\"formatter\":{\"id\":\"4dc634a1-0233-4fdd-80c3-63be14dc9719\",\"type\":\"BasicTickFormatter\"},\"plot\":{\"id\":\"089e5cce-ce66-4425-a9df-d2370cbcf250\",\"subtype\":\"Figure\",\"type\":\"Plot\"},\"ticker\":{\"id\":\"294c9391-c659-495b-a4e5-69f44d247855\",\"type\":\"BasicTicker\"}},\"id\":\"3f8c4e90-3ebc-44de-a1c0-34e3fd3869b9\",\"type\":\"LinearAxis\"},{\"attributes\":{\"formatter\":{\"id\":\"cb5bdfa5-0859-4263-9db8-260f3885ceca\",\"type\":\"BasicTickFormatter\"},\"plot\":{\"id\":\"089e5cce-ce66-4425-a9df-d2370cbcf250\",\"subtype\":\"Figure\",\"type\":\"Plot\"},\"ticker\":{\"id\":\"ebb68687-874a-489e-a645-02429c6929b1\",\"type\":\"BasicTicker\"}},\"id\":\"d48e11cd-218f-4d40-9876-769f3f10df45\",\"type\":\"LinearAxis\"},{\"attributes\":{},\"id\":\"813633a8-3db9-4e8a-bee6-ad41b2338f78\",\"type\":\"SaveTool\"},{\"attributes\":{\"overlay\":{\"id\":\"fbac8a45-5e4c-4b2a-a9cf-e62b04f149e9\",\"type\":\"BoxAnnotation\"}},\"id\":\"7c8ab270-c74a-4c4c-8b5e-7b380f8fe684\",\"type\":\"BoxZoomTool\"},{\"attributes\":{},\"id\":\"177049cd-59bc-410c-940f-4922ea60aa87\",\"type\":\"LinearScale\"},{\"attributes\":{},\"id\":\"ebb68687-874a-489e-a645-02429c6929b1\",\"type\":\"BasicTicker\"},{\"attributes\":{\"dimension\":1,\"plot\":{\"id\":\"089e5cce-ce66-4425-a9df-d2370cbcf250\",\"subtype\":\"Figure\",\"type\":\"Plot\"},\"ticker\":{\"id\":\"ebb68687-874a-489e-a645-02429c6929b1\",\"type\":\"BasicTicker\"}},\"id\":\"6b429929-9deb-4626-ba66-bfdd9b335bbe\",\"type\":\"Grid\"},{\"attributes\":{\"below\":[{\"id\":\"3f8c4e90-3ebc-44de-a1c0-34e3fd3869b9\",\"type\":\"LinearAxis\"}],\"left\":[{\"id\":\"d48e11cd-218f-4d40-9876-769f3f10df45\",\"type\":\"LinearAxis\"}],\"renderers\":[{\"id\":\"3f8c4e90-3ebc-44de-a1c0-34e3fd3869b9\",\"type\":\"LinearAxis\"},{\"id\":\"3ac7aec6-3cf4-4567-b2fd-ed7c00e68a01\",\"type\":\"Grid\"},{\"id\":\"d48e11cd-218f-4d40-9876-769f3f10df45\",\"type\":\"LinearAxis\"},{\"id\":\"6b429929-9deb-4626-ba66-bfdd9b335bbe\",\"type\":\"Grid\"},{\"id\":\"fbac8a45-5e4c-4b2a-a9cf-e62b04f149e9\",\"type\":\"BoxAnnotation\"},{\"id\":\"e98fe83d-25f1-4a65-9a28-80b883b7a09d\",\"type\":\"GlyphRenderer\"}],\"title\":{\"id\":\"59e9f21e-fb63-4973-86ab-e1866081f46f\",\"type\":\"Title\"},\"toolbar\":{\"id\":\"d51ab604-590e-4623-b95a-d08df6e51a47\",\"type\":\"Toolbar\"},\"x_range\":{\"id\":\"702ac048-208d-4438-b7e4-e9e152db7b0f\",\"type\":\"DataRange1d\"},\"x_scale\":{\"id\":\"177049cd-59bc-410c-940f-4922ea60aa87\",\"type\":\"LinearScale\"},\"y_range\":{\"id\":\"f72b1f5d-939c-40c7-b073-e2c5723b23e8\",\"type\":\"DataRange1d\"},\"y_scale\":{\"id\":\"533a86ad-7b31-4cb8-8f97-3416aa947ea0\",\"type\":\"LinearScale\"}},\"id\":\"089e5cce-ce66-4425-a9df-d2370cbcf250\",\"subtype\":\"Figure\",\"type\":\"Plot\"},{\"attributes\":{},\"id\":\"8bb6e823-96ee-4673-b479-8cb9da8aedcb\",\"type\":\"HelpTool\"},{\"attributes\":{\"data_source\":{\"id\":\"eecc273a-ef2c-4f1f-a197-6d9dafbfc37e\",\"type\":\"ColumnDataSource\"},\"glyph\":{\"id\":\"6b346835-da6f-4543-86d8-81d49cc09f3b\",\"type\":\"Circle\"},\"hover_glyph\":null,\"muted_glyph\":null,\"nonselection_glyph\":{\"id\":\"23fb4e6d-b456-4327-953e-53375f5c07ac\",\"type\":\"Circle\"},\"selection_glyph\":null,\"view\":{\"id\":\"b1644702-35cb-487b-a544-4d8fb5cb1da0\",\"type\":\"CDSView\"}},\"id\":\"e98fe83d-25f1-4a65-9a28-80b883b7a09d\",\"type\":\"GlyphRenderer\"},{\"attributes\":{},\"id\":\"263628e9-78b7-4378-8796-47fcbf934cc8\",\"type\":\"ResetTool\"},{\"attributes\":{},\"id\":\"4dc634a1-0233-4fdd-80c3-63be14dc9719\",\"type\":\"BasicTickFormatter\"},{\"attributes\":{\"plot\":{\"id\":\"089e5cce-ce66-4425-a9df-d2370cbcf250\",\"subtype\":\"Figure\",\"type\":\"Plot\"},\"ticker\":{\"id\":\"294c9391-c659-495b-a4e5-69f44d247855\",\"type\":\"BasicTicker\"}},\"id\":\"3ac7aec6-3cf4-4567-b2fd-ed7c00e68a01\",\"type\":\"Grid\"},{\"attributes\":{},\"id\":\"294c9391-c659-495b-a4e5-69f44d247855\",\"type\":\"BasicTicker\"},{\"attributes\":{\"fill_alpha\":{\"value\":0.6},\"fill_color\":{\"value\":\"#1f77b4\"},\"line_color\":{\"value\":null},\"radius\":{\"field\":\"radius\",\"units\":\"data\"},\"x\":{\"field\":\"x\"},\"y\":{\"field\":\"y\"}},\"id\":\"6b346835-da6f-4543-86d8-81d49cc09f3b\",\"type\":\"Circle\"},{\"attributes\":{},\"id\":\"533a86ad-7b31-4cb8-8f97-3416aa947ea0\",\"type\":\"LinearScale\"},{\"attributes\":{\"source\":{\"id\":\"eecc273a-ef2c-4f1f-a197-6d9dafbfc37e\",\"type\":\"ColumnDataSource\"}},\"id\":\"b1644702-35cb-487b-a544-4d8fb5cb1da0\",\"type\":\"CDSView\"},{\"attributes\":{},\"id\":\"cb5bdfa5-0859-4263-9db8-260f3885ceca\",\"type\":\"BasicTickFormatter\"}],\"root_ids\":[\"089e5cce-ce66-4425-a9df-d2370cbcf250\"]},\"title\":\"Bokeh Application\",\"version\":\"0.12.10\"}};\n",
       "    var render_items = [{\"docid\":\"3efffb12-9984-4df9-bf7f-e3a753498bb6\",\"elementid\":\"079f98b8-c33c-4dfc-8bde-3ad274609212\",\"modelid\":\"089e5cce-ce66-4425-a9df-d2370cbcf250\"}];\n",
       "\n",
       "    root.Bokeh.embed.embed_items(docs_json, render_items);\n",
       "  }\n",
       "\n",
       "  if (root.Bokeh !== undefined) {\n",
       "    embed_document(root);\n",
       "  } else {\n",
       "    var attempts = 0;\n",
       "    var timer = setInterval(function(root) {\n",
       "      if (root.Bokeh !== undefined) {\n",
       "        embed_document(root);\n",
       "        clearInterval(timer);\n",
       "      }\n",
       "      attempts++;\n",
       "      if (attempts > 100) {\n",
       "        console.log(\"Bokeh: ERROR: Unable to embed document because BokehJS library is missing\")\n",
       "        clearInterval(timer);\n",
       "      }\n",
       "    }, 10, root)\n",
       "  }\n",
       "})(window);"
      ],
      "application/vnd.bokehjs_exec.v0+json": ""
     },
     "metadata": {
      "application/vnd.bokehjs_exec.v0+json": {
       "id": "089e5cce-ce66-4425-a9df-d2370cbcf250"
      }
     },
     "output_type": "display_data"
    }
   ],
   "source": [
    "show(p)"
   ]
  },
  {
   "cell_type": "code",
   "execution_count": 4,
   "metadata": {},
   "outputs": [
    {
     "data": {
      "text/html": [
       "\n",
       "<div class=\"bk-root\">\n",
       "    <div class=\"bk-plotdiv\" id=\"5598b23d-5bdc-4925-af84-dd6a6a4ff617\"></div>\n",
       "</div>"
      ]
     },
     "metadata": {},
     "output_type": "display_data"
    },
    {
     "data": {
      "application/javascript": [
       "(function(root) {\n",
       "  function embed_document(root) {\n",
       "    var docs_json = {\"7fc0a076-3911-46c5-b2d9-fb4f4d00d766\":{\"roots\":{\"references\":[{\"attributes\":{\"bottom_units\":\"screen\",\"fill_alpha\":{\"value\":0.5},\"fill_color\":{\"value\":\"lightgrey\"},\"left_units\":\"screen\",\"level\":\"overlay\",\"line_alpha\":{\"value\":1.0},\"line_color\":{\"value\":\"black\"},\"line_dash\":[4,4],\"line_width\":{\"value\":2},\"plot\":null,\"render_mode\":\"css\",\"right_units\":\"screen\",\"top_units\":\"screen\"},\"id\":\"0b9331ef-54a6-4a70-b05f-f7ec5e35ae32\",\"type\":\"BoxAnnotation\"},{\"attributes\":{\"plot\":{\"id\":\"89e84064-81ad-4dab-bbc4-dbe377a55d34\",\"subtype\":\"Figure\",\"type\":\"Plot\"},\"ticker\":{\"id\":\"ee467c8e-c379-4f36-abb1-01716110f1ff\",\"type\":\"BasicTicker\"}},\"id\":\"ba1bf5bd-462d-4a42-b45c-d0044ae51010\",\"type\":\"Grid\"},{\"attributes\":{},\"id\":\"c38423e0-d2e9-482f-8ade-273756c5db67\",\"type\":\"BasicTickFormatter\"},{\"attributes\":{\"formatter\":{\"id\":\"c38423e0-d2e9-482f-8ade-273756c5db67\",\"type\":\"BasicTickFormatter\"},\"plot\":{\"id\":\"89e84064-81ad-4dab-bbc4-dbe377a55d34\",\"subtype\":\"Figure\",\"type\":\"Plot\"},\"ticker\":{\"id\":\"93782fc3-084d-4592-ae0b-e435eb5718ea\",\"type\":\"BasicTicker\"}},\"id\":\"665faae2-6e91-450f-98f5-366cfed63521\",\"type\":\"LinearAxis\"},{\"attributes\":{},\"id\":\"93782fc3-084d-4592-ae0b-e435eb5718ea\",\"type\":\"BasicTicker\"},{\"attributes\":{\"dimension\":1,\"plot\":{\"id\":\"89e84064-81ad-4dab-bbc4-dbe377a55d34\",\"subtype\":\"Figure\",\"type\":\"Plot\"},\"ticker\":{\"id\":\"93782fc3-084d-4592-ae0b-e435eb5718ea\",\"type\":\"BasicTicker\"}},\"id\":\"d9775ac5-d1ee-4790-aeb3-9736d5860cdd\",\"type\":\"Grid\"},{\"attributes\":{\"fill_color\":{\"value\":\"#1f77b4\"},\"line_color\":{\"value\":\"#1f77b4\"},\"x\":{\"field\":\"x\"},\"y\":{\"field\":\"y\"}},\"id\":\"e8f1bc2c-ace3-4362-8428-9bc72134f6b6\",\"type\":\"Circle\"},{\"attributes\":{\"below\":[{\"id\":\"e618ab2a-1e7e-44a8-910c-1fe0bf299c92\",\"type\":\"LinearAxis\"}],\"left\":[{\"id\":\"665faae2-6e91-450f-98f5-366cfed63521\",\"type\":\"LinearAxis\"}],\"plot_width\":400,\"renderers\":[{\"id\":\"e618ab2a-1e7e-44a8-910c-1fe0bf299c92\",\"type\":\"LinearAxis\"},{\"id\":\"ba1bf5bd-462d-4a42-b45c-d0044ae51010\",\"type\":\"Grid\"},{\"id\":\"665faae2-6e91-450f-98f5-366cfed63521\",\"type\":\"LinearAxis\"},{\"id\":\"d9775ac5-d1ee-4790-aeb3-9736d5860cdd\",\"type\":\"Grid\"},{\"id\":\"0b9331ef-54a6-4a70-b05f-f7ec5e35ae32\",\"type\":\"BoxAnnotation\"},{\"id\":\"b8e451c9-0026-4780-a241-2010735ae864\",\"type\":\"GlyphRenderer\"}],\"title\":{\"id\":\"d476bb97-c726-4c33-9f25-745f8b0b3711\",\"type\":\"Title\"},\"toolbar\":{\"id\":\"41c5f84e-fa4a-468d-bede-5ee0be79c049\",\"type\":\"Toolbar\"},\"x_range\":{\"id\":\"353724d0-36f7-42d7-855a-4bb9dadd16d8\",\"type\":\"DataRange1d\"},\"x_scale\":{\"id\":\"b563151d-7afe-4c3d-9858-fc1cb39da6e4\",\"type\":\"LinearScale\"},\"y_range\":{\"id\":\"a7cfe06f-f023-495e-a560-02b264b0258a\",\"type\":\"DataRange1d\"},\"y_scale\":{\"id\":\"c89f36a2-55ed-456d-bfe7-b2294a37549f\",\"type\":\"LinearScale\"}},\"id\":\"89e84064-81ad-4dab-bbc4-dbe377a55d34\",\"subtype\":\"Figure\",\"type\":\"Plot\"},{\"attributes\":{},\"id\":\"3d79a8ca-b10b-4f8e-947f-e86e2df8d369\",\"type\":\"BasicTickFormatter\"},{\"attributes\":{\"callback\":null,\"column_names\":[\"x\",\"y\"],\"data\":{\"x\":[1,2,3,4,5],\"y\":[8,6,5,2,3]}},\"id\":\"b9c6ed2e-8007-41c9-81b6-b83f2821e54c\",\"type\":\"ColumnDataSource\"},{\"attributes\":{},\"id\":\"c89f36a2-55ed-456d-bfe7-b2294a37549f\",\"type\":\"LinearScale\"},{\"attributes\":{},\"id\":\"d12c0baa-87a0-4773-9ec0-49aca897adbf\",\"type\":\"PanTool\"},{\"attributes\":{\"active_drag\":\"auto\",\"active_inspect\":\"auto\",\"active_scroll\":\"auto\",\"active_tap\":\"auto\",\"tools\":[{\"id\":\"d12c0baa-87a0-4773-9ec0-49aca897adbf\",\"type\":\"PanTool\"},{\"id\":\"6d9bfd87-dcee-4005-b6b2-62614451c8cc\",\"type\":\"BoxZoomTool\"}]},\"id\":\"41c5f84e-fa4a-468d-bede-5ee0be79c049\",\"type\":\"Toolbar\"},{\"attributes\":{\"fill_alpha\":{\"value\":0.1},\"fill_color\":{\"value\":\"#1f77b4\"},\"line_alpha\":{\"value\":0.1},\"line_color\":{\"value\":\"#1f77b4\"},\"x\":{\"field\":\"x\"},\"y\":{\"field\":\"y\"}},\"id\":\"76daec1c-41ed-45a3-b310-d393d6037dff\",\"type\":\"Circle\"},{\"attributes\":{\"callback\":null},\"id\":\"353724d0-36f7-42d7-855a-4bb9dadd16d8\",\"type\":\"DataRange1d\"},{\"attributes\":{\"overlay\":{\"id\":\"0b9331ef-54a6-4a70-b05f-f7ec5e35ae32\",\"type\":\"BoxAnnotation\"}},\"id\":\"6d9bfd87-dcee-4005-b6b2-62614451c8cc\",\"type\":\"BoxZoomTool\"},{\"attributes\":{},\"id\":\"ee467c8e-c379-4f36-abb1-01716110f1ff\",\"type\":\"BasicTicker\"},{\"attributes\":{\"callback\":null},\"id\":\"a7cfe06f-f023-495e-a560-02b264b0258a\",\"type\":\"DataRange1d\"},{\"attributes\":{\"source\":{\"id\":\"b9c6ed2e-8007-41c9-81b6-b83f2821e54c\",\"type\":\"ColumnDataSource\"}},\"id\":\"3e1cb3d4-4cc1-4c83-826c-ce05a694cc4b\",\"type\":\"CDSView\"},{\"attributes\":{},\"id\":\"b563151d-7afe-4c3d-9858-fc1cb39da6e4\",\"type\":\"LinearScale\"},{\"attributes\":{\"data_source\":{\"id\":\"b9c6ed2e-8007-41c9-81b6-b83f2821e54c\",\"type\":\"ColumnDataSource\"},\"glyph\":{\"id\":\"e8f1bc2c-ace3-4362-8428-9bc72134f6b6\",\"type\":\"Circle\"},\"hover_glyph\":null,\"muted_glyph\":null,\"nonselection_glyph\":{\"id\":\"76daec1c-41ed-45a3-b310-d393d6037dff\",\"type\":\"Circle\"},\"selection_glyph\":null,\"view\":{\"id\":\"3e1cb3d4-4cc1-4c83-826c-ce05a694cc4b\",\"type\":\"CDSView\"}},\"id\":\"b8e451c9-0026-4780-a241-2010735ae864\",\"type\":\"GlyphRenderer\"},{\"attributes\":{\"plot\":null,\"text\":\"\"},\"id\":\"d476bb97-c726-4c33-9f25-745f8b0b3711\",\"type\":\"Title\"},{\"attributes\":{\"formatter\":{\"id\":\"3d79a8ca-b10b-4f8e-947f-e86e2df8d369\",\"type\":\"BasicTickFormatter\"},\"plot\":{\"id\":\"89e84064-81ad-4dab-bbc4-dbe377a55d34\",\"subtype\":\"Figure\",\"type\":\"Plot\"},\"ticker\":{\"id\":\"ee467c8e-c379-4f36-abb1-01716110f1ff\",\"type\":\"BasicTicker\"}},\"id\":\"e618ab2a-1e7e-44a8-910c-1fe0bf299c92\",\"type\":\"LinearAxis\"}],\"root_ids\":[\"89e84064-81ad-4dab-bbc4-dbe377a55d34\"]},\"title\":\"Bokeh Application\",\"version\":\"0.12.10\"}};\n",
       "    var render_items = [{\"docid\":\"7fc0a076-3911-46c5-b2d9-fb4f4d00d766\",\"elementid\":\"5598b23d-5bdc-4925-af84-dd6a6a4ff617\",\"modelid\":\"89e84064-81ad-4dab-bbc4-dbe377a55d34\"}];\n",
       "\n",
       "    root.Bokeh.embed.embed_items(docs_json, render_items);\n",
       "  }\n",
       "\n",
       "  if (root.Bokeh !== undefined) {\n",
       "    embed_document(root);\n",
       "  } else {\n",
       "    var attempts = 0;\n",
       "    var timer = setInterval(function(root) {\n",
       "      if (root.Bokeh !== undefined) {\n",
       "        embed_document(root);\n",
       "        clearInterval(timer);\n",
       "      }\n",
       "      attempts++;\n",
       "      if (attempts > 100) {\n",
       "        console.log(\"Bokeh: ERROR: Unable to embed document because BokehJS library is missing\")\n",
       "        clearInterval(timer);\n",
       "      }\n",
       "    }, 10, root)\n",
       "  }\n",
       "})(window);"
      ],
      "application/vnd.bokehjs_exec.v0+json": ""
     },
     "metadata": {
      "application/vnd.bokehjs_exec.v0+json": {
       "id": "89e84064-81ad-4dab-bbc4-dbe377a55d34"
      }
     },
     "output_type": "display_data"
    }
   ],
   "source": [
    "plot = figure(plot_width=400, tools = 'pan, box_zoom')\n",
    "plot.circle([1,2,3,4,5], [8,6,5,2,3])\n",
    "show(plot)"
   ]
  },
  {
   "cell_type": "markdown",
   "metadata": {},
   "source": [
    "#### Glyph properties\n",
    "- List, arrays, sequences of values will all work\n",
    "- Single fixed values can work (e.g things like color)\n"
   ]
  },
  {
   "cell_type": "code",
   "execution_count": 11,
   "metadata": {},
   "outputs": [
    {
     "data": {
      "text/html": [
       "\n",
       "<div class=\"bk-root\">\n",
       "    <div class=\"bk-plotdiv\" id=\"2d7192b1-7ebb-42e2-a964-12e79a8d323c\"></div>\n",
       "</div>"
      ]
     },
     "metadata": {},
     "output_type": "display_data"
    },
    {
     "data": {
      "application/javascript": [
       "(function(root) {\n",
       "  function embed_document(root) {\n",
       "    var docs_json = {\"3040cb1d-32e4-43b0-ab6e-bd4c5a70f5f4\":{\"roots\":{\"references\":[{\"attributes\":{\"source\":{\"id\":\"491b31c2-f3bc-4bd5-bd9e-e16cc48f9c46\",\"type\":\"ColumnDataSource\"}},\"id\":\"664cf6f2-2763-4b9e-bc63-1d6882abc5e2\",\"type\":\"CDSView\"},{\"attributes\":{\"dimension\":1,\"plot\":{\"id\":\"09ac32e4-3e29-4eb9-8f09-3e02a511c174\",\"subtype\":\"Figure\",\"type\":\"Plot\"},\"ticker\":{\"id\":\"1feee75c-6904-4b1a-ad47-f7ad49b781dc\",\"type\":\"BasicTicker\"}},\"id\":\"eb8fd1f5-4d56-4ffe-901d-12be6ddf5c77\",\"type\":\"Grid\"},{\"attributes\":{},\"id\":\"3e50edb1-2531-4d26-9314-5f2624718158\",\"type\":\"SaveTool\"},{\"attributes\":{},\"id\":\"5979b44c-0db0-4013-9c75-04f32dd26a70\",\"type\":\"BasicTickFormatter\"},{\"attributes\":{\"data_source\":{\"id\":\"491b31c2-f3bc-4bd5-bd9e-e16cc48f9c46\",\"type\":\"ColumnDataSource\"},\"glyph\":{\"id\":\"4b8b5478-4be3-4b54-8de3-43b21b50efe2\",\"type\":\"Circle\"},\"hover_glyph\":null,\"muted_glyph\":null,\"nonselection_glyph\":{\"id\":\"d586a3cf-9d39-4de8-9c7c-b16a975dc94b\",\"type\":\"Circle\"},\"selection_glyph\":null,\"view\":{\"id\":\"664cf6f2-2763-4b9e-bc63-1d6882abc5e2\",\"type\":\"CDSView\"}},\"id\":\"638a63cf-c116-4df9-abd4-d751d0051fe6\",\"type\":\"GlyphRenderer\"},{\"attributes\":{\"active_drag\":\"auto\",\"active_inspect\":\"auto\",\"active_scroll\":\"auto\",\"active_tap\":\"auto\",\"tools\":[{\"id\":\"08b00e0c-dc60-4bcb-8ec2-79fa501b81e7\",\"type\":\"PanTool\"},{\"id\":\"f7081736-8750-48cf-b5df-44a256f41ae5\",\"type\":\"WheelZoomTool\"},{\"id\":\"e84ef875-0fb1-43b0-87aa-f48658a430ec\",\"type\":\"BoxZoomTool\"},{\"id\":\"3e50edb1-2531-4d26-9314-5f2624718158\",\"type\":\"SaveTool\"},{\"id\":\"87f23719-e37c-440f-9693-1286df805c48\",\"type\":\"ResetTool\"},{\"id\":\"3ab8649e-2557-4c0d-9077-cf088aad9e75\",\"type\":\"HelpTool\"}]},\"id\":\"518453ea-38db-4ed7-824e-9e81f8830dae\",\"type\":\"Toolbar\"},{\"attributes\":{},\"id\":\"f7081736-8750-48cf-b5df-44a256f41ae5\",\"type\":\"WheelZoomTool\"},{\"attributes\":{},\"id\":\"08b00e0c-dc60-4bcb-8ec2-79fa501b81e7\",\"type\":\"PanTool\"},{\"attributes\":{},\"id\":\"8fe319ff-484b-4cc3-b092-e559f41ca287\",\"type\":\"BasicTickFormatter\"},{\"attributes\":{},\"id\":\"3ab8649e-2557-4c0d-9077-cf088aad9e75\",\"type\":\"HelpTool\"},{\"attributes\":{\"plot\":{\"id\":\"09ac32e4-3e29-4eb9-8f09-3e02a511c174\",\"subtype\":\"Figure\",\"type\":\"Plot\"},\"ticker\":{\"id\":\"8bceba2b-f6ec-4745-8954-cecf551dca18\",\"type\":\"BasicTicker\"}},\"id\":\"56c821eb-172a-469e-aef6-186b1c8fc33e\",\"type\":\"Grid\"},{\"attributes\":{\"fill_alpha\":{\"value\":0.1},\"fill_color\":{\"value\":\"#1f77b4\"},\"line_alpha\":{\"value\":0.1},\"line_color\":{\"value\":\"#1f77b4\"},\"size\":{\"field\":\"size\",\"units\":\"screen\"},\"x\":{\"value\":10},\"y\":{\"field\":\"y\"}},\"id\":\"d586a3cf-9d39-4de8-9c7c-b16a975dc94b\",\"type\":\"Circle\"},{\"attributes\":{\"callback\":null},\"id\":\"1f196eb8-a224-43e0-878a-b82591588198\",\"type\":\"DataRange1d\"},{\"attributes\":{},\"id\":\"8bceba2b-f6ec-4745-8954-cecf551dca18\",\"type\":\"BasicTicker\"},{\"attributes\":{\"callback\":null,\"column_names\":[\"size\",\"y\"],\"data\":{\"size\":[10,20,30,40],\"y\":[2,5,8,12]}},\"id\":\"491b31c2-f3bc-4bd5-bd9e-e16cc48f9c46\",\"type\":\"ColumnDataSource\"},{\"attributes\":{},\"id\":\"1feee75c-6904-4b1a-ad47-f7ad49b781dc\",\"type\":\"BasicTicker\"},{\"attributes\":{\"fill_color\":{\"value\":\"green\"},\"line_color\":{\"value\":\"green\"},\"size\":{\"field\":\"size\",\"units\":\"screen\"},\"x\":{\"value\":10},\"y\":{\"field\":\"y\"}},\"id\":\"4b8b5478-4be3-4b54-8de3-43b21b50efe2\",\"type\":\"Circle\"},{\"attributes\":{},\"id\":\"5d997652-fdcd-437c-b82e-91850e031f60\",\"type\":\"LinearScale\"},{\"attributes\":{\"below\":[{\"id\":\"79c03f78-a998-4838-8d89-f37e1c2e70fb\",\"type\":\"LinearAxis\"}],\"left\":[{\"id\":\"41117416-085a-4f73-bd25-d4a20b782a84\",\"type\":\"LinearAxis\"}],\"renderers\":[{\"id\":\"79c03f78-a998-4838-8d89-f37e1c2e70fb\",\"type\":\"LinearAxis\"},{\"id\":\"56c821eb-172a-469e-aef6-186b1c8fc33e\",\"type\":\"Grid\"},{\"id\":\"41117416-085a-4f73-bd25-d4a20b782a84\",\"type\":\"LinearAxis\"},{\"id\":\"eb8fd1f5-4d56-4ffe-901d-12be6ddf5c77\",\"type\":\"Grid\"},{\"id\":\"b9f72def-c4f3-4d37-b706-ab4695327a6b\",\"type\":\"BoxAnnotation\"},{\"id\":\"638a63cf-c116-4df9-abd4-d751d0051fe6\",\"type\":\"GlyphRenderer\"}],\"title\":{\"id\":\"72036420-d63c-4d64-b2d2-3e21f3c803e0\",\"type\":\"Title\"},\"toolbar\":{\"id\":\"518453ea-38db-4ed7-824e-9e81f8830dae\",\"type\":\"Toolbar\"},\"x_range\":{\"id\":\"1f196eb8-a224-43e0-878a-b82591588198\",\"type\":\"DataRange1d\"},\"x_scale\":{\"id\":\"5d997652-fdcd-437c-b82e-91850e031f60\",\"type\":\"LinearScale\"},\"y_range\":{\"id\":\"155ae8ce-2cc6-4d05-91ea-d252daccc68a\",\"type\":\"DataRange1d\"},\"y_scale\":{\"id\":\"81ca411a-3904-47fb-8934-b2a6e82726e0\",\"type\":\"LinearScale\"}},\"id\":\"09ac32e4-3e29-4eb9-8f09-3e02a511c174\",\"subtype\":\"Figure\",\"type\":\"Plot\"},{\"attributes\":{\"callback\":null},\"id\":\"155ae8ce-2cc6-4d05-91ea-d252daccc68a\",\"type\":\"DataRange1d\"},{\"attributes\":{},\"id\":\"81ca411a-3904-47fb-8934-b2a6e82726e0\",\"type\":\"LinearScale\"},{\"attributes\":{\"bottom_units\":\"screen\",\"fill_alpha\":{\"value\":0.5},\"fill_color\":{\"value\":\"lightgrey\"},\"left_units\":\"screen\",\"level\":\"overlay\",\"line_alpha\":{\"value\":1.0},\"line_color\":{\"value\":\"black\"},\"line_dash\":[4,4],\"line_width\":{\"value\":2},\"plot\":null,\"render_mode\":\"css\",\"right_units\":\"screen\",\"top_units\":\"screen\"},\"id\":\"b9f72def-c4f3-4d37-b706-ab4695327a6b\",\"type\":\"BoxAnnotation\"},{\"attributes\":{\"plot\":null,\"text\":\"\"},\"id\":\"72036420-d63c-4d64-b2d2-3e21f3c803e0\",\"type\":\"Title\"},{\"attributes\":{},\"id\":\"87f23719-e37c-440f-9693-1286df805c48\",\"type\":\"ResetTool\"},{\"attributes\":{\"overlay\":{\"id\":\"b9f72def-c4f3-4d37-b706-ab4695327a6b\",\"type\":\"BoxAnnotation\"}},\"id\":\"e84ef875-0fb1-43b0-87aa-f48658a430ec\",\"type\":\"BoxZoomTool\"},{\"attributes\":{\"formatter\":{\"id\":\"5979b44c-0db0-4013-9c75-04f32dd26a70\",\"type\":\"BasicTickFormatter\"},\"plot\":{\"id\":\"09ac32e4-3e29-4eb9-8f09-3e02a511c174\",\"subtype\":\"Figure\",\"type\":\"Plot\"},\"ticker\":{\"id\":\"8bceba2b-f6ec-4745-8954-cecf551dca18\",\"type\":\"BasicTicker\"}},\"id\":\"79c03f78-a998-4838-8d89-f37e1c2e70fb\",\"type\":\"LinearAxis\"},{\"attributes\":{\"formatter\":{\"id\":\"8fe319ff-484b-4cc3-b092-e559f41ca287\",\"type\":\"BasicTickFormatter\"},\"plot\":{\"id\":\"09ac32e4-3e29-4eb9-8f09-3e02a511c174\",\"subtype\":\"Figure\",\"type\":\"Plot\"},\"ticker\":{\"id\":\"1feee75c-6904-4b1a-ad47-f7ad49b781dc\",\"type\":\"BasicTicker\"}},\"id\":\"41117416-085a-4f73-bd25-d4a20b782a84\",\"type\":\"LinearAxis\"}],\"root_ids\":[\"09ac32e4-3e29-4eb9-8f09-3e02a511c174\"]},\"title\":\"Bokeh Application\",\"version\":\"0.12.10\"}};\n",
       "    var render_items = [{\"docid\":\"3040cb1d-32e4-43b0-ab6e-bd4c5a70f5f4\",\"elementid\":\"2d7192b1-7ebb-42e2-a964-12e79a8d323c\",\"modelid\":\"09ac32e4-3e29-4eb9-8f09-3e02a511c174\"}];\n",
       "\n",
       "    root.Bokeh.embed.embed_items(docs_json, render_items);\n",
       "  }\n",
       "\n",
       "  if (root.Bokeh !== undefined) {\n",
       "    embed_document(root);\n",
       "  } else {\n",
       "    var attempts = 0;\n",
       "    var timer = setInterval(function(root) {\n",
       "      if (root.Bokeh !== undefined) {\n",
       "        embed_document(root);\n",
       "        clearInterval(timer);\n",
       "      }\n",
       "      attempts++;\n",
       "      if (attempts > 100) {\n",
       "        console.log(\"Bokeh: ERROR: Unable to embed document because BokehJS library is missing\")\n",
       "        clearInterval(timer);\n",
       "      }\n",
       "    }, 10, root)\n",
       "  }\n",
       "})(window);"
      ],
      "application/vnd.bokehjs_exec.v0+json": ""
     },
     "metadata": {
      "application/vnd.bokehjs_exec.v0+json": {
       "id": "09ac32e4-3e29-4eb9-8f09-3e02a511c174"
      }
     },
     "output_type": "display_data"
    }
   ],
   "source": [
    "plot = figure()\n",
    "plot.circle(x=10, y=[2,5,8,12], size=[10,20,30,40], color = 'green')\n",
    "show(plot)"
   ]
  },
  {
   "cell_type": "markdown",
   "metadata": {},
   "source": [
    "#### Markers\n",
    "- We will just use circles here but there are many marker types\n",
    "- [bokeh markers](http://bokeh.pydata.org/en/latest/docs/gallery/markers.html)"
   ]
  },
  {
   "cell_type": "markdown",
   "metadata": {},
   "source": [
    "#### Another example I found on the web"
   ]
  },
  {
   "cell_type": "code",
   "execution_count": 54,
   "metadata": {},
   "outputs": [
    {
     "data": {
      "text/html": [
       "\n",
       "<div class=\"bk-root\">\n",
       "    <div class=\"bk-plotdiv\" id=\"539b7c4e-2e34-4056-8dc4-9dc9d662e13b\"></div>\n",
       "</div>"
      ]
     },
     "metadata": {},
     "output_type": "display_data"
    },
    {
     "data": {
      "application/javascript": [
       "(function(root) {\n",
       "  function embed_document(root) {\n",
       "    var docs_json = {\"85034d01-89aa-471c-bf74-6193537d45ce\":{\"roots\":{\"references\":[{\"attributes\":{},\"id\":\"ed8b364e-e169-40c8-a12e-46c3d0c41194\",\"type\":\"LinearScale\"},{\"attributes\":{\"callback\":null,\"column_names\":[\"radius\",\"x\",\"y\",\"fill_color\"],\"data\":{\"fill_color\":[\"#bb1e96\",\"#6a2c96\",\"#97a396\",\"#c89996\",\"#534396\",\"#9a5296\",\"#d73996\",\"#89b696\",\"#675f96\",\"#908e96\",\"#f84d96\",\"#c69096\",\"#9b4b96\",\"#b15796\",\"#3ad596\",\"#d86096\",\"#ac7896\",\"#768596\",\"#3aca96\",\"#8b5396\",\"#c82496\",\"#aa9c96\",\"#b68b96\",\"#dd7f96\",\"#394096\",\"#7c2496\",\"#533496\",\"#55dd96\",\"#8fb596\",\"#4a3c96\",\"#e35496\",\"#5bc896\",\"#cdc096\",\"#65b896\",\"#717596\",\"#e56f96\",\"#9be196\",\"#e5d596\",\"#8e4f96\",\"#d67996\",\"#b5d096\",\"#f7c996\",\"#de8b96\",\"#c98796\",\"#e7c496\",\"#4bb996\",\"#963296\",\"#d8b596\",\"#c63b96\",\"#843096\",\"#75cc96\",\"#b1ae96\",\"#609396\",\"#533896\",\"#d58a96\",\"#48c496\",\"#ee7596\",\"#997296\",\"#cd6f96\",\"#c26996\",\"#9d8096\",\"#ba6996\",\"#a44b96\",\"#74db96\",\"#4f8996\",\"#a68296\",\"#be6b96\",\"#d62096\",\"#4d5996\",\"#d7bf96\",\"#6ccf96\",\"#ab9996\",\"#d76396\",\"#e33096\",\"#bed996\",\"#8a7596\",\"#cc6c96\",\"#c67496\",\"#424896\",\"#af4b96\",\"#7d3296\",\"#d0c096\",\"#695696\",\"#b14e96\",\"#78ca96\",\"#443196\",\"#424996\",\"#9cdc96\",\"#ac5396\",\"#5e7996\",\"#6bb496\",\"#4ed996\",\"#931f96\",\"#56d396\",\"#989e96\",\"#79bd96\",\"#56b496\",\"#98c196\",\"#95d196\",\"#59ce96\",\"#5bb796\",\"#d53896\",\"#4d5096\",\"#d35596\",\"#843c96\",\"#5a5c96\",\"#f7b596\",\"#a6d696\",\"#998396\",\"#a96d96\",\"#dd7c96\",\"#4c4096\",\"#d32096\",\"#eba796\",\"#ccc096\",\"#9b3d96\",\"#a23a96\",\"#602196\",\"#a89896\",\"#e14896\",\"#e14d96\",\"#82d396\",\"#47c196\",\"#41ca96\",\"#669b96\",\"#99ca96\",\"#7dbb96\",\"#e9d696\",\"#a8e496\",\"#8e4a96\",\"#bc9c96\",\"#953396\",\"#a98496\",\"#f04696\",\"#dd6596\",\"#4c6696\",\"#9abd96\",\"#d83096\",\"#54ab96\",\"#82df96\",\"#9ed696\",\"#d61e96\",\"#606196\",\"#a14596\",\"#4d4a96\",\"#bf2196\",\"#c9e496\",\"#6a7796\",\"#a0ba96\",\"#766c96\",\"#47ca96\",\"#c63896\",\"#a37896\",\"#906996\",\"#d52396\",\"#3bb796\",\"#6bbe96\",\"#82af96\",\"#904596\",\"#e6a696\",\"#bfc696\",\"#957996\",\"#d39596\",\"#9fe296\",\"#9eac96\",\"#f05f96\",\"#c66696\",\"#984c96\",\"#f39796\",\"#a76f96\",\"#c77f96\",\"#5f2a96\",\"#d5dd96\",\"#a0ae96\",\"#8ed596\",\"#3a5c96\",\"#4a6896\",\"#4fa996\",\"#415596\",\"#592696\",\"#8e3b96\",\"#785d96\",\"#c2b496\",\"#402496\",\"#645e96\",\"#e8c196\",\"#bf4696\",\"#f02696\",\"#77d096\",\"#ba9d96\",\"#9f5696\",\"#bfe496\",\"#609a96\",\"#e47696\",\"#a85596\",\"#513d96\",\"#8b6096\",\"#b45d96\",\"#7da696\",\"#489996\",\"#403396\",\"#35c996\",\"#c1a296\",\"#945a96\",\"#902396\",\"#9d4a96\",\"#416496\",\"#7a3096\",\"#dc9596\",\"#868296\",\"#c8c296\",\"#975c96\",\"#eba596\",\"#95a596\",\"#609b96\",\"#812696\",\"#58e596\",\"#f59696\",\"#bc9696\",\"#419196\",\"#5d7196\",\"#aa2396\",\"#ca2b96\",\"#e53b96\",\"#5a6496\",\"#cba496\",\"#be6e96\",\"#b96796\",\"#5d8296\",\"#cbbc96\",\"#98a596\",\"#4dab96\",\"#ee4496\",\"#4a4796\",\"#f98296\",\"#a2c296\",\"#89aa96\",\"#54b396\",\"#7c7d96\",\"#a34296\",\"#582596\",\"#d46696\",\"#4d8a96\",\"#625a96\",\"#bba196\",\"#acd496\",\"#86ae96\",\"#41c796\",\"#452d96\",\"#b22396\",\"#f86796\",\"#b75796\",\"#dcb296\",\"#de9f96\",\"#6cd596\",\"#e3df96\",\"#bd4896\",\"#388196\",\"#cb5196\",\"#797496\",\"#68e596\",\"#b78996\",\"#519896\",\"#f79396\",\"#7b4496\",\"#f5a996\",\"#495b96\",\"#423f96\",\"#abad96\",\"#684796\",\"#edcd96\",\"#e14096\",\"#f85996\",\"#955996\",\"#516b96\",\"#c39296\",\"#dd9496\",\"#cf8d96\",\"#9d2396\",\"#35a096\",\"#ae4396\",\"#429996\",\"#a37296\",\"#58d096\",\"#cb8e96\",\"#e9b396\",\"#dee396\",\"#385396\",\"#855496\",\"#a04296\",\"#898b96\",\"#b14d96\",\"#4ad496\",\"#74d896\",\"#dc2496\",\"#dfe596\",\"#c39d96\",\"#565796\",\"#bb5196\",\"#5ac796\",\"#9f7096\",\"#579f96\",\"#74dd96\",\"#7cde96\",\"#783696\",\"#ee6796\",\"#83bf96\",\"#53b196\",\"#467c96\",\"#f82f96\",\"#ad6a96\",\"#5ba196\",\"#996b96\",\"#f42596\",\"#dea996\",\"#4bcb96\",\"#622a96\",\"#9de396\",\"#61ca96\",\"#3b7696\",\"#388596\",\"#602196\",\"#659a96\",\"#54c096\",\"#8c5c96\",\"#3bba96\",\"#793296\",\"#d88c96\",\"#889696\",\"#cbc396\",\"#a43296\",\"#804096\",\"#5ec396\",\"#a98196\",\"#e84096\",\"#d33296\",\"#98e096\",\"#bad496\",\"#774e96\",\"#395996\",\"#82e096\",\"#bb6896\",\"#f16996\",\"#bbb196\",\"#79d796\",\"#517396\",\"#7aa796\",\"#c06f96\",\"#32cb96\",\"#cf2f96\",\"#aae096\",\"#d59096\",\"#773896\",\"#6c3996\",\"#bc2d96\",\"#c6dc96\",\"#eba496\",\"#ce3c96\",\"#a89b96\",\"#a82196\",\"#4ead96\",\"#ab6496\",\"#4b9f96\",\"#f9d796\",\"#a72896\",\"#a14596\",\"#d79b96\",\"#e73d96\",\"#d7d396\",\"#44bb96\",\"#ee9296\",\"#963596\",\"#ab5596\",\"#babd96\",\"#9e4696\",\"#99a996\",\"#5baa96\",\"#3a9296\",\"#48c196\",\"#71cd96\",\"#ea7b96\",\"#de7d96\",\"#f33896\",\"#68c196\",\"#743696\",\"#c9b796\",\"#718a96\",\"#b15096\",\"#43b596\",\"#626b96\",\"#f07096\",\"#bb4f96\",\"#528996\",\"#a44696\",\"#962496\",\"#46b496\",\"#77cf96\",\"#c8b196\",\"#3dc696\",\"#57b496\",\"#686596\",\"#f34c96\",\"#9b2896\",\"#576a96\",\"#d69596\",\"#b23e96\",\"#d37a96\",\"#e35b96\",\"#cc3096\",\"#56b296\",\"#f9cd96\",\"#8c3b96\",\"#dd4896\",\"#c73396\",\"#933496\",\"#b4a496\",\"#dc9596\",\"#9c3d96\",\"#f92d96\",\"#c5a196\",\"#5bd296\",\"#d6bd96\",\"#873f96\",\"#cacb96\",\"#bcaa96\",\"#7e6196\",\"#60da96\",\"#c86196\",\"#4b8596\",\"#40ae96\",\"#78d796\",\"#7a9a96\",\"#7adc96\",\"#468196\",\"#3c2296\",\"#861e96\",\"#4b8d96\",\"#d77696\",\"#417e96\",\"#617396\",\"#619d96\",\"#592f96\",\"#bf8296\",\"#605196\",\"#ebd096\",\"#643b96\",\"#f18496\",\"#a42a96\",\"#f53a96\",\"#b5c096\",\"#875496\",\"#689396\",\"#4dc896\",\"#787396\",\"#cf9f96\",\"#807996\",\"#917496\",\"#b7c896\",\"#553a96\",\"#b67096\",\"#90bf96\",\"#a53296\",\"#525696\",\"#836f96\",\"#7ca296\",\"#e46896\",\"#a7d296\",\"#7f8496\",\"#576096\",\"#646196\",\"#716796\",\"#c14e96\",\"#a45596\",\"#e02296\",\"#c8b696\",\"#751e96\",\"#c09f96\",\"#404796\",\"#36a296\",\"#7ee296\",\"#e23696\",\"#46aa96\",\"#5b5996\",\"#c1b396\",\"#ede196\",\"#9aa296\",\"#e65696\",\"#9d7596\",\"#674796\",\"#ebc896\",\"#d4b596\",\"#3a6896\",\"#c45a96\",\"#516c96\",\"#c69296\",\"#de7f96\",\"#4a6296\",\"#764b96\",\"#42b396\",\"#38be96\",\"#6d6796\",\"#625596\",\"#ad6796\",\"#af4596\",\"#c93a96\",\"#389396\",\"#4e6e96\",\"#6b8196\",\"#449c96\",\"#36b896\",\"#a2c196\",\"#3f7996\",\"#f94696\",\"#b6a796\",\"#537d96\",\"#472c96\",\"#ed2496\",\"#6ed796\",\"#648096\",\"#7c3396\",\"#4c8296\",\"#ae2f96\",\"#dcab96\",\"#db5e96\",\"#cc3396\",\"#59ae96\",\"#419396\",\"#703b96\",\"#85d796\",\"#72d796\",\"#bfc496\",\"#df8396\",\"#492c96\",\"#b77896\",\"#bb8996\",\"#598396\",\"#53a296\",\"#784596\",\"#558796\",\"#566b96\",\"#38dd96\",\"#db7c96\",\"#e74e96\",\"#7c9d96\",\"#8b7396\",\"#d76796\",\"#b3db96\",\"#577096\",\"#3b2c96\",\"#773f96\",\"#b16496\",\"#5d2a96\",\"#3f7a96\",\"#5a7196\",\"#b17196\",\"#c58e96\",\"#b4e196\",\"#79de96\",\"#648196\",\"#7bc796\",\"#b26896\",\"#735296\",\"#6c6f96\",\"#997396\",\"#95c496\",\"#73ca96\",\"#676496\",\"#3bcc96\",\"#703796\",\"#676e96\",\"#334696\",\"#674496\",\"#6c7e96\",\"#d9b496\",\"#90c796\",\"#a7b396\",\"#d6c296\",\"#937d96\",\"#785296\",\"#96c596\",\"#e36696\",\"#d5cf96\",\"#717b96\",\"#7d4f96\",\"#4e8796\",\"#5b8c96\",\"#f87f96\",\"#69d996\",\"#9fd896\",\"#558796\",\"#333c96\",\"#c94c96\",\"#de9396\",\"#656196\",\"#a88f96\",\"#a0c596\",\"#5f7396\",\"#798796\",\"#548096\",\"#e25596\",\"#76d696\",\"#967796\",\"#a5c596\",\"#6bc396\",\"#7f6296\",\"#e8be96\",\"#35a696\",\"#78d496\",\"#c3e096\",\"#5b2d96\",\"#909b96\",\"#cdb296\",\"#3d6e96\",\"#5e3596\",\"#5f8096\",\"#bc5d96\",\"#5b6496\",\"#b2be96\",\"#431e96\",\"#47e396\",\"#469396\",\"#caa296\",\"#776796\",\"#ec9b96\",\"#947796\",\"#82e096\",\"#4fb396\",\"#468396\",\"#815996\",\"#acd396\",\"#95de96\",\"#e79496\",\"#813b96\",\"#555b96\",\"#ea5396\",\"#873b96\",\"#c79996\",\"#949b96\",\"#773a96\",\"#d1cf96\",\"#ecd596\",\"#d33796\",\"#cfd996\",\"#3a2896\",\"#c49196\",\"#f27696\",\"#ef5896\",\"#b4ce96\",\"#528d96\",\"#592296\",\"#a43496\",\"#eb9e96\",\"#cc5196\",\"#76c596\",\"#326396\",\"#774596\",\"#6d6f96\",\"#a0db96\",\"#53a696\",\"#607996\",\"#71bb96\",\"#7d8996\",\"#624696\",\"#60a596\",\"#ed9596\",\"#daa296\",\"#7c2796\",\"#913e96\",\"#eccf96\",\"#c8c396\",\"#b34296\",\"#b76b96\",\"#ebe496\",\"#9c4a96\",\"#e12c96\",\"#c92c96\",\"#99e496\",\"#bac696\",\"#4f9f96\",\"#326896\",\"#89d396\",\"#98c696\",\"#666c96\",\"#744896\",\"#8ac196\",\"#378c96\",\"#a58b96\",\"#69e296\",\"#a17496\",\"#efa196\",\"#c32296\",\"#ab3496\",\"#586696\",\"#55b496\",\"#ed9d96\",\"#415f96\",\"#e02a96\",\"#de9096\",\"#5e2f96\",\"#50e196\",\"#b56296\",\"#cc7096\",\"#5f6c96\",\"#798096\",\"#3f8496\",\"#dfd796\",\"#c98d96\",\"#dea796\",\"#d68b96\",\"#d1a296\",\"#d54a96\",\"#ee5e96\",\"#e5b096\",\"#4bb996\",\"#b93396\",\"#9d8496\",\"#95cd96\",\"#f47b96\",\"#93a996\",\"#efbd96\",\"#c86e96\",\"#f6e496\",\"#492696\",\"#477d96\",\"#5f4296\",\"#45c396\",\"#82a096\",\"#7b8396\",\"#c3be96\",\"#c69496\",\"#863996\",\"#54a296\",\"#f72b96\",\"#ad5b96\",\"#a77f96\",\"#85b796\",\"#a36a96\",\"#ad7796\",\"#b9b196\",\"#55c896\",\"#80cd96\",\"#50a596\",\"#f74296\",\"#723196\",\"#9cde96\",\"#dda596\",\"#f7cc96\",\"#cb8096\",\"#d94f96\",\"#c22896\",\"#8fc296\",\"#6d3a96\",\"#a58a96\",\"#f5bf96\",\"#658a96\",\"#67d096\",\"#6a6a96\",\"#839596\",\"#d98396\",\"#765496\",\"#732196\",\"#f78f96\",\"#aa7a96\",\"#e66a96\",\"#837896\",\"#e2a996\",\"#597a96\",\"#c93796\",\"#659c96\",\"#c6d596\",\"#58dc96\",\"#c8d396\",\"#a24d96\",\"#693d96\",\"#b59196\",\"#403696\",\"#53af96\",\"#c87896\",\"#6b9996\",\"#385696\",\"#c69396\",\"#9fd096\",\"#682496\",\"#5b9b96\",\"#464696\",\"#4e4696\",\"#3a8596\",\"#449796\",\"#b1d796\",\"#8ca196\",\"#e24596\",\"#84db96\",\"#acbd96\",\"#492d96\",\"#61b596\",\"#f9ac96\",\"#ab7496\",\"#788296\",\"#df4a96\",\"#71e396\",\"#ee7a96\",\"#962296\",\"#95c396\",\"#91aa96\",\"#3c9096\",\"#d83096\",\"#8e9496\",\"#ac9496\",\"#932196\",\"#df5396\",\"#3a3c96\",\"#8f2596\",\"#4f4d96\",\"#3c5e96\",\"#542596\",\"#446396\",\"#de9396\",\"#3e2596\",\"#c44c96\",\"#903696\",\"#814c96\",\"#615c96\",\"#542c96\",\"#91a696\",\"#788a96\",\"#6f3896\",\"#765396\",\"#9bde96\",\"#e48e96\",\"#3c4a96\",\"#5c5796\",\"#df4f96\",\"#b98896\",\"#743596\",\"#ebaa96\",\"#e64c96\",\"#728796\",\"#baa296\",\"#366096\",\"#42c496\",\"#e76096\",\"#add896\",\"#55de96\",\"#b87296\",\"#50e296\",\"#b87596\",\"#bec696\",\"#7dde96\",\"#ad1f96\",\"#d9de96\",\"#f95a96\",\"#6ad296\",\"#826396\",\"#f4b296\",\"#5b2e96\",\"#94a696\",\"#844696\",\"#355096\",\"#694e96\",\"#3f2f96\",\"#aaab96\",\"#c3d996\",\"#645496\",\"#5dac96\",\"#8ea096\",\"#3e8296\",\"#7ae496\",\"#d84b96\",\"#85c196\",\"#df2596\",\"#9a1f96\",\"#a25f96\",\"#586b96\",\"#498b96\",\"#4a5596\",\"#d09896\",\"#675996\",\"#5a6296\",\"#b24296\",\"#9ddd96\",\"#cd3196\",\"#78d096\",\"#d83996\",\"#352796\",\"#60d996\",\"#538b96\",\"#c28396\",\"#e05896\",\"#de3796\",\"#b3c496\",\"#a7ca96\",\"#5a3496\",\"#484796\",\"#99e596\",\"#e77996\",\"#37b396\",\"#61ab96\",\"#d15896\",\"#d12696\",\"#d64396\",\"#59d896\",\"#393b96\",\"#6da096\",\"#7f8496\",\"#799e96\",\"#45be96\",\"#717396\",\"#60c096\",\"#7f2696\",\"#774996\",\"#c69196\",\"#d9d596\",\"#ebdd96\",\"#e87f96\",\"#f71e96\",\"#9c2396\",\"#b46f96\",\"#3e9b96\",\"#e2b796\",\"#3c8f96\",\"#4f8796\",\"#479196\",\"#58d496\",\"#86b096\",\"#65e196\",\"#a92c96\",\"#d14996\",\"#df7e96\",\"#eb9196\",\"#592e96\",\"#c65996\",\"#f5d196\",\"#735296\",\"#ecbb96\",\"#664d96\",\"#ea4f96\",\"#5a7c96\",\"#844796\",\"#916096\",\"#36ac96\",\"#7ab396\",\"#a0cd96\",\"#a78696\",\"#79de96\",\"#65b196\",\"#a38796\",\"#6e2a96\",\"#524196\",\"#b64e96\",\"#487496\",\"#32c596\",\"#be4b96\",\"#e7ad96\",\"#cb2996\",\"#b9c996\",\"#58c596\",\"#774096\",\"#c1c196\",\"#bb9296\",\"#ed6396\",\"#947996\",\"#7f7496\",\"#9a8e96\",\"#864c96\",\"#c79396\",\"#cbe396\",\"#8ac696\",\"#ae2c96\",\"#e25c96\",\"#797e96\",\"#95b596\",\"#ae4196\",\"#477496\",\"#acbd96\",\"#d94696\",\"#bc4f96\",\"#c0c296\",\"#798096\",\"#9b4c96\",\"#84bf96\",\"#4c7c96\",\"#acce96\",\"#489496\",\"#9c9896\",\"#8e9096\",\"#e74f96\",\"#e6e496\",\"#ee3296\",\"#a46096\",\"#435e96\",\"#d45196\",\"#a1b196\",\"#515a96\",\"#a76996\",\"#498d96\",\"#b48396\",\"#389896\",\"#c78a96\",\"#ab7096\",\"#aea696\",\"#8cb796\",\"#718296\",\"#6caa96\",\"#d5de96\",\"#dfc596\",\"#cae096\",\"#5a2096\",\"#9c8896\",\"#493996\",\"#923f96\",\"#889396\",\"#73a696\",\"#7f3f96\",\"#5db696\",\"#3aa596\",\"#db4d96\",\"#8f5396\",\"#c86d96\",\"#5e9e96\",\"#a2e096\",\"#78a196\",\"#b58096\",\"#70b496\",\"#f6b696\",\"#c87496\",\"#929e96\",\"#bb6d96\",\"#c74d96\",\"#b78596\",\"#4a5f96\",\"#e7c196\",\"#42bc96\",\"#a7c196\",\"#9fcf96\",\"#357396\",\"#6e2696\",\"#508396\",\"#aaa296\",\"#c09096\",\"#bf8d96\",\"#479d96\",\"#cc5e96\",\"#d9e196\",\"#cb9b96\",\"#525596\",\"#ec2296\",\"#8f8c96\",\"#865296\",\"#d42796\",\"#d4c496\",\"#bb2696\",\"#8e3796\",\"#695d96\",\"#c42096\",\"#f3d396\",\"#334096\",\"#462e96\",\"#772696\",\"#7c7e96\",\"#3d2796\",\"#674496\",\"#725496\",\"#448b96\",\"#cc4396\",\"#f9d896\",\"#9c4896\",\"#93a196\",\"#4e9d96\",\"#be8a96\",\"#c33a96\",\"#448d96\",\"#c77f96\",\"#708796\",\"#6e9896\",\"#6ca796\",\"#b4ba96\",\"#c42a96\",\"#9ade96\",\"#97ad96\",\"#904496\",\"#cb5b96\",\"#5b8896\",\"#92e496\",\"#4fd396\",\"#adc696\",\"#7bae96\",\"#3be396\",\"#e14096\",\"#715c96\",\"#763a96\",\"#5cbd96\",\"#c9de96\",\"#4e4796\",\"#478196\",\"#625796\",\"#e7e396\",\"#cec296\",\"#cf7096\",\"#533696\",\"#7ba496\",\"#63d296\",\"#87aa96\",\"#6ca496\",\"#464796\",\"#80d896\",\"#ba6a96\",\"#dfdc96\",\"#656b96\",\"#e07596\",\"#7a7c96\",\"#5fa996\",\"#951e96\",\"#f53296\",\"#a9b896\",\"#a3bc96\",\"#8ba996\",\"#6e6c96\",\"#4f8096\",\"#a5d396\",\"#e96396\",\"#7d4b96\",\"#824f96\",\"#9bda96\",\"#e2c596\",\"#4edc96\",\"#cbb496\",\"#efdb96\",\"#b08696\",\"#628496\",\"#dd2096\",\"#4f9c96\",\"#f6cb96\",\"#e56796\",\"#e5b796\",\"#b2c396\",\"#bbcc96\",\"#b25b96\",\"#50a596\",\"#5d3096\",\"#537396\",\"#f88d96\",\"#453796\",\"#c44a96\",\"#972a96\",\"#d43b96\",\"#539b96\",\"#6a2d96\",\"#691e96\",\"#a15096\",\"#f4b196\",\"#7eb096\",\"#382b96\",\"#4bae96\",\"#4f9196\",\"#558196\",\"#d2ce96\",\"#e2d496\",\"#702396\",\"#698b96\",\"#528596\",\"#f92b96\",\"#b42e96\",\"#a46b96\",\"#883596\",\"#f8dc96\",\"#529696\",\"#e4b496\",\"#47a696\",\"#b43a96\",\"#4d6096\",\"#d92d96\",\"#357c96\",\"#3e2596\",\"#bc6796\",\"#5fce96\",\"#7b6d96\",\"#f2e496\",\"#974196\",\"#8c8596\",\"#da8696\",\"#f8ac96\",\"#90bd96\",\"#6ccb96\",\"#6f9c96\",\"#e72796\",\"#46ce96\",\"#8f4296\",\"#97d896\",\"#339996\",\"#7cd096\",\"#a07e96\",\"#e9dc96\",\"#3fc496\",\"#ee4196\",\"#4b9a96\",\"#c48a96\",\"#edbe96\",\"#8f7196\",\"#ae2596\",\"#83a296\",\"#753396\",\"#ea8396\",\"#a84296\",\"#3b2996\",\"#d5ba96\",\"#c03f96\",\"#596796\",\"#afb396\",\"#bb7d96\",\"#6bdd96\",\"#4ab596\",\"#bb6396\",\"#6ea796\",\"#a43c96\",\"#e79696\",\"#8d9f96\",\"#d5cd96\",\"#5d9296\",\"#695596\",\"#747596\",\"#e74396\",\"#9b3a96\",\"#8bd896\",\"#8ee596\",\"#c65196\",\"#e4a496\",\"#667c96\",\"#427296\",\"#4b3296\",\"#4fd096\",\"#4b2896\",\"#582d96\",\"#a65696\",\"#cab596\",\"#668696\",\"#e09796\",\"#798696\",\"#584b96\",\"#bfcf96\",\"#a1b196\",\"#d2e396\",\"#d3c996\",\"#9e8d96\",\"#369e96\",\"#a77f96\",\"#7b3396\",\"#e32796\",\"#d06996\",\"#7ad696\",\"#d27796\",\"#5d6a96\",\"#eb3c96\",\"#8c9996\",\"#3eb196\",\"#462e96\",\"#5d7c96\",\"#9f2496\",\"#a97a96\",\"#9c5396\",\"#5cc496\",\"#452a96\",\"#559696\",\"#e86596\",\"#ee8f96\",\"#6d5f96\",\"#f42c96\",\"#a7c796\",\"#c6d396\",\"#df5b96\",\"#c44696\",\"#c8b696\",\"#de5196\",\"#3c8196\",\"#c37396\",\"#3a5996\",\"#e63496\",\"#839596\",\"#c59e96\",\"#8aab96\",\"#512396\",\"#33c296\",\"#c4be96\",\"#c39396\",\"#c05d96\",\"#3d3796\",\"#a52e96\",\"#b86296\",\"#9c8f96\",\"#58e196\",\"#979b96\",\"#56ca96\",\"#f1af96\",\"#c48296\",\"#776e96\",\"#768996\",\"#a55e96\",\"#5fa096\",\"#78e396\",\"#c87b96\",\"#455496\",\"#baa796\",\"#e3b696\",\"#45c296\",\"#349996\",\"#ecaf96\",\"#986496\",\"#506196\",\"#895796\",\"#413c96\",\"#505896\",\"#422196\",\"#7a3696\",\"#c98596\",\"#7faa96\",\"#c48096\",\"#e79996\",\"#563c96\",\"#882396\",\"#6a6696\",\"#c5bc96\",\"#b03e96\",\"#715596\",\"#686896\",\"#8a5996\",\"#b66596\",\"#949c96\",\"#35cd96\",\"#aeb396\",\"#b39596\",\"#a8d196\",\"#529596\",\"#4b3b96\",\"#e83496\",\"#78a996\",\"#5c2996\",\"#76c196\",\"#aec596\",\"#a72896\",\"#8f8496\",\"#df7996\",\"#568996\",\"#f69296\",\"#9dd996\",\"#3dc896\",\"#ea5a96\",\"#805e96\",\"#e7b896\",\"#85aa96\",\"#f06c96\",\"#379496\",\"#b67e96\",\"#b82e96\",\"#6d8596\",\"#436f96\",\"#64d296\",\"#7b4796\",\"#d59c96\",\"#875896\",\"#453f96\",\"#bec496\",\"#94c696\",\"#378796\",\"#abba96\",\"#9eb396\",\"#79cc96\",\"#f1e296\",\"#66a696\",\"#d07d96\",\"#614496\",\"#40b396\",\"#b67496\",\"#d42896\",\"#329496\",\"#6c5896\",\"#778096\",\"#dd2696\",\"#4e4796\",\"#612696\",\"#7e2a96\",\"#dbb296\",\"#d66a96\",\"#a9cc96\",\"#c8de96\",\"#cdd796\",\"#ec9e96\",\"#ef4196\",\"#3b8d96\",\"#cc7396\",\"#ad2996\",\"#ba8396\",\"#59bd96\",\"#e6ad96\",\"#e93696\",\"#6a3d96\",\"#bfbf96\",\"#e6d196\",\"#8a4196\",\"#bf6a96\",\"#798996\",\"#943c96\",\"#a53696\",\"#cf5c96\",\"#5e7a96\",\"#cd2596\",\"#a4a696\",\"#39dd96\",\"#d69096\",\"#559096\",\"#94d996\",\"#67cf96\",\"#9d7696\",\"#d52d96\",\"#478796\",\"#723296\",\"#a43a96\",\"#4dc096\",\"#613196\",\"#516a96\",\"#c16796\",\"#dabb96\",\"#99e396\",\"#cda696\",\"#36b996\",\"#7b4f96\",\"#b7ba96\",\"#392096\",\"#ce4196\",\"#4f4496\",\"#734696\",\"#3d5796\",\"#576296\",\"#f46c96\",\"#58a896\",\"#879196\",\"#a83e96\",\"#5fa996\",\"#a3dc96\",\"#4f5d96\",\"#7e8796\",\"#e59596\",\"#f43996\",\"#a3e296\",\"#3b6396\",\"#9bb796\",\"#e98096\",\"#828296\",\"#b48d96\",\"#db3b96\",\"#6c7796\",\"#529b96\",\"#e05b96\",\"#e98296\",\"#359896\",\"#ea2996\",\"#6ea796\",\"#af8b96\",\"#676996\",\"#3a5896\",\"#859b96\",\"#7c7396\",\"#d3b996\",\"#56e496\",\"#4cb896\",\"#f36896\",\"#424e96\",\"#e77196\",\"#549d96\",\"#41ba96\",\"#552496\",\"#df2196\",\"#372d96\",\"#79a196\",\"#bdc096\",\"#5e4e96\",\"#8cb796\",\"#6f2396\",\"#cb7b96\",\"#d27596\",\"#65b896\",\"#90d996\",\"#734396\",\"#48a396\",\"#88d696\",\"#bab496\",\"#5fe396\",\"#5c5d96\",\"#36c696\",\"#b62f96\",\"#5d4c96\",\"#915296\",\"#f0c196\",\"#7c6596\",\"#b76096\",\"#443196\",\"#95e196\",\"#8ade96\",\"#62a196\",\"#94c096\",\"#7ed496\",\"#9fb696\",\"#864896\",\"#7ec996\",\"#bb4596\",\"#cd6396\",\"#c1c696\",\"#482496\",\"#4cdd96\",\"#87a296\",\"#5a6596\",\"#bb6d96\",\"#838d96\",\"#505196\",\"#3e4f96\",\"#bd8096\",\"#775396\",\"#372596\",\"#372d96\",\"#ed2896\",\"#362496\",\"#ded596\",\"#f72796\",\"#bd7896\",\"#edd396\",\"#dc6c96\",\"#50d396\",\"#825e96\",\"#81d996\",\"#74da96\",\"#959296\",\"#778096\",\"#7d3196\",\"#946c96\",\"#452296\",\"#44a696\",\"#ed2b96\",\"#62d096\",\"#439c96\",\"#376e96\",\"#a07196\",\"#d27c96\",\"#c8ad96\",\"#cea196\",\"#484b96\",\"#f7b796\",\"#f63596\",\"#92e396\",\"#c4a496\",\"#d13396\",\"#9e8796\",\"#b25d96\",\"#4d8396\",\"#47a396\",\"#c05696\",\"#688596\",\"#799a96\",\"#728a96\",\"#d18d96\",\"#d76596\",\"#3ab696\",\"#6b5996\",\"#9e9796\",\"#f9a596\",\"#e93896\",\"#d66196\",\"#7aa596\",\"#953b96\",\"#a65596\",\"#81ca96\",\"#b14596\",\"#9db996\",\"#e29096\",\"#886896\",\"#634196\",\"#8eb296\",\"#596896\",\"#799696\",\"#dc9996\",\"#a1b596\",\"#51b096\",\"#ad2096\",\"#ad9496\",\"#b5ce96\",\"#bacd96\",\"#723c96\",\"#d82496\",\"#756496\",\"#ef4a96\",\"#4a9396\",\"#818496\",\"#444696\",\"#f48096\",\"#4c4396\",\"#3d8796\",\"#3a4296\",\"#64dc96\",\"#a93d96\",\"#6f9e96\",\"#d45596\",\"#558296\",\"#356e96\",\"#3dd496\",\"#8a9a96\",\"#57de96\",\"#a14396\",\"#adb896\",\"#6edd96\",\"#496596\",\"#c88d96\",\"#4b4196\",\"#41de96\",\"#40ae96\",\"#809596\",\"#4b4d96\",\"#8b3496\",\"#71b896\",\"#7d4496\",\"#433596\",\"#7ac296\",\"#e05196\",\"#93b696\",\"#689796\",\"#8c8b96\",\"#d3a696\",\"#5fcf96\",\"#526896\",\"#6b5d96\",\"#e45496\",\"#895296\",\"#705e96\",\"#d9a696\",\"#e69f96\",\"#47e496\",\"#f35396\",\"#86d496\",\"#3ed296\",\"#492f96\",\"#83c596\",\"#5db096\",\"#7fbe96\",\"#dd2b96\",\"#81d996\",\"#58bc96\",\"#724096\",\"#b5bc96\",\"#ce4896\",\"#b0df96\",\"#4cc596\",\"#949696\",\"#b63f96\",\"#8a7096\",\"#8c6596\",\"#d27196\",\"#428e96\",\"#ab8a96\",\"#df3996\",\"#892296\",\"#554b96\",\"#ca6996\",\"#796996\",\"#c67d96\",\"#416396\",\"#4e6b96\",\"#3a7596\",\"#8b4396\",\"#f59796\",\"#f3e096\",\"#ebda96\",\"#887e96\",\"#f3b196\",\"#e0cf96\",\"#b4a296\",\"#a8e196\",\"#a76796\",\"#595696\",\"#66d996\",\"#9d6b96\",\"#c12896\",\"#68cb96\",\"#d5b696\",\"#665c96\",\"#7c2896\",\"#6c3196\",\"#474596\",\"#f38b96\",\"#554396\",\"#c35396\",\"#a66196\",\"#b23696\",\"#8ea896\",\"#e84996\",\"#a24296\",\"#737f96\",\"#f77796\",\"#ca9496\",\"#584896\",\"#4d5796\",\"#54e596\",\"#d4c596\",\"#d18b96\",\"#956b96\",\"#5eb396\",\"#a2bb96\",\"#9f2396\",\"#8bb396\",\"#684596\",\"#86a396\",\"#a35a96\",\"#498696\",\"#966696\",\"#5a5996\",\"#a99096\",\"#c2b096\",\"#7dc296\",\"#e1bd96\",\"#abac96\",\"#67e296\",\"#ccae96\",\"#a6da96\",\"#4a6696\",\"#a1b596\",\"#ca3a96\",\"#513a96\",\"#cc7796\",\"#f15996\",\"#363c96\",\"#f2a896\",\"#c23796\",\"#aa5496\",\"#40e396\",\"#32ba96\",\"#e93396\",\"#d74c96\",\"#349196\",\"#a35596\",\"#8ca696\",\"#48ce96\",\"#4cd396\",\"#b29296\",\"#afa696\",\"#526596\",\"#71ab96\",\"#5c6f96\",\"#9e8696\",\"#ab7f96\",\"#c65096\",\"#e1d596\",\"#c62e96\",\"#d48996\",\"#f3a596\",\"#478896\",\"#c55096\",\"#bf6e96\",\"#c19096\",\"#585f96\",\"#ace596\",\"#5f5d96\",\"#f27296\",\"#a44c96\",\"#9ee496\",\"#408896\",\"#e73596\",\"#b42496\",\"#4a5796\",\"#8e6096\",\"#bedd96\",\"#8c8696\",\"#64ba96\",\"#622796\",\"#396a96\",\"#4ca896\",\"#4e7e96\",\"#f78096\",\"#97c496\",\"#4d2896\",\"#85d396\",\"#d96396\",\"#95ca96\",\"#8bc696\",\"#7adb96\",\"#a35796\",\"#dfa796\",\"#c3c496\",\"#a22c96\",\"#76a696\",\"#c91f96\",\"#e2bd96\",\"#67ca96\",\"#dad096\",\"#593d96\",\"#872496\",\"#463e96\",\"#a55596\",\"#a88996\",\"#5f4e96\",\"#d32d96\",\"#5cc596\",\"#49a896\",\"#7cb496\",\"#a08296\",\"#61c296\",\"#d42c96\",\"#bdbb96\",\"#994e96\",\"#8b3196\",\"#906c96\",\"#c4b296\",\"#325d96\",\"#6cdc96\",\"#f2a296\",\"#e6ab96\",\"#db9296\",\"#b29796\",\"#b4e496\",\"#43db96\",\"#3e5d96\",\"#714f96\",\"#82a096\",\"#503b96\",\"#e77796\",\"#41d096\",\"#84d896\",\"#c75596\",\"#929096\",\"#76ae96\",\"#dabf96\",\"#803196\",\"#40a496\",\"#8e2f96\",\"#946c96\",\"#d06496\",\"#b28b96\",\"#e16696\",\"#9f5596\",\"#4bdb96\",\"#702d96\",\"#819b96\",\"#e08d96\",\"#855e96\",\"#51c696\",\"#c1c396\",\"#753796\",\"#f38b96\",\"#3dbe96\",\"#a43b96\",\"#a73596\",\"#e68296\",\"#bec596\",\"#f05596\",\"#9f5f96\",\"#32a696\",\"#9cd396\",\"#988696\",\"#3a8596\",\"#cfdb96\",\"#a0bf96\",\"#7e9296\",\"#8c3496\",\"#43ba96\",\"#bf7396\",\"#e31e96\",\"#a3b296\",\"#f2d996\",\"#88cc96\",\"#553e96\",\"#a54096\",\"#336796\",\"#583596\",\"#514496\",\"#94bf96\",\"#4c3896\",\"#ee9996\",\"#ddaa96\",\"#be8696\",\"#b9be96\",\"#9c3b96\",\"#b5b396\",\"#9e6d96\",\"#afe096\",\"#349b96\",\"#992196\",\"#8ce296\",\"#736596\",\"#506b96\",\"#708796\",\"#6cd196\",\"#5ab196\",\"#ad6296\",\"#da2296\",\"#c4cc96\",\"#35da96\",\"#c47996\",\"#8d6296\",\"#a98096\",\"#f7bd96\",\"#485896\",\"#3c3996\",\"#f22396\",\"#b12f96\",\"#975c96\",\"#749696\",\"#dab196\",\"#e75896\",\"#d84496\",\"#8a6596\",\"#d38b96\",\"#345196\",\"#50bd96\",\"#ad2396\",\"#66d296\",\"#ef2496\",\"#f04796\",\"#395b96\",\"#758896\",\"#916c96\",\"#ba8996\",\"#d06c96\",\"#a6c896\",\"#a23396\",\"#82bf96\",\"#833496\",\"#d8e196\",\"#4bab96\",\"#a5a196\",\"#59d496\",\"#cdc296\",\"#ab6296\",\"#649f96\",\"#6c7096\",\"#a86496\",\"#835396\",\"#a52796\",\"#f63b96\",\"#7b6996\",\"#bcad96\",\"#a1ad96\",\"#f98196\",\"#7c3f96\",\"#c59296\",\"#ae6596\",\"#8cd696\",\"#8c4796\",\"#5a9a96\",\"#e9d496\",\"#e1c996\",\"#b62396\",\"#f8bf96\",\"#534596\",\"#503c96\",\"#78ab96\",\"#8da196\",\"#483596\",\"#7c9f96\",\"#879996\",\"#5a8396\",\"#5e8f96\",\"#dfcf96\",\"#6b6a96\",\"#a95f96\",\"#c07396\",\"#38cf96\",\"#44ba96\",\"#eccc96\",\"#cd5496\",\"#f27396\",\"#857096\",\"#b13d96\",\"#56d096\",\"#5acd96\",\"#703596\",\"#43b796\",\"#783696\",\"#a48b96\",\"#dc7796\",\"#878896\",\"#8ba496\",\"#a72196\",\"#4acd96\",\"#8ab596\",\"#af9a96\",\"#ee8f96\",\"#757b96\",\"#8c6f96\",\"#efbf96\",\"#bae596\",\"#834196\",\"#60e496\",\"#b6c496\",\"#54e296\",\"#a4b296\",\"#a7a696\",\"#77d196\",\"#a2d496\",\"#f47296\",\"#9d6196\",\"#ca5196\",\"#642996\",\"#cd5996\",\"#57cd96\",\"#bf7596\",\"#8caa96\"],\"radius\":{\"__ndarray__\":\"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\",\"dtype\":\"float64\",\"shape\":[2000]},\"x\":{\"__ndarray__\":\"9fSsYrI/UUB5/m68LiI8QMXrGwZSSElAMwL6q0PXUkAWU6z2z9EwQI816jK6F0pA7XzJg+yrVEBNsw4On/VFQMpuIkGrwTpACa8UQ2OGR0Dwm9k9a91YQAVEnjB/nFJAAn1CT2trSkAs3XwDHPZPQPZ4VAIidhBA0bMaVbXGVEC1PBEdmIhOQCyTrUFwKUFAcCpgkUduEEDb2zDlhmhGQCyWxrOg1VJAHoLNLxUYTkDYgZ8PPZ5QQLXsM7Z5Y1VAWEN6endqD0CfywYLm5RCQKmXd+sYuzBAatgMabjoMUCtAFKFLmBHQDScLSizlShAOlq917EgVkCVwRCN0p80QDemXim0cVNA5rtmmkCcOUBBfwKGJ+k/QNG827fBb1ZA2io2yB1FSkCletaCvmdWQOQ+87niGEdAsK7xzXqCVECSoZlT+2dQQBSk5dKLt1hApaQTS72RVUA83hdZquhSQENn+DPcolZAOLo2TtvUKUCi81+/Qh9JQG8ymoHD3lRApORpHOqbUkCGYd+8JrlEQPaPL36x/0BA9oiYsxDCT0CteALys0U3QLAxAkF02TBA3otgy4lhVEAg4XLLGvomQKuy+1Awl1dABu6VJ1rTSUAR5tRgP2pTQDd/1miNHlJA5+u1N+DqSkDHi9JW3A1RQAPpRLrPgkxANp1fA2uoQEC+Gm+vhVstQCbxBlSmB01AtmqFI7eJUUDIEnXRx51UQP0oVmGNgitAp6cp5e+nVECvdBql3xI9QMkuSZ+9fE5A6xhxeKm4VECIIEJuUDBWQKWMjQYemVFA5+MbENA2RkCBI4tMzEBTQNki18YPn1JAryzBXwD9IECuvp3mokBPQPpVEcQSxUJA+SmB8KbHU0CGVjqwK+E7QHCwdj5M/09AbShXKeisQUBd/YHJ4ZgiQINLazHNayBApvuk73qBSkDy0t2EnqNOQDpYBRDEXDZAcogetyrhPEDcAinaCkwsQEBKNCFFfkhA2z7TJBpKMkCPf954VJJJQJItmlcF/kFA4EJY+3hBMkAE4b+JHpdJQIUNS6/8/0hATmW5u6TwM0CEJZ4l1/Q0QP/xfb9xdFRASRODQd0KK0ALMN7OdDVUQNJheeJ+g0RAA2hpeUwANECmD2+vuKpYQCpPR6+eIU1AAe/KXD7vSUAfBgdJN+VNQJGAP2erdFVAwGBJ0+a0KkBfYstLrzFUQOcIPsZzMldAQkecwGdSU0Dq6NcAtl1KQD11u7haLUxAoa5mv00PN0AzJVVGz6pNQBlobI169VVAgoWhTuTpVUAMmYD29AVEQMbUoFmZkCVA5lmbgMfmH0DMRQmed1c6QAk3eqY0+0lAiNePs/DLQkA52NMg8vJWQBsGNwFqtE1Ae/MY7BkjR0BSa+fQ+0tRQGeLKuIY2khA20Ryyiv8TUDHgBquq8dXQIIvtyvEelVArviVKwKjKkBpOh1neiVKQLK2T6iR3lRAUfkFpJh/MUDQowYubxlEQE3TZz6RN0tAPjBNoz+MVEDkYY6MUS43QNu/Z4uH6UtAdLIDowHAK0BFB3PVVqNRQDFa4VZm/1JAXFQf+URQPECglOgmJYNLQLDMJHBxB0FApLnmD5e4JUBmDOTAP5BSQBiYEBVTWExAQKlvAJC/R0DTtlpsb3pUQNrA7eORoxJA98GW2lvhPECRLgi57xpEQFI17tSrrUdADUcdG6GfVkAQZy4CarJRQOWtH7Dy2EhA8SC+oac4VEBk+Xxu709LQEf8eFCVDEtATIQzyCDHV0DHqDitiYVSQF8vxVhiqElACa5RZok8WEB7Bk3W6lBNQGjIBfsJqFJAKnXK6Y2/NkBKm4XGk3lUQMVZndD4jktAZDOipusNR0Cmw90oYCURQMBM6mH5OyhAivD/dRTiLUAzcRqqMgQfQFBqIVeDqjNAmd88VWk0R0Cmr1HO3ZdBQAtO6WXCAFJAJAqDmn2pHEByJJl57zA5QEeFzvhG0lZA1dqKq7ClUUAXwqXR59VXQKdA+jfFdEFAOOkX2TgJUUCeEv3EZENLQIXVPKObpVFA4F4ypC8yN0B4sEEDyVNWQI4ogx+Blk1AW4vZL9P6L0CjHIYWSUtGQAgBq5WOQlBAExDJySDWQkCJJexjXeImQJCfGXMfnBxARBEX8ahd+T/O2lWKR+5RQPRLSIstlEhAZbqGs5uVR0CmVqqQhNhKQBGw8q6r6x5A7UqzBa48QkBMRL9DRFVVQJUr/PTpDkVAKvgbm4/IUkC42cl3vHxJQJBa9JioN1dAM15Se2X9SEAvYlYDgAE3QEsAj3he+UNAZCcd8IsFM0Bm7sQmF3FYQO4aRXdwR1FAcYYpyKZCHkDAOWwoRaY1QC3BlrF/Jk5Ax7vNCDQDU0Bcu507Dn9WQDd/sbn7LDRAZOquO7ozU0DuOdFc7IFRQCg9b/Ux6lBA5L7VqhnwNUArpD+mgSJTQAxOZucGkklAuEKRxwctK0DQ+fmpBYdXQO4QiF4n0ShAbCEK1gXhWEA22S/n1QFMQFJ0pcvm50VAIgnI8m1KMUD+5GNPKJVCQE92lj1KVUxAhib7Y5MXM0By+krQKUpUQJFhwm3kpCtAJtk2jotFOEBMRc4CPyVRQEpZYxpepE5ARhjCToEDRUCMx1ewm0AfQIATDwAtxCNAY1HNHowMUEAnvGLi7cZYQEqyyNNOvVBA5B3G43lTVUDcbOY5kZ9VQLC6U/osdD1Av1ZmmkgtVkBJ8uN9+29RQA3kpseGfghA0yrhXug8U0CccPB2zOxBQJk9Exq7OjtAgLdIFgyxUEAIklZtSEEvQFlz8/1kqlhAwjyDeCFcQkAbgHzdemVYQN/d8NkIiydAAMun8LBeIEAkShqNeVBOQCHQagO3ajtACVq7/Wt0V0DsqRaEHelVQA7+HOWI1VhA5MTovgDESEDO4vhCdbQvQITbGJTiNFJAsS1JDhlmVUC3JnMVmbhTQKuY3mdN4EpAgMBufJVb+j848UK4NC1PQFpuTG4ruiBAzDrUB8lKTECD/6hCfR4zQJOIL5tPL1NA/u2pb4XiVkCUbC6Cv55VQKa7IHjT8AhAgb8y6/35REBB+LaQi79LQPgO/Dso+UVA0es4MRXrT0DDX7ahepcoQBh+N4viuUBAXr/SkiNeVUC7yOS3JrdVQJozBCHTOlJA3FW9mGc/MkCeW1gbpjtRQEqTVmWzAzRAdAuj9WZ4S0A162bqqPsyQGPJFHQqnUBA3Y5q8vKaQkA9yhau07FBQC+w4hYUgldAiG4WICdjREDgf2BKUZswQAFBJm6wWiRAqtppcPrDWEBqL8yPcsBOQNKjkWxhwzRAM9yPL6PsSUCUFGqxO1JYQMx8AmafilVAdLCp4LdWKUCHrHUq6WA4QMAVXE/Z1EpAHt//WcDdN0BC9Ku0pyYTQIBXoiNPaQhA0yXofSdmN0BkvyXNssk5QPzXbKDbSzFA0jJfD9mTRkDG8l3n4vASQHcKkMrZ10FAtbZEN+/cVECC38qr1bVFQMazwdXQPFNAtiS+6PakTEAhtPJJapBDQAYpCDR1QzZAJv2q3k7fTUA8X6T3KtNWQK+ed5JFPFRAWoEJIBSZSUAMY5fZExNRQAtZFbXFdEFAF81jhtOGDUCIMqb1cSdEQMV2abFSN1FArfKJtNjrV0C+SDAaUzlRQCB+K7YExUFAAlVmWH89L0AW9ryVThFCQG3DubzK3lFAyBSwppkw0T9fMFLELLJTQHY7D0tfHU5Afh263pN2VEC+Mk4rEllBQAqi5yO1WT1ALmAMqOZSUUAA3q9rnJVSQEryTu0zMVdALhg216KfU0CuBWI3p7ZNQAm4ad6di01ApPW8G+bOLEAXA/JOH3NOQFFfmchJAilANAMC6mbrWED1vIP5TUtNQBkbFWQryUtAU1dLgCCkVEAydQIxr6xWQLgDnxNapFRAUO/vwV1HIkC3bXjxRpFXQAwvrPNFD0lAG1YqQwB/TkCteh4+mBhRQF00YoimNEtAYd7VOe74SUA9vZ0sCfk0QK6bMOOZnxFA8yBnLInIJkDbOpSLeuA/QKodBpSmBldA8Rp/4JWfVUDt9lcN6CJYQEAqqkVlGztAueKPXz6rQEDeBoJsheJSQGWpShR7vD9AihmFeCTkT0DScfyB2ukhQCdoWmpCTThA5UhcHOLTV0BkWZK1zTdRQBodewa6aTBAixgKMA6ETEBsZYlrkjVJQPClSadlHSRAhmMzvVNtQUBpWrLpccBSQCb0WDdkYxdARBMttxaiMkAqN3Bgx1s7QIMh6HgEOlhANXGHDlpASkDXwafzI+EyQIr8a1jRk1RA9nnoM/wbUEB0thoXWCRUQNwCVhsvM1ZAxWQ2INNHU0AxewS83FAyQC9wT8dD4lhAZjvApkOBRkA0PFXt52FVQNeYE/FBr1JAx8meo4Z0SEBMTuXlf1BQQP+TCWbcQVVAwGN/uV++SkAzQfNBxetYQMLdhD2XaVJAXrMudt76NEAmrWY5y4VUQB9sue3eckVACX/zbi0JU0BiFnkDZUlRQLDDCBZpMkNAc3ajTTggN0BNTiBxz8tSQPHyemMfmylA2qY0+yJCHEBWATENHb9BQODGwgRRAEJAZQVlyVwuQkB6qgdEDsYkQImjJ06OURRAcSYLVGcYRUCRar+5KCUpQBub3L4NvlRAgfCRoaGuHkAuH+49TfQ3QLwppiz01DdAA4KRUa3+M0DtvJWWOaxRQDt0NhKcMTdAAKTVURQqV0C/iyj4nBk5QLu39CvD9VdAh2keFHiFTED0thonE3BYQHnLVuGybFBAPHxqOzFZRUDQOwTN7gQ7QPdrhy3UKitAb64wn+S8QUCdsrJ+7b5TQJ5s/1WolUNAHruYOpztR0DsCH4K57pQQI6Lz14yqTFAXCTYTfOVUECJknsnQ7lHQBhh2djK2kxA5pDwmPFNMEBj3fFPW3NEQKu3RsfMjUJA1f4tF/FbVkB2ahA0d2ZNQBCr+ewuW0NAjkUBH2uHMkAxizTBk3s5QOBjBxsn6j9AO1KQSVH5UUC5fcAS+aJMQFCZ4uWm21VAEbrEvjTRUkDHGy3j2thAQLazLhBy2FFAgJB+52UMHEDQEFcDa1wBQBVgQkiuI0NAb8PAd6gCVkD4rRlftnkkQMNRJ8Ue2DRALl8iFlf+UUB6hiMJqHhXQHfqEkAkHUpA7Xzsrc+MVkDyxb1cA/dKQDU3MNGrwzpACuqS660vV0CyNAcs7lhUQP5AbLWBuhBA5VY78qdJUkAFQ0YFRbcvQLqxQuhMglJAeKhAwm2TVUC2UHAZ/0UoQOxapT9VBUFAlBmr5xGgIEBguwskNMcIQBYJXGvB+z1AfKxCl+IuOEAZfbwvIuZOQBR68czGTU9ATSY+I5H9UkCpO0HZI+AKQOyO4O3REixAPe0sub7tPEA0wAvSwF4iQNuogPSfvQJAafq2ObcaTEDEaCvOHykaQEcYU0hv+lhAUj9zYnqLUEDCJcqDlKswQEtaJdOUVyVA4NPktEF4V0AonhGYDD0+QBU139ZWADlAnRfNihiEQkAkiRwb0cMqQDe+QeIjA09AvoDHJlREVUAhXwb/Oz1VQJkwVsCwWVNApFL2gGOKM0C6wfBGML0fQFFb0wZxAz9AGswTG7/NRECrXYYnPCRAQJzYit3utlFA49fYHPOrVUBcXJdcjHgnQOjs/Sq7oFBAexkVT68qUUBev7t1j9kzQDOZ6UV9ojBAqWXTJ7mPQUDEv/YHJNIxQDv55PQ7NjJAD6yBsr5NCEAGXT3g8DdVQFiR63qopVZAfMTasNuqQkCNUoihqGNGQKOc6ovqvVRA8UBkSSAzUEA+naz3bIcyQLi11tjZQxJAX7pMMtVOQUDBk5ByouhPQHIC2bQOojVAot0czKagGkDCkCz+bRM0QN9DSL2a+E9A/t7SZJZ7UkA7a35uGEJQQLq8Dn2H+0FA+GoB/D8pOUC05/mweG1CQL/CQ7hFFlBAsUXhd5p4QEDTQThe7z09QFxBojLZx0lAGKqXvt/vSEDARMqTelRAQNiIQgMZoDpAG/ufXKqoEkCeKOjw/BA/QPMoNGY2gTpA2J8rjscx5j+VyDaAR7U6QGb11rPSfj1Ak7Z2Kzv5VEBYl1yTvpxHQHiNffhySU1AEDovQ5aLVECASeIeyHRIQNM5CQBPtUFA/XJsu0cfSUBA50UPIz5WQJrqg2YlflRA4nQcRdbyP0DLskBjDs5CQHqjc57sLixAE6hy3GWbNEAipMakJcJYQEg7RIRi5DtAS4JHdcRGS0CdaONdaL0xQAR4ja1IbOs/QCHuinfsUkCs69hc3IFVQLLh2YNxijlAIGeJo7ysTUA5fwDK9phLQM+w9P51qTZAVA2eYpb3QUBIZBN3vmIxQOr+ghJ9F1ZA3pXR43ArQUC+TF2nMxJJQA4gaw/WxkxAesTF3RXRPECZUxrWW21DQAFgzrP70lZArLHRo28v+j8fhBLmd71BQHM7Emp7LlJAPfXuhnXKNEDO8ENUqq1HQOCT+KdlYFNAfH8/cNCOFkAKe1pHRis2QAl+8Q42qTZAggeUQNFAUUCX+ECmot80QIM85Q4lE1BA/AhjU5f+IUDylb88Zo0lQK2PkybUxSRA+xfkE50VU0CK3b3k7XpBQGbqvyGvS1dAuN3R4zuASECrrh3O3A1EQEn+i4S2uS1ASebZOzBSJEC3Kd3oysBDQBVtaL3Wr05A9Xf7PK3+SECDGp7hbb5WQEz0NcPd2kNAssCwq2rlMUBl8AWVewVXQIQRj51vaEVAC00z4nGpUkCAKLtqrpdIQGqjcAqMYkFAkyA0JzL1U0C7uPVJ9VZXQIwod44aIFRA1bwluPKqU0BWWpZBld0QQI8b+7lnUFJA3T7e2MgHWEARG59g5rZXQPhwWWcfVFBASLhiffQjMEDMtu1DPZIzQAbkqNGEiExAt4QS6Qw2V0ASFgXH5ENTQLeHrB1NG0FAoDI4je4m1j/7hAlW+npBQF+JU2HTzD1AHCO7YkagS0Ac9ifOzOEwQMD/B7seCjdAd8a55WHHP0AEGyeQ4ttCQF13hFmhCzhAMJUOON9ON0Cam+TCUWRXQKzCJkN8A1VAs9yh6YiFQkDAzvLEKvJHQC4sErxDV1dAySWHg8XdUkCa0nBFQjtQQA9jg3uBoFBA0l+f+x0pV0BftqhHXo1KQB6GsM4D9VVAW/jWMf7gUkCa9bxVy9dJQI2fIQAXC1FAQotkxcmZLUCoMTCskATeP6hW1Z3D50VApdR/VxqFSUAcAH07XF06QFwtKAa7sUBAm+y+6uwdRkD5flyjfGUEQLvVH+6ByUxAGI4hFgm6O0C0SWi+f9BLQF5MnLFptldArLWfGpolUkAGv3b8Z3ROQBDjCSBDEjNACxjFeFfSMUB+fPVLk3FXQGjfdf/+YB9AI10deQXKVUB65mLyw4pVQHSrAmB5QTZARJwZWkNFLkB2HIsbd3hQQCvCtGf8QlNAANCrmwOoNkDzL794/dxBQK/FO3Nx4RpAxm45oMSgVUDvL/t8HPNSQEzYve13kVVABnWHqBGbVEAUK/HSvPtTQNwBqHVlZFRAMqHFq72eV0A9dcqj8G1WQJMyupIdJSlA7lKpl979UEDerZDcSOJKQFG4mqX560hAR1ck+klOWEDNJQjHjWlIQIePDcBgr1dAfCOmrwLOUkCAOJaa+ZdYQH/gy1v0bSdAOLmj17k1JUAkLdw88u42QAo6eIe87iNAuFmTuUMLREBS4Dl1KFpCQGlYi+37JVJA01QJX6KLUkC0I0f6VjtFQC1Lhu5oDDFAjmJFvBW7WEAYCYc0/8hOQA2KPRaDWE1Am1Uv0PrMREAf/UMCxXFMQDHX+Soqyk5AQe51PSXmUECA83C8tvoxQEcsJyhVikNABtYp46a6LkD+n7viDKNYQKAWqM3xJEBATdxzy2u1SkAJ49G2I2hVQEdnfNW0slhAbvRUWtk9U0CZ0cIkCeVUQAoO4nWjAFJAv/JeWD5IR0AYSAH0k649QHhrhOee4ExA8f1aC9dsWEAYq78aII45QNGeoyAU8DpAKckJ4xVSPEAgmLxF4FNEQF/uQ57a+VRAzTk7W5o4QUBcOntuV0JAQDGYDzqTrlhAoF/QcpwLTkAK/g6Ol5ZWQCvWnZMoT0RATVFnsQUIVkBUNAgwMMAzQGzwMzVy7lJAPzmF11qCOUAJEPVQloNSQBfLgI8NNjNA3dG/g9rNUkA4rn442TNMQLnOmCKFjjtADcfsqftlUEDKMOSJ9+wdQGItVWEv6jBAjtDefxTVUkBM/hS3w/88QCqrN7viQAlAvHIlyGCSUkAJChZjKWlLQLHfXMNlATtADOjAstyfNEBpoq4aYGskQAVRCF1uiCxAVpNbtYuEEEB4RKnMDzkiQFK5KD2i0U9AqegK0yCVRkBqS1m29hFWQOObi14mhURAXGK1xG6GTkDBvtWojL0nQD6iquSEljdAxsMsFdL9WED3bTl7/m1OQIMCC2YpqEFAvO7dvey9VUAcEIrCAK4/QJxkPOm+gVdAI5LBonMXSUD8PjrQHuBIQG1QQagd+kdAjB/yMTipFECiWVKhMcFUQNySRKprDkdALocqJla6TkBJOsG7cmhIQLL/EvRAqVVASXRHTGhiEUC0NJ/XOGdHQLqx6Ys9Ly1A8klJbnGLFECagkdfwDUxQExxV1+zRyJAMfbkyhyKVUBY7g42IggYQBU6R4bcSVJAKEp8HQeiR0AGXFmFr8lDQGrZvg4SiTdA6kgA4GQXMUASRKTrHeFHQLET+B5bt0FAZvSZOQb/PkCxp3WlZh5BQPLFdrGkcEpAzM50xERMVkDUCk+lz2AVQMSzxfyOIDVAhlwPyyOuVUAGLBjxQ+ZQQF4W4VqJrEBAvk2bbg4qV0DGUsu9iI9WQF4kmW6lKkBAPz4N9EQUUUDXCCriZsQAQHEglL6iIyBA9ESDBmimVkCghu9Ic+5OQKS4KCOv5jFAPhL1DcbbUEBvg7S1h9ouQN6h2q3IzVBAU29Lm3qKUUCEY9GSyNFCQDBGaq7T5k5A8nOOsBfrVEDN4M++QPJYQANeT6ZsEzxAmE1ejV8sREAwy1bmz19YQKD2J4V89jRAhDzGz1+rSEBcj5qyeLlEQI5eK83L0vw/YLgchTb5O0DTU0e62CoaQHVA+6w4EE5Avwvoqa4vUkBqygdvO2o5QBq8djWmhDVA4e9kRwgrR0Bo5jkrKlgYQOnKwlDHOEJAW6DyDbneVEAQXGs2julEQIAWZwzltVVAgkA2YuM1SkCKxQ0W5ipMQO1PRaAYGDNAwdocM+CYJ0BFZf2/MMsoQLJtsMZByVNAlkUBy9nKOkAHuXzRsz40QJ9q/nCSB1BArOS8U0fiSkBSrY0cqm5TQO2VRmEZpUFAfSqRG2XUVEDG6zDFEfP7P54PE3c9KjdANoPM/rbBMEBkPg9zoghSQKKT4Tm2ylVAijZvXdKGVUCJj6ERiSVQQGXP4HY7ak1AfaqihXNxNED5WB7tcmomQG+juyK060lArpKVe3WgVkBFm+qqHMcEQKoCZy9AoDdA/fA6eUn4U0C9J7DSLvJTQNzCZb5OjVRA0LQV4KXmM0BGsXRLC+cOQAKkhpNSwD1ADQPj/2FyQ0BDAJQRVf5BQBQmKpuJSyNAKGkes32ZP0DqS40f20Y3QCYhrLX6X0NA4n0ETAV8QUDaDQV0b49SQF+uUzR86lRAvw5t9JA9V0BVgQfkXNRWQJfHhS79rVhA28tUQyKjSkAkTfNDZE5QQOyYR4QCNhlAmmsQ6x8FVkAATsPbf3MVQFPt8kViWy1A7V+mJc57JUBc5TAViFszQHC3G+V7NUVA1QrNbK2FOUBnLhZSvf5NQH8PDE0O/1NAwBV18DSlVUAaw4ZHSzRXQB5pCp1vlzNAKAgL/UWJUkAfr+X7wmRYQLchGnVlQEBAHEfGnAhGV0COlzjvDBA6QB2wpJKhCFdAmfyimV5pNEClpT74F7VEQExWzn0VwUdAyHnqrS7DAEBro22FOjBCQFulBchEpUtAsRH3yr1oTUApxAxZeOlBQG/zAqIj7jlAEWcRgDRfTED8mRgNDy8+QLRhKYZlIDBAduMoxOeDUEAZTg1eaREmQCBA/G8GL7c/RBUcFXSSUUD3ZBML1KhWQLTKSMSSJ1NAn3YTmWvyUEBqPfE/wgYzQGqzQmL0S0FA3PYl+ej4UUBZzmQg7yZRQPKrX8gSd1dAreSHBymESEAIioJ36mNDQHR/LZ75NEpAeI6MUjgBRUDl6DZkX6JSQH78GIahJ1NANXydZ/QfRkDSIqw9+AxPQAK1CUvrBVZASMXnKP7zQUAVRuAeZPRIQNL/2eCvPk9AYe/g0cbEJUAI8YK077ZOQKYppEJ+71RAvlMcTtZXUUBdpG/VyM1RQKp7HQCm3kFA5YkhugVoSkDCuLBoerJEQFjvq7iMRipAGb2KhU+nTkBa3vnM2a4mQKdwxtaXu0pAMc0mcpoMR0B7mOmzTrtWQPMAIcPjhlZAY/LTsJiLV0ASVeGsR6NMQNKL4QIplSFANzHRl3RfVEBU1wboT89LQJActxWD9i9ANA10uBNxTUCopbG5i6wnQEwfLYxRVlBADbUnuA85CkClk2+sCbNSQLSFRzHcSk5Axy2x7QAJT0B6lb20vYlGQIpWW7WWqT9A8/hkK3htPUDwqCjygXBUQN1oTrEgr1VA2Fu7U7MGU0DIyKuzCF80QGDD3h3cvUpABW00yj9+J0BFDganQQlIQMPeef/EqEVAtYe2tRh0QEC2isU9HVtDQH2Bj2TXxDVARs8M2dNSEEBSl97n6CpVQPFNFT8+bUdAh6yfe+DYUkAJwwYv7Rw2QKbqZfmBN0xAvccNREyuQUBMvoImkm9QQCD7+qR5MD9AoqEOz1GfWEBhjsDeXNxSQAyZP/OsMkhAlNLS0BYgUUB805NDpqFSQDOrHy0QrFBAB9CCC9PDKEBgg2P7Yr1WQMYeoppQDCBAQoH6mSJoTUDWGjRn70ZLQDjYj8tkv/8/WKd4X2UDPkCubs28F2AuQO+sTlVcJk5AfFIDuJjTUUA3jbSF07RRQEbHVDJs4CVAUfXgmKZAU0Ajnn3rNP5UQJVvrR7VOFNAKgKMB48UMEAB+XNYJ11XQPrfwrrdfUdAWDGoTVMbRUD81oJgrlpUQOQVeadETFRAb9t021AhUUB8cuyxwjZHQNW77dy2zDtAOk/hnDtVUkDEjN2ZkThYQLz38s/FeO0/m8OG0kMOJECa7Oz5oFBBQDBq7bv5k0JAJiD2fZifF0DLKad5ZIA6QJWGi/m1PkBAycugkASDIkB+WoLHMl5TQMnbNRC761hAZ2vSqeaKSkAz09RC0XZIQL3GS+ItryxAXq6sFm6dUUCONaURdSpSQJmIEKgCJCJAEWZHmamsUkC0QLXctSA/QKF3AqQFNT5AknI0okNePUCtoH53jEtQQPQjAwg2X1JA0W21pIMBSkDXMj8fO21JQCSi1rDKnkdAG2DPEE0gU0DXp4yzsKM0QJj4rsgOKkhAUo2yM4IALUBq420x/vZOQADDZcjeQUJANp6nFO0fEkA9LYGZxe5VQBVXgXyCxT9AGp8yiTINQUDRhF41OWc1QJiye0Ee7FJASOxtZ+LVLEAE1+1CowAlQJUqEnTsDjhArv4iEFKtVkA6CCFkqJpTQBcuINBlsVNAXVk07l+0MED23YdNbXdCQDtFl7Yk+zhAQEgeLL9DRUCegrm+GTk9QIzxsr9TryRAhbTZK9CyQ0DRoSABcRRRQNQtVh1quVVAMU2DUT6/OUBO9AxlXsZVQCMjrwcSGkJAdIlZxPjoNkAsgMy0kPRIQB5TqX5xYlhAVtJhXt3XTUAYf/HTRV1MQP8ZBFMgf0ZA5n7qP54SPkBeiwxkyc8tQD6Hzd1w9ExAZeOICTL+VkDYgpzZe/dCQEEpSKPuEERAG/g891FZSkC6UBGV/x9WQKmkTbu9yixA/7GjSk84U0C0lV5hNqNXQGtp7t+Bik9AWqykV28gOEDvUvAtWG9VQGfeLVpu9i1AROcUGDaXWEDuNyjdSXdWQD4BvD8/cVZAMsYKEi0XUEBbHQ80yz9RQN3r1+4xAVBATFgyv3MzLkCqQIszl4E1QLBt+jSt8zBAaAywBorIWEDLyvvtTJkjQJP6+p3PUFJAvF64D4NTSUBz8ix93l9UQCFRt+yt2DBAiE7tClh3PEDBLuW3Cfk7QKs8Adv340tAzRFed4JKWECjmTaTZx5DQLyDZCt2SQtAV6hAtcz8KUBngx5l3wItQG8TplKzxjFAOfh0YDUTVECG6LvBWxtWQAH1x8ykFT9AqPMvpYamO0BseU+QOXQwQJgna7xr5lhAbgfna0xMUEDHcG++K6lMQFMAn52hnkVAk2JSq6jaWEChC3BCnFIwQMsKC7z5XlZA77Vwz9PNJUBJMbDKLV5QQBoPl27s9StAVzcL3P3lVEBQccw2M1/8P6yiOdf/3RlAKwlBkEhZUUCoI+4EIr82QC0iXYXvUkJA1TCQi5UIWECBwOyfX0FJQIywLPOPlUZAVKpTydIOVUCMFAYAMcpYQAPjBT2bikdADVirzUREPUBpoAmu/70+QPl1jajWqFZA2h1zkMBqJEAy1rY+M01HQCn0bZpJQUlANAGn1Qol6T+gG3yvL6xCQDWXQivutUtADyGjb9/yVkCuvdoBWJsbQCWNEP2DlVdAZ3tmM3tSKUAbyYq3IkVSQPytSrv1aldAyK7nvFhHR0BoCJIRfT1PQE94XB+LYERA4thdXsHxQEApU3tEHxpXQBISs2wUsk1A8I/ARV9fEkCR1k46BHpUQANDcxbtyFFAmWeanDqEM0BQn5mrXGVPQBwKsWXUI1FAnAL6FcTLPEC0zell62UoQDzOMvh+L1FAaHFuigprPkCoJG3U24pMQM/B+RGht1ZA2zxIlVTKRkC3c6jUOHlUQOzP/66f7TVAZ+WJ8xrDO0Dmw4YSVahAQFRGGK1JrlZAPwW5IENOSkDOQ034G1tGQI9xStnMEEdAnS8+6miZUkDJQ4K3zlFWQC4AQuZ4DTpAvodKEIl4IECcLjMaEBEpQJqk3LqgGi1AFEOE4R+1KUAlBZFwVEozQBV1VB5bG01Ax0spk6oTU0AIytEtbnU6QAXyLslS2VVAFDYucqLgQUAWCl3OfTMzQEyZF1uupFFA26+TntHmS0BGjIzCwwZUQBolNLSsI1RAPGJONqYUS0BY7CWMhjQCQBhSflLJVU1A21Aw8Z5sQkBZSviGhixWQBNpQ+KU1FNAZE5IzpkaQkB4A5WPUxJUQPG7A2/clDVAwOrdo5MxV0C9kKzKwaxGQM6Gorb8PBhAWpwPLlPFJEAeh1UTYLk1QOUcGoKzUktATt4nJ7f9TUD9duUWh69KQJWfoCAiZTVAvSg5Kgx9I0AbMdR+ndIxQKyFTG/Jw1ZA7mCLL8uaV0BRxNvOY509QEAd9uY8RlhAZ6KAFstLTUBW5HRiiI1SQB3Ij9/uolVAGP9uUNdBUkCaXXwD4tZSQGSThHj4k1VA9CJdUI2JFUDmkVkGgTFSQGIZJlZerxBAeCNsuUWPVkD8D7h9RVVEQDeSBgF2f1JAv/m4bioiRkAaHZBfDmcvQBAUcFdzJus/VEmEhbtEUkAy4v0NNyZSQJmKo2Aq0lFAPlZGkCAsFkCFZXS9Z+FMQJxMnmur0lBAuXaC0dCnSkDtWB2aYUwzQFeKvveXW0lAxeFsIIMNMkAXxBoMZ/VXQBR6/HhiVFJA+BJIdnZ4QUDHhtnV0RlBQIke6Qzk3kxADnvlSLe6NkC+aWm9xrJBQEGSXAaHxFJA2X7vdIJcI0D0YcpMhAVRQKpCNJPOJFZAskdNcSwpI0CQrIWOHnHwP0EjwgoLU1dAkiW3OGG9SUAK/XxDjrsuQLsgOfSV7kVAdscb3wE8HkBE3N93JhUuQNrvCeAnwiBAfcF6AkQeQkDg4ZaZpfNSQDOUuRTEfkNAQm9aCqlHUkC6Y2YrbKVWQNZucHzBFTJAGjSoVbaQRUB+HKMKXFs8QGyx3IvrY1JAytgdz9+oT0C9Bk/tYcg/QDD8Y18ieTtA6HN0C1EoRkDIBlRw/JdQQEnY7eKPjUhA7JOSl34U+D+p2wGr8wZPQPBmZsh4MFBAfZZ5U7ewTUCgao99/VUwQBIcwQuyRylAIsT/2jnXVkC08kTAGoBBQDL0ZnjJPDVAahQSGxohQUAjrMIdtyVPQLiMWiS0ZU1AdB/rwUFpR0DwWyALx6JVQALdyCBiSzJANunAlbCCWEA4RUNoD+RKQNAHw2sHyRZAp6KaF5sPV0DS8Fjf6r1DQI41J+rur1ZAUy0tTtf2REBm/suoScNXQEhT3ZTQVwVAi/qTRIGYUEChxLsPdtdQQAPfBV4Z8j1AggtuF1hyIUAnUgi/xDI5QGr8Dw1ec0JAhJcfsbB/VEAXZ/75tH1FQM9hM2+YYyNA1qM1+QmIUUBFLBkZw7RIQN4nIVV7rwdAZKN5FT9uTkDOt0weMC5LQFoNqVIQ+kFARvExaW7+V0AoDdaDpDY6QKuyrsfJzVNA1SfCW0T3N0AaRtZ1yCodQHI9IY3KjFBAOZsL5r1CVECAi/ol7c3DPwdauUjMfz1Abn9UjHJPQUDYsTOhQ3lVQOuHeu30MCxAgU1TmJ+DN0B8EZ9abCxDQDEzKHRZI1VA81cKI/KfVEAwscDAxd5NQA+RxEhJ2VJAHr9s9pBqU0CGQUQ+p11XQPRcISGkq1dA4ualNMbOEkCL20jVgVVTQHp3DxLJ7k5A0S9INrUcUUATgAd2xZkzQJ1T8kvZnVZAb+iMDnPxVkCWxntpnAc8QEDXcNJ1q1FAXRhpRKmKVkBwNATy4zFGQFair1uRoVFACLXNqyHkQUCzZj//SKlIQF5M9JQm6kxA5+IpZdSsU0CwzB6DuUI2QA6vGpISZ1NALGpfdRK4TEBtMuqPkFcMQAxoNUDCl1RAPsALVEXoMUCq06Ng+I5IQAlKP8ZhqDpAafhzzofkSkAmqLpWZ3lUQBAolfen9SVA6Ue86QIzQECokh+u/YBMQGalUEdO8itAJuk0ZWzsN0Bu3UCfU+cvQBvO+MnC91FAwhfBysQZVUBd9QKqe8RJQFbfDVuwdlNAasmnw/TTAEC3nyQXeH5CQE8JL857slBALLpSJExQD0C3Sw5xx55TQHBCJHEyly1AHJPa5bVoQEAK85yMyDIXQFzdsX9U4TJA2A2BapZYWEBMgBEj93gzQCAwOw+5S0VA2d/LwcWrTUDqrSXnXJU2QG9LC51La0xAgu0sdYZDLUCEfz3GlhlDQEjIK/TkZ1ZAoC74lzdKWEAAVVm2P0JMQKMcoaWDYxJA3ajjvrR1SkA6UwAZnu5WQMMDC7rHE0RA64zPmIlIUEA8+OSm4iRVQPMHLqgCYz1ASczXdhJcMEC9A2T6FsFVQB4tWUq2/FZAnBM708yY+D/eibWamRRXQIGItIoRRz5A01NT7uhUT0BALh3pTus6QHtDR5uQ1RFAr44Fmdz0RECq7k8evZFCQMcHoi0fKlRA5DaFbM9HMkAb803xzS0qQBd6hZxSIFhAsvr7IeFqIEB6qcmN06dWQLyD1ssRZzFATORuXndlHkBMhf/2RMoxQNW1B5CkrVVA03mQ45q1BkCSeGoVn9VBQGZz9VfccVFAahPdcoI5NkBwUa/WpopGQMOwnh8D+j5AeJfrT3E9U0CitYIcABRUQOMCiX+U5jlAjankdSSzR0BWJXF621lAQBpVapyxOyZAodLgv42CRUD3umMvhwFRQFn8CwhHyjZAlkbrqwU7NUAj+AC/tzkAQP9y0cfDlFBAyjQtlregNUA4ksxpe+VHQBmLIUlGzFdAeDbwh3SUQkBtyk10k69QQPSEpLCDoCJAMFOVZVnYSEBrk3QfhBJGQMJ2wBTjJzhA/dThGHyVSED4BToAtgxDQMUrywQ8VEtAZ5bqinshRUAODfCRoBJDQM8Wc0F+LFFAmMHP/K5vU0DXhqrrd/9RQIZK1zfgkyZA0JMEwp1HKkCLyGxV711FQFoHNy8NDzRA/uxw3BQ8UUCGI16sW0lEQB32+cJJ3C5A1YRkiupJGUBnibfaaX1RQEUPstKIe0FAvK3I53dhBkAIWW//3wsHQFarcrL/aldAzEsUkfHzAUA4S8qGeY9VQEMXZ9DIsVhAvBrfJe10UUDj1yi0mXJXQOuryUaxTlVAAOqofd1gLkDjCswSVRREQPFjMNg+80NAClloMTWLQEDRpf7/i/hIQAbOAOknSUFAGBf4mlf9QkAmwTgT4opIQOc52QgnoCNACOZAiOsUIkC6CGGPanRXQHbjsyMKfThA4vDE1UBXIUC2g2cajZ8HQDv3aecepEtAJNfwGmgHVECoiMkdOd9SQNpPwrqSllNAU9HQsXydJkAMe3WhfqpYQDMZrBqij1hAJyatB4gCSEBREEH8x0pSQDF6wLfw5lNA2lGkjbEVS0CPopsxSwlQQJL4JbB3ZStAZV3NDJcWJUAf5De9adVRQHGFVTwSMztATj24INPgQUAwqF7fsyNAQH6eog1591NA+D8lu8ytVEDKQ1lPz2IQQNIB6mkg1zxAEovp9GscS0CotGp5ReNYQPKpSdOT5FZAzchcm1GSVECkZwmsUDxCQAUMo/nm7khAPDbQU2gTTUDTJiovyP9DQJ0pNV1Ky09ASjiMjp/OSkCuY56dpQpWQFQQ667ohUVAMnDHfxeFOEAT6gwJiRNHQJbnQ11++DNAwj4nhJD9QUDaq+zDxEBVQD3Ic2uL0EtAyrnu19NkL0BPGXFp0dVOQPZ0y+yz805ACTclvvRjUEB04TD9VAhRQIQO83QhKUBAREp9JqfBVEDOYgNMANtAQJ1/c1mwvVdAKOy0S/pAKEA0Mzfpqf5DQIpMHgno6SJAdu/mIBZeWEBkVGXz8qsqQJ5YwBQCfxdA8zSWfq30EUC8I9wwvQs5QFRpRw0nwE1ALuRuB3/iPkB7Kd9KU1pUQE6oy3ihojFAYGTMnfNB/j9u0SwqTkIXQC+VZiQiHUZAhKHgEiOBMkAUM+DPP+FLQDxuH5H82E5Ad5Wd4kRDPkA05/Jbf8onQLxt+A7cyVJAPWpSpX/6KUDeFPf1KF8fQHP0jUMt5R1AX/TjDmmBQ0DrBY0o+QkpQN3E+TLNTUZAcOWrFcy3P0A6Jo4s7sxCQBclvlV3uSFAO2XWZI8tQkAULSmPOdNVQHeI41Z4e0hAZl8eMDMJO0DzGJTUcohGQKVVQJ+sIlRAyK6AAFnRNkAinC76E2UwQPh7W6hOnDxAM2wfX1BYVkD0ybd4kcZFQBh/9jpmFT9Apx6SODXuVEDvaacltZVWQNQGl/BAqSVAtNQ9Um8zWECktui4oy5FQEiWPKfYSBlA1dE/BaKkJ0AhBgpT8GxEQEuQu5pv/zVABJZ643tkQ0DxnAZn0XZVQAavo291+ENAuv36DlsZM0BSo195MCRAQKvRP98OcVBAJy3WuzubU0Cl4521H51PQEyn+7W+nCpAsAT3eeiGSECcwcGvDYJQQGUSUd8QEEZAwNyS10SURkCsKAzH5xpUQGNs4XWiGyBA+u/XDmdiTkASMlHFT6NVQFplVq4Zy0VASwc/8M+nMUCF0XJIeh1TQFQmyPz55kFA0ux8+H6JUkAkJJD4NM0fQB/7HTY2mSxA3PPkS27WEUAknuQFhExGQL/oaHtgblhAMwjQtHA9WED7oUxLwz9XQB4md6JFj0VAOf6cF/UkWEB3122GIN9VQG1TwAwMSlBAJN0feR+GTUDpOmzVt2VNQBuGFn2zlDNA96XE/UReOkBgcWfCPf5KQPIdU3ac4lFAGOik4rp2O0Aqwm+12HBUQD3TzjLIXzpA8X8MSwGsQkB3lZa/JwQ9QH0il7UK9yVA6aNF9wQtWEA+2aDAe5kxQNC8AUslPlJASmv0/A8PTUDT49lnPB9QQFIhm+JtI0dAwH1QwOrEVkB5nUxaOytMQNEwotQxeUBAVkr1lkWtWEB1kXN3tw9TQFtV8z49DjNADh5sJe0yK0DHuCWB/RQxQAycmr8ATFRAD0yS+QTxU0DRQpujjfRIQIKuo434RzZAUiXEBfUKTEDPHgoIPUpLQBOQ5KubakZApCF7Yj47O0CakDvSAw5FQCgz16mcaUxADPlhGlRaJ0BUwIpbNw1JQEjLrIQMDzRAOaUtamLTTUDerBFh2RxSQHt8sWnA6UJAChkOQ4rmVUC90/ShultOQBnH+g85oDpAJtssm9dPU0CB8XJUDhxNQBlhqjPfNyhA8yF7KjTSS0BhAeAtYRpTQI0xBsSxIy9AX8Nn6VZTU0ByfOaJHuJXQIkma4SxLgJAfON3n3IMWECodsfz+gdSQHyGqcn1IU5A8sKrV4A7HUDYVdqJASvUP5dg8F3q91ZAFS3rXQ6hVEB4np7Bw9fwP84Q1GR6UExAv9U5ZwOLRkDL/l6a6TgmQAh4Q27mCCpA6h2BsGsTUED5TM6Lhn1PQPzReKwPWTBAY7YOIdWxP0AsSJWnL3o1QOdHQYLrLktAwljpTY1XTkBAz9bVBJ1SQBdZkACf61VAPM6Zr7eZUkCd2dZqrUpUQO5YqxVxKVhAegpEJEqqJUCc0QvIF2ZSQM0XXJnRvlFABctlXMvvUUBOox1+/R0zQFDfGvQtp05AxXVOzhihNkA0bXg7KRpYQASnlLquuExAsHrxHeQkS0ASKyDSej8dQG18mnMTrFZAK6wnQjRHUEDN7ah6wiQoQIeaaNUZFEdADALLkeaKUUBMPFowpo9GQBT0DOLRGjlAhe9aU80sOEDtJ7a7WnkNQKjciz9t+SpAUkPqQN1BLEB4ccuZULxYQLGMm/VAVElAC6wfpEjBK0Dn6h0lftpEQKXmkMbK41RAdstHr7f/SECcS3cOBkxGQGAZ/HXQLkJA0luuqi5aTEBVPTX5o6BVQGmR5Iz1I1JA9r+PvjUyTEBym61wHSdBQEbb5yQ36FJAVrBj3kETVkAwoEUlY/o6QLzwJ3B/AlVA7fe8YX3bM0AJUZT/XmFFQNzx84JwxCRAylkI8ufSTEDXqqk2BLpNQHrXchlu3DZAQdF8U3ImVEAjY1miTXQ1QEQHcvZsfSdA6jgFQuy/QkCKzHHRsqBLQK6OZyJurjdAevzs3N9fVEDav2TPInNRQE2JKdK84UlAEoQRkVxSRkDkbEKTbZlHQEf3M9cAV1JAUHvVTwwPwj+FaaL9y0w9QN/w2dAHC1hAEj3/2PyFVkBZ/PGGnj5VQGVRJDYwHVBA46Nw+2NGUECE+c5L3oohQBvi558xmRlAnmdoQFjhP0B8IzBEzCNEQAOD6Fox5S5AeuXiTbu1VkD+oL43BrkeQB2cHQehgkRAypd6O060UkDuW7sRtRNIQDbSO5qYK0FAQV/1zjobVUDSkTerZqVDQMrC1vWkbhxAPyhXGOkWR0ByzutZ8aFIQNpP7SxkxFNADb1JS1oQUED6KfwkavFVQOvdBthGV0tAirvL9hIFKUAHeUh63Rs/QLtyz2+l7ENAEWUOulDdVUCjheYE59VEQBR/RRmEhC9AjJJeh5biUUBxqL3Xg/NAQOrVEhXIM1hA0FN4NK+NF0DlMUVPVYFMQO/r4CiNQU1AurJOMuiTVkAWog7rH4pRQMUXA1pZwldAu7kRpvxvS0BQOs3vmZbOP5lI6AoUq0pADUdLQ4KPSUBjX0J3wzYRQFETb3Yir1NAcIkFNIqQS0BIkWoLriBDQEXQ3cUtq0ZA5CGPz5BSIUA60kVnibRRQL/dCY6zJFZA0nFq4a9vTEBs8hKEYAtYQA2rDv8AtUVAsUgt+/+aMUAe6zWFdtdMQCAYANfGpe8/QWI1uiYXM0CC7sbFd0cvQC9QfrzWoEhAuIvOYsmGKkAjMhtCioNXQPpwuuMudlVAQJkmi1GKUUAr6SnfP+pQQIpKAvrgjkpAnEos4GJ0UEDnOHEG/idLQDuz9xUtb09Aygy/cXr98T9z/y1V7MtJQFCbUtfpiUZAUlo/i79DQED9W3VngrsuQCqB0ja5QD9AaopRlgpxPUB6JchR11E0QJeywCKv105ARMPGZwwHVUBur2vvzktSQF4m1Sn0ovw/v9daOxBdUkBfGcmGxfJGQB0/5XBu6E1AShY0EqGkWED+p2Ui3R0mQPSmkYV2vRRA/7vksYcBWEBOcbDYn9JPQNeMGfiySElATPLwToydQEDiM0KkVwtVQG0M4auMuFZAc9iNENHUVEDr2ZTa+SxGQGyJMTAUKFRAIqHjXeaL8D/CCTz1O/EuQD/YFbWY4U5Alg6VWPodOkAMVAtaL65XQOrzXP6/zldA6vle0HoSDkAYrPk5/ulAQDkCqidA/EdA86qNXV4fUUAPoHoqd9FTQDzuZAgVPU1AQvhyn5Y3TEC5NZJLiSNEQL0xEz/LZURA1CY4HYXfVEBNa36oP9EpQPsejtTo2ExA7doqXy31M0AESUVHBnJTQO+Uyu8JdU5AEaavsXssOUDGqdRoQRY9QEc1ypfrmU1AqO7w87FARECAtErmGvhMQPzgyPAWmVhAOFOxSiBBQkCk4jHXj0tRQB1QxXQD6EtA2W2yBEHpWEB2ACfnXLdCQPjjLnJOYlJAahLY6x4RT0CnhuJhKZFGQJ6RRY3HjUZAEKn3IvYkNEAqfZcly+1WQFXq9XhU+1VAWXg6GhWEUECxSpNa899YQJRhO35j2TBAKVrK6UZLLkDghUHHIZNBQL54g8CUw0ZAkriDvo/LJkBudD8ntYdCQPf/I81zVkVAMNzBBuAqNEBdOzADk0A2QOt1iwwzvFVA7Jso3xW0PEColZC4A9dNQDymF2/xxVFAlTW4gpSSCUAQa1LFQiYiQGli+CQuUldA977wwtp1U0B6nJi2VgpYQMb0crlk8ERAAMpYJTj/T0B11XbbZHsyQHRLND+lZzRA6MgCQKR+P0DOAZU57cohQFK4EHUflUFAb7OwVTGjTEAOJQBNlVpVQAKFvVECcUVAUOjC+CdwRkCHhvaK+FhNQCMTcLk65ChA4VZzX4c0RkCL+IRyC29PQHPoLyj+gldAhR6Iz3r+QEC+k1k2W4NGQLDq0sw4oFdAzjK5/7oRUUAab91AuUtEQExHK6vgHzdAMC8UJxuVUEBizL5kGw0xQJ+lRtEPqkxAIhWbFSRjTUDHdP9V/XdBQI9KPLSvPExAIYfRo25GWEAnyOuw69BKQGSPr/IGDlNAHR/sNTJhOUAXrIzkMGxTQD+WVdmHgDJAawfzKZW7UUAoeJnogLhGQA==\",\"dtype\":\"float64\",\"shape\":[2000]},\"y\":{\"__ndarray__\":\"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\",\"dtype\":\"float64\",\"shape\":[2000]}}},\"id\":\"99c24bbb-89c6-498b-a263-1b692a8aa115\",\"type\":\"ColumnDataSource\"},{\"attributes\":{\"callback\":null,\"tooltips\":[[\"index\",\"$index\"],[\"(x,y)\",\"($x, $y)\"],[\"radius\",\"@radius\"],[\"fill color\",\"$color[hex, swatch]:fill_color\"]]},\"id\":\"48d97e9e-e751-4150-b43c-003eba16f7c8\",\"type\":\"HoverTool\"},{\"attributes\":{\"plot\":{\"id\":\"8cacb43c-84b6-406b-97aa-ceec61263fc2\",\"subtype\":\"Figure\",\"type\":\"Plot\"},\"ticker\":{\"id\":\"a5c59c0c-1ed0-4d6f-a2d5-d23e9bbd709e\",\"type\":\"BasicTicker\"}},\"id\":\"488a565c-5540-447d-8056-fc0ea9477864\",\"type\":\"Grid\"},{\"attributes\":{\"dimension\":1,\"plot\":{\"id\":\"8cacb43c-84b6-406b-97aa-ceec61263fc2\",\"subtype\":\"Figure\",\"type\":\"Plot\"},\"ticker\":{\"id\":\"2fd13fa2-e5b0-4cfa-b099-bf852a2bc476\",\"type\":\"BasicTicker\"}},\"id\":\"77346ad9-5808-4e8f-a5a1-4372c40644ad\",\"type\":\"Grid\"},{\"attributes\":{\"formatter\":{\"id\":\"9c4c1bd9-30d8-48a7-9536-f24ee961a683\",\"type\":\"BasicTickFormatter\"},\"plot\":{\"id\":\"8cacb43c-84b6-406b-97aa-ceec61263fc2\",\"subtype\":\"Figure\",\"type\":\"Plot\"},\"ticker\":{\"id\":\"a5c59c0c-1ed0-4d6f-a2d5-d23e9bbd709e\",\"type\":\"BasicTicker\"}},\"id\":\"b4b65255-4425-4a61-9a7c-b63c1c381927\",\"type\":\"LinearAxis\"},{\"attributes\":{},\"id\":\"a5c59c0c-1ed0-4d6f-a2d5-d23e9bbd709e\",\"type\":\"BasicTicker\"},{\"attributes\":{\"formatter\":{\"id\":\"3de9b193-1914-47ee-ad28-0c141b35db6f\",\"type\":\"BasicTickFormatter\"},\"plot\":{\"id\":\"8cacb43c-84b6-406b-97aa-ceec61263fc2\",\"subtype\":\"Figure\",\"type\":\"Plot\"},\"ticker\":{\"id\":\"2fd13fa2-e5b0-4cfa-b099-bf852a2bc476\",\"type\":\"BasicTicker\"}},\"id\":\"22adc8f2-5c5c-4dac-badc-b460508069a0\",\"type\":\"LinearAxis\"},{\"attributes\":{},\"id\":\"2fd13fa2-e5b0-4cfa-b099-bf852a2bc476\",\"type\":\"BasicTicker\"},{\"attributes\":{\"fill_alpha\":{\"value\":0.6},\"fill_color\":{\"field\":\"fill_color\"},\"line_color\":{\"value\":null},\"radius\":{\"field\":\"radius\",\"units\":\"data\"},\"x\":{\"field\":\"x\"},\"y\":{\"field\":\"y\"}},\"id\":\"c5da4ae6-9ddb-42ac-ad78-9965bb64556f\",\"type\":\"Circle\"},{\"attributes\":{},\"id\":\"f953cc3f-5b61-4de6-9377-60689e653d24\",\"type\":\"WheelZoomTool\"},{\"attributes\":{\"source\":{\"id\":\"99c24bbb-89c6-498b-a263-1b692a8aa115\",\"type\":\"ColumnDataSource\"}},\"id\":\"c3993d57-d875-4400-bf28-cc47ee4f0e18\",\"type\":\"CDSView\"},{\"attributes\":{},\"id\":\"30124e5b-5f9e-486e-a52c-07d109118eb5\",\"type\":\"ResetTool\"},{\"attributes\":{},\"id\":\"3de9b193-1914-47ee-ad28-0c141b35db6f\",\"type\":\"BasicTickFormatter\"},{\"attributes\":{\"fill_alpha\":{\"value\":0.1},\"fill_color\":{\"value\":\"#1f77b4\"},\"line_alpha\":{\"value\":0.1},\"line_color\":{\"value\":\"#1f77b4\"},\"radius\":{\"field\":\"radius\",\"units\":\"data\"},\"x\":{\"field\":\"x\"},\"y\":{\"field\":\"y\"}},\"id\":\"738bce35-9b4b-412f-95dc-0055654b145c\",\"type\":\"Circle\"},{\"attributes\":{\"plot\":null,\"text\":\"Just an example plot\"},\"id\":\"363f945f-fb5d-48c3-94c8-08d8b4270859\",\"type\":\"Title\"},{\"attributes\":{\"below\":[{\"id\":\"b4b65255-4425-4a61-9a7c-b63c1c381927\",\"type\":\"LinearAxis\"}],\"left\":[{\"id\":\"22adc8f2-5c5c-4dac-badc-b460508069a0\",\"type\":\"LinearAxis\"}],\"renderers\":[{\"id\":\"b4b65255-4425-4a61-9a7c-b63c1c381927\",\"type\":\"LinearAxis\"},{\"id\":\"488a565c-5540-447d-8056-fc0ea9477864\",\"type\":\"Grid\"},{\"id\":\"22adc8f2-5c5c-4dac-badc-b460508069a0\",\"type\":\"LinearAxis\"},{\"id\":\"77346ad9-5808-4e8f-a5a1-4372c40644ad\",\"type\":\"Grid\"},{\"id\":\"2e211602-45a5-4371-8125-01ff1521aa3c\",\"type\":\"GlyphRenderer\"}],\"title\":{\"id\":\"363f945f-fb5d-48c3-94c8-08d8b4270859\",\"type\":\"Title\"},\"toolbar\":{\"id\":\"c03621f5-09d0-4658-8963-4bb27b75cd7d\",\"type\":\"Toolbar\"},\"x_range\":{\"id\":\"41fd1f9f-2242-4087-a16d-77fc72d76753\",\"type\":\"DataRange1d\"},\"x_scale\":{\"id\":\"b02c2403-85fa-41bd-a361-4a6009d08dfd\",\"type\":\"LinearScale\"},\"y_range\":{\"id\":\"d9c2a592-cb68-48ea-aab9-31cd17dfcfd0\",\"type\":\"DataRange1d\"},\"y_scale\":{\"id\":\"ed8b364e-e169-40c8-a12e-46c3d0c41194\",\"type\":\"LinearScale\"}},\"id\":\"8cacb43c-84b6-406b-97aa-ceec61263fc2\",\"subtype\":\"Figure\",\"type\":\"Plot\"},{\"attributes\":{\"callback\":null},\"id\":\"41fd1f9f-2242-4087-a16d-77fc72d76753\",\"type\":\"DataRange1d\"},{\"attributes\":{},\"id\":\"9c4c1bd9-30d8-48a7-9536-f24ee961a683\",\"type\":\"BasicTickFormatter\"},{\"attributes\":{\"active_drag\":\"auto\",\"active_inspect\":\"auto\",\"active_scroll\":\"auto\",\"active_tap\":\"auto\",\"tools\":[{\"id\":\"48d97e9e-e751-4150-b43c-003eba16f7c8\",\"type\":\"HoverTool\"},{\"id\":\"f953cc3f-5b61-4de6-9377-60689e653d24\",\"type\":\"WheelZoomTool\"},{\"id\":\"30124e5b-5f9e-486e-a52c-07d109118eb5\",\"type\":\"ResetTool\"}]},\"id\":\"c03621f5-09d0-4658-8963-4bb27b75cd7d\",\"type\":\"Toolbar\"},{\"attributes\":{\"data_source\":{\"id\":\"99c24bbb-89c6-498b-a263-1b692a8aa115\",\"type\":\"ColumnDataSource\"},\"glyph\":{\"id\":\"c5da4ae6-9ddb-42ac-ad78-9965bb64556f\",\"type\":\"Circle\"},\"hover_glyph\":null,\"muted_glyph\":null,\"nonselection_glyph\":{\"id\":\"738bce35-9b4b-412f-95dc-0055654b145c\",\"type\":\"Circle\"},\"selection_glyph\":null,\"view\":{\"id\":\"c3993d57-d875-4400-bf28-cc47ee4f0e18\",\"type\":\"CDSView\"}},\"id\":\"2e211602-45a5-4371-8125-01ff1521aa3c\",\"type\":\"GlyphRenderer\"},{\"attributes\":{\"callback\":null},\"id\":\"d9c2a592-cb68-48ea-aab9-31cd17dfcfd0\",\"type\":\"DataRange1d\"},{\"attributes\":{},\"id\":\"b02c2403-85fa-41bd-a361-4a6009d08dfd\",\"type\":\"LinearScale\"}],\"root_ids\":[\"8cacb43c-84b6-406b-97aa-ceec61263fc2\"]},\"title\":\"Bokeh Application\",\"version\":\"0.12.10\"}};\n",
       "    var render_items = [{\"docid\":\"85034d01-89aa-471c-bf74-6193537d45ce\",\"elementid\":\"539b7c4e-2e34-4056-8dc4-9dc9d662e13b\",\"modelid\":\"8cacb43c-84b6-406b-97aa-ceec61263fc2\"}];\n",
       "\n",
       "    root.Bokeh.embed.embed_items(docs_json, render_items);\n",
       "  }\n",
       "\n",
       "  if (root.Bokeh !== undefined) {\n",
       "    embed_document(root);\n",
       "  } else {\n",
       "    var attempts = 0;\n",
       "    var timer = setInterval(function(root) {\n",
       "      if (root.Bokeh !== undefined) {\n",
       "        embed_document(root);\n",
       "        clearInterval(timer);\n",
       "      }\n",
       "      attempts++;\n",
       "      if (attempts > 100) {\n",
       "        console.log(\"Bokeh: ERROR: Unable to embed document because BokehJS library is missing\")\n",
       "        clearInterval(timer);\n",
       "      }\n",
       "    }, 10, root)\n",
       "  }\n",
       "})(window);"
      ],
      "application/vnd.bokehjs_exec.v0+json": ""
     },
     "metadata": {
      "application/vnd.bokehjs_exec.v0+json": {
       "id": "8cacb43c-84b6-406b-97aa-ceec61263fc2"
      }
     },
     "output_type": "display_data"
    }
   ],
   "source": [
    "N = 2000\n",
    "x = np.random.random(size=N) * 100\n",
    "y = np.random.random(size=N) * 100\n",
    "radii = np.random.random(size=N) * 1.5\n",
    "colors = [\"#%02x%02x%02x\" % (r, g, 150) for r,g in zip(np.floor(50+2*x).astype(int), np.floor(30+2*y).astype(int))]\n",
    "\n",
    "hover = HoverTool(tooltips = [\n",
    "    (\"index\", \"$index\"),\n",
    "    (\"(x,y)\", \"($x, $y)\"),\n",
    "    (\"radius\", \"@radius\"),\n",
    "    (\"fill color\", \"$color[hex, swatch]:fill_color\")\n",
    "])\n",
    "\n",
    "p = figure(title = \"Just an example plot\", tools=[hover, 'wheel_zoom', 'reset'])\n",
    "p.circle(x, y, radius = radii, fill_color = colors, fill_alpha = 0.6, line_color = None)\n",
    "show(p)"
   ]
  },
  {
   "cell_type": "markdown",
   "metadata": {},
   "source": [
    "### What are glyphs?"
   ]
  },
  {
   "cell_type": "code",
   "execution_count": null,
   "metadata": {
    "collapsed": true
   },
   "outputs": [],
   "source": []
  },
  {
   "cell_type": "markdown",
   "metadata": {},
   "source": [
    "### A simple scatter plot"
   ]
  },
  {
   "cell_type": "code",
   "execution_count": null,
   "metadata": {
    "collapsed": true
   },
   "outputs": [],
   "source": []
  },
  {
   "cell_type": "markdown",
   "metadata": {},
   "source": [
    "### A scatter plot with different shapes"
   ]
  },
  {
   "cell_type": "code",
   "execution_count": null,
   "metadata": {
    "collapsed": true
   },
   "outputs": [],
   "source": []
  },
  {
   "cell_type": "markdown",
   "metadata": {},
   "source": [
    "### Customizing your scatter plots"
   ]
  },
  {
   "cell_type": "code",
   "execution_count": null,
   "metadata": {
    "collapsed": true
   },
   "outputs": [],
   "source": []
  },
  {
   "cell_type": "markdown",
   "metadata": {},
   "source": [
    "## Additional glyphs"
   ]
  },
  {
   "cell_type": "code",
   "execution_count": null,
   "metadata": {
    "collapsed": true
   },
   "outputs": [],
   "source": []
  },
  {
   "cell_type": "markdown",
   "metadata": {},
   "source": [
    "### Lines"
   ]
  },
  {
   "cell_type": "code",
   "execution_count": null,
   "metadata": {
    "collapsed": true
   },
   "outputs": [],
   "source": []
  },
  {
   "cell_type": "markdown",
   "metadata": {},
   "source": [
    "### Lines and markers"
   ]
  },
  {
   "cell_type": "code",
   "execution_count": null,
   "metadata": {
    "collapsed": true
   },
   "outputs": [],
   "source": []
  },
  {
   "cell_type": "markdown",
   "metadata": {},
   "source": [
    "### Patches"
   ]
  },
  {
   "cell_type": "code",
   "execution_count": null,
   "metadata": {
    "collapsed": true
   },
   "outputs": [],
   "source": []
  },
  {
   "cell_type": "markdown",
   "metadata": {},
   "source": [
    "## Data formats"
   ]
  },
  {
   "cell_type": "code",
   "execution_count": null,
   "metadata": {
    "collapsed": true
   },
   "outputs": [],
   "source": []
  },
  {
   "cell_type": "markdown",
   "metadata": {},
   "source": [
    "### Plotting data from NumPy arrays"
   ]
  },
  {
   "cell_type": "code",
   "execution_count": null,
   "metadata": {
    "collapsed": true
   },
   "outputs": [],
   "source": []
  },
  {
   "cell_type": "markdown",
   "metadata": {},
   "source": [
    "### Plotting data from Pandas DataFrames"
   ]
  },
  {
   "cell_type": "code",
   "execution_count": null,
   "metadata": {
    "collapsed": true
   },
   "outputs": [],
   "source": []
  },
  {
   "cell_type": "markdown",
   "metadata": {},
   "source": [
    "### The Bokeh ColumnDataSource"
   ]
  },
  {
   "cell_type": "code",
   "execution_count": null,
   "metadata": {
    "collapsed": true
   },
   "outputs": [],
   "source": []
  },
  {
   "cell_type": "markdown",
   "metadata": {},
   "source": [
    "### The Bokeh ColumnDataSource (continued)"
   ]
  },
  {
   "cell_type": "code",
   "execution_count": null,
   "metadata": {
    "collapsed": true
   },
   "outputs": [],
   "source": []
  },
  {
   "cell_type": "markdown",
   "metadata": {},
   "source": [
    "## Customizing glyphs"
   ]
  },
  {
   "cell_type": "code",
   "execution_count": null,
   "metadata": {
    "collapsed": true
   },
   "outputs": [],
   "source": []
  },
  {
   "cell_type": "markdown",
   "metadata": {},
   "source": [
    "### Selection and non-selection glyphs"
   ]
  },
  {
   "cell_type": "code",
   "execution_count": null,
   "metadata": {
    "collapsed": true
   },
   "outputs": [],
   "source": []
  },
  {
   "cell_type": "markdown",
   "metadata": {},
   "source": [
    "### Hover glyphs"
   ]
  },
  {
   "cell_type": "code",
   "execution_count": null,
   "metadata": {
    "collapsed": true
   },
   "outputs": [],
   "source": []
  },
  {
   "cell_type": "markdown",
   "metadata": {},
   "source": [
    "### Colormapping"
   ]
  },
  {
   "cell_type": "code",
   "execution_count": null,
   "metadata": {
    "collapsed": true
   },
   "outputs": [],
   "source": []
  },
  {
   "cell_type": "markdown",
   "metadata": {},
   "source": [
    "# Layouts, Interactions, and Annotations"
   ]
  },
  {
   "cell_type": "markdown",
   "metadata": {},
   "source": [
    "## Introduction to layouts"
   ]
  },
  {
   "cell_type": "code",
   "execution_count": null,
   "metadata": {
    "collapsed": true
   },
   "outputs": [],
   "source": []
  },
  {
   "cell_type": "markdown",
   "metadata": {},
   "source": [
    "### Creating rows of plots"
   ]
  },
  {
   "cell_type": "code",
   "execution_count": null,
   "metadata": {
    "collapsed": true
   },
   "outputs": [],
   "source": []
  },
  {
   "cell_type": "markdown",
   "metadata": {},
   "source": [
    "### Creating columns of plots"
   ]
  },
  {
   "cell_type": "code",
   "execution_count": null,
   "metadata": {
    "collapsed": true
   },
   "outputs": [],
   "source": []
  },
  {
   "cell_type": "markdown",
   "metadata": {},
   "source": [
    "### Nesting rows and columns of plots"
   ]
  },
  {
   "cell_type": "code",
   "execution_count": null,
   "metadata": {
    "collapsed": true
   },
   "outputs": [],
   "source": []
  },
  {
   "cell_type": "markdown",
   "metadata": {},
   "source": [
    "## Advanced layouts"
   ]
  },
  {
   "cell_type": "code",
   "execution_count": null,
   "metadata": {
    "collapsed": true
   },
   "outputs": [],
   "source": []
  },
  {
   "cell_type": "markdown",
   "metadata": {},
   "source": [
    "### Investigating the layout API"
   ]
  },
  {
   "cell_type": "code",
   "execution_count": null,
   "metadata": {
    "collapsed": true
   },
   "outputs": [],
   "source": []
  },
  {
   "cell_type": "markdown",
   "metadata": {},
   "source": [
    "### Creating gridded layouts"
   ]
  },
  {
   "cell_type": "code",
   "execution_count": null,
   "metadata": {
    "collapsed": true
   },
   "outputs": [],
   "source": []
  },
  {
   "cell_type": "markdown",
   "metadata": {},
   "source": [
    "### Starting tabbed layouts"
   ]
  },
  {
   "cell_type": "code",
   "execution_count": null,
   "metadata": {
    "collapsed": true
   },
   "outputs": [],
   "source": []
  },
  {
   "cell_type": "markdown",
   "metadata": {},
   "source": [
    "### Displaying tabbed layouts"
   ]
  },
  {
   "cell_type": "code",
   "execution_count": null,
   "metadata": {
    "collapsed": true
   },
   "outputs": [],
   "source": []
  },
  {
   "cell_type": "markdown",
   "metadata": {},
   "source": [
    "## Linking plots together"
   ]
  },
  {
   "cell_type": "code",
   "execution_count": null,
   "metadata": {
    "collapsed": true
   },
   "outputs": [],
   "source": []
  },
  {
   "cell_type": "markdown",
   "metadata": {},
   "source": [
    "### Linked axes"
   ]
  },
  {
   "cell_type": "code",
   "execution_count": null,
   "metadata": {
    "collapsed": true
   },
   "outputs": [],
   "source": []
  },
  {
   "cell_type": "markdown",
   "metadata": {},
   "source": [
    "### Linked brushing"
   ]
  },
  {
   "cell_type": "code",
   "execution_count": null,
   "metadata": {
    "collapsed": true
   },
   "outputs": [],
   "source": []
  },
  {
   "cell_type": "markdown",
   "metadata": {},
   "source": [
    "## Annotations and guides"
   ]
  },
  {
   "cell_type": "code",
   "execution_count": null,
   "metadata": {
    "collapsed": true
   },
   "outputs": [],
   "source": []
  },
  {
   "cell_type": "markdown",
   "metadata": {},
   "source": [
    "### How to create legends"
   ]
  },
  {
   "cell_type": "code",
   "execution_count": null,
   "metadata": {
    "collapsed": true
   },
   "outputs": [],
   "source": []
  },
  {
   "cell_type": "markdown",
   "metadata": {},
   "source": [
    "### Positioning and styling legends"
   ]
  },
  {
   "cell_type": "code",
   "execution_count": null,
   "metadata": {
    "collapsed": true
   },
   "outputs": [],
   "source": []
  },
  {
   "cell_type": "markdown",
   "metadata": {},
   "source": [
    "### Hover tooltips for exposing details"
   ]
  },
  {
   "cell_type": "code",
   "execution_count": null,
   "metadata": {
    "collapsed": true
   },
   "outputs": [],
   "source": []
  },
  {
   "cell_type": "markdown",
   "metadata": {},
   "source": [
    "### Adding a hover tooltip"
   ]
  },
  {
   "cell_type": "code",
   "execution_count": null,
   "metadata": {
    "collapsed": true
   },
   "outputs": [],
   "source": []
  },
  {
   "cell_type": "markdown",
   "metadata": {},
   "source": [
    "# Building interactive apps with Bokeh"
   ]
  },
  {
   "cell_type": "markdown",
   "metadata": {},
   "source": [
    "## Introducing the Bokeh Server"
   ]
  },
  {
   "cell_type": "code",
   "execution_count": null,
   "metadata": {
    "collapsed": true
   },
   "outputs": [],
   "source": []
  },
  {
   "cell_type": "markdown",
   "metadata": {},
   "source": [
    "### Understanding Bokeh apps"
   ]
  },
  {
   "cell_type": "code",
   "execution_count": null,
   "metadata": {
    "collapsed": true
   },
   "outputs": [],
   "source": []
  },
  {
   "cell_type": "markdown",
   "metadata": {},
   "source": [
    "### Using the current document"
   ]
  },
  {
   "cell_type": "code",
   "execution_count": null,
   "metadata": {
    "collapsed": true
   },
   "outputs": [],
   "source": []
  },
  {
   "cell_type": "markdown",
   "metadata": {},
   "source": [
    "### Add a single slider"
   ]
  },
  {
   "cell_type": "code",
   "execution_count": null,
   "metadata": {
    "collapsed": true
   },
   "outputs": [],
   "source": []
  },
  {
   "cell_type": "markdown",
   "metadata": {},
   "source": [
    "### Multiple sliders in one document"
   ]
  },
  {
   "cell_type": "code",
   "execution_count": null,
   "metadata": {
    "collapsed": true
   },
   "outputs": [],
   "source": []
  },
  {
   "cell_type": "markdown",
   "metadata": {},
   "source": [
    "## Connecting sliders to plots"
   ]
  },
  {
   "cell_type": "code",
   "execution_count": null,
   "metadata": {
    "collapsed": true
   },
   "outputs": [],
   "source": []
  },
  {
   "cell_type": "markdown",
   "metadata": {},
   "source": [
    "### Adding callbacks to sliders"
   ]
  },
  {
   "cell_type": "code",
   "execution_count": null,
   "metadata": {
    "collapsed": true
   },
   "outputs": [],
   "source": []
  },
  {
   "cell_type": "markdown",
   "metadata": {},
   "source": [
    "### How to combine Bokeh models into layouts"
   ]
  },
  {
   "cell_type": "code",
   "execution_count": null,
   "metadata": {
    "collapsed": true
   },
   "outputs": [],
   "source": []
  },
  {
   "cell_type": "markdown",
   "metadata": {},
   "source": [
    "### Learn about widget callbacks"
   ]
  },
  {
   "cell_type": "code",
   "execution_count": null,
   "metadata": {
    "collapsed": true
   },
   "outputs": [],
   "source": []
  },
  {
   "cell_type": "markdown",
   "metadata": {},
   "source": [
    "## Updating plots from dropdowns"
   ]
  },
  {
   "cell_type": "code",
   "execution_count": null,
   "metadata": {
    "collapsed": true
   },
   "outputs": [],
   "source": []
  },
  {
   "cell_type": "markdown",
   "metadata": {},
   "source": [
    "### Updating data sources from dropdown callbacks"
   ]
  },
  {
   "cell_type": "code",
   "execution_count": null,
   "metadata": {
    "collapsed": true
   },
   "outputs": [],
   "source": []
  },
  {
   "cell_type": "markdown",
   "metadata": {},
   "source": [
    "### Synchronize two dropdowns"
   ]
  },
  {
   "cell_type": "code",
   "execution_count": null,
   "metadata": {
    "collapsed": true
   },
   "outputs": [],
   "source": []
  },
  {
   "cell_type": "markdown",
   "metadata": {},
   "source": [
    "## Buttons"
   ]
  },
  {
   "cell_type": "code",
   "execution_count": null,
   "metadata": {
    "collapsed": true
   },
   "outputs": [],
   "source": []
  },
  {
   "cell_type": "markdown",
   "metadata": {},
   "source": [
    "### Button widgets"
   ]
  },
  {
   "cell_type": "code",
   "execution_count": null,
   "metadata": {
    "collapsed": true
   },
   "outputs": [],
   "source": []
  },
  {
   "cell_type": "markdown",
   "metadata": {},
   "source": [
    "### Button styles"
   ]
  },
  {
   "cell_type": "code",
   "execution_count": null,
   "metadata": {
    "collapsed": true
   },
   "outputs": [],
   "source": []
  },
  {
   "cell_type": "markdown",
   "metadata": {},
   "source": [
    "## Hosting applications for wider audiences"
   ]
  },
  {
   "cell_type": "code",
   "execution_count": null,
   "metadata": {
    "collapsed": true
   },
   "outputs": [],
   "source": []
  },
  {
   "cell_type": "markdown",
   "metadata": {},
   "source": [
    "# Putting It All Together! A Case Study"
   ]
  },
  {
   "cell_type": "markdown",
   "metadata": {},
   "source": [
    "## Time to put it all together!"
   ]
  },
  {
   "cell_type": "code",
   "execution_count": null,
   "metadata": {
    "collapsed": true
   },
   "outputs": [],
   "source": []
  },
  {
   "cell_type": "markdown",
   "metadata": {},
   "source": [
    "### Introducing the project dataset"
   ]
  },
  {
   "cell_type": "code",
   "execution_count": null,
   "metadata": {
    "collapsed": true
   },
   "outputs": [],
   "source": []
  },
  {
   "cell_type": "markdown",
   "metadata": {},
   "source": [
    "### Some exploratory plots of the data"
   ]
  },
  {
   "cell_type": "code",
   "execution_count": null,
   "metadata": {
    "collapsed": true
   },
   "outputs": [],
   "source": []
  },
  {
   "cell_type": "markdown",
   "metadata": {},
   "source": [
    "## Starting the app"
   ]
  },
  {
   "cell_type": "code",
   "execution_count": null,
   "metadata": {
    "collapsed": true
   },
   "outputs": [],
   "source": []
  },
  {
   "cell_type": "markdown",
   "metadata": {},
   "source": [
    "### Beginning with just a plot"
   ]
  },
  {
   "cell_type": "code",
   "execution_count": null,
   "metadata": {
    "collapsed": true
   },
   "outputs": [],
   "source": []
  },
  {
   "cell_type": "markdown",
   "metadata": {},
   "source": [
    "### Enhancing the plot with some shading"
   ]
  },
  {
   "cell_type": "code",
   "execution_count": null,
   "metadata": {
    "collapsed": true
   },
   "outputs": [],
   "source": []
  },
  {
   "cell_type": "markdown",
   "metadata": {},
   "source": [
    "### Adding a slider to vary the year"
   ]
  },
  {
   "cell_type": "code",
   "execution_count": null,
   "metadata": {
    "collapsed": true
   },
   "outputs": [],
   "source": []
  },
  {
   "cell_type": "markdown",
   "metadata": {},
   "source": [
    "### Customizing based on user input"
   ]
  },
  {
   "cell_type": "code",
   "execution_count": null,
   "metadata": {
    "collapsed": true
   },
   "outputs": [],
   "source": []
  },
  {
   "cell_type": "markdown",
   "metadata": {},
   "source": [
    "## Adding more interactivity to the app"
   ]
  },
  {
   "cell_type": "code",
   "execution_count": null,
   "metadata": {
    "collapsed": true
   },
   "outputs": [],
   "source": []
  },
  {
   "cell_type": "markdown",
   "metadata": {},
   "source": [
    "### Adding a hover tool"
   ]
  },
  {
   "cell_type": "code",
   "execution_count": null,
   "metadata": {
    "collapsed": true
   },
   "outputs": [],
   "source": []
  },
  {
   "cell_type": "markdown",
   "metadata": {},
   "source": [
    "### Adding dropdowns to the app"
   ]
  },
  {
   "cell_type": "code",
   "execution_count": null,
   "metadata": {
    "collapsed": true
   },
   "outputs": [],
   "source": []
  },
  {
   "cell_type": "markdown",
   "metadata": {},
   "source": [
    "## Congratulations!"
   ]
  }
 ],
 "metadata": {
  "kernelspec": {
   "display_name": "Python [conda env:python_datacamp]",
   "language": "python",
   "name": "conda-env-python_datacamp-py"
  },
  "language_info": {
   "codemirror_mode": {
    "name": "ipython",
    "version": 3
   },
   "file_extension": ".py",
   "mimetype": "text/x-python",
   "name": "python",
   "nbconvert_exporter": "python",
   "pygments_lexer": "ipython3",
   "version": "3.6.3"
  }
 },
 "nbformat": 4,
 "nbformat_minor": 2
}
