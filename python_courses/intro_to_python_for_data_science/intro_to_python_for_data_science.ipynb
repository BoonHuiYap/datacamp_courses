{
 "cells": [
  {
   "cell_type": "markdown",
   "metadata": {
    "nbpresent": {
     "id": "66258d4a-7df9-4f4e-8adc-70618629bb72"
    }
   },
   "source": [
    "# Python Basics"
   ]
  },
  {
   "cell_type": "markdown",
   "metadata": {
    "nbpresent": {
     "id": "8a42a6c2-d333-4269-b1dc-630fe9109009"
    }
   },
   "source": [
    "## Hello Python!"
   ]
  },
  {
   "cell_type": "markdown",
   "metadata": {
    "nbpresent": {
     "id": "26db525a-35a0-4b99-9fe1-5503fa0e0774"
    }
   },
   "source": [
    "### The Python Interface"
   ]
  },
  {
   "cell_type": "code",
   "execution_count": 24,
   "metadata": {
    "nbpresent": {
     "id": "1769f9cb-15c4-48fe-979a-7371689dd84b"
    }
   },
   "outputs": [
    {
     "name": "stdout",
     "output_type": "stream",
     "text": [
      "0.625\n",
      "17\n"
     ]
    }
   ],
   "source": [
    "# Example, do not modify!\n",
    "print(5 / 8)\n",
    "\n",
    "# Put code below here\n",
    "print(7 + 10)"
   ]
  },
  {
   "cell_type": "markdown",
   "metadata": {
    "nbpresent": {
     "id": "142faa04-e7a9-4cba-b328-d721f30db3e4"
    }
   },
   "source": [
    "### Python as a calculator"
   ]
  },
  {
   "cell_type": "code",
   "execution_count": 25,
   "metadata": {
    "nbpresent": {
     "id": "18ff757d-c6bb-4fd6-a41b-f1dcccf30866"
    }
   },
   "outputs": [
    {
     "name": "stdout",
     "output_type": "stream",
     "text": [
      "10\n",
      "0\n",
      "15\n",
      "5.0\n",
      "16\n",
      "4\n",
      "194.87171000000012\n"
     ]
    }
   ],
   "source": [
    "# Addition and subtraction\n",
    "print(5 + 5)\n",
    "print(5 - 5)\n",
    "\n",
    "# Multiplication and division\n",
    "print(3 * 5)\n",
    "print(10 / 2)\n",
    "\n",
    "# Exponentiation\n",
    "print(4 ** 2)\n",
    "\n",
    "# Modulo\n",
    "print(18 % 7)\n",
    "\n",
    "# How much is your $100 worth after 7 years?\n",
    "print(100 * 1.1**7)\n"
   ]
  },
  {
   "cell_type": "markdown",
   "metadata": {
    "nbpresent": {
     "id": "73f0dd25-9511-4bfb-8814-2d6f2c7bb0c1"
    }
   },
   "source": [
    "## Variables & Types"
   ]
  },
  {
   "cell_type": "markdown",
   "metadata": {
    "nbpresent": {
     "id": "023ea74d-f5d3-4a02-9c7d-c0df847e1499"
    }
   },
   "source": [
    "The `+` operator will perform differntly on different data types"
   ]
  },
  {
   "cell_type": "markdown",
   "metadata": {
    "nbpresent": {
     "id": "b2e26ad5-2aea-4405-bc5d-e04722a54565"
    }
   },
   "source": [
    "### Variable Assignment"
   ]
  },
  {
   "cell_type": "code",
   "execution_count": 26,
   "metadata": {
    "nbpresent": {
     "id": "5c27deb1-ce97-428e-a41d-4d13fcd94c2d"
    }
   },
   "outputs": [
    {
     "name": "stdout",
     "output_type": "stream",
     "text": [
      "100\n"
     ]
    }
   ],
   "source": [
    "# Create a variable savings\n",
    "savings = 100\n",
    "\n",
    "# Print out savings\n",
    "print(savings)"
   ]
  },
  {
   "cell_type": "markdown",
   "metadata": {
    "nbpresent": {
     "id": "c9c7702f-ddce-4c6e-96c3-3a0622105076"
    }
   },
   "source": [
    "### Calculations with variables"
   ]
  },
  {
   "cell_type": "markdown",
   "metadata": {
    "nbpresent": {
     "id": "6447501e-88e5-45aa-8611-6dd3edbcd831"
    }
   },
   "source": [
    "This uses `int` and `float` data types"
   ]
  },
  {
   "cell_type": "code",
   "execution_count": 27,
   "metadata": {
    "nbpresent": {
     "id": "4923639a-d3f2-4c22-81db-de4af707f38c"
    }
   },
   "outputs": [
    {
     "name": "stdout",
     "output_type": "stream",
     "text": [
      "194.87171000000012\n"
     ]
    }
   ],
   "source": [
    "# Create a variable savings\n",
    "savings = 100\n",
    "\n",
    "# Create a variable factor\n",
    "factor = 1.10\n",
    "\n",
    "# Calculate result\n",
    "result = savings * factor ** 7\n",
    "\n",
    "# Print out result\n",
    "print(result)"
   ]
  },
  {
   "cell_type": "markdown",
   "metadata": {
    "nbpresent": {
     "id": "c51c1028-ab3a-4b08-add5-7cd847ca888a"
    }
   },
   "source": [
    "### Other variable types"
   ]
  },
  {
   "cell_type": "markdown",
   "metadata": {
    "nbpresent": {
     "id": "0d313942-a6bd-4251-9a29-d7deece125be"
    }
   },
   "source": [
    "This uses `string` and `bool` data types"
   ]
  },
  {
   "cell_type": "code",
   "execution_count": 28,
   "metadata": {
    "collapsed": true,
    "nbpresent": {
     "id": "4d86d172-69ef-4081-a859-3bd35ac222b5"
    }
   },
   "outputs": [],
   "source": [
    "# Create a variable desc\n",
    "desc = \"compound interest\"\n",
    "\n",
    "# Create a variable profitable\n",
    "profitable = True"
   ]
  },
  {
   "cell_type": "markdown",
   "metadata": {
    "nbpresent": {
     "id": "c2bd5df4-8d1f-4942-9c15-639ee46edf05"
    }
   },
   "source": [
    "### Guess the type"
   ]
  },
  {
   "cell_type": "code",
   "execution_count": 29,
   "metadata": {
    "nbpresent": {
     "id": "b62b321e-a39c-4c7f-8db0-50b00fd8b7ae"
    }
   },
   "outputs": [
    {
     "name": "stdout",
     "output_type": "stream",
     "text": [
      "<class 'int'>\n",
      "<class 'float'>\n",
      "<class 'str'>\n",
      "<class 'bool'>\n"
     ]
    }
   ],
   "source": [
    "print(type(savings))\n",
    "print(type(factor))\n",
    "print(type(desc))\n",
    "print(type(profitable))"
   ]
  },
  {
   "cell_type": "markdown",
   "metadata": {
    "nbpresent": {
     "id": "fd25e5bc-126f-4233-b011-a677be483878"
    }
   },
   "source": [
    "### Operations with other types"
   ]
  },
  {
   "cell_type": "code",
   "execution_count": 30,
   "metadata": {
    "nbpresent": {
     "id": "69fbd96c-16cc-4516-9871-ca7c026a705b"
    }
   },
   "outputs": [
    {
     "name": "stdout",
     "output_type": "stream",
     "text": [
      "<class 'float'>\n"
     ]
    }
   ],
   "source": [
    "# Several variables to experiment with\n",
    "savings = 100\n",
    "factor = 1.1\n",
    "desc = \"compound interest\"\n",
    "\n",
    "# Assign product of factor and savings to year1\n",
    "year1 = savings * factor\n",
    "\n",
    "# Print the type of year1\n",
    "print(type(year1))"
   ]
  },
  {
   "cell_type": "code",
   "execution_count": 31,
   "metadata": {
    "nbpresent": {
     "id": "230eb6bb-35dc-4c2e-a13d-2a4fd7ae574d"
    }
   },
   "outputs": [
    {
     "name": "stdout",
     "output_type": "stream",
     "text": [
      "compound interestcompound interest\n"
     ]
    }
   ],
   "source": [
    "# Assign sum of desc and desc to doubledesc\n",
    "doubledesc = desc + desc\n",
    "\n",
    "# Print out doubledesc\n",
    "print(doubledesc)"
   ]
  },
  {
   "cell_type": "markdown",
   "metadata": {
    "nbpresent": {
     "id": "9aceb336-da65-4d9b-9b33-b3d138660cf8"
    }
   },
   "source": [
    "### Type conversion"
   ]
  },
  {
   "cell_type": "code",
   "execution_count": 32,
   "metadata": {
    "nbpresent": {
     "id": "816f9c0f-6717-479b-95f3-e1f14dd61c90"
    }
   },
   "outputs": [
    {
     "name": "stdout",
     "output_type": "stream",
     "text": [
      "I started with $100 and now have $194.87171000000012. Awesome!\n"
     ]
    }
   ],
   "source": [
    "# Definition of savings and result\n",
    "savings = 100\n",
    "result = 100 * 1.10 ** 7\n",
    "\n",
    "# Fix the printout\n",
    "print(\"I started with $\" + str(savings) + \" and now have $\" + str(result) + \". Awesome!\")"
   ]
  },
  {
   "cell_type": "code",
   "execution_count": 33,
   "metadata": {
    "nbpresent": {
     "id": "dba867d4-2c85-47e1-b641-1be3a28e4400"
    }
   },
   "outputs": [
    {
     "name": "stdout",
     "output_type": "stream",
     "text": [
      "<class 'float'>\n"
     ]
    }
   ],
   "source": [
    "# Definition of pi_string\n",
    "pi_string = \"3.1415926\"\n",
    "\n",
    "# Convert pi_string into float: pi_float\n",
    "pi_float = float(pi_string)\n",
    "\n",
    "print(type(pi_float))"
   ]
  },
  {
   "cell_type": "markdown",
   "metadata": {
    "nbpresent": {
     "id": "90dac4ed-ac29-4650-8925-03a400f4c221"
    }
   },
   "source": [
    "### Can python handle everything?"
   ]
  },
  {
   "cell_type": "markdown",
   "metadata": {
    "nbpresent": {
     "id": "bd06d529-3367-4397-9e40-c76e36118204"
    }
   },
   "source": [
    "Not everything. It cannot add strings to integers. But you can convert the int to a string with the `str()` function than concatenate the strings. \n",
    "\n",
    "Strings **can** be multiplied to show up a set number of times. \n",
    "\n",
    "Booleans can be added. They will be treated as 0 and 1 integers I think. "
   ]
  },
  {
   "cell_type": "code",
   "execution_count": 34,
   "metadata": {
    "nbpresent": {
     "id": "ec624ef5-c8e5-4485-9e7f-05e3effaaea4"
    }
   },
   "outputs": [
    {
     "data": {
      "text/plain": [
       "'I can add integers, like 5 to strings.'"
      ]
     },
     "execution_count": 34,
     "metadata": {},
     "output_type": "execute_result"
    }
   ],
   "source": [
    "\"I can add integers, like \" + str(5) + \" to strings.\""
   ]
  },
  {
   "cell_type": "code",
   "execution_count": 35,
   "metadata": {
    "nbpresent": {
     "id": "9498b28a-02da-4aef-94c7-8d94840329fa"
    }
   },
   "outputs": [
    {
     "data": {
      "text/plain": [
       "'I said Hey Hey Hey!'"
      ]
     },
     "execution_count": 35,
     "metadata": {},
     "output_type": "execute_result"
    }
   ],
   "source": [
    "\"I said \" + (\"Hey \" * 2) + \"Hey!\""
   ]
  },
  {
   "cell_type": "code",
   "execution_count": 36,
   "metadata": {
    "nbpresent": {
     "id": "fecc7b99-01b0-4016-a774-22e7864e1aed"
    }
   },
   "outputs": [
    {
     "ename": "TypeError",
     "evalue": "must be str, not int",
     "output_type": "error",
     "traceback": [
      "\u001b[0;31m---------------------------------------------------------------------------\u001b[0m",
      "\u001b[0;31mTypeError\u001b[0m                                 Traceback (most recent call last)",
      "\u001b[0;32m<ipython-input-36-5607077cba1e>\u001b[0m in \u001b[0;36m<module>\u001b[0;34m()\u001b[0m\n\u001b[0;32m----> 1\u001b[0;31m \u001b[0;34m\"The correct answer to this multiple choice exercise is answer number \"\u001b[0m \u001b[0;34m+\u001b[0m \u001b[0;36m2\u001b[0m\u001b[0;34m\u001b[0m\u001b[0m\n\u001b[0m",
      "\u001b[0;31mTypeError\u001b[0m: must be str, not int"
     ]
    }
   ],
   "source": [
    "\"The correct answer to this multiple choice exercise is answer number \" + 2"
   ]
  },
  {
   "cell_type": "code",
   "execution_count": 37,
   "metadata": {
    "nbpresent": {
     "id": "a1227891-3e3e-4693-8539-181401b47786"
    }
   },
   "outputs": [
    {
     "data": {
      "text/plain": [
       "1"
      ]
     },
     "execution_count": 37,
     "metadata": {},
     "output_type": "execute_result"
    }
   ],
   "source": [
    "True + False"
   ]
  },
  {
   "cell_type": "markdown",
   "metadata": {
    "nbpresent": {
     "id": "467c92d6-f9e0-4f98-adce-f4e8539c03f3"
    }
   },
   "source": [
    "# Python Lists"
   ]
  },
  {
   "cell_type": "markdown",
   "metadata": {
    "nbpresent": {
     "id": "4a0669e4-93f0-44b2-a509-ae37f7d910a3"
    }
   },
   "source": [
    "## Lists, what are they?"
   ]
  },
  {
   "cell_type": "markdown",
   "metadata": {
    "nbpresent": {
     "id": "db3eb46e-30a7-49b5-a879-30f6ac48818e"
    }
   },
   "source": [
    "- it is a collection of values\n",
    "- it can contain any data type\n",
    "- it can contain different data types\n",
    "- it can even hold other lists\n"
   ]
  },
  {
   "cell_type": "markdown",
   "metadata": {
    "nbpresent": {
     "id": "220bcc76-c55c-4f12-8817-aa6b28891042"
    }
   },
   "source": [
    "### Create a list"
   ]
  },
  {
   "cell_type": "code",
   "execution_count": 38,
   "metadata": {
    "nbpresent": {
     "id": "fb56d85a-56a2-41e7-b045-18ec0201d3f5"
    }
   },
   "outputs": [
    {
     "name": "stdout",
     "output_type": "stream",
     "text": [
      "[11.25, 18.0, 20.0, 10.75, 9.5]\n"
     ]
    }
   ],
   "source": [
    "# area variables (in square meters)\n",
    "hall = 11.25\n",
    "kit = 18.0\n",
    "liv = 20.0\n",
    "bed = 10.75\n",
    "bath = 9.50\n",
    "\n",
    "# Create list areas\n",
    "areas = [hall, kit, liv, bed, bath]\n",
    "\n",
    "# Print areas\n",
    "print(areas)"
   ]
  },
  {
   "cell_type": "markdown",
   "metadata": {
    "nbpresent": {
     "id": "95f367c2-4099-4d0b-98bf-f7ccf1dca9b6"
    }
   },
   "source": [
    "### Create list with different types"
   ]
  },
  {
   "cell_type": "code",
   "execution_count": 39,
   "metadata": {
    "nbpresent": {
     "id": "a98ac9e4-0452-46c5-b156-ca003fb9c1e3"
    }
   },
   "outputs": [
    {
     "name": "stdout",
     "output_type": "stream",
     "text": [
      "['hallway', 11.25, 'kitchen', 18.0, 'living room', 20.0, 'bedroom', 10.75, 'bathroom', 9.5]\n"
     ]
    }
   ],
   "source": [
    "# area variables (in square meters)\n",
    "hall = 11.25\n",
    "kit = 18.0\n",
    "liv = 20.0\n",
    "bed = 10.75\n",
    "bath = 9.50\n",
    "\n",
    "# Adapt list areas\n",
    "areas = [\"hallway\", hall, \"kitchen\", kit, \"living room\", liv, \"bedroom\", bed, \"bathroom\", bath]\n",
    "\n",
    "# Print areas\n",
    "print(areas)"
   ]
  },
  {
   "cell_type": "markdown",
   "metadata": {
    "nbpresent": {
     "id": "e55e0699-eea4-4df3-9fdd-283ada980931"
    }
   },
   "source": [
    "### Select the valid list"
   ]
  },
  {
   "cell_type": "markdown",
   "metadata": {
    "nbpresent": {
     "id": "09e0d2d6-2d16-4ad2-85c4-724362e0af53"
    }
   },
   "source": [
    "these are all valid lists:\n",
    "\n",
    "- [1, 3, 4, 2]\n",
    "- [[1, 2, 3], [4, 5, 7]]\n",
    "- [1 + 2, \"a\" * 5, 3]\n"
   ]
  },
  {
   "cell_type": "markdown",
   "metadata": {
    "nbpresent": {
     "id": "a67e2eb6-0335-4c2c-9f7d-05e4f4ef680a"
    }
   },
   "source": [
    "### List of lists"
   ]
  },
  {
   "cell_type": "code",
   "execution_count": 40,
   "metadata": {
    "nbpresent": {
     "id": "189fdfb2-527f-4bab-b408-9ef21c813dcd"
    }
   },
   "outputs": [
    {
     "name": "stdout",
     "output_type": "stream",
     "text": [
      "[['hallway', 11.25], ['kitchen', 18.0], ['living room', 20.0], ['bedroom', 10.75], ['bathroom', 9.5]]\n",
      "<class 'list'>\n"
     ]
    }
   ],
   "source": [
    "# area variables (in square meters)\n",
    "hall = 11.25\n",
    "kit = 18.0\n",
    "liv = 20.0\n",
    "bed = 10.75\n",
    "bath = 9.50\n",
    "\n",
    "# house information as list of lists\n",
    "house = [[\"hallway\", hall],\n",
    "         [\"kitchen\", kit],\n",
    "         [\"living room\", liv],\n",
    "         [\"bedroom\", bed],\n",
    "         [\"bathroom\", bath]\n",
    "         ]\n",
    "\n",
    "# Print out house\n",
    "print(house)\n",
    "\n",
    "# Print out the type of house\n",
    "print(type(house))"
   ]
  },
  {
   "cell_type": "markdown",
   "metadata": {
    "nbpresent": {
     "id": "2d2d58de-0b52-4783-9c07-14e4fc57bf2c"
    }
   },
   "source": [
    "## Subsetting lists"
   ]
  },
  {
   "cell_type": "markdown",
   "metadata": {
    "nbpresent": {
     "id": "1e246d7e-6ca3-4d4a-9731-165431bd0bb3"
    }
   },
   "source": [
    "- Python is zero indexed\n",
    "- you can count backwards with a negative index\n",
    " - -1 will give you the last element\n",
    " - -2 will give yoy the second to last element\n",
    "- for some reason the index specified at the end is not included. \n",
    " - so fam[3:5] will return the 4th and 5th element only. not the 6th. \n",
    "- if you leave out the start [:3] or end [0:] it will start at the beginning or go to the end respectively. \n"
   ]
  },
  {
   "cell_type": "markdown",
   "metadata": {
    "nbpresent": {
     "id": "601db5da-9e84-49cb-9b8b-e30e974bd1f7"
    }
   },
   "source": [
    "### Subset and conquer"
   ]
  },
  {
   "cell_type": "code",
   "execution_count": 41,
   "metadata": {
    "nbpresent": {
     "id": "109f354d-ceb3-4471-8368-bdc0d164be22"
    }
   },
   "outputs": [
    {
     "name": "stdout",
     "output_type": "stream",
     "text": [
      "11.25\n",
      "9.5\n",
      "20.0\n"
     ]
    }
   ],
   "source": [
    "# Create the areas list\n",
    "areas = [\"hallway\", 11.25, \"kitchen\", 18.0, \"living room\", 20.0, \"bedroom\", 10.75, \"bathroom\", 9.50]\n",
    "\n",
    "# Print out second element from areas\n",
    "print(areas[1])\n",
    "\n",
    "# Print out last element from areas\n",
    "print(areas[-1])\n",
    "\n",
    "# Print out the area of the living room\n",
    "print(areas[5])"
   ]
  },
  {
   "cell_type": "markdown",
   "metadata": {
    "nbpresent": {
     "id": "0da408d9-a255-464a-ba6e-4e8d713f5269"
    }
   },
   "source": [
    "### Subset and calculate"
   ]
  },
  {
   "cell_type": "code",
   "execution_count": 42,
   "metadata": {
    "nbpresent": {
     "id": "7fb8a4d1-0960-4f9f-b1be-514f1d5b9031"
    }
   },
   "outputs": [
    {
     "name": "stdout",
     "output_type": "stream",
     "text": [
      "28.75\n"
     ]
    }
   ],
   "source": [
    "# Create the areas list\n",
    "areas = [\"hallway\", 11.25, \"kitchen\", 18.0, \"living room\", 20.0, \"bedroom\", 10.75, \"bathroom\", 9.50]\n",
    "\n",
    "# Sum of kitchen and bedroom area: eat_sleep_area\n",
    "eat_sleep_area = areas[3] + areas[7]\n",
    "\n",
    "# Print the variable eat_sleep_area\n",
    "print(eat_sleep_area)"
   ]
  },
  {
   "cell_type": "markdown",
   "metadata": {
    "nbpresent": {
     "id": "5fa91751-1caf-47e0-ab8d-0c1872c25e72"
    }
   },
   "source": [
    "### Slicing and dicing"
   ]
  },
  {
   "cell_type": "code",
   "execution_count": 43,
   "metadata": {
    "nbpresent": {
     "id": "55779775-e481-43aa-9316-6172811c3097"
    }
   },
   "outputs": [
    {
     "name": "stdout",
     "output_type": "stream",
     "text": [
      "['hallway', 11.25, 'kitchen', 18.0, 'living room', 20.0]\n",
      "['bedroom', 10.75, 'bathroom', 9.5]\n"
     ]
    }
   ],
   "source": [
    "# Create the areas list\n",
    "areas = [\"hallway\", 11.25, \"kitchen\", 18.0, \"living room\", 20.0, \"bedroom\", 10.75, \"bathroom\", 9.50]\n",
    "\n",
    "# Use slicing to create downstairs\n",
    "downstairs = areas[:6]\n",
    "\n",
    "# Use slicing to create upstairs\n",
    "upstairs = areas[6:]\n",
    "\n",
    "# Print out downstairs and upstairs\n",
    "print(downstairs)\n",
    "print(upstairs)"
   ]
  },
  {
   "cell_type": "markdown",
   "metadata": {
    "nbpresent": {
     "id": "38d2758f-15ae-46e3-9b41-2b16c612fed3"
    }
   },
   "source": [
    "### Slicing and dicing (2)"
   ]
  },
  {
   "cell_type": "code",
   "execution_count": 44,
   "metadata": {
    "collapsed": true,
    "nbpresent": {
     "id": "467d85ea-0510-4413-b82e-749349e2aa55"
    }
   },
   "outputs": [],
   "source": [
    "# Create the areas list\n",
    "areas = [\"hallway\", 11.25, \"kitchen\", 18.0, \"living room\", 20.0, \"bedroom\", 10.75, \"bathroom\", 9.50]\n",
    "\n",
    "# Alternative slicing to create downstairs\n",
    "downstairs = areas[:6]\n",
    "\n",
    "# Alternative slicing to create upstairs\n",
    "upstairs = areas[6:]"
   ]
  },
  {
   "cell_type": "markdown",
   "metadata": {
    "nbpresent": {
     "id": "3aaec570-50bd-49e1-b473-8ab52bd0ecac"
    }
   },
   "source": [
    "### Subsetting lists of lists"
   ]
  },
  {
   "cell_type": "code",
   "execution_count": 52,
   "metadata": {
    "nbpresent": {
     "id": "c062a219-48bf-4270-bd82-c915f4f15892"
    }
   },
   "outputs": [
    {
     "data": {
      "text/plain": [
       "[['hallway', 11.25],\n",
       " ['kitchen', 18.0],\n",
       " ['living room', 20.0],\n",
       " ['bedroom', 10.75],\n",
       " ['bathroom', 9.5]]"
      ]
     },
     "execution_count": 52,
     "metadata": {},
     "output_type": "execute_result"
    }
   ],
   "source": [
    "house"
   ]
  },
  {
   "cell_type": "code",
   "execution_count": 53,
   "metadata": {
    "nbpresent": {
     "id": "d8e2590c-6cef-4b94-b25c-3054f1c608fd"
    }
   },
   "outputs": [
    {
     "data": {
      "text/plain": [
       "9.5"
      ]
     },
     "execution_count": 53,
     "metadata": {},
     "output_type": "execute_result"
    }
   ],
   "source": [
    "house[-1][1]"
   ]
  },
  {
   "cell_type": "markdown",
   "metadata": {
    "nbpresent": {
     "id": "d25d8ae4-53c0-4f33-b6fc-eefde7c6ba63"
    }
   },
   "source": [
    "## List Manipulation"
   ]
  },
  {
   "cell_type": "markdown",
   "metadata": {
    "nbpresent": {
     "id": "e8cf322f-2dbe-488f-8564-1142bfdc1c52"
    }
   },
   "source": [
    "- You can update an element by setting that element equal to a new value\n",
    " - you can update multiple elements at the same time with `fam[0:2] = [\"me\", 1.79]`\n",
    "- the `+` operator will simply paste the contents of two lists into one list.\n",
    "- use `del(fam[2])` to delete the second element\n",
    "- if you set y = x, then update y, it will also update x. \n",
    " - they are both just references to the same list stored on the computer. interesting.\n",
    " - if you don't want this then use `y = list(x)` or `y = x[:]` and y will be a new object based on x rather than just a reference to x."
   ]
  },
  {
   "cell_type": "markdown",
   "metadata": {
    "nbpresent": {
     "id": "d5f00e9b-faff-4224-9532-9d8a3a3dc1a7"
    }
   },
   "source": [
    "### Replace list elements"
   ]
  },
  {
   "cell_type": "code",
   "execution_count": 55,
   "metadata": {
    "nbpresent": {
     "id": "127c91e8-1571-4a79-a3ec-fb16137e5570"
    }
   },
   "outputs": [
    {
     "name": "stdout",
     "output_type": "stream",
     "text": [
      "['hallway', 11.25, 'kitchen', 18.0, 'living room', 20.0, 'bedroom', 10.75, 'bathroom', 9.5]\n",
      "['hallway', 11.25, 'kitchen', 18.0, 'living room', 20.0, 'bedroom', 10.75, 'bathroom', 10.5]\n",
      "['hallway', 11.25, 'kitchen', 18.0, 'chill zone', 20.0, 'bedroom', 10.75, 'bathroom', 10.5]\n"
     ]
    }
   ],
   "source": [
    "# Create the areas list\n",
    "areas = [\"hallway\", 11.25, \"kitchen\", 18.0, \"living room\", 20.0, \"bedroom\", 10.75, \"bathroom\", 9.50]\n",
    "print(areas)\n",
    "\n",
    "# Correct the bathroom area\n",
    "areas[-1] = 10.5\n",
    "print(areas)\n",
    "\n",
    "# Change \"living room\" to \"chill zone\"\n",
    "areas[4] = \"chill zone\"\n",
    "print(areas)"
   ]
  },
  {
   "cell_type": "markdown",
   "metadata": {
    "nbpresent": {
     "id": "1a1f6ffb-24e9-4930-8106-7d513b4f3595"
    }
   },
   "source": [
    "### Extend a list"
   ]
  },
  {
   "cell_type": "code",
   "execution_count": 63,
   "metadata": {
    "nbpresent": {
     "id": "698ef290-36fb-414a-b5f4-5efd0df40225"
    }
   },
   "outputs": [
    {
     "name": "stdout",
     "output_type": "stream",
     "text": [
      "['hallway', 11.25, 'kitchen', 18.0, 'chill zone', 20.0, 'bedroom', 10.75, 'bathroom', 10.5]\n",
      "['hallway', 11.25, 'kitchen', 18.0, 'chill zone', 20.0, 'bedroom', 10.75, 'bathroom', 10.5, 'poolhouse', 24.5]\n",
      "['hallway', 11.25, 'kitchen', 18.0, 'chill zone', 20.0, 'bedroom', 10.75, 'bathroom', 10.5, 'poolhouse', 24.5, 'garage', 15.45]\n"
     ]
    }
   ],
   "source": [
    "# Create the areas list and make some changes\n",
    "areas = [\"hallway\", 11.25, \"kitchen\", 18.0, \"chill zone\", 20.0,\n",
    "         \"bedroom\", 10.75, \"bathroom\", 10.50]\n",
    "print(areas)\n",
    "\n",
    "# Add poolhouse data to areas, new list is areas_1\n",
    "areas_1 = areas + [\"poolhouse\", 24.5]\n",
    "print(areas_1)\n",
    "\n",
    "# Add garage data to areas_1, new list is areas_2\n",
    "areas_2 = areas_1 + [\"garage\", 15.45]\n",
    "print(areas_2)"
   ]
  },
  {
   "cell_type": "markdown",
   "metadata": {
    "nbpresent": {
     "id": "1750f9ca-aa69-4fe2-b4e5-113d19731142"
    }
   },
   "source": [
    "### Delete list elements"
   ]
  },
  {
   "cell_type": "markdown",
   "metadata": {
    "nbpresent": {
     "id": "0e8c3e13-7ca0-4d2e-8461-6f436a153dd5"
    }
   },
   "source": [
    "Remove the poolhouse from `areas_2`"
   ]
  },
  {
   "cell_type": "code",
   "execution_count": 64,
   "metadata": {
    "nbpresent": {
     "id": "5802f0cd-70b6-4fd3-bd7c-bf3cf71e8cbf"
    }
   },
   "outputs": [
    {
     "name": "stdout",
     "output_type": "stream",
     "text": [
      "['hallway', 11.25, 'kitchen', 18.0, 'chill zone', 20.0, 'bedroom', 10.75, 'bathroom', 10.5, 'poolhouse', 24.5, 'garage', 15.45]\n",
      "['hallway', 11.25, 'kitchen', 18.0, 'chill zone', 20.0, 'bedroom', 10.75, 'bathroom', 10.5, 'garage', 15.45]\n"
     ]
    }
   ],
   "source": [
    "print(areas_2)\n",
    "del(areas_2[-4:-2])\n",
    "print(areas_2)"
   ]
  },
  {
   "cell_type": "markdown",
   "metadata": {
    "nbpresent": {
     "id": "c90b41f9-ccce-4fd4-9847-47eb62abc2cc"
    }
   },
   "source": [
    "### Inner workings of lists"
   ]
  },
  {
   "cell_type": "code",
   "execution_count": 66,
   "metadata": {
    "nbpresent": {
     "id": "1c2f2468-38a2-41e9-bef0-5ea23f71499f"
    }
   },
   "outputs": [
    {
     "name": "stdout",
     "output_type": "stream",
     "text": [
      "[11.25, 18.0, 20.0, 10.75, 9.5]\n",
      "[5.0, 18.0, 20.0, 10.75, 9.5]\n"
     ]
    }
   ],
   "source": [
    "# Create list areas\n",
    "areas = [11.25, 18.0, 20.0, 10.75, 9.50]\n",
    "print(areas)\n",
    "\n",
    "# Create areas_copy\n",
    "areas_copy = areas\n",
    "\n",
    "# Change areas_copy\n",
    "areas_copy[0] = 5.0\n",
    "\n",
    "# Print areas\n",
    "print(areas)"
   ]
  },
  {
   "cell_type": "markdown",
   "metadata": {
    "nbpresent": {
     "id": "6e7c1e5f-5c40-466d-82e3-f0b741912b9d"
    }
   },
   "source": [
    "# Functions and Packages"
   ]
  },
  {
   "cell_type": "markdown",
   "metadata": {
    "nbpresent": {
     "id": "ad4bef69-c565-4da4-af50-0eb39fa5be70"
    }
   },
   "source": [
    "## Functions"
   ]
  },
  {
   "cell_type": "markdown",
   "metadata": {
    "nbpresent": {
     "id": "64247ce2-312c-42fa-8204-9098fdaa6a31"
    }
   },
   "source": [
    "### Familiar functions"
   ]
  },
  {
   "cell_type": "code",
   "execution_count": 69,
   "metadata": {
    "nbpresent": {
     "id": "ad7f83ee-b125-42ca-9e71-7fa8012c0cea"
    }
   },
   "outputs": [
    {
     "name": "stdout",
     "output_type": "stream",
     "text": [
      "<class 'list'>\n",
      "4\n",
      "1\n"
     ]
    }
   ],
   "source": [
    "# Create variables var1 and var2\n",
    "var1 = [1, 2, 3, 4]\n",
    "var2 = True\n",
    "\n",
    "# Print out type of var1\n",
    "print(type(var1))\n",
    "\n",
    "# Print out length of var1\n",
    "print(len(var1))\n",
    "\n",
    "# Convert var2 to an integer: out2\n",
    "out2 = int(var2)\n",
    "print(out2)"
   ]
  },
  {
   "cell_type": "markdown",
   "metadata": {
    "nbpresent": {
     "id": "ef225f87-207f-4e94-b375-f53afe835fba"
    }
   },
   "source": [
    "### Help!"
   ]
  },
  {
   "cell_type": "code",
   "execution_count": 70,
   "metadata": {
    "nbpresent": {
     "id": "ab97f752-baec-436f-8576-8d0989efd4dc"
    }
   },
   "outputs": [
    {
     "name": "stdout",
     "output_type": "stream",
     "text": [
      "Help on built-in function max in module builtins:\n",
      "\n",
      "max(...)\n",
      "    max(iterable, *[, default=obj, key=func]) -> value\n",
      "    max(arg1, arg2, *args, *[, key=func]) -> value\n",
      "    \n",
      "    With a single iterable argument, return its biggest item. The\n",
      "    default keyword-only argument specifies an object to return if\n",
      "    the provided iterable is empty.\n",
      "    With two or more arguments, return the largest argument.\n",
      "\n"
     ]
    }
   ],
   "source": [
    "help(max)"
   ]
  },
  {
   "cell_type": "markdown",
   "metadata": {
    "nbpresent": {
     "id": "a1c9a82c-798e-4992-9613-6d7d0bb9af74"
    }
   },
   "source": [
    "In jupyter you can type `?help` to get help on a function in pop up. "
   ]
  },
  {
   "cell_type": "markdown",
   "metadata": {
    "nbpresent": {
     "id": "82c90639-fc60-44c8-af91-7cd06d404a75"
    }
   },
   "source": [
    "### Multiple arguments"
   ]
  },
  {
   "cell_type": "markdown",
   "metadata": {},
   "source": [
    "- sorted takes 3 arguments, iterable, key, and reverse\n",
    " - `iteratble` is required\n",
    " - `key` is optional. it is set to `None` by default\n",
    " - `reverse` is optional, it is set to `False` by default\n",
    " - You do not need to name `iterable`. But you need to name the optional arguments.  "
   ]
  },
  {
   "cell_type": "code",
   "execution_count": 72,
   "metadata": {
    "nbpresent": {
     "id": "701288f3-efcc-46af-ad2f-dadd9fc64a02"
    }
   },
   "outputs": [
    {
     "name": "stdout",
     "output_type": "stream",
     "text": [
      "[20.0, 18.0, 11.25, 10.75, 9.5]\n"
     ]
    }
   ],
   "source": [
    "# Create lists first and second\n",
    "first = [11.25, 18.0, 20.0]\n",
    "second = [10.75, 9.50]\n",
    "\n",
    "# Paste together first and second: full\n",
    "full = first + second\n",
    "\n",
    "# Sort full in descending order: full_sorted\n",
    "full_sorted = sorted(full, reverse=True)\n",
    "\n",
    "# Print out full_sorted\n",
    "print(full_sorted)"
   ]
  },
  {
   "cell_type": "markdown",
   "metadata": {
    "nbpresent": {
     "id": "26cb68d5-d9ae-4f95-9522-89bca493ffa8"
    }
   },
   "source": [
    "## Methods"
   ]
  },
  {
   "cell_type": "markdown",
   "metadata": {},
   "source": [
    "- Methods are similar to functions but a little different\n",
    "- You call them on an object, rather than passing an argument into a function\n",
    " - They are functions that work on specific objects\n",
    "- Getting the index of specific element from a list is a good example of a methos\n",
    " - `index` is a method \n",
    " - `fam.index(\"mom\")`\n",
    "- `count` is another method. This counts the number of times an element appears in the list\n",
    " - `fam.count(1.73)`\n",
    "- different objects have specific methods associated with them. \n",
    " - i.e. Lists and strings have different methods\n",
    " - e.g. `sister.replace(\"z\", \"sa\")` will work on a sting but not on a list. \n",
    " - the methods may have the same name but work differently\n",
    " - index will give you the location of the letters in a string, but the location of an element of a list\n",
    " "
   ]
  },
  {
   "cell_type": "markdown",
   "metadata": {
    "nbpresent": {
     "id": "035b30ef-24eb-4612-b5ac-34edcb24a634"
    }
   },
   "source": [
    "### String Methods"
   ]
  },
  {
   "cell_type": "code",
   "execution_count": 76,
   "metadata": {
    "nbpresent": {
     "id": "3963fe50-dfac-4df3-9713-6aede4e1f37c"
    }
   },
   "outputs": [
    {
     "name": "stdout",
     "output_type": "stream",
     "text": [
      "poolhouse\n"
     ]
    }
   ],
   "source": [
    "# string to experiment with: room\n",
    "room = \"poolhouse\"\n",
    "print(room)"
   ]
  },
  {
   "cell_type": "code",
   "execution_count": 74,
   "metadata": {},
   "outputs": [
    {
     "name": "stdout",
     "output_type": "stream",
     "text": [
      "POOLHOUSE\n"
     ]
    }
   ],
   "source": [
    "# Use upper() on room: room_up\n",
    "room_up = room.upper()\n",
    "print(room_up)"
   ]
  },
  {
   "cell_type": "code",
   "execution_count": 75,
   "metadata": {},
   "outputs": [
    {
     "name": "stdout",
     "output_type": "stream",
     "text": [
      "3\n"
     ]
    }
   ],
   "source": [
    "# Print out the number of o's in room\n",
    "print(room.count(\"o\"))"
   ]
  },
  {
   "cell_type": "markdown",
   "metadata": {
    "nbpresent": {
     "id": "d56b3054-5699-4001-9d2d-7ea207e82a39"
    }
   },
   "source": [
    "### List Methods"
   ]
  },
  {
   "cell_type": "code",
   "execution_count": 77,
   "metadata": {
    "nbpresent": {
     "id": "4ae56f36-e7ec-4a61-8a76-868eec8c5cf6"
    }
   },
   "outputs": [
    {
     "name": "stdout",
     "output_type": "stream",
     "text": [
      "2\n",
      "0\n"
     ]
    }
   ],
   "source": [
    "# Create list areas\n",
    "areas = [11.25, 18.0, 20.0, 10.75, 9.50]\n",
    "\n",
    "# Print out the index of the element 20.0\n",
    "print(areas.index(20.0))\n",
    "\n",
    "# Print out how often 14.5 appears in areas\n",
    "print(areas.count(14.5))\n"
   ]
  },
  {
   "cell_type": "markdown",
   "metadata": {
    "nbpresent": {
     "id": "934bd6dd-8633-4f17-b806-0700f0b87e69"
    }
   },
   "source": [
    "### List Methods (2)"
   ]
  },
  {
   "cell_type": "code",
   "execution_count": 79,
   "metadata": {
    "nbpresent": {
     "id": "5ec8c463-93d2-41bb-9ba4-4667ad102923"
    }
   },
   "outputs": [
    {
     "name": "stdout",
     "output_type": "stream",
     "text": [
      "[11.25, 18.0, 20.0, 10.75, 9.5, 24.5, 15.45]\n"
     ]
    }
   ],
   "source": [
    "# Create list areas\n",
    "areas = [11.25, 18.0, 20.0, 10.75, 9.50]\n",
    "\n",
    "# Use append twice to add poolhouse and garage size\n",
    "areas.append(24.5)\n",
    "areas.append(15.45)\n",
    "\n",
    "# Print out areas\n",
    "print(areas)"
   ]
  },
  {
   "cell_type": "code",
   "execution_count": 80,
   "metadata": {},
   "outputs": [
    {
     "name": "stdout",
     "output_type": "stream",
     "text": [
      "[15.45, 24.5, 9.5, 10.75, 20.0, 18.0, 11.25]\n"
     ]
    }
   ],
   "source": [
    "# Reverse the orders of the elements in areas\n",
    "areas.reverse()\n",
    "\n",
    "# Print out areas\n",
    "print(areas)"
   ]
  },
  {
   "cell_type": "markdown",
   "metadata": {
    "nbpresent": {
     "id": "e89c5f4f-9e99-4456-af2e-f627cd8e7c41"
    }
   },
   "source": [
    "## Packages"
   ]
  },
  {
   "cell_type": "markdown",
   "metadata": {
    "collapsed": true
   },
   "source": [
    "- a directory of python scripts\n",
    "- there are thousands\n",
    "- some good data science packages\n",
    " - numpy, matplotlib, scikit-learn\n",
    "- You install the packages with pip or conda\n",
    " - Then import the package or specific functions from it in your script before calling the funcitons\n",
    "- its common to shorten the packages\n",
    " - `import numpy as np`"
   ]
  },
  {
   "cell_type": "markdown",
   "metadata": {
    "nbpresent": {
     "id": "bbf5064f-2695-420b-b1e5-abf1360c2d5b"
    }
   },
   "source": [
    "### Import package"
   ]
  },
  {
   "cell_type": "code",
   "execution_count": 81,
   "metadata": {
    "nbpresent": {
     "id": "4285cd42-8a13-4098-85de-c3b90a9bdb44"
    }
   },
   "outputs": [
    {
     "name": "stdout",
     "output_type": "stream",
     "text": [
      "Circumference: 2.701769682087222\n",
      "Area: 0.5808804816487527\n"
     ]
    }
   ],
   "source": [
    "# Definition of radius\n",
    "r = 0.43\n",
    "\n",
    "# Import the math package\n",
    "import math\n",
    "\n",
    "# Calculate C\n",
    "C = 2 * math.pi * r\n",
    "\n",
    "# Calculate A\n",
    "A = math.pi * r ** 2\n",
    "\n",
    "# Build printout\n",
    "print(\"Circumference: \" + str(C))\n",
    "print(\"Area: \" + str(A))"
   ]
  },
  {
   "cell_type": "markdown",
   "metadata": {
    "nbpresent": {
     "id": "9aa30b44-2dbb-42f2-8282-abd69fbd5b1e"
    }
   },
   "source": [
    "### Selective import"
   ]
  },
  {
   "cell_type": "code",
   "execution_count": 82,
   "metadata": {
    "nbpresent": {
     "id": "f236dd40-34e4-4d1c-a753-399fd29b8ada"
    }
   },
   "outputs": [
    {
     "name": "stdout",
     "output_type": "stream",
     "text": [
      "40317.10572106901\n"
     ]
    }
   ],
   "source": [
    "# Definition of radius\n",
    "r = 192500\n",
    "\n",
    "# Import radians function of math package\n",
    "from math import radians\n",
    "\n",
    "# Travel distance of Moon over 12 degrees. Store in dist.\n",
    "phi = radians(12)\n",
    "dist = r * phi\n",
    "\n",
    "# Print out dist\n",
    "print(dist)"
   ]
  },
  {
   "cell_type": "markdown",
   "metadata": {
    "nbpresent": {
     "id": "3feb4b0f-8763-493e-b1a5-3be4c92cccc1"
    }
   },
   "source": [
    "### Different ways of importing"
   ]
  },
  {
   "cell_type": "markdown",
   "metadata": {
    "collapsed": true
   },
   "source": [
    "- Lets say you want to use the `inv()` function from `linalg` subpackage of `scipy` like this:\n",
    " - `my_inv([[1,2], [3,4]])`\n",
    "- How would you import it\n",
    " - `from scipy.linalg import inv as my_inv`"
   ]
  },
  {
   "cell_type": "markdown",
   "metadata": {
    "nbpresent": {
     "id": "b70cf70d-6856-49b8-9eca-1843005d57a3"
    }
   },
   "source": [
    "# NumPy"
   ]
  },
  {
   "cell_type": "markdown",
   "metadata": {
    "nbpresent": {
     "id": "37b3b77b-f85b-4d09-add7-df9105af90c0"
    }
   },
   "source": [
    "## NumPy"
   ]
  },
  {
   "cell_type": "markdown",
   "metadata": {},
   "source": [
    "Lists vs NumPy\n",
    "- Lists are powerful\n",
    " - you can hold a collection of values, even different values, and change, add or remove these values\n",
    "- But there is something huge missing\n",
    " - Python does not know how to perform calculations on list.\n",
    " - You would have to loop through each element of two list and perform a calculation storing the result in another list.\n",
    " - This is slow\n",
    "- NumPy lets you perform calculations on lists. \n",
    " - you can convert a list into a np array\n",
    " \n",
    "Types and methods\n",
    "\n",
    "- A np array can only contain one data type\n",
    " - so, if you use `np.array` on a list with multiple types it will pick one type to fit all, like a string. \n",
    "- The methods will work different on a numpy array than a list\n",
    " - `+` on an np array will sum the elements, not concatenate the elements. \n",
    "\n",
    "Subsetting:\n",
    "\n",
    "- to index, you can just use square brackets \n",
    " - `bmi[1]`\n",
    "- you can also use an array of booleans to get multiple values\n",
    " - `bmi[bmi > 23]`\n",
    "\n"
   ]
  },
  {
   "cell_type": "code",
   "execution_count": 96,
   "metadata": {
    "nbpresent": {
     "id": "d7f8f50e-e273-4a69-98fc-5c18fb081f60"
    }
   },
   "outputs": [
    {
     "ename": "TypeError",
     "evalue": "unsupported operand type(s) for ** or pow(): 'list' and 'int'",
     "output_type": "error",
     "traceback": [
      "\u001b[0;31m---------------------------------------------------------------------------\u001b[0m",
      "\u001b[0;31mTypeError\u001b[0m                                 Traceback (most recent call last)",
      "\u001b[0;32m<ipython-input-96-36d402765b44>\u001b[0m in \u001b[0;36m<module>\u001b[0;34m()\u001b[0m\n\u001b[1;32m      2\u001b[0m \u001b[0mheight\u001b[0m \u001b[0;34m=\u001b[0m \u001b[0;34m[\u001b[0m\u001b[0;36m1.73\u001b[0m\u001b[0;34m,\u001b[0m \u001b[0;36m1.68\u001b[0m\u001b[0;34m,\u001b[0m \u001b[0;36m1.71\u001b[0m\u001b[0;34m,\u001b[0m \u001b[0;36m1.89\u001b[0m\u001b[0;34m,\u001b[0m \u001b[0;36m1.79\u001b[0m\u001b[0;34m]\u001b[0m\u001b[0;34m\u001b[0m\u001b[0m\n\u001b[1;32m      3\u001b[0m \u001b[0mweight\u001b[0m \u001b[0;34m=\u001b[0m \u001b[0;34m[\u001b[0m\u001b[0;36m65.4\u001b[0m\u001b[0;34m,\u001b[0m \u001b[0;36m59.2\u001b[0m\u001b[0;34m,\u001b[0m \u001b[0;36m63.6\u001b[0m\u001b[0;34m,\u001b[0m \u001b[0;36m88.4\u001b[0m\u001b[0;34m,\u001b[0m \u001b[0;36m68.7\u001b[0m\u001b[0;34m]\u001b[0m\u001b[0;34m\u001b[0m\u001b[0m\n\u001b[0;32m----> 4\u001b[0;31m \u001b[0mweight\u001b[0m \u001b[0;34m/\u001b[0m \u001b[0mheight\u001b[0m \u001b[0;34m**\u001b[0m \u001b[0;36m2\u001b[0m\u001b[0;34m\u001b[0m\u001b[0m\n\u001b[0m",
      "\u001b[0;31mTypeError\u001b[0m: unsupported operand type(s) for ** or pow(): 'list' and 'int'"
     ]
    }
   ],
   "source": [
    "# This wont work with lists\n",
    "height = [1.73, 1.68, 1.71, 1.89, 1.79]\n",
    "weight = [65.4, 59.2, 63.6, 88.4, 68.7]\n",
    "weight / height ** 2\n"
   ]
  },
  {
   "cell_type": "code",
   "execution_count": 94,
   "metadata": {},
   "outputs": [
    {
     "name": "stdout",
     "output_type": "stream",
     "text": [
      "[ 1.73  1.68  1.71  1.89  1.79]\n",
      "[ 65.4  59.2  63.6  88.4  68.7]\n"
     ]
    }
   ],
   "source": [
    "import numpy as np\n",
    "\n",
    "np_height = np.array(height)\n",
    "np_weight = np.array(weight)\n",
    "\n",
    "print(np_height)\n",
    "print(np_weight)"
   ]
  },
  {
   "cell_type": "code",
   "execution_count": 95,
   "metadata": {},
   "outputs": [
    {
     "name": "stdout",
     "output_type": "stream",
     "text": [
      "[ 21.85171573  20.97505669  21.75028214  24.7473475   21.44127836]\n"
     ]
    }
   ],
   "source": [
    "bmi = np_weight / np_height ** 2\n",
    "print(bmi)"
   ]
  },
  {
   "cell_type": "markdown",
   "metadata": {
    "nbpresent": {
     "id": "32f97f25-de2e-4cd1-aeb8-f151b401474e"
    }
   },
   "source": [
    "### Your First NumPy Array"
   ]
  },
  {
   "cell_type": "code",
   "execution_count": 91,
   "metadata": {
    "nbpresent": {
     "id": "41c38f66-b57d-4b46-b4d3-ec47a5c285ba"
    }
   },
   "outputs": [
    {
     "name": "stdout",
     "output_type": "stream",
     "text": [
      "[180, 215, 210, 210, 188, 176, 209, 200]\n"
     ]
    }
   ],
   "source": [
    "# Create list baseball\n",
    "baseball = [180, 215, 210, 210, 188, 176, 209, 200]\n",
    "print(baseball)"
   ]
  },
  {
   "cell_type": "code",
   "execution_count": 92,
   "metadata": {},
   "outputs": [
    {
     "name": "stdout",
     "output_type": "stream",
     "text": [
      "[180 215 210 210 188 176 209 200]\n"
     ]
    }
   ],
   "source": [
    "# Import the numpy package as np\n",
    "import numpy as np\n",
    "\n",
    "# Create a Numpy array from baseball: np_baseball\n",
    "np_baseball = np.array(baseball)\n",
    "print(np_baseball)"
   ]
  },
  {
   "cell_type": "code",
   "execution_count": 93,
   "metadata": {},
   "outputs": [
    {
     "name": "stdout",
     "output_type": "stream",
     "text": [
      "<class 'numpy.ndarray'>\n"
     ]
    }
   ],
   "source": [
    "# Print out type of np_baseball\n",
    "print(type(np_baseball))"
   ]
  },
  {
   "cell_type": "markdown",
   "metadata": {
    "nbpresent": {
     "id": "07a58da3-4791-4b26-9928-3272a62e0a9e"
    }
   },
   "source": [
    "### Baseball players' height"
   ]
  },
  {
   "cell_type": "markdown",
   "metadata": {},
   "source": [
    "First, I need to get the baseball data for the class. Maybe this is cheating, but pandas makes it easy to do this. Then I will convert the height and weight from this dataframe into numpy arrays. "
   ]
  },
  {
   "cell_type": "code",
   "execution_count": 141,
   "metadata": {},
   "outputs": [
    {
     "data": {
      "text/html": [
       "<div>\n",
       "<style>\n",
       "    .dataframe thead tr:only-child th {\n",
       "        text-align: right;\n",
       "    }\n",
       "\n",
       "    .dataframe thead th {\n",
       "        text-align: left;\n",
       "    }\n",
       "\n",
       "    .dataframe tbody tr th {\n",
       "        vertical-align: top;\n",
       "    }\n",
       "</style>\n",
       "<table border=\"1\" class=\"dataframe\">\n",
       "  <thead>\n",
       "    <tr style=\"text-align: right;\">\n",
       "      <th></th>\n",
       "      <th>Name</th>\n",
       "      <th>Team</th>\n",
       "      <th>Position</th>\n",
       "      <th>Height</th>\n",
       "      <th>Weight</th>\n",
       "      <th>Age</th>\n",
       "      <th>PosCategory</th>\n",
       "    </tr>\n",
       "  </thead>\n",
       "  <tbody>\n",
       "    <tr>\n",
       "      <th>0</th>\n",
       "      <td>Adam_Donachie</td>\n",
       "      <td>BAL</td>\n",
       "      <td>Catcher</td>\n",
       "      <td>74</td>\n",
       "      <td>180</td>\n",
       "      <td>22.99</td>\n",
       "      <td>Catcher</td>\n",
       "    </tr>\n",
       "    <tr>\n",
       "      <th>1</th>\n",
       "      <td>Paul_Bako</td>\n",
       "      <td>BAL</td>\n",
       "      <td>Catcher</td>\n",
       "      <td>74</td>\n",
       "      <td>215</td>\n",
       "      <td>34.69</td>\n",
       "      <td>Catcher</td>\n",
       "    </tr>\n",
       "    <tr>\n",
       "      <th>2</th>\n",
       "      <td>Ramon_Hernandez</td>\n",
       "      <td>BAL</td>\n",
       "      <td>Catcher</td>\n",
       "      <td>72</td>\n",
       "      <td>210</td>\n",
       "      <td>30.78</td>\n",
       "      <td>Catcher</td>\n",
       "    </tr>\n",
       "    <tr>\n",
       "      <th>3</th>\n",
       "      <td>Kevin_Millar</td>\n",
       "      <td>BAL</td>\n",
       "      <td>First_Baseman</td>\n",
       "      <td>72</td>\n",
       "      <td>210</td>\n",
       "      <td>35.43</td>\n",
       "      <td>Infielder</td>\n",
       "    </tr>\n",
       "    <tr>\n",
       "      <th>4</th>\n",
       "      <td>Chris_Gomez</td>\n",
       "      <td>BAL</td>\n",
       "      <td>First_Baseman</td>\n",
       "      <td>73</td>\n",
       "      <td>188</td>\n",
       "      <td>35.71</td>\n",
       "      <td>Infielder</td>\n",
       "    </tr>\n",
       "  </tbody>\n",
       "</table>\n",
       "</div>"
      ],
      "text/plain": [
       "              Name Team       Position  Height  Weight    Age PosCategory\n",
       "0    Adam_Donachie  BAL        Catcher      74     180  22.99     Catcher\n",
       "1        Paul_Bako  BAL        Catcher      74     215  34.69     Catcher\n",
       "2  Ramon_Hernandez  BAL        Catcher      72     210  30.78     Catcher\n",
       "3     Kevin_Millar  BAL  First_Baseman      72     210  35.43   Infielder\n",
       "4      Chris_Gomez  BAL  First_Baseman      73     188  35.71   Infielder"
      ]
     },
     "execution_count": 141,
     "metadata": {},
     "output_type": "execute_result"
    }
   ],
   "source": [
    "import pandas as pd\n",
    "baseball = pd.read_csv('https://assets.datacamp.com/production/course_735/datasets/baseball.csv')\n",
    "baseball.head()\n"
   ]
  },
  {
   "cell_type": "markdown",
   "metadata": {},
   "source": [
    "In the class they provided a list of values and we call `np.array(height)` to get the numpy array. But from pandas we just need to pull the values of the Height column and it will be a numpy array. "
   ]
  },
  {
   "cell_type": "code",
   "execution_count": 123,
   "metadata": {
    "nbpresent": {
     "id": "73abba3e-d0bd-437f-bcdc-4c95c77137f7"
    }
   },
   "outputs": [
    {
     "data": {
      "text/plain": [
       "array([74, 74, 72, ..., 75, 75, 73])"
      ]
     },
     "execution_count": 123,
     "metadata": {},
     "output_type": "execute_result"
    }
   ],
   "source": [
    "# Create a Numpy array from height: np_height\n",
    "np_height = baseball['Height'].values\n",
    "\n",
    "# Print out np_height\n",
    "np_height"
   ]
  },
  {
   "cell_type": "code",
   "execution_count": 124,
   "metadata": {},
   "outputs": [
    {
     "name": "stdout",
     "output_type": "stream",
     "text": [
      "[ 1.8796  1.8796  1.8288 ...,  1.905   1.905   1.8542]\n"
     ]
    }
   ],
   "source": [
    "# Convert np_height to m: np_height_m\n",
    "np_height_m = np_height * 0.0254\n",
    "\n",
    "# Print np_height_m\n",
    "print(np_height_m)"
   ]
  },
  {
   "cell_type": "markdown",
   "metadata": {
    "nbpresent": {
     "id": "b9f682cf-4bf3-4ade-b6f5-796010c04de4"
    }
   },
   "source": [
    "### Baseball player's BMI"
   ]
  },
  {
   "cell_type": "code",
   "execution_count": 125,
   "metadata": {
    "nbpresent": {
     "id": "f7ba19a1-f561-46cb-ab53-80ec28accf84"
    }
   },
   "outputs": [
    {
     "data": {
      "text/plain": [
       "array([ 81.64656,  97.52228,  95.25432, ...,  92.98636,  86.18248,\n",
       "        88.45044])"
      ]
     },
     "execution_count": 125,
     "metadata": {},
     "output_type": "execute_result"
    }
   ],
   "source": [
    "# Create array from weight with correct units: np_weight_kg\n",
    "np_weight_kg = baseball['Weight'].values * .453592\n",
    "np_weight_kg"
   ]
  },
  {
   "cell_type": "code",
   "execution_count": 126,
   "metadata": {},
   "outputs": [
    {
     "name": "stdout",
     "output_type": "stream",
     "text": [
      "[ 23.11037639  27.60406069  28.48080465 ...,  25.62295933  23.74810865\n",
      "  25.72686361]\n"
     ]
    }
   ],
   "source": [
    "# Calculate the BMI: bmi\n",
    "bmi = np_weight_kg/np_height_m ** 2\n",
    "\n",
    "# Print out bmi\n",
    "print(bmi)"
   ]
  },
  {
   "cell_type": "markdown",
   "metadata": {
    "nbpresent": {
     "id": "4c117b07-b15a-4c36-9bad-1ce9d697cf6c"
    }
   },
   "source": [
    "### Lightweight baseball players"
   ]
  },
  {
   "cell_type": "code",
   "execution_count": 127,
   "metadata": {
    "nbpresent": {
     "id": "b5eeecbe-4ee2-4c04-8987-d5eb144224fc"
    }
   },
   "outputs": [
    {
     "name": "stdout",
     "output_type": "stream",
     "text": [
      "[False False False ..., False False False]\n",
      "[ 20.54255679  20.54255679  20.69282047  20.69282047  20.34343189\n",
      "  20.34343189  20.69282047  20.15883472  19.4984471   20.69282047\n",
      "  20.9205219 ]\n"
     ]
    }
   ],
   "source": [
    "# Create the light array\n",
    "light = bmi < 21\n",
    "\n",
    "# Print out light\n",
    "print(light)\n",
    "\n",
    "# Print out BMIs of all baseball players whose BMI is below 21\n",
    "print(bmi[light])"
   ]
  },
  {
   "cell_type": "markdown",
   "metadata": {
    "nbpresent": {
     "id": "bb1a4367-7d43-452d-a6b0-75e54f4b68db"
    }
   },
   "source": [
    "### NumPy Side Effects"
   ]
  },
  {
   "cell_type": "code",
   "execution_count": 128,
   "metadata": {
    "nbpresent": {
     "id": "737d801b-dade-48c6-a46e-0a46feeda1ea"
    }
   },
   "outputs": [
    {
     "data": {
      "text/plain": [
       "array([4, 5, 2])"
      ]
     },
     "execution_count": 128,
     "metadata": {},
     "output_type": "execute_result"
    }
   ],
   "source": [
    "np.array([True, 1, 2]) + np.array([3, 4, False])"
   ]
  },
  {
   "cell_type": "markdown",
   "metadata": {
    "nbpresent": {
     "id": "ce8be19d-a945-4759-b656-aaf56b149709"
    }
   },
   "source": [
    "### Subsetting NumPy Arrays"
   ]
  },
  {
   "cell_type": "code",
   "execution_count": 130,
   "metadata": {},
   "outputs": [
    {
     "data": {
      "text/plain": [
       "array([74, 74, 72, ..., 75, 75, 73])"
      ]
     },
     "execution_count": 130,
     "metadata": {},
     "output_type": "execute_result"
    }
   ],
   "source": [
    "printnp_height"
   ]
  },
  {
   "cell_type": "code",
   "execution_count": 134,
   "metadata": {
    "nbpresent": {
     "id": "e63fc5b1-ec49-4e8a-8fec-af4ca5100ce3"
    }
   },
   "outputs": [
    {
     "name": "stdout",
     "output_type": "stream",
     "text": [
      "[ 1.8796  1.8796  1.8288 ...,  1.905   1.905   1.8542]\n",
      "[ 81.64656  97.52228  95.25432 ...,  92.98636  86.18248  88.45044]\n",
      "90.7184\n",
      "[ 1.8542  1.8796  1.8288  1.8542  1.7526  1.8288  1.8542  1.905   1.905\n",
      "  1.8542  1.8288]\n"
     ]
    }
   ],
   "source": [
    "print(np_height_m)\n",
    "print(np_weight_kg)\n",
    "\n",
    "# Print out the weight at index 50\n",
    "print(np_weight_kg[50])\n",
    "\n",
    "# Print out sub-array of np_height: index 100 up to and including index 110\n",
    "print(np_height_m[100:111])"
   ]
  },
  {
   "cell_type": "markdown",
   "metadata": {
    "nbpresent": {
     "id": "93299b76-0f60-4c36-a12a-25bb397188ce"
    }
   },
   "source": [
    "## 2D NumPy Arrays"
   ]
  },
  {
   "cell_type": "markdown",
   "metadata": {
    "collapsed": true
   },
   "source": [
    "- The type of numpy.ndarray stands for numpy n dimensional array\n",
    "- This is like an improved list of lists\n",
    "- You can do more advanced subsetting\n",
    "- You can still only have one data type\n",
    " - np_2d[0]\n",
    " - np_2d[0][2] is same as\n",
    " - np[0,2]\n",
    " - np_2d[:, 1:3] will give you height and weight of 2nd and 3rd person\n",
    "  - This seems to work just like a matlab matrix\n",
    "  - except that it is zero indexed and the last value is not included\n",
    "  - man thats going to be hard to get used to!"
   ]
  },
  {
   "cell_type": "markdown",
   "metadata": {
    "nbpresent": {
     "id": "e2c2bd21-8492-438e-82d2-555b0a221963"
    }
   },
   "source": [
    "### Your First 2D NumPy Array"
   ]
  },
  {
   "cell_type": "code",
   "execution_count": 137,
   "metadata": {
    "nbpresent": {
     "id": "cfef4f67-44ad-4331-bee7-6fa6b41a7662"
    }
   },
   "outputs": [
    {
     "name": "stdout",
     "output_type": "stream",
     "text": [
      "<class 'numpy.ndarray'>\n",
      "(4, 2)\n",
      "[[ 180.    78.4]\n",
      " [ 215.   102.7]\n",
      " [ 210.    98.5]\n",
      " [ 188.    75.2]]\n"
     ]
    }
   ],
   "source": [
    "# Create baseball, a list of lists\n",
    "baseball = [[180, 78.4],\n",
    "            [215, 102.7],\n",
    "            [210, 98.5],\n",
    "            [188, 75.2]]\n",
    "\n",
    "# Create a 2D Numpy array from baseball: np_baseball\n",
    "np_baseball = np.array(baseball)\n",
    "\n",
    "# Print out the type of np_baseball\n",
    "print(type(np_baseball))\n",
    "\n",
    "# Print out the shape of np_baseball\n",
    "print(np_baseball.shape)\n",
    "\n",
    "print(np_baseball)"
   ]
  },
  {
   "cell_type": "markdown",
   "metadata": {
    "nbpresent": {
     "id": "5a21df5d-dbea-4de2-bb49-4be2d56b249f"
    }
   },
   "source": [
    "### Baseball data in 2D form"
   ]
  },
  {
   "cell_type": "markdown",
   "metadata": {},
   "source": [
    "Hmmm, here I actually need to make a 2d numpy array from the pandas data frame. \n",
    "In the class they give you the height and weight in a list of list and you just need to call `np.array()` on it"
   ]
  },
  {
   "cell_type": "code",
   "execution_count": 155,
   "metadata": {},
   "outputs": [
    {
     "name": "stdout",
     "output_type": "stream",
     "text": [
      "<class 'numpy.ndarray'>\n",
      "[[ 74 180]\n",
      " [ 74 215]\n",
      " [ 72 210]\n",
      " ..., \n",
      " [ 75 205]\n",
      " [ 75 190]\n",
      " [ 73 195]]\n",
      "(1015, 2)\n"
     ]
    }
   ],
   "source": [
    "baseball = pd.read_csv('https://assets.datacamp.com/production/course_735/datasets/baseball.csv')\n",
    "np_baseball = baseball[['Height','Weight']].values\n",
    "print(type(np_baseball))\n",
    "print(np_baseball)\n",
    "\n",
    "# Print out the shape of np_baseball\n",
    "print(np_baseball.shape)"
   ]
  },
  {
   "cell_type": "markdown",
   "metadata": {
    "nbpresent": {
     "id": "caa5c8c4-6df1-4d4f-b344-e91331a89a77"
    }
   },
   "source": [
    "### Subsetting 2D NumPy Arrays"
   ]
  },
  {
   "cell_type": "code",
   "execution_count": 157,
   "metadata": {
    "nbpresent": {
     "id": "211c12d2-413b-45e8-8304-208236837902"
    }
   },
   "outputs": [
    {
     "name": "stdout",
     "output_type": "stream",
     "text": [
      "[ 70 195]\n"
     ]
    }
   ],
   "source": [
    "# Print out the 50th row of np_baseball\n",
    "print(np_baseball[49])"
   ]
  },
  {
   "cell_type": "code",
   "execution_count": 158,
   "metadata": {},
   "outputs": [
    {
     "name": "stdout",
     "output_type": "stream",
     "text": [
      "[180 215 210 ..., 205 190 195]\n"
     ]
    }
   ],
   "source": [
    "# Select the entire second column of np_baseball: np_weight\n",
    "np_weight = np_baseball[:,1]\n",
    "print(np_weight)"
   ]
  },
  {
   "cell_type": "code",
   "execution_count": 159,
   "metadata": {},
   "outputs": [
    {
     "name": "stdout",
     "output_type": "stream",
     "text": [
      "75\n"
     ]
    }
   ],
   "source": [
    "# Print out height of 124th player\n",
    "print(np_baseball[123,0])"
   ]
  },
  {
   "cell_type": "markdown",
   "metadata": {
    "nbpresent": {
     "id": "66c750ae-f297-4562-9c05-2cbe77fdc013"
    }
   },
   "source": [
    "### 2D Arithmetic"
   ]
  },
  {
   "cell_type": "markdown",
   "metadata": {},
   "source": [
    "hmmm, somehow, I need to get the `updated` np array out of data camp and into here. hmmmm"
   ]
  },
  {
   "cell_type": "code",
   "execution_count": 160,
   "metadata": {
    "nbpresent": {
     "id": "45d02951-04cd-4f8b-b9d2-5dcdad88f725"
    }
   },
   "outputs": [
    {
     "ename": "NameError",
     "evalue": "name 'updated' is not defined",
     "output_type": "error",
     "traceback": [
      "\u001b[0;31m---------------------------------------------------------------------------\u001b[0m",
      "\u001b[0;31mNameError\u001b[0m                                 Traceback (most recent call last)",
      "\u001b[0;32m<ipython-input-160-4a0a44e57992>\u001b[0m in \u001b[0;36m<module>\u001b[0;34m()\u001b[0m\n\u001b[1;32m      3\u001b[0m \u001b[0;34m\u001b[0m\u001b[0m\n\u001b[1;32m      4\u001b[0m \u001b[0;31m# Print out addition of np_baseball and updated\u001b[0m\u001b[0;34m\u001b[0m\u001b[0;34m\u001b[0m\u001b[0m\n\u001b[0;32m----> 5\u001b[0;31m \u001b[0mprint\u001b[0m\u001b[0;34m(\u001b[0m\u001b[0mnp_baseball\u001b[0m \u001b[0;34m+\u001b[0m \u001b[0mupdated\u001b[0m\u001b[0;34m)\u001b[0m\u001b[0;34m\u001b[0m\u001b[0m\n\u001b[0m\u001b[1;32m      6\u001b[0m \u001b[0;34m\u001b[0m\u001b[0m\n\u001b[1;32m      7\u001b[0m \u001b[0;31m# Create Numpy array: conversion\u001b[0m\u001b[0;34m\u001b[0m\u001b[0;34m\u001b[0m\u001b[0m\n",
      "\u001b[0;31mNameError\u001b[0m: name 'updated' is not defined"
     ]
    }
   ],
   "source": [
    "# baseball is available as a regular list of lists\n",
    "# updated is available as 2D Numpy array\n",
    "\n",
    "# Print out addition of np_baseball and updated\n",
    "print(np_baseball + updated)\n",
    "\n",
    "# Create Numpy array: conversion\n",
    "conversion = np.array([0.0254, 0.453592, 1])\n",
    "\n",
    "# Print out product of np_baseball and conversion\n",
    "print(np_baseball * conversion)"
   ]
  },
  {
   "cell_type": "markdown",
   "metadata": {
    "nbpresent": {
     "id": "b7e7737c-39fd-489a-9977-a745c0148a6c"
    }
   },
   "source": [
    "## NumPy: Basic Statistics"
   ]
  },
  {
   "cell_type": "code",
   "execution_count": null,
   "metadata": {
    "collapsed": true,
    "nbpresent": {
     "id": "6056498a-7b81-45a1-b2ce-7719650749fd"
    }
   },
   "outputs": [],
   "source": []
  },
  {
   "cell_type": "markdown",
   "metadata": {
    "nbpresent": {
     "id": "0f3368a5-cc95-4808-93ce-37114debe529"
    }
   },
   "source": [
    "### Average versus median"
   ]
  },
  {
   "cell_type": "code",
   "execution_count": null,
   "metadata": {
    "collapsed": true,
    "nbpresent": {
     "id": "5484592e-9cc6-41ab-a5c9-025427377a4d"
    }
   },
   "outputs": [],
   "source": []
  },
  {
   "cell_type": "markdown",
   "metadata": {
    "nbpresent": {
     "id": "be44453d-3352-45ca-953c-930a582780e9"
    }
   },
   "source": [
    "### Explore the baseball data"
   ]
  },
  {
   "cell_type": "code",
   "execution_count": null,
   "metadata": {
    "collapsed": true,
    "nbpresent": {
     "id": "5fdf323f-f867-4864-9093-37b3893924bc"
    }
   },
   "outputs": [],
   "source": []
  },
  {
   "cell_type": "markdown",
   "metadata": {
    "nbpresent": {
     "id": "0ea4d144-17c1-4a89-a056-fab8ce049cbb"
    }
   },
   "source": [
    "### Blend it all together"
   ]
  },
  {
   "cell_type": "code",
   "execution_count": null,
   "metadata": {
    "collapsed": true,
    "nbpresent": {
     "id": "87f570f6-96ea-4067-bc1e-2f9c43164bdd"
    }
   },
   "outputs": [],
   "source": []
  }
 ],
 "metadata": {
  "kernelspec": {
   "display_name": "Python [default]",
   "language": "python",
   "name": "python3"
  },
  "language_info": {
   "codemirror_mode": {
    "name": "ipython",
    "version": 3
   },
   "file_extension": ".py",
   "mimetype": "text/x-python",
   "name": "python",
   "nbconvert_exporter": "python",
   "pygments_lexer": "ipython3",
   "version": "3.6.3"
  }
 },
 "nbformat": 4,
 "nbformat_minor": 2
}
